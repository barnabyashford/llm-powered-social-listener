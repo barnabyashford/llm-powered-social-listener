{
  "cells": [
    {
      "cell_type": "markdown",
      "metadata": {
        "id": "view-in-github",
        "colab_type": "text"
      },
      "source": [
        "<a href=\"https://colab.research.google.com/github/barnabyashford/llm-powered-social-listener/blob/main/TestsetGeneration.ipynb\" target=\"_parent\"><img src=\"https://colab.research.google.com/assets/colab-badge.svg\" alt=\"Open In Colab\"/></a>"
      ]
    },
    {
      "cell_type": "markdown",
      "id": "8d326e70",
      "metadata": {
        "id": "8d326e70"
      },
      "source": [
        "# **LLM Project: Test data creation pipeline**"
      ]
    },
    {
      "cell_type": "code",
      "execution_count": null,
      "id": "4dbb8363",
      "metadata": {
        "colab": {
          "base_uri": "https://localhost:8080/"
        },
        "id": "4dbb8363",
        "outputId": "64fad955-4559-4b9b-ed26-0196b814d1cc"
      },
      "outputs": [
        {
          "output_type": "stream",
          "name": "stdout",
          "text": [
            "Requirement already satisfied: tqdm in /usr/local/lib/python3.11/dist-packages (4.67.1)\n",
            "Collecting gtts\n",
            "  Downloading gTTS-2.5.4-py3-none-any.whl.metadata (4.1 kB)\n",
            "Collecting playsound\n",
            "  Downloading playsound-1.3.0.tar.gz (7.7 kB)\n",
            "  Preparing metadata (setup.py) ... \u001b[?25l\u001b[?25hdone\n",
            "Requirement already satisfied: requests<3,>=2.27 in /usr/local/lib/python3.11/dist-packages (from gtts) (2.32.3)\n",
            "Requirement already satisfied: click<8.2,>=7.1 in /usr/local/lib/python3.11/dist-packages (from gtts) (8.1.8)\n",
            "Requirement already satisfied: charset-normalizer<4,>=2 in /usr/local/lib/python3.11/dist-packages (from requests<3,>=2.27->gtts) (3.4.1)\n",
            "Requirement already satisfied: idna<4,>=2.5 in /usr/local/lib/python3.11/dist-packages (from requests<3,>=2.27->gtts) (3.10)\n",
            "Requirement already satisfied: urllib3<3,>=1.21.1 in /usr/local/lib/python3.11/dist-packages (from requests<3,>=2.27->gtts) (2.3.0)\n",
            "Requirement already satisfied: certifi>=2017.4.17 in /usr/local/lib/python3.11/dist-packages (from requests<3,>=2.27->gtts) (2025.1.31)\n",
            "Downloading gTTS-2.5.4-py3-none-any.whl (29 kB)\n",
            "Building wheels for collected packages: playsound\n",
            "  Building wheel for playsound (setup.py) ... \u001b[?25l\u001b[?25hdone\n",
            "  Created wheel for playsound: filename=playsound-1.3.0-py3-none-any.whl size=7020 sha256=3ff84967955ff156dfe5912fc5ac7f76f29405735918721ec84609518afae8fa\n",
            "  Stored in directory: /root/.cache/pip/wheels/50/98/42/62753a9e1fb97579a0ce2f84f7db4c21c09d03bb2091e6cef4\n",
            "Successfully built playsound\n",
            "Installing collected packages: playsound, gtts\n",
            "Successfully installed gtts-2.5.4 playsound-1.3.0\n"
          ]
        }
      ],
      "source": [
        "%pip install tqdm gtts playsound"
      ]
    },
    {
      "cell_type": "code",
      "execution_count": null,
      "id": "08102689",
      "metadata": {
        "colab": {
          "base_uri": "https://localhost:8080/"
        },
        "id": "08102689",
        "outputId": "1ba51321-3a0c-4f8e-9e18-5b6e2928c9f8"
      },
      "outputs": [
        {
          "output_type": "stream",
          "name": "stderr",
          "text": [
            "WARNING:playsound:playsound is relying on another python subprocess. Please use `pip install pygobject` if you want playsound to run more efficiently.\n"
          ]
        }
      ],
      "source": [
        "import json\n",
        "from gtts import gTTS\n",
        "from playsound import playsound\n",
        "from itertools import islice\n",
        "import os\n",
        "from datetime import datetime\n",
        "import pytz\n",
        "import pandas as pd\n",
        "import re\n",
        "from tqdm.notebook import tqdm\n",
        "import pprint"
      ]
    },
    {
      "cell_type": "code",
      "source": [
        "import google.generativeai as genai\n",
        "from google.genai import types\n",
        "from google.colab import userdata\n",
        "import pandas as pd\n",
        "import time\n",
        "from tqdm.notebook import tqdm\n",
        "from google.api_core import retry\n",
        "\n",
        "# GEMINI_API_KEY = userdata.get('GOOGLE_API_KEY')\n",
        "SPARE_GEMINI_API_KEY = userdata.get('SPARE_GEMINI_API_KEY')\n",
        "\n",
        "# genai.configure(api_key=GEMINI_API_KEY)\n",
        "genai.configure(api_key=SPARE_GEMINI_API_KEY)\n",
        "generation_config = genai.GenerationConfig(\n",
        "        temperature=0,\n",
        ")\n",
        "llm = genai.GenerativeModel(\"gemini-2.0-flash\", generation_config=generation_config)\n",
        "\n",
        "# Catch transient Gemini errors.\n",
        "def is_retryable(e) -> bool:\n",
        "    if retry.if_transient_error(e):\n",
        "        # Good practice, but probably won't fire with the google-genai SDK\n",
        "        return True\n",
        "    elif (isinstance(e, genai.errors.ClientError) and e.code == 429):\n",
        "        # Catch 429 quota exceeded errors\n",
        "        return True\n",
        "    elif (isinstance(e, genai.errors.ServerError) and e.code == 503):\n",
        "        # Catch 503 model overloaded errors\n",
        "        return True\n",
        "    else:\n",
        "        return False\n",
        "\n",
        "@retry.Retry(predicate=is_retryable)\n",
        "def generate_content_with_rate_limit(prompt):\n",
        "  return llm.generate_content(prompt).text"
      ],
      "metadata": {
        "id": "azG4N9bvwlxG"
      },
      "id": "azG4N9bvwlxG",
      "execution_count": 1,
      "outputs": []
    },
    {
      "cell_type": "code",
      "execution_count": null,
      "id": "c8201da8",
      "metadata": {
        "id": "c8201da8"
      },
      "outputs": [],
      "source": [
        "submission_path = r\"C:\\Users\\growt\\Downloads\\reddit\\submissions\\RS_2018-10\" # submissions\n",
        "comment_path = r\"C:\\Users\\growt\\Downloads\\reddit\\comments\\RC_2018-10\" # comments\n",
        "\n",
        "save_dir = r\"C:\\Users\\growt\\OneDrive\\เดสก์ท็อป\\UFCLESGOO\""
      ]
    },
    {
      "cell_type": "code",
      "execution_count": null,
      "id": "cf929644",
      "metadata": {
        "id": "cf929644"
      },
      "outputs": [],
      "source": [
        "def play_finish_sound():\n",
        "  finished = gTTS(text=\"kansei itashimashita\", lang=\"ja\", slow=False)\n",
        "  finished.save(\"finished.mp3\")\n",
        "  playsound(\"finished.mp3\")\n",
        "  os.remove(\"finished.mp3\")"
      ]
    },
    {
      "cell_type": "markdown",
      "id": "8c471889",
      "metadata": {
        "id": "8c471889"
      },
      "source": [
        "## **Submission filtering**\n",
        "\n",
        "Here we filter all submissions from `r/ufc` in the month of October 2018 for submissions mentioning Khabib and Conor McGregor using simple keyword search. As we need opinion of people ***after*** the match, we also need to filter, not only on submission text `selftext`, but also `created_utc` as well."
      ]
    },
    {
      "cell_type": "code",
      "execution_count": null,
      "id": "773cd6f1",
      "metadata": {
        "id": "773cd6f1",
        "outputId": "c9f544be-5c04-4030-8b0a-4f97709ba5d6"
      },
      "outputs": [
        {
          "name": "stdout",
          "output_type": "stream",
          "text": [
            "Target timestamp: 1538886600.0 : 2018-10-07 04:30:00+00:00\n"
          ]
        }
      ],
      "source": [
        "save_filename = \"ufc_submissions.jsonl\"\n",
        "\n",
        "target_datetime_utc = datetime(2018, 10, 7, 4, 30, 0, tzinfo=pytz.utc) # 2018-10-07 04:30:00 UTC, the end of the UFC 229 fight\n",
        "target_timestamp = target_datetime_utc.timestamp()\n",
        "\n",
        "print(f\"Target timestamp: {target_timestamp} : {target_datetime_utc}\")\n",
        "\n",
        "after_target_datetime_count = 0"
      ]
    },
    {
      "cell_type": "code",
      "execution_count": null,
      "id": "4cea5813",
      "metadata": {
        "id": "4cea5813",
        "outputId": "004ed592-9691-4ea5-dd34-828e3215bca4"
      },
      "outputs": [
        {
          "name": "stderr",
          "output_type": "stream",
          "text": [
            "Processing submissions: 2781129it [01:09, 38556.28it/s]"
          ]
        },
        {
          "name": "stdout",
          "output_type": "stream",
          "text": [
            "found ufc submission about khabib vs conor match\n",
            "found ufc submission about khabib vs conor match\n",
            "found ufc submission about khabib vs conor match\n",
            "found ufc submission about khabib vs conor match\n",
            "found ufc submission about khabib vs conor match\n",
            "found ufc submission about khabib vs conor match\n",
            "found ufc submission about khabib vs conor match\n",
            "found ufc submission about khabib vs conor match\n",
            "found ufc submission about khabib vs conor match\n",
            "found ufc submission about khabib vs conor match\n",
            "found ufc submission about khabib vs conor match\n",
            "found ufc submission about khabib vs conor match\n",
            "found ufc submission about khabib vs conor match\n",
            "found ufc submission about khabib vs conor match\n",
            "found ufc submission about khabib vs conor match\n",
            "found ufc submission about khabib vs conor match\n",
            "found ufc submission about khabib vs conor match\n",
            "found ufc submission about khabib vs conor match\n",
            "found ufc submission about khabib vs conor match\n",
            "found ufc submission about khabib vs conor match\n",
            "found ufc submission about khabib vs conor match\n",
            "found ufc submission about khabib vs conor match\n",
            "found ufc submission about khabib vs conor match\n",
            "found ufc submission about khabib vs conor match\n",
            "found ufc submission about khabib vs conor match\n",
            "found ufc submission about khabib vs conor match\n"
          ]
        },
        {
          "name": "stderr",
          "output_type": "stream",
          "text": [
            "Processing submissions: 2788914it [01:10, 38106.61it/s]"
          ]
        },
        {
          "name": "stdout",
          "output_type": "stream",
          "text": [
            "found ufc submission about khabib vs conor match\n",
            "found ufc submission about khabib vs conor match\n",
            "found ufc submission about khabib vs conor match\n",
            "found ufc submission about khabib vs conor match\n",
            "found ufc submission about khabib vs conor match\n",
            "found ufc submission about khabib vs conor match\n",
            "found ufc submission about khabib vs conor match\n",
            "found ufc submission about khabib vs conor match\n",
            "found ufc submission about khabib vs conor match\n",
            "found ufc submission about khabib vs conor match\n",
            "found ufc submission about khabib vs conor match\n",
            "found ufc submission about khabib vs conor match\n",
            "found ufc submission about khabib vs conor match\n",
            "found ufc submission about khabib vs conor match\n",
            "found ufc submission about khabib vs conor match\n",
            "found ufc submission about khabib vs conor match\n",
            "found ufc submission about khabib vs conor match\n",
            "found ufc submission about khabib vs conor match\n"
          ]
        },
        {
          "name": "stderr",
          "output_type": "stream",
          "text": [
            "Processing submissions: 2796715it [01:10, 38391.83it/s]"
          ]
        },
        {
          "name": "stdout",
          "output_type": "stream",
          "text": [
            "found ufc submission about khabib vs conor match\n",
            "found ufc submission about khabib vs conor match\n",
            "found ufc submission about khabib vs conor match\n"
          ]
        },
        {
          "name": "stderr",
          "output_type": "stream",
          "text": [
            "Processing submissions: 2808459it [01:10, 36928.62it/s]"
          ]
        },
        {
          "name": "stdout",
          "output_type": "stream",
          "text": [
            "found ufc submission about khabib vs conor match\n",
            "found ufc submission about khabib vs conor match\n",
            "found ufc submission about khabib vs conor match\n",
            "found ufc submission about khabib vs conor match\n"
          ]
        },
        {
          "name": "stderr",
          "output_type": "stream",
          "text": [
            "Processing submissions: 2820301it [01:10, 38399.15it/s]"
          ]
        },
        {
          "name": "stdout",
          "output_type": "stream",
          "text": [
            "found ufc submission about khabib vs conor match\n",
            "found ufc submission about khabib vs conor match\n",
            "found ufc submission about khabib vs conor match\n",
            "found ufc submission about khabib vs conor match\n",
            "found ufc submission about khabib vs conor match\n"
          ]
        },
        {
          "name": "stderr",
          "output_type": "stream",
          "text": [
            "Processing submissions: 2828192it [01:11, 38828.00it/s]"
          ]
        },
        {
          "name": "stdout",
          "output_type": "stream",
          "text": [
            "found ufc submission about khabib vs conor match\n",
            "found ufc submission about khabib vs conor match\n"
          ]
        },
        {
          "name": "stderr",
          "output_type": "stream",
          "text": [
            "Processing submissions: 2840052it [01:11, 39233.21it/s]"
          ]
        },
        {
          "name": "stdout",
          "output_type": "stream",
          "text": [
            "found ufc submission about khabib vs conor match\n",
            "found ufc submission about khabib vs conor match\n",
            "found ufc submission about khabib vs conor match\n",
            "found ufc submission about khabib vs conor match\n"
          ]
        },
        {
          "name": "stderr",
          "output_type": "stream",
          "text": [
            "Processing submissions: 2847874it [01:11, 38770.27it/s]"
          ]
        },
        {
          "name": "stdout",
          "output_type": "stream",
          "text": [
            "found ufc submission about khabib vs conor match\n",
            "found ufc submission about khabib vs conor match\n",
            "found ufc submission about khabib vs conor match\n"
          ]
        },
        {
          "name": "stderr",
          "output_type": "stream",
          "text": [
            "Processing submissions: 2859509it [01:11, 38429.75it/s]"
          ]
        },
        {
          "name": "stdout",
          "output_type": "stream",
          "text": [
            "found ufc submission about khabib vs conor match\n",
            "found ufc submission about khabib vs conor match\n",
            "found ufc submission about khabib vs conor match\n",
            "found ufc submission about khabib vs conor match\n"
          ]
        },
        {
          "name": "stderr",
          "output_type": "stream",
          "text": [
            "Processing submissions: 2870988it [01:12, 38017.79it/s]"
          ]
        },
        {
          "name": "stdout",
          "output_type": "stream",
          "text": [
            "found ufc submission about khabib vs conor match\n",
            "found ufc submission about khabib vs conor match\n"
          ]
        },
        {
          "name": "stderr",
          "output_type": "stream",
          "text": [
            "Processing submissions: 2886769it [01:12, 39107.32it/s]"
          ]
        },
        {
          "name": "stdout",
          "output_type": "stream",
          "text": [
            "found ufc submission about khabib vs conor match\n",
            "found ufc submission about khabib vs conor match\n"
          ]
        },
        {
          "name": "stderr",
          "output_type": "stream",
          "text": [
            "Processing submissions: 2894618it [01:12, 39112.97it/s]"
          ]
        },
        {
          "name": "stdout",
          "output_type": "stream",
          "text": [
            "found ufc submission about khabib vs conor match\n",
            "found ufc submission about khabib vs conor match\n"
          ]
        },
        {
          "name": "stderr",
          "output_type": "stream",
          "text": [
            "Processing submissions: 2914250it [01:13, 38488.53it/s]"
          ]
        },
        {
          "name": "stdout",
          "output_type": "stream",
          "text": [
            "found ufc submission about khabib vs conor match\n",
            "found ufc submission about khabib vs conor match\n"
          ]
        },
        {
          "name": "stderr",
          "output_type": "stream",
          "text": [
            "Processing submissions: 2926027it [01:13, 38476.94it/s]"
          ]
        },
        {
          "name": "stdout",
          "output_type": "stream",
          "text": [
            "found ufc submission about khabib vs conor match\n",
            "found ufc submission about khabib vs conor match\n",
            "found ufc submission about khabib vs conor match\n",
            "found ufc submission about khabib vs conor match\n"
          ]
        },
        {
          "name": "stderr",
          "output_type": "stream",
          "text": [
            "Processing submissions: 2945757it [01:14, 38740.55it/s]"
          ]
        },
        {
          "name": "stdout",
          "output_type": "stream",
          "text": [
            "found ufc submission about khabib vs conor match\n",
            "found ufc submission about khabib vs conor match\n",
            "found ufc submission about khabib vs conor match\n",
            "found ufc submission about khabib vs conor match\n",
            "found ufc submission about khabib vs conor match\n"
          ]
        },
        {
          "name": "stderr",
          "output_type": "stream",
          "text": [
            "Processing submissions: 2957287it [01:14, 38044.19it/s]"
          ]
        },
        {
          "name": "stdout",
          "output_type": "stream",
          "text": [
            "found ufc submission about khabib vs conor match\n",
            "found ufc submission about khabib vs conor match\n",
            "found ufc submission about khabib vs conor match\n"
          ]
        },
        {
          "name": "stderr",
          "output_type": "stream",
          "text": [
            "Processing submissions: 2968730it [01:14, 38017.89it/s]"
          ]
        },
        {
          "name": "stdout",
          "output_type": "stream",
          "text": [
            "found ufc submission about khabib vs conor match\n",
            "found ufc submission about khabib vs conor match\n"
          ]
        },
        {
          "name": "stderr",
          "output_type": "stream",
          "text": [
            "Processing submissions: 2980273it [01:15, 37952.77it/s]"
          ]
        },
        {
          "name": "stdout",
          "output_type": "stream",
          "text": [
            "found ufc submission about khabib vs conor match\n",
            "found ufc submission about khabib vs conor match\n"
          ]
        },
        {
          "name": "stderr",
          "output_type": "stream",
          "text": [
            "Processing submissions: 2987954it [01:15, 38038.06it/s]"
          ]
        },
        {
          "name": "stdout",
          "output_type": "stream",
          "text": [
            "found ufc submission about khabib vs conor match\n"
          ]
        },
        {
          "name": "stderr",
          "output_type": "stream",
          "text": [
            "Processing submissions: 2999580it [01:15, 38577.12it/s]"
          ]
        },
        {
          "name": "stdout",
          "output_type": "stream",
          "text": [
            "found ufc submission about khabib vs conor match\n",
            "found ufc submission about khabib vs conor match\n",
            "found ufc submission about khabib vs conor match\n"
          ]
        },
        {
          "name": "stderr",
          "output_type": "stream",
          "text": [
            "Processing submissions: 3018698it [01:16, 37216.27it/s]"
          ]
        },
        {
          "name": "stdout",
          "output_type": "stream",
          "text": [
            "found ufc submission about khabib vs conor match\n"
          ]
        },
        {
          "name": "stderr",
          "output_type": "stream",
          "text": [
            "Processing submissions: 3033737it [01:16, 37431.50it/s]"
          ]
        },
        {
          "name": "stdout",
          "output_type": "stream",
          "text": [
            "found ufc submission about khabib vs conor match\n",
            "found ufc submission about khabib vs conor match\n"
          ]
        },
        {
          "name": "stderr",
          "output_type": "stream",
          "text": [
            "Processing submissions: 3041384it [01:16, 37492.44it/s]"
          ]
        },
        {
          "name": "stdout",
          "output_type": "stream",
          "text": [
            "found ufc submission about khabib vs conor match\n",
            "found ufc submission about khabib vs conor match\n"
          ]
        },
        {
          "name": "stderr",
          "output_type": "stream",
          "text": [
            "Processing submissions: 3064413it [01:17, 38199.83it/s]"
          ]
        },
        {
          "name": "stdout",
          "output_type": "stream",
          "text": [
            "found ufc submission about khabib vs conor match\n"
          ]
        },
        {
          "name": "stderr",
          "output_type": "stream",
          "text": [
            "Processing submissions: 3083769it [01:17, 37258.22it/s]"
          ]
        },
        {
          "name": "stdout",
          "output_type": "stream",
          "text": [
            "found ufc submission about khabib vs conor match\n",
            "found ufc submission about khabib vs conor match\n",
            "found ufc submission about khabib vs conor match\n"
          ]
        },
        {
          "name": "stderr",
          "output_type": "stream",
          "text": [
            "Processing submissions: 3091700it [01:18, 38389.16it/s]"
          ]
        },
        {
          "name": "stdout",
          "output_type": "stream",
          "text": [
            "found ufc submission about khabib vs conor match\n",
            "found ufc submission about khabib vs conor match\n"
          ]
        },
        {
          "name": "stderr",
          "output_type": "stream",
          "text": [
            "Processing submissions: 3111587it [01:18, 39469.12it/s]"
          ]
        },
        {
          "name": "stdout",
          "output_type": "stream",
          "text": [
            "found ufc submission about khabib vs conor match\n",
            "found ufc submission about khabib vs conor match\n",
            "found ufc submission about khabib vs conor match\n"
          ]
        },
        {
          "name": "stderr",
          "output_type": "stream",
          "text": [
            "Processing submissions: 3135566it [01:19, 39949.27it/s]"
          ]
        },
        {
          "name": "stdout",
          "output_type": "stream",
          "text": [
            "found ufc submission about khabib vs conor match\n"
          ]
        },
        {
          "name": "stderr",
          "output_type": "stream",
          "text": [
            "Processing submissions: 3143653it [01:19, 40053.06it/s]"
          ]
        },
        {
          "name": "stdout",
          "output_type": "stream",
          "text": [
            "found ufc submission about khabib vs conor match\n"
          ]
        },
        {
          "name": "stderr",
          "output_type": "stream",
          "text": [
            "Processing submissions: 3163280it [01:19, 37679.43it/s]"
          ]
        },
        {
          "name": "stdout",
          "output_type": "stream",
          "text": [
            "found ufc submission about khabib vs conor match\n"
          ]
        },
        {
          "name": "stderr",
          "output_type": "stream",
          "text": [
            "Processing submissions: 3182727it [01:20, 38704.03it/s]"
          ]
        },
        {
          "name": "stdout",
          "output_type": "stream",
          "text": [
            "found ufc submission about khabib vs conor match\n",
            "found ufc submission about khabib vs conor match\n"
          ]
        },
        {
          "name": "stderr",
          "output_type": "stream",
          "text": [
            "Processing submissions: 3190523it [01:20, 37261.19it/s]"
          ]
        },
        {
          "name": "stdout",
          "output_type": "stream",
          "text": [
            "found ufc submission about khabib vs conor match\n"
          ]
        },
        {
          "name": "stderr",
          "output_type": "stream",
          "text": [
            "Processing submissions: 3198180it [01:20, 34461.55it/s]"
          ]
        },
        {
          "name": "stdout",
          "output_type": "stream",
          "text": [
            "found ufc submission about khabib vs conor match\n"
          ]
        },
        {
          "name": "stderr",
          "output_type": "stream",
          "text": [
            "Processing submissions: 3218250it [01:21, 39024.50it/s]"
          ]
        },
        {
          "name": "stdout",
          "output_type": "stream",
          "text": [
            "found ufc submission about khabib vs conor match\n"
          ]
        },
        {
          "name": "stderr",
          "output_type": "stream",
          "text": [
            "Processing submissions: 3230070it [01:21, 39001.69it/s]"
          ]
        },
        {
          "name": "stdout",
          "output_type": "stream",
          "text": [
            "found ufc submission about khabib vs conor match\n"
          ]
        },
        {
          "name": "stderr",
          "output_type": "stream",
          "text": [
            "Processing submissions: 3241754it [01:21, 38129.92it/s]"
          ]
        },
        {
          "name": "stdout",
          "output_type": "stream",
          "text": [
            "found ufc submission about khabib vs conor match\n",
            "found ufc submission about khabib vs conor match\n"
          ]
        },
        {
          "name": "stderr",
          "output_type": "stream",
          "text": [
            "Processing submissions: 3249406it [01:22, 35579.88it/s]"
          ]
        },
        {
          "name": "stdout",
          "output_type": "stream",
          "text": [
            "found ufc submission about khabib vs conor match\n"
          ]
        },
        {
          "name": "stderr",
          "output_type": "stream",
          "text": [
            "Processing submissions: 3264567it [01:22, 37456.90it/s]"
          ]
        },
        {
          "name": "stdout",
          "output_type": "stream",
          "text": [
            "found ufc submission about khabib vs conor match\n",
            "found ufc submission about khabib vs conor match\n"
          ]
        },
        {
          "name": "stderr",
          "output_type": "stream",
          "text": [
            "Processing submissions: 3295059it [01:23, 37548.08it/s]"
          ]
        },
        {
          "name": "stdout",
          "output_type": "stream",
          "text": [
            "found ufc submission about khabib vs conor match\n"
          ]
        },
        {
          "name": "stderr",
          "output_type": "stream",
          "text": [
            "Processing submissions: 3328615it [01:24, 36375.97it/s]"
          ]
        },
        {
          "name": "stdout",
          "output_type": "stream",
          "text": [
            "found ufc submission about khabib vs conor match\n",
            "found ufc submission about khabib vs conor match\n"
          ]
        },
        {
          "name": "stderr",
          "output_type": "stream",
          "text": [
            "Processing submissions: 3343460it [01:24, 36699.45it/s]"
          ]
        },
        {
          "name": "stdout",
          "output_type": "stream",
          "text": [
            "found ufc submission about khabib vs conor match\n"
          ]
        },
        {
          "name": "stderr",
          "output_type": "stream",
          "text": [
            "Processing submissions: 3350781it [01:24, 36380.50it/s]"
          ]
        },
        {
          "name": "stdout",
          "output_type": "stream",
          "text": [
            "found ufc submission about khabib vs conor match\n"
          ]
        },
        {
          "name": "stderr",
          "output_type": "stream",
          "text": [
            "Processing submissions: 3358070it [01:25, 36311.97it/s]"
          ]
        },
        {
          "name": "stdout",
          "output_type": "stream",
          "text": [
            "found ufc submission about khabib vs conor match\n"
          ]
        },
        {
          "name": "stderr",
          "output_type": "stream",
          "text": [
            "Processing submissions: 3369530it [01:25, 37458.50it/s]"
          ]
        },
        {
          "name": "stdout",
          "output_type": "stream",
          "text": [
            "found ufc submission about khabib vs conor match\n",
            "found ufc submission about khabib vs conor match\n"
          ]
        },
        {
          "name": "stderr",
          "output_type": "stream",
          "text": [
            "Processing submissions: 3419723it [01:26, 38104.65it/s]"
          ]
        },
        {
          "name": "stdout",
          "output_type": "stream",
          "text": [
            "found ufc submission about khabib vs conor match\n",
            "found ufc submission about khabib vs conor match\n",
            "found ufc submission about khabib vs conor match\n"
          ]
        },
        {
          "name": "stderr",
          "output_type": "stream",
          "text": [
            "Processing submissions: 3431311it [01:27, 38472.01it/s]"
          ]
        },
        {
          "name": "stdout",
          "output_type": "stream",
          "text": [
            "found ufc submission about khabib vs conor match\n"
          ]
        },
        {
          "name": "stderr",
          "output_type": "stream",
          "text": [
            "Processing submissions: 3446725it [01:27, 36561.21it/s]"
          ]
        },
        {
          "name": "stdout",
          "output_type": "stream",
          "text": [
            "found ufc submission about khabib vs conor match\n"
          ]
        },
        {
          "name": "stderr",
          "output_type": "stream",
          "text": [
            "Processing submissions: 3462167it [01:27, 37969.48it/s]"
          ]
        },
        {
          "name": "stdout",
          "output_type": "stream",
          "text": [
            "found ufc submission about khabib vs conor match\n"
          ]
        },
        {
          "name": "stderr",
          "output_type": "stream",
          "text": [
            "Processing submissions: 3485647it [01:28, 38821.96it/s]"
          ]
        },
        {
          "name": "stdout",
          "output_type": "stream",
          "text": [
            "found ufc submission about khabib vs conor match\n",
            "found ufc submission about khabib vs conor match\n"
          ]
        },
        {
          "name": "stderr",
          "output_type": "stream",
          "text": [
            "Processing submissions: 3501291it [01:28, 38819.79it/s]"
          ]
        },
        {
          "name": "stdout",
          "output_type": "stream",
          "text": [
            "found ufc submission about khabib vs conor match\n",
            "found ufc submission about khabib vs conor match\n"
          ]
        },
        {
          "name": "stderr",
          "output_type": "stream",
          "text": [
            "Processing submissions: 3509033it [01:29, 38116.90it/s]"
          ]
        },
        {
          "name": "stdout",
          "output_type": "stream",
          "text": [
            "found ufc submission about khabib vs conor match\n"
          ]
        },
        {
          "name": "stderr",
          "output_type": "stream",
          "text": [
            "Processing submissions: 3539741it [01:29, 38069.08it/s]"
          ]
        },
        {
          "name": "stdout",
          "output_type": "stream",
          "text": [
            "found ufc submission about khabib vs conor match\n",
            "found ufc submission about khabib vs conor match\n"
          ]
        },
        {
          "name": "stderr",
          "output_type": "stream",
          "text": [
            "Processing submissions: 3601839it [01:31, 38184.74it/s]"
          ]
        },
        {
          "name": "stdout",
          "output_type": "stream",
          "text": [
            "found ufc submission about khabib vs conor match\n"
          ]
        },
        {
          "name": "stderr",
          "output_type": "stream",
          "text": [
            "Processing submissions: 3621185it [01:32, 38399.84it/s]"
          ]
        },
        {
          "name": "stdout",
          "output_type": "stream",
          "text": [
            "found ufc submission about khabib vs conor match\n"
          ]
        },
        {
          "name": "stderr",
          "output_type": "stream",
          "text": [
            "Processing submissions: 3656656it [01:33, 39143.90it/s]"
          ]
        },
        {
          "name": "stdout",
          "output_type": "stream",
          "text": [
            "found ufc submission about khabib vs conor match\n"
          ]
        },
        {
          "name": "stderr",
          "output_type": "stream",
          "text": [
            "Processing submissions: 3724311it [01:34, 39145.61it/s]"
          ]
        },
        {
          "name": "stdout",
          "output_type": "stream",
          "text": [
            "found ufc submission about khabib vs conor match\n"
          ]
        },
        {
          "name": "stderr",
          "output_type": "stream",
          "text": [
            "Processing submissions: 3732158it [01:34, 39057.65it/s]"
          ]
        },
        {
          "name": "stdout",
          "output_type": "stream",
          "text": [
            "found ufc submission about khabib vs conor match\n"
          ]
        },
        {
          "name": "stderr",
          "output_type": "stream",
          "text": [
            "Processing submissions: 3744032it [01:35, 39343.18it/s]"
          ]
        },
        {
          "name": "stdout",
          "output_type": "stream",
          "text": [
            "found ufc submission about khabib vs conor match\n"
          ]
        },
        {
          "name": "stderr",
          "output_type": "stream",
          "text": [
            "Processing submissions: 3791589it [01:36, 39991.64it/s]"
          ]
        },
        {
          "name": "stdout",
          "output_type": "stream",
          "text": [
            "found ufc submission about khabib vs conor match\n"
          ]
        },
        {
          "name": "stderr",
          "output_type": "stream",
          "text": [
            "Processing submissions: 3807561it [01:36, 39701.78it/s]"
          ]
        },
        {
          "name": "stdout",
          "output_type": "stream",
          "text": [
            "found ufc submission about khabib vs conor match\n"
          ]
        },
        {
          "name": "stderr",
          "output_type": "stream",
          "text": [
            "Processing submissions: 3874646it [01:38, 38810.74it/s]"
          ]
        },
        {
          "name": "stdout",
          "output_type": "stream",
          "text": [
            "found ufc submission about khabib vs conor match\n"
          ]
        },
        {
          "name": "stderr",
          "output_type": "stream",
          "text": [
            "Processing submissions: 3917965it [01:39, 35901.22it/s]"
          ]
        },
        {
          "name": "stdout",
          "output_type": "stream",
          "text": [
            "found ufc submission about khabib vs conor match\n"
          ]
        },
        {
          "name": "stderr",
          "output_type": "stream",
          "text": [
            "Processing submissions: 3937561it [01:40, 38530.26it/s]"
          ]
        },
        {
          "name": "stdout",
          "output_type": "stream",
          "text": [
            "found ufc submission about khabib vs conor match\n",
            "found ufc submission about khabib vs conor match\n"
          ]
        },
        {
          "name": "stderr",
          "output_type": "stream",
          "text": [
            "Processing submissions: 3961444it [01:40, 38901.16it/s]"
          ]
        },
        {
          "name": "stdout",
          "output_type": "stream",
          "text": [
            "found ufc submission about khabib vs conor match\n"
          ]
        },
        {
          "name": "stderr",
          "output_type": "stream",
          "text": [
            "Processing submissions: 3989490it [01:41, 39752.81it/s]"
          ]
        },
        {
          "name": "stdout",
          "output_type": "stream",
          "text": [
            "found ufc submission about khabib vs conor match\n",
            "found ufc submission about khabib vs conor match\n",
            "found ufc submission about khabib vs conor match\n"
          ]
        },
        {
          "name": "stderr",
          "output_type": "stream",
          "text": [
            "Processing submissions: 4058581it [01:43, 40820.81it/s]"
          ]
        },
        {
          "name": "stdout",
          "output_type": "stream",
          "text": [
            "found ufc submission about khabib vs conor match\n",
            "found ufc submission about khabib vs conor match\n"
          ]
        },
        {
          "name": "stderr",
          "output_type": "stream",
          "text": [
            "Processing submissions: 4074835it [01:43, 40035.77it/s]"
          ]
        },
        {
          "name": "stdout",
          "output_type": "stream",
          "text": [
            "found ufc submission about khabib vs conor match\n",
            "found ufc submission about khabib vs conor match\n"
          ]
        },
        {
          "name": "stderr",
          "output_type": "stream",
          "text": [
            "Processing submissions: 4165244it [01:45, 40604.87it/s]"
          ]
        },
        {
          "name": "stdout",
          "output_type": "stream",
          "text": [
            "found ufc submission about khabib vs conor match\n"
          ]
        },
        {
          "name": "stderr",
          "output_type": "stream",
          "text": [
            "Processing submissions: 4173329it [01:46, 36608.48it/s]"
          ]
        },
        {
          "name": "stdout",
          "output_type": "stream",
          "text": [
            "found ufc submission about khabib vs conor match\n",
            "found ufc submission about khabib vs conor match\n"
          ]
        },
        {
          "name": "stderr",
          "output_type": "stream",
          "text": [
            "Processing submissions: 4209096it [01:47, 39371.04it/s]"
          ]
        },
        {
          "name": "stdout",
          "output_type": "stream",
          "text": [
            "found ufc submission about khabib vs conor match\n"
          ]
        },
        {
          "name": "stderr",
          "output_type": "stream",
          "text": [
            "Processing submissions: 4434289it [01:52, 40408.05it/s]"
          ]
        },
        {
          "name": "stdout",
          "output_type": "stream",
          "text": [
            "found ufc submission about khabib vs conor match\n"
          ]
        },
        {
          "name": "stderr",
          "output_type": "stream",
          "text": [
            "Processing submissions: 4489662it [01:54, 39789.39it/s]"
          ]
        },
        {
          "name": "stdout",
          "output_type": "stream",
          "text": [
            "found ufc submission about khabib vs conor match\n"
          ]
        },
        {
          "name": "stderr",
          "output_type": "stream",
          "text": [
            "Processing submissions: 4744414it [02:00, 39040.10it/s]"
          ]
        },
        {
          "name": "stdout",
          "output_type": "stream",
          "text": [
            "found ufc submission about khabib vs conor match\n"
          ]
        },
        {
          "name": "stderr",
          "output_type": "stream",
          "text": [
            "Processing submissions: 4752238it [02:00, 38586.71it/s]"
          ]
        },
        {
          "name": "stdout",
          "output_type": "stream",
          "text": [
            "found ufc submission about khabib vs conor match\n"
          ]
        },
        {
          "name": "stderr",
          "output_type": "stream",
          "text": [
            "Processing submissions: 4795054it [02:02, 38839.56it/s]"
          ]
        },
        {
          "name": "stdout",
          "output_type": "stream",
          "text": [
            "found ufc submission about khabib vs conor match\n"
          ]
        },
        {
          "name": "stderr",
          "output_type": "stream",
          "text": [
            "Processing submissions: 4822557it [02:02, 38974.51it/s]"
          ]
        },
        {
          "name": "stdout",
          "output_type": "stream",
          "text": [
            "found ufc submission about khabib vs conor match\n"
          ]
        },
        {
          "name": "stderr",
          "output_type": "stream",
          "text": [
            "Processing submissions: 4942513it [02:05, 39790.02it/s]"
          ]
        },
        {
          "name": "stdout",
          "output_type": "stream",
          "text": [
            "found ufc submission about khabib vs conor match\n"
          ]
        },
        {
          "name": "stderr",
          "output_type": "stream",
          "text": [
            "Processing submissions: 5030475it [02:08, 38346.83it/s]"
          ]
        },
        {
          "name": "stdout",
          "output_type": "stream",
          "text": [
            "found ufc submission about khabib vs conor match\n"
          ]
        },
        {
          "name": "stderr",
          "output_type": "stream",
          "text": [
            "Processing submissions: 5295932it [02:14, 38992.46it/s]"
          ]
        },
        {
          "name": "stdout",
          "output_type": "stream",
          "text": [
            "found ufc submission about khabib vs conor match\n"
          ]
        },
        {
          "name": "stderr",
          "output_type": "stream",
          "text": [
            "Processing submissions: 5342945it [02:16, 38554.78it/s]"
          ]
        },
        {
          "name": "stdout",
          "output_type": "stream",
          "text": [
            "found ufc submission about khabib vs conor match\n"
          ]
        },
        {
          "name": "stderr",
          "output_type": "stream",
          "text": [
            "Processing submissions: 5492150it [02:20, 39431.84it/s]"
          ]
        },
        {
          "name": "stdout",
          "output_type": "stream",
          "text": [
            "found ufc submission about khabib vs conor match\n",
            "found ufc submission about khabib vs conor match\n"
          ]
        },
        {
          "name": "stderr",
          "output_type": "stream",
          "text": [
            "Processing submissions: 5732194it [02:26, 38662.13it/s]"
          ]
        },
        {
          "name": "stdout",
          "output_type": "stream",
          "text": [
            "found ufc submission about khabib vs conor match\n"
          ]
        },
        {
          "name": "stderr",
          "output_type": "stream",
          "text": [
            "Processing submissions: 5740012it [02:26, 38726.97it/s]"
          ]
        },
        {
          "name": "stdout",
          "output_type": "stream",
          "text": [
            "found ufc submission about khabib vs conor match\n"
          ]
        },
        {
          "name": "stderr",
          "output_type": "stream",
          "text": [
            "Processing submissions: 5897175it [02:30, 38315.06it/s]"
          ]
        },
        {
          "name": "stdout",
          "output_type": "stream",
          "text": [
            "found ufc submission about khabib vs conor match\n"
          ]
        },
        {
          "name": "stderr",
          "output_type": "stream",
          "text": [
            "Processing submissions: 6127082it [02:36, 37242.42it/s]"
          ]
        },
        {
          "name": "stdout",
          "output_type": "stream",
          "text": [
            "found ufc submission about khabib vs conor match\n"
          ]
        },
        {
          "name": "stderr",
          "output_type": "stream",
          "text": [
            "Processing submissions: 6348278it [02:42, 37817.80it/s]"
          ]
        },
        {
          "name": "stdout",
          "output_type": "stream",
          "text": [
            "found ufc submission about khabib vs conor match\n"
          ]
        },
        {
          "name": "stderr",
          "output_type": "stream",
          "text": [
            "Processing submissions: 6363373it [02:42, 35938.80it/s]"
          ]
        },
        {
          "name": "stdout",
          "output_type": "stream",
          "text": [
            "found ufc submission about khabib vs conor match\n"
          ]
        },
        {
          "name": "stderr",
          "output_type": "stream",
          "text": [
            "Processing submissions: 6819491it [02:54, 39226.79it/s]"
          ]
        },
        {
          "name": "stdout",
          "output_type": "stream",
          "text": [
            "found ufc submission about khabib vs conor match\n"
          ]
        },
        {
          "name": "stderr",
          "output_type": "stream",
          "text": [
            "Processing submissions: 6876827it [02:56, 38098.39it/s]"
          ]
        },
        {
          "name": "stdout",
          "output_type": "stream",
          "text": [
            "found ufc submission about khabib vs conor match\n"
          ]
        },
        {
          "name": "stderr",
          "output_type": "stream",
          "text": [
            "Processing submissions: 6919392it [02:57, 38747.01it/s]"
          ]
        },
        {
          "name": "stdout",
          "output_type": "stream",
          "text": [
            "found ufc submission about khabib vs conor match\n"
          ]
        },
        {
          "name": "stderr",
          "output_type": "stream",
          "text": [
            "Processing submissions: 6967352it [02:58, 39722.14it/s]"
          ]
        },
        {
          "name": "stdout",
          "output_type": "stream",
          "text": [
            "found ufc submission about khabib vs conor match\n"
          ]
        },
        {
          "name": "stderr",
          "output_type": "stream",
          "text": [
            "Processing submissions: 7368142it [03:08, 37694.23it/s]"
          ]
        },
        {
          "name": "stdout",
          "output_type": "stream",
          "text": [
            "found ufc submission about khabib vs conor match\n"
          ]
        },
        {
          "name": "stderr",
          "output_type": "stream",
          "text": [
            "Processing submissions: 8287473it [03:32, 37818.34it/s]"
          ]
        },
        {
          "name": "stdout",
          "output_type": "stream",
          "text": [
            "found ufc submission about khabib vs conor match\n"
          ]
        },
        {
          "name": "stderr",
          "output_type": "stream",
          "text": [
            "Processing submissions: 8774205it [03:45, 38572.58it/s]"
          ]
        },
        {
          "name": "stdout",
          "output_type": "stream",
          "text": [
            "found ufc submission about khabib vs conor match\n"
          ]
        },
        {
          "name": "stderr",
          "output_type": "stream",
          "text": [
            "Processing submissions: 11717887it [05:00, 39645.42it/s]"
          ]
        },
        {
          "name": "stdout",
          "output_type": "stream",
          "text": [
            "found ufc submission about khabib vs conor match\n"
          ]
        },
        {
          "name": "stderr",
          "output_type": "stream",
          "text": [
            "Processing submissions: 11896525it [05:04, 38684.18it/s]"
          ]
        },
        {
          "name": "stdout",
          "output_type": "stream",
          "text": [
            "found ufc submission about khabib vs conor match\n"
          ]
        },
        {
          "name": "stderr",
          "output_type": "stream",
          "text": [
            "Processing submissions: 12575349it [05:22, 40353.70it/s]"
          ]
        },
        {
          "name": "stdout",
          "output_type": "stream",
          "text": [
            "found ufc submission about khabib vs conor match\n"
          ]
        },
        {
          "name": "stderr",
          "output_type": "stream",
          "text": [
            "Processing submissions: 12831881it [05:28, 39341.09it/s]"
          ]
        },
        {
          "name": "stdout",
          "output_type": "stream",
          "text": [
            "found ufc submission about khabib vs conor match\n"
          ]
        },
        {
          "name": "stderr",
          "output_type": "stream",
          "text": [
            "Processing submissions: 13433866it [05:43, 39982.03it/s]"
          ]
        },
        {
          "name": "stdout",
          "output_type": "stream",
          "text": [
            "found ufc submission about khabib vs conor match\n"
          ]
        },
        {
          "name": "stderr",
          "output_type": "stream",
          "text": [
            "Processing submissions: 13975028it [05:57, 39120.79it/s]\n"
          ]
        },
        {
          "name": "stdout",
          "output_type": "stream",
          "text": [
            "Total relevant submissions found: 200\n"
          ]
        }
      ],
      "source": [
        "save_file = open(os.path.join(save_dir, save_filename), mode=\"w\", encoding=\"utf-8\")\n",
        "ufc_sub_count = 0\n",
        "\n",
        "with open(submission_path, mode=\"r\", encoding=\"utf-8\") as data:\n",
        "    for line in tqdm(data, desc=\"Processing submissions\"): # used tqdm.tqdm, hence no progress bar\n",
        "        try:\n",
        "            line = json.loads(line)\n",
        "            if line[\"subreddit\"] == \"ufc\" and \"khabib\" in line[\"selftext\"].lower() and (\"conor\" in line[\"selftext\"].lower() or \"mcgregor\" in line[\"selftext\"].lower()) and line[\"created_utc\"] > target_timestamp:\n",
        "                print(\"found ufc submission about khabib vs conor match\")\n",
        "                ufc_sub_count += 1\n",
        "                json.dump(line, save_file)\n",
        "                save_file.write(\"\\n\") # for convenience, the last `\\n` will be removed later.\n",
        "                save_file.flush()\n",
        "        except json.JSONDecodeError as e:\n",
        "            print(f\"Error decoding JSON: {e}\")\n",
        "            continue\n",
        "\n",
        "print(f\"Total relevant submissions found: {ufc_sub_count}\")\n",
        "save_file.close()\n",
        "play_finish_sound() # play the sound when finished"
      ]
    },
    {
      "cell_type": "code",
      "execution_count": null,
      "id": "936773ff",
      "metadata": {
        "id": "936773ff",
        "outputId": "c5099863-facc-4566-c812-2108a3049608"
      },
      "outputs": [
        {
          "name": "stdout",
          "output_type": "stream",
          "text": [
            "<class 'pandas.core.frame.DataFrame'>\n",
            "RangeIndex: 200 entries, 0 to 199\n",
            "Data columns (total 77 columns):\n",
            " #   Column                         Non-Null Count  Dtype  \n",
            "---  ------                         --------------  -----  \n",
            " 0   archived                       200 non-null    bool   \n",
            " 1   author                         200 non-null    object \n",
            " 2   author_created_utc             197 non-null    float64\n",
            " 3   author_flair_background_color  3 non-null      object \n",
            " 4   author_flair_css_class         0 non-null      float64\n",
            " 5   author_flair_richtext          197 non-null    object \n",
            " 6   author_flair_template_id       0 non-null      float64\n",
            " 7   author_flair_text              0 non-null      float64\n",
            " 8   author_flair_text_color        3 non-null      object \n",
            " 9   author_flair_type              197 non-null    object \n",
            " 10  author_fullname                197 non-null    object \n",
            " 11  author_patreon_flair           197 non-null    float64\n",
            " 12  can_gild                       200 non-null    bool   \n",
            " 13  can_mod_post                   200 non-null    bool   \n",
            " 14  category                       0 non-null      float64\n",
            " 15  content_categories             0 non-null      float64\n",
            " 16  contest_mode                   200 non-null    bool   \n",
            " 17  created_utc                    200 non-null    int64  \n",
            " 18  distinguished                  0 non-null      float64\n",
            " 19  domain                         200 non-null    object \n",
            " 20  edited                         200 non-null    int64  \n",
            " 21  gilded                         200 non-null    int64  \n",
            " 22  gildings                       200 non-null    object \n",
            " 23  hidden                         200 non-null    bool   \n",
            " 24  id                             200 non-null    object \n",
            " 25  is_crosspostable               200 non-null    bool   \n",
            " 26  is_meta                        200 non-null    bool   \n",
            " 27  is_original_content            200 non-null    bool   \n",
            " 28  is_reddit_media_domain         200 non-null    bool   \n",
            " 29  is_robot_indexable             200 non-null    bool   \n",
            " 30  is_self                        200 non-null    bool   \n",
            " 31  is_video                       200 non-null    bool   \n",
            " 32  link_flair_background_color    200 non-null    object \n",
            " 33  link_flair_css_class           0 non-null      float64\n",
            " 34  link_flair_richtext            200 non-null    object \n",
            " 35  link_flair_template_id         0 non-null      float64\n",
            " 36  link_flair_text                0 non-null      float64\n",
            " 37  link_flair_text_color          200 non-null    object \n",
            " 38  link_flair_type                200 non-null    object \n",
            " 39  locked                         200 non-null    bool   \n",
            " 40  media                          0 non-null      float64\n",
            " 41  media_embed                    200 non-null    object \n",
            " 42  media_only                     200 non-null    bool   \n",
            " 43  no_follow                      200 non-null    bool   \n",
            " 44  num_comments                   200 non-null    int64  \n",
            " 45  num_crossposts                 200 non-null    int64  \n",
            " 46  over_18                        200 non-null    bool   \n",
            " 47  parent_whitelist_status        200 non-null    object \n",
            " 48  permalink                      200 non-null    object \n",
            " 49  pinned                         200 non-null    bool   \n",
            " 50  pwls                           200 non-null    int64  \n",
            " 51  quarantine                     200 non-null    bool   \n",
            " 52  removal_reason                 0 non-null      float64\n",
            " 53  retrieved_on                   200 non-null    int64  \n",
            " 54  score                          200 non-null    int64  \n",
            " 55  secure_media                   0 non-null      float64\n",
            " 56  secure_media_embed             200 non-null    object \n",
            " 57  selftext                       200 non-null    object \n",
            " 58  send_replies                   200 non-null    bool   \n",
            " 59  spoiler                        200 non-null    bool   \n",
            " 60  stickied                       200 non-null    bool   \n",
            " 61  subreddit                      200 non-null    object \n",
            " 62  subreddit_id                   200 non-null    object \n",
            " 63  subreddit_name_prefixed        200 non-null    object \n",
            " 64  subreddit_subscribers          200 non-null    int64  \n",
            " 65  subreddit_type                 200 non-null    object \n",
            " 66  suggested_sort                 0 non-null      float64\n",
            " 67  thumbnail                      200 non-null    object \n",
            " 68  thumbnail_height               3 non-null      float64\n",
            " 69  thumbnail_width                3 non-null      float64\n",
            " 70  title                          200 non-null    object \n",
            " 71  url                            200 non-null    object \n",
            " 72  whitelist_status               200 non-null    object \n",
            " 73  wls                            200 non-null    int64  \n",
            " 74  post_hint                      16 non-null     object \n",
            " 75  preview                        16 non-null     object \n",
            " 76  media_metadata                 0 non-null      float64\n",
            "dtypes: bool(21), float64(18), int64(10), object(28)\n",
            "memory usage: 91.7+ KB\n"
          ]
        },
        {
          "data": {
            "text/plain": [
              "None"
            ]
          },
          "metadata": {},
          "output_type": "display_data"
        },
        {
          "name": "stdout",
          "output_type": "stream",
          "text": [
            "['9m2q9s', '9m2qxc', '9m2r8s', '9m2rct', '9m2rnc', '9m2rtu', '9m2rz9', '9m2s1c', '9m2s5c', '9m2shf', '9m2sqn', '9m2ssy', '9m2svh', '9m2sz2', '9m2taz', '9m2twr', '9m2tx9', '9m2u49', '9m2ufd', '9m2vk3', '9m2vl2', '9m2vp2', '9m2vyp', '9m2vza', '9m2w9e', '9m2wkt', '9m2x17', '9m2xnh', '9m2xr6', '9m2xra', '9m2xte', '9m2xu4', '9m2ycy', '9m2z5y', '9m2zgw', '9m2zzd', '9m30ho', '9m319p', '9m31q5', '9m321n', '9m322j', '9m32bg', '9m3312', '9m33db', '9m34ar', '9m34rz', '9m3am4', '9m3d35', '9m3evd', '9m3ftz', '9m3i5a', '9m3kr9', '9m3mha', '9m3o91', '9m3p6c', '9m3qny', '9m3sm4', '9m3wt5', '9m41iy', '9m41nv', '9m44y2', '9m47cq', '9m49gt', '9m4ab6', '9m4d4a', '9m4hj2', '9m4hqz', '9m4kcq', '9m4luj', '9m4ra1', '9m4uc5', '9m52tu', '9m57nt', '9m59mg', '9m5fgg', '9m5r66', '9m5um9', '9m5yyj', '9m60zi', '9m63b0', '9m63i5', '9m6ej6', '9m6fbp', '9m6fmq', '9m6gf7', '9m6hpn', '9m6rm8', '9m6sfl', '9m6vmw', '9m70vw', '9m7315', '9m7975', '9m7dty', '9m7hwz', '9m7rvo', '9m7v3b', '9m7wxz', '9m8786', '9m8ina', '9m8mij', '9m8q6t', '9m8t76', '9m99cg', '9m9non', '9m9ryq', '9m9sqw', '9m9t8b', '9m9yni', '9ma9zb', '9mabx4', '9maftf', '9maslg', '9mb09g', '9mbg43', '9mbu5m', '9mbxvc', '9mc427', '9mc9p0', '9mcn9p', '9mczi3', '9md7v6', '9md7yc', '9mdf4o', '9mdpjp', '9mdst2', '9mef58', '9mf6s7', '9mf84f', '9mfjom', '9mfq38', '9mfx65', '9mg4rz', '9mg742', '9mhax1', '9mhbjh', '9mhc01', '9mhk4s', '9mhu5i', '9mi7eg', '9mirpp', '9misdu', '9mj4la', '9mj7fj', '9mjbxl', '9mjx26', '9mk1bs', '9mlbhg', '9mltrr', '9mml9p', '9mo26f', '9mo912', '9mol6q', '9mpl3m', '9mpzu5', '9mrgxp', '9msgpy', '9mswme', '9mt375', '9mtghv', '9mu22z', '9mu3ty', '9mu44w', '9mvlmx', '9mvran', '9mvysg', '9mw3u5', '9my0yu', '9my8pp', '9mye20', '9mz0rs', '9n40rd', '9n5boz', '9nb2f2', '9nb9e3', '9nc5yy', '9ncr9h', '9nfhed', '9nhk0r', '9nnjsj', '9non6n', '9ns1ho', '9ns7o6', '9nxi12', '9nxovn', '9o17ld', '9o6iim', '9obise', '9obu5r', '9omfiw', '9ontej', '9oouiy', '9opyeu', '9ozb4g', '9pkbkb', '9pvgnh', '9rpekv', '9rtfwc', '9s8od9', '9sehju', '9ss7u4']\n",
            "Total submissions: 200\n"
          ]
        }
      ],
      "source": [
        "ufc_229_submissions = pd.read_json(os.path.join(save_dir, save_filename), lines=True)\n",
        "display(ufc_229_submissions.info())\n",
        "\n",
        "ids = ufc_229_submissions[\"id\"].tolist()\n",
        "print(ids)\n",
        "print(f\"Total submissions: {len(ids)}\")"
      ]
    },
    {
      "cell_type": "markdown",
      "id": "fdc905f3",
      "metadata": {
        "id": "fdc905f3"
      },
      "source": [
        "## **Comment filtering**\n",
        "\n",
        "Using `id` attribute in submission files, we can filter each comment by matching their `link_id` (be sure to remove `t3_` prefix first) with target submission `id`."
      ]
    },
    {
      "cell_type": "code",
      "execution_count": null,
      "id": "ced0b503",
      "metadata": {
        "id": "ced0b503"
      },
      "outputs": [],
      "source": [
        "save_filename = \"ufc_comments.jsonl\"\n",
        "\n",
        "comment_count_by_sub_id = {id: 0 for id in ids}"
      ]
    },
    {
      "cell_type": "code",
      "execution_count": null,
      "id": "14e173c2",
      "metadata": {
        "colab": {
          "referenced_widgets": [
            "6e4cd65ac1104cbc9dbe9764b4c30f20"
          ]
        },
        "id": "14e173c2",
        "outputId": "31fb72ab-89b4-4102-b87a-8dc441b2460a"
      },
      "outputs": [
        {
          "data": {
            "application/vnd.jupyter.widget-view+json": {
              "model_id": "6e4cd65ac1104cbc9dbe9764b4c30f20",
              "version_major": 2,
              "version_minor": 0
            },
            "text/plain": [
              "Processing comments: 0it [00:00, ?it/s]"
            ]
          },
          "metadata": {},
          "output_type": "display_data"
        },
        {
          "name": "stdout",
          "output_type": "stream",
          "text": [
            "Total relevant comments found: 5327\n"
          ]
        }
      ],
      "source": [
        "with open(comment_path, mode=\"r\", encoding=\"utf-8\") as data:\n",
        "\n",
        "  save_file = open(os.path.join(save_dir, save_filename), mode=\"w\", encoding=\"utf-8\")\n",
        "\n",
        "  for line in tqdm(data, desc=\"Processing comments\"):\n",
        "    try:\n",
        "      line = json.loads(line)\n",
        "      if line[\"link_id\"][3:] in comment_count_by_sub_id.keys():\n",
        "        comment_count_by_sub_id[line[\"link_id\"][3:]] += 1\n",
        "        json.dump(line, save_file)\n",
        "        save_file.write(\"\\n\") # for convenience, the last `\\n` will be removed later.\n",
        "        save_file.flush()\n",
        "    except json.JSONDecodeError as e:\n",
        "        print(f\"Error decoding JSON: {e}\")\n",
        "        continue\n",
        "\n",
        "  save_file.close()\n",
        "\n",
        "print(f\"Total relevant comments found: {sum(comment_count_by_sub_id.values())}\")\n",
        "play_finish_sound() # play the sound when finished"
      ]
    },
    {
      "cell_type": "markdown",
      "id": "47bdbe1c",
      "metadata": {
        "id": "47bdbe1c"
      },
      "source": [
        "Here we filter to only comments that are not deleted nor removed."
      ]
    },
    {
      "cell_type": "code",
      "execution_count": null,
      "id": "8d11b303",
      "metadata": {
        "id": "8d11b303"
      },
      "outputs": [],
      "source": [
        "new_save_filename = \"ufc_filtered_comments.jsonl\"\n",
        "\n",
        "comments_with_body_count = 0\n",
        "\n",
        "comment_count_by_sub_id = {id: 0 for id in ids}"
      ]
    },
    {
      "cell_type": "code",
      "execution_count": null,
      "id": "30e1508e",
      "metadata": {
        "colab": {
          "referenced_widgets": [
            "3ca527c9aac540e292893145dbd6a192"
          ]
        },
        "id": "30e1508e",
        "outputId": "f0330aad-5984-489a-c7a9-283b75189511"
      },
      "outputs": [
        {
          "data": {
            "application/vnd.jupyter.widget-view+json": {
              "model_id": "3ca527c9aac540e292893145dbd6a192",
              "version_major": 2,
              "version_minor": 0
            },
            "text/plain": [
              "Filtering comments: 0it [00:00, ?it/s]"
            ]
          },
          "metadata": {},
          "output_type": "display_data"
        },
        {
          "name": "stdout",
          "output_type": "stream",
          "text": [
            "Total relevant comments with body found: 5023\n"
          ]
        }
      ],
      "source": [
        "filtered_comments = open(os.path.join(save_dir, new_save_filename), mode=\"w\", encoding=\"utf-8\")\n",
        "\n",
        "with open(os.path.join(save_dir, save_filename), mode=\"r\", encoding=\"utf-8\") as data:\n",
        "    for line in tqdm(data, desc=\"Filtering comments\"):\n",
        "        try:\n",
        "            line = json.loads(line)\n",
        "            if line[\"body\"].lower() != \"[deleted]\" and line[\"body\"].lower() != \"[removed]\":\n",
        "                comment_count_by_sub_id[line[\"link_id\"][3:]] += 1\n",
        "                json.dump(line, filtered_comments)\n",
        "                filtered_comments.write(\"\\n\") # for convenience, the last `\\n` will be removed later.\n",
        "                filtered_comments.flush()\n",
        "        except json.JSONDecodeError as e:\n",
        "            print(f\"Error decoding JSON: {e}\")\n",
        "            continue\n",
        "\n",
        "print(f\"Total relevant comments with body found: {sum(comment_count_by_sub_id.values())}\")\n",
        "filtered_comments.close()"
      ]
    },
    {
      "cell_type": "code",
      "execution_count": null,
      "id": "bb1fb748",
      "metadata": {
        "id": "bb1fb748",
        "outputId": "2db5d846-9ba0-4675-8c75-dea5b44ebb97"
      },
      "outputs": [
        {
          "name": "stdout",
          "output_type": "stream",
          "text": [
            "Total submissions with more than 40 comments: 23\n",
            "Total comments from filtered submissions: 2668\n"
          ]
        }
      ],
      "source": [
        "k = 40\n",
        "\n",
        "submissions_with_more_than_k_comments = {id: count for id, count in comment_count_by_sub_id.items() if count > k}\n",
        "print(f\"Total submissions with more than {k} comments: {len(submissions_with_more_than_k_comments)}\")\n",
        "\n",
        "print(f\"Total comments from filtered submissions: {sum(submissions_with_more_than_k_comments.values())}\")"
      ]
    },
    {
      "cell_type": "code",
      "execution_count": null,
      "id": "0099bf1f",
      "metadata": {
        "id": "0099bf1f",
        "outputId": "09d65ee3-2e54-4986-aeb2-5d54d1234328"
      },
      "outputs": [
        {
          "name": "stdout",
          "output_type": "stream",
          "text": [
            "Submission ID: 9m2rtu\n",
            "Comment count: 788\n",
            "Submission ID: 9m2taz\n",
            "Comment count: 88\n",
            "Submission ID: 9m2vp2\n",
            "Comment count: 43\n",
            "Submission ID: 9m2xra\n",
            "Comment count: 57\n",
            "Submission ID: 9m3312\n",
            "Comment count: 71\n",
            "Submission ID: 9m3sm4\n",
            "Comment count: 47\n",
            "Submission ID: 9m4hj2\n",
            "Comment count: 112\n",
            "Submission ID: 9m9yni\n",
            "Comment count: 69\n",
            "Submission ID: 9mbxvc\n",
            "Comment count: 58\n",
            "Submission ID: 9mfjom\n",
            "Comment count: 222\n",
            "Submission ID: 9mol6q\n",
            "Comment count: 50\n",
            "Submission ID: 9mpl3m\n",
            "Comment count: 46\n",
            "Submission ID: 9mpzu5\n",
            "Comment count: 55\n",
            "Submission ID: 9msgpy\n",
            "Comment count: 227\n",
            "Submission ID: 9mu3ty\n",
            "Comment count: 199\n",
            "Submission ID: 9mvlmx\n",
            "Comment count: 42\n",
            "Submission ID: 9mvysg\n",
            "Comment count: 68\n",
            "Submission ID: 9nnjsj\n",
            "Comment count: 62\n",
            "Submission ID: 9ns1ho\n",
            "Comment count: 138\n",
            "Submission ID: 9ns7o6\n",
            "Comment count: 43\n",
            "Submission ID: 9obu5r\n",
            "Comment count: 56\n",
            "Submission ID: 9omfiw\n",
            "Comment count: 78\n",
            "Submission ID: 9s8od9\n",
            "Comment count: 49\n"
          ]
        }
      ],
      "source": [
        "for id in submissions_with_more_than_k_comments.keys():\n",
        "    print(f\"Submission ID: {id}\")\n",
        "    print(f\"Comment count: {submissions_with_more_than_k_comments[id]}\")"
      ]
    },
    {
      "cell_type": "markdown",
      "id": "6a8e5d45",
      "metadata": {
        "id": "6a8e5d45"
      },
      "source": [
        "## **Finalise data to use**"
      ]
    },
    {
      "cell_type": "code",
      "execution_count": null,
      "id": "08f6a806",
      "metadata": {
        "colab": {
          "referenced_widgets": [
            "0cf3ada0b1f7415ab7fb7085ba060817",
            "4fd6d2ee224c4e828b240a055a8f53b4",
            "ded69600294e45dbb642658f5a2d898b",
            "b7a0bc9ae1b1413da515f219c51ef913",
            "0311dfc73b284bcd97f094f60b56424e",
            "d4affcacd1ce4e679a6dff1313d0951c",
            "44c9e56aa7614b2a993fbdf63c72f917",
            "cc4812a82b854ec7975c1662029a5ffb",
            "3f0beb3c77cb4852855607fefab93427",
            "3ee6d1e20ffd4083b9c2b92918057f3d",
            "2a8ecaa4d175437d819858406c77edff",
            "0d15b385dc4a4aca9c5fc8254311024b",
            "e5489847d7234dc895e6418b225f2342",
            "d68fcb1d644d4dcba3e928c6a7140b0a",
            "2ae9508f95b248f7881c912d1c555170",
            "8fb07fee1c4f4e76915934a34a2b57ff",
            "ba7260f36b264e8e987aabb4701fdbe9",
            "358d243bfc674b0984721f09113f2735",
            "357be5a1b5e9410396d8cc03152bc989",
            "7693c15941c54933b1f6d3852b1c98f9",
            "c0fc85d555904520a558211aa9c76a70",
            "054625248df34a9282c28a06cd39ed90",
            "ade7c49832394773993ed2a6fe3fccf2",
            "8e7e4c7096e744f481c1e11ac8b650d9"
          ]
        },
        "id": "08f6a806",
        "outputId": "df93e0a3-b90c-4bfd-f629-7dcc9fa14fe8"
      },
      "outputs": [
        {
          "data": {
            "application/vnd.jupyter.widget-view+json": {
              "model_id": "0cf3ada0b1f7415ab7fb7085ba060817",
              "version_major": 2,
              "version_minor": 0
            },
            "text/plain": [
              "Processing final submissions:   0%|          | 0/23 [00:00<?, ?it/s]"
            ]
          },
          "metadata": {},
          "output_type": "display_data"
        },
        {
          "data": {
            "application/vnd.jupyter.widget-view+json": {
              "model_id": "4fd6d2ee224c4e828b240a055a8f53b4",
              "version_major": 2,
              "version_minor": 0
            },
            "text/plain": [
              "Processing comments for submission: 9m2rtu: 0it [00:00, ?it/s]"
            ]
          },
          "metadata": {},
          "output_type": "display_data"
        },
        {
          "data": {
            "application/vnd.jupyter.widget-view+json": {
              "model_id": "ded69600294e45dbb642658f5a2d898b",
              "version_major": 2,
              "version_minor": 0
            },
            "text/plain": [
              "Processing comments for submission: 9m2taz: 0it [00:00, ?it/s]"
            ]
          },
          "metadata": {},
          "output_type": "display_data"
        },
        {
          "data": {
            "application/vnd.jupyter.widget-view+json": {
              "model_id": "b7a0bc9ae1b1413da515f219c51ef913",
              "version_major": 2,
              "version_minor": 0
            },
            "text/plain": [
              "Processing comments for submission: 9m2vp2: 0it [00:00, ?it/s]"
            ]
          },
          "metadata": {},
          "output_type": "display_data"
        },
        {
          "data": {
            "application/vnd.jupyter.widget-view+json": {
              "model_id": "0311dfc73b284bcd97f094f60b56424e",
              "version_major": 2,
              "version_minor": 0
            },
            "text/plain": [
              "Processing comments for submission: 9m2xra: 0it [00:00, ?it/s]"
            ]
          },
          "metadata": {},
          "output_type": "display_data"
        },
        {
          "data": {
            "application/vnd.jupyter.widget-view+json": {
              "model_id": "d4affcacd1ce4e679a6dff1313d0951c",
              "version_major": 2,
              "version_minor": 0
            },
            "text/plain": [
              "Processing comments for submission: 9m3312: 0it [00:00, ?it/s]"
            ]
          },
          "metadata": {},
          "output_type": "display_data"
        },
        {
          "data": {
            "application/vnd.jupyter.widget-view+json": {
              "model_id": "44c9e56aa7614b2a993fbdf63c72f917",
              "version_major": 2,
              "version_minor": 0
            },
            "text/plain": [
              "Processing comments for submission: 9m3sm4: 0it [00:00, ?it/s]"
            ]
          },
          "metadata": {},
          "output_type": "display_data"
        },
        {
          "data": {
            "application/vnd.jupyter.widget-view+json": {
              "model_id": "cc4812a82b854ec7975c1662029a5ffb",
              "version_major": 2,
              "version_minor": 0
            },
            "text/plain": [
              "Processing comments for submission: 9m4hj2: 0it [00:00, ?it/s]"
            ]
          },
          "metadata": {},
          "output_type": "display_data"
        },
        {
          "data": {
            "application/vnd.jupyter.widget-view+json": {
              "model_id": "3f0beb3c77cb4852855607fefab93427",
              "version_major": 2,
              "version_minor": 0
            },
            "text/plain": [
              "Processing comments for submission: 9m9yni: 0it [00:00, ?it/s]"
            ]
          },
          "metadata": {},
          "output_type": "display_data"
        },
        {
          "data": {
            "application/vnd.jupyter.widget-view+json": {
              "model_id": "3ee6d1e20ffd4083b9c2b92918057f3d",
              "version_major": 2,
              "version_minor": 0
            },
            "text/plain": [
              "Processing comments for submission: 9mbxvc: 0it [00:00, ?it/s]"
            ]
          },
          "metadata": {},
          "output_type": "display_data"
        },
        {
          "data": {
            "application/vnd.jupyter.widget-view+json": {
              "model_id": "2a8ecaa4d175437d819858406c77edff",
              "version_major": 2,
              "version_minor": 0
            },
            "text/plain": [
              "Processing comments for submission: 9mfjom: 0it [00:00, ?it/s]"
            ]
          },
          "metadata": {},
          "output_type": "display_data"
        },
        {
          "data": {
            "application/vnd.jupyter.widget-view+json": {
              "model_id": "0d15b385dc4a4aca9c5fc8254311024b",
              "version_major": 2,
              "version_minor": 0
            },
            "text/plain": [
              "Processing comments for submission: 9mol6q: 0it [00:00, ?it/s]"
            ]
          },
          "metadata": {},
          "output_type": "display_data"
        },
        {
          "data": {
            "application/vnd.jupyter.widget-view+json": {
              "model_id": "e5489847d7234dc895e6418b225f2342",
              "version_major": 2,
              "version_minor": 0
            },
            "text/plain": [
              "Processing comments for submission: 9mpl3m: 0it [00:00, ?it/s]"
            ]
          },
          "metadata": {},
          "output_type": "display_data"
        },
        {
          "data": {
            "application/vnd.jupyter.widget-view+json": {
              "model_id": "d68fcb1d644d4dcba3e928c6a7140b0a",
              "version_major": 2,
              "version_minor": 0
            },
            "text/plain": [
              "Processing comments for submission: 9mpzu5: 0it [00:00, ?it/s]"
            ]
          },
          "metadata": {},
          "output_type": "display_data"
        },
        {
          "data": {
            "application/vnd.jupyter.widget-view+json": {
              "model_id": "2ae9508f95b248f7881c912d1c555170",
              "version_major": 2,
              "version_minor": 0
            },
            "text/plain": [
              "Processing comments for submission: 9msgpy: 0it [00:00, ?it/s]"
            ]
          },
          "metadata": {},
          "output_type": "display_data"
        },
        {
          "data": {
            "application/vnd.jupyter.widget-view+json": {
              "model_id": "8fb07fee1c4f4e76915934a34a2b57ff",
              "version_major": 2,
              "version_minor": 0
            },
            "text/plain": [
              "Processing comments for submission: 9mu3ty: 0it [00:00, ?it/s]"
            ]
          },
          "metadata": {},
          "output_type": "display_data"
        },
        {
          "data": {
            "application/vnd.jupyter.widget-view+json": {
              "model_id": "ba7260f36b264e8e987aabb4701fdbe9",
              "version_major": 2,
              "version_minor": 0
            },
            "text/plain": [
              "Processing comments for submission: 9mvlmx: 0it [00:00, ?it/s]"
            ]
          },
          "metadata": {},
          "output_type": "display_data"
        },
        {
          "data": {
            "application/vnd.jupyter.widget-view+json": {
              "model_id": "358d243bfc674b0984721f09113f2735",
              "version_major": 2,
              "version_minor": 0
            },
            "text/plain": [
              "Processing comments for submission: 9mvysg: 0it [00:00, ?it/s]"
            ]
          },
          "metadata": {},
          "output_type": "display_data"
        },
        {
          "data": {
            "application/vnd.jupyter.widget-view+json": {
              "model_id": "357be5a1b5e9410396d8cc03152bc989",
              "version_major": 2,
              "version_minor": 0
            },
            "text/plain": [
              "Processing comments for submission: 9nnjsj: 0it [00:00, ?it/s]"
            ]
          },
          "metadata": {},
          "output_type": "display_data"
        },
        {
          "data": {
            "application/vnd.jupyter.widget-view+json": {
              "model_id": "7693c15941c54933b1f6d3852b1c98f9",
              "version_major": 2,
              "version_minor": 0
            },
            "text/plain": [
              "Processing comments for submission: 9ns1ho: 0it [00:00, ?it/s]"
            ]
          },
          "metadata": {},
          "output_type": "display_data"
        },
        {
          "data": {
            "application/vnd.jupyter.widget-view+json": {
              "model_id": "c0fc85d555904520a558211aa9c76a70",
              "version_major": 2,
              "version_minor": 0
            },
            "text/plain": [
              "Processing comments for submission: 9ns7o6: 0it [00:00, ?it/s]"
            ]
          },
          "metadata": {},
          "output_type": "display_data"
        },
        {
          "data": {
            "application/vnd.jupyter.widget-view+json": {
              "model_id": "054625248df34a9282c28a06cd39ed90",
              "version_major": 2,
              "version_minor": 0
            },
            "text/plain": [
              "Processing comments for submission: 9obu5r: 0it [00:00, ?it/s]"
            ]
          },
          "metadata": {},
          "output_type": "display_data"
        },
        {
          "data": {
            "application/vnd.jupyter.widget-view+json": {
              "model_id": "ade7c49832394773993ed2a6fe3fccf2",
              "version_major": 2,
              "version_minor": 0
            },
            "text/plain": [
              "Processing comments for submission: 9omfiw: 0it [00:00, ?it/s]"
            ]
          },
          "metadata": {},
          "output_type": "display_data"
        },
        {
          "data": {
            "application/vnd.jupyter.widget-view+json": {
              "model_id": "8e7e4c7096e744f481c1e11ac8b650d9",
              "version_major": 2,
              "version_minor": 0
            },
            "text/plain": [
              "Processing comments for submission: 9s8od9: 0it [00:00, ?it/s]"
            ]
          },
          "metadata": {},
          "output_type": "display_data"
        }
      ],
      "source": [
        "final_submission_file = open(os.path.join(save_dir, \"ufc_final_submissions.jsonl\"), mode=\"w\", encoding=\"utf-8\")\n",
        "final_comment_file = open(os.path.join(save_dir, \"ufc_final_comments.jsonl\"), mode=\"w\", encoding=\"utf-8\")\n",
        "\n",
        "comments = pd.read_json(os.path.join(save_dir, new_save_filename), lines=True)\n",
        "\n",
        "for id in tqdm(submissions_with_more_than_k_comments.keys(), desc=\"Processing final submissions\"):\n",
        "    submission = ufc_229_submissions[ufc_229_submissions[\"id\"] == id].to_dict(orient=\"records\")[0]\n",
        "    json.dump(submission, final_submission_file)\n",
        "    final_submission_file.write(\"\\n\")\n",
        "    final_submission_file.flush()\n",
        "\n",
        "    submission_comments = comments[comments[\"link_id\"] == f\"t3_{id}\"]\n",
        "    for _, comment in tqdm(submission_comments.iterrows(), desc=f\"Processing comments for submission: {id}\"):\n",
        "        comment = comment.to_dict()\n",
        "        json.dump(comment, final_comment_file)\n",
        "        final_comment_file.write(\"\\n\")\n",
        "        final_comment_file.flush()"
      ]
    },
    {
      "cell_type": "markdown",
      "id": "4a3d5d9e",
      "metadata": {
        "id": "4a3d5d9e"
      },
      "source": [
        "## **Summary Generation**"
      ]
    },
    {
      "cell_type": "markdown",
      "source": [
        "## Skimmed to 20 posts"
      ],
      "metadata": {
        "id": "gMjjFRN4tdz1"
      },
      "id": "gMjjFRN4tdz1"
    },
    {
      "cell_type": "code",
      "source": [
        "# No longer available\n",
        "# !wget https://raw.githubusercontent.com/barnabyashford/llm-powered-social-listener/refs/heads/main/ufc_final_submissions.jsonl -O submissions.jsonl\n",
        "# !wget https://raw.githubusercontent.com/barnabyashford/llm-powered-social-listener/refs/heads/main/ufc_final_comments.jsonl -O comments.jsonl"
      ],
      "metadata": {
        "colab": {
          "base_uri": "https://localhost:8080/"
        },
        "id": "bX1B97N_maDD",
        "outputId": "5d0318b1-ba65-49f2-b322-c0a15c9dd263"
      },
      "id": "bX1B97N_maDD",
      "execution_count": null,
      "outputs": [
        {
          "output_type": "stream",
          "name": "stdout",
          "text": [
            "--2025-04-21 04:36:53--  https://raw.githubusercontent.com/barnabyashford/llm-powered-social-listener/refs/heads/main/ufc_final_submissions.jsonl\n",
            "Resolving raw.githubusercontent.com (raw.githubusercontent.com)... 185.199.108.133, 185.199.109.133, 185.199.110.133, ...\n",
            "Connecting to raw.githubusercontent.com (raw.githubusercontent.com)|185.199.108.133|:443... connected.\n",
            "HTTP request sent, awaiting response... 200 OK\n",
            "Length: 70759 (69K) [text/plain]\n",
            "Saving to: ‘submissions.jsonl’\n",
            "\n",
            "\rsubmissions.jsonl     0%[                    ]       0  --.-KB/s               \rsubmissions.jsonl   100%[===================>]  69.10K  --.-KB/s    in 0s      \n",
            "\n",
            "2025-04-21 04:36:54 (136 MB/s) - ‘submissions.jsonl’ saved [70759/70759]\n",
            "\n",
            "--2025-04-21 04:36:54--  https://raw.githubusercontent.com/barnabyashford/llm-powered-social-listener/refs/heads/main/ufc_final_comments.jsonl\n",
            "Resolving raw.githubusercontent.com (raw.githubusercontent.com)... 185.199.108.133, 185.199.109.133, 185.199.110.133, ...\n",
            "Connecting to raw.githubusercontent.com (raw.githubusercontent.com)|185.199.108.133|:443... connected.\n",
            "HTTP request sent, awaiting response... 200 OK\n",
            "Length: 3337022 (3.2M) [text/plain]\n",
            "Saving to: ‘comments.jsonl’\n",
            "\n",
            "comments.jsonl      100%[===================>]   3.18M  --.-KB/s    in 0.02s   \n",
            "\n",
            "2025-04-21 04:36:54 (204 MB/s) - ‘comments.jsonl’ saved [3337022/3337022]\n",
            "\n"
          ]
        }
      ]
    },
    {
      "cell_type": "code",
      "source": [
        "cwd = os.getcwd()\n",
        "submission_filepath = os.path.join(cwd, \"submissions.jsonl\")\n",
        "comment_filepath = os.path.join(cwd, \"comments.jsonl\")"
      ],
      "metadata": {
        "id": "-bQhBa5Bnltm"
      },
      "id": "-bQhBa5Bnltm",
      "execution_count": null,
      "outputs": []
    },
    {
      "cell_type": "code",
      "source": [
        "submissions = pd.read_json(submission_filepath, lines=True)\n",
        "comments = pd.read_json(comment_filepath, lines=True)"
      ],
      "metadata": {
        "id": "CBE8y1C6oY1Y"
      },
      "id": "CBE8y1C6oY1Y",
      "execution_count": null,
      "outputs": []
    },
    {
      "cell_type": "code",
      "source": [
        "sub_comm_count = {f\"t3_{id}\":0 for id in submissions[\"id\"].tolist()}"
      ],
      "metadata": {
        "id": "N8zwrlXUoq09"
      },
      "id": "N8zwrlXUoq09",
      "execution_count": null,
      "outputs": []
    },
    {
      "cell_type": "code",
      "source": [
        "for _, comment in comments.iterrows():\n",
        "  sub_comm_count[comment[\"link_id\"]] += 1"
      ],
      "metadata": {
        "id": "lOOZWV_kpBTo"
      },
      "id": "lOOZWV_kpBTo",
      "execution_count": null,
      "outputs": []
    },
    {
      "cell_type": "code",
      "source": [
        "sub_comm_count"
      ],
      "metadata": {
        "id": "13tM9ICopxo8",
        "outputId": "a3f1c21c-1613-4258-9a92-3f471e7ee165",
        "colab": {
          "base_uri": "https://localhost:8080/"
        }
      },
      "id": "13tM9ICopxo8",
      "execution_count": null,
      "outputs": [
        {
          "output_type": "execute_result",
          "data": {
            "text/plain": [
              "{'t3_9m2rtu': 788,\n",
              " 't3_9m2taz': 88,\n",
              " 't3_9m2vp2': 43,\n",
              " 't3_9m2xra': 57,\n",
              " 't3_9m3312': 71,\n",
              " 't3_9m3sm4': 47,\n",
              " 't3_9m4hj2': 112,\n",
              " 't3_9m9yni': 69,\n",
              " 't3_9mbxvc': 58,\n",
              " 't3_9mfjom': 222,\n",
              " 't3_9mol6q': 50,\n",
              " 't3_9mpl3m': 46,\n",
              " 't3_9mpzu5': 55,\n",
              " 't3_9msgpy': 227,\n",
              " 't3_9mu3ty': 199,\n",
              " 't3_9mvlmx': 42,\n",
              " 't3_9mvysg': 68,\n",
              " 't3_9nnjsj': 62,\n",
              " 't3_9ns1ho': 138,\n",
              " 't3_9ns7o6': 43,\n",
              " 't3_9obu5r': 56,\n",
              " 't3_9omfiw': 78,\n",
              " 't3_9s8od9': 49}"
            ]
          },
          "metadata": {},
          "execution_count": 17
        }
      ]
    },
    {
      "cell_type": "code",
      "source": [
        "least_twenty = {sub_id[3:]:count for sub_id, count in sub_comm_count.items() if count < 222}"
      ],
      "metadata": {
        "id": "5Am1svi5pGna"
      },
      "id": "5Am1svi5pGna",
      "execution_count": null,
      "outputs": []
    },
    {
      "cell_type": "code",
      "source": [
        "print(f\"Total submissions: {len(least_twenty)}\")\n",
        "print(f\"Total comments: {sum(least_twenty.values())}\")"
      ],
      "metadata": {
        "id": "CHzp6945ptJk",
        "outputId": "f81039db-8ced-41bb-f878-7a5fe6eb244d",
        "colab": {
          "base_uri": "https://localhost:8080/"
        }
      },
      "id": "CHzp6945ptJk",
      "execution_count": null,
      "outputs": [
        {
          "output_type": "stream",
          "name": "stdout",
          "text": [
            "Total submissions: 20\n",
            "Total comments: 1431\n"
          ]
        }
      ]
    },
    {
      "cell_type": "code",
      "source": [
        "least_twenty_submissions = submissions[submissions[\"id\"].isin(least_twenty.keys())]\n",
        "least_twenty_comments = comments[comments[\"link_id\"].str[3:].isin(least_twenty.keys())]"
      ],
      "metadata": {
        "id": "eAbv3CmtqqvD"
      },
      "id": "eAbv3CmtqqvD",
      "execution_count": null,
      "outputs": []
    },
    {
      "cell_type": "code",
      "source": [
        "least_twenty_submissions.to_json(\"least_twenty_submissions.jsonl\", orient=\"records\", lines=True)\n",
        "least_twenty_comments.to_json(\"least_twenty_comments.jsonl\", orient=\"records\", lines=True)"
      ],
      "metadata": {
        "id": "aztzBiG5rDYK"
      },
      "id": "aztzBiG5rDYK",
      "execution_count": null,
      "outputs": []
    },
    {
      "cell_type": "markdown",
      "source": [
        "## Generation"
      ],
      "metadata": {
        "id": "ZwIu3FZptiSe"
      },
      "id": "ZwIu3FZptiSe"
    },
    {
      "cell_type": "code",
      "source": [
        "!wget https://raw.githubusercontent.com/barnabyashford/llm-powered-social-listener/refs/heads/main/submissions.jsonl -O submissions.jsonl\n",
        "!wget https://raw.githubusercontent.com/barnabyashford/llm-powered-social-listener/refs/heads/main/comments.jsonl -O comments.jsonl"
      ],
      "metadata": {
        "id": "o0Ou4fams18P",
        "outputId": "09a4ce3a-ca14-46d4-f4d6-c010e61e4ae5",
        "colab": {
          "base_uri": "https://localhost:8080/"
        }
      },
      "id": "o0Ou4fams18P",
      "execution_count": 2,
      "outputs": [
        {
          "output_type": "stream",
          "name": "stdout",
          "text": [
            "--2025-04-21 19:20:25--  https://raw.githubusercontent.com/barnabyashford/llm-powered-social-listener/refs/heads/main/submissions.jsonl\n",
            "Resolving raw.githubusercontent.com (raw.githubusercontent.com)... 185.199.110.133, 185.199.109.133, 185.199.111.133, ...\n",
            "Connecting to raw.githubusercontent.com (raw.githubusercontent.com)|185.199.110.133|:443... connected.\n",
            "HTTP request sent, awaiting response... 200 OK\n",
            "Length: 60719 (59K) [text/plain]\n",
            "Saving to: ‘submissions.jsonl’\n",
            "\n",
            "submissions.jsonl   100%[===================>]  59.30K  --.-KB/s    in 0.01s   \n",
            "\n",
            "2025-04-21 19:20:25 (4.25 MB/s) - ‘submissions.jsonl’ saved [60719/60719]\n",
            "\n",
            "--2025-04-21 19:20:26--  https://raw.githubusercontent.com/barnabyashford/llm-powered-social-listener/refs/heads/main/comments.jsonl\n",
            "Resolving raw.githubusercontent.com (raw.githubusercontent.com)... 185.199.108.133, 185.199.109.133, 185.199.110.133, ...\n",
            "Connecting to raw.githubusercontent.com (raw.githubusercontent.com)|185.199.108.133|:443... connected.\n",
            "HTTP request sent, awaiting response... 200 OK\n",
            "Length: 1702825 (1.6M) [text/plain]\n",
            "Saving to: ‘comments.jsonl’\n",
            "\n",
            "comments.jsonl      100%[===================>]   1.62M  --.-KB/s    in 0.07s   \n",
            "\n",
            "2025-04-21 19:20:26 (23.8 MB/s) - ‘comments.jsonl’ saved [1702825/1702825]\n",
            "\n"
          ]
        }
      ]
    },
    {
      "cell_type": "code",
      "source": [
        "submissions = pd.read_json(\"submissions.jsonl\", lines=True)\n",
        "comments = pd.read_json(\"comments.jsonl\", lines=True)\n",
        "print(submissions.shape[0])\n",
        "print(comments.shape[0])"
      ],
      "metadata": {
        "id": "-UX8Ihves-34",
        "outputId": "e989d38c-0d92-4ae6-a823-15161c0c8668",
        "colab": {
          "base_uri": "https://localhost:8080/"
        }
      },
      "id": "-UX8Ihves-34",
      "execution_count": 7,
      "outputs": [
        {
          "output_type": "stream",
          "name": "stdout",
          "text": [
            "20\n",
            "1431\n"
          ]
        }
      ]
    },
    {
      "cell_type": "code",
      "source": [
        "def form_reddit_threads(submission, comments_df) -> str:\n",
        "    \"\"\"\n",
        "    Print Reddit  submission and their comments in a thread-like structure\n",
        "    using the parent_id attribute to connect comments to their parents.\n",
        "    \"\"\"\n",
        "    separating_line = \"=\" * 50\n",
        "\n",
        "    submission_text = f\"{separating_line}\\nSUBMISSION: {submission['title']}\\n\\n{submission['selftext']}\\n\\nCOMMENTS:\\n\\n\"\n",
        "\n",
        "    # Get all comments for this submission\n",
        "    submission_id = f\"t3_{submission['id']}\" # Reddit prefixes submission IDs with t3_\n",
        "    submission_comments = comments_df[comments_df['link_id'] == submission_id].copy()\n",
        "\n",
        "    if len(submission_comments) == 0:\n",
        "      return submission_text\n",
        "\n",
        "    # Create a map for faster lookups\n",
        "    comment_map = {f\"t1_{comment['id']}\": comment for _, comment in submission_comments.iterrows()}\n",
        "\n",
        "    # Keep track of processed comments to avoid duplicates\n",
        "    processed_comments = set()\n",
        "\n",
        "    # Add a depth attribute to each comment\n",
        "    submission_comments['depth'] = 0\n",
        "\n",
        "    # Find top-level comments (those whose parent_id matches the submission_id)\n",
        "    top_level_comments = submission_comments[submission_comments['parent_id'] == submission_id]\n",
        "\n",
        "    # For each top-level comment, print it and its replies recursively\n",
        "    for _, comment in top_level_comments.iterrows():\n",
        "        submission_text = _add_comment_thread(text=submission_text, comment=comment, comment_map=comment_map, processed_comments=processed_comments, depth=0)\n",
        "\n",
        "    return submission_text + separating_line\n",
        "\n",
        "def _add_comment_thread(comment, comment_map, processed_comments, depth=0, text:str|None=None) -> str:\n",
        "    \"\"\"Recursively print a comment and its replies with proper indentation\"\"\"\n",
        "    comment_id = f\"t1_{comment['id']}\"\n",
        "\n",
        "    # Skip if already processed to avoid duplication\n",
        "    if comment_id in processed_comments:\n",
        "        return text\n",
        "\n",
        "    processed_comments.add(comment_id)\n",
        "\n",
        "    # Format the comment with appropriate indentation\n",
        "    indent = \"    \" * depth\n",
        "\n",
        "    if not text:\n",
        "      text = \"\"\n",
        "\n",
        "    text += f\"{indent}> {comment['body']}\\n\"\n",
        "\n",
        "    # Find and print all child comments\n",
        "    for potential_child_id, potential_child in comment_map.items():\n",
        "        if potential_child['parent_id'] == comment_id:\n",
        "            text = _add_comment_thread(text=text, comment=potential_child, comment_map=comment_map, processed_comments=processed_comments, depth= depth + 1)\n",
        "\n",
        "    return text"
      ],
      "metadata": {
        "id": "qTZ3Q2k1x0WX"
      },
      "id": "qTZ3Q2k1x0WX",
      "execution_count": null,
      "outputs": []
    },
    {
      "cell_type": "markdown",
      "source": [
        "## Baseline Strategy: Summarize by submission"
      ],
      "metadata": {
        "id": "DnumdAe4RAIb"
      },
      "id": "DnumdAe4RAIb"
    },
    {
      "cell_type": "code",
      "source": [
        "def baseline_summarize_submission(submission:pd.Series, comments:pd.DataFrame) -> str:\n",
        "\n",
        "  submission_text = form_reddit_threads(submission, comments)\n",
        "\n",
        "  prompt = (\"You are a LLM-powered social listener. Your task is to summarize this reddit submission retrieved from `r/ufc` subreddit. \"\n",
        "  \"The topic is how people of the internet think of the fight between Khabib Nurmagomedov vs Conor McGregor\\n\"\n",
        "  \"Here is the submission:\\n\\n\"\n",
        "  f\"{submission_text}\\n\\n\"\n",
        "  \"Please answer in this format:\\n\\n\"\n",
        "  \"# Submission Summarization\\n\\n\"\n",
        "  \"## Main Summary\\n\\n\"\n",
        "  \"{overall summary of the submission according to the topic.}\\n\\n\"\n",
        "  \"## Summary by aspects\\n\\n\"\n",
        "  \"{list different significant aspects and provide summary of each in this format: `- **aspect**: summary`}\\n\\n\"\n",
        "  \"## Conclusion\\n\\n\"\n",
        "  \"{conclude the entire summary}\")\n",
        "  # print(prompt) #debug\n",
        "\n",
        "  response = generate_content_with_rate_limit(prompt)\n",
        "  return response"
      ],
      "metadata": {
        "id": "z7zYahT-Qzrl"
      },
      "execution_count": null,
      "outputs": [],
      "id": "z7zYahT-Qzrl"
    },
    {
      "cell_type": "code",
      "source": [
        "test_submission = submissions.iloc[0]\n",
        "test_summary = baseline_summarize_submission(test_submission, comments)"
      ],
      "metadata": {
        "id": "Oa1PTPUzY8jG"
      },
      "execution_count": null,
      "outputs": [],
      "id": "Oa1PTPUzY8jG"
    },
    {
      "cell_type": "code",
      "source": [
        "from IPython.display import Markdown\n",
        "\n",
        "# display(Markdown(test_summary.text))\n",
        "display(Markdown(test_summary))"
      ],
      "metadata": {
        "colab": {
          "base_uri": "https://localhost:8080/",
          "height": 607
        },
        "id": "NhNLUKa9aH0h",
        "outputId": "8596d070-4145-45b8-e60b-62b6ca1fa5f0"
      },
      "execution_count": null,
      "outputs": [
        {
          "output_type": "display_data",
          "data": {
            "text/plain": [
              "<IPython.core.display.Markdown object>"
            ],
            "text/markdown": "# Submission Summarization\n\n## Main Summary\n\nThe Reddit submission on r/ufc discusses the potential punishment for Khabib Nurmagomedov following his actions after the Conor McGregor fight, with the author arguing that while Khabib's actions were wrong and deserve punishment, the UFC's lenient treatment of Conor McGregor's past transgressions, particularly the bus attack, contributed to the situation. The comments section debates the severity of Khabib's actions, the role of Conor's behavior in instigating the conflict, and the potential consequences, including suspensions, fines, and the stripping of the title. There is also discussion about Dana White's power and potential motivations, as well as the Nevada State Athletic Commission's involvement.\n\n## Summary by aspects\n\n- **Punishment for Khabib**: The main point of discussion is what punishment Khabib should receive, with opinions ranging from severe penalties like stripping the belt to more lenient fines and suspensions.\n- **Conor's Role and Past Actions**: A significant portion of the discussion revolves around Conor McGregor's past actions, particularly the bus attack, and whether the UFC's lack of serious punishment for him influenced Khabib's behavior.\n- **UFC's Double Standards**: Many users accuse the UFC of having double standards, favoring Conor McGregor due to his popularity and financial draw, and not consistently punishing fighters for their actions.\n- **Who is responsible for the punishment**: Some users point out that the Nevada State Athletic Commission, not the UFC, will be the one to decide the punishment.\n- **Potential Future Scenarios**: There is speculation about potential future fights, including a rematch between Khabib and Conor, or Khabib facing Tony Ferguson, and how the punishments might affect these scenarios.\n- **Staged Fight Theory**: A few users entertain the idea that the post-fight chaos might have been staged to generate hype and increase the financial stakes for a potential rematch.\n- **Conor's sucker punch**: Some users point out that Conor sucker punched one of Khabib's teammates inside the cage, which may have triggered Khabib's reaction.\n\n## Conclusion\n\nThe Reddit thread reflects a divided opinion on the Khabib-Conor post-fight incident, with many acknowledging Khabib's wrongdoing but also pointing to Conor's past behavior and the UFC's inconsistent disciplinary actions as contributing factors. The discussion encompasses potential punishments, future fight scenarios, and the overall impact on the sport's image.\n"
          },
          "metadata": {}
        }
      ],
      "id": "NhNLUKa9aH0h"
    },
    {
      "cell_type": "code",
      "source": [
        "def baseline_summarize(submissions:pd.DataFrame, comments:pd.DataFrame) -> str:\n",
        "  \"\"\"\n",
        "  Summarize all submissions in the submissions dataframe\n",
        "  \"\"\"\n",
        "  submission_summaries = {}\n",
        "  for _, submission in tqdm(submissions.iterrows(), desc=\"Summarizing submissions\", total=submissions.shape[0]):\n",
        "    summary = baseline_summarize_submission(submission, comments)\n",
        "    submission_summaries[submission['id']] = summary\n",
        "\n",
        "  separating_line = (\"-\" * 50) + \"\\n\"\n",
        "\n",
        "  prompt = (\"You are a LLM-powered social listener. Your task is to summarize these summaries from different reddit submissions retrieved from `r/ufc` subreddit. \"\n",
        "  \"The topic is how people of the internet think of the fight between Khabib Nurmagomedov vs Conor McGregor\\n\"\n",
        "  \"Here are the submission summaries:\\n\\n\"\n",
        "  f\"{separating_line}\\n\"\n",
        "  f\"{separating_line.join([summary for summary in submission_summaries.values()])}\\n\\n\"\n",
        "  f\"{separating_line}\\n\"\n",
        "  \"Please answer in this format:\\n\\n\"\n",
        "  \"# Reddit Social Listening Summarization\\n\\n\"\n",
        "  \"## Main Summary\\n\\n\"\n",
        "  \"{overall summary according to the topic.}\\n\\n\"\n",
        "  \"## Summary by aspects\\n\\n\"\n",
        "  \"{list different significant aspects and provide summary of each in this format: `- **aspect**: summary`}\\n\\n\"\n",
        "  \"## Conclusion\\n\\n\"\n",
        "  \"{conclude the entire summary}\")\n",
        "  # print(prompt) #debug\n",
        "\n",
        "  response = generate_content_with_rate_limit(prompt)\n",
        "  return (response, submission_summaries)"
      ],
      "metadata": {
        "id": "ayqYqqEOioa0"
      },
      "execution_count": null,
      "outputs": [],
      "id": "ayqYqqEOioa0"
    },
    {
      "cell_type": "code",
      "source": [
        "baseline_summary, summary_by_submission = baseline_summarize(submissions, comments)\n",
        "# display(Markdown(baseline_summary.text))\n",
        "display(Markdown(baseline_summary))"
      ],
      "metadata": {
        "colab": {
          "base_uri": "https://localhost:8080/",
          "height": 691,
          "referenced_widgets": [
            "59cde61fe7c842e9b99e5ffeb2f3201d",
            "f21ba45abc88469093d0af152114fb38",
            "a28ad5037eff48ab84d3a41787954d1f",
            "0d78618467274e17afedc0fa5f62e10d",
            "66100ebbb1854c66baf93b80ccb915a8",
            "2fa8c1c9c402407686b09144b4f087c3",
            "83931e47c5284d0b9a1464b584133918",
            "4fc1925ece054a989b7dd1f719fc7e00",
            "ed411b7b72474d38bb004ea920f4ab04",
            "61a524634e994340839691dcdf2c5109",
            "2ecfb168da054e5497b1a8e643b6d1f8"
          ]
        },
        "id": "coOXyKxWo32c",
        "outputId": "df0e36b0-7495-4454-b0f1-2ba11290a0d8"
      },
      "execution_count": null,
      "outputs": [
        {
          "output_type": "display_data",
          "data": {
            "text/plain": [
              "Summarizing submissions:   0%|          | 0/20 [00:00<?, ?it/s]"
            ],
            "application/vnd.jupyter.widget-view+json": {
              "version_major": 2,
              "version_minor": 0,
              "model_id": "59cde61fe7c842e9b99e5ffeb2f3201d"
            }
          },
          "metadata": {}
        },
        {
          "output_type": "display_data",
          "data": {
            "text/plain": [
              "<IPython.core.display.Markdown object>"
            ],
            "text/markdown": "# Reddit Social Listening Summarization\n\n## Main Summary\n\nThe Reddit community on r/ufc is highly engaged and divided in its opinions regarding the Khabib Nurmagomedov vs. Conor McGregor fight and its aftermath. Discussions encompass a wide range of topics, including the fairness of the fight, the post-fight brawl, potential punishments for both fighters, the UFC's handling of the situation, and the possibility of a rematch. A central theme revolves around perceived double standards in the treatment of McGregor versus Khabib, with many questioning the UFC's motivations and the impact of financial incentives on decision-making.\n\n## Summary by aspects\n\n-   **Fairness of the Fight**: Most agree that Khabib won the fight legitimately within the octagon, but some found Khabib's wrestling-heavy style boring.\n-   **Khabib's Post-Fight Actions**: Opinions are sharply divided, with some viewing it as an understandable emotional outburst after weeks of trash talk and others seeing it as an unacceptable assault that should be punished. The spitting incident is also a point of contention.\n-   **McGregor's Past Behavior**: Many commenters bring up McGregor's history of controversial actions, including the bus incident, and question whether he has faced adequate consequences. His trash talk is debated as \"just business\" or crossing into personal territory.\n-   **UFC's Double Standards**: Many users accuse the UFC of having double standards, favoring Conor McGregor due to his popularity and financial draw, and not consistently punishing fighters for their actions.\n-   **Potential Consequences for Khabib**: There's speculation about potential suspensions, fines, and even deportation, with some believing his career is over and others thinking he will face consequences but not be ruined. Some discuss the possibility of Khabib being stripped of his title.\n-   **Rematch Debate**: The community is split on whether McGregor deserves a rematch, with many arguing he should prove himself against other contenders first. The financial incentives for the UFC to make it happen are acknowledged.\n-   **Khabib's Marketability**: There's a debate on whether Khabib is marketable beyond his fighting skills, particularly in comparison to McGregor. Some believe he is marketable, particularly in Asia and Russia, and that his \"no trash-talking\" approach can attract a different audience.\n-   **Refereeing**: Herb Dean's refereeing is criticized, with many believing he favored McGregor and failed to penalize him for multiple illegal moves.\n-   **Racism Allegations**: There is discussion on whether Conor McGregor was truly racist towards Khabib Nurmagomedov during their pre-fight trash talk.\n-   **Khabib's Threat to Leave**: Khabib's threat to leave the UFC if his teammate Zubaira Tukhugov is cut is discussed, along with the potential fallout for the organization.\n\n## Conclusion\n\nThe Reddit threads reflect a complex and highly polarized view of the Khabib vs. McGregor fight and its aftermath. While Khabib's victory is generally acknowledged, the discussion revolves around the justification, consequences, and broader implications of the post-fight events, with comparisons to McGregor's past actions and the UFC's handling of controversial fighters. The overall sentiment is highly divided, reflecting the complex and emotional nature of the rivalry and the sport itself.\n"
          },
          "metadata": {}
        }
      ],
      "id": "coOXyKxWo32c"
    },
    {
      "cell_type": "code",
      "source": [
        "for id in summary_by_submission: # {submission_id:summary}\n",
        "  submissions[\"llm_summary\"] = submissions[\"id\"].map(summary_by_submission)"
      ],
      "metadata": {
        "id": "eMFwwkRPpkXH"
      },
      "execution_count": null,
      "outputs": [],
      "id": "eMFwwkRPpkXH"
    },
    {
      "cell_type": "code",
      "source": [
        "display(submissions[\"llm_summary\"].describe())"
      ],
      "metadata": {
        "colab": {
          "base_uri": "https://localhost:8080/",
          "height": 210
        },
        "id": "pSpfDOm2pwcU",
        "outputId": "de63e4ae-7757-44c6-cc93-5cf2e563d6c1"
      },
      "execution_count": null,
      "outputs": [
        {
          "output_type": "display_data",
          "data": {
            "text/plain": [
              "count                                                    20\n",
              "unique                                                   20\n",
              "top       # Submission Summarization\\n\\n## Main Summary\\...\n",
              "freq                                                      1\n",
              "Name: llm_summary, dtype: object"
            ],
            "text/html": [
              "<div>\n",
              "<style scoped>\n",
              "    .dataframe tbody tr th:only-of-type {\n",
              "        vertical-align: middle;\n",
              "    }\n",
              "\n",
              "    .dataframe tbody tr th {\n",
              "        vertical-align: top;\n",
              "    }\n",
              "\n",
              "    .dataframe thead th {\n",
              "        text-align: right;\n",
              "    }\n",
              "</style>\n",
              "<table border=\"1\" class=\"dataframe\">\n",
              "  <thead>\n",
              "    <tr style=\"text-align: right;\">\n",
              "      <th></th>\n",
              "      <th>llm_summary</th>\n",
              "    </tr>\n",
              "  </thead>\n",
              "  <tbody>\n",
              "    <tr>\n",
              "      <th>count</th>\n",
              "      <td>20</td>\n",
              "    </tr>\n",
              "    <tr>\n",
              "      <th>unique</th>\n",
              "      <td>20</td>\n",
              "    </tr>\n",
              "    <tr>\n",
              "      <th>top</th>\n",
              "      <td># Submission Summarization\\n\\n## Main Summary\\...</td>\n",
              "    </tr>\n",
              "    <tr>\n",
              "      <th>freq</th>\n",
              "      <td>1</td>\n",
              "    </tr>\n",
              "  </tbody>\n",
              "</table>\n",
              "</div><br><label><b>dtype:</b> object</label>"
            ]
          },
          "metadata": {}
        }
      ],
      "id": "pSpfDOm2pwcU"
    },
    {
      "cell_type": "code",
      "source": [
        "submissions.to_json(\"submissions_with_llm_summary.jsonl\", orient=\"records\", lines=True)"
      ],
      "metadata": {
        "id": "K10J0HbLqrIn"
      },
      "execution_count": null,
      "outputs": [],
      "id": "K10J0HbLqrIn"
    },
    {
      "cell_type": "code",
      "source": [
        "with open(\"llm_top_level_summary.md\", mode=\"w\") as textfile:\n",
        "  textfile.write(baseline_summary)"
      ],
      "metadata": {
        "id": "6sVWsZhUr0pB"
      },
      "execution_count": null,
      "outputs": [],
      "id": "6sVWsZhUr0pB"
    },
    {
      "cell_type": "markdown",
      "source": [
        "## Comment Classification"
      ],
      "metadata": {
        "id": "AKmTzwgVxFOF"
      },
      "id": "AKmTzwgVxFOF"
    },
    {
      "cell_type": "code",
      "source": [
        "def comment_context(target_comment: pd.Series, comments: pd.DataFrame):\n",
        "    \"\"\"\n",
        "    Create context string in submission and thread structure for a given comment.\n",
        "    \"\"\"\n",
        "    separating_line = \"=\" * 50\n",
        "\n",
        "    # Extract the submission ID from the comment's link_id\n",
        "    submission_id = target_comment['link_id']  # This should be in format 't3_xyz'\n",
        "\n",
        "    # If the submission ID doesn't start with 't3_', prepare it\n",
        "    if not submission_id.startswith('t3_'):\n",
        "        submission_id = f\"t3_{submission_id}\"\n",
        "\n",
        "    # Find the submission from its ID\n",
        "    # Note: This assumes there's a 'submissions' DataFrame available\n",
        "    # You'll need to adjust this to match how you're accessing submissions\n",
        "    submission_raw_id = submission_id.replace('t3_', '')\n",
        "    submission = submissions[submissions['id'] == submission_raw_id].iloc[0]\n",
        "\n",
        "    # Build the context with the submission\n",
        "    context = f\"{separating_line}\\nSUBMISSION: {submission['title']}\\n\\n{submission['selftext']}\\n\\nCOMMENTS:\\n\\n\"\n",
        "    # if pd.notna(submission['selftext']):\n",
        "    #     context += f\"{submission['selftext']}\\n\\n\"\n",
        "\n",
        "    # Get the comment's parent comments to build the thread context\n",
        "    parent_comments = []\n",
        "    current_comment = target_comment\n",
        "\n",
        "    # Traverse up the parent chain until we reach the submission\n",
        "    while True:\n",
        "        parent_id = current_comment['parent_id']\n",
        "\n",
        "        # If parent is the submission, we're done\n",
        "        if parent_id == submission_id:\n",
        "            break\n",
        "\n",
        "        # Find the parent comment\n",
        "        parent_raw_id = parent_id.replace('t1_', '')\n",
        "        parent_comments_filtered = comments[comments['id'] == parent_raw_id]\n",
        "\n",
        "        if parent_comments_filtered.empty:\n",
        "            break  # Parent comment not found\n",
        "\n",
        "        parent_comment = parent_comments_filtered.iloc[0]\n",
        "        parent_comments.append(parent_comment)\n",
        "        current_comment = parent_comment\n",
        "\n",
        "    # Reverse the list to get from top to bottom order\n",
        "    parent_comments.reverse()\n",
        "\n",
        "    # Add all parent comments to the context with proper indentation\n",
        "    for i, comment in enumerate(parent_comments):\n",
        "        indent = \"    \" * i\n",
        "        context += f\"{indent}> {comment['body']}\\n\\n\"\n",
        "\n",
        "    return context + separating_line\n",
        "\n",
        "def zero_shot_llm_sentiment_classify(submissions: pd.DataFrame, comments: pd.DataFrame, sentiments: list):\n",
        "    \"\"\"\n",
        "    Iterate on each comment and use corresponding submission and parent comments as context\n",
        "    to classify the sentiment.\n",
        "    \"\"\"\n",
        "    separating_line = (\"-\" * 50) + \"\\n\"\n",
        "    results = {}\n",
        "\n",
        "    try:\n",
        "      # Process each comment\n",
        "      for _, comment in tqdm(comments.iterrows(), desc=\"Classifying comments\", total=comments.shape[0]):\n",
        "          # Get context for this comment\n",
        "          context = comment_context(comment, comments)\n",
        "\n",
        "          # Construct the prompt\n",
        "          prompt = (\"You are a context-aware comment text classifier. \"\n",
        "                    f\"Your task is to classify a given comment in these sentiments: {', '.join(sentiments[:-1])}, and {sentiments[-1]}. \"\n",
        "                    \"The sentiment must be considered towards the fight, not preceding comments, although this can be considered as well.\\n\\n\"\n",
        "                    \"Use the submission and, if any, parent comments as context. Here is the context:\\n\\n\"\n",
        "                    f\"{separating_line}\\n\"\n",
        "                    f\"{context}\\n\"\n",
        "                    f\"{separating_line}\\n\"\n",
        "                    \"Here is the comment:\\n\\n\"\n",
        "                    f\"{separating_line}\\n\"\n",
        "                    f\"{comment['body']}\\n\"\n",
        "                    f\"{separating_line}\\n\"\n",
        "                    \"Please provide reasoning and label in this format:\\n\\n\"\n",
        "                    \"Reasoning: {reasoning}\\n\"\n",
        "                    \"Label: {label}\"\n",
        "                    )\n",
        "\n",
        "          # Get LLM response\n",
        "          response = generate_content_with_rate_limit(prompt)\n",
        "\n",
        "          # Extract the sentiment label\n",
        "          # Assuming the response follows the format with a label at the end\n",
        "          try:\n",
        "              reasoning = response.split(\"Reasoning: \")[1].split(\"Label: \")[0].strip()\n",
        "              print(f\"reasoning: {reasoning}\")\n",
        "              label = response.split(\"Label: \")[1].strip().lower()\n",
        "              print(f\"label: {label}\")\n",
        "          except IndexError:\n",
        "              # If parsing fails, store the raw response as reasoning and mark label as unknown\n",
        "              label_part = \"unknown\"\n",
        "\n",
        "          # Store the result\n",
        "          results[comment['id']] = label\n",
        "\n",
        "    except KeyboardInterrupt:\n",
        "      print(\"Interrupted by user\")\n",
        "    finally:\n",
        "      return results"
      ],
      "metadata": {
        "id": "Adx3DegoDGNL"
      },
      "execution_count": 8,
      "outputs": [],
      "id": "Adx3DegoDGNL"
    },
    {
      "cell_type": "code",
      "source": [
        "sentiment_classified = zero_shot_llm_sentiment_classify(submissions, comments, [\"positive\", \"negative\", \"neutral\"])"
      ],
      "metadata": {
        "colab": {
          "base_uri": "https://localhost:8080/",
          "height": 1000,
          "referenced_widgets": [
            "be8244cd8b7d4bd5b78cbad9f1121f44",
            "891bd551c1b74e759aaceea498a64174",
            "a1c5d62ac1354870abfefdd9428850fe",
            "e823bcc5ae3441249191467401de7ec5",
            "3fc23cfc2b864426b3f63f19961aa615",
            "2bb84005ad7e4d09a30d7d72321493c1",
            "64b499d2a1da404786e5af4947d1ccbb",
            "6246a67903554f0baadf69e828d2991a",
            "61a5b958dcf64e90aa8389e3fcdfa9f3",
            "83844cd2326f44a3bb1016fef37fe204",
            "15eb692f6afe4fdb9d94a3d7992c1614"
          ]
        },
        "id": "juwd-TBsgyip",
        "outputId": "f506de80-fb70-41f5-9d59-9a6934227935"
      },
      "execution_count": 9,
      "outputs": [
        {
          "output_type": "display_data",
          "data": {
            "text/plain": [
              "Classifying comments:   0%|          | 0/1431 [00:00<?, ?it/s]"
            ],
            "application/vnd.jupyter.widget-view+json": {
              "version_major": 2,
              "version_minor": 0,
              "model_id": "be8244cd8b7d4bd5b78cbad9f1121f44"
            }
          },
          "metadata": {}
        },
        {
          "output_type": "stream",
          "name": "stdout",
          "text": [
            "reasoning: The comment is a reaction to the length of the submission, not the fight itself or the actions of the fighters. It's a neutral observation about the timing of the post.\n",
            "label: neutral\n",
            "reasoning: The comment defends Khabib's actions by pointing out that Conor has also jumped out of the cage to confront people. This suggests a negative sentiment towards the punishment Khabib is facing and a defense of his actions.\n",
            "label: negative\n",
            "reasoning: The comment agrees with the submission's point that Conor's actions and the UFC's lack of punishment for them influenced Khabib's behavior. It expresses a negative sentiment towards Conor and the UFC.\n",
            "label: negative\n",
            "reasoning: The comment expresses amusement at the idea that Khabib cannot be stripped of his title, directly contradicting that notion. This suggests a negative sentiment towards Khabib's actions and a belief that he should be punished.\n",
            "label: negative\n",
            "reasoning: The comment expresses disapproval of Khabib's actions after the fight, calling it \"disgusting\" and \"bad for the sport.\" It acknowledges Conor's past actions but emphasizes that they occurred outside the cage, implying a distinction in severity. The comment also anticipates Khabib's suspension and stripping of the title, indicating a negative sentiment towards his behavior.\n",
            "label: negative\n",
            "reasoning: The comment \"Getting that karma\" is a short, dismissive remark implying the original poster is simply seeking attention or validation (karma) by posting quickly after the event. It doesn't express a positive, negative, or neutral sentiment towards the fight itself or the fighters involved.\n",
            "label: neutral\n",
            "reasoning: The comment is critical of Dana White and his authority within the UFC, implying that he is responsible for the situation. This is a negative sentiment towards the UFC and its handling of the situation.\n",
            "label: negative\n",
            "reasoning: The comment is a response to the previous comment about the timing of the original post. It doesn't express any sentiment towards the fight or the fighters involved.\n",
            "label: neutral\n",
            "reasoning: The comment expresses a strong negative sentiment towards Khabib, suggesting he should be deported as punishment for his actions. This is a harsh and punitive measure, indicating a negative view of Khabib's behavior.\n",
            "label: negative\n",
            "reasoning: The comment expresses agreement with the submission's point about potential punishment for Khabib's actions. It also highlights the severity of throwing shots and anticipates a strong response from Dana, indicating a negative sentiment towards Khabib's actions.\n",
            "label: negative\n",
            "reasoning: The comment is a humorous remark about the speed at which the original post was written, implying it was written before the event even concluded. It doesn't express a positive, negative, or neutral sentiment towards the fight itself or the fighters involved.\n",
            "label: neutral\n",
            "reasoning: The comment expresses a neutral stance on the situation, stating what Khabib said and what Danis did, and then concluding with a neutral statement about Conor's loss.\n",
            "label: neutral\n",
            "reasoning: The comment argues that Conor's actions (attacking the bus) were worse than Khabib's (jumping out of the cage to fight Dillon Danis). While acknowledging Zubaira's attack on Conor was wrong, the overall sentiment is critical of Conor and somewhat defends Khabib's actions as a reaction to a lesser offense.\n",
            "label: negative\n",
            "reasoning: The comment expresses an opinion on the potential consequences for Khabib's actions, specifically regarding the possibility of being stripped of his title. It suggests that the title would not be given to Conor, but that Khabib could be stripped for his actions. The comment does not express strong positive or negative sentiment towards Khabib or the situation, but rather a neutral assessment of the potential outcome.\n",
            "label: neutral\n",
            "reasoning: The comment expresses amusement at the idea of deportation as a serious punishment, implying a negative sentiment towards the severity of the situation and potentially towards Khabib's actions.\n",
            "label: negative\n",
            "reasoning: The comment is pointing out a detail about the Conor attack, which is relevant to the discussion of punishment and fairness. It doesn't express a strong positive or negative sentiment towards Khabib's actions or the UFC's handling of the situation, but rather offers a factual correction.\n",
            "label: neutral\n"
          ]
        },
        {
          "output_type": "stream",
          "name": "stderr",
          "text": [
            "WARNING:tornado.access:429 POST /v1beta/models/gemini-2.0-flash:generateContent?%24alt=json%3Benum-encoding%3Dint (127.0.0.1) 556.24ms\n",
            "WARNING:tornado.access:429 POST /v1beta/models/gemini-2.0-flash:generateContent?%24alt=json%3Benum-encoding%3Dint (127.0.0.1) 582.22ms\n",
            "WARNING:tornado.access:429 POST /v1beta/models/gemini-2.0-flash:generateContent?%24alt=json%3Benum-encoding%3Dint (127.0.0.1) 607.04ms\n",
            "WARNING:tornado.access:429 POST /v1beta/models/gemini-2.0-flash:generateContent?%24alt=json%3Benum-encoding%3Dint (127.0.0.1) 556.68ms\n",
            "WARNING:tornado.access:429 POST /v1beta/models/gemini-2.0-flash:generateContent?%24alt=json%3Benum-encoding%3Dint (127.0.0.1) 556.80ms\n",
            "WARNING:tornado.access:429 POST /v1beta/models/gemini-2.0-flash:generateContent?%24alt=json%3Benum-encoding%3Dint (127.0.0.1) 557.92ms\n"
          ]
        },
        {
          "output_type": "stream",
          "name": "stdout",
          "text": [
            "reasoning: The comment acknowledges the previous discussion about Khabib's actions and punishment, indicating a neutral stance towards the fight itself.\n",
            "label: neutral\n",
            "reasoning: The comment discusses the possibility of Khabib being stripped of his title and how the UFC might handle the situation, suggesting a fight between the number 2 and 3 lightweights for the vacant title. This is a neutral observation about potential consequences.\n",
            "label: neutral\n",
            "reasoning: The comment agrees with the parent comment and discusses potential scenarios for the title shot, including Conor getting an immediate shot, Nate vs. Poirier winner being a contender, and Tony Ferguson being involved regardless of Khabib's status. It doesn't express strong positive or negative sentiment towards the fight itself, but rather discusses potential outcomes and contenders.\n",
            "label: neutral\n",
            "reasoning: The comment expresses strong negative sentiment towards both fighters, advocating for their removal from the UFC due to their actions. It directly criticizes both McGregor's past actions and the current situation, indicating a negative stance towards the fight and its participants.\n",
            "label: negative\n",
            "reasoning: The comment expresses a negative sentiment towards Dana White and the UFC, suggesting that Khabib's actions were a \"favor to MMA.\" This implies a negative view of the current state of MMA and a justification for Khabib's behavior.\n",
            "label: negative\n",
            "reasoning: The comment expresses amusement at the idea that Dana White (UFC president) cannot strip Khabib of his title, implying the commenter believes it is possible. It also suggests a long absence for Khabib, which could be interpreted as a negative outcome for him. Overall, the sentiment leans towards neutral, acknowledging the possibility of punishment without strong positive or negative feelings.\n",
            "label: neutral\n",
            "reasoning: The comment expresses an opinion on Dana White's power over UFC fighters and anticipates potential penalties from the NSAC. It doesn't explicitly support or condemn Khabib's actions, but rather focuses on the broader implications of the situation.\n",
            "label: neutral\n",
            "reasoning: The comment \"Except for the President\" is a neutral statement. It doesn't express a positive or negative sentiment towards the fight, Khabib, Conor, or the UFC's actions. It's a simple observation or potentially sarcastic remark that requires more context to fully understand, but on its own, it doesn't convey a clear sentiment.\n",
            "label: neutral\n",
            "reasoning: The comment agrees with the analysis of the submission, but questions the practicality of preventing fighters from settling disputes through fighting, which is inherently part of the sport. It acknowledges the issues raised but expresses uncertainty about a better alternative.\n",
            "label: neutral\n",
            "reasoning: The comment expresses disapproval of both Khabib's and Conor's actions, stating that both points are bad. It also suggests that Khabib should have acted with more restraint and maturity after winning the fight. This indicates a negative sentiment towards Khabib's actions.\n",
            "label: negative\n",
            "reasoning: The comment expresses a strong desire for Khabib to be punished severely, including stripping him of the belt and preventing a rematch. This indicates a negative sentiment towards Khabib's actions and a desire for strict consequences.\n",
            "label: negative\n",
            "reasoning: The comment expresses strong disapproval and insults the quality of another comment on Reddit. This indicates a negative sentiment towards the comment being referenced.\n",
            "label: negative\n",
            "reasoning: The comment acknowledges Khabib's actions were wrong in terms of sportsmanship but also understands the context of Conor's behavior and insults towards Khabib's family. It expresses a nuanced view, suggesting Khabib was justified in protecting his name and family to some extent.\n",
            "label: neutral\n",
            "reasoning: The comment is a sarcastic jab at Khabib, implying he is not from where he claims to be, likely due to his actions. This is a negative sentiment towards Khabib.\n",
            "label: negative\n",
            "reasoning: The comment expresses a desire for Khabib to be stripped of his title and for an interim title to be given to Tony Ferguson. It also expresses hope for a rematch between Khabib and Conor, followed by a fight between the winner and Tony. The comment acknowledges the deep-seated animosity between Khabib and Conor. Overall, the comment is neutral towards the fight itself, but expresses a desire for a specific outcome.\n",
            "label: neutral\n",
            "reasoning: The comment expresses frustration with Conor McGregor and his behavior, criticizing his performance in the fight, his past actions, and the UFC's lenient treatment of him. This indicates a negative sentiment towards Conor and his involvement in the sport.\n",
            "label: negative\n"
          ]
        },
        {
          "output_type": "stream",
          "name": "stderr",
          "text": [
            "WARNING:tornado.access:429 POST /v1beta/models/gemini-2.0-flash:generateContent?%24alt=json%3Benum-encoding%3Dint (127.0.0.1) 885.19ms\n",
            "WARNING:tornado.access:429 POST /v1beta/models/gemini-2.0-flash:generateContent?%24alt=json%3Benum-encoding%3Dint (127.0.0.1) 1616.43ms\n",
            "WARNING:tornado.access:429 POST /v1beta/models/gemini-2.0-flash:generateContent?%24alt=json%3Benum-encoding%3Dint (127.0.0.1) 581.96ms\n",
            "WARNING:tornado.access:429 POST /v1beta/models/gemini-2.0-flash:generateContent?%24alt=json%3Benum-encoding%3Dint (127.0.0.1) 558.11ms\n",
            "WARNING:tornado.access:429 POST /v1beta/models/gemini-2.0-flash:generateContent?%24alt=json%3Benum-encoding%3Dint (127.0.0.1) 556.45ms\n",
            "WARNING:tornado.access:429 POST /v1beta/models/gemini-2.0-flash:generateContent?%24alt=json%3Benum-encoding%3Dint (127.0.0.1) 557.12ms\n"
          ]
        },
        {
          "output_type": "stream",
          "name": "stdout",
          "text": [
            "reasoning: The comment provides evidence of Khabib throwing a punch, which is relevant to the discussion of his punishment. It doesn't express a clear positive, negative, or neutral sentiment towards the fight itself, but rather provides factual information.\n",
            "label: neutral\n",
            "reasoning: The comment is questioning the authenticity of the events surrounding Khabib's punishment, suggesting it might have been staged. This doesn't express a positive or negative sentiment towards the fight or the fighters involved, but rather a skeptical perspective on the situation.\n",
            "label: neutral\n",
            "reasoning: The comment \"Even better than\" is incomplete and lacks context to determine sentiment towards the fight or the fighters involved. It's a fragment of a thought and doesn't express a clear opinion.\n",
            "label: neutral\n",
            "reasoning: The comment expresses a negative sentiment towards Conor McGregor, referencing a past incident where he allegedly assaulted an official. It is relevant to the discussion of punishment and double standards in MMA, as it draws a parallel between McGregor's actions and Khabib's.\n",
            "label: negative\n",
            "reasoning: The comment expresses a justification for Khabib's actions, stating that McGregor needed to be held accountable for his behavior and that Khabib was the one to do it. While acknowledging the violence, it frames it as a necessary response to McGregor's disrespect and personal attacks. This leans towards a positive sentiment towards Khabib's actions in the context of the fight.\n",
            "label: positive\n",
            "reasoning: The comment expresses a negative sentiment towards Khabib, calling him a \"thug\" and predicting he will lose to Tony in \"terrible form.\" It also mentions his teammates being in jail and not welcome back to fights.\n",
            "label: negative\n",
            "reasoning: The comment expresses the opinion that Khabib shouldn't be stripped of his title, citing similar or worse actions by other fighters (Connor, Nate) that went unpunished. It also questions what Khabib actually did and highlights Conor's actions, suggesting that Conor should also be punished. This indicates a supportive stance towards Khabib in the context of the fight's aftermath.\n",
            "label: positive\n",
            "reasoning: The comment expresses the opinion that Khabib shouldn't be stripped of his title, citing similar or worse actions by other fighters (Connor, Nate) that went unpunished. It also questions what Khabib actually did and highlights Conor's actions, suggesting that Conor should also be punished. This indicates a supportive stance towards Khabib in the context of the fight's aftermath.\n",
            "label: positive\n",
            "reasoning: The comment states that Khabib did assault Danis, which is a negative sentiment towards Khabib's actions after the fight.\n",
            "label: negative\n",
            "reasoning: The comment expresses a negative sentiment towards the UFC's use of controversial tactics to promote fights, implying that these tactics contributed to the negative outcome of the fight.\n",
            "label: negative\n",
            "reasoning: The comment is sarcastic and humorous, implying the original post is too long. It doesn't express a positive or negative sentiment towards the fight itself or the fighters involved.\n",
            "label: neutral\n",
            "reasoning: The comment expresses disagreement with the original post's prediction of severe punishment for Khabib. It suggests a lenient outcome and views the situation as a marketing tactic, implying a neutral or even positive view of the events' impact on the sport.\n",
            "label: neutral\n",
            "reasoning: The comment discusses the UFC's likely stance on the situation, predicting they will differentiate between actions against fighters (trash talk) and actions against fans or the crowd. It doesn't express a strong positive or negative sentiment towards Khabib's actions or the UFC's potential response, but rather offers an analysis of the situation.\n",
            "label: neutral\n",
            "reasoning: The comment suggests that the events following the fight, including Khabib's actions and potential punishment, could be staged to create hype for a rematch between McGregor and Khabib. This doesn't express a positive or negative sentiment towards the fight itself, but rather a cynical view of the UFC's motivations.\n",
            "label: neutral\n",
            "reasoning: The comment argues that the UFC is not the one responsible for the punishments, but rather the courts and the Nevada State Gaming Commission. It also points out that Dana White was ready to hand Khabib the belt, indicating a neutral stance from the UFC. The comment does not express a positive or negative sentiment towards the fight itself, but rather clarifies the roles of different parties in the aftermath.\n",
            "label: neutral\n",
            "reasoning: The comment discusses the potential consequences for Khabib's actions, suggesting that the UFC's decision will depend on the commission's suspension. It implies a negative outcome for Khabib if the commission suspends him, but also suggests the UFC might try to avoid stripping him if possible. The comment is neutral in its assessment of the situation.\n",
            "label: neutral\n"
          ]
        },
        {
          "output_type": "stream",
          "name": "stderr",
          "text": [
            "WARNING:tornado.access:429 POST /v1beta/models/gemini-2.0-flash:generateContent?%24alt=json%3Benum-encoding%3Dint (127.0.0.1) 582.01ms\n",
            "WARNING:tornado.access:429 POST /v1beta/models/gemini-2.0-flash:generateContent?%24alt=json%3Benum-encoding%3Dint (127.0.0.1) 556.73ms\n",
            "WARNING:tornado.access:429 POST /v1beta/models/gemini-2.0-flash:generateContent?%24alt=json%3Benum-encoding%3Dint (127.0.0.1) 582.09ms\n",
            "WARNING:tornado.access:429 POST /v1beta/models/gemini-2.0-flash:generateContent?%24alt=json%3Benum-encoding%3Dint (127.0.0.1) 556.40ms\n",
            "WARNING:tornado.access:429 POST /v1beta/models/gemini-2.0-flash:generateContent?%24alt=json%3Benum-encoding%3Dint (127.0.0.1) 556.72ms\n",
            "WARNING:tornado.access:429 POST /v1beta/models/gemini-2.0-flash:generateContent?%24alt=json%3Benum-encoding%3Dint (127.0.0.1) 558.09ms\n"
          ]
        },
        {
          "output_type": "stream",
          "name": "stdout",
          "text": [
            "reasoning: The comment expresses disagreement with the previous comment's assertion that there will not be a Khabib vs. Conor 2 fight. It questions the source of that information and suggests that the fight is likely to happen in the future. The comment does not express strong positive or negative sentiment towards either fighter or the fight itself, but rather a neutral stance of disagreement and prediction.\n",
            "label: neutral\n",
            "reasoning: The comment expresses a desire to see Khabib fight Tony for the belt, which implies a positive sentiment towards Khabib retaining the belt and continuing to fight.\n",
            "label: positive\n",
            "reasoning: The comment \"It could win you a presidency\" is a sarcastic remark about the potential benefits of controversial actions, likely referring to Khabib's actions and the attention they garnered. It implies that such behavior, while wrong, could be seen as a display of strength or defiance, potentially appealing to certain audiences. This is a negative sentiment towards the situation.\n",
            "label: negative\n",
            "reasoning: The comment expresses a neutral sentiment towards the situation, stating that the UFC prioritizes money over ethics due to Conor being a big draw. It doesn't explicitly support or condemn either fighter's actions, but rather explains the UFC's potential motivation.\n",
            "label: neutral\n",
            "reasoning: The comment expresses a negative sentiment towards Khabib, suggesting he could lose to an Irish fighter.\n",
            "label: negative\n",
            "reasoning: The comment is speculating on the potential suspension length for Khabib and how the UFC might use this situation to set up future fights. It doesn't express a strong positive or negative sentiment towards Khabib or the situation, but rather offers a neutral prediction.\n",
            "label: neutral\n",
            "reasoning: The comment \"Double standards\" is a direct response to the submission's argument about the UFC's inconsistent punishment of Conor McGregor and Khabib Nurmagomedov. The submission argues that the UFC's lenient treatment of McGregor's violent actions (bus attack) influenced Khabib's behavior and that the UFC is now being hypocritical in their outrage. The comment \"Double standards\" is in agreement with this argument.\n",
            "label: positive\n",
            "reasoning: The comment expresses a neutral sentiment towards Conor McGregor's drawing power before the fight and suggests that his performance in the fight may have negatively impacted his stock. It doesn't express strong positive or negative feelings about the fight itself, but rather focuses on the potential impact on McGregor's marketability.\n",
            "label: neutral\n",
            "reasoning: The comment expresses a negative sentiment towards the UFC's handling of the situation, predicting lenient punishment for Khabib similar to Conor, and suggesting the UFC will exploit the incident for promotion.\n",
            "label: negative\n",
            "reasoning: The comment provides a link to a video that allegedly shows Conor starting the chaos inside the cage by throwing the first punch. This suggests a negative sentiment towards Conor and potentially a more understanding view of Khabib's actions, as it provides context for his reaction.\n",
            "label: negative\n",
            "reasoning: The comment \"No\" is a direct response to the question \"anyone think it could've been staged?\". It expresses disagreement with the idea that the events following the fight were staged. This doesn't express any sentiment towards the fight itself, but rather a specific theory about the aftermath.\n",
            "label: neutral\n",
            "reasoning: The comment expresses a negative sentiment towards Conor McGregor's future as a draw, citing his recent losses and the diminishing impact of his trash talk. It suggests that his appeal is declining due to his performance in recent fights.\n",
            "label: negative\n",
            "reasoning: The comment expresses agreement with fines and suspensions for Khabib, but disagrees with stripping him of the belt. The commenter believes the belt should be tied to in-ring performance and defense of the title, not personal conduct. They suggest using Khabib's paycheck to cover fines and legal fees. This indicates a mixed sentiment, but leaning towards defending Khabib's title.\n",
            "label: neutral\n",
            "reasoning: The comment simply asks \"Khabib or Conor?\", which doesn't express any sentiment towards the fight or the fighters involved. It's a neutral question.\n",
            "label: neutral\n",
            "reasoning: The comment discusses the evolution of fighting styles and how fighters like Khabib have adapted a \"grinding wrestle fk style\" that is difficult to deal with. It mentions Conor's loss to Khabib as an example of this trend. The comment is neutral in tone and doesn't express strong positive or negative sentiments towards the fight itself, but rather analyzes the broader context of fighting styles.\n",
            "label: neutral\n",
            "reasoning: The comment is stating a fact about Conor's actions that led to injuries. This is presented as a negative consequence of his behavior, contributing to the overall negative sentiment towards the fight and the events surrounding it.\n",
            "label: negative\n"
          ]
        },
        {
          "output_type": "stream",
          "name": "stderr",
          "text": [
            "WARNING:tornado.access:429 POST /v1beta/models/gemini-2.0-flash:generateContent?%24alt=json%3Benum-encoding%3Dint (127.0.0.1) 558.89ms\n",
            "WARNING:tornado.access:429 POST /v1beta/models/gemini-2.0-flash:generateContent?%24alt=json%3Benum-encoding%3Dint (127.0.0.1) 583.12ms\n",
            "WARNING:tornado.access:429 POST /v1beta/models/gemini-2.0-flash:generateContent?%24alt=json%3Benum-encoding%3Dint (127.0.0.1) 556.13ms\n",
            "WARNING:tornado.access:429 POST /v1beta/models/gemini-2.0-flash:generateContent?%24alt=json%3Benum-encoding%3Dint (127.0.0.1) 557.04ms\n",
            "WARNING:tornado.access:429 POST /v1beta/models/gemini-2.0-flash:generateContent?%24alt=json%3Benum-encoding%3Dint (127.0.0.1) 632.17ms\n"
          ]
        },
        {
          "output_type": "stream",
          "name": "stdout",
          "text": [
            "reasoning: The comment \"Dana standards\" is a sarcastic remark implying that Dana White, the president of the UFC, applies double standards in his treatment of fighters. This aligns with the parent comment \"Double standards\" and the submission's argument that the UFC's lenient treatment of Conor McGregor's past transgressions influenced Khabib's behavior. The comment expresses a negative sentiment towards Dana White and the UFC's handling of the situation.\n",
            "label: negative\n",
            "reasoning: The comment agrees with the point made in the parent comment about the involvement of external parties (like the Nevada State Gaming Commission) in doling out punishments, and mentions the arrest of Khabib's cornermen as further evidence. This suggests a neutral stance towards the fight itself, focusing more on the legal consequences.\n",
            "label: neutral\n",
            "reasoning: The comment expresses a strong negative sentiment towards Khabib's actions, stating he should be suspended and stripped of the belt. It also criticizes those defending his behavior.\n",
            "label: negative\n",
            "reasoning: The comment is a political statement that is not directly related to the fight or the fighters involved. It is a comparison between Dana White and the current president, which is a neutral statement in the context of the fight.\n",
            "label: neutral\n",
            "reasoning: The comment expresses disagreement with stripping Khabib of his belt, arguing it's a double standard compared to Conor's past actions and other incidents. It suggests a fine and clear policies instead, indicating a supportive stance towards Khabib keeping his belt.\n",
            "label: positive\n",
            "reasoning: The comment expresses a negative sentiment towards McGregor, stating he was the first to swing and committed assault. This implies a negative view of McGregor's actions in the context of the fight and its aftermath.\n",
            "label: negative\n",
            "reasoning: The comment expresses agreement with the previous comment, which argues against stripping Khabib of his belt and highlights the double standards in UFC's disciplinary actions. This implies a negative sentiment towards the potential punishment of Khabib and a critical view of the UFC's handling of similar incidents involving Conor McGregor.\n",
            "label: negative\n",
            "reasoning: The comment expresses disagreement with the previous comment's assertion that Conor started the chaos. It questions the logic of blaming Conor for swinging first in the cage when Khabib jumped the cage and attacked Conor's team. The tone is aggressive and accusatory, indicating a negative sentiment towards the idea that Conor is to blame.\n",
            "label: negative\n",
            "reasoning: The comment expresses disagreement with a previous statement, questioning how someone could arrive at a particular conclusion. This indicates a negative sentiment towards the conclusion being questioned.\n",
            "label: negative\n",
            "reasoning: The comment expresses a negative sentiment towards Conor McGregor's actions, stating that he threw a sucker punch after the fight, which initiated further conflict. This implies a negative view of Conor's behavior.\n",
            "label: negative\n",
            "reasoning: The comment expresses a negative sentiment towards Conor McGregor's actions during the fight, specifically criticizing him for throwing a sucker punch and initiating chaos inside the cage. The commenter uses a rhetorical question and a direct insult (\"Are YOU retarded?\") to emphasize their disagreement with the previous comment's perspective.\n",
            "label: negative\n",
            "reasoning: The comment expresses a negative sentiment towards the argument that Conor started the chaos. It defends Khabib's actions by stating that the location of the chaos is unimportant and insults the previous commenter.\n",
            "label: negative\n",
            "reasoning: The comment argues that Conor initiated the violence inside the cage by sucker-punching Khabib's teammate, suggesting that location matters in determining who started the chaos. This is in direct response to the previous comment that location is unimportant. The comment is therefore negative towards Conor and positive towards Khabib.\n",
            "label: positive\n",
            "reasoning: The comment expresses disagreement with the previous comment's point about Conor starting the chaos inside the cage. It argues that the chaos originated with Khabib jumping the fence and that Conor's actions were a reaction to his team being attacked. The comment uses harsh language (\"retard\") and is clearly taking a side against the argument that Conor is to blame.\n",
            "label: negative\n",
            "reasoning: The comment questions the source of information of the parent comment, implying disbelief or disagreement with the claims made. This suggests a negative sentiment towards the parent comment's statements about the fight and its aftermath.\n",
            "label: negative\n",
            "reasoning: The comment defends Khabib's actions as retaliation for Conor attacking his teammate in the ring. While acknowledging it doesn't make it right, it suggests there was a reason for the attack, implying a justification for Khabib's behavior. This leans towards a more positive sentiment towards Khabib's actions in the fight.\n",
            "label: positive\n"
          ]
        },
        {
          "output_type": "stream",
          "name": "stderr",
          "text": [
            "WARNING:tornado.access:429 POST /v1beta/models/gemini-2.0-flash:generateContent?%24alt=json%3Benum-encoding%3Dint (127.0.0.1) 556.83ms\n",
            "WARNING:tornado.access:429 POST /v1beta/models/gemini-2.0-flash:generateContent?%24alt=json%3Benum-encoding%3Dint (127.0.0.1) 608.34ms\n",
            "WARNING:tornado.access:429 POST /v1beta/models/gemini-2.0-flash:generateContent?%24alt=json%3Benum-encoding%3Dint (127.0.0.1) 556.90ms\n",
            "WARNING:tornado.access:429 POST /v1beta/models/gemini-2.0-flash:generateContent?%24alt=json%3Benum-encoding%3Dint (127.0.0.1) 556.72ms\n",
            "WARNING:tornado.access:429 POST /v1beta/models/gemini-2.0-flash:generateContent?%24alt=json%3Benum-encoding%3Dint (127.0.0.1) 583.25ms\n",
            "WARNING:tornado.access:429 POST /v1beta/models/gemini-2.0-flash:generateContent?%24alt=json%3Benum-encoding%3Dint (127.0.0.1) 556.82ms\n"
          ]
        },
        {
          "output_type": "stream",
          "name": "stdout",
          "text": [
            "reasoning: The comment is providing information about what Rogan and White said after the fight, which is relevant to the discussion about Khabib's punishment and potential future fights. It doesn't express a strong positive or negative sentiment towards Khabib, Conor, or the fight itself, but rather offers factual details.\n",
            "label: neutral\n",
            "reasoning: The comment is responding to a question about Dana White's statement regarding a potential rematch between Khabib and Conor. The commenter clarifies that their statement is based on an interview and is purely conjecture. This doesn't express a strong positive or negative sentiment towards the fight itself, but rather provides information and context.\n",
            "label: neutral\n",
            "reasoning: The comment is questioning the source of information provided in the parent comment. It does not express a positive or negative sentiment towards the fight or the fighters involved.\n",
            "label: neutral\n",
            "reasoning: The comment provides a link to an article that supports the claim that Rogan and White don't want a rematch. It is in response to a previous comment that questioned the source of that information. The comment is dismissive of the previous commenter's skepticism.\n",
            "label: positive\n",
            "reasoning: The comment is sarcastic and dismissive of the author's point, implying that Dana White's (UFC president) actions are racially motivated. This is a negative sentiment towards the situation.\n",
            "label: negative\n",
            "reasoning: The comment is pointing out inaccuracies in a previous comment regarding the likelihood of a rematch, backstage fights, and the legal status of Khabib's teammates. It's not explicitly positive or negative towards Khabib or Conor, but rather a factual correction.\n",
            "label: neutral\n",
            "reasoning: The comment expresses a neutral stance, acknowledging past concerns about potential punishments and their impact, but ultimately concluding that both fighters received fair treatment from the UFC. It also expresses hope for a future fight between Khabib and Ferguson.\n",
            "label: neutral\n",
            "reasoning: The comment \"Word\" is a simple affirmation or agreement. It doesn't express any positive or negative sentiment towards the fight, the fighters, or the situation being discussed.\n",
            "label: neutral\n",
            "reasoning: The comment \"Its assault tho..\" is a negative statement about Khabib's actions after the fight. It is a negative sentiment towards the fight.\n",
            "label: negative\n",
            "reasoning: The comment expresses a positive sentiment towards Khabib, stating he deserves more respect and pointing out Conor's illegal moves without repercussions.\n",
            "label: positive\n",
            "reasoning: The comment emphasizes that the assault happened after Khabib won the title fairly, suggesting that the two events should be considered separately. This implies a defense of Khabib's victory despite his subsequent actions.\n",
            "label: neutral\n",
            "reasoning: The comment is sarcastic and critical of the original post's attempt to downplay Khabib's actions by comparing them to Conor's. It implies that the original post is excusing Khabib's actions while condemning Conor's, which is seen as unfair.\n",
            "label: negative\n",
            "reasoning: The comment expresses concern about the consequences of Khabib's actions, suggesting that the commission might not let it go and that fights are breaking out outside the arena. This indicates a negative sentiment towards the situation caused by Khabib's actions.\n",
            "label: negative\n",
            "reasoning: The comment is asking a question about the legal term for the bus incident, which is a neutral inquiry. It doesn't express any positive or negative sentiment towards the fight or the fighters involved.\n",
            "label: neutral\n",
            "reasoning: The comment \"Unsportsmanlike\" is a negative sentiment towards Khabib's actions after the fight, which the submission acknowledges as \"bad decisions.\" The comment directly criticizes the behavior.\n",
            "label: negative\n",
            "reasoning: The comment suggests that Dillon and Conor should sue, implying that Khabib's actions were wrong and actionable. This suggests a negative sentiment towards Khabib's actions.\n",
            "label: negative\n"
          ]
        },
        {
          "output_type": "stream",
          "name": "stderr",
          "text": [
            "WARNING:tornado.access:429 POST /v1beta/models/gemini-2.0-flash:generateContent?%24alt=json%3Benum-encoding%3Dint (127.0.0.1) 582.08ms\n",
            "WARNING:tornado.access:429 POST /v1beta/models/gemini-2.0-flash:generateContent?%24alt=json%3Benum-encoding%3Dint (127.0.0.1) 556.50ms\n",
            "WARNING:tornado.access:429 POST /v1beta/models/gemini-2.0-flash:generateContent?%24alt=json%3Benum-encoding%3Dint (127.0.0.1) 582.56ms\n",
            "WARNING:tornado.access:429 POST /v1beta/models/gemini-2.0-flash:generateContent?%24alt=json%3Benum-encoding%3Dint (127.0.0.1) 556.63ms\n",
            "WARNING:tornado.access:429 POST /v1beta/models/gemini-2.0-flash:generateContent?%24alt=json%3Benum-encoding%3Dint (127.0.0.1) 556.99ms\n",
            "WARNING:tornado.access:429 POST /v1beta/models/gemini-2.0-flash:generateContent?%24alt=json%3Benum-encoding%3Dint (127.0.0.1) 558.05ms\n",
            "WARNING:tornado.access:429 POST /v1beta/models/gemini-2.0-flash:generateContent?%24alt=json%3Benum-encoding%3Dint (127.0.0.1) 556.60ms\n"
          ]
        },
        {
          "output_type": "stream",
          "name": "stdout",
          "text": [
            "reasoning: The comment \"Two wrongs don't make a right\" is a neutral statement. It doesn't express a positive or negative sentiment towards either fighter, but rather offers a general principle applicable to the situation.\n",
            "label: neutral\n",
            "reasoning: The comment expresses a negative sentiment towards Conor McGregor, implying that he receives preferential treatment and is not held accountable for his actions. This is a negative sentiment towards the situation surrounding the fight and its aftermath.\n",
            "label: negative\n",
            "reasoning: The comment expresses a negative sentiment towards McGregor's past behavior, but also supports the idea that Khabib's win should not be affected by his actions after the fight. Overall, the comment is neutral towards the fight itself.\n",
            "label: neutral\n",
            "reasoning: The comment expresses disagreement with the idea that either action (throwing a dolly or assault) is acceptable, indicating a negative sentiment towards both actions.\n",
            "label: negative\n",
            "reasoning: The comment defends Khabib's actions by pointing out that the person he assaulted could defend themselves and that Khabib will face consequences but his career isn't over. It downplays the severity of the assault.\n",
            "label: neutral\n",
            "reasoning: The comment expresses agreement with the parent comment and suggests a hypothetical scenario where Khabib would be criticized more harshly than Conor for similar actions. This implies a negative sentiment towards Conor and his fans, and a defense of Khabib.\n",
            "label: negative\n",
            "reasoning: The comment is questioning the previous comment's statement that Khabib's actions were assault, by bringing up McGregor's past actions. This is a negative sentiment towards McGregor.\n",
            "label: negative\n",
            "reasoning: The comment questions the fairness of the punishment, implying that one action (Khabib's) is being punished while another (Conor's) is not, despite both being deemed \"unacceptable.\" This suggests a negative sentiment towards the perceived unequal treatment.\n",
            "label: negative\n",
            "reasoning: The comment defends McGregor by stating that his behavior is just for promotion and that he is always humble in victory and defeat. This is a positive sentiment towards McGregor.\n",
            "label: positive\n",
            "reasoning: The comment expresses a negative sentiment towards Khabib, predicting a bleak future for him and his career due to his actions after the fight. It suggests he will lose his belt, paycheck, and ultimately be deported, effectively ending his UFC career.\n",
            "label: negative\n",
            "reasoning: The comment acknowledges Khabib's team's actions but also points out Khabib's restraint when Dana White withheld his belt. It presents a balanced view, neither strongly supporting nor condemning Khabib, but rather providing additional context and observations about the situation.\n",
            "label: neutral\n",
            "reasoning: The comment argues that Khabib's actions after the fight should affect his win due to the reputation of the sport and the assault on Conor's teammate. This expresses a negative sentiment towards Khabib's actions and their impact on the sport.\n",
            "label: negative\n",
            "reasoning: The comment is arguing against the idea that Conor wasn't punished for his actions, pointing out that he paid millions in damages. This is in response to the discussion about whether both Conor and Khabib were punished equally for their actions. The comment is negative towards Conor.\n",
            "label: negative\n",
            "reasoning: The comment \"/s?\" is a common internet shorthand for sarcasm. Given the context of the parent comment claiming Khabib's career is over, the comment is likely questioning the parent comment's sincerity, implying it is an overreaction and therefore negative towards the parent comment's sentiment.\n",
            "label: negative\n",
            "reasoning: The comment suggests that fights breaking out were inevitable, implying a negative view of the situation surrounding the fight.\n",
            "label: negative\n",
            "reasoning: The comment \"did he not sue?\" is a question about whether Khabib sued someone for the events that occurred after the fight. It doesn't express a positive or negative sentiment towards the fight itself, but rather seeks information about legal actions.\n",
            "label: neutral\n"
          ]
        },
        {
          "output_type": "stream",
          "name": "stderr",
          "text": [
            "WARNING:tornado.access:429 POST /v1beta/models/gemini-2.0-flash:generateContent?%24alt=json%3Benum-encoding%3Dint (127.0.0.1) 556.68ms\n",
            "WARNING:tornado.access:429 POST /v1beta/models/gemini-2.0-flash:generateContent?%24alt=json%3Benum-encoding%3Dint (127.0.0.1) 556.50ms\n",
            "WARNING:tornado.access:429 POST /v1beta/models/gemini-2.0-flash:generateContent?%24alt=json%3Benum-encoding%3Dint (127.0.0.1) 556.68ms\n",
            "WARNING:tornado.access:429 POST /v1beta/models/gemini-2.0-flash:generateContent?%24alt=json%3Benum-encoding%3Dint (127.0.0.1) 531.64ms\n",
            "WARNING:tornado.access:429 POST /v1beta/models/gemini-2.0-flash:generateContent?%24alt=json%3Benum-encoding%3Dint (127.0.0.1) 556.68ms\n",
            "WARNING:tornado.access:429 POST /v1beta/models/gemini-2.0-flash:generateContent?%24alt=json%3Benum-encoding%3Dint (127.0.0.1) 556.66ms\n",
            "WARNING:tornado.access:429 POST /v1beta/models/gemini-2.0-flash:generateContent?%24alt=json%3Benum-encoding%3Dint (127.0.0.1) 556.77ms\n",
            "WARNING:tornado.access:429 POST /v1beta/models/gemini-2.0-flash:generateContent?%24alt=json%3Benum-encoding%3Dint (127.0.0.1) 556.36ms\n"
          ]
        },
        {
          "output_type": "stream",
          "name": "stdout",
          "text": [
            "reasoning: The comment compares McGregor's assault with a dolly to Khabib's actions, arguing that McGregor's assault caused a \"huge injury\" while Khabib's punches were less impactful. This comparison is used to downplay Khabib's actions in relation to McGregor's. The comment is generally negative towards McGregor.\n",
            "label: negative\n",
            "reasoning: The comment provides context for Khabib's actions, suggesting a reason for his behavior after the fight. It doesn't express a positive or negative sentiment towards the fight itself, but rather offers an explanation for Khabib's actions.\n",
            "label: neutral\n",
            "reasoning: The comment expresses a positive sentiment towards the unsportsmanlike conduct, finding it entertaining (\"way better\").\n",
            "label: positive\n",
            "reasoning: The comment expresses a positive sentiment towards Khabib's victory, acknowledging it was fair and square. It also attempts to contextualize Khabib's post-fight actions, suggesting understanding and not necessarily condoning them. The comment also criticizes Dana White and Conor McGregor, but the primary focus remains on the fight and Khabib's win.\n",
            "label: positive\n",
            "reasoning: The comment expresses agreement with the previous comment's assertion that Khabib made a serious mistake, using strong language (\"fucked up, BAD\") to emphasize the negative impact of his actions. This indicates a negative sentiment towards Khabib's actions.\n",
            "label: negative\n",
            "reasoning: The comment expresses support for Khabib's actions, viewing them as a justified response to Conor's behavior and a way for Khabib to assert dominance and potentially retire on his own terms. The commenter explicitly states pride in Khabib's victory and his lashing out at his haters.\n",
            "label: positive\n",
            "reasoning: The comment is sarcastic and mocking the original post for being reasonable and rational, which is seen as out of place on Reddit. While it doesn't directly express a positive or negative sentiment towards the fight itself, it's negative towards the original poster's approach.\n",
            "label: negative\n",
            "reasoning: The comment is a response to the statement that Conor is Dana's golden goose and can do no wrong. The comment suggests that Conor has made a mistake, implying a negative sentiment towards Conor's actions.\n",
            "label: negative\n",
            "reasoning: The comment acknowledges the absurdity of bringing a rational perspective to Reddit, implying the original post might be met with disagreement. However, it expresses hope that the message will still be considered. This suggests a neutral sentiment towards the fight itself, but a slightly positive outlook on the possibility of a reasonable discussion.\n",
            "label: neutral\n",
            "reasoning: The comment expresses a negative sentiment towards McGregor's behavior, arguing that promotional purposes don't excuse him from facing consequences for his words. It directly challenges the idea that McGregor can say whatever he wants without repercussions.\n",
            "label: negative\n",
            "reasoning: The comment expresses agreement with the submission's sentiment that the post-fight events are being overblown by the media. It aligns with the submission's call for acceptance and moving on.\n",
            "label: positive\n",
            "reasoning: The comment expresses a negative sentiment towards a prominent figure in the UFC, referring to them as a \"loudmouth, disrespectful, racist chair throwing idiot.\" This indicates a negative view of the UFC's reputation.\n",
            "label: negative\n",
            "reasoning: The comment expresses disbelief that the UFC cares about its reputation, implying that the organization's actions contradict this concern. This suggests a negative sentiment towards the UFC's handling of the situation and its overall image.\n",
            "label: negative\n",
            "reasoning: The comment expresses surprise and agreement with the original post, praising the author for their rational thinking. This indicates a positive sentiment towards the original post's perspective on the fight and its aftermath.\n",
            "label: positive\n",
            "reasoning: The comment expresses gratitude and reinforces the idea of accepting both positive and negative outcomes, indicating a positive and accepting attitude towards the fight's result.\n",
            "label: positive\n",
            "reasoning: The comment is asking for footage of a specific incident (Khabib Stockton slapping McGregor). It doesn't express a positive or negative sentiment towards either fighter or the fight itself, but rather seeks information about a specific event.\n",
            "label: neutral\n"
          ]
        },
        {
          "output_type": "stream",
          "name": "stderr",
          "text": [
            "WARNING:tornado.access:429 POST /v1beta/models/gemini-2.0-flash:generateContent?%24alt=json%3Benum-encoding%3Dint (127.0.0.1) 608.13ms\n",
            "WARNING:tornado.access:429 POST /v1beta/models/gemini-2.0-flash:generateContent?%24alt=json%3Benum-encoding%3Dint (127.0.0.1) 557.74ms\n",
            "WARNING:tornado.access:429 POST /v1beta/models/gemini-2.0-flash:generateContent?%24alt=json%3Benum-encoding%3Dint (127.0.0.1) 531.04ms\n",
            "WARNING:tornado.access:429 POST /v1beta/models/gemini-2.0-flash:generateContent?%24alt=json%3Benum-encoding%3Dint (127.0.0.1) 556.97ms\n"
          ]
        },
        {
          "output_type": "stream",
          "name": "stdout",
          "text": [
            "reasoning: The comment expresses a negative sentiment towards being humble in defeat, implying that it's easy because the person has already lost. This suggests a negative view of the situation and the person who lost.\n",
            "label: negative\n",
            "reasoning: The comment is aggressive and insulting (\"you retard\"). It also defends McGregor's behavior, implying a positive sentiment towards him.\n",
            "label: positive\n",
            "reasoning: The comment questions the idea of Khabib retiring after the fight, suggesting he would want to capitalize on his newfound fame and earning potential. This implies a positive outlook on Khabib's future and a disagreement with the idea of him retiring.\n",
            "label: positive\n",
            "reasoning: The comment expresses a positive sentiment towards Khabib's victory (\"I love that he won\") but also acknowledges the decision to withhold the belt as a smart move. This suggests a nuanced view, but the overall tone leans towards positive due to the initial expression of enjoyment.\n",
            "label: positive\n",
            "reasoning: The comment acknowledges Khabib's victory but criticizes the post-fight actions of his team, specifically the sucker punch on McGregor. This indicates a mixed sentiment, acknowledging the win but disapproving of the subsequent behavior.\n",
            "label: neutral\n",
            "reasoning: The comment expresses a negative sentiment towards Khabib's actions after the fight, stating that he and his crew assaulted people, which is why he's unlikely to be given the belt. This directly contradicts the submission's argument that Khabib deserves the belt.\n",
            "label: negative\n",
            "reasoning: The comment acknowledges Khabib's victory but expresses a negative sentiment towards his actions after the fight, suggesting he and his teammates should be arrested.\n",
            "label: negative\n",
            "reasoning: The comment expresses a negative sentiment towards both fighters, stating that neither deserves the belt due to their actions after the fight. It mentions Khabib's assault on a coach and his team's attack on Connor, which are negative actions.\n",
            "label: negative\n",
            "reasoning: The comment questions the argument that Khabib should have the belt regardless of his behavior, implying disagreement with the original post's sentiment.\n",
            "label: negative\n",
            "reasoning: The comment expresses a negative sentiment towards McGregor (\"McNuggets\") and suggests that McGregor's actions led to the post-fight incident. It implies that McGregor's behavior was excessive and that Khabib's reaction was somewhat justified.\n",
            "label: negative\n",
            "reasoning: The comment expresses excitement for a potential rematch between Conor and Khabib, suggesting a positive sentiment towards the fight.\n",
            "label: positive\n",
            "reasoning: The comment \"Spot on\" indicates agreement with the parent comment's sentiment. The parent comment expresses a negative sentiment towards both Khabib and Connor, stating that neither deserves the belt due to their actions after the fight. Therefore, \"Spot on\" implies agreement with this negative sentiment.\n",
            "label: negative\n",
            "reasoning: The comment expresses disappointment and frustration with Khabib's actions after the fight, indicating a negative sentiment towards his behavior.\n",
            "label: negative\n",
            "reasoning: The comment expresses a negative sentiment towards Khabib's actions after the fight, suggesting he should have shown more class, implying his behavior was inappropriate.\n",
            "label: negative\n",
            "reasoning: The comment expresses uncertainty about Khabib's ability to enter the country and mentions arrests, suggesting potential negative consequences for his actions. This implies a negative sentiment towards Khabib's situation.\n",
            "label: negative\n",
            "reasoning: The comment suggests that Conor initiated the physical altercation with Khabib's team, which implies a negative sentiment towards Conor and potentially a more positive or neutral sentiment towards Khabib in the context of the fight and its aftermath.\n",
            "label: positive\n"
          ]
        },
        {
          "output_type": "stream",
          "name": "stderr",
          "text": [
            "WARNING:tornado.access:429 POST /v1beta/models/gemini-2.0-flash:generateContent?%24alt=json%3Benum-encoding%3Dint (127.0.0.1) 556.90ms\n",
            "WARNING:tornado.access:429 POST /v1beta/models/gemini-2.0-flash:generateContent?%24alt=json%3Benum-encoding%3Dint (127.0.0.1) 556.44ms\n",
            "WARNING:tornado.access:429 POST /v1beta/models/gemini-2.0-flash:generateContent?%24alt=json%3Benum-encoding%3Dint (127.0.0.1) 555.89ms\n",
            "WARNING:tornado.access:429 POST /v1beta/models/gemini-2.0-flash:generateContent?%24alt=json%3Benum-encoding%3Dint (127.0.0.1) 556.91ms\n",
            "WARNING:tornado.access:429 POST /v1beta/models/gemini-2.0-flash:generateContent?%24alt=json%3Benum-encoding%3Dint (127.0.0.1) 531.78ms\n",
            "WARNING:tornado.access:429 POST /v1beta/models/gemini-2.0-flash:generateContent?%24alt=json%3Benum-encoding%3Dint (127.0.0.1) 557.10ms\n"
          ]
        },
        {
          "output_type": "stream",
          "name": "stdout",
          "text": [
            "reasoning: The comment acknowledges Khabib's actions as assault but also provides context (the shit-talking). It doesn't explicitly support or condemn Khabib's actions, but rather clarifies the situation.\n",
            "label: neutral\n",
            "reasoning: The comment \"Yeee that's right\" expresses agreement with the submission's sentiment that Khabib deserves his belt and that McGregor's actions were not justified.\n",
            "label: positive\n",
            "reasoning: The comment is about the events after the fight, specifically who threw the first punch. It is defending Khabib's team by saying Conor threw the first punch. This is a positive sentiment towards Khabib.\n",
            "label: positive\n",
            "reasoning: The comment expresses anger and frustration towards the actions of Khabib's team after the fight, specifically mentioning them jumping the fence to attack someone. This indicates a negative sentiment towards their behavior.\n",
            "label: negative\n",
            "reasoning: The comment \"Bullshit\" expresses strong disagreement with the preceding comment's assertion that neither fighter deserves the belt. This disagreement indicates a negative sentiment towards the idea that Khabib doesn't deserve the belt, and therefore a positive sentiment towards Khabib.\n",
            "label: positive\n",
            "reasoning: The comment disputes the previous comment's claim about who threw the first punch and highlights the unfairness of the attack on Connor. This suggests a negative sentiment towards Khabib's team's actions after the fight.\n",
            "label: negative\n",
            "reasoning: The comment expresses disappointment in Khabib's actions after the fight, suggesting he should have maintained composure. This implies a negative sentiment towards Khabib's behavior.\n",
            "label: negative\n",
            "reasoning: The comment expresses strong support for Khabib and criticizes McGregor's behavior, indicating a positive sentiment towards Khabib and a negative sentiment towards McGregor. The comment also suggests that McGregor's actions instigated Khabib's reaction, further supporting a positive sentiment towards Khabib in the context of the fight.\n",
            "label: positive\n",
            "reasoning: The comment expresses support for Khabib receiving his belt due to his victory and undefeated record, aligning with the sentiment of the original post.\n",
            "label: positive\n",
            "reasoning: The comment \"Baw Gawd\" is a reference to professional wrestling, often used when something shocking or violent happens. In the context of a fight, it implies excitement and approval of the action.\n",
            "label: positive\n",
            "reasoning: The comment expresses support for Khabib and criticizes McGregor's behavior, suggesting that Khabib's actions were justified given McGregor's instigation. This indicates a positive sentiment towards Khabib in the context of the fight.\n",
            "label: positive\n",
            "reasoning: The comment expresses disapproval of Khabib's actions, specifically swinging at the crowd. It indicates the commenter believes Khabib should not have done that, suggesting a negative sentiment towards his behavior after the fight.\n",
            "label: negative\n",
            "reasoning: The comment expresses agreement with the sentiment that the events following the fight were a consequence of McGregor's instigation and mockery. This suggests a negative view of McGregor and a degree of understanding or support for Khabib's actions, aligning with the overall sentiment of the submission.\n",
            "label: positive\n",
            "reasoning: The comment clarifies the actions of Khabib, stating he attacked someone who was talking trash, but reiterates that they are not defending his actions. This suggests a neutral stance towards the fight itself, focusing on clarifying the context of the assault.\n",
            "label: neutral\n",
            "reasoning: The comment is critical of Khabib's actions after the fight, contrasting them negatively with McGregor's behavior. It highlights Khabib's perceived lack of class and aggression, portraying McGregor as accepting defeat professionally.\n",
            "label: negative\n",
            "reasoning: The comment \"First UFC match?\" is a question that doesn't express a clear positive, negative, or neutral sentiment towards the fight itself or the fighters involved. It's more of an observation or a question about the context of the situation.\n",
            "label: neutral\n"
          ]
        },
        {
          "output_type": "stream",
          "name": "stderr",
          "text": [
            "WARNING:tornado.access:429 POST /v1beta/models/gemini-2.0-flash:generateContent?%24alt=json%3Benum-encoding%3Dint (127.0.0.1) 557.25ms\n",
            "WARNING:tornado.access:429 POST /v1beta/models/gemini-2.0-flash:generateContent?%24alt=json%3Benum-encoding%3Dint (127.0.0.1) 556.55ms\n"
          ]
        },
        {
          "output_type": "stream",
          "name": "stdout",
          "text": [
            "reasoning: The comment acknowledges McGregor's trash-talking behavior as a common tactic in combat sports but argues that Khabib should have risen above it and focused on the victory itself. It suggests that Khabib's actions after the fight detracted from his win. This implies a negative sentiment towards Khabib's post-fight behavior.\n",
            "label: negative\n",
            "reasoning: The comment expresses uncertainty about whether Khabib will ultimately be declared the winner and retain the belt, suggesting a neutral stance towards the immediate outcome. It advocates for waiting for the official ruling before making a definitive statement.\n",
            "label: neutral\n"
          ]
        },
        {
          "output_type": "stream",
          "name": "stderr",
          "text": [
            "WARNING:tornado.access:429 POST /v1beta/models/gemini-2.0-flash:generateContent?%24alt=json%3Benum-encoding%3Dint (127.0.0.1) 556.92ms\n",
            "WARNING:tornado.access:429 POST /v1beta/models/gemini-2.0-flash:generateContent?%24alt=json%3Benum-encoding%3Dint (127.0.0.1) 607.39ms\n",
            "WARNING:tornado.access:429 POST /v1beta/models/gemini-2.0-flash:generateContent?%24alt=json%3Benum-encoding%3Dint (127.0.0.1) 556.96ms\n",
            "WARNING:tornado.access:429 POST /v1beta/models/gemini-2.0-flash:generateContent?%24alt=json%3Benum-encoding%3Dint (127.0.0.1) 556.27ms\n",
            "WARNING:tornado.access:429 POST /v1beta/models/gemini-2.0-flash:generateContent?%24alt=json%3Benum-encoding%3Dint (127.0.0.1) 556.89ms\n",
            "WARNING:tornado.access:429 POST /v1beta/models/gemini-2.0-flash:generateContent?%24alt=json%3Benum-encoding%3Dint (127.0.0.1) 557.14ms\n",
            "WARNING:tornado.access:429 POST /v1beta/models/gemini-2.0-flash:generateContent?%24alt=json%3Benum-encoding%3Dint (127.0.0.1) 557.18ms\n"
          ]
        },
        {
          "output_type": "stream",
          "name": "stdout",
          "text": [
            "reasoning: The comment \"No.\" is a direct response to the parent comment's statement that neither fighter deserves the belt. This implies disagreement with that statement, suggesting the commenter believes Khabib does deserve the belt, aligning with the submission's sentiment.\n",
            "label: positive\n",
            "reasoning: The comment expresses agreement with the previous comment and hopes for fair treatment from Dana White, referencing a past incident involving Conor McGregor. It doesn't express a strong positive or negative sentiment towards the fight itself, but rather a desire for fair handling of the situation.\n",
            "label: neutral\n",
            "reasoning: The comment \"Yes\" agrees with the parent comment, which defends Khabib's actions in response to McGregor's behavior. The parent comment suggests Khabib was justified in his reaction due to McGregor's instigation and lack of class. Therefore, \"Yes\" expresses a positive sentiment towards Khabib's actions and a negative sentiment towards McGregor's behavior.\n",
            "label: positive\n",
            "reasoning: The comment expresses a strong positive sentiment towards Khabib and a negative sentiment towards McGregor. It supports Khabib's actions as a response to McGregor's behavior and praises Khabib for defeating him.\n",
            "label: positive\n",
            "reasoning: The comment expresses curiosity about what Khabib would have said if given the mic, implying a positive sentiment towards Khabib and a desire to hear his perspective.\n",
            "label: positive\n",
            "reasoning: The comment is stating a fact about the fight's outcome, supporting the idea that Khabib won. It's a direct response to the discussion about whether Khabib deserves the belt.\n",
            "label: positive\n",
            "reasoning: The comment is critical of Khabib's actions after the fight, contrasting them with Conor's behavior after a loss. It suggests Khabib and his team should face legal consequences, indicating a negative sentiment towards Khabib's post-fight conduct.\n",
            "label: negative\n",
            "reasoning: The comment expresses agreement with the submission's sentiment that Khabib was unfairly treated and should have been allowed to speak. It uses phrases like \"I agree\" and \"They should let his man speak for himself\" which indicate a positive sentiment towards Khabib and a negative sentiment towards the decision to not give him the mic.\n",
            "label: positive\n",
            "reasoning: The comment expresses a negative sentiment towards Khabib's actions after the fight, calling him a \"maniac Russian\" and a \"complete disgrace to the organization.\" It contrasts this with McGregor's behavior after losses, portraying him as dignified and understanding the entertainment aspect of the sport.\n",
            "label: negative\n",
            "reasoning: The comment expresses disapproval of violence as a response to verbal insults, drawing a parallel to elementary school behavior. It questions the justification of Khabib's actions based on McGregor's words.\n",
            "label: negative\n",
            "reasoning: The comment refers to \"shit talking\" which is a negative aspect of the fight. The commenter is surprised that someone is shocked by it, implying that it is a common occurrence. This suggests a negative sentiment towards the overall situation.\n",
            "label: negative\n",
            "reasoning: The comment clarifies the context of the assault, stating that Khabib attacked someone who had been insulting him, both before and after the fight. This suggests a defense or justification for Khabib's actions, implying a more positive sentiment towards him.\n",
            "label: positive\n",
            "reasoning: The comment is responding to a previous comment that compared the fighters' actions to elementary school behavior. The comment is critical of the comparison and defends the use of violence in the context of the UFC. This indicates a negative sentiment towards the comparison and a defense of Khabib's actions.\n",
            "label: negative\n",
            "reasoning: The comment expresses a negative sentiment towards both fighters and the UFC's handling of the situation. It criticizes the perceived inconsistency in punishment, arguing that Conor should have been banned for the bus incident and Khabib shouldn't be allowed back either.\n",
            "label: negative\n",
            "reasoning: The comment expresses agreement with the sentiment that Khabib was wronged, but also acknowledges his wrongdoing. It also criticizes Dana White's decision-making, suggesting it was motivated by financial gain rather than fairness.\n",
            "label: neutral\n",
            "reasoning: The comment expresses frustration and disagreement with the previous comment's certainty about the outcome of the fight and the belt situation. It uses strong language (\"Fucking\") and questions the other person's awareness, indicating a negative sentiment towards the situation.\n",
            "label: negative\n"
          ]
        },
        {
          "output_type": "stream",
          "name": "stderr",
          "text": [
            "WARNING:tornado.access:429 POST /v1beta/models/gemini-2.0-flash:generateContent?%24alt=json%3Benum-encoding%3Dint (127.0.0.1) 583.70ms\n",
            "WARNING:tornado.access:429 POST /v1beta/models/gemini-2.0-flash:generateContent?%24alt=json%3Benum-encoding%3Dint (127.0.0.1) 556.73ms\n",
            "WARNING:tornado.access:429 POST /v1beta/models/gemini-2.0-flash:generateContent?%24alt=json%3Benum-encoding%3Dint (127.0.0.1) 556.68ms\n",
            "WARNING:tornado.access:429 POST /v1beta/models/gemini-2.0-flash:generateContent?%24alt=json%3Benum-encoding%3Dint (127.0.0.1) 556.73ms\n",
            "WARNING:tornado.access:429 POST /v1beta/models/gemini-2.0-flash:generateContent?%24alt=json%3Benum-encoding%3Dint (127.0.0.1) 556.91ms\n"
          ]
        },
        {
          "output_type": "stream",
          "name": "stdout",
          "text": [
            "reasoning: The comment expresses a negative sentiment towards Khabib's actions after the fight, stating that his behavior was \"completely 100% unacceptable\" and that he should face consequences such as criminal charges, a ban, and having his belt stripped.\n",
            "label: negative\n",
            "reasoning: The comment is strongly critical of the previous commenter's justification of Khabib's actions. It uses harsh language and accuses the commenter of hypocrisy and being a \"dumbass.\" This indicates a negative sentiment towards the commenter and their argument.\n",
            "label: negative\n",
            "reasoning: The comment expresses a negative sentiment towards both Khabib and Conor, advocating for bans for both fighters due to their respective actions (Khabib's post-fight assault and Conor's bus incident).\n",
            "label: negative\n",
            "reasoning: The comment discusses Dillon Danis being a fighter and how Conor getting away with the bus incident has opened the door for people getting away with things they shouldn't. It also mentions people tuning in to watch Khabib potentially get beat. The comment is mostly neutral, but leans slightly negative towards the situation.\n",
            "label: neutral\n",
            "reasoning: The comment acknowledges Khabib's actions were wrong but also understands the emotional context behind them. It doesn't explicitly support or condemn Khabib's actions in the aftermath of the fight, but it does acknowledge that the person he attacked wasn't involved in the fight.\n",
            "label: neutral\n",
            "reasoning: The comment expresses disapproval of both Khabib's and Conor's actions, describing them as \"disgusting\" and the situation as a \"clusterfuck.\" While acknowledging Khabib's emotional state, it still criticizes his behavior. This indicates a negative sentiment towards the overall situation and the fighters' conduct.\n",
            "label: negative\n",
            "reasoning: The comment expresses disapproval of the fighting that occurred outside the arena involving civilians, deeming it \"unacceptable.\" This indicates a negative sentiment towards the overall situation and the violence that transpired.\n",
            "label: negative\n",
            "reasoning: The comment expresses strong disapproval of the perceived double standard in how Khabib and McGregor are treated, particularly regarding the bus incident and the post-fight altercation. It questions the justification for punishing Khabib while seemingly excusing McGregor's actions. This indicates a negative sentiment towards the situation and the perceived unfairness.\n",
            "label: negative\n",
            "reasoning: The comment discusses the possibility of fights between fans after the Khabib vs. McGregor fight, based on a statement made on the Joe Rogan podcast. This doesn't express a positive or negative sentiment towards the fight itself, but rather a neutral observation about potential consequences.\n",
            "label: neutral\n",
            "reasoning: The comment is sarcastic and critical of the previous commenter's argument, implying that they are acting immaturely. It doesn't express a positive or negative sentiment towards the fight itself, but rather towards the discussion.\n",
            "label: neutral\n",
            "reasoning: The comment expresses agreement with the submission's negative sentiment towards a \"smother\" style of fighting, indicating a shared dislike for that particular approach.\n",
            "label: negative\n",
            "reasoning: The comment expresses enjoyment at seeing Conor struggle, indicating a negative sentiment towards Conor and a positive sentiment towards Khabib's victory. This suggests a positive sentiment towards the fight's outcome, even if the original submission found it boring.\n",
            "label: positive\n",
            "reasoning: The comment expresses agreement with the submission's negative sentiment towards the fight and states that the commenter was supporting Conor because of this reason.\n",
            "label: negative\n",
            "reasoning: The comment expresses a strong positive sentiment towards Conor McGregor's fights, stating they are never boring and highlighting the excitement due to his knockout potential. This is in direct contrast to the submission's negative sentiment towards the Khabib fight.\n",
            "label: positive\n",
            "reasoning: The comment acknowledges the submission's point about the fight being boring but argues for the efficiency of Khabib's fighting style. It presents a counter-argument, suggesting that while less entertaining, the style is effective.\n",
            "label: neutral\n",
            "reasoning: The comment criticizes the original poster for disliking wrestling in MMA, implying they should watch a different sport. This suggests a negative sentiment towards the original poster's opinion on the fight.\n",
            "label: negative\n"
          ]
        },
        {
          "output_type": "stream",
          "name": "stderr",
          "text": [
            "WARNING:tornado.access:429 POST /v1beta/models/gemini-2.0-flash:generateContent?%24alt=json%3Benum-encoding%3Dint (127.0.0.1) 583.02ms\n",
            "WARNING:tornado.access:429 POST /v1beta/models/gemini-2.0-flash:generateContent?%24alt=json%3Benum-encoding%3Dint (127.0.0.1) 557.24ms\n",
            "WARNING:tornado.access:429 POST /v1beta/models/gemini-2.0-flash:generateContent?%24alt=json%3Benum-encoding%3Dint (127.0.0.1) 558.86ms\n",
            "WARNING:tornado.access:429 POST /v1beta/models/gemini-2.0-flash:generateContent?%24alt=json%3Benum-encoding%3Dint (127.0.0.1) 557.35ms\n",
            "WARNING:tornado.access:429 POST /v1beta/models/gemini-2.0-flash:generateContent?%24alt=json%3Benum-encoding%3Dint (127.0.0.1) 557.35ms\n",
            "WARNING:tornado.access:429 POST /v1beta/models/gemini-2.0-flash:generateContent?%24alt=json%3Benum-encoding%3Dint (127.0.0.1) 557.07ms\n"
          ]
        },
        {
          "output_type": "stream",
          "name": "stdout",
          "text": [
            "reasoning: The comment suggests the author should watch boxing instead, implying they dislike the current fight's style. This is a negative sentiment towards the submission's complaint about the fight.\n",
            "label: negative\n",
            "reasoning: The comment expresses agreement with the submission's sentiment that the fight was boring. It explicitly states boredom and finds the post-fight brawl more entertaining, indicating a negative view of the fight itself.\n",
            "label: negative\n",
            "reasoning: The comment is critical of the original poster's opinion, calling them a \"casual fan\" and suggesting they watch boxing instead of MMA. It defends Khabib's grappling style and argues that it demonstrates control and superiority in martial arts. The comment expresses a strong disagreement with the original poster's assessment of the fight as boring.\n",
            "label: negative\n",
            "reasoning: The comment expresses neutrality by stating \"I have no comment,\" indicating a lack of opinion or engagement with the fight discussed in the submission. The reference to being a \"GSP fan\" doesn't necessarily imply a positive or negative sentiment towards the Khabib vs. Conor fight.\n",
            "label: neutral\n",
            "reasoning: The comment expresses a dislike for the wrestling-heavy style of fighting, finding it boring and lacking the exciting action that makes fights memorable. This aligns with a negative sentiment towards the type of fight described.\n",
            "label: negative\n",
            "reasoning: The comment expresses agreement with the submission's point that Khabib's style isn't flashy and can be seen as boring. However, it also defends Khabib's style by highlighting its effectiveness in a real-life combat situation and acknowledging its impressiveness. It also acknowledges that the Ferguson and Pettis fight was more entertaining. Overall, the comment presents a balanced perspective, acknowledging both the potential boredom and the effectiveness of Khabib's style.\n",
            "label: neutral\n",
            "reasoning: The comment is highly aggressive and directly contradicts the submission's claim that the fight was boring. It uses insults and strong language to express disagreement and highlight Khabib's dominance in the fight.\n",
            "label: negative\n",
            "reasoning: The comment expresses a dislike for the overuse of takedowns (\"spamming them\"), indicating a negative sentiment towards a particular fighting style. This aligns with the submission's criticism of Khabib's wrestling-heavy approach.\n",
            "label: negative\n",
            "reasoning: The comment suggests an alternative sport to watch, implying dissatisfaction with the current fight's style. This aligns with the submission's sentiment that the fight was boring due to excessive wrestling.\n",
            "label: negative\n",
            "reasoning: The comment expresses a negative opinion about wrestling as a fighting style and reiterates the sentiment that Khabib's fighting style is boring due to excessive \"cuddling.\" It directly responds to the previous comment's assertion about \"true fans,\" disagreeing with the idea that liking wrestling makes someone a true fan.\n",
            "label: negative\n",
            "reasoning: The comment defends the mixed martial arts aspect of the fight, implying that there's more to it than just striking (\"jabs\"). It suggests that people who criticize the grappling aspect of the fight don't understand the sport. This is a defense of Khabib's style, which the original post criticizes.\n",
            "label: positive\n",
            "reasoning: The comment is directed at the original poster, implying that their preferred fighter (likely Conor McGregor) lost because he was outplayed and outwrestled. It suggests that the poster's disappointment should be directed at their fighter, not Khabib. This is a negative sentiment towards the original poster's fighter and a neutral sentiment towards Khabib.\n",
            "label: negative\n",
            "reasoning: The comment expresses a negative sentiment towards something (likely UFC or MMA in general, based on the context) due to a lack of interesting personalities, recognition, and entertaining promos.\n",
            "label: negative\n",
            "reasoning: The comment is responding to the submission's negative opinion of the fight, stating that it's just an opinion and that others, particularly those with grappling experience, might have appreciated Khabib's performance. It also suggests alternative combat sports for those who dislike grappling. This is a neutral stance, acknowledging different perspectives.\n",
            "label: neutral\n",
            "reasoning: The comment is responding to a previous comment that was praising Khabib's performance in the fight. The comment is disagreeing with the previous comment's assessment of the fight, stating that Khabib did not beat McGregor up as badly as the previous commenter claimed. The comment also criticizes the previous commenter's use of the word \"retard.\" Overall, the comment expresses a negative sentiment towards the fight and the previous commenter's opinion.\n",
            "label: negative\n",
            "reasoning: The comment expresses a difference in opinion regarding the entertainment value of wrestling as a fighting style. It acknowledges the original commenter's perspective while also highlighting the perspective of those who appreciate wrestling and the strategic dominance of Khabib's style. The comment is not explicitly positive or negative towards the fight itself, but rather offers a nuanced perspective on the appeal of wrestling in MMA.\n",
            "label: neutral\n"
          ]
        },
        {
          "output_type": "stream",
          "name": "stderr",
          "text": [
            "WARNING:tornado.access:429 POST /v1beta/models/gemini-2.0-flash:generateContent?%24alt=json%3Benum-encoding%3Dint (127.0.0.1) 582.37ms\n",
            "WARNING:tornado.access:429 POST /v1beta/models/gemini-2.0-flash:generateContent?%24alt=json%3Benum-encoding%3Dint (127.0.0.1) 557.19ms\n",
            "WARNING:tornado.access:429 POST /v1beta/models/gemini-2.0-flash:generateContent?%24alt=json%3Benum-encoding%3Dint (127.0.0.1) 556.65ms\n",
            "WARNING:tornado.access:429 POST /v1beta/models/gemini-2.0-flash:generateContent?%24alt=json%3Benum-encoding%3Dint (127.0.0.1) 581.62ms\n",
            "WARNING:tornado.access:429 POST /v1beta/models/gemini-2.0-flash:generateContent?%24alt=json%3Benum-encoding%3Dint (127.0.0.1) 557.42ms\n",
            "WARNING:tornado.access:429 POST /v1beta/models/gemini-2.0-flash:generateContent?%24alt=json%3Benum-encoding%3Dint (127.0.0.1) 608.12ms\n"
          ]
        },
        {
          "output_type": "stream",
          "name": "stdout",
          "text": [
            "reasoning: The comment suggests an alternative sport to watch, implying dissatisfaction with the current one (MMA). This suggests a negative sentiment towards the fight.\n",
            "label: negative\n",
            "reasoning: The comment is aggressive and insulting, calling the original poster a \"retard\" multiple times. It directly contradicts the original post's claim that Khabib only \"cuddles\" his opponents by pointing out the number of strikes landed. The tone is clearly negative and confrontational.\n",
            "label: negative\n",
            "reasoning: The comment expresses a negative sentiment towards the fight, reiterating the user's opinion that it was boring despite being dominant.\n",
            "label: negative\n",
            "reasoning: The comment expresses a negative sentiment towards Khabib's fighting style, describing it as \"boring\" despite acknowledging its dominance and efficiency. It defends the commenter's right to find aspects of the sport unentertaining without being deemed a \"false fan.\"\n",
            "label: negative\n",
            "reasoning: The comment expresses a neutral stance towards wrestling in general, acknowledging that people tend to enjoy what they specialize in. It also expresses a pessimistic view on finding a counter to wrestling, suggesting it's unlikely to be overcome due to the limitations of human physical development.\n",
            "label: neutral\n",
            "reasoning: The comment expresses frustration with a common response to criticism of Khabib's fighting style, implying the commenter enjoys other aspects of UFC beyond just the fights themselves. This suggests a negative sentiment towards the specific counter-argument, but not necessarily towards the fight or fighters themselves.\n",
            "label: negative\n",
            "reasoning: The comment questions the impact of the strikes landed by Khabib, implying they weren't significant. It also criticizes the use of the word \"retard,\" suggesting the commenter finds it offensive and indicative of low intelligence. The comment is negative towards the previous commenter and somewhat negative towards Khabib's performance.\n",
            "label: negative\n",
            "reasoning: The comment acknowledges the previous statement (\"fair enough\") but then questions the expectation of an exciting fight given the skill disparity in wrestling between the fighters. It implies that the outcome was predictable and therefore the disappointment is somewhat misplaced. This leans towards a neutral sentiment regarding the fight itself.\n",
            "label: neutral\n",
            "reasoning: The comment is aggressive and insulting, calling the person \"delusional\" and \"retarded.\" It directly contradicts the user's opinion on the fight and uses abusive language.\n",
            "label: negative\n",
            "reasoning: The comment expresses a positive view of MMA and Khabib's victory, emphasizing the diverse fighting styles and the strategic depth of the sport. It highlights the importance of adapting tactics and the comprehensive nature of MMA, suggesting admiration for Khabib's ability to showcase these aspects.\n",
            "label: positive\n",
            "reasoning: The comment expresses a negative sentiment towards Khabib's fighting style, finding it boring due to its exclusive focus on wrestling and lack of other aspects of MMA.\n",
            "label: negative\n",
            "reasoning: The comment questions the claim of \"40 haymakers\" in the fight, implying the fight was not as action-packed as described. This aligns with the original submission's sentiment that the fight was boring.\n",
            "label: negative\n",
            "reasoning: The comment expresses a nuanced view on fighting styles in UFC. It acknowledges the appeal of different styles, from the \"redneck\" prime to more technical fights, and discusses the potential for a Mayweather-type fighter in UFC. While it touches on the submission's point about wrestling, it doesn't express a strong positive or negative sentiment towards it, instead focusing on the evolution of fighting styles in general.\n",
            "label: neutral\n",
            "reasoning: The comment defends Khabib's fighting style by suggesting that if the user wants a striking match, they should watch boxing. It also defends tapping out opponents, which is a part of Khabib's fighting style, by mentioning GSP, Silva, and BJJ MMA fighters.\n",
            "label: positive\n",
            "reasoning: The comment expresses disappointment with the fight and hopes for a more well-rounded fighter to hold the title in the future. While acknowledging Khabib's win, it implies a preference for a different style of fighting.\n",
            "label: negative\n",
            "reasoning: The comment agrees with the suggestion of watching boxing instead of kickboxing, and expresses a neutral opinion about Glory. The comment does not express any sentiment towards the fight itself.\n",
            "label: neutral\n"
          ]
        },
        {
          "output_type": "stream",
          "name": "stderr",
          "text": [
            "WARNING:tornado.access:429 POST /v1beta/models/gemini-2.0-flash:generateContent?%24alt=json%3Benum-encoding%3Dint (127.0.0.1) 632.16ms\n",
            "WARNING:tornado.access:429 POST /v1beta/models/gemini-2.0-flash:generateContent?%24alt=json%3Benum-encoding%3Dint (127.0.0.1) 606.24ms\n",
            "WARNING:tornado.access:429 POST /v1beta/models/gemini-2.0-flash:generateContent?%24alt=json%3Benum-encoding%3Dint (127.0.0.1) 606.35ms\n",
            "WARNING:tornado.access:429 POST /v1beta/models/gemini-2.0-flash:generateContent?%24alt=json%3Benum-encoding%3Dint (127.0.0.1) 582.87ms\n",
            "WARNING:tornado.access:429 POST /v1beta/models/gemini-2.0-flash:generateContent?%24alt=json%3Benum-encoding%3Dint (127.0.0.1) 580.57ms\n",
            "WARNING:tornado.access:429 POST /v1beta/models/gemini-2.0-flash:generateContent?%24alt=json%3Benum-encoding%3Dint (127.0.0.1) 606.22ms\n",
            "WARNING:tornado.access:429 POST /v1beta/models/gemini-2.0-flash:generateContent?%24alt=json%3Benum-encoding%3Dint (127.0.0.1) 606.87ms\n"
          ]
        },
        {
          "output_type": "stream",
          "name": "stdout",
          "text": [
            "reasoning: The comment points out that Khabib did more than just wrestle, referencing a specific striking moment in the fight. This is a defense of Khabib's fighting style against the original post's criticism.\n",
            "label: positive\n",
            "reasoning: The comment directly states that the fight was not boring and that the commenter enjoyed it, which is a positive sentiment towards the fight.\n",
            "label: positive\n",
            "reasoning: The comment expresses a critical view of Conor's performance and questions the significance of Khabib's strike, suggesting it wasn't a clean knockdown. This leans towards a negative sentiment regarding the fight's quality and Conor's performance.\n",
            "label: negative\n",
            "reasoning: The comment is clearly negative towards the original poster, calling them a hypocrite and ignorant. It praises Khabib's performance, stating he \"smashed\" Conor and \"out struck him.\" This is a strong negative sentiment towards the original poster's opinion.\n",
            "label: negative\n",
            "reasoning: The comment expresses a dislike for the relentless wrestling in the fight, but acknowledges that the submissions are great. This indicates a negative sentiment towards a specific aspect of the fight (the wrestling) while appreciating another (the submissions).\n",
            "label: negative\n",
            "reasoning: The comment \"Im bringing up facts more or less\" is a neutral statement. It doesn't express a positive or negative sentiment towards the fight itself, but rather describes the nature of the user's previous comments.\n",
            "label: neutral\n",
            "reasoning: The comment directly contradicts the previous comment's claim that Conor wasn't really dropped, stating \"Conor got dropped\" and accusing the previous commenter of not bringing up facts. This is a negative sentiment towards the previous comment's argument.\n",
            "label: negative\n",
            "reasoning: The comment is about a specific moment in the fight (the knockdown) and argues that it was easier because Conor was off balance. While it acknowledges the possibility of being mistaken, it doesn't express strong positive or negative sentiment towards the fight itself or the fighters, but rather offers a technical observation. The last sentence is a reaction to the tone of the previous comment.\n",
            "label: neutral\n",
            "reasoning: The comment expresses agreement with the submission's sentiment that the fight was boring. It explicitly states the commenter was excited but ultimately found the fight uninteresting.\n",
            "label: negative\n",
            "reasoning: The comment is aggressive and uses offensive language (\"mother fucker\"). It accuses the person they are replying to of being ignorant and biased towards Conor McGregor. The comment is clearly negative towards the person they are replying to and supportive of the idea that Conor was legitimately dropped.\n",
            "label: negative\n",
            "reasoning: The comment is comparing Khabib's stand-up to Conor's, implying that Khabib's stand-up was not as impressive as Conor's against Alvarez. This is a negative sentiment towards Khabib's performance in the fight.\n",
            "label: negative\n",
            "reasoning: The comment is responding to a previous comment that claimed Khabib only wrestles. The comment points out that Khabib dropped Conor in the 2nd round, indicating he did more than just wrestle. The comment uses strong language (\"ignoramus\") and is clearly disagreeing with the previous comment.\n",
            "label: negative\n",
            "reasoning: The comment expresses disagreement with the assertion that Khabib \"did it all\" in the fight, sarcastically dismissing the knockdown as a lucky occurrence and downplaying its significance in Khabib's overall fighting record. This indicates a negative sentiment towards Khabib's performance and the commenter's perception of the fight.\n",
            "label: negative\n",
            "reasoning: The comment is aggressive and uses insults (\"delusional dickrider\"). It also directly contradicts the previous comment by claiming Khabib landed many strikes. This suggests a negative sentiment towards the person being addressed and, by extension, a positive sentiment towards Khabib's performance in the fight.\n",
            "label: negative\n",
            "reasoning: The comment is arguing against the idea that Khabib's strikes were impressive or indicative of good stand-up skills. This implies a negative sentiment towards Khabib's fighting style in the context of the discussion.\n",
            "label: negative\n",
            "reasoning: The comment is highly critical of the previous comment, dismissing their knowledge of fighting styles and Khabib's techniques. It uses strong language (\"You do not even know what the fuck you’re talking about\") and expresses disagreement with the assessment of Khabib's fighting style. The commenter also states that Khabib's actions were \"boring\".\n",
            "label: negative\n",
            "reasoning: The comment is a direct response to the suggestion to \"Watch kickboxing then\" and expresses annoyance or disbelief at the simplicity or lack of alternative responses. It doesn't express a positive or negative sentiment towards the fight itself, but rather a negative sentiment towards the commenter's suggestion.\n",
            "label: negative\n",
            "reasoning: The comment is a direct insult, indicating a negative sentiment towards the person being addressed.\n",
            "label: negative\n",
            "reasoning: The comment is insulting and dismissive, indicating a negative sentiment towards the person being addressed.\n",
            "label: negative\n",
            "reasoning: The comment expresses a preference for boxing over UFC and states that the commenter doesn't care for wrestling, aligning with the submission's sentiment that Khabib's wrestling-heavy style is boring. However, it also acknowledges enjoying some UFC fights, indicating a neutral stance towards UFC overall.\n",
            "label: neutral\n",
            "reasoning: The comment expresses gratitude towards someone who criticized a \"fanboy,\" indicating a positive sentiment towards the criticism and, by extension, a negative sentiment towards the person being criticized.\n",
            "label: positive\n",
            "reasoning: The comment expresses a negative sentiment towards McGregor and implies satisfaction with his loss in the fight. It suggests that the commenter believes McGregor will not fight in the UFC again due to the humiliating nature of the loss.\n",
            "label: negative\n",
            "reasoning: The comment expresses a neutral sentiment towards the fight and Conor McGregor's loss. It acknowledges Khabib's dominance and Conor's weakness in ground game, but also suggests that Conor will continue to fight in the UFC due to his contract.\n",
            "label: neutral\n",
            "reasoning: The comment discusses potential future fights for Conor McGregor, stating that a rematch with Khabib would be \"suicide.\" This suggests a negative sentiment towards Conor fighting Khabib again, implying Khabib would win easily.\n",
            "label: negative\n",
            "reasoning: The comment simply mentions \"Ferguson\" without any further context or opinion. It's likely a suggestion for Khabib's next opponent, but it doesn't express a positive, negative, or neutral sentiment towards the fight itself.\n",
            "label: neutral\n",
            "reasoning: The comment suggests a future fight between Khabib and an unnamed fighter for the title. Given the context of the previous comment mentioning Conor and Ferguson, it's likely the comment is suggesting either Conor or Ferguson will fight Khabib. The sentiment is neutral as it simply states a potential future event.\n",
            "label: neutral\n"
          ]
        },
        {
          "output_type": "stream",
          "name": "stderr",
          "text": [
            "WARNING:tornado.access:429 POST /v1beta/models/gemini-2.0-flash:generateContent?%24alt=json%3Benum-encoding%3Dint (127.0.0.1) 582.63ms\n",
            "WARNING:tornado.access:429 POST /v1beta/models/gemini-2.0-flash:generateContent?%24alt=json%3Benum-encoding%3Dint (127.0.0.1) 557.50ms\n",
            "WARNING:tornado.access:429 POST /v1beta/models/gemini-2.0-flash:generateContent?%24alt=json%3Benum-encoding%3Dint (127.0.0.1) 556.97ms\n",
            "WARNING:tornado.access:429 POST /v1beta/models/gemini-2.0-flash:generateContent?%24alt=json%3Benum-encoding%3Dint (127.0.0.1) 557.19ms\n",
            "WARNING:tornado.access:429 POST /v1beta/models/gemini-2.0-flash:generateContent?%24alt=json%3Benum-encoding%3Dint (127.0.0.1) 582.23ms\n",
            "WARNING:tornado.access:429 POST /v1beta/models/gemini-2.0-flash:generateContent?%24alt=json%3Benum-encoding%3Dint (127.0.0.1) 582.25ms\n",
            "WARNING:tornado.access:429 POST /v1beta/models/gemini-2.0-flash:generateContent?%24alt=json%3Benum-encoding%3Dint (127.0.0.1) 556.46ms\n"
          ]
        },
        {
          "output_type": "stream",
          "name": "stdout",
          "text": [
            "reasoning: The comment suggests potential future opponents for Conor, expressing a negative sentiment towards a rematch with Khabib (\"that would be dumb\").\n",
            "label: negative\n",
            "reasoning: The comment uses strong language (\"kicked his ass,\" \"no match,\" \"humiliated,\" \"cry baby\") to express a negative sentiment towards one of the fighters in the fight.\n",
            "label: negative\n",
            "reasoning: The comment is responding to the submission's negative opinion of Khabib's fighting style. It questions the submission author's intent and defends Khabib's ground game. This suggests a disagreement with the submission's negative sentiment towards Khabib.\n",
            "label: neutral\n",
            "reasoning: The comment is mocking someone who is upset about the fight's outcome, using phrases like \"sore loser\" and \"haha\" which are clearly negative and taunting.\n",
            "label: negative\n",
            "reasoning: The comment is dismissive of the original poster's opinion and suggests they should watch another sport if they don't like grappling. This is a negative sentiment towards the original poster's opinion.\n",
            "label: negative\n",
            "reasoning: The comment \"gtfo then\" is a rude and dismissive response to the original poster's opinion about the fight. It suggests that the original poster should leave if they don't like the content, indicating a negative sentiment towards the original poster's views.\n",
            "label: negative\n",
            "reasoning: The comment \"R u stupid?\" is a direct insult and expresses a negative sentiment towards the person being addressed.\n",
            "label: negative\n",
            "reasoning: The comment expresses disbelief that a Khabib-Ferguson fight would break 1 million PPVs, let alone 2 million, indicating a negative sentiment towards the claim made in the submission.\n",
            "label: negative\n",
            "reasoning: The comment expresses a negative opinion about Khabib, stating that casual fans are disgusted by him. This is a direct criticism of Khabib's image and popularity.\n",
            "label: negative\n",
            "reasoning: The comment expresses a negative sentiment towards Khabib's marketability, stating that his personality doesn't sell fights. It contrasts him with Conor, who the commenter believes can sell fights even after a loss.\n",
            "label: negative\n",
            "reasoning: The comment expresses disagreement with the parent comment's assessment of Khabib's marketability. It's a polite disagreement, but it doesn't express a positive or negative sentiment towards the fight itself.\n",
            "label: neutral\n",
            "reasoning: The comment expresses a negative sentiment towards Ferguson's chances in a fight against Khabib, stating that he \"will get killed.\" It also suggests Diaz as a better match, implying a lack of confidence in Ferguson's ability to compete.\n",
            "label: negative\n",
            "reasoning: The comment expresses a neutral opinion about Khabib's marketability, stating that casual fans may not tune in for his fights. It doesn't express strong positive or negative sentiment towards Khabib or the fight itself.\n",
            "label: neutral\n",
            "reasoning: The comment expresses disagreement with the submission's claim that Khabib is the biggest ticket in town. This disagreement indicates a negative sentiment towards the submission's argument.\n",
            "label: negative\n",
            "reasoning: The comment expresses a negative opinion about Khabib's fighting style, describing it as \"dry humping\" and implying it's boring. It also includes a homophobic remark, further contributing to the negative sentiment.\n",
            "label: negative\n",
            "reasoning: The comment expresses a mixed sentiment. It acknowledges the drama surrounding Khabib and suggests that casual fans might enjoy it, which is a positive aspect for Khabib's marketability. However, it also states that Conor will still be a bigger draw, implying that Khabib isn't the biggest draw. The comment also discusses Conor's future fights, which is somewhat neutral in relation to Khabib.\n",
            "label: neutral\n"
          ]
        },
        {
          "output_type": "stream",
          "name": "stderr",
          "text": [
            "WARNING:tornado.access:429 POST /v1beta/models/gemini-2.0-flash:generateContent?%24alt=json%3Benum-encoding%3Dint (127.0.0.1) 557.02ms\n",
            "WARNING:tornado.access:429 POST /v1beta/models/gemini-2.0-flash:generateContent?%24alt=json%3Benum-encoding%3Dint (127.0.0.1) 556.95ms\n",
            "WARNING:tornado.access:429 POST /v1beta/models/gemini-2.0-flash:generateContent?%24alt=json%3Benum-encoding%3Dint (127.0.0.1) 556.84ms\n"
          ]
        },
        {
          "output_type": "stream",
          "name": "stdout",
          "text": [
            "reasoning: The comment expresses a strong opinion against a \"butt hurt Conor fan\" and defends Khabib's performance in the fight, highlighting his dominance on the ground and in stand-up, including a specific instance where Khabib knocked McGregor down. This indicates a positive sentiment towards Khabib and a negative sentiment towards Conor McGregor and his fans.\n",
            "label: positive\n",
            "reasoning: The comment expresses agreement with the previous comment (\"Well said\") and then raises a question about Khabib's potential stripping of the belt. This is a neutral observation about the situation.\n",
            "label: neutral\n",
            "reasoning: The comment acknowledges Khabib's fighting prowess but criticizes his personality and marketability, suggesting he might not draw huge numbers despite being a great fighter. This indicates a mixed sentiment, leaning towards negative regarding his entertainment value and drawing power.\n",
            "label: negative\n",
            "reasoning: The comment expresses dislike for wrestling and GSP, calling them boring. It also accuses someone of being overly focused on Conor McGregor. While not directly about the fight itself, it expresses a negative sentiment towards wrestling-heavy fighters and implies the original poster is obsessed with Conor.\n",
            "label: negative\n",
            "reasoning: The comment defends Khabib's performance against McGregor, highlighting that Khabib chose to stand and fight, and still managed to knock McGregor down. This suggests a positive sentiment towards Khabib and his fighting style.\n",
            "label: positive\n",
            "reasoning: The comment expresses a negative sentiment towards Khabib, disputing his claim of being respectful and labeling his persona as fake.\n",
            "label: negative\n",
            "reasoning: The comment defends Khabib's actions, stating that he only retaliates when insulted and that standing up for one's morals doesn't negate humility. This aligns with a positive sentiment towards Khabib.\n",
            "label: positive\n",
            "reasoning: The comment expresses dislike for the grappling aspect of MMA, particularly when it dominates the fight. While the commenter acknowledges liking MMA, they find prolonged ground fighting boring. The comment also criticizes Floyd Mayweather's hugging style in boxing. The comment is critical of Khabib's fighting style, but also critical of Conor's strategy.\n",
            "label: negative\n",
            "reasoning: The comment defends Khabib's fighting style and argues against the notion that he is one-dimensional. It acknowledges Conor's superior boxing skills but highlights how Khabib's wrestling threat creates opportunities for him to punch. The comment also corrects the exaggeration of the fight's duration and the amount of time spent on the ground. Overall, the comment expresses a positive sentiment towards Khabib's fighting abilities.\n",
            "label: positive\n",
            "reasoning: The comment expresses a strong negative sentiment towards Khabib, criticizing his actions and questioning his \"humble and respectful\" persona. The commenter points out perceived hypocrisies in Khabib's behavior, such as calling out Conor after Conor's statement and the incident with Conor's friend. The commenter uses strong language like \"fake af,\" \"no morals,\" and \"no respect\" to convey their negative opinion.\n",
            "label: negative\n",
            "reasoning: The comment defends Khabib's actions, stating that the number of people involved in the incident was exaggerated and that Khabib was being held back. It also justifies Khabib's reaction by referencing cultural differences and Artem's behavior. This suggests a positive sentiment towards Khabib.\n",
            "label: positive\n",
            "reasoning: The comment expresses disagreement with the previous commenter's attempt to attribute the conflict to a difference in cultural values between America and Eastern Europe. It argues that the issue is about individual behavior, not national morality. While acknowledging Conor's escalation, the comment also points out that Khabib initiated the feud, suggesting a critical stance towards both fighters.\n",
            "label: negative\n",
            "reasoning: The comment acknowledges Khabib's mistake but also points out Conor's role in escalating the situation. It expresses a hope for positive change in fighter behavior as a result of Khabib's actions. This suggests a mixed sentiment, leaning towards neutral with a hint of positivity.\n",
            "label: neutral\n",
            "reasoning: The comment expresses a negative sentiment towards Khabib's actions and persona, arguing that his behavior contradicts the image of a respectful and honorable man. While the commenter found the post-fight actions entertaining, they criticize the narrative of Khabib standing up for his morals and religion, pointing out the hypocrisy of attacking an unarmed man.\n",
            "label: negative\n",
            "reasoning: The comment defends Khabib's actions, stating that he made a mistake but went after a fellow fighter \"man to man.\" It also criticizes Danis and praises Khabib's honor and fairness, contrasting him with Conor's actions. This indicates a positive sentiment towards Khabib and a negative sentiment towards Danis and Conor.\n",
            "label: positive\n",
            "reasoning: The comment expresses a positive sentiment towards Khabib, stating the user will tune into all of his fights from now on. It also expresses a negative sentiment towards McGregor, criticizing his shit-talking and failure to back it up. Overall, the comment is positive towards Khabib and negative towards McGregor.\n",
            "label: positive\n"
          ]
        },
        {
          "output_type": "stream",
          "name": "stderr",
          "text": [
            "WARNING:tornado.access:429 POST /v1beta/models/gemini-2.0-flash:generateContent?%24alt=json%3Benum-encoding%3Dint (127.0.0.1) 581.77ms\n",
            "WARNING:tornado.access:429 POST /v1beta/models/gemini-2.0-flash:generateContent?%24alt=json%3Benum-encoding%3Dint (127.0.0.1) 581.24ms\n",
            "WARNING:tornado.access:429 POST /v1beta/models/gemini-2.0-flash:generateContent?%24alt=json%3Benum-encoding%3Dint (127.0.0.1) 558.85ms\n",
            "WARNING:tornado.access:429 POST /v1beta/models/gemini-2.0-flash:generateContent?%24alt=json%3Benum-encoding%3Dint (127.0.0.1) 556.57ms\n",
            "WARNING:tornado.access:429 POST /v1beta/models/gemini-2.0-flash:generateContent?%24alt=json%3Benum-encoding%3Dint (127.0.0.1) 556.63ms\n",
            "WARNING:tornado.access:429 POST /v1beta/models/gemini-2.0-flash:generateContent?%24alt=json%3Benum-encoding%3Dint (127.0.0.1) 556.60ms\n",
            "WARNING:tornado.access:429 POST /v1beta/models/gemini-2.0-flash:generateContent?%24alt=json%3Benum-encoding%3Dint (127.0.0.1) 557.27ms\n"
          ]
        },
        {
          "output_type": "stream",
          "name": "stdout",
          "text": [
            "reasoning: The comment \"You want a gold star?\" is sarcastic and dismissive, implying that the person being addressed is seeking validation or praise for an insignificant contribution. This is a negative sentiment.\n",
            "label: negative\n",
            "reasoning: The comment acknowledges Khabib's victory but criticizes his actions outside the ring, stating that a trained martial artist should not use their skills to inflict damage outside of self-defense. This expresses a negative sentiment towards Khabib's behavior after the fight.\n",
            "label: negative\n",
            "reasoning: The comment is sarcastic and critical of Conor McGregor's actions (throwing a dolly), implying that it's a worse alternative to Khabib's actions. It uses humor to express a negative sentiment towards McGregor and, by comparison, a slightly more positive sentiment towards Khabib.\n",
            "label: neutral\n",
            "reasoning: The comment expresses a negative opinion about Khabib's fighting style and personality, stating it's like \"watching paint dry.\" This is a clear indication of a negative sentiment towards Khabib as a fighter.\n",
            "label: negative\n",
            "reasoning: The comment expresses interest in a potential fight between Diaz and Khabib, suggesting Diaz could pose a challenge to Khabib due to his grappling skills and endurance. This implies a positive sentiment towards the hypothetical matchup.\n",
            "label: positive\n",
            "reasoning: The comment directly contradicts the parent comment's assertion that casual fans are disgusted by Khabib, stating that the commenter's casual friends enjoyed the drama. This suggests a positive sentiment towards the fight and Khabib's role in it.\n",
            "label: positive\n",
            "reasoning: The comment is sarcastically comparing Conor's actions to Khabib's, implying that Conor's actions are not justifiable as \"standing up for his people and his morals.\" This suggests a negative sentiment towards Conor and potentially a more neutral or even slightly positive sentiment towards Khabib in comparison.\n",
            "label: neutral\n",
            "reasoning: The comment expresses disagreement with the previous poster, but does so respectfully and acknowledges the futility of internet arguments. This indicates a neutral stance towards the overall fight/discussion.\n",
            "label: neutral\n",
            "reasoning: The comment expresses a negative sentiment towards Khabib, criticizing his behavior and motivations. It suggests that Khabib is hypocritical and only cares about money.\n",
            "label: negative\n",
            "reasoning: The comment is a response to the previous comment about downvotes, and it expresses indifference towards them. It doesn't express any sentiment towards the fight itself or the fighters involved.\n",
            "label: neutral\n",
            "reasoning: The comment expresses admiration for Conor's mental warfare tactics and suggests that he \"won the war\" despite losing the fight. It also acknowledges Khabib's understanding of mental warfare but suggests that Conor ultimately broke him mentally. The comment is therefore positive towards Conor and negative towards Khabib.\n",
            "label: negative\n",
            "reasoning: The comment expresses a positive sentiment towards Khabib, stating that he won in every facet and is changing the game by discouraging trash talking and insults.\n",
            "label: positive\n",
            "reasoning: The comment provides a statistic about Khabib's Instagram followers increasing, which suggests growing popularity and marketability. This supports the submission's argument that Khabib is a big draw.\n",
            "label: positive\n",
            "reasoning: The comment expresses doubt about Khabib's ability to change the game if he is unable to fight, implying a negative sentiment towards Khabib's current situation and future prospects.\n",
            "label: negative\n",
            "reasoning: The comment expresses a positive sentiment towards Khabib's impact on the sport, suggesting his actions will be remembered and that he has options even if he can't fight in the US. It also expresses doubt that Khabib will have his visa revoked.\n",
            "label: positive\n",
            "reasoning: The comment \"casual fan\" is dismissive and implies a negative sentiment towards the original post's argument about Khabib's marketability and persona. It suggests the commenter believes the original poster's view is naive or uninformed.\n",
            "label: negative\n"
          ]
        },
        {
          "output_type": "stream",
          "name": "stderr",
          "text": [
            "WARNING:tornado.access:429 POST /v1beta/models/gemini-2.0-flash:generateContent?%24alt=json%3Benum-encoding%3Dint (127.0.0.1) 582.62ms\n",
            "WARNING:tornado.access:429 POST /v1beta/models/gemini-2.0-flash:generateContent?%24alt=json%3Benum-encoding%3Dint (127.0.0.1) 558.35ms\n",
            "WARNING:tornado.access:429 POST /v1beta/models/gemini-2.0-flash:generateContent?%24alt=json%3Benum-encoding%3Dint (127.0.0.1) 557.25ms\n",
            "WARNING:tornado.access:429 POST /v1beta/models/gemini-2.0-flash:generateContent?%24alt=json%3Benum-encoding%3Dint (127.0.0.1) 556.84ms\n",
            "WARNING:tornado.access:429 POST /v1beta/models/gemini-2.0-flash:generateContent?%24alt=json%3Benum-encoding%3Dint (127.0.0.1) 557.59ms\n",
            "WARNING:tornado.access:429 POST /v1beta/models/gemini-2.0-flash:generateContent?%24alt=json%3Benum-encoding%3Dint (127.0.0.1) 555.65ms\n"
          ]
        },
        {
          "output_type": "stream",
          "name": "stdout",
          "text": [
            "reasoning: The comment expresses a negative sentiment towards Khabib's actions after the fight, describing them as lacking sportsmanship.\n",
            "label: negative\n",
            "reasoning: The comment defends Khabib's actions by pointing out McGregor's past behavior and lack of sportsmanship, suggesting that McGregor's actions provoked Khabib's response. This indicates a positive sentiment towards Khabib in the context of the fight and its aftermath.\n",
            "label: positive\n",
            "reasoning: The comment expresses a positive view of Khabib's marketability, suggesting alternative marketing strategies and highlighting his potential in Asia and Russia. It acknowledges McGregor's popularity but argues that Khabib can be marketable in a different way.\n",
            "label: positive\n",
            "reasoning: The comment expresses a negative sentiment towards Khabib's actions, stating that what he did was worse because it was seen by everyone during a PPV event. This implies disapproval of Khabib's behavior.\n",
            "label: negative\n",
            "reasoning: The comment praises Khabib's performance in the fight against Conor, highlighting his boxing skills and the fact that he dropped Conor before submitting him. This is a positive sentiment towards Khabib's fighting abilities.\n",
            "label: positive\n",
            "reasoning: The comment expresses strong positive sentiment towards Khabib's fighting style, using enthusiastic language like \"mauls the shit out of them,\" \"FUUCK HIM UUUP!,\" and \"huge right cross.\" The commenter clearly enjoys watching Khabib fight.\n",
            "label: positive\n",
            "reasoning: The comment \"Shhhh 🤫\" is used to silence or dismiss opposing viewpoints. In the context of the submission, which defends Khabib's actions and criticizes Conor McGregor's past behavior, the comment likely expresses support for Khabib and disagreement with those criticizing him.\n",
            "label: positive\n",
            "reasoning: The comment is a direct, aggressive insult, likely directed at someone who disagrees with the submission's pro-Khabib stance. This indicates a negative sentiment towards the opposing viewpoint in the fight.\n",
            "label: negative\n",
            "reasoning: The comment is neutral as it simply states a possible outcome of the fight without expressing any positive or negative sentiment towards either fighter.\n",
            "label: neutral\n",
            "reasoning: The comment argues against the submission's point that McGregor's actions were worse than Khabib's. It downplays McGregor's actions by saying it was up to the victims to press charges, and it criticizes Khabib's actions after the fight. The comment is critical of Khabib and supportive of McGregor, indicating a negative sentiment towards Khabib and a more neutral or slightly positive sentiment towards McGregor.\n",
            "label: negative\n",
            "reasoning: The comment expresses agreement with the submission's argument that there is a double standard in how Conor McGregor and Khabib Nurmagomedov are treated, suggesting a bias in favor of McGregor. It questions why McGregor wasn't punished as severely for his actions, implying unfairness towards Khabib.\n",
            "label: positive\n",
            "reasoning: The comment expresses a belief that Khabib won't fight Conor again because of the insults and the fact that he \"beat Dana's poster boy.\" It suggests Khabib is in a position of power and might retire. This leans towards a positive sentiment for Khabib.\n",
            "label: positive\n",
            "reasoning: The comment is providing factual information about the situation with Dana White and the Nevada State Athletic Commission, clarifying that Dana White isn't holding the purse and explaining the process of the investigation. It doesn't express a positive or negative sentiment towards either fighter or the fight itself.\n",
            "label: neutral\n",
            "reasoning: The comment directly contradicts a previous comment about Conor's purse being held, stating that he received it. This is relevant to the discussion about the aftermath of the fight and potential punishments. The comment is factual and doesn't express a strong positive or negative sentiment towards either fighter or the fight itself, but it does correct a statement made in a previous comment.\n",
            "label: neutral\n",
            "reasoning: The comment expresses a negative opinion about the argument presented in the submission. It uses the phrase \"weakest argument\" which is clearly a negative sentiment.\n",
            "label: negative\n",
            "reasoning: The comment criticizes both Conor and Khabib, but focuses more on Khabib's hypocrisy, suggesting his actions don't align with his proclaimed Muslim values. It implies Khabib should embody peace if he claims to be a true Muslim. While acknowledging Conor's bad behavior, it suggests he is more honest about his nature.\n",
            "label: negative\n"
          ]
        },
        {
          "output_type": "stream",
          "name": "stderr",
          "text": [
            "WARNING:tornado.access:429 POST /v1beta/models/gemini-2.0-flash:generateContent?%24alt=json%3Benum-encoding%3Dint (127.0.0.1) 582.23ms\n",
            "WARNING:tornado.access:429 POST /v1beta/models/gemini-2.0-flash:generateContent?%24alt=json%3Benum-encoding%3Dint (127.0.0.1) 582.22ms\n",
            "WARNING:tornado.access:429 POST /v1beta/models/gemini-2.0-flash:generateContent?%24alt=json%3Benum-encoding%3Dint (127.0.0.1) 557.05ms\n",
            "WARNING:tornado.access:429 POST /v1beta/models/gemini-2.0-flash:generateContent?%24alt=json%3Benum-encoding%3Dint (127.0.0.1) 582.72ms\n",
            "WARNING:tornado.access:429 POST /v1beta/models/gemini-2.0-flash:generateContent?%24alt=json%3Benum-encoding%3Dint (127.0.0.1) 582.27ms\n",
            "WARNING:tornado.access:429 POST /v1beta/models/gemini-2.0-flash:generateContent?%24alt=json%3Benum-encoding%3Dint (127.0.0.1) 581.78ms\n",
            "WARNING:tornado.access:429 POST /v1beta/models/gemini-2.0-flash:generateContent?%24alt=json%3Benum-encoding%3Dint (127.0.0.1) 582.84ms\n"
          ]
        },
        {
          "output_type": "stream",
          "name": "stdout",
          "text": [
            "reasoning: The comment is stating that both fighters' purses are being held, which is a neutral statement of fact regarding the situation.\n",
            "label: neutral\n",
            "reasoning: The comment \"My bad then\" is in response to a correction about whether Conor's purse was being held. It acknowledges a mistake and doesn't express a strong opinion about the fight or the fighters involved.\n",
            "label: neutral\n",
            "reasoning: The comment defends Khabib's actions by stating that anyone would react violently if their parents were insulted, regardless of religion. It questions the logic of associating violence with not being a true Muslim.\n",
            "label: positive\n",
            "reasoning: The comment is a response to the previous comment which was called \"the weakest argument in the history of arguing\". The comment is asking for the user to provide reasoning for their argument instead of just calling it \"shit\". This is a neutral sentiment towards the fight.\n",
            "label: neutral\n",
            "reasoning: The comment expresses a negative sentiment towards Khabib's actions after the fight, calling them \"barbaric\" and criticizing his team's behavior. It also points out the hypocrisy of Khabib and his team acting religiously while engaging in violence. While it acknowledges Conor's role in building hype, it ultimately focuses on the negative aspects of Khabib's post-fight actions.\n",
            "label: negative\n",
            "reasoning: The comment is referencing the bus incident, which is a negative event associated with Conor. The comment also points out Conor's readiness to attack Khabib, further emphasizing a negative sentiment towards Conor and potentially supporting Khabib.\n",
            "label: positive\n",
            "reasoning: The comment compares Conor and Khabib, criticizing Khabib for not living up to his religious ideals while doing similar or worse things than Conor. The comment expresses a negative sentiment towards Khabib's actions and hypocrisy.\n",
            "label: negative\n",
            "reasoning: The comment questions the accuracy of the submission's claims about McGregor's actions towards Aldo and then questions if Khabib will fight Danis. It doesn't express a strong positive or negative sentiment towards Khabib or the fight itself, but rather seeks clarification and raises a question about a potential future fight.\n",
            "label: neutral\n",
            "reasoning: The comment is sarcastically referring to Islam as a \"peaceful religion\" in response to the events described in the submission and parent comments, which involve violence and conflict. This implies a negative sentiment towards Khabib's actions and the perceived hypocrisy of his behavior in relation to his religious beliefs.\n",
            "label: negative\n",
            "reasoning: The comment expresses disagreement with the previous commenter's points, accusing them of bias and a lack of understanding. It criticizes the commenter for justifying Conor's actions while condemning Khabib's, indicating a negative sentiment towards the commenter's perspective on the fight and the fighters involved.\n",
            "label: negative\n",
            "reasoning: The comment is responding to the accusation of being biased. The author is defending their position and stating their opinion on the original post's argument about why Conor gets away with things while Khabib does not. The comment does not express a strong positive or negative sentiment towards either fighter, but rather focuses on the perceived double standard.\n",
            "label: neutral\n",
            "reasoning: The comment is a direct insult to someone who is perceived to be a fan of Conor McGregor, implying a negative sentiment towards that person and, by extension, towards Conor McGregor. This aligns with a negative sentiment in the context of the fight and the arguments surrounding it.\n",
            "label: negative\n",
            "reasoning: The comment expresses a desire to see another fight where someone is easily defeated (\"chicken tap\"), implying a negative sentiment towards the potential opponent.\n",
            "label: negative\n",
            "reasoning: The comment expresses anger and disagreement with the previous commenter's justification of Conor's actions based on his \"bad boy\" image. It argues that the act itself should be the focus of anger, regardless of the person's public image. This indicates a negative sentiment towards Conor and those who defend his actions.\n",
            "label: negative\n",
            "reasoning: The comment presents a hypothetical situation where a friend is being bullied and asks whether one should stand up for them or \"suck it up.\" It implies that Khabib was standing up for his friend, which is a positive sentiment towards Khabib's actions in the fight.\n",
            "label: positive\n",
            "reasoning: The comment expresses a dismissive attitude towards insults directed at religion, suggesting that people shouldn't be upset by them. This contrasts with the submission's point about Conor insulting Khabib's religion, implying that Khabib's reaction might be justified. The comment is therefore negative towards the idea of defending religion.\n",
            "label: negative\n"
          ]
        },
        {
          "output_type": "stream",
          "name": "stderr",
          "text": [
            "WARNING:tornado.access:429 POST /v1beta/models/gemini-2.0-flash:generateContent?%24alt=json%3Benum-encoding%3Dint (127.0.0.1) 607.31ms\n",
            "WARNING:tornado.access:429 POST /v1beta/models/gemini-2.0-flash:generateContent?%24alt=json%3Benum-encoding%3Dint (127.0.0.1) 581.79ms\n",
            "WARNING:tornado.access:429 POST /v1beta/models/gemini-2.0-flash:generateContent?%24alt=json%3Benum-encoding%3Dint (127.0.0.1) 582.95ms\n",
            "WARNING:tornado.access:429 POST /v1beta/models/gemini-2.0-flash:generateContent?%24alt=json%3Benum-encoding%3Dint (127.0.0.1) 607.91ms\n",
            "WARNING:tornado.access:429 POST /v1beta/models/gemini-2.0-flash:generateContent?%24alt=json%3Benum-encoding%3Dint (127.0.0.1) 607.47ms\n",
            "WARNING:tornado.access:429 POST /v1beta/models/gemini-2.0-flash:generateContent?%24alt=json%3Benum-encoding%3Dint (127.0.0.1) 608.68ms\n",
            "WARNING:tornado.access:429 POST /v1beta/models/gemini-2.0-flash:generateContent?%24alt=json%3Benum-encoding%3Dint (127.0.0.1) 607.27ms\n"
          ]
        },
        {
          "output_type": "stream",
          "name": "stdout",
          "text": [
            "reasoning: The comment defends Khabib's actions by providing a hypothetical situation where his opponent insulted his religion, country, and father. It also criticizes the double standard applied to Conor and Khabib, suggesting that people are more lenient towards Conor's actions due to his image. The comment also acknowledges being a Conor fan, but still points out the hypocrisy.\n",
            "label: positive\n",
            "reasoning: The comment is criticizing someone for making a comment that doesn't contribute anything. This is a negative sentiment towards the person being criticized.\n",
            "label: negative\n",
            "reasoning: The comment discusses Conor's understanding of the \"game\" and how he uses it to his advantage, while contrasting it with Khabib's lack of understanding. It suggests that Conor's actions are acceptable because the company allows them, and that Khabib's actions are due to cultural differences. The comment does not express strong positive or negative sentiment towards either fighter, but rather offers an explanation for their behavior.\n",
            "label: neutral\n",
            "reasoning: The comment uses a sarcastic hypothetical situation to highlight the absurdity of judging actions based on a person's reputation. It implies disagreement with the idea that someone's image should influence the reaction to their actions, suggesting a negative sentiment towards the argument being made in the parent comment.\n",
            "label: negative\n",
            "reasoning: The comment expresses a negative sentiment towards the fight itself, stating it \"wasn't even a good fight\" and that Khabib dominated. It also suggests Conor doesn't deserve a rematch and should work his way back up, indicating a negative view of Conor's performance.\n",
            "label: negative\n",
            "reasoning: The comment discusses the entertainment aspect of UFC and how Conor McGregor contributed to its popularity. It suggests that fighters often play a role for the cameras and that Khabib is seen as a \"vibe killer\" because he doesn't participate in the showmanship. The comment doesn't express strong positive or negative sentiment towards either fighter but focuses on the business aspect of the sport.\n",
            "label: neutral\n",
            "reasoning: The comment is correcting a detail in the submission about Conor McGregor's actions towards Jose Aldo. It's a factual correction and doesn't express a strong positive or negative sentiment towards either fighter or the overall situation.\n",
            "label: neutral\n",
            "reasoning: The comment acknowledges both fighters' wrongdoings and suggests equal consequences for both, indicating a neutral stance towards the fight itself.\n",
            "label: neutral\n",
            "reasoning: The comment discusses the potential aftermath of the fight and a possible rematch scenario. It doesn't express a strong positive or negative sentiment towards either fighter or the fight itself, but rather focuses on the business and promotional aspects.\n",
            "label: neutral\n",
            "reasoning: The comment supports the submission's argument that Conor McGregor has done worse things than Khabib and faced fewer consequences. It adds another instance of Conor's behavior, further strengthening the argument. The comment is in support of Khabib.\n",
            "label: positive\n",
            "reasoning: The comment expresses a strong opinion against Conor McGregor immediately getting a title shot after his loss to Khabib. It suggests that other fighters deserve the opportunity more and that McGregor needs to work his way back up. The comment is critical of the idea of McGregor being favored despite his performance.\n",
            "label: negative\n",
            "reasoning: The comment expresses a cynical view of the UFC's priorities, suggesting they prioritize profit (PPV buys) over fair rankings. This implies a negative sentiment towards the UFC's decision-making process regarding fights.\n",
            "label: negative\n",
            "reasoning: The comment expresses a negative sentiment towards both fighters, labeling them as \"cunts\" and referencing a specific negative action by Khabib.\n",
            "label: negative\n",
            "reasoning: The comment expresses a negative sentiment towards the original commenter, calling them a \"dumbass\" and pointing out factual inaccuracies in their argument. It also acknowledges Conor's past actions but justifies the difference in treatment due to the athletic commission's involvement. While acknowledging Khabib's win, it also states that he \"fucked up\" and will likely face consequences. Overall, the comment is critical of both Khabib's actions and the original commenter's argument.\n",
            "label: negative\n",
            "reasoning: The comment is correcting the submission's claims about McGregor's actions, specifically stating that McGregor did not attack Aldo or the ref, but rather got in their faces. This implies a disagreement with the submission's portrayal of McGregor's behavior and a defense of McGregor to some extent. This is a negative sentiment towards the submission's argument.\n",
            "label: negative\n",
            "reasoning: The comment expresses agreement with the submission's points, indicating a positive sentiment towards the argument being made in favor of Khabib.\n",
            "label: positive\n",
            "reasoning: The comment directly states that Khabib should be stripped of his title and have his visa taken away, which is a negative sentiment towards Khabib.\n",
            "label: negative\n",
            "reasoning: The comment \"Different cultures\" is a neutral statement that doesn't express a positive or negative sentiment towards the fight or either fighter. It simply acknowledges a potential difference in cultural norms or values that might be relevant to the situation.\n",
            "label: neutral\n",
            "reasoning: The comment expresses disagreement and ridicule towards a previous comment, using the word \"delusions\" which carries a negative connotation.\n",
            "label: negative\n",
            "reasoning: The comment expresses admiration for both fighters, acknowledging Conor's loss and Khabib's dominance. It also suggests a double standard in how Conor's actions are perceived compared to Khabib's. The overall sentiment is neutral towards the fight itself, acknowledging both fighters' strengths and weaknesses.\n",
            "label: neutral\n",
            "reasoning: The comment \"Two wrongs don’t make a right\" is a neutral statement. It doesn't express a positive or negative sentiment towards either Khabib or Conor, but rather offers a general moral observation about the situation.\n",
            "label: neutral\n",
            "reasoning: The comment discusses the rules of the fight and places blame on Khabib's brother for being in the ring when he shouldn't have been. It doesn't express a positive or negative sentiment towards the fight itself, but rather focuses on the actions of individuals involved.\n",
            "label: neutral\n",
            "reasoning: The comment suggests that the different treatment of Conor McGregor and Khabib Nurmagomedov is due to white privilege. This implies a negative sentiment towards the situation and the perceived unfairness.\n",
            "label: negative\n",
            "reasoning: The comment is a reminder bot call to check on the possibility of a rematch in 6 months. It doesn't express any sentiment towards the fight itself.\n",
            "label: neutral\n",
            "reasoning: The comment expresses a desire for Khabib to continue fighting and \"clean out\" the division, indicating a positive sentiment towards his fighting career and potential future fights.\n",
            "label: positive\n",
            "reasoning: The comment is critical of Conor's actions, stating that his behavior is unacceptable. This implies a negative sentiment towards Conor's actions in the fight.\n",
            "label: negative\n"
          ]
        },
        {
          "output_type": "stream",
          "name": "stderr",
          "text": [
            "WARNING:tornado.access:429 POST /v1beta/models/gemini-2.0-flash:generateContent?%24alt=json%3Benum-encoding%3Dint (127.0.0.1) 585.82ms\n"
          ]
        },
        {
          "output_type": "stream",
          "name": "stdout",
          "text": [
            "reasoning: The comment questions the hypocrisy of criticizing Conor for hitting people while seemingly excusing Khabib's actions of jumping out of the cage to confront Dillon Danis. It implies that both actions are equally problematic.\n",
            "label: negative\n",
            "reasoning: The comment is discussing the events of the fight and the actions of Conor McGregor. It is arguing that Conor would not have attacked Aldo because his girlfriend was present. The comment is generally supportive of Conor.\n",
            "label: neutral\n"
          ]
        },
        {
          "output_type": "stream",
          "name": "stderr",
          "text": [
            "WARNING:tornado.access:429 POST /v1beta/models/gemini-2.0-flash:generateContent?%24alt=json%3Benum-encoding%3Dint (127.0.0.1) 1622.11ms\n",
            "WARNING:tornado.access:429 POST /v1beta/models/gemini-2.0-flash:generateContent?%24alt=json%3Benum-encoding%3Dint (127.0.0.1) 556.61ms\n",
            "WARNING:tornado.access:429 POST /v1beta/models/gemini-2.0-flash:generateContent?%24alt=json%3Benum-encoding%3Dint (127.0.0.1) 582.53ms\n",
            "WARNING:tornado.access:429 POST /v1beta/models/gemini-2.0-flash:generateContent?%24alt=json%3Benum-encoding%3Dint (127.0.0.1) 557.25ms\n",
            "WARNING:tornado.access:429 POST /v1beta/models/gemini-2.0-flash:generateContent?%24alt=json%3Benum-encoding%3Dint (127.0.0.1) 557.46ms\n",
            "WARNING:tornado.access:429 POST /v1beta/models/gemini-2.0-flash:generateContent?%24alt=json%3Benum-encoding%3Dint (127.0.0.1) 557.28ms\n"
          ]
        },
        {
          "output_type": "stream",
          "name": "stdout",
          "text": [
            "reasoning: The comment agrees with the point that both fighters acted unprofessionally, implying a neutral stance towards the fight itself, acknowledging wrongdoing on both sides.\n",
            "label: neutral\n",
            "reasoning: The comment acknowledges that insulting someone's family or religion is a legitimate reason to be upset, but it also states that Khabib should not have jumped out of the octagon. The comment suggests that Khabib had the moral high ground and forfeited it by reacting to Dillon's insults. This indicates a mixed sentiment, but leaning towards negative as it criticizes Khabib's actions.\n",
            "label: negative\n",
            "reasoning: The comment questions the assertion of white privilege and expresses frustration with the tendency to attribute issues to race or religion. It does not express a positive or negative sentiment towards the fight itself, but rather a general sentiment about the discussion surrounding it.\n",
            "label: neutral\n",
            "reasoning: The comment is arguing against the idea that Conor and Khabib should be treated the same, because Khabib is preaching religion. The comment is not necessarily positive or negative towards the fight itself, but rather the actions of the fighters.\n",
            "label: neutral\n",
            "reasoning: The comment defends Conor McGregor's actions in the ring, stating that he had the right to defend himself from a perceived threat, even if it meant punching first. This suggests a negative sentiment towards Khabib and his team.\n",
            "label: negative\n",
            "reasoning: The comment agrees with the sentiment that both fighters have done wrong and that one's actions don't excuse the other's. It criticizes the \"whataboutism\" and suggests that both fighters' actions should be discussed separately.\n",
            "label: neutral\n",
            "reasoning: The comment expresses disagreement with the submission's claim that McGregor \"attacked\" Aldo by yelling at him. It uses strong language (\"pathetic\") to criticize the subreddit, indicating a negative sentiment towards the argument presented in the submission.\n",
            "label: negative\n",
            "reasoning: The comment expresses a negative sentiment towards \"Conor haters,\" implying they are behaving predictably and negatively. This suggests a bias in favor of Khabib and against Conor.\n",
            "label: negative\n",
            "reasoning: The comment supports Khabib and argues that he is treated unfairly compared to Conor McGregor due to his ethnicity and religion. It directly responds to the previous comment about \"white privilege\" and reinforces the idea that Khabib faces discrimination.\n",
            "label: positive\n",
            "reasoning: The comment expresses disagreement with the argument that Conor had the right to punch someone, calling it \"crap\" and \"insane.\" This indicates a negative sentiment towards the idea of Conor's actions being justified.\n",
            "label: negative\n",
            "reasoning: The comment expresses agreement with the author's points up until the mention of religion, suggesting a disagreement or discomfort with that particular aspect of the argument. This indicates a mixed sentiment, but leaning towards negative due to the disagreement.\n",
            "label: negative\n",
            "reasoning: The comment expresses a negative sentiment towards Khabib, criticizing him for not living up to the expectations of a devout Muslim and calling him a fraud. It contrasts him with McGregor, whom the commenter sees as an \"honest cunt\" because he doesn't pretend to be religious.\n",
            "label: negative\n",
            "reasoning: The comment expresses a strong opinion defending Khabib and criticizing Dillon Danis and Conor McGregor. It argues that Khabib's actions were a mistake but not comparable to the \"scum\" behavior of others, and it accuses Conor of getting away with worse antics due to being white. The tone is aggressive and defensive of Khabib.\n",
            "label: positive\n",
            "reasoning: The comment explicitly states \"#teamkhabib\", indicating support for Khabib.\n",
            "label: positive\n",
            "reasoning: The comment expresses a negative sentiment towards Khabib's actions after the fight, criticizing him for not living up to the expectations set by his religious persona. It also criticizes the previous commenter for being biased.\n",
            "label: negative\n",
            "reasoning: The comment is pointing out a factual error in the original post, stating that Conor, not Khabib, threw the metal dolly at the bus. This is a neutral observation about the content of the post.\n",
            "label: neutral\n"
          ]
        },
        {
          "output_type": "stream",
          "name": "stderr",
          "text": [
            "WARNING:tornado.access:429 POST /v1beta/models/gemini-2.0-flash:generateContent?%24alt=json%3Benum-encoding%3Dint (127.0.0.1) 607.87ms\n",
            "WARNING:tornado.access:429 POST /v1beta/models/gemini-2.0-flash:generateContent?%24alt=json%3Benum-encoding%3Dint (127.0.0.1) 583.16ms\n",
            "WARNING:tornado.access:429 POST /v1beta/models/gemini-2.0-flash:generateContent?%24alt=json%3Benum-encoding%3Dint (127.0.0.1) 608.01ms\n",
            "WARNING:tornado.access:429 POST /v1beta/models/gemini-2.0-flash:generateContent?%24alt=json%3Benum-encoding%3Dint (127.0.0.1) 683.78ms\n",
            "WARNING:tornado.access:429 POST /v1beta/models/gemini-2.0-flash:generateContent?%24alt=json%3Benum-encoding%3Dint (127.0.0.1) 582.76ms\n",
            "WARNING:tornado.access:429 POST /v1beta/models/gemini-2.0-flash:generateContent?%24alt=json%3Benum-encoding%3Dint (127.0.0.1) 607.83ms\n"
          ]
        },
        {
          "output_type": "stream",
          "name": "stdout",
          "text": [
            "reasoning: The comment is defending Khabib and criticizing the previous commenter's argument about religion and hypocrisy. It expresses a positive sentiment towards Khabib's actions in the fight and dismisses the idea that the commenter is upset about it.\n",
            "label: positive\n",
            "reasoning: The comment \"He'll be fine either way\" is a neutral statement. It doesn't express a positive or negative sentiment towards the fight or the fighters involved. It simply suggests that the person being referred to will be okay regardless of the outcome.\n",
            "label: neutral\n",
            "reasoning: The comment discusses Khabib's potential retirement, suggesting he might be tired of fighting. This aligns with the parent comment's mention of Khabib retiring. The comment doesn't express a strong positive or negative sentiment towards the fight itself, but rather focuses on Khabib's career and future.\n",
            "label: neutral\n",
            "reasoning: The comment is primarily an attack on the previous commenter's intelligence and age, rather than expressing a sentiment about the fight itself. It's confrontational and dismissive.\n",
            "label: negative\n",
            "reasoning: The comment is insulting and dismissive towards the person they are replying to. It also implies that the person was upset about the fight's outcome.\n",
            "label: negative\n",
            "reasoning: The comment is mocking the user they are replying to, using sarcasm and insults. It is negative in tone.\n",
            "label: negative\n",
            "reasoning: The comment is aggressive and threatening, indicating a negative sentiment. It also contains insults.\n",
            "label: negative\n",
            "reasoning: The comment is sarcastic and aggressive, responding to a previous comment with threats and insults. It is clearly negative in tone and contributes to the heated argument.\n",
            "label: negative\n",
            "reasoning: The comment expresses a negative sentiment towards both fighters' actions and the UFC's handling of the situation. It suggests that both fighters should face consequences (visa revocation) and criticizes the UFC for allowing the situation to escalate.\n",
            "label: negative\n",
            "reasoning: The comment is negative towards Conor McGregor and uses insulting language (\"blind retard\"). It also disputes a claim made in the original post, suggesting a disagreement with the pro-Khabib sentiment.\n",
            "label: negative\n",
            "reasoning: The comment is defending Conor McGregor's actions in the fight and criticizing Khabib's team for entering the octagon. The commenter is clearly angry and uses strong language to express their disagreement with the idea that Conor was in the wrong.\n",
            "label: negative\n",
            "reasoning: The comment expresses anger and disagreement with the parent comment's claim that Khabib's brother was attacking him. The use of \"FUCK YOU retard\" indicates a negative sentiment towards the parent comment and, by extension, a defense of Khabib.\n",
            "label: positive\n",
            "reasoning: The comment defends Conor McGregor's actions by arguing that he was justified in defending himself from a perceived threat, Khabib's brother, who was not supposed to be in the ring. The comment uses strong language and insults towards those who disagree.\n",
            "label: positive\n",
            "reasoning: The comment is referring to a typo in the original post, and is not directly related to the fight itself, but rather a mistake in the text. It is a neutral observation.\n",
            "label: neutral\n",
            "reasoning: The comment points out a mistake in the original post. It does not express any sentiment towards the fight or the fighters involved.\n",
            "label: neutral\n",
            "reasoning: The comment expresses a critical view of the UFC's handling of Conor McGregor's actions compared to Khabib's, suggesting a bias. This implies a negative sentiment towards the UFC's actions and a supportive stance towards Khabib.\n",
            "label: positive\n"
          ]
        },
        {
          "output_type": "stream",
          "name": "stderr",
          "text": [
            "WARNING:tornado.access:429 POST /v1beta/models/gemini-2.0-flash:generateContent?%24alt=json%3Benum-encoding%3Dint (127.0.0.1) 582.83ms\n",
            "WARNING:tornado.access:429 POST /v1beta/models/gemini-2.0-flash:generateContent?%24alt=json%3Benum-encoding%3Dint (127.0.0.1) 733.84ms\n",
            "WARNING:tornado.access:429 POST /v1beta/models/gemini-2.0-flash:generateContent?%24alt=json%3Benum-encoding%3Dint (127.0.0.1) 557.04ms\n",
            "WARNING:tornado.access:429 POST /v1beta/models/gemini-2.0-flash:generateContent?%24alt=json%3Benum-encoding%3Dint (127.0.0.1) 557.11ms\n",
            "WARNING:tornado.access:429 POST /v1beta/models/gemini-2.0-flash:generateContent?%24alt=json%3Benum-encoding%3Dint (127.0.0.1) 581.87ms\n",
            "WARNING:tornado.access:429 POST /v1beta/models/gemini-2.0-flash:generateContent?%24alt=json%3Benum-encoding%3Dint (127.0.0.1) 557.31ms\n",
            "WARNING:tornado.access:429 POST /v1beta/models/gemini-2.0-flash:generateContent?%24alt=json%3Benum-encoding%3Dint (127.0.0.1) 557.51ms\n"
          ]
        },
        {
          "output_type": "stream",
          "name": "stdout",
          "text": [
            "reasoning: The comment attempts to defend some of McGregor's actions, suggesting they were less severe than portrayed in the original post. It also downplays the severity of verbal insults compared to physical actions. While not explicitly supporting Khabib, it does offer a more nuanced perspective on McGregor's behavior, which indirectly weakens the argument against Khabib.\n",
            "label: neutral\n",
            "reasoning: The comment \"He has other credit cards\" is a non-sequitur and does not relate to the fight or the arguments presented in the submission. It is therefore neutral.\n",
            "label: neutral\n",
            "reasoning: The comment expresses anger and disagreement with the submission's comparison of Conor and Khabib's actions. It highlights the severity of Khabib's actions at a major UFC event and suggests potential consequences for Khabib. The tone is aggressive and critical of the submission's perspective.\n",
            "label: negative\n",
            "reasoning: The comment expresses strong disagreement with the idea that religious insults justify Khabib's actions. The use of \"FUCKING MORON\" indicates a highly negative sentiment towards the argument being made in the submission.\n",
            "label: negative\n",
            "reasoning: The comment is pointing out an error in the original post, specifically that it was Conor, not Khabib, who was involved in the dolly bus throwing incident. This is a factual correction and doesn't express a strong positive or negative sentiment towards either fighter or the fight itself.\n",
            "label: neutral\n",
            "reasoning: The comment is arguing against the idea that Khabib is a victim of white privilege, claiming he appears white and that his religion is the issue, not his race. The comment is aggressive and dismissive, using phrases like \"STFU\" and \"ass backwards religions.\" It also accuses the previous commenter of creating propaganda and reading fake news. This indicates a negative sentiment towards the previous comment and a defensive stance regarding Khabib's treatment.\n",
            "label: negative\n",
            "reasoning: The comment is neutral as it simply states what Josh Thompson said on a podcast. It doesn't express any positive or negative sentiment towards the fight or the fighters involved.\n",
            "label: neutral\n",
            "reasoning: The comment expresses a negative sentiment towards Khabib, suggesting that he will be treated differently due to his religion and country of origin. It also implies a negative view of Khabib by associating him with \"radical Islamists.\"\n",
            "label: negative\n",
            "reasoning: The comment is simply acknowledging a mistake pointed out in a previous comment. It doesn't express any sentiment towards the fight or the fighters involved.\n",
            "label: neutral\n",
            "reasoning: The comment expresses a negative sentiment towards Conor McGregor's actions towards Aldo and his family, suggesting that such behavior is worse than physical harm. This implies support for Khabib and criticism of McGregor.\n",
            "label: negative\n",
            "reasoning: The comment is about the trash talk going too far, which is a negative sentiment towards the events surrounding the fight.\n",
            "label: negative\n",
            "reasoning: The comment acknowledges the previous point about Aldo being with his family, but then shifts the focus to the legal aspect of the comparison between McGregor and Khabib's actions. It points out that McGregor yelled while Khabib attacked, suggesting a difference in the severity of their actions from a legal standpoint. The comment also expresses understanding of the previous point. Overall, the comment is neutral in its sentiment towards the fight itself, as it simply analyzes the actions of both fighters.\n",
            "label: neutral\n",
            "reasoning: The comment argues that trash talk, even when offensive, is part of the fight game and that McGregor benefited from it. It dismisses the idea that the trash talk went \"far beyond\" acceptable levels, citing examples of even more extreme behavior in boxing. The comment is negative towards the idea that McGregor's trash talk was unacceptable and implies support for McGregor's approach.\n",
            "label: negative\n",
            "reasoning: The comment expresses a nuanced view, acknowledging that insulting Khabib is acceptable within certain boundaries, but condemning Conor's personal attacks on Khabib's family, religion, and the genocide his people suffered. It criticizes Conor for crossing the line and suggests that he thought he would be exempt from consequences due to his relationship with Dana White. The comment is critical of Conor's behavior and supportive of Khabib's reaction to the insults.\n",
            "label: positive\n",
            "reasoning: The comment expresses strong disagreement with the idea of stripping Khabib of his title, using the word \"retarded\" to describe the idea. This indicates a negative sentiment towards the potential action against Khabib.\n",
            "label: negative\n",
            "reasoning: The comment agrees with the parent comment's point about the UFC's bias and uses the dolly incident as an example of how the UFC seemingly condoned McGregor's actions by using it for promotion. This supports the idea that Khabib is being treated unfairly compared to McGregor.\n",
            "label: positive\n"
          ]
        },
        {
          "output_type": "stream",
          "name": "stderr",
          "text": [
            "WARNING:tornado.access:429 POST /v1beta/models/gemini-2.0-flash:generateContent?%24alt=json%3Benum-encoding%3Dint (127.0.0.1) 581.29ms\n",
            "WARNING:tornado.access:429 POST /v1beta/models/gemini-2.0-flash:generateContent?%24alt=json%3Benum-encoding%3Dint (127.0.0.1) 557.27ms\n",
            "WARNING:tornado.access:429 POST /v1beta/models/gemini-2.0-flash:generateContent?%24alt=json%3Benum-encoding%3Dint (127.0.0.1) 557.22ms\n",
            "WARNING:tornado.access:429 POST /v1beta/models/gemini-2.0-flash:generateContent?%24alt=json%3Benum-encoding%3Dint (127.0.0.1) 581.82ms\n",
            "WARNING:tornado.access:429 POST /v1beta/models/gemini-2.0-flash:generateContent?%24alt=json%3Benum-encoding%3Dint (127.0.0.1) 581.78ms\n",
            "WARNING:tornado.access:429 POST /v1beta/models/gemini-2.0-flash:generateContent?%24alt=json%3Benum-encoding%3Dint (127.0.0.1) 582.73ms\n"
          ]
        },
        {
          "output_type": "stream",
          "name": "stdout",
          "text": [
            "reasoning: The comment is comparing the interaction between Connor and Aldo to the events of the previous night's fight. It doesn't express a strong positive or negative sentiment towards either fighter or the fight itself, but rather offers a neutral observation.\n",
            "label: neutral\n",
            "reasoning: The comment is comparing the actions of Conor and Khabib, specifically focusing on the fence jumping incidents. It points out similarities and differences between the two situations, suggesting a nuanced view rather than outright condemnation or support for either fighter. It is more of an observation of the events.\n",
            "label: neutral\n",
            "reasoning: The comment discusses the potential consequences for Khabib and predicts that the UFC will strip him of the belt if he is suspended or loses his visa. It doesn't express a positive or negative sentiment towards the fight itself, but rather focuses on the potential aftermath and the UFC's likely actions.\n",
            "label: neutral\n",
            "reasoning: The comment expresses an opinion on the fairness of potential punishments for Khabib, stating that stripping him of the title would be fair in a specific case (presumably related to the visa issue mentioned in the parent comment), but suspending him would not be. This suggests a nuanced view on the situation, leaning towards a more lenient approach.\n",
            "label: neutral\n",
            "reasoning: The comment is sarcastic and critical of Khabib, implying his actions were similar to Conor McGregor's, thus negative towards Khabib.\n",
            "label: negative\n",
            "reasoning: The comment acknowledges Khabib's actions as wrong and states that he escalated the situation, similar to Conor's past behavior. It advocates for both fighters to face punishment, indicating a neutral stance towards the fight itself.\n",
            "label: neutral\n",
            "reasoning: The comment suggests a moderate punishment for Khabib (fine and apology) and acknowledges the hypocrisy of severe punishments given Conor's past actions. It also calls for the UFC to establish and enforce rules. This suggests a neutral stance towards the fight itself, focusing on appropriate consequences and future prevention.\n",
            "label: neutral\n",
            "reasoning: The comment discusses potential punishments for Khabib and possible scenarios for the LW division, focusing on finding a new champion. It doesn't express a strong positive or negative sentiment towards the fight itself, but rather analyzes the potential consequences and future matchups.\n",
            "label: neutral\n",
            "reasoning: The comment expresses concern about Khabib using his religion to gain support and potentially causing a religious divide. This is a negative sentiment towards Khabib's actions and their potential consequences.\n",
            "label: negative\n",
            "reasoning: The comment is critical of Dana White and the UFC, accusing them of hypocrisy. This implies a negative sentiment towards the organization's handling of the situation.\n",
            "label: negative\n",
            "reasoning: The comment expresses a negative sentiment towards Conor McGregor and a dismissive attitude towards the spitting incident, suggesting it's less significant than the physical beating.\n",
            "label: negative\n",
            "reasoning: The comment acknowledges Khabib's performance but criticizes his alleged spitting as disgusting and unbecoming of a champion. This indicates a negative sentiment towards Khabib's actions after the fight.\n",
            "label: negative\n",
            "reasoning: The comment expresses a general sentiment about athletes and expectations, which is not directly positive or negative towards either fighter or the specific incident. It's more of a neutral observation or advice.\n",
            "label: neutral\n",
            "reasoning: The comment expresses a negative sentiment towards Khabib's action of spitting on McGregor, contrasting it with the accepted violence of the fight. It argues that spitting is a low act, especially after McGregor's defeat.\n",
            "label: negative\n",
            "reasoning: The comment provides a link to a video and a timestamp to verify the claim made in the submission. It is neutral in sentiment as it does not express any positive or negative feelings towards the fight or the fighters.\n",
            "label: neutral\n",
            "reasoning: The comment \"What?\" expresses confusion or disbelief regarding the preceding discussion about Khabib spitting on Conor. It doesn't inherently convey a positive or negative sentiment towards the fight itself, but rather questions a specific detail.\n",
            "label: neutral\n"
          ]
        },
        {
          "output_type": "stream",
          "name": "stderr",
          "text": [
            "WARNING:tornado.access:429 POST /v1beta/models/gemini-2.0-flash:generateContent?%24alt=json%3Benum-encoding%3Dint (127.0.0.1) 558.22ms\n",
            "WARNING:tornado.access:429 POST /v1beta/models/gemini-2.0-flash:generateContent?%24alt=json%3Benum-encoding%3Dint (127.0.0.1) 557.96ms\n",
            "WARNING:tornado.access:429 POST /v1beta/models/gemini-2.0-flash:generateContent?%24alt=json%3Benum-encoding%3Dint (127.0.0.1) 556.94ms\n",
            "WARNING:tornado.access:429 POST /v1beta/models/gemini-2.0-flash:generateContent?%24alt=json%3Benum-encoding%3Dint (127.0.0.1) 555.96ms\n",
            "WARNING:tornado.access:429 POST /v1beta/models/gemini-2.0-flash:generateContent?%24alt=json%3Benum-encoding%3Dint (127.0.0.1) 555.96ms\n"
          ]
        },
        {
          "output_type": "stream",
          "name": "stdout",
          "text": [
            "reasoning: The comment expresses strong disapproval and calls for severe punishment for Khabib, indicating a negative sentiment towards his actions in the fight.\n",
            "label: negative\n",
            "reasoning: The comment \"Cool\" is a positive reaction to the submission's claim that Khabib spat on Conor. This implies a negative sentiment towards Khabib and a positive sentiment towards the idea of Khabib facing consequences.\n",
            "label: positive\n",
            "reasoning: The comment attempts to explain Khabib's actions by considering his background and mental state, suggesting that his extreme reaction was somewhat understandable given the circumstances. While not explicitly condoning the behavior, it expresses empathy and understanding towards Khabib's perspective.\n",
            "label: neutral\n",
            "reasoning: The comment \"HA\" expresses amusement or mockery, which in the context of the submission and parent comment (which are both negative towards Khabib) suggests a negative sentiment towards Khabib's actions.\n",
            "label: negative\n",
            "reasoning: The comment expresses disapproval of Khabib's actions, contrasting them with his perceived humble persona. It highlights the disrespectfulness of spitting on someone, especially after a defeat. The commenter also clarifies their intention to point out the action rather than incite a fan war.\n",
            "label: negative\n",
            "reasoning: The comment is explaining why the parent comment should not have high expectations of athletes. It is not directly positive or negative towards the fight itself, but rather a general statement about athletes' behavior.\n",
            "label: neutral\n",
            "reasoning: The comment is a bot correcting the spelling of \"alot\" to \"a lot\". It is not expressing any sentiment towards the fight or the fighters.\n",
            "label: neutral\n",
            "reasoning: The comment is aggressive and insulting, using derogatory terms like \"fucker\" and \"slack-jawed mongoloid.\" While it provides a correction, the tone is overwhelmingly negative and hostile.\n",
            "label: negative\n",
            "reasoning: The comment \"I caught that\" indicates that the commenter saw the event described in the submission, which is a negative action (spitting) by Khabib on Conor. The commenter is acknowledging this negative event.\n",
            "label: negative\n",
            "reasoning: The comment is responding to a previous comment that accuses the original poster of starting a \"shitstorm keyboard fight.\" The comment denies this and claims it's just a discussion, while also stating they never claimed Khabib was humble. The comment doesn't express a strong positive or negative sentiment towards either fighter or the fight itself, but rather focuses on the nature of the discussion.\n",
            "label: neutral\n",
            "reasoning: The comment expresses a negative sentiment towards Khabib, agreeing with stripping him but disagreeing with overturning the fight.\n",
            "label: negative\n",
            "reasoning: The comment expresses disapproval of Khabib's actions, calling them \"disgraceful\" and stating they cast a shadow over his performance. While acknowledging the performance, the overall sentiment is negative due to the condemnation of the spitting incident.\n",
            "label: negative\n",
            "reasoning: The comment expresses a desire to avoid a negative outcome (a \"shitstorm keyboard fight\"), but doesn't express a strong positive or negative sentiment towards the fight itself. It's more about managing the discussion around the fight.\n",
            "label: neutral\n",
            "reasoning: The comment expresses a negative sentiment towards Conor McGregor, stating that he deserved to be spat on.\n",
            "label: negative\n",
            "reasoning: The comment asks for clarification on the previous comment's statement that Conor deserved to be spat on. It does not express a positive or negative sentiment towards the fight itself, but rather seeks to understand the reasoning behind a previous statement.\n",
            "label: neutral\n",
            "reasoning: The comment is insulting and uses vulgar language to express dislike for someone who supports Conor McGregor. This indicates a negative sentiment towards Conor and his fans.\n",
            "label: negative\n"
          ]
        },
        {
          "output_type": "stream",
          "name": "stderr",
          "text": [
            "WARNING:tornado.access:429 POST /v1beta/models/gemini-2.0-flash:generateContent?%24alt=json%3Benum-encoding%3Dint (127.0.0.1) 557.64ms\n",
            "WARNING:tornado.access:429 POST /v1beta/models/gemini-2.0-flash:generateContent?%24alt=json%3Benum-encoding%3Dint (127.0.0.1) 557.35ms\n",
            "WARNING:tornado.access:429 POST /v1beta/models/gemini-2.0-flash:generateContent?%24alt=json%3Benum-encoding%3Dint (127.0.0.1) 558.44ms\n",
            "WARNING:tornado.access:429 POST /v1beta/models/gemini-2.0-flash:generateContent?%24alt=json%3Benum-encoding%3Dint (127.0.0.1) 557.60ms\n",
            "WARNING:tornado.access:429 POST /v1beta/models/gemini-2.0-flash:generateContent?%24alt=json%3Benum-encoding%3Dint (127.0.0.1) 557.99ms\n",
            "WARNING:tornado.access:429 POST /v1beta/models/gemini-2.0-flash:generateContent?%24alt=json%3Benum-encoding%3Dint (127.0.0.1) 558.31ms\n"
          ]
        },
        {
          "output_type": "stream",
          "name": "stdout",
          "text": [
            "reasoning: The comment expresses a negative sentiment towards the fight and Khabib's actions, viewing them as a homophobic attack. It also expresses a determination to fight against hate, indicating a strong negative feeling about the situation.\n",
            "label: negative\n",
            "reasoning: The comment expresses a negative sentiment towards Conor McGregor's performance in the fight, stating that he failed to back up his trash talk.\n",
            "label: negative\n",
            "reasoning: The comment expresses a strong negative opinion about Khabib's intentions, suggesting he wanted to seriously injure McGregor. This is a negative sentiment towards Khabib's actions in the fight.\n",
            "label: negative\n",
            "reasoning: The comment expresses anger and disagreement with the previous comment, dismissing it as \"dumb ass shit.\" While it mentions being gay, it's used to emphasize the commenter's perspective and disagreement, not necessarily as a positive or negative sentiment towards the fight itself.\n",
            "label: negative\n",
            "reasoning: The comment \"r/asablackman\" is a reference to a subreddit often used to call out people who are pretending to be black online. In this context, it's likely being used to discredit the previous commenter, implying they are not actually gay and are just using that identity to support their argument. This is a negative sentiment towards the previous commenter.\n",
            "label: negative\n",
            "reasoning: The comment is a bot providing a sneak peek of the subreddit r/AsABlackMan. It doesn't express any sentiment towards the fight or the fighters.\n",
            "label: neutral\n",
            "reasoning: The comment \"r/whiteknights\" is a derogatory term used to describe someone who defends or supports someone else, often a woman, in a way that is perceived as excessive or unnecessary. In this context, it is likely directed at the person who is defending Conor McGregor, implying that they are being overly protective of him. This is a negative sentiment towards the person being accused of being a \"white knight.\"\n",
            "label: negative\n",
            "reasoning: The comment is responding to being accused of \"whiteknighting\" and defends their position. It also expresses a general sentiment against hate. While the context is the fight, the comment is more about the interaction between users and promoting a positive message.\n",
            "label: neutral\n",
            "reasoning: The comment is a sarcastic response to the previous comment's \"#SayNoToHate\" and implies that the previous comment was stupid. It is negative towards the previous comment.\n",
            "label: negative\n",
            "reasoning: The comment expresses a negative sentiment towards Conor McGregor fans, using derogatory terms like \"salty\" and mocking their reactions. This indicates a negative sentiment towards those supporting Conor in the fight.\n",
            "label: negative\n",
            "reasoning: The comment accuses someone of being filled with hate and tells them to let it go. This suggests a negative sentiment towards the person being addressed.\n",
            "label: negative\n",
            "reasoning: The comment \"Ironic\" with a link to a video is likely sarcastic and negative towards Khabib, given the context of the submission about Khabib spitting on Conor. The parent comment is also negative towards Khabib.\n",
            "label: negative\n",
            "reasoning: The comment expresses frustration and disagreement with the previous comments, particularly those accusing others of homophobia. It uses strong language (\"gaslight,\" \"dumb ass accusations\") and dismisses the previous commenter's point of view. This indicates a negative sentiment towards the preceding discussion and the commenter being addressed.\n",
            "label: negative\n",
            "reasoning: The comment questions the need for a response to a \"pointless comment,\" suggesting disagreement with the previous commenter's strong reaction. This implies a negative sentiment towards the preceding comment and a more neutral stance on the overall situation.\n",
            "label: neutral\n",
            "reasoning: The comment is critical of a previous comment, indicating a negative sentiment towards it.\n",
            "label: negative\n",
            "reasoning: The comment is critical and accusatory, suggesting the person being addressed is a \"false flag troll.\" This indicates a negative sentiment towards the person and their actions.\n",
            "label: negative\n"
          ]
        },
        {
          "output_type": "stream",
          "name": "stderr",
          "text": [
            "WARNING:tornado.access:429 POST /v1beta/models/gemini-2.0-flash:generateContent?%24alt=json%3Benum-encoding%3Dint (127.0.0.1) 582.44ms\n",
            "WARNING:tornado.access:429 POST /v1beta/models/gemini-2.0-flash:generateContent?%24alt=json%3Benum-encoding%3Dint (127.0.0.1) 557.32ms\n",
            "WARNING:tornado.access:429 POST /v1beta/models/gemini-2.0-flash:generateContent?%24alt=json%3Benum-encoding%3Dint (127.0.0.1) 582.19ms\n",
            "WARNING:tornado.access:429 POST /v1beta/models/gemini-2.0-flash:generateContent?%24alt=json%3Benum-encoding%3Dint (127.0.0.1) 582.45ms\n",
            "WARNING:tornado.access:429 POST /v1beta/models/gemini-2.0-flash:generateContent?%24alt=json%3Benum-encoding%3Dint (127.0.0.1) 556.63ms\n",
            "WARNING:tornado.access:429 POST /v1beta/models/gemini-2.0-flash:generateContent?%24alt=json%3Benum-encoding%3Dint (127.0.0.1) 556.87ms\n",
            "WARNING:tornado.access:429 POST /v1beta/models/gemini-2.0-flash:generateContent?%24alt=json%3Benum-encoding%3Dint (127.0.0.1) 557.30ms\n"
          ]
        },
        {
          "output_type": "stream",
          "name": "stdout",
          "text": [
            "reasoning: The comment expresses frustration and anger towards the person they are responding to, using aggressive language (\"Get fucked\"). The commenter is clearly upset and dismissive of the other person's opinion.\n",
            "label: negative\n",
            "reasoning: The comment expresses a negative sentiment towards \"Russian trolls\" and accuses someone of being one. While it doesn't directly relate to the fight itself, it's a negative accusation within the context of the discussion.\n",
            "label: negative\n",
            "reasoning: The comment is a direct insult, calling someone \"terrifyingly dumb.\" This is a negative sentiment.\n",
            "label: negative\n",
            "reasoning: The comment is accusing someone of being a Russian troll and working for the Kremlin, which is a negative accusation. It is also continuing the argument from the parent comments.\n",
            "label: negative\n",
            "reasoning: The comment expresses a negative sentiment towards Khabib's actions, suggesting he intended to cause serious harm to McGregor.\n",
            "label: negative\n",
            "reasoning: The comment expresses a negative sentiment towards Khabib's actions, suggesting that spitting on Conor was unnecessary and that Khabib should have stopped after the tap. The phrase \"icing on the cake\" implies that the spitting was an additional, undesirable act.\n",
            "label: negative\n",
            "reasoning: The comment expresses a negative sentiment towards Khabib's behavior, stating he is \"not ready or mentally sound enough.\" While the commenter claims not to be a Conor fanboy, the overall tone is critical of Khabib's actions.\n",
            "label: negative\n",
            "reasoning: The comment \"And?\" is dismissive and implies that the action described in the submission is not a big deal. This suggests a negative sentiment towards the submission's point, which is likely critical of Khabib.\n",
            "label: negative\n",
            "reasoning: The comment expresses strong negativity towards McGregor, using derogatory terms like \"McTapper\" and \"weak.\" It also uses an emoji indicating disgust.\n",
            "label: negative\n",
            "reasoning: The comment expresses an observation about a controversial action (spitting) during the fight and leans towards believing it happened, based on Khabib's subsequent actions. This suggests a negative sentiment towards Khabib's behavior.\n",
            "label: negative\n",
            "reasoning: The comment uses \"LOL\" and \"McRekt\" which is a play on McGregor's name and \"wrecked,\" indicating amusement at McGregor's loss. This suggests a negative sentiment towards McGregor and a positive sentiment towards the outcome of the fight.\n",
            "label: positive\n",
            "reasoning: The comment expresses a negative sentiment towards Conor McGregor and a positive sentiment towards Khabib Nurmagomedov. It acknowledges the events described in the submission but argues that the fight result should only be overturned for PEDs or cheating, implying that spitting is not a sufficient reason.\n",
            "label: positive\n",
            "reasoning: The comment expresses a strong belief that Khabib spat on Conor, supporting the submission's claim. This aligns with a negative sentiment towards Khabib's actions.\n",
            "label: negative\n",
            "reasoning: The comment expresses disapproval of Khabib's actions (assaulting someone's coach and spitting on his opponent) and states that a champion should show more self-control and class. While the commenter claims to like both fighters, the overall sentiment is negative towards Khabib's behavior after the fight.\n",
            "label: negative\n",
            "reasoning: The comment expresses mixed feelings. It acknowledges the action was unnecessary but also finds it funny and deserved, referencing McGregor's pre-fight behavior. This suggests a somewhat negative sentiment towards McGregor and a neutral sentiment towards the fight.\n",
            "label: neutral\n",
            "reasoning: The comment expresses disapproval of Khabib's actions, calling them unprofessional and classless. It directly criticizes Khabib's behavior and contrasts it with the expected conduct of a champion.\n",
            "label: negative\n"
          ]
        },
        {
          "output_type": "stream",
          "name": "stderr",
          "text": [
            "WARNING:tornado.access:429 POST /v1beta/models/gemini-2.0-flash:generateContent?%24alt=json%3Benum-encoding%3Dint (127.0.0.1) 607.49ms\n",
            "WARNING:tornado.access:429 POST /v1beta/models/gemini-2.0-flash:generateContent?%24alt=json%3Benum-encoding%3Dint (127.0.0.1) 557.38ms\n",
            "WARNING:tornado.access:429 POST /v1beta/models/gemini-2.0-flash:generateContent?%24alt=json%3Benum-encoding%3Dint (127.0.0.1) 557.51ms\n",
            "WARNING:tornado.access:429 POST /v1beta/models/gemini-2.0-flash:generateContent?%24alt=json%3Benum-encoding%3Dint (127.0.0.1) 557.06ms\n",
            "WARNING:tornado.access:429 POST /v1beta/models/gemini-2.0-flash:generateContent?%24alt=json%3Benum-encoding%3Dint (127.0.0.1) 582.61ms\n",
            "WARNING:tornado.access:429 POST /v1beta/models/gemini-2.0-flash:generateContent?%24alt=json%3Benum-encoding%3Dint (127.0.0.1) 557.17ms\n"
          ]
        },
        {
          "output_type": "stream",
          "name": "stdout",
          "text": [
            "reasoning: The comment acknowledges the unprofessionalism of the act but finds it funny and satisfying due to Conor's previous behavior. It expresses a sense of enjoyment and satisfaction with Khabib's actions, even while not condoning them. This indicates a positive sentiment towards Khabib's actions in the context of the fight.\n",
            "label: positive\n",
            "reasoning: The comment expresses disappointment in Khabib's actions after the fight, stating that they were hypocritical and unbecoming of a champion. While acknowledging Conor's unprofessional behavior, the comment emphasizes that Khabib's actions were worse due to his position as champion and his claims of humility. The comment concludes by stating that Khabib's actions were a mockery of the sport and that he should be stripped of his title. This is a negative sentiment towards Khabib's actions.\n",
            "label: negative\n",
            "reasoning: The comment expresses a negative sentiment towards Conor McGregor and a relatively positive sentiment towards Khabib, arguing that Khabib is not the one making a mockery of the sport, while Conor did by mocking the Muslim religion. This suggests a pro-Khabib stance in the context of the fight and its aftermath.\n",
            "label: positive\n",
            "reasoning: The comment expresses a negative sentiment towards Khabib's actions, stating they made a mockery of the sport and were unbecoming of a champion. It contrasts Khabib's behavior with Conor's, suggesting Conor was more humble in defeat.\n",
            "label: negative\n",
            "reasoning: The comment is highly critical and insulting towards someone who expressed enjoyment at Khabib's victory. It uses strong language (\"fucking loser,\" \"miserable\") and questions the person's life satisfaction. This indicates a negative sentiment.\n",
            "label: negative\n",
            "reasoning: The comment expresses a negative sentiment towards Conor and Dana White, while also acknowledging Khabib's mistake but highlighting his immediate apology and family values. It suggests that Conor and Dana should also take responsibility for their actions. Overall, the comment is critical of Conor and Dana, while being somewhat understanding of Khabib's actions.\n",
            "label: negative\n",
            "reasoning: The comment \"Found the casual\" is dismissive and condescending, implying the person being addressed is not a knowledgeable or serious fan of the sport. This is a negative sentiment towards the person being addressed, and indirectly towards the discussion.\n",
            "label: negative\n",
            "reasoning: The comment expresses disappointment in Khabib's actions after the fight, stating they were not champion-like and that apologizing doesn't make him classy. It contrasts this with Conor's pre-fight antics, which are seen as mind games, and emphasizes the importance of a champion's behavior. While acknowledging Khabib's dominance in the fight, it ultimately views his post-fight actions negatively.\n",
            "label: negative\n",
            "reasoning: The comment discusses Khabib's actions in the fight, specifically his attempt to end the fight with a neck crank after failing to secure a choke. This suggests a negative sentiment towards Khabib's actions, implying they were unnecessarily aggressive or unsportsmanlike.\n",
            "label: negative\n",
            "reasoning: The comment expresses a negative sentiment towards Conor McGregor and a more positive sentiment towards Khabib, arguing that Conor's actions are far worse and that Khabib, despite his mistake, is a better role model. The comment acknowledges Khabib's actions were wrong but contextualizes them within the larger picture of Conor's behavior.\n",
            "label: positive\n",
            "reasoning: The comment expresses a negative sentiment towards Khabib's actions after the fight, arguing that he \"fucked up\" and should be punished. While acknowledging Khabib's positive qualities, the commenter focuses on the negative consequences of his behavior.\n",
            "label: negative\n",
            "reasoning: The comment lists several illegal actions by Conor McGregor during the fight, implying a negative view of his behavior and potentially supporting Khabib's actions.\n",
            "label: negative\n",
            "reasoning: The comment is dismissive of the original post, indicating disagreement and frustration. It doesn't express a positive or neutral sentiment towards the fight itself, but rather a negative sentiment towards the commenter's understanding of the thread.\n",
            "label: negative\n",
            "reasoning: The comment acknowledges the topic of the thread (Khabib spitting on Conor) and admits to missing it, focusing on Khabib's actions towards McGregor. This doesn't express a strong positive or negative sentiment towards either fighter, but rather a neutral observation.\n",
            "label: neutral\n",
            "reasoning: The comment expresses agreement with the idea that Conor cheated and considers spitting on a defeated opponent to be worse than trash-talking. This suggests a negative sentiment towards Conor's actions and a negative sentiment towards Khabib's actions, but a stronger negative sentiment towards Khabib's actions. Overall, the comment is negative towards the fight.\n",
            "label: negative\n",
            "reasoning: The comment expresses a negative sentiment towards the UFC establishment and the refereeing in the fight, suggesting bias in favor of Conor.\n",
            "label: negative\n"
          ]
        },
        {
          "output_type": "stream",
          "name": "stderr",
          "text": [
            "WARNING:tornado.access:429 POST /v1beta/models/gemini-2.0-flash:generateContent?%24alt=json%3Benum-encoding%3Dint (127.0.0.1) 582.24ms\n",
            "WARNING:tornado.access:429 POST /v1beta/models/gemini-2.0-flash:generateContent?%24alt=json%3Benum-encoding%3Dint (127.0.0.1) 557.00ms\n",
            "WARNING:tornado.access:429 POST /v1beta/models/gemini-2.0-flash:generateContent?%24alt=json%3Benum-encoding%3Dint (127.0.0.1) 557.42ms\n",
            "WARNING:tornado.access:429 POST /v1beta/models/gemini-2.0-flash:generateContent?%24alt=json%3Benum-encoding%3Dint (127.0.0.1) 558.05ms\n",
            "WARNING:tornado.access:429 POST /v1beta/models/gemini-2.0-flash:generateContent?%24alt=json%3Benum-encoding%3Dint (127.0.0.1) 557.28ms\n",
            "WARNING:tornado.access:429 POST /v1beta/models/gemini-2.0-flash:generateContent?%24alt=json%3Benum-encoding%3Dint (127.0.0.1) 557.25ms\n",
            "WARNING:tornado.access:429 POST /v1beta/models/gemini-2.0-flash:generateContent?%24alt=json%3Benum-encoding%3Dint (127.0.0.1) 557.47ms\n"
          ]
        },
        {
          "output_type": "stream",
          "name": "stdout",
          "text": [
            "reasoning: The comment expresses a negative sentiment towards the UFC, suggesting they manipulate fights to favor certain outcomes. This aligns with the submission's concern about biased refereeing and potential corruption.\n",
            "label: negative\n",
            "reasoning: The comment expresses a negative sentiment towards the UFC, suggesting they prioritize money over talent. This aligns with the overall discussion about potential bias and unfair treatment in the fight.\n",
            "label: negative\n",
            "reasoning: The comment expresses a negative sentiment towards Herb's refereeing, agreeing with the submission's criticism. It also suggests potential corruption or bias, further reinforcing the negative view.\n",
            "label: negative\n",
            "reasoning: The comment expresses a negative sentiment towards Conor McGregor, referring to him as a \"cash cow\" who gets away with bad behavior. This implies a negative view of the situation and the preferential treatment McGregor receives.\n",
            "label: negative\n",
            "reasoning: The comment expresses a negative sentiment towards Conor McGregor's actions during the fight, describing them as \"shady shits.\"\n",
            "label: negative\n",
            "reasoning: The comment expresses agreement with the original post's sentiment about the refereeing, but also apologizes for a misunderstanding in tone. Overall, it doesn't express strong positive or negative feelings towards the fight itself, but rather focuses on the refereeing and the commenter's own communication.\n",
            "label: neutral\n",
            "reasoning: The comment expresses a negative sentiment towards the refereeing in the fight, suggesting the fight should have been stopped earlier due to the fighter not intelligently defending himself.\n",
            "label: negative\n",
            "reasoning: The comment expresses amusement (\"I still laugh\") regarding a specific allegation (\"12-6 allegations from the bottom\"). This suggests a negative sentiment towards the allegation itself, implying the commenter finds it ridiculous or unfounded. While not directly about the fight, it relates to the context of controversial actions and refereeing, aligning with the submission's focus.\n",
            "label: negative\n",
            "reasoning: The comment is asking a question about whether Floyd Mayweather received favorable refereeing, implying a potential bias or unfair advantage. This suggests a negative sentiment towards the refereeing in a fight involving Floyd Mayweather.\n",
            "label: negative\n",
            "reasoning: The comment expresses a negative opinion about Herb Dean's refereeing abilities, stating he has made \"shit calls\" and should not handle main events. This is a negative sentiment towards Herb Dean's performance.\n",
            "label: negative\n",
            "reasoning: The comment expresses strong disapproval of Herb Dean's refereeing, citing specific instances where he believes Dean failed to penalize Conor for illegal moves. The commenter explicitly states they lost respect for Dean and accuses him of bias.\n",
            "label: negative\n",
            "reasoning: The comment expresses an opinion on the legality of certain elbows in MMA, specifically addressing a point raised in a previous comment. It doesn't express a strong positive or negative sentiment towards the fight itself, but rather offers a clarification or interpretation of the rules.\n",
            "label: neutral\n",
            "reasoning: The comment expresses strong disapproval of the referee's performance, suggesting either corruption or incompetence. The commenter highlights specific instances of rule violations that were allegedly ignored, indicating a negative sentiment towards the referee's actions.\n",
            "label: negative\n",
            "reasoning: The comment expresses a negative opinion about two referees, stating they are \"corrupted\" and should be removed. This is a clear expression of disapproval and negativity towards their performance.\n",
            "label: negative\n",
            "reasoning: The comment expresses a negative sentiment towards the UFC, implying they prioritize money over the sport's integrity. This aligns with the overall discussion about potential bias and unfair treatment in the fight.\n",
            "label: negative\n",
            "reasoning: The comment expresses a negative opinion about Herb Dean's performance as a referee, citing specific events and claiming he has made \"very poor decisions.\" This indicates a negative sentiment towards his refereeing abilities.\n",
            "label: negative\n"
          ]
        },
        {
          "output_type": "stream",
          "name": "stderr",
          "text": [
            "WARNING:tornado.access:429 POST /v1beta/models/gemini-2.0-flash:generateContent?%24alt=json%3Benum-encoding%3Dint (127.0.0.1) 582.13ms\n",
            "WARNING:tornado.access:429 POST /v1beta/models/gemini-2.0-flash:generateContent?%24alt=json%3Benum-encoding%3Dint (127.0.0.1) 557.57ms\n",
            "WARNING:tornado.access:429 POST /v1beta/models/gemini-2.0-flash:generateContent?%24alt=json%3Benum-encoding%3Dint (127.0.0.1) 557.41ms\n",
            "WARNING:tornado.access:429 POST /v1beta/models/gemini-2.0-flash:generateContent?%24alt=json%3Benum-encoding%3Dint (127.0.0.1) 556.77ms\n"
          ]
        },
        {
          "output_type": "stream",
          "name": "stdout",
          "text": [
            "reasoning: The comment discusses the origin of a specific rule in MMA, which is the ban on 12-6 elbows. It doesn't express a positive or negative sentiment towards the fight itself or the refereeing, but rather provides a historical context for a rule.\n",
            "label: neutral\n",
            "reasoning: The comment states that the issue of overlooked fouls happens in every fight, implying that the refereeing in this fight is not unique or particularly egregious. This suggests a neutral sentiment towards the specific fight in question.\n",
            "label: neutral\n",
            "reasoning: The comment expresses agreement with the idea that Conor was favored due to his commercial value, suggesting a negative sentiment towards the fairness of the fight.\n",
            "label: negative\n",
            "reasoning: The comment expresses a negative opinion about Herb Dean's performance as a referee, stating \"Herb was shit.\" It also suggests that Herb Dean was influenced by the UFC and Dana White to favor Conor McGregor, implying a lack of impartiality.\n",
            "label: negative\n",
            "reasoning: The comment is responding to a previous comment about legal elbows. It is a neutral statement about the rules of MMA.\n",
            "label: neutral\n",
            "reasoning: The comment lists another illegal move by Conor, adding to the negative sentiment towards his actions in the fight.\n",
            "label: negative\n",
            "reasoning: The comment expresses curiosity and a generally positive view of Woodley as a champion, despite acknowledging a less exciting fight. It doesn't express any sentiment towards the fight in the submission.\n",
            "label: neutral\n",
            "reasoning: The comment expresses a negative sentiment towards MMA commissions, suggesting they are corrupt and that people are in denial about it. This aligns with the submission's concern about potential corruption in the NAC.\n",
            "label: negative\n",
            "reasoning: The comment discusses Dana White's perception of Tyron Woodley's fighting style and suggests a bias against him. While it doesn't express strong positive or negative sentiment towards the fight itself, it leans slightly negative due to the implication of unfair treatment.\n",
            "label: negative\n",
            "reasoning: The comment expresses sadness about Herb Dean, the referee, which implies a negative sentiment towards his performance in the fight.\n",
            "label: negative\n",
            "reasoning: The comment is a quote from Khabib, directed at Conor, implying that the referee (Herb) was favoring Conor. This suggests a negative sentiment towards the refereeing and potentially towards Conor as well.\n",
            "label: negative\n",
            "reasoning: The comment is a reference to Conor McGregor, who was a double champion in the UFC. The comment is positive towards Conor McGregor and his actions.\n",
            "label: positive\n",
            "reasoning: The comment \"Single champ\" is a direct response to the parent comment \"The double champ does what the fuck he wants\". The parent comment is a boastful statement about Conor McGregor, who was a double champion at one point. The response \"Single champ\" is likely a jab at McGregor, implying that he is no longer a double champion and is now only a single champion, which is negative towards McGregor. Since the submission is about the refereeing of the fight, this comment is negative towards the fighter.\n",
            "label: negative\n",
            "reasoning: The comment discusses Woodley's career and actions, expressing a somewhat negative opinion due to his behavior and perceived hypocrisy. While acknowledging his skill, the commenter admits to being biased against him. The overall sentiment is mixed but leans towards negative due to the criticism of Woodley's past actions.\n",
            "label: negative\n",
            "reasoning: The comment is discussing the refereeing in a sarcastic and humorous way, highlighting a specific instance where the referee's instruction was ignored. While it acknowledges the issue raised in the submission, the tone is more lighthearted and observational than outright negative.\n",
            "label: neutral\n",
            "reasoning: The comment agrees with the previous comment about the legality of the elbows, stating that the rule is \"dumb as shit\" but correct. This expresses a negative sentiment towards the rule itself, but a neutral sentiment towards the fight and refereeing.\n",
            "label: neutral\n"
          ]
        },
        {
          "output_type": "stream",
          "name": "stderr",
          "text": [
            "WARNING:tornado.access:429 POST /v1beta/models/gemini-2.0-flash:generateContent?%24alt=json%3Benum-encoding%3Dint (127.0.0.1) 581.54ms\n",
            "WARNING:tornado.access:429 POST /v1beta/models/gemini-2.0-flash:generateContent?%24alt=json%3Benum-encoding%3Dint (127.0.0.1) 556.22ms\n",
            "WARNING:tornado.access:429 POST /v1beta/models/gemini-2.0-flash:generateContent?%24alt=json%3Benum-encoding%3Dint (127.0.0.1) 556.27ms\n",
            "WARNING:tornado.access:429 POST /v1beta/models/gemini-2.0-flash:generateContent?%24alt=json%3Benum-encoding%3Dint (127.0.0.1) 556.53ms\n",
            "WARNING:tornado.access:429 POST /v1beta/models/gemini-2.0-flash:generateContent?%24alt=json%3Benum-encoding%3Dint (127.0.0.1) 555.61ms\n",
            "WARNING:tornado.access:429 POST /v1beta/models/gemini-2.0-flash:generateContent?%24alt=json%3Benum-encoding%3Dint (127.0.0.1) 557.34ms\n",
            "WARNING:tornado.access:429 POST /v1beta/models/gemini-2.0-flash:generateContent?%24alt=json%3Benum-encoding%3Dint (127.0.0.1) 531.52ms\n"
          ]
        },
        {
          "output_type": "stream",
          "name": "stdout",
          "text": [
            "reasoning: The comment is making a joke about the 12-6 elbows, which are being discussed in the context of the fight. It is not expressing a positive or negative sentiment towards the fight itself, but rather making a humorous observation about the rules.\n",
            "label: neutral\n",
            "reasoning: The comment is about the commentary during the fight, specifically criticizing Dominick Cruz's analysis of Conor's strategy. It expresses a negative sentiment towards Cruz's comment and implies that Joe Rogan's response was more accurate.\n",
            "label: negative\n",
            "reasoning: The comment \"Zero Champ\" is a direct response to the previous comment about Conor being a \"double champ\" or \"single champ.\" It's a derogatory remark aimed at Conor, suggesting he is not a champion at all. This is negative sentiment towards Conor.\n",
            "label: negative\n",
            "reasoning: The comment is simply correcting the spelling of \"referring\" to \"refereeing\". It doesn't express any sentiment towards the fight itself.\n",
            "label: neutral\n",
            "reasoning: The comment expresses strong disapproval of Herb Dean's refereeing, accusing him of being paid off and calling for his termination. This indicates a negative sentiment towards the refereeing and the UFC.\n",
            "label: negative\n",
            "reasoning: The comment \"this is adorable\" expresses a positive sentiment towards the submission.\n",
            "label: positive\n",
            "reasoning: The comment \"Me too\" agrees with the parent comment \"I'm sad because I love Herb.\" This indicates a negative sentiment towards Herb's performance as a referee.\n",
            "label: negative\n",
            "reasoning: The comment is sarcastic and agrees with the sentiment that the UFC is biased towards certain fighters for financial gain. It uses the phrase \"Water is wet\" to express that the idea is obvious and well-known.\n",
            "label: positive\n",
            "reasoning: The comment expresses a negative opinion about Dominick Cruz as a commentator, stating he should not be on the microphone. This is a clear expression of dislike for his commentary.\n",
            "label: negative\n",
            "reasoning: The comment agrees with the submission's point about the refereeing being questionable, specifically mentioning that the fight could have been stopped earlier due to the damage Conor was taking. It acknowledges the potential controversy of an early stoppage, but still implies the refereeing was not ideal.\n",
            "label: negative\n",
            "reasoning: The comment agrees with the submission that Conor made illegal moves and that the refereeing was bad. The comment lists the illegal moves that Conor made and states that the knee to the head should have been an immediate point loss. This is a negative sentiment towards Conor and the refereeing.\n",
            "label: negative\n",
            "reasoning: The comment expresses understanding of Khabib's frustration with the refereeing, particularly regarding the illegal knee. While acknowledging that cage grabs and glove grabs are common, the comment highlights the knee as a significant oversight by the referee. The overall sentiment leans towards criticizing the refereeing and sympathizing with Khabib's reaction.\n",
            "label: negative\n",
            "reasoning: The comment is sarcastic and negative towards Conor, implying he is only good at throwing dollies.\n",
            "label: negative\n",
            "reasoning: The comment agrees with the parent comment about the refereeing being bad, and adds that even Joe Rogan noticed it, implying it was very obvious. This suggests a negative sentiment towards the refereeing.\n",
            "label: negative\n",
            "reasoning: The comment expresses a positive sentiment towards Joe Rogan's commentary during the fight, implying that he was the only one making sense.\n",
            "label: positive\n",
            "reasoning: The comment expresses a strong negative opinion about the refereeing, suggesting it was close to being a scandal. This implies a serious problem with the fairness or integrity of the fight.\n",
            "label: negative\n",
            "reasoning: The comment expresses approval of Rogan's commentary, specifically his criticism of Cruz. This indicates a positive sentiment towards Rogan's actions during the fight.\n",
            "label: positive\n",
            "reasoning: The comment is asking a question about a specific rule in MMA, showing curiosity and a desire to understand the sport better. It doesn't express a positive or negative sentiment towards the fight itself, but rather seeks clarification on a rule.\n",
            "label: neutral\n",
            "reasoning: The comment explains a rule of MMA regarding knees, which is relevant to the discussion about illegal moves in the fight. It does not express a positive or negative sentiment towards the fight itself.\n",
            "label: neutral\n",
            "reasoning: The comment is asking for clarification on the rules of MMA regarding knee strikes, specifically why they are illegal when both fighters are grounded and whether knees to the side are allowed in a dominant position. The commenter is seeking information and understanding, not expressing a positive or negative sentiment towards the fight or the refereeing.\n",
            "label: neutral\n",
            "reasoning: The comment expresses a positive opinion about Dominick Cruz's commentary and suggests a possible interpretation of Conor's actions in the fight, implying a strategic element. While it acknowledges Khabib's dominance, it also highlights Conor's defensive efforts, suggesting a more nuanced view of the fight.\n",
            "label: positive\n",
            "reasoning: The comment discusses the difficulty of creating specific rules regarding knee strikes on downed opponents, suggesting a potential problem with the current rules. It expresses an opinion on the rule's interpretation, but does not express a strong positive or negative sentiment towards the fight itself.\n",
            "label: neutral\n"
          ]
        },
        {
          "output_type": "stream",
          "name": "stderr",
          "text": [
            "WARNING:tornado.access:429 POST /v1beta/models/gemini-2.0-flash:generateContent?%24alt=json%3Benum-encoding%3Dint (127.0.0.1) 584.56ms\n",
            "WARNING:tornado.access:429 POST /v1beta/models/gemini-2.0-flash:generateContent?%24alt=json%3Benum-encoding%3Dint (127.0.0.1) 556.72ms\n",
            "WARNING:tornado.access:429 POST /v1beta/models/gemini-2.0-flash:generateContent?%24alt=json%3Benum-encoding%3Dint (127.0.0.1) 556.26ms\n",
            "WARNING:tornado.access:429 POST /v1beta/models/gemini-2.0-flash:generateContent?%24alt=json%3Benum-encoding%3Dint (127.0.0.1) 557.63ms\n",
            "WARNING:tornado.access:429 POST /v1beta/models/gemini-2.0-flash:generateContent?%24alt=json%3Benum-encoding%3Dint (127.0.0.1) 557.49ms\n",
            "WARNING:tornado.access:429 POST /v1beta/models/gemini-2.0-flash:generateContent?%24alt=json%3Benum-encoding%3Dint (127.0.0.1) 582.90ms\n"
          ]
        },
        {
          "output_type": "stream",
          "name": "stdout",
          "text": [
            "reasoning: The comment expresses a negative sentiment towards the referee's performance, suggesting he is blind and unable to see the illegal moves. While it acknowledges Rogan's advantage of multiple angles, the overall tone is critical of the referee.\n",
            "label: negative\n",
            "reasoning: The comment provides a link to a video that likely explains the refereeing decisions, implying a negative sentiment towards the refereeing in the fight.\n",
            "label: negative\n",
            "reasoning: The comment expresses agreement with the previous comment and suggests a possible reason for Herb Dean's actions, implying a negative view of the refereeing in the fight.\n",
            "label: negative\n",
            "reasoning: The comment expresses a negative sentiment towards Conor McGregor, stating that he \"refused to take the beating his mouth earned him.\" It suggests that the post-fight chaos was a result of Conor's actions and implies that Khabib's frustration was justified.\n",
            "label: negative\n",
            "reasoning: The comment expresses disagreement with the parent comment's assertion that Conor quit to a \"non-submission.\" It uses sarcastic language (\"Sure thing bud keep thinking that buddy\") and accuses the parent commenter of being blinded by \"Conor hate.\" This indicates a negative sentiment towards the parent comment's viewpoint and, by extension, a defense of Conor.\n",
            "label: negative\n",
            "reasoning: The comment expresses a neutral stance on the fight's aftermath, focusing on Dana White's reaction and Conor McGregor's defeat. It suggests a rematch would likely have a similar outcome, indicating a lack of strong positive or negative sentiment towards either fighter.\n",
            "label: neutral\n",
            "reasoning: The comment is correcting a detail in the original post about whether Danis landed any punches. It's a factual correction and doesn't express a strong positive or negative sentiment towards the fight itself.\n",
            "label: neutral\n",
            "reasoning: The comment is questioning the previous comment's claim that Conor did not submit. It is asking for clarification on what submission was applied, implying disagreement with the initial statement. This is a neutral question, not expressing a positive or negative sentiment towards the fight itself.\n",
            "label: neutral\n",
            "reasoning: The comment expresses a negative sentiment towards Conor McGregor and supports Khabib's actions in the fight. It suggests that Conor deserved the beating he received and wouldn't have been able to escape Khabib's hold even if he were fresher.\n",
            "label: negative\n",
            "reasoning: The comment expresses a neutral stance on the events following the fight, acknowledging the attempt by Danis and suggesting that the fighters are used to such aggression.\n",
            "label: neutral\n",
            "reasoning: The comment expresses a negative sentiment towards Conor, criticizing his decision to quit and suggesting he should fight smaller opponents. It also implies Dana's public persona is a facade, masking his disappointment.\n",
            "label: negative\n",
            "reasoning: The comment is critical of Conor McGregor's reaction to Khabib's hold, comparing it unfavorably to Renzo Gracie's resilience. It suggests McGregor tapped too quickly and didn't attempt to escape, implying a lack of toughness. This is a negative sentiment towards McGregor's performance in the fight.\n",
            "label: negative\n",
            "reasoning: The comment expresses agreement with the submission's sentiment that the post-fight brawl was overblown. It states that those involved don't care, commentators think it was blown out of proportion, and fans found it exciting. The comment ends with a call for people to calm down, reinforcing the idea that the reaction has been excessive.\n",
            "label: positive\n",
            "reasoning: The comment expresses a strong negative sentiment towards the experience of being chin squeezed after a mauling, indicating a negative view of the fight's aftermath and the potential consequences.\n",
            "label: negative\n",
            "reasoning: The comment is critical of Conor McGregor, suggesting he needs to \"toughen up\" and comparing him unfavorably to other fighters who endured more pain without submitting. This indicates a negative sentiment towards Conor's performance and resilience in the fight.\n",
            "label: negative\n",
            "reasoning: The comment agrees with the sentiment that the brawl wasn't as bad as people are making it out to be, and that it might even be beneficial for the sport. This aligns with a neutral or slightly positive view towards the fight's aftermath.\n",
            "label: neutral\n"
          ]
        },
        {
          "output_type": "stream",
          "name": "stderr",
          "text": [
            "WARNING:tornado.access:429 POST /v1beta/models/gemini-2.0-flash:generateContent?%24alt=json%3Benum-encoding%3Dint (127.0.0.1) 582.12ms\n",
            "WARNING:tornado.access:429 POST /v1beta/models/gemini-2.0-flash:generateContent?%24alt=json%3Benum-encoding%3Dint (127.0.0.1) 556.63ms\n"
          ]
        },
        {
          "output_type": "stream",
          "name": "stdout",
          "text": [
            "reasoning: The comment expresses respect for both fighters and acknowledges the brutality of the fight. It also defends Conor for taking the fight despite the unfavorable matchup.\n",
            "label: positive\n"
          ]
        },
        {
          "output_type": "stream",
          "name": "stderr",
          "text": [
            "WARNING:tornado.access:429 POST /v1beta/models/gemini-2.0-flash:generateContent?%24alt=json%3Benum-encoding%3Dint (127.0.0.1) 582.25ms\n",
            "WARNING:tornado.access:429 POST /v1beta/models/gemini-2.0-flash:generateContent?%24alt=json%3Benum-encoding%3Dint (127.0.0.1) 557.15ms\n",
            "WARNING:tornado.access:429 POST /v1beta/models/gemini-2.0-flash:generateContent?%24alt=json%3Benum-encoding%3Dint (127.0.0.1) 557.14ms\n",
            "WARNING:tornado.access:429 POST /v1beta/models/gemini-2.0-flash:generateContent?%24alt=json%3Benum-encoding%3Dint (127.0.0.1) 556.89ms\n",
            "WARNING:tornado.access:429 POST /v1beta/models/gemini-2.0-flash:generateContent?%24alt=json%3Benum-encoding%3Dint (127.0.0.1) 556.18ms\n",
            "WARNING:tornado.access:429 POST /v1beta/models/gemini-2.0-flash:generateContent?%24alt=json%3Benum-encoding%3Dint (127.0.0.1) 556.51ms\n"
          ]
        },
        {
          "output_type": "stream",
          "name": "stdout",
          "text": [
            "reasoning: The comment is a play on words, stating that Khabib dominated the fight (\"laid it down\") and Conor was defeated (\"laid down\"). It's a neutral observation of the fight's outcome.\n",
            "label: neutral\n",
            "reasoning: The comment describes an action that is against the rules and could be considered a negative act. It is not explicitly positive or neutral.\n",
            "label: negative\n",
            "reasoning: The comment is arguing against the idea that Conor had a choice to keep fighting, stating that Khabib had him in a chinlock that could have broken or dislocated his jaw. This implies a negative sentiment towards Khabib's actions and a defense of Conor's decision.\n",
            "label: negative\n",
            "reasoning: The comment expresses a negative opinion about Conor's performance in the fight, suggesting he gave up easily and didn't attempt to defend himself. The tone is dismissive and critical.\n",
            "label: negative\n",
            "reasoning: The comment refers to Danis not posting selfies, implying he was hit and his face was swollen. This is a negative sentiment towards Danis and potentially the fight's aftermath.\n",
            "label: negative\n",
            "reasoning: The comment discusses the potential negative consequences of the post-fight brawl on the sport's future, particularly regarding Olympic recognition and operation in betting-friendly states. It argues that the UFC relies on state athletic commissions for legitimacy and that the brawl could jeopardize this support. This suggests a negative sentiment towards the brawl's impact on the sport.\n",
            "label: negative\n",
            "reasoning: The comment expresses confidence in the UFC's continued growth and downplays the potential negative impact of the brawl on its future. It questions the likelihood of Las Vegas refusing future fights and highlights the economic benefits the UFC brings to states. It also questions whether Olympic recognition applies to MMA as a whole, not just the UFC. Overall, the comment is supportive of the UFC and its future.\n",
            "label: positive\n",
            "reasoning: The comment expresses a strong dislike for Connor (\"I absolutely hate Connor\") but also defends Khabib's actions by stating that a neck crank is worse than being choked out. This shows a mixed sentiment, but the overall tone leans towards a negative view of Connor and a defense of Khabib's actions in the fight.\n",
            "label: negative\n",
            "reasoning: The comment is critical of another user's statement about the severity of a neck crank, implying the user is either trolling or stupid. This expresses a negative sentiment towards the user and their argument.\n",
            "label: negative\n",
            "reasoning: The comment expresses a negative sentiment towards Conor's fighting ability, suggesting he didn't have a proper submission locked in. This implies a criticism of his performance in the fight.\n",
            "label: negative\n",
            "reasoning: The comment defends Khabib's submission attempt, arguing it was a legitimate and dangerous neck crank, directly contradicting the previous comment's assertion that the submission wasn't locked in. This implies a positive sentiment towards Khabib's actions in the fight.\n",
            "label: positive\n",
            "reasoning: The comment expresses a negative sentiment towards Conor McGregor, stating he \"gave up his neck and went home\" and implying he's looking for excuses. This is a negative sentiment towards Conor's actions in the fight.\n",
            "label: negative\n",
            "reasoning: The comment expresses agreement with the idea that Conor gave up before the submission, but also acknowledges the potential danger of the neck crank. While the commenter is a Khabib fan, they are critical of the argument that the submission wasn't locked in. The overall sentiment is mixed, but leans towards neutral as it presents both sides of the argument.\n",
            "label: neutral\n",
            "reasoning: The comment expresses disagreement with the assertion that the neck crank was fully locked in, suggesting a neutral stance towards the fight itself, focusing instead on the technical aspects of the submission attempt.\n",
            "label: neutral\n",
            "reasoning: The comment expresses frustration and resignation in the face of disagreement. It doesn't explicitly support or condemn either fighter, but rather indicates a withdrawal from the argument. This suggests a neutral sentiment towards the fight itself.\n",
            "label: neutral\n",
            "reasoning: The comment expresses a negative sentiment towards Conor, stating that the submission wasn't locked in and Conor didn't attempt to fight it off, implying he gave up. This is a negative assessment of Conor's performance in the fight.\n",
            "label: negative\n"
          ]
        },
        {
          "output_type": "stream",
          "name": "stderr",
          "text": [
            "WARNING:tornado.access:429 POST /v1beta/models/gemini-2.0-flash:generateContent?%24alt=json%3Benum-encoding%3Dint (127.0.0.1) 607.56ms\n",
            "WARNING:tornado.access:429 POST /v1beta/models/gemini-2.0-flash:generateContent?%24alt=json%3Benum-encoding%3Dint (127.0.0.1) 607.64ms\n",
            "WARNING:tornado.access:429 POST /v1beta/models/gemini-2.0-flash:generateContent?%24alt=json%3Benum-encoding%3Dint (127.0.0.1) 2627.78ms\n",
            "WARNING:tornado.access:429 POST /v1beta/models/gemini-2.0-flash:generateContent?%24alt=json%3Benum-encoding%3Dint (127.0.0.1) 1769.66ms\n",
            "WARNING:tornado.access:429 POST /v1beta/models/gemini-2.0-flash:generateContent?%24alt=json%3Benum-encoding%3Dint (127.0.0.1) 683.67ms\n",
            "WARNING:tornado.access:429 POST /v1beta/models/gemini-2.0-flash:generateContent?%24alt=json%3Benum-encoding%3Dint (127.0.0.1) 607.27ms\n",
            "WARNING:tornado.access:429 POST /v1beta/models/gemini-2.0-flash:generateContent?%24alt=json%3Benum-encoding%3Dint (127.0.0.1) 608.81ms\n"
          ]
        },
        {
          "output_type": "stream",
          "name": "stdout",
          "text": [
            "reasoning: The comment is dismissive and sarcastic towards the previous commenter's opinion about the fight. It implies the commenter is trying to convince themselves of something rather than engaging in a genuine discussion. This suggests a negative sentiment towards the commenter's viewpoint on the fight.\n",
            "label: negative\n",
            "reasoning: The comment is arguing against the idea that Conor was in a dangerous position, suggesting he didn't try to defend himself. This implies a negative sentiment towards Conor's actions in the fight.\n",
            "label: negative\n",
            "reasoning: The comment expresses a mixed sentiment. It acknowledges the pain of a neck crank but also suggests Conor might have been looking for a way out of the fight, implying a negative view of Conor's willingness to endure. It also suggests Khabib chose the neck crank to inflict pain, which is a negative sentiment towards Khabib's actions.\n",
            "label: mixed\n",
            "reasoning: The comment is dismissive and mocking of the previous commenter's understanding of the fight, specifically regarding Khabib's actions. The use of \"lmao\" further emphasizes the negative sentiment.\n",
            "label: negative\n",
            "reasoning: The comment is responding to a previous comment about Khabib's attempt to break Conor's jaw. The commenter disagrees with the assessment that Conor's jaw was in danger and criticizes Conor's lack of defense. This implies a negative sentiment towards Conor's performance in the fight.\n",
            "label: negative\n",
            "reasoning: The comment is about the experience of being choked out versus a neck crank, and doesn't express a positive, negative, or neutral sentiment towards the fight itself.\n",
            "label: neutral\n",
            "reasoning: The comment is providing an answer to the question of what submission was applied. It is a neutral statement of fact.\n",
            "label: neutral\n",
            "reasoning: The comment expresses frustration and disagreement with a previous commenter, using insults like \"dense\" and accusing them of being biased (\"Conor hate\"). This indicates a negative sentiment towards the commenter and their views on the fight.\n",
            "label: negative\n",
            "reasoning: The comment expresses a strong opinion about Khabib's actions in the fight, claiming he was trying to \"pull Conor's fucking head off\" and that it was a valid reason to tap. This indicates a negative sentiment towards Khabib's actions and a defense of Conor's decision to tap.\n",
            "label: negative\n",
            "reasoning: The comment suggests a fight between Khabib and Danis, implying a humorous outcome. This suggests a positive sentiment towards the idea of the fight.\n",
            "label: positive\n",
            "reasoning: The comment is critical of fighters who allow their arms to be broken, calling it \"stupid as fuck\" and a \"big risk to livelihood.\" This expresses a negative sentiment towards the actions of those fighters.\n",
            "label: negative\n",
            "reasoning: The comment questions the claim that Conor's head was being ripped off, suggesting that his lack of defensive actions indicates the situation wasn't as dire as described. This implies a disagreement with the previous comment's assessment of the fight and Khabib's actions.\n",
            "label: negative\n",
            "reasoning: The comment expresses a negative sentiment towards Conor, accusing him of cheating and being deserving of a medical suspension.\n",
            "label: negative\n",
            "reasoning: The comment \"Whats up with the safety first?\" is a question that implies disagreement with a cautious or overly safe approach. In the context of a fight, it suggests the commenter believes the fighters should be taking more risks or being more aggressive. This leans towards a negative sentiment towards the current state of affairs.\n",
            "label: negative\n",
            "reasoning: The comment refers to a specific move (Kimura) and describes it as \"wack,\" which is a negative assessment. This suggests a negative sentiment towards the fight or a particular aspect of it.\n",
            "label: negative\n",
            "reasoning: The comment \"Kim Winslow pls\" is a reference to a referee known for poor officiating. This implies a negative sentiment towards the officiating of the fight.\n",
            "label: negative\n"
          ]
        },
        {
          "output_type": "stream",
          "name": "stderr",
          "text": [
            "WARNING:tornado.access:429 POST /v1beta/models/gemini-2.0-flash:generateContent?%24alt=json%3Benum-encoding%3Dint (127.0.0.1) 585.06ms\n",
            "WARNING:tornado.access:429 POST /v1beta/models/gemini-2.0-flash:generateContent?%24alt=json%3Benum-encoding%3Dint (127.0.0.1) 557.45ms\n",
            "WARNING:tornado.access:429 POST /v1beta/models/gemini-2.0-flash:generateContent?%24alt=json%3Benum-encoding%3Dint (127.0.0.1) 556.83ms\n",
            "WARNING:tornado.access:429 POST /v1beta/models/gemini-2.0-flash:generateContent?%24alt=json%3Benum-encoding%3Dint (127.0.0.1) 582.32ms\n",
            "WARNING:tornado.access:429 POST /v1beta/models/gemini-2.0-flash:generateContent?%24alt=json%3Benum-encoding%3Dint (127.0.0.1) 557.72ms\n",
            "WARNING:tornado.access:429 POST /v1beta/models/gemini-2.0-flash:generateContent?%24alt=json%3Benum-encoding%3Dint (127.0.0.1) 582.91ms\n"
          ]
        },
        {
          "output_type": "stream",
          "name": "stdout",
          "text": [
            "reasoning: The comment contains a direct insult (\"You are a fuckwit\") and expresses strong disapproval of the subreddit's behavior (\"circlejerking so hard\"). This indicates a negative sentiment.\n",
            "label: negative\n",
            "reasoning: The comment is clearly negative towards Conor McGregor, referring to him as \"your hero\" sarcastically and criticizing his performance in the fight. The language used is derogatory (\"tapped like a bitch,\" \"never anything special,\" \"fluke flash knockout\").\n",
            "label: negative\n"
          ]
        },
        {
          "output_type": "stream",
          "name": "stderr",
          "text": [
            "WARNING:tornado.access:429 POST /v1beta/models/gemini-2.0-flash:generateContent?%24alt=json%3Benum-encoding%3Dint (127.0.0.1) 608.02ms\n"
          ]
        },
        {
          "output_type": "stream",
          "name": "stdout",
          "text": [
            "reasoning: The comment is dismissive and mocking of the previous comment, using phrases like \"Hoky fuck youre dramatic kid\". This indicates a negative sentiment towards the previous comment's viewpoint.\n",
            "label: negative\n",
            "reasoning: The comment is mocking the person they are replying to for being upset about their \"boy\" (presumably Conor McGregor) losing the fight. It uses phrases like \"you're sad your boy lost\" and \"he'll talk another gang of shit he can't possibly back up\" which are clearly negative and derisive.\n",
            "label: negative\n",
            "reasoning: The comment expresses a negative sentiment towards McGregor and Rousey (\"those two losers\") and a positive sentiment towards Jon Jones. While it doesn't directly address the fight, it relates to the submission's mention of McGregor, Rousey, and Jones.\n",
            "label: negative\n",
            "reasoning: The comment refers to Jon Jones, who was mentioned in the parent comment. The commenter is implying that Jon Jones has not been seen without performance-enhancing drugs. This is a negative sentiment towards Jon Jones.\n",
            "label: negative\n",
            "reasoning: The comment suggests a specific fight arrangement (Ferguson vs. Diaz for Interim, then Khabib vs. winner of FvD) while Khabib deals with suspension. This shows a positive sentiment towards the fight and the future of the division.\n",
            "label: positive\n",
            "reasoning: The comment defends McGregor's performance against Diaz, Mayweather, and Khabib, highlighting his achievements and suggesting he did better than many give him credit for. It argues that McGregor was competitive despite the circumstances and that Khabib didn't dominate him as much as some claim.\n",
            "label: positive\n",
            "reasoning: The comment references a fighter, Gustafson, implying a potential opponent for McGregor. This suggests a negative sentiment towards McGregor getting a title shot, as it proposes an alternative fight.\n",
            "label: negative\n",
            "reasoning: The comment expresses that the fight wasn't close, indicating a negative sentiment towards the fight itself. However, it acknowledges the financial incentive for a rematch, suggesting a neutral stance on the overall situation.\n",
            "label: neutral\n",
            "reasoning: The comment expresses a negative sentiment towards Khabib fighting again due to his actions after the fight, suggesting he should be punished more severely.\n",
            "label: negative\n",
            "reasoning: The comment expresses a positive sentiment towards Jon Jones, stating he won and wasn't decimated, contrasting him with McGregor and Rousey.\n",
            "label: positive\n",
            "reasoning: The comment expresses an opinion that the fighter in question should not have won the fight, implying a negative sentiment towards their performance.\n",
            "label: negative\n",
            "reasoning: The comment is negative towards the idea of a rematch, referencing a controversial win to support the argument that a rematch isn't always justified.\n",
            "label: negative\n",
            "reasoning: The comment expresses a strong opinion that Jon Jones won the fight, disagreeing with the previous comment. This is a subjective statement about the fight's outcome.\n",
            "label: positive\n",
            "reasoning: The comment expresses a strong negative opinion about Jon Jones, stating he's \"the lowest of the garbage\" and that his record is 0-0 due to never fighting clean. This is a clear expression of dislike and disapproval.\n",
            "label: negative\n"
          ]
        },
        {
          "output_type": "stream",
          "name": "stderr",
          "text": [
            "WARNING:tornado.access:429 POST /v1beta/models/gemini-2.0-flash:generateContent?%24alt=json%3Benum-encoding%3Dint (127.0.0.1) 582.70ms\n",
            "WARNING:tornado.access:429 POST /v1beta/models/gemini-2.0-flash:generateContent?%24alt=json%3Benum-encoding%3Dint (127.0.0.1) 557.14ms\n",
            "WARNING:tornado.access:429 POST /v1beta/models/gemini-2.0-flash:generateContent?%24alt=json%3Benum-encoding%3Dint (127.0.0.1) 583.10ms\n",
            "WARNING:tornado.access:429 POST /v1beta/models/gemini-2.0-flash:generateContent?%24alt=json%3Benum-encoding%3Dint (127.0.0.1) 557.42ms\n",
            "WARNING:tornado.access:429 POST /v1beta/models/gemini-2.0-flash:generateContent?%24alt=json%3Benum-encoding%3Dint (127.0.0.1) 556.48ms\n",
            "WARNING:tornado.access:429 POST /v1beta/models/gemini-2.0-flash:generateContent?%24alt=json%3Benum-encoding%3Dint (127.0.0.1) 557.09ms\n",
            "WARNING:tornado.access:429 POST /v1beta/models/gemini-2.0-flash:generateContent?%24alt=json%3Benum-encoding%3Dint (127.0.0.1) 556.95ms\n"
          ]
        },
        {
          "output_type": "stream",
          "name": "stdout",
          "text": [
            "reasoning: The comment is questioning the previous comment's stance on Jon Jones by comparing him to Anderson Silva and fighters before USADA, implying that many fighters may have used performance-enhancing drugs. This is a negative sentiment towards the idea of judging fighters based on drug use.\n",
            "label: negative\n",
            "reasoning: The comment expresses a desire to see Khabib fight Diaz or Ferguson, indicating a positive sentiment towards Khabib fighting. It also criticizes McGregor, suggesting a negative sentiment towards him. While acknowledging Khabib's actions warrant punishment, it opposes a terminal suspension, suggesting a neutral stance on the severity of the punishment. Overall, the comment leans towards a positive sentiment regarding Khabib's fighting career.\n",
            "label: positive\n",
            "reasoning: The comment defends McGregor, stating he loves fighting and didn't come back to the UFC just for money. It argues against the idea that McGregor is soulless and only after money.\n",
            "label: positive\n",
            "reasoning: The comment is critical of the previous comment, implying that the commenter is bending over backwards to justify McGregor's performance. This is a negative sentiment towards the argument made in the previous comment.\n",
            "label: negative\n",
            "reasoning: The comment expresses a negative sentiment towards Anderson Silva, accusing him of cheating and ending Rich Franklin's career. This is a negative statement about a fighter.\n",
            "label: negative\n",
            "reasoning: The comment expresses a positive sentiment towards McGregor's performance in the fight against Khabib, highlighting his ability to defend takedowns and prevent ground and pound. It also criticizes Khabib's ground control as ineffective and suggests that McGregor could have performed better with more time to develop his stand-up game.\n",
            "label: positive\n",
            "reasoning: The comment expresses a negative sentiment towards anyone who has tested positive for steroids, which is relevant to the discussion about Jon Jones and his past issues.\n",
            "label: negative\n",
            "reasoning: The comment is questioning the logic of giving a \"pass\" to fighters who competed before drug testing was prevalent. This implies a disagreement with the previous comment's stance on judging fighters based on drug test results, but it doesn't express a strong positive or negative sentiment towards the fight itself.\n",
            "label: neutral\n",
            "reasoning: The comment states that McGregor \"got mauled either way,\" which is a negative assessment of his performance in the fight.\n",
            "label: negative\n",
            "reasoning: The comment expresses a clear and direct opinion about steroid use, stating a specific criterion for identifying steroid users. It doesn't express any positive or negative sentiment towards the fight or fighters mentioned in the context.\n",
            "label: neutral\n",
            "reasoning: The comment is sarcastic and critical of the previous commenter's criteria for identifying steroid users. It implies that the criteria are flawed because they would exonerate someone widely suspected of steroid use.\n",
            "label: negative\n",
            "reasoning: The comment disputes the characterization of McGregor's loss as a \"mauling,\" arguing that he was primarily \"wrestle fucked\" rather than beaten up. While acknowledging McGregor's loss, the comment downplays the severity of the physical damage he sustained. This suggests a neutral sentiment towards the fight itself, focusing on the specific nature of the defeat.\n",
            "label: neutral\n",
            "reasoning: The comment is disagreeing with the parent comment, which is downplaying the severity of Khabib's victory over Conor. The comment uses statistics to argue that Khabib did indeed \"maul\" Conor, suggesting a negative sentiment towards Conor's performance in the fight.\n",
            "label: negative\n",
            "reasoning: The comment expresses an opinion about the fighters, specifically Diaz and Khabib, and their skills. While it acknowledges Diaz's size advantage, it emphasizes Khabib's superior ground game. The comment also mentions a disagreement with the scoring of a rematch, suggesting a critical perspective. Overall, the comment is neutral towards the fight itself, but expresses opinions about the fighters involved.\n",
            "label: neutral\n",
            "reasoning: The comment expresses a neutral stance on judging someone until proven otherwise, which doesn't directly relate to the fight or fighters mentioned in the context.\n",
            "label: neutral\n",
            "reasoning: The comment expresses frustration with the UFC's handling of situations and the drama surrounding it. It mentions Diaz potentially losing, fighters being stripped of titles for less, and the Nevada commission's actions. While not explicitly negative towards the fight itself, the overall tone is critical and somewhat negative towards the UFC's practices. The commenter also expresses more excitement for another fight, indicating a lack of enthusiasm for a potential rematch.\n",
            "label: negative\n"
          ]
        },
        {
          "output_type": "stream",
          "name": "stderr",
          "text": [
            "WARNING:tornado.access:429 POST /v1beta/models/gemini-2.0-flash:generateContent?%24alt=json%3Benum-encoding%3Dint (127.0.0.1) 581.08ms\n",
            "WARNING:tornado.access:429 POST /v1beta/models/gemini-2.0-flash:generateContent?%24alt=json%3Benum-encoding%3Dint (127.0.0.1) 556.29ms\n",
            "WARNING:tornado.access:429 POST /v1beta/models/gemini-2.0-flash:generateContent?%24alt=json%3Benum-encoding%3Dint (127.0.0.1) 557.15ms\n",
            "WARNING:tornado.access:429 POST /v1beta/models/gemini-2.0-flash:generateContent?%24alt=json%3Benum-encoding%3Dint (127.0.0.1) 557.08ms\n",
            "WARNING:tornado.access:429 POST /v1beta/models/gemini-2.0-flash:generateContent?%24alt=json%3Benum-encoding%3Dint (127.0.0.1) 555.84ms\n",
            "WARNING:tornado.access:429 POST /v1beta/models/gemini-2.0-flash:generateContent?%24alt=json%3Benum-encoding%3Dint (127.0.0.1) 555.94ms\n"
          ]
        },
        {
          "output_type": "stream",
          "name": "stdout",
          "text": [
            "reasoning: The comment is discussing the fighters mentioned in the parent comment (McGregor, Rousey, Jones) and arguing that the commonality between them is that they are treated differently by the rules, not necessarily their fighting ability. This is a neutral observation about the fighters and the rules applied to them.\n",
            "label: neutral\n",
            "reasoning: The comment expresses a desire to see a rematch between Khabib and McGregor, highlighting McGregor's surprising defensive capabilities in their previous fight and suggesting that a few adjustments could have changed the outcome. This indicates a positive sentiment towards the prospect of a rematch and a belief in McGregor's potential.\n",
            "label: positive\n",
            "reasoning: The comment is disagreeing with a previous comment about Jon Jones's drug use. It is arguing that the person is assuming Jon Jones has always used PEDs because he got caught once. This is a negative sentiment towards the person being argued against.\n",
            "label: negative\n",
            "reasoning: The comment expresses a negative sentiment towards the situation, implying that the decision for a rematch is driven by financial gain rather than the integrity of the sport.\n",
            "label: negative\n",
            "reasoning: The comment expresses respect for the previous commenter's opinion and acknowledges McGregor's striking skills while also recognizing Khabib's superior game plan. It suggests that McGregor could benefit from more wins and experience, indicating a neutral stance towards his current standing in the fight world.\n",
            "label: neutral\n",
            "reasoning: The comment is arguing that Jon Jones was using PEDs before he was caught, based on a test result. This is a negative sentiment towards Jon Jones.\n",
            "label: negative\n",
            "reasoning: The comment expresses skepticism about Khabib's skill, suggesting that McGregor's performance made Khabib look better than he is. It also implies that McGregor may be motivated by money, but also suggests that he loves fighting. Overall, the sentiment is mixed, but leans towards a negative view of McGregor's fighting ability and a questioning of Khabib's true skill.\n",
            "label: negative\n",
            "reasoning: The comment is questioning the validity of a fighter's contract if their license is revoked, which is a neutral inquiry about the situation surrounding the fight and its consequences.\n",
            "label: neutral\n",
            "reasoning: The comment is a statement about Diaz's weight, which is relevant to the discussion about potential matchups. It doesn't express a positive or negative sentiment towards the fight itself.\n",
            "label: neutral\n",
            "reasoning: The comment discusses the potential consequences for Khabib and the UFC's options, without expressing a strong positive or negative sentiment towards the fight itself. It's primarily informative and analytical.\n",
            "label: neutral\n",
            "reasoning: The comment praises Khabib's performance in his fights, including the one against McGregor, and highlights McGregor being the first to win a round against him. This suggests a positive sentiment towards Khabib and his fighting abilities.\n",
            "label: positive\n",
            "reasoning: The comment expresses a positive sentiment towards Connor McGregor, highlighting his achievements and arguing that he should only participate in high-paying fights due to his veteran status and past successes. It emphasizes his accomplishments and suggests he doesn't need to prove himself further.\n",
            "label: positive\n",
            "reasoning: The comment is comparing Chad Mendes' fighting style to Khabib's and how he was able to dominate Connor on the ground. The commenter is pointing out that Connor was eventually able to get up and win the fight, which could be seen as a positive point for Connor.\n",
            "label: positive\n",
            "reasoning: The comment expresses a positive sentiment towards the fighters involved in the incident, stating \"Good for them lets see more fights\". The comment also expresses relief that the punishment was not severe.\n",
            "label: positive\n",
            "reasoning: The comment expresses a negative sentiment towards Conor McGregor's fighting ability and a more positive, albeit conditional, sentiment towards Khabib. It criticizes McGregor's performance and suggests Khabib's true potential will be revealed against tougher opponents.\n",
            "label: negative\n",
            "reasoning: The comment acknowledges Conor's achievements and superstar status but expresses a desire for him to fight other contenders before a Khabib rematch. It also points out the likelihood of a rematch due to Conor's drawing power, despite his recent performance and the existence of other deserving contenders. The comment is mixed, acknowledging Conor's accomplishments while also expressing reservations about an immediate rematch.\n",
            "label: neutral\n"
          ]
        },
        {
          "output_type": "stream",
          "name": "stderr",
          "text": [
            "WARNING:tornado.access:429 POST /v1beta/models/gemini-2.0-flash:generateContent?%24alt=json%3Benum-encoding%3Dint (127.0.0.1) 631.50ms\n",
            "WARNING:tornado.access:429 POST /v1beta/models/gemini-2.0-flash:generateContent?%24alt=json%3Benum-encoding%3Dint (127.0.0.1) 633.24ms\n",
            "WARNING:tornado.access:429 POST /v1beta/models/gemini-2.0-flash:generateContent?%24alt=json%3Benum-encoding%3Dint (127.0.0.1) 605.89ms\n",
            "WARNING:tornado.access:429 POST /v1beta/models/gemini-2.0-flash:generateContent?%24alt=json%3Benum-encoding%3Dint (127.0.0.1) 606.76ms\n",
            "WARNING:tornado.access:429 POST /v1beta/models/gemini-2.0-flash:generateContent?%24alt=json%3Benum-encoding%3Dint (127.0.0.1) 632.41ms\n",
            "WARNING:tornado.access:429 POST /v1beta/models/gemini-2.0-flash:generateContent?%24alt=json%3Benum-encoding%3Dint (127.0.0.1) 607.72ms\n",
            "WARNING:tornado.access:429 POST /v1beta/models/gemini-2.0-flash:generateContent?%24alt=json%3Benum-encoding%3Dint (127.0.0.1) 607.32ms\n"
          ]
        },
        {
          "output_type": "stream",
          "name": "stdout",
          "text": [
            "reasoning: The comment expresses an opinion on why McGregor lost to Khabib and suggests a specific fight scenario for McGregor. The commenter believes ring rust was a significant factor in McGregor's loss and proposes a fight night on FOX to showcase both McGregor and undercard talent. This suggests a belief that McGregor can improve and is worth watching.\n",
            "label: neutral\n",
            "reasoning: The comment expresses agreement with the idea that ring rust contributed to Conor's loss and criticizes the UFC's strategy of not putting stars on free fight nights on FOX. The comment does not express a strong positive or negative sentiment towards the fight itself, but rather towards the UFC's promotional strategies and Conor's performance.\n",
            "label: neutral\n",
            "reasoning: The comment directly accuses Conor of cheating against Khabib, which is a negative statement regarding the fight and Conor's actions.\n",
            "label: negative\n",
            "reasoning: The comment expresses disbelief in the author's claim of being Muslim, which is a negative sentiment towards the author of the submission.\n",
            "label: negative\n",
            "reasoning: The comment \"Lmao ok then\" expresses disbelief or mockery towards the submission's claim of being a Muslim. This implies a negative sentiment towards the submission's argument.\n",
            "label: negative\n",
            "reasoning: The comment \"Everyone saw that, everyone\" is referring to the cheating mentioned in the parent comment. This implies a negative sentiment towards Conor, as it reinforces the idea that he cheated.\n",
            "label: negative\n",
            "reasoning: The comment is a direct quote from Khabib Nurmagomedov, often used in a negative or dismissive context. Given the context of the submission, which discusses the Conor vs. Khabib fight and respect for both fighters, using this quote is likely a negative reaction to the submission's argument.\n",
            "label: negative\n",
            "reasoning: The comment expresses a negative sentiment towards Conor, arguing that he is not a true champion because he has not defended his title. This directly contradicts the submission's positive view of Conor as a \"great champ.\"\n",
            "label: negative\n",
            "reasoning: The comment expresses strong disagreement with the previous comment, using harsh language (\"bullshit\"). It defends the idea that beating the champion makes one a champion, which is a positive sentiment towards Conor's achievements.\n",
            "label: positive\n",
            "reasoning: The comment expresses respect for Conor McGregor as an MMA practitioner while acknowledging the negative aspects of his trash-talking and the overall state of the UFC. It also highlights the importance of respect and sportsmanship in MMA.\n",
            "label: positive\n",
            "reasoning: The comment acknowledges Conor's humble beginnings but contrasts it with his behavior in the past two years, implying a negative change. This suggests a negative sentiment towards Conor's current persona.\n",
            "label: negative\n",
            "reasoning: The comment expresses a negative sentiment towards Conor McGregor. It criticizes his past actions, questions his status as a champion, and expresses a desire to see him lose in future fights. The comment uses sarcasm and harsh language to convey its negative opinion.\n",
            "label: negative\n",
            "reasoning: The comment expresses both negative and positive sentiments towards Conor. It states that he \"deserved everything he got\" which is negative, but also gives him \"big respect\" for accepting the fight with Khabib, which is positive.\n",
            "label: mixed\n",
            "reasoning: The comment focuses on Conor's actions during the fight, specifically accusing him of cheating. This directly criticizes his behavior and performance, expressing a negative sentiment towards him and his actions in the fight.\n",
            "label: negative\n",
            "reasoning: The comment refers to Conor's cheating during the fight, as mentioned in the parent comment. The commenter believes that Conor would lose points for his actions, indicating a negative sentiment towards Conor's behavior in the fight.\n",
            "label: negative\n",
            "reasoning: The comment discusses Conor McGregor's trash-talk and its role in generating hype and money for the UFC. It acknowledges that McGregor crossed a line and learned a lesson the hard way. While it doesn't explicitly praise or condemn McGregor, it focuses on the business aspect and the consequences of his actions.\n",
            "label: neutral\n"
          ]
        },
        {
          "output_type": "stream",
          "name": "stderr",
          "text": [
            "WARNING:tornado.access:429 POST /v1beta/models/gemini-2.0-flash:generateContent?%24alt=json%3Benum-encoding%3Dint (127.0.0.1) 581.73ms\n",
            "WARNING:tornado.access:429 POST /v1beta/models/gemini-2.0-flash:generateContent?%24alt=json%3Benum-encoding%3Dint (127.0.0.1) 556.61ms\n",
            "WARNING:tornado.access:429 POST /v1beta/models/gemini-2.0-flash:generateContent?%24alt=json%3Benum-encoding%3Dint (127.0.0.1) 556.16ms\n",
            "WARNING:tornado.access:429 POST /v1beta/models/gemini-2.0-flash:generateContent?%24alt=json%3Benum-encoding%3Dint (127.0.0.1) 582.07ms\n",
            "WARNING:tornado.access:429 POST /v1beta/models/gemini-2.0-flash:generateContent?%24alt=json%3Benum-encoding%3Dint (127.0.0.1) 556.59ms\n"
          ]
        },
        {
          "output_type": "stream",
          "name": "stdout",
          "text": [
            "reasoning: The comment expresses disagreement with the original post's sentiment that Conor should get more respect. It criticizes Conor's trash talk, stating that he crossed the line with personal insults. The commenter enjoys seeing Conor \"eat his words\" and prefers more humble fighters. This indicates a negative sentiment towards Conor and his actions.\n",
            "label: negative\n",
            "reasoning: The comment agrees with the previous comment that Conor crossed the line with his trash talk. It attributes the blame to Dana White for allowing Conor to say whatever he wants, and suggests that Conor got carried away with hyping the match. The comment expresses a negative sentiment towards Conor's actions.\n",
            "label: negative\n",
            "reasoning: The comment expresses a negative sentiment towards Dana White and suggests favoritism towards Conor McGregor, implying unfair treatment compared to other fighters like Woodley.\n",
            "label: negative\n",
            "reasoning: The comment is questioning the previous comment's assertion that Conor cheated during the fight. It doesn't express a clear positive or negative sentiment towards either fighter, but rather seeks clarification on a specific point related to the fight.\n",
            "label: neutral\n",
            "reasoning: The comment expresses a negative sentiment towards those who lack respect, implying that Conor, based on the submission's description of his pre-fight behavior, might not deserve respect.\n",
            "label: negative\n",
            "reasoning: The comment is a bot correcting the spelling of \"alot\" to \"a lot\". It is not expressing any sentiment towards the fight or the fighters.\n",
            "label: neutral\n",
            "reasoning: The comment is negative towards Conor because it implies that Conor's behavior is similar to that of a Trump supporter, which is presented as a negative trait. The comment is also negative towards Trump.\n",
            "label: negative\n",
            "reasoning: The comment expresses disagreement with overlooking Conor's past actions and words, specifically mentioning his disrespectful comments towards Khabib. This indicates a negative sentiment towards Conor and his behavior.\n",
            "label: negative\n",
            "reasoning: The comment expresses a desire to see a fight between GSP and Khabib, which is a positive sentiment towards the potential matchup.\n",
            "label: positive\n",
            "reasoning: The comment is insulting and disrespectful, using sarcasm to demean the person it's directed at. This is a negative sentiment.\n",
            "label: negative\n",
            "reasoning: The comment is correcting the grammar of the parent comment. It does not express a positive, negative, or neutral sentiment towards the fight or the fighters.\n",
            "label: neutral\n",
            "reasoning: The comment is critical of Conor McGregor, highlighting his disrespectful behavior, poor performance against Khabib, and the consequences of his actions. It also mentions cheating during the fight.\n",
            "label: negative\n",
            "reasoning: The comment \"don't give a fuck\" expresses a strong negative sentiment towards the discussion or the subject being discussed. It indicates a lack of care or interest, which is generally considered negative in the context of a debate or discussion.\n",
            "label: negative\n",
            "reasoning: The comment expresses dislike for Trump and Dana White but criticizes bringing up Muslims in the discussion, suggesting it's unnecessary and irrelevant. It advocates for focusing on real issues and respecting different voting choices. This indicates a neutral stance towards the fight itself, focusing more on the surrounding discourse.\n",
            "label: neutral\n",
            "reasoning: The comment is responding to a previous comment about Bruce Buffer's announcements. The comment is pointing out that Bruce Buffer never says \"the undisputed undefended heavyweight champion of the world,\" which supports the argument that a champion is someone who has defended their title. The comment is critical of the previous comment for not understanding this point.\n",
            "label: negative\n",
            "reasoning: The comment is a direct response to a previous comment, criticizing it as naive and immature. It uses examples of illegal or harmful speech to argue against the idea that \"words are words\" and that there are no consequences for trash-talking. The tone is critical and argumentative, indicating a negative sentiment towards the original comment and its perspective.\n",
            "label: negative\n"
          ]
        },
        {
          "output_type": "stream",
          "name": "stderr",
          "text": [
            "WARNING:tornado.access:429 POST /v1beta/models/gemini-2.0-flash:generateContent?%24alt=json%3Benum-encoding%3Dint (127.0.0.1) 608.34ms\n",
            "WARNING:tornado.access:429 POST /v1beta/models/gemini-2.0-flash:generateContent?%24alt=json%3Benum-encoding%3Dint (127.0.0.1) 556.68ms\n",
            "WARNING:tornado.access:429 POST /v1beta/models/gemini-2.0-flash:generateContent?%24alt=json%3Benum-encoding%3Dint (127.0.0.1) 557.09ms\n",
            "WARNING:tornado.access:429 POST /v1beta/models/gemini-2.0-flash:generateContent?%24alt=json%3Benum-encoding%3Dint (127.0.0.1) 556.52ms\n",
            "WARNING:tornado.access:429 POST /v1beta/models/gemini-2.0-flash:generateContent?%24alt=json%3Benum-encoding%3Dint (127.0.0.1) 556.25ms\n",
            "WARNING:tornado.access:429 POST /v1beta/models/gemini-2.0-flash:generateContent?%24alt=json%3Benum-encoding%3Dint (127.0.0.1) 556.88ms\n"
          ]
        },
        {
          "output_type": "stream",
          "name": "stdout",
          "text": [
            "reasoning: The comment expresses a negative sentiment towards the idea of boundaries in trash talk, implying that Conor's actions were not as egregious as some might believe.\n",
            "label: negative\n",
            "reasoning: The comment expresses a positive sentiment towards Conor McGregor by highlighting his respectful behavior after fights and questioning Khabib's reaction.\n",
            "label: positive\n",
            "reasoning: The comment expresses a negative sentiment towards Conor McGregor, suggesting he received preferential treatment compared to John Jones for similar actions during the fight. It implies unfairness and bias in favor of McGregor.\n",
            "label: negative\n",
            "reasoning: The comment expresses relief that the submission did not receive downvotes, implying that the commenter's own similar comment did. This suggests a shared sentiment with the submission, which is a defense of Conor McGregor. The comment does not express a positive or negative sentiment towards the fight itself, but rather towards the reception of opinions about it.\n",
            "label: neutral\n",
            "reasoning: The comment disagrees with the parent comment's assertion that McGregor always showed respect after winning or losing. It cites an example of McGregor's behavior after beating Nate Diaz as evidence against this claim. The comment also suggests that McGregor should have known the consequences of provoking Khabib. Overall, the comment expresses a negative sentiment towards McGregor's behavior and actions.\n",
            "label: negative\n",
            "reasoning: The comment questions the previous comment's assertion that McGregor is not the same person he was two years ago, suggesting that people change over time and that money can influence behavior. It implies that the commenter is not necessarily critical of McGregor's behavior, but rather acknowledges the potential for change and the influence of wealth.\n",
            "label: neutral\n",
            "reasoning: The comment expresses a negative sentiment towards Conor due to his trash-talking behavior. The commenter states they would have respected him more if he wasn't a \"shit talker\" and criticizes the excuse that it was just for \"press and hype.\"\n",
            "label: negative\n",
            "reasoning: The comment expresses agreement with the parent comment's point about money changing people. The humorous anecdote further reinforces this agreement, suggesting a negative view of how money can affect behavior.\n",
            "label: positive\n",
            "reasoning: The comment is critical of the argument that Conor's trash talk is just for press and hype, comparing it to the \"It's just a prank bro\" excuse. This implies a negative sentiment towards Conor's actions and the justification provided in the original post.\n",
            "label: negative\n",
            "reasoning: The comment defends Conor McGregor's post-fight behavior, stating it wasn't that bad and referencing Nate Diaz. It also claims McGregor always had good words for his opponents after the \"business\" was done. The comment also defends Conor's actions by stating that the fight took place in the USA, not Dagestan, and that physical violence is where one crosses the line. Overall, the comment is supportive of Conor and critical of the criticism he's receiving.\n",
            "label: positive\n",
            "reasoning: The comment expresses a negative sentiment towards Conor McGregor, stating that he cheated during the fight and that the referee did not adequately address the cheating.\n",
            "label: negative\n",
            "reasoning: The comment refers to an incident in the fight where Conor's toes were between the fencing. The commenter is pointing out that the referee gave a warning. This is a negative sentiment towards Conor's actions in the fight.\n",
            "label: negative\n",
            "reasoning: The comment expresses a negative sentiment towards Conor McGregor, stating that even if money changes people, it doesn't excuse his behavior and that he deserves the criticism he receives.\n",
            "label: negative\n",
            "reasoning: The comment expresses a negative sentiment towards someone who deletes their comments, calling them a coward and a \"pussy.\" This is a derogatory and insulting statement.\n",
            "label: negative\n",
            "reasoning: The comment is aggressive and uses insults (\"pussy move,\" \"short bus special\"). It's directed at another user and expresses frustration.\n",
            "label: negative\n",
            "reasoning: The comment is questioning the deletion of comments and making a joke about a \"special bus,\" which doesn't directly express a positive or negative sentiment towards the fight or the fighters.\n",
            "label: neutral\n"
          ]
        },
        {
          "output_type": "stream",
          "name": "stderr",
          "text": [
            "WARNING:tornado.access:429 POST /v1beta/models/gemini-2.0-flash:generateContent?%24alt=json%3Benum-encoding%3Dint (127.0.0.1) 555.54ms\n",
            "WARNING:tornado.access:429 POST /v1beta/models/gemini-2.0-flash:generateContent?%24alt=json%3Benum-encoding%3Dint (127.0.0.1) 582.72ms\n",
            "WARNING:tornado.access:429 POST /v1beta/models/gemini-2.0-flash:generateContent?%24alt=json%3Benum-encoding%3Dint (127.0.0.1) 557.61ms\n",
            "WARNING:tornado.access:429 POST /v1beta/models/gemini-2.0-flash:generateContent?%24alt=json%3Benum-encoding%3Dint (127.0.0.1) 556.75ms\n",
            "WARNING:tornado.access:429 POST /v1beta/models/gemini-2.0-flash:generateContent?%24alt=json%3Benum-encoding%3Dint (127.0.0.1) 556.52ms\n",
            "WARNING:tornado.access:429 POST /v1beta/models/gemini-2.0-flash:generateContent?%24alt=json%3Benum-encoding%3Dint (127.0.0.1) 557.35ms\n"
          ]
        },
        {
          "output_type": "stream",
          "name": "stdout",
          "text": [
            "reasoning: The comment is directly insulting and condescending towards the original poster, using phrases like \"smug,\" \"stupid,\" and comparing them to a \"3 legged hop around not knowing better.\" This is clearly negative and does not express any positive or neutral sentiment towards the fight or the original post.\n",
            "label: negative\n",
            "reasoning: The comment is directly attacking the original poster, calling them names and accusing them of deleting comments. This is a clear expression of negativity and hostility.\n",
            "label: negative\n",
            "reasoning: The comment is a direct insult, calling someone a \"pussy,\" which is a derogatory term. This expresses a negative sentiment towards the person being addressed.\n",
            "label: negative\n",
            "reasoning: The comment is a direct insult, implying the person is mentally deficient. This is a negative sentiment.\n",
            "label: negative\n",
            "reasoning: The comment is negative towards Conor, referencing the bus incident in a derogatory way.\n",
            "label: negative\n",
            "reasoning: The comment is insulting and dismissive, using derogatory language (\"short bus\") to attack the original poster's communication skills. This expresses a negative sentiment.\n",
            "label: negative\n",
            "reasoning: The comment refers to the \"stern silent warning\" mentioned in the parent comment, which is about Conor cheating during the fight. The commenter is being sarcastic about the warning being \"veryyy stern,\" implying it was not stern enough. This suggests a negative sentiment towards Conor's actions and the referee's handling of the situation.\n",
            "label: negative\n",
            "reasoning: The comment expresses understanding and perhaps even sympathy for Conor's actions, suggesting a positive sentiment towards him in the context of the fight.\n",
            "label: positive\n",
            "reasoning: The comment expresses a negative sentiment towards Conor McGregor. It contrasts him unfavorably with Rob Whittaker, criticizing his behavior and suggesting he is no longer a relevant fighter. It also criticizes Conor for crossing the line in his pre-fight promotion and letting money rule him.\n",
            "label: negative\n",
            "reasoning: The comment dismisses the original poster as a \"casual\" and refuses to engage in debate. This is a negative sentiment towards the original poster and their views on the fight.\n",
            "label: negative\n",
            "reasoning: The comment is insulting and dismissive towards the person they are replying to. The commenter uses insults like \"dumbass\" and implies the person is ignorant about the subject. This indicates a negative sentiment.\n",
            "label: negative\n",
            "reasoning: The comment \"Bait\" is a short, dismissive response that suggests the original post is intentionally provocative and designed to elicit strong reactions. It doesn't express a positive, negative, or neutral sentiment towards the fight itself, but rather comments on the nature of the post.\n",
            "label: neutral\n",
            "reasoning: The comment is mocking Conor McGregor and praising Dustin Poirier (the real estate agent) for lasting longer against Khabib than Conor did. This expresses a negative sentiment towards Conor and, by extension, a positive sentiment towards Khabib in comparison to Conor.\n",
            "label: positive\n",
            "reasoning: The comment is sarcastic and dismissive of the original poster's opinion. It doesn't directly express a positive or negative sentiment towards the fight itself, but rather mocks the poster's writing ability.\n",
            "label: negative\n",
            "reasoning: The comment expresses a negative sentiment towards Conor McGregor and his fans, implying they are not serious or dedicated followers of MMA.\n",
            "label: negative\n",
            "reasoning: The comment expresses confusion and disinterest in a reference made in the parent comment. It doesn't express a positive or negative sentiment towards the fight itself, but rather a neutral reaction to the conversation.\n",
            "label: neutral\n"
          ]
        },
        {
          "output_type": "stream",
          "name": "stderr",
          "text": [
            "WARNING:tornado.access:429 POST /v1beta/models/gemini-2.0-flash:generateContent?%24alt=json%3Benum-encoding%3Dint (127.0.0.1) 558.08ms\n",
            "WARNING:tornado.access:429 POST /v1beta/models/gemini-2.0-flash:generateContent?%24alt=json%3Benum-encoding%3Dint (127.0.0.1) 557.11ms\n",
            "WARNING:tornado.access:429 POST /v1beta/models/gemini-2.0-flash:generateContent?%24alt=json%3Benum-encoding%3Dint (127.0.0.1) 557.27ms\n",
            "WARNING:tornado.access:429 POST /v1beta/models/gemini-2.0-flash:generateContent?%24alt=json%3Benum-encoding%3Dint (127.0.0.1) 557.83ms\n",
            "WARNING:tornado.access:429 POST /v1beta/models/gemini-2.0-flash:generateContent?%24alt=json%3Benum-encoding%3Dint (127.0.0.1) 556.98ms\n",
            "WARNING:tornado.access:429 POST /v1beta/models/gemini-2.0-flash:generateContent?%24alt=json%3Benum-encoding%3Dint (127.0.0.1) 557.97ms\n",
            "WARNING:tornado.access:429 POST /v1beta/models/gemini-2.0-flash:generateContent?%24alt=json%3Benum-encoding%3Dint (127.0.0.1) 557.06ms\n"
          ]
        },
        {
          "output_type": "stream",
          "name": "stdout",
          "text": [
            "reasoning: The comment focuses on Conor tapping out, which is generally seen as a negative outcome for a fighter. The simile \"like chicken\" further emphasizes the negative sentiment towards Conor's performance.\n",
            "label: negative\n",
            "reasoning: The comment questions the original poster's understanding of the fight, implying they are posting negatively without proper knowledge. This suggests a negative sentiment towards the original post.\n",
            "label: negative\n",
            "reasoning: The comment is insulting and does not offer constructive criticism, directly violating the submission's request. The comment is also negative towards the original post.\n",
            "label: negative\n",
            "reasoning: The comment acknowledges Khabib's win but also points out that he lost a round, suggesting a mixed or neutral sentiment towards the fight's outcome.\n",
            "label: neutral\n",
            "reasoning: The comment is dismissive and condescending towards the original poster, implying they are ignorant about MMA beyond Conor McGregor. This is a negative sentiment.\n",
            "label: negative\n",
            "reasoning: The comment is an insult, which the submission explicitly stated would result in a block. This indicates a negative sentiment towards the submission and, by extension, the fight.\n",
            "label: negative\n",
            "reasoning: The comment is a direct response to the parent comment, using an insult and sarcasm to express disagreement with the parent comment's implication that the commenter didn't watch the fight. This shows a negative sentiment towards the fight and the parent comment.\n",
            "label: negative\n",
            "reasoning: The comment directly contradicts the submission's argument and uses harsh language (\"bullshit\"), indicating a negative sentiment towards the submission's claims about Khabib's win.\n",
            "label: negative\n",
            "reasoning: The comment is insulting and aggressive, directed at the person who made the original post. It doesn't express any sentiment towards the fight itself, but rather attacks the commenter.\n",
            "label: negative\n",
            "reasoning: The comment is insulting and doesn't provide any constructive criticism, as the original poster requested. It is directed at another user and uses derogatory language.\n",
            "label: negative\n",
            "reasoning: The comment expresses sarcasm in response to the submission author's threat to block anyone who insults him. The commenter is not expressing sentiment towards the fight itself, but rather towards the author's statement.\n",
            "label: neutral\n",
            "reasoning: The comment is an insult directed at the original poster, using derogatory terms. It does not express any sentiment towards the fight itself, but is purely negative and aggressive.\n",
            "label: negative\n",
            "reasoning: The comment accuses the original poster of trolling, which is a negative assessment of their post.\n",
            "label: negative\n",
            "reasoning: The comment is an insult directed at the original poster, telling them to \"stop sucking dick.\" This is a clear negative sentiment and does not offer constructive criticism.\n",
            "label: negative\n",
            "reasoning: The comment is critical of the original post's assessment of the fight, stating that the poster doesn't seem to know much about the rounds and suggesting they rewatch the fight and look at the fight stats, which are in Khabib's favor. This suggests a disagreement with the original post's negative sentiment towards Khabib's win.\n",
            "label: positive\n",
            "reasoning: The comment is criticizing the post history of the original poster, calling it \"pathetic\" and noting that it's mostly swearing at people. This is a negative statement about the poster, not directly about the fight itself, but it is still a negative sentiment.\n",
            "label: negative\n",
            "reasoning: The comment is insulting and aggressive, directly responding to the previous comment's accusation of swearing at people. It uses derogatory terms (\"inbred retards\") and is clearly negative in tone.\n",
            "label: negative\n",
            "reasoning: The comment is advising to ignore the original poster because they were \"talking shit\" yesterday. This is a negative sentiment towards the original poster, but neutral towards the fight itself.\n",
            "label: neutral\n",
            "reasoning: The comment is dismissive of the original poster and references their previous behavior, indicating a negative sentiment towards the poster and their views on the fight.\n",
            "label: negative\n",
            "reasoning: The comment expresses disagreement with the previous comment's assessment of Khabib's dominance, pointing out that losing a round contradicts the idea of complete dominance. The comment uses insults and dismissive language, indicating a negative sentiment towards the previous comment and, by extension, potentially towards Khabib's performance in the fight.\n",
            "label: negative\n",
            "reasoning: The comment is a direct response to the submission, disagreeing with the original poster's negative assessment of Khabib's win. It defends Khabib's performance, highlighting his dominance in various aspects of the fight and explaining the nuances of MMA. The commenter encourages the original poster to watch more MMA and avoid bias.\n",
            "label: positive\n",
            "reasoning: The comment is sarcastic and critical of Khabib's performance, suggesting that the linked post summarizes the rounds where Khabib performed well, implying he didn't perform well in round 3. This aligns with the negative sentiment expressed in the original post.\n",
            "label: negative\n",
            "reasoning: The comment is insulting and dismissive, suggesting the person only speaks \"shit,\" which is a negative and derogatory statement. This contributes to a negative sentiment towards the fight and the person being discussed.\n",
            "label: negative\n",
            "reasoning: The comment is dismissive and mocking of the original poster's opinion, implying they lack knowledge or experience (\"do you even trane bruh?\"). This is a negative sentiment towards the original post and, by extension, potentially towards Khabib's win if the commenter is disagreeing with the OP's negative assessment.\n",
            "label: negative\n"
          ]
        },
        {
          "output_type": "stream",
          "name": "stderr",
          "text": [
            "WARNING:tornado.access:429 POST /v1beta/models/gemini-2.0-flash:generateContent?%24alt=json%3Benum-encoding%3Dint (127.0.0.1) 582.81ms\n"
          ]
        },
        {
          "output_type": "stream",
          "name": "stdout",
          "text": [
            "reasoning: The comment is directed at the original poster and expresses a negative sentiment towards them, suggesting they are unpleasant in real life. It also offers a condescendingly positive sentiment, implying the poster needs to improve their life.\n",
            "label: negative\n"
          ]
        },
        {
          "output_type": "stream",
          "name": "stderr",
          "text": [
            "WARNING:tornado.access:429 POST /v1beta/models/gemini-2.0-flash:generateContent?%24alt=json%3Benum-encoding%3Dint (127.0.0.1) 558.92ms\n",
            "WARNING:tornado.access:429 POST /v1beta/models/gemini-2.0-flash:generateContent?%24alt=json%3Benum-encoding%3Dint (127.0.0.1) 557.26ms\n",
            "WARNING:tornado.access:429 POST /v1beta/models/gemini-2.0-flash:generateContent?%24alt=json%3Benum-encoding%3Dint (127.0.0.1) 582.93ms\n",
            "WARNING:tornado.access:429 POST /v1beta/models/gemini-2.0-flash:generateContent?%24alt=json%3Benum-encoding%3Dint (127.0.0.1) 936.24ms\n",
            "WARNING:tornado.access:429 POST /v1beta/models/gemini-2.0-flash:generateContent?%24alt=json%3Benum-encoding%3Dint (127.0.0.1) 557.00ms\n",
            "WARNING:tornado.access:429 POST /v1beta/models/gemini-2.0-flash:generateContent?%24alt=json%3Benum-encoding%3Dint (127.0.0.1) 556.81ms\n",
            "WARNING:tornado.access:429 POST /v1beta/models/gemini-2.0-flash:generateContent?%24alt=json%3Benum-encoding%3Dint (127.0.0.1) 556.76ms\n"
          ]
        },
        {
          "output_type": "stream",
          "name": "stdout",
          "text": [
            "reasoning: The comment \"This casual again lol\" is dismissive and condescending towards the original poster, implying they are not knowledgeable about MMA. This is a negative sentiment.\n",
            "label: negative\n",
            "reasoning: The comment is arguing against the previous comment's assessment of the fight, specifically disagreeing with the idea that Khabib \"mauled\" Conor and dominated the fight. The commenter uses strong language (\"You so incompetent,\" \"Everything you said I've addressed and proved wrong\") and directly contradicts the previous comment's points. This indicates a negative sentiment towards the previous comment's view of the fight and, by extension, a negative sentiment towards Khabib's performance being as dominant as portrayed.\n",
            "label: negative\n",
            "reasoning: The comment expresses gratitude for the previous poster's explanation, indicating a positive sentiment towards their contribution to the discussion.\n",
            "label: positive\n",
            "reasoning: The comment is highly aggressive and insulting, directly attacking the original poster and defending McGregor. It uses derogatory language (\"retard,\" \"lowlife\") and expresses strong negative sentiment towards the original poster's views on the fight.\n",
            "label: negative\n",
            "reasoning: The comment is responding to the original poster (OP) with a condescending tone (\"Obviously you don't if you had to ask lol.\") and includes an insult (\"Cuck\"). This indicates a negative sentiment towards the OP and their understanding of the fight.\n",
            "label: negative\n",
            "reasoning: The comment is condescending and insulting, using terms like \"kiddo\" and \"retards.\" It expresses a negative sentiment towards the person being addressed.\n",
            "label: negative\n",
            "reasoning: The comment is sarcastic and uses vulgar language to express a negative opinion about someone's support for Khabib. It is clearly intended as an insult and is not constructive.\n",
            "label: negative\n",
            "reasoning: The comment is sarcastic and dismissive of the previous comment's point, implying that the video is not good but can still be used for sexual gratification. This is a negative sentiment towards the video and, by extension, the person who posted it.\n",
            "label: negative\n",
            "reasoning: The comment is sarcastic and insulting, directly contradicting the request for constructive criticism. It expresses a negative sentiment towards the original post and its author.\n",
            "label: negative\n",
            "reasoning: The comment is an insult directed at the original poster, with no constructive criticism or engagement with the points raised about the fight.\n",
            "label: negative\n",
            "reasoning: The comment is clearly negative and insulting, using vulgar language and imagery to express disdain. It does not offer any constructive criticism or analysis of the fight itself.\n",
            "label: negative\n",
            "reasoning: The comment is an obvious insult and does not provide any constructive criticism. The submission explicitly states that the author will block anyone who comments with just an insult.\n",
            "label: negative\n",
            "reasoning: The comment is a sarcastic response to the previous comment \"You're 12\". It does not express any sentiment towards the fight itself.\n",
            "label: neutral\n",
            "reasoning: The comment is clearly negative and insulting towards the original poster. It uses dismissive language (\"STFU kid\") and implies the original poster is out of their depth.\n",
            "label: negative\n",
            "reasoning: The comment is insulting and aggressive, using terms like \"cuck\" and accusing the person of stealing insults. This indicates a negative sentiment.\n",
            "label: negative\n",
            "reasoning: The comment is a sarcastic response to the original post, likely intended as an insult or mockery of the OP's perceived immaturity or tone. It doesn't express a direct opinion on the fight itself, but rather targets the OP's character or argument.\n",
            "label: negative\n"
          ]
        },
        {
          "output_type": "stream",
          "name": "stderr",
          "text": [
            "WARNING:tornado.access:429 POST /v1beta/models/gemini-2.0-flash:generateContent?%24alt=json%3Benum-encoding%3Dint (127.0.0.1) 582.13ms\n",
            "WARNING:tornado.access:429 POST /v1beta/models/gemini-2.0-flash:generateContent?%24alt=json%3Benum-encoding%3Dint (127.0.0.1) 557.92ms\n",
            "WARNING:tornado.access:429 POST /v1beta/models/gemini-2.0-flash:generateContent?%24alt=json%3Benum-encoding%3Dint (127.0.0.1) 557.15ms\n",
            "WARNING:tornado.access:429 POST /v1beta/models/gemini-2.0-flash:generateContent?%24alt=json%3Benum-encoding%3Dint (127.0.0.1) 557.22ms\n",
            "WARNING:tornado.access:429 POST /v1beta/models/gemini-2.0-flash:generateContent?%24alt=json%3Benum-encoding%3Dint (127.0.0.1) 557.20ms\n",
            "WARNING:tornado.access:429 POST /v1beta/models/gemini-2.0-flash:generateContent?%24alt=json%3Benum-encoding%3Dint (127.0.0.1) 557.41ms\n",
            "WARNING:tornado.access:429 POST /v1beta/models/gemini-2.0-flash:generateContent?%24alt=json%3Benum-encoding%3Dint (127.0.0.1) 556.35ms\n",
            "WARNING:tornado.access:429 POST /v1beta/models/gemini-2.0-flash:generateContent?%24alt=json%3Benum-encoding%3Dint (127.0.0.1) 556.27ms\n"
          ]
        },
        {
          "output_type": "stream",
          "name": "stdout",
          "text": [
            "reasoning: The comment \"You definitely do. You said it before.\" is a response to the submission. The submission expresses a negative sentiment towards Khabib's win, criticizing his performance and questioning his greatness. The comment acknowledges that the user has expressed this sentiment before, implying agreement or recognition of the user's negative view.\n",
            "label: negative\n",
            "reasoning: The comment is insulting and dismissive, referring to someone as a \"loser.\" This indicates a negative sentiment.\n",
            "label: negative\n",
            "reasoning: The comment is a jab at the previous commenter's intelligence, implying they are not knowledgeable about MMA and had to spell check the acronym. This is not directly related to the fight itself, but rather a personal attack.\n",
            "label: negative\n",
            "reasoning: The comment is insulting and condescending towards the original poster, suggesting they are immature and unintelligent. This expresses a negative sentiment towards the original poster and their views on the fight.\n",
            "label: negative\n",
            "reasoning: The comment is clearly negative towards Conor McGregor, referring to him as \"chicken\" and stating he got \"smeshed.\" It also expresses hope for Tony Ferguson to defeat McGregor.\n",
            "label: negative\n",
            "reasoning: The comment is sarcastic and dismissive of the previous commenter's points. It implies the previous commenter is fabricating information. This is a negative sentiment towards the previous commenter's argument.\n",
            "label: negative\n",
            "reasoning: The comment \"GR8 B8 M8\" is a dismissive response, suggesting the original post is intentionally provocative or misleading (\"bait\"). It doesn't express a positive, negative, or neutral sentiment towards the fight itself, but rather criticizes the original poster's intent.\n",
            "label: neutral\n",
            "reasoning: The comment is filled with insults and derogatory terms directed at the person they are responding to. This indicates a negative sentiment.\n",
            "label: negative\n",
            "reasoning: The comment is a sarcastic response to the original post, implying the author is being childish or immature. It doesn't express a direct sentiment towards the fight itself, but rather mocks the original poster's opinion.\n",
            "label: neutral\n",
            "reasoning: The comment is an insult directed at the person they are replying to. It is not related to the fight itself, but rather a personal attack.\n",
            "label: negative\n",
            "reasoning: The comment is a non-sequitur and doesn't express any sentiment towards the fight itself. It's likely a random comment or an attempt at humor that doesn't relate to the discussion.\n",
            "label: neutral\n",
            "reasoning: The comment is sarcastic and dismissive towards the parent comment, implying the parent commenter is ignorant about the fight. It uses a mocking tone and a laughing emoji.\n",
            "label: negative\n",
            "reasoning: The comment acknowledges the submission as \"bait\" and a \"troll\" but also finds it \"kind of fun\". This suggests a neutral sentiment towards the fight itself, as the comment is more about the poster than the fight.\n",
            "label: neutral\n",
            "reasoning: The comment is sarcastic and mocking the original poster's detailed description of the fight, implying they are exaggerating their knowledge. It doesn't express a positive or negative sentiment towards the fight itself, but rather towards the original poster's analysis.\n",
            "label: neutral\n",
            "reasoning: The comment is mocking the original poster (OP) for their opinion on the fight and calling them a troll. It also implies that the OP is wrong about Khabib's stamina.\n",
            "label: negative\n"
          ]
        },
        {
          "output_type": "stream",
          "name": "stderr",
          "text": [
            "WARNING:tornado.access:429 POST /v1beta/models/gemini-2.0-flash:generateContent?%24alt=json%3Benum-encoding%3Dint (127.0.0.1) 582.53ms\n",
            "WARNING:tornado.access:429 POST /v1beta/models/gemini-2.0-flash:generateContent?%24alt=json%3Benum-encoding%3Dint (127.0.0.1) 582.48ms\n"
          ]
        },
        {
          "output_type": "stream",
          "name": "stdout",
          "text": [
            "reasoning: The comment \"Bait\" suggests that the original post is intentionally provocative and designed to elicit a strong reaction. This implies a negative sentiment towards the original post and the fight itself, as it questions the validity and intent behind the discussion.\n",
            "label: negative\n",
            "reasoning: The comment is a direct insult and does not provide constructive criticism, as requested by the original poster. It uses a derogatory term (\"Faggot\") and is therefore negative.\n",
            "label: negative\n"
          ]
        },
        {
          "output_type": "stream",
          "name": "stderr",
          "text": [
            "WARNING:tornado.access:429 POST /v1beta/models/gemini-2.0-flash:generateContent?%24alt=json%3Benum-encoding%3Dint (127.0.0.1) 557.28ms\n",
            "WARNING:tornado.access:429 POST /v1beta/models/gemini-2.0-flash:generateContent?%24alt=json%3Benum-encoding%3Dint (127.0.0.1) 557.13ms\n",
            "WARNING:tornado.access:429 POST /v1beta/models/gemini-2.0-flash:generateContent?%24alt=json%3Benum-encoding%3Dint (127.0.0.1) 557.37ms\n",
            "WARNING:tornado.access:429 POST /v1beta/models/gemini-2.0-flash:generateContent?%24alt=json%3Benum-encoding%3Dint (127.0.0.1) 556.38ms\n"
          ]
        },
        {
          "output_type": "stream",
          "name": "stdout",
          "text": [
            "reasoning: The comment is highly negative and insulting towards the person they are replying to, using derogatory language and expressing disdain for Khabib.\n",
            "label: negative\n",
            "reasoning: The comment is highly insulting and uses sexually suggestive language to demean Khabib's win. It expresses a negative sentiment towards Khabib and his fans.\n",
            "label: negative\n",
            "reasoning: The comment is sarcastic and dismissive of the original poster (OP), implying they are just a \"keyboard warrior\" rather than someone with real fighting experience. This is a negative sentiment towards the OP's views on the fight.\n",
            "label: negative\n",
            "reasoning: The comment is insulting and homophobic, directed at the person they are replying to. It does not express sentiment towards the fight itself.\n",
            "label: negative\n",
            "reasoning: The comment is an insult directed at someone who supports Khabib. It uses derogatory language and expresses strong negativity.\n",
            "label: negative\n",
            "reasoning: The comment is sarcastic and condescending towards the original poster. It implies the original poster is not intelligent and is being mocked for their opinion.\n",
            "label: negative\n",
            "reasoning: The comment is clearly negative towards the original poster's opinion on Khabib's win. It uses insulting language (\"salty,\" \"boi got fooked\") and dismisses the original poster's points.\n",
            "label: negative\n",
            "reasoning: The comment is insulting and continues the negative tone of the thread. It does not express a positive or neutral sentiment towards the fight.\n",
            "label: negative\n",
            "reasoning: The comment is insulting and dismissive towards the original poster, suggesting bias towards Khabib. This indicates a negative sentiment towards the original post and, by extension, the points made about Khabib's performance.\n",
            "label: negative\n",
            "reasoning: The comment is dismissive and insulting towards the original poster, suggesting they are ignorant about MMA. This is a negative sentiment towards the original poster and their opinion on the fight.\n",
            "label: negative\n",
            "reasoning: The comment is a direct insult and personal attack, unrelated to the fight itself. It is negative and aggressive.\n",
            "label: negative\n",
            "reasoning: The comment expresses a strong opinion that Khabib dominated Conor, directly contradicting the submission's argument that Khabib's win was not impressive. This is a positive sentiment towards Khabib's performance in the fight.\n",
            "label: positive\n",
            "reasoning: The comment is mocking the previous commenter's comebacks, implying they are repetitive and weak, like a simple left jab. This is a negative sentiment towards the commenter.\n",
            "label: negative\n",
            "reasoning: The comment \"And over\" is a short, dismissive statement that implies the fight is finished and the discussion is pointless. Given the context of the submission, which is critical of Khabib's win, this comment likely expresses a negative sentiment towards Khabib's performance and the overall outcome of the fight.\n",
            "label: negative\n",
            "reasoning: The comment \"And over\" is a short, dismissive statement that implies the fight is finished and the discussion is pointless. Given the context of the submission, which is critical of Khabib's win, this comment likely expresses a negative sentiment towards Khabib's performance and the overall outcome of the fight.\n",
            "label: negative\n"
          ]
        },
        {
          "output_type": "stream",
          "name": "stderr",
          "text": [
            "WARNING:tornado.access:429 POST /v1beta/models/gemini-2.0-flash:generateContent?%24alt=json%3Benum-encoding%3Dint (127.0.0.1) 557.29ms\n"
          ]
        },
        {
          "output_type": "stream",
          "name": "stdout",
          "text": [
            "reasoning: The comment \"And over\" is a short, dismissive statement that implies the fight is finished and the discussion is pointless. Given the context of the submission, which is critical of Khabib's win, this comment likely expresses a negative sentiment towards Khabib's performance and the overall outcome of the fight.\n",
            "label: negative\n",
            "reasoning: The comment \"And over\" is a short, dismissive statement that implies the fight is finished and the discussion is pointless. Given the context of the submission, which is critical of Khabib's win, this comment likely expresses a negative sentiment towards Khabib's performance and the overall outcome of the fight.\n",
            "label: negative\n"
          ]
        },
        {
          "output_type": "stream",
          "name": "stderr",
          "text": [
            "WARNING:tornado.access:429 POST /v1beta/models/gemini-2.0-flash:generateContent?%24alt=json%3Benum-encoding%3Dint (127.0.0.1) 586.92ms\n",
            "WARNING:tornado.access:429 POST /v1beta/models/gemini-2.0-flash:generateContent?%24alt=json%3Benum-encoding%3Dint (127.0.0.1) 582.36ms\n",
            "WARNING:tornado.access:429 POST /v1beta/models/gemini-2.0-flash:generateContent?%24alt=json%3Benum-encoding%3Dint (127.0.0.1) 557.19ms\n",
            "WARNING:tornado.access:429 POST /v1beta/models/gemini-2.0-flash:generateContent?%24alt=json%3Benum-encoding%3Dint (127.0.0.1) 557.26ms\n",
            "WARNING:tornado.access:429 POST /v1beta/models/gemini-2.0-flash:generateContent?%24alt=json%3Benum-encoding%3Dint (127.0.0.1) 556.42ms\n",
            "WARNING:tornado.access:429 POST /v1beta/models/gemini-2.0-flash:generateContent?%24alt=json%3Benum-encoding%3Dint (127.0.0.1) 556.84ms\n",
            "WARNING:tornado.access:429 POST /v1beta/models/gemini-2.0-flash:generateContent?%24alt=json%3Benum-encoding%3Dint (127.0.0.1) 557.19ms\n",
            "WARNING:tornado.access:429 POST /v1beta/models/gemini-2.0-flash:generateContent?%24alt=json%3Benum-encoding%3Dint (127.0.0.1) 556.81ms\n"
          ]
        },
        {
          "output_type": "stream",
          "name": "stdout",
          "text": [
            "reasoning: The comment \"And over again\" is vague and doesn't express a clear sentiment towards the fight or the submission. It could be interpreted in multiple ways, but without further context, it's best classified as neutral.\n",
            "label: neutral\n",
            "reasoning: The comment criticizes the previous commenter's repeated use of homosexual-related insults, suggesting they are predictable and ineffective. This is a negative sentiment towards the commenter's behavior, not necessarily the fight itself.\n",
            "label: negative\n",
            "reasoning: The comment is insulting and dismissive of the original poster's opinion, calling them a \"khabib cockroach.\" This is a clear indication of negativity towards the original poster and, by extension, the points they made about the fight.\n",
            "label: negative\n",
            "reasoning: The comment is highly offensive and uses derogatory language. It does not express any sentiment towards the fight itself, but rather attacks the people he is speaking to.\n",
            "label: negative\n",
            "reasoning: The comment is a direct, negative response to an unseen commenter, likely perceived as disagreeing with the original post. The language used (\"dick rider\") is derogatory and confrontational, indicating a negative sentiment.\n",
            "label: negative\n",
            "reasoning: The comment is insulting and dismissive towards the original poster, using derogatory terms like \"ubereats peasant.\" It does not express any sentiment towards the fight itself, but is clearly negative in tone.\n",
            "label: negative\n",
            "reasoning: The comment is a direct insult and personal attack, using derogatory language. It does not express any sentiment towards the fight itself, but rather targets the person being replied to.\n",
            "label: negative\n",
            "reasoning: The comment is an insult directed at the person they are responding to. It is not related to the fight itself, but rather a personal attack.\n",
            "label: negative\n",
            "reasoning: The comment is an insult directed at the original poster, likely in response to their critical assessment of Khabib's performance. It doesn't express a positive, negative, or neutral sentiment towards the fight itself, but rather aims to demean the commenter.\n",
            "label: negative\n",
            "reasoning: The comment is a response to a previous insult and continues the negative exchange. It expresses a condescending tone and implies the other person lacks intelligence.\n",
            "label: negative\n",
            "reasoning: The comment \"Good luck with puberty\" is a sarcastic and condescending remark, likely intended as an insult. It doesn't express a positive or neutral sentiment towards the fight or Khabib's win.\n",
            "label: negative\n",
            "reasoning: The comment is insulting and condescending, mocking the person's financial status. It uses derogatory language (\"poor cuck\"). This is a negative sentiment.\n",
            "label: negative\n",
            "reasoning: The comment is an insult directed at people who support Khabib. It does not express a positive, negative, or neutral sentiment towards the fight itself, but rather attacks people who support one of the fighters.\n",
            "label: negative\n",
            "reasoning: The comment is supportive of the original poster's opinion and encourages them.\n",
            "label: positive\n",
            "reasoning: The comment is insulting and demeaning, using derogatory language and mocking someone's perceived financial situation and lifestyle. It is clearly negative in tone.\n",
            "label: negative\n",
            "reasoning: The comment is aggressive and insulting, focusing on personal attacks rather than the fight itself. It references a previous argument and uses derogatory language.\n",
            "label: negative\n"
          ]
        },
        {
          "output_type": "stream",
          "name": "stderr",
          "text": [
            "WARNING:tornado.access:429 POST /v1beta/models/gemini-2.0-flash:generateContent?%24alt=json%3Benum-encoding%3Dint (127.0.0.1) 581.50ms\n",
            "WARNING:tornado.access:429 POST /v1beta/models/gemini-2.0-flash:generateContent?%24alt=json%3Benum-encoding%3Dint (127.0.0.1) 581.84ms\n",
            "WARNING:tornado.access:429 POST /v1beta/models/gemini-2.0-flash:generateContent?%24alt=json%3Benum-encoding%3Dint (127.0.0.1) 581.86ms\n",
            "WARNING:tornado.access:429 POST /v1beta/models/gemini-2.0-flash:generateContent?%24alt=json%3Benum-encoding%3Dint (127.0.0.1) 582.38ms\n",
            "WARNING:tornado.access:429 POST /v1beta/models/gemini-2.0-flash:generateContent?%24alt=json%3Benum-encoding%3Dint (127.0.0.1) 582.88ms\n"
          ]
        },
        {
          "output_type": "stream",
          "name": "stdout",
          "text": [
            "reasoning: The comment is highly offensive and uses derogatory language. It is clearly intended as an insult and expresses a negative sentiment towards the person being addressed.\n",
            "label: negative\n",
            "reasoning: The comment is extremely insulting and uses derogatory language. It is clearly intended to be negative and offensive towards the person being addressed.\n",
            "label: negative\n",
            "reasoning: The comment \"Goodnight sweet pea\" is a polite way to end a conversation, but it also carries a slightly condescending tone, especially given the context of the preceding argument. However, it doesn't express a strong positive or negative sentiment towards the fight itself.\n",
            "label: neutral\n",
            "reasoning: The comment is sarcastic and mocking, likely directed at the original poster's perceived naivety or defensiveness. It doesn't express a direct sentiment about the fight itself, but rather a negative sentiment towards the poster.\n",
            "label: negative\n",
            "reasoning: The comment is a direct insult and does not offer any constructive criticism. It is a negative statement directed at the original poster.\n",
            "label: negative\n",
            "reasoning: The comment is mocking the original poster for being upset about Conor McGregor's loss. It uses derogatory language and celebrates Khabib's victory in a disrespectful manner.\n",
            "label: negative\n",
            "reasoning: The comment is highly offensive and uses derogatory language (\"fag,\" \"cuck\"). It is aggressive and insulting, expressing a negative sentiment.\n",
            "label: negative\n",
            "reasoning: The comment expresses amusement at the perceived reactions of Khabib fans and accuses them of being unoriginal and mutually supportive (\"dick ride each other\"). While it uses derogatory language, the overall sentiment towards the fight and Khabib's win remains negative.\n",
            "label: negative\n",
            "reasoning: The comment is sarcastic and critical of the original poster's repeated arguments. It doesn't express a positive or negative sentiment towards either fighter, but rather mocks the commenter.\n",
            "label: neutral\n",
            "reasoning: The comment describes the fight as \"total domination and one sidedness,\" which suggests a negative sentiment towards one of the fighters. Given the context of the submission, which is critical of Khabib's win, this comment likely supports that view, implying the domination was in favor of Conor.\n",
            "label: negative\n",
            "reasoning: The comment expresses a neutral stance towards both fighters, focusing on the dynamics of the fight and Conor's situation. It acknowledges Khabib's win but also discusses factors that might have influenced Conor's performance, such as his absence and motivation. The comment also touches on the business aspect of Conor's involvement in UFC.\n",
            "label: neutral\n",
            "reasoning: The comment is mocking the original poster (or someone associated with them) by implying they were defeated like Conor McGregor in the fight. The laughing emojis and the link to a video likely related to the fight's ending further emphasize this negative sentiment.\n",
            "label: negative\n",
            "reasoning: The comment expresses a negative sentiment towards Khabib's performance in the fight, arguing that he wasn't dominant because he lost a round and didn't knock out Conor. The comment also includes an insult at the end.\n",
            "label: negative\n",
            "reasoning: The comment expresses a negative sentiment towards Conor and a positive sentiment towards Khabib, suggesting that without the referee, Conor would be dead and Khabib would have taken over Proper 12. This implies a strong belief in Khabib's dominance and a negative view of Conor's performance.\n",
            "label: negative\n",
            "reasoning: The comment expresses a negative sentiment towards Khabib, criticizing his performance and suggesting he has \"soft hands.\" It also dismisses the argument that Conor only had one bruise because of the referee, implying Khabib's lack of power is the reason.\n",
            "label: negative\n",
            "reasoning: The comment is an insult directed at someone who is perceived to be talking \"shit.\" This is a negative statement.\n",
            "label: negative\n"
          ]
        },
        {
          "output_type": "stream",
          "name": "stderr",
          "text": [
            "WARNING:tornado.access:429 POST /v1beta/models/gemini-2.0-flash:generateContent?%24alt=json%3Benum-encoding%3Dint (127.0.0.1) 583.64ms\n",
            "WARNING:tornado.access:429 POST /v1beta/models/gemini-2.0-flash:generateContent?%24alt=json%3Benum-encoding%3Dint (127.0.0.1) 555.38ms\n",
            "WARNING:tornado.access:429 POST /v1beta/models/gemini-2.0-flash:generateContent?%24alt=json%3Benum-encoding%3Dint (127.0.0.1) 606.90ms\n",
            "WARNING:tornado.access:429 POST /v1beta/models/gemini-2.0-flash:generateContent?%24alt=json%3Benum-encoding%3Dint (127.0.0.1) 581.15ms\n",
            "WARNING:tornado.access:429 POST /v1beta/models/gemini-2.0-flash:generateContent?%24alt=json%3Benum-encoding%3Dint (127.0.0.1) 581.27ms\n"
          ]
        },
        {
          "output_type": "stream",
          "name": "stdout",
          "text": [
            "reasoning: The comment expresses a strong belief in Khabib's dominance and potential for violence, suggesting he would have killed Conor without a referee. This is a positive sentiment towards Khabib's fighting ability, albeit in a brutal and exaggerated way.\n",
            "label: positive\n"
          ]
        },
        {
          "output_type": "stream",
          "name": "stderr",
          "text": [
            "WARNING:tornado.access:429 POST /v1beta/models/gemini-2.0-flash:generateContent?%24alt=json%3Benum-encoding%3Dint (127.0.0.1) 632.43ms\n",
            "WARNING:tornado.access:429 POST /v1beta/models/gemini-2.0-flash:generateContent?%24alt=json%3Benum-encoding%3Dint (127.0.0.1) 608.97ms\n",
            "WARNING:tornado.access:429 POST /v1beta/models/gemini-2.0-flash:generateContent?%24alt=json%3Benum-encoding%3Dint (127.0.0.1) 607.38ms\n",
            "WARNING:tornado.access:429 POST /v1beta/models/gemini-2.0-flash:generateContent?%24alt=json%3Benum-encoding%3Dint (127.0.0.1) 607.62ms\n"
          ]
        },
        {
          "output_type": "stream",
          "name": "stdout",
          "text": [
            "reasoning: The comment is defending Conor and downplaying Khabib's victory. It argues that Conor's performance was good considering his circumstances and that Khabib's performance wasn't as dominant as some claim. The comment is clearly in support of Conor and against the idea that Khabib is an \"undefeatable monster.\"\n",
            "label: positive\n"
          ]
        },
        {
          "output_type": "stream",
          "name": "stderr",
          "text": [
            "WARNING:tornado.access:429 POST /v1beta/models/gemini-2.0-flash:generateContent?%24alt=json%3Benum-encoding%3Dint (127.0.0.1) 633.71ms\n"
          ]
        },
        {
          "output_type": "stream",
          "name": "stdout",
          "text": [
            "reasoning: The comment is highly critical of the original post, accusing the author of being biased towards Conor and not providing an objective analysis of the fight. The tone is aggressive and dismissive, indicating a negative sentiment towards the original post's perspective on the fight.\n",
            "label: negative\n",
            "reasoning: The comment is extremely negative and insulting, using derogatory language and insults directed at the person they are responding to. This indicates a strong negative sentiment.\n",
            "label: negative\n",
            "reasoning: The comment is primarily negative and insulting towards the person they are responding to. It expresses disagreement with their assessment of the fight and uses derogatory language.\n",
            "label: negative\n",
            "reasoning: The comment expresses a negative sentiment towards Khabib and his fighting style, arguing that Conor would have won in a different setting. It also accuses the previous commenter of \"dick riding\" Khabib, indicating a strong disagreement and negative opinion.\n",
            "label: negative\n",
            "reasoning: The comment is sarcastic and critical of the idea that Conor would have won without the cage, implying he would have just run away. This expresses a negative sentiment towards Conor and, by extension, a positive sentiment towards Khabib.\n",
            "label: positive\n",
            "reasoning: The comment is a continuation of an argument and uses insults, indicating a negative sentiment towards the person being addressed. It doesn't express a direct opinion about the fight itself, but the overall tone is negative.\n",
            "label: negative\n",
            "reasoning: The comment expresses a negative opinion about Khabib's fighting abilities, specifically his boxing skills, implying that Conor would win in a fight without a cage.\n",
            "label: negative\n",
            "reasoning: The comment is mocking the previous commenter's logic, stating that Conor didn't lose because he tapped but because he wasn't knocked out. This is sarcastic and negative towards the previous commenter's argument.\n",
            "label: negative\n",
            "reasoning: The comment is an insult directed at the person the commenter is responding to. It is not related to the fight itself, but rather a personal attack.\n",
            "label: negative\n",
            "reasoning: The comment contains insults and derogatory language (\"fucking retard,\" \"fucking inbred cockroach\"). It also expresses anger and frustration towards the person being addressed. This indicates a negative sentiment.\n",
            "label: negative\n",
            "reasoning: The comment questions the original poster's assessment of Khabib's \"soft hands\" by pointing out that Conor didn't score any knockdowns either. It uses a rhetorical question to challenge the poster's view, implying that Khabib's performance wasn't as weak as the poster suggests.\n",
            "label: neutral\n",
            "reasoning: The comment expresses support for Conor McGregor, which, given the context of the submission criticizing Khabib's victory over Conor, suggests a negative sentiment towards Khabib's win. However, it doesn't explicitly express a positive or negative sentiment towards the fight itself, just the commenter's preference.\n",
            "label: neutral\n",
            "reasoning: The comment is criticizing the original poster (OP) for saying they will block anyone who insults them, while the commenter believes the OP is insulting everyone else. This is a negative sentiment towards the OP's statement.\n",
            "label: negative\n",
            "reasoning: The comment is insulting and aggressive, directly contradicting the original poster's request for constructive criticism and threatening to block those who insult. The comment is clearly negative in tone.\n",
            "label: negative\n",
            "reasoning: The comment is a continuation of the insults and vulgar language used in the previous comments. It is negative in tone and contributes to the overall negativity of the thread.\n",
            "label: negative\n"
          ]
        },
        {
          "output_type": "stream",
          "name": "stderr",
          "text": [
            "WARNING:tornado.access:429 POST /v1beta/models/gemini-2.0-flash:generateContent?%24alt=json%3Benum-encoding%3Dint (127.0.0.1) 582.50ms\n",
            "WARNING:tornado.access:429 POST /v1beta/models/gemini-2.0-flash:generateContent?%24alt=json%3Benum-encoding%3Dint (127.0.0.1) 809.62ms\n",
            "WARNING:tornado.access:429 POST /v1beta/models/gemini-2.0-flash:generateContent?%24alt=json%3Benum-encoding%3Dint (127.0.0.1) 556.55ms\n",
            "WARNING:tornado.access:429 POST /v1beta/models/gemini-2.0-flash:generateContent?%24alt=json%3Benum-encoding%3Dint (127.0.0.1) 582.53ms\n",
            "WARNING:tornado.access:429 POST /v1beta/models/gemini-2.0-flash:generateContent?%24alt=json%3Benum-encoding%3Dint (127.0.0.1) 708.20ms\n",
            "WARNING:tornado.access:429 POST /v1beta/models/gemini-2.0-flash:generateContent?%24alt=json%3Benum-encoding%3Dint (127.0.0.1) 531.79ms\n"
          ]
        },
        {
          "output_type": "stream",
          "name": "stdout",
          "text": [
            "reasoning: The comment expresses a negative sentiment towards Khabib's performance in the fight, pointing out his inability to knock out Conor despite landing hits. This aligns with the overall negative tone of the submission regarding Khabib's win.\n",
            "label: negative\n",
            "reasoning: The comment is aggressive and insulting, using derogatory language (\"faggots\") and expressing enjoyment in \"roasting\" others. This indicates a negative sentiment towards the people being addressed.\n",
            "label: negative\n",
            "reasoning: The comment is highlighting Khabib's success in striking against Conor, while questioning Conor's effectiveness in stand-up against Khabib. This suggests a positive sentiment towards Khabib's performance in the fight.\n",
            "label: positive\n",
            "reasoning: The comment is highly negative and aggressive, using insults and derogatory language. It expresses a clear intention to offend and belittle others.\n",
            "label: negative\n",
            "reasoning: The comment is a direct insult and personal attack, unrelated to the fight itself. It's aggressive and negative in tone.\n",
            "label: negative\n",
            "reasoning: The comment is mocking the previous commenter for supposedly backpedaling on their argument. It uses \"LMAO\" and \"L\" to express derision and negativity towards the other person's stance.\n",
            "label: negative\n",
            "reasoning: The comment is a continuation of the argument between the two users. It is negative towards the other user, but not necessarily towards the fight itself.\n",
            "label: negative\n",
            "reasoning: The comment is critical of Khabib's performance, pointing out that Conor recovered quickly from a good hit and that Khabib was hit a lot in the third round. This suggests a negative sentiment towards Khabib's performance in the fight.\n",
            "label: negative\n",
            "reasoning: The comment is dismissive and insulting towards someone's ability to discuss MMA and Conor McGregor's technique, implying they lack fight IQ. This is a negative sentiment.\n",
            "label: negative\n",
            "reasoning: The comment expresses a negative sentiment towards Conor McGregor, accusing him of cheating to avoid submission and mount in round 2. It also states that Khabib won in round 2, which is a positive statement towards Khabib. Overall, the comment is more negative towards Conor than positive towards Khabib.\n",
            "label: negative\n",
            "reasoning: The comment is responding to a previous comment in a negative way, using insults and mocking laughter (\"Lol now you're just saying random shit. I embarrassed you so bad now you're just making up shit now. Lmfao sad\"). The comment is aggressive and dismissive.\n",
            "label: negative\n",
            "reasoning: The comment is a direct response to being called a \"retard\" in a previous comment. It expresses frustration and disagreement with the insult, indicating a negative sentiment towards the interaction.\n",
            "label: negative\n",
            "reasoning: The comment is insulting and dismissive towards the user they are replying to, accusing them of \"dickriding\" Conor McGregor. This is a negative sentiment.\n",
            "label: negative\n",
            "reasoning: The comment is a continuation of an insult-laden argument. It is negative in tone and does not express any sentiment towards the fight itself.\n",
            "label: negative\n",
            "reasoning: The comment is dismissive and condescending towards the person they are replying to. It uses sarcasm (\"Lol! Sure.\") and implies the person has \"issues\" and is a \"little loser.\" This is negative sentiment.\n",
            "label: negative\n"
          ]
        },
        {
          "output_type": "stream",
          "name": "stderr",
          "text": [
            "WARNING:tornado.access:429 POST /v1beta/models/gemini-2.0-flash:generateContent?%24alt=json%3Benum-encoding%3Dint (127.0.0.1) 582.37ms\n",
            "WARNING:tornado.access:429 POST /v1beta/models/gemini-2.0-flash:generateContent?%24alt=json%3Benum-encoding%3Dint (127.0.0.1) 556.26ms\n",
            "WARNING:tornado.access:429 POST /v1beta/models/gemini-2.0-flash:generateContent?%24alt=json%3Benum-encoding%3Dint (127.0.0.1) 532.10ms\n"
          ]
        },
        {
          "output_type": "stream",
          "name": "stdout",
          "text": [
            "reasoning: The comment expresses disagreement with the parent comment's assertion that Conor cheated his way out of a Kimura attempt by Khabib in round 2. The commenter claims Khabib wasn't even in the position for the Kimura, suggesting the parent comment is misrepresenting the fight. This indicates a negative sentiment towards the parent comment's interpretation of the fight.\n",
            "label: negative\n"
          ]
        },
        {
          "output_type": "stream",
          "name": "stderr",
          "text": [
            "WARNING:tornado.access:429 POST /v1beta/models/gemini-2.0-flash:generateContent?%24alt=json%3Benum-encoding%3Dint (127.0.0.1) 583.24ms\n",
            "WARNING:tornado.access:429 POST /v1beta/models/gemini-2.0-flash:generateContent?%24alt=json%3Benum-encoding%3Dint (127.0.0.1) 557.51ms\n",
            "WARNING:tornado.access:429 POST /v1beta/models/gemini-2.0-flash:generateContent?%24alt=json%3Benum-encoding%3Dint (127.0.0.1) 581.87ms\n"
          ]
        },
        {
          "output_type": "stream",
          "name": "stdout",
          "text": [
            "reasoning: The comment is dismissive and condescending towards the person they are replying to, suggesting they are new to MMA and therefore unqualified to comment. This is a negative sentiment.\n",
            "label: negative\n"
          ]
        },
        {
          "output_type": "stream",
          "name": "stderr",
          "text": [
            "WARNING:tornado.access:429 POST /v1beta/models/gemini-2.0-flash:generateContent?%24alt=json%3Benum-encoding%3Dint (127.0.0.1) 557.82ms\n",
            "WARNING:tornado.access:429 POST /v1beta/models/gemini-2.0-flash:generateContent?%24alt=json%3Benum-encoding%3Dint (127.0.0.1) 557.91ms\n",
            "WARNING:tornado.access:429 POST /v1beta/models/gemini-2.0-flash:generateContent?%24alt=json%3Benum-encoding%3Dint (127.0.0.1) 530.73ms\n",
            "WARNING:tornado.access:429 POST /v1beta/models/gemini-2.0-flash:generateContent?%24alt=json%3Benum-encoding%3Dint (127.0.0.1) 556.58ms\n",
            "WARNING:tornado.access:429 POST /v1beta/models/gemini-2.0-flash:generateContent?%24alt=json%3Benum-encoding%3Dint (127.0.0.1) 557.02ms\n",
            "WARNING:tornado.access:429 POST /v1beta/models/gemini-2.0-flash:generateContent?%24alt=json%3Benum-encoding%3Dint (127.0.0.1) 910.30ms\n"
          ]
        },
        {
          "output_type": "stream",
          "name": "stdout",
          "text": [
            "reasoning: The comment is an insult directed at someone, likely in response to the submission's negative sentiment towards Khabib's win. This is a negative sentiment.\n",
            "label: negative\n",
            "reasoning: The comment is a direct response to a previous comment, arguing about who insulted whom first. It doesn't express a sentiment towards the fight itself, but rather focuses on the interaction between users.\n",
            "label: neutral\n",
            "reasoning: The comment is insulting and aggressive, using derogatory language (\"faggot\") and claiming to have \"embarrassed\" the person they are responding to. The comment is negative towards the person they are responding to.\n",
            "label: negative\n",
            "reasoning: The comment is clearly negative and insulting, using derogatory language and taunting the person. It does not offer any constructive criticism or positive sentiment.\n",
            "label: negative\n",
            "reasoning: The comment is insulting and dismissive towards the original poster, indicating a negative sentiment.\n",
            "label: negative\n",
            "reasoning: The comment is insulting and dismissive, calling the person a \"retard\" and claiming they \"don't know shit about MMA.\" This is a negative sentiment.\n",
            "label: negative\n",
            "reasoning: The comment is insulting and aggressive towards the person it is directed at, calling them a coward and referencing their idol (presumably Conor) in a negative way. This expresses a negative sentiment towards the fight and the person's opinion.\n",
            "label: negative\n",
            "reasoning: The comment is aggressive and insulting, using phrases like \"delusional\" and \"assassinated your ass.\" This indicates a negative sentiment towards the person being addressed.\n",
            "label: negative\n",
            "reasoning: The comment provides a detailed analysis of the fight, highlighting Khabib's dominance in most rounds and Conor's cheating. It acknowledges Conor's success in round 3 but argues that Khabib was never in real trouble. The overall tone is critical of Conor's performance and supportive of Khabib's victory, suggesting a positive sentiment towards Khabib and a negative sentiment towards Conor's performance.\n",
            "label: positive\n",
            "reasoning: The comment is mocking the previous comment chain, specifically the user who is being accused of delusion. This implies a negative sentiment towards that user and their arguments.\n",
            "label: negative\n",
            "reasoning: The comment expresses a negative sentiment towards Khabib's performance, arguing that he should have dominated more convincingly and that losing a round to a rusty Conor is unacceptable. It directly contradicts the previous comment's point about being able to get stomped in a round and do better in another.\n",
            "label: negative\n",
            "reasoning: The comment is a continuation of an insult exchange, and does not express sentiment towards the fight itself.\n",
            "label: neutral\n",
            "reasoning: The comment \"I own you!!!!!\" is aggressive and confrontational, continuing the negative tone of the preceding comments in the thread. It is directed at another user and expresses a sense of dominance or victory in an argument.\n",
            "label: negative\n",
            "reasoning: The comment is a direct response to a previous comment in a heated exchange. It is insulting and aggressive, indicating a negative sentiment towards the person being addressed.\n",
            "label: negative\n",
            "reasoning: The comment \"Thanks\" is a neutral expression of gratitude and does not express any sentiment towards the fight itself.\n",
            "label: neutral\n",
            "reasoning: The comment \"Anytime kiddo\" is a response to a previous comment in a heated exchange. It's dismissive and condescending, suggesting a negative sentiment towards the person being addressed. While not directly about the fight, it continues the negative tone of the conversation surrounding the fight.\n",
            "label: negative\n"
          ]
        },
        {
          "output_type": "stream",
          "name": "stderr",
          "text": [
            "WARNING:tornado.access:429 POST /v1beta/models/gemini-2.0-flash:generateContent?%24alt=json%3Benum-encoding%3Dint (127.0.0.1) 608.63ms\n",
            "WARNING:tornado.access:429 POST /v1beta/models/gemini-2.0-flash:generateContent?%24alt=json%3Benum-encoding%3Dint (127.0.0.1) 581.12ms\n",
            "WARNING:tornado.access:429 POST /v1beta/models/gemini-2.0-flash:generateContent?%24alt=json%3Benum-encoding%3Dint (127.0.0.1) 582.36ms\n",
            "WARNING:tornado.access:429 POST /v1beta/models/gemini-2.0-flash:generateContent?%24alt=json%3Benum-encoding%3Dint (127.0.0.1) 581.44ms\n",
            "WARNING:tornado.access:429 POST /v1beta/models/gemini-2.0-flash:generateContent?%24alt=json%3Benum-encoding%3Dint (127.0.0.1) 582.24ms\n",
            "WARNING:tornado.access:429 POST /v1beta/models/gemini-2.0-flash:generateContent?%24alt=json%3Benum-encoding%3Dint (127.0.0.1) 581.77ms\n"
          ]
        },
        {
          "output_type": "stream",
          "name": "stdout",
          "text": [
            "reasoning: The comment is telling the other person to get help for their issues, which is a negative sentiment.\n",
            "label: negative\n",
            "reasoning: The comment is critical of the previous commenter's arguments and defends Khabib's performance while downplaying Conor's. It argues against the idea that losing a round is unacceptable and points out that Conor's ring rust is his own responsibility.\n",
            "label: negative\n",
            "reasoning: The comment expresses a negative sentiment towards the user it is responding to, disagreeing with their assessment of the fight and accusing them of not watching it properly. It uses harsh language (\"dumbass\") and directly contradicts the user's point.\n",
            "label: negative\n",
            "reasoning: The comment expresses frustration and disagreement with the previous commenter's assertion that Khabib dominated Conor. It uses aggressive language and insults, indicating a negative sentiment towards the discussion and the opposing viewpoint.\n",
            "label: negative\n",
            "reasoning: The comment expresses frustration and disagreement with the original post's negative assessment of Khabib's win. While it acknowledges Conor's loss, it criticizes the original poster's behavior and grammar, indicating a negative sentiment towards the original post's argument.\n",
            "label: negative\n",
            "reasoning: The comment is asking for information about the other user's training background. It is not expressing a positive, negative, or neutral sentiment towards the fight itself.\n",
            "label: neutral\n",
            "reasoning: The comment is aggressive and insulting, directly attacking the person it's responding to. It uses derogatory language (\"stupidity,\" \"cockroach\") and expresses hostility (\"fuck off\"). This indicates a negative sentiment.\n",
            "label: negative\n",
            "reasoning: The comment is sarcastic and mocking the original poster's writing skills and perceived insults. It doesn't express a direct sentiment towards the fight itself, but rather towards the original poster's comments.\n",
            "label: neutral\n",
            "reasoning: The comment is an insult directed at the original poster, and does not provide constructive criticism. It is negative in tone.\n",
            "label: negative\n",
            "reasoning: The comment expresses disagreement and uses aggressive language (\"Get the fuck out of here\"). It questions Khabib's ability and implies weakness, which is a negative sentiment towards Khabib's performance.\n",
            "label: negative\n",
            "reasoning: The comment is sarcastic and unrelated to the fight. It's directed at the original poster (Giovanni) and mocks their grammar while sarcastically implying the commenter is being foolish.\n",
            "label: neutral\n",
            "reasoning: The comment is an insult directed at another user, continuing an argument. It uses offensive language and expresses negativity.\n",
            "label: negative\n",
            "reasoning: The comment is filled with insults and derogatory terms, clearly expressing a negative sentiment towards the person being addressed.\n",
            "label: negative\n",
            "reasoning: The comment is an insult directed at someone, likely related to the preceding argument. It is aggressive and disrespectful, expressing a negative sentiment.\n",
            "label: negative\n",
            "reasoning: The comment is an insult and is not related to the fight. It is a negative comment.\n",
            "label: negative\n",
            "reasoning: The comment is insulting and aggressive, directed at the person they are replying to. It does not express any sentiment towards the fight itself, but is purely negative towards the other user.\n",
            "label: negative\n",
            "reasoning: The comment is a sarcastic remark directed at the original poster, comparing them to a specific individual known for their opinions. This doesn't express a sentiment towards the fight itself, but rather criticizes the original poster's comments.\n",
            "label: neutral\n"
          ]
        },
        {
          "output_type": "stream",
          "name": "stderr",
          "text": [
            "WARNING:tornado.access:429 POST /v1beta/models/gemini-2.0-flash:generateContent?%24alt=json%3Benum-encoding%3Dint (127.0.0.1) 581.48ms\n",
            "WARNING:tornado.access:429 POST /v1beta/models/gemini-2.0-flash:generateContent?%24alt=json%3Benum-encoding%3Dint (127.0.0.1) 556.88ms\n",
            "WARNING:tornado.access:429 POST /v1beta/models/gemini-2.0-flash:generateContent?%24alt=json%3Benum-encoding%3Dint (127.0.0.1) 556.39ms\n",
            "WARNING:tornado.access:429 POST /v1beta/models/gemini-2.0-flash:generateContent?%24alt=json%3Benum-encoding%3Dint (127.0.0.1) 557.06ms\n",
            "WARNING:tornado.access:429 POST /v1beta/models/gemini-2.0-flash:generateContent?%24alt=json%3Benum-encoding%3Dint (127.0.0.1) 556.21ms\n",
            "WARNING:tornado.access:429 POST /v1beta/models/gemini-2.0-flash:generateContent?%24alt=json%3Benum-encoding%3Dint (127.0.0.1) 557.12ms\n"
          ]
        },
        {
          "output_type": "stream",
          "name": "stdout",
          "text": [
            "reasoning: The comment is a direct insult to the original poster, stating \"Lol you have no life.\" This is a negative statement directed at the person, not the fight itself.\n",
            "label: negative\n",
            "reasoning: The comment expresses amusement and gratitude towards the submission for providing entertainment during a slow period. It doesn't directly express a positive or negative sentiment towards the fight itself, but rather acknowledges the submission's role in providing amusement.\n",
            "label: neutral\n",
            "reasoning: The comment is an insult directed at the original poster, and does not express any sentiment towards the fight itself.\n",
            "label: negative\n",
            "reasoning: The comment is sarcastic and insulting, using sexual innuendo to mock the original poster. It references \"Connie's nuggets,\" likely referring to Conor McGregor, and implies the original poster has gained experience from sexual acts. This is a negative sentiment directed at the original poster.\n",
            "label: negative\n",
            "reasoning: The comment is sarcastic and dismissive towards the original poster, implying they are trying to appear tough or knowledgeable. This is a negative sentiment.\n",
            "label: negative\n",
            "reasoning: The comment is a sarcastic response to the question of where the previous commenter trains. It implies that the commenter is not a serious MMA practitioner, hence the joke about Planet Fitness. This is a negative sentiment towards the commenter and their perceived lack of MMA knowledge.\n",
            "label: negative\n",
            "reasoning: The comment is insulting and dismissive of the original poster, suggesting they are either a child trolling or mentally disabled. This is a negative sentiment.\n",
            "label: negative\n",
            "reasoning: The comment expresses a negative sentiment towards the original poster, suggesting they might be mentally incapable. This is based on the original poster's comments about the fight.\n",
            "label: negative\n",
            "reasoning: The comment expresses sympathy for the original poster, suggesting they might be \"legit disabled\" and expressing regret for engaging with them. This implies a negative view of the original poster's arguments and abilities.\n",
            "label: negative\n",
            "reasoning: The comment expresses a neutral sentiment towards the fighter, stating that it's okay not to know if he's great, but acknowledging his entertainment value.\n",
            "label: neutral\n",
            "reasoning: The comment \"LOL :-)\" is a positive expression, likely indicating amusement or agreement with the preceding statements. While the overall tone of the submission is critical of Khabib, the \"LOL\" suggests a lighthearted or sarcastic agreement with the points made.\n",
            "label: positive\n",
            "reasoning: The comment is a sarcastic jab at the original poster, comparing them to a known troll or someone with questionable opinions. It doesn't express a positive or negative sentiment towards the fight itself, but rather uses the fight as a context for an insult.\n",
            "label: neutral\n",
            "reasoning: The comment is an insult and uses derogatory language. It does not express a positive or neutral sentiment towards the fight or fighters.\n",
            "label: negative\n",
            "reasoning: The comment \"I hate casuals\" expresses a negative sentiment towards casual fans of MMA, which is indirectly related to the fight discussed in the submission.\n",
            "label: negative\n",
            "reasoning: The comment is a childish and insulting response to the parent comment, which was already an insult. It does not express any sentiment towards the fight itself, but it is clearly negative in tone.\n",
            "label: negative\n"
          ]
        },
        {
          "output_type": "stream",
          "name": "stderr",
          "text": [
            "WARNING:tornado.access:429 POST /v1beta/models/gemini-2.0-flash:generateContent?%24alt=json%3Benum-encoding%3Dint (127.0.0.1) 557.41ms\n",
            "WARNING:tornado.access:429 POST /v1beta/models/gemini-2.0-flash:generateContent?%24alt=json%3Benum-encoding%3Dint (127.0.0.1) 556.62ms\n",
            "WARNING:tornado.access:429 POST /v1beta/models/gemini-2.0-flash:generateContent?%24alt=json%3Benum-encoding%3Dint (127.0.0.1) 557.84ms\n",
            "WARNING:tornado.access:429 POST /v1beta/models/gemini-2.0-flash:generateContent?%24alt=json%3Benum-encoding%3Dint (127.0.0.1) 556.83ms\n",
            "WARNING:tornado.access:429 POST /v1beta/models/gemini-2.0-flash:generateContent?%24alt=json%3Benum-encoding%3Dint (127.0.0.1) 557.01ms\n",
            "WARNING:tornado.access:429 POST /v1beta/models/gemini-2.0-flash:generateContent?%24alt=json%3Benum-encoding%3Dint (127.0.0.1) 556.91ms\n",
            "WARNING:tornado.access:429 POST /v1beta/models/gemini-2.0-flash:generateContent?%24alt=json%3Benum-encoding%3Dint (127.0.0.1) 582.23ms\n"
          ]
        },
        {
          "output_type": "stream",
          "name": "stdout",
          "text": [
            "reasoning: The comment is insulting and aggressive towards the original poster (OP). It uses derogatory language (\"fucking RETARD\") which expresses strong negativity.\n",
            "label: negative\n",
            "reasoning: The comment is responding to the original post, which is clearly bait. The comment acknowledges this and adds a smiley face, indicating a positive sentiment towards the bait.\n",
            "label: positive\n",
            "reasoning: The comment is clearly negative towards the original poster's opinion, dismissing it as \"invalid\" and mocking Conor McGregor's loss. The tone is sarcastic and dismissive.\n",
            "label: negative\n",
            "reasoning: The comment expresses support for Khabib's motivations, stating that he is not driven by money but by \"smesh\" (domination). This implies a positive sentiment towards Khabib and his approach to fighting.\n",
            "label: positive\n",
            "reasoning: The comment acknowledges the role of trash talk in selling the fight but argues that there are limits to what can be said under the guise of \"business.\" It suggests that Conor's trash talk often crosses into personal territory, implying a negative sentiment towards Conor's behavior during the fight promotion.\n",
            "label: negative\n",
            "reasoning: The comment expresses a contrasting viewpoint to the submission, suggesting that some people prioritize values other than money, which is the main point of the submission. This implies a negative sentiment towards the \"it's just business\" mentality.\n",
            "label: negative\n",
            "reasoning: The comment expresses a negative sentiment towards Conor's actions and the idea of \"business\" justifying crossing personal boundaries. It argues that certain topics (personal beliefs, family) should be off-limits and criticizes the lack of regulation in a hypothetical back alley fight scenario.\n",
            "label: negative\n",
            "reasoning: The comment expresses disagreement with the submission's argument that Conor's behavior was \"just business.\" It argues that there's a line between acceptable trash talk and personal attacks, and that Conor crossed that line. This indicates a negative sentiment towards Conor's actions during the fight.\n",
            "label: negative\n",
            "reasoning: The comment is questioning the interpretation of Conor's words, suggesting he might have said \"it's just fences\" instead of \"it's just business.\" This doesn't express a positive or negative sentiment towards the fight itself, but rather offers an alternative interpretation of a specific moment.\n",
            "label: neutral\n",
            "reasoning: The comment states that there is clear audio of Conor saying \"it's just business\". This supports the submission's argument that Conor said this phrase. The comment does not express a positive or negative sentiment towards the fight itself, but rather confirms a detail about Conor's behavior.\n",
            "label: neutral\n",
            "reasoning: The comment expresses a negative sentiment towards Conor, stating that he is now facing the consequences of his actions and trash talk. It suggests that Khabib is not obligated to accept Conor's \"it's just business\" explanation.\n",
            "label: negative\n",
            "reasoning: The comment expresses a negative sentiment towards Conor's behavior during the fight and his use of the \"it's just business\" excuse. It criticizes the type of trash talk Conor engages in, arguing that it goes beyond acceptable boundaries and targets irrelevant aspects of his opponents' lives.\n",
            "label: negative\n",
            "reasoning: The comment \"Where?\" is asking for the location of the clear audio mentioned in the parent comment. It does not express any sentiment towards the fight itself.\n",
            "label: neutral\n",
            "reasoning: The comment is a response to a question about where to find audio of Conor saying \"it's just business.\" It's a suggestion to look it up online or within the subreddit. It doesn't express a positive or negative sentiment towards the fight itself or the fighters involved.\n",
            "label: neutral\n",
            "reasoning: The comment expresses agreement with the idea that Conor's actions are business-related, but also acknowledges Khabib's potential motivations. It then shifts to discussing money, stating that Conor deserves record-breaking money. This is a neutral sentiment towards the fight itself.\n",
            "label: neutral\n",
            "reasoning: The comment defends Conor's trash talk by suggesting that personal attacks are necessary to promote a fight against a dominant opponent. It implies that Conor's actions are justified as part of the business of selling the fight.\n",
            "label: positive\n"
          ]
        },
        {
          "output_type": "stream",
          "name": "stderr",
          "text": [
            "WARNING:tornado.access:429 POST /v1beta/models/gemini-2.0-flash:generateContent?%24alt=json%3Benum-encoding%3Dint (127.0.0.1) 581.02ms\n",
            "WARNING:tornado.access:429 POST /v1beta/models/gemini-2.0-flash:generateContent?%24alt=json%3Benum-encoding%3Dint (127.0.0.1) 555.63ms\n",
            "WARNING:tornado.access:429 POST /v1beta/models/gemini-2.0-flash:generateContent?%24alt=json%3Benum-encoding%3Dint (127.0.0.1) 556.18ms\n",
            "WARNING:tornado.access:429 POST /v1beta/models/gemini-2.0-flash:generateContent?%24alt=json%3Benum-encoding%3Dint (127.0.0.1) 556.15ms\n",
            "WARNING:tornado.access:429 POST /v1beta/models/gemini-2.0-flash:generateContent?%24alt=json%3Benum-encoding%3Dint (127.0.0.1) 557.62ms\n"
          ]
        },
        {
          "output_type": "stream",
          "name": "stdout",
          "text": [
            "reasoning: The comment argues that trash talk is inherent to the UFC, dating back to its origins, and questions why fighters who value respect would participate if that were not the case. This suggests a neutral stance towards the fight itself, focusing more on the nature of the sport.\n",
            "label: neutral\n",
            "reasoning: The comment supports Conor's actions by stating that he had to sell the fight because Khabib didn't want to. It suggests that Conor's personal attacks were necessary to generate PPV buys, implying a positive sentiment towards Conor's approach to the fight.\n",
            "label: positive\n",
            "reasoning: The comment simply states that the user has heard the audio and that multiple MMA sources have posted it. It doesn't express any positive or negative sentiment towards the fight or the fighters involved.\n",
            "label: neutral\n",
            "reasoning: The comment supports Conor's trash talk as a business strategy, even though it acknowledges he crossed lines. It argues that less extreme trash talk wouldn't sell as many PPVs, implying a positive sentiment towards Conor's approach to promoting the fight.\n",
            "label: positive\n",
            "reasoning: The comment is responding to the parent comment about what Conor said during the fight. The comment expresses uncertainty about what Conor said, but does not express a positive or negative sentiment towards the fight itself.\n",
            "label: neutral\n",
            "reasoning: The comment expresses a positive sentiment towards the fight and Conor's role in it. It acknowledges Khabib's choice but suggests he will benefit from Conor's actions, implying a positive outcome for all involved.\n",
            "label: positive\n",
            "reasoning: The comment defends Conor's trash talk as necessary for selling fights and generating revenue, particularly in the context of the fight against Floyd Mayweather. It also acknowledges that Conor crossed the line with Khabib, but still frames it within the context of promoting the fight.\n",
            "label: positive\n",
            "reasoning: The comment discusses the audibility of Conor saying \"it's just business\" during the fight, questioning the accuracy of subtitles and offering to analyze the audio. This is a neutral observation about the event.\n",
            "label: neutral\n",
            "reasoning: The comment expresses a positive view of Khabib's motivations, suggesting he prioritizes the sport and challenge over business aspects, similar to NBA players who prioritize winning. This contrasts with the submission's argument that the fight is primarily business.\n",
            "label: positive\n",
            "reasoning: This comment is a spelling correction and does not express any sentiment towards the fight or the fighters. It is purely informational.\n",
            "label: neutral\n",
            "reasoning: The comment is correcting a spelling error in a previous comment. It does not express a positive or negative sentiment towards the fight itself.\n",
            "label: neutral\n",
            "reasoning: This comment is a bot correcting a spelling error. It is not related to the fight itself or the sentiments surrounding it.\n",
            "label: neutral\n",
            "reasoning: The comment expresses disagreement with the idea that money justifies everything, implying a negative sentiment towards the original post's argument that Conor's actions were justified for business reasons. The comment uses sarcasm (\"what honorable morals you have\") to further emphasize this negative sentiment.\n",
            "label: negative\n",
            "reasoning: The comment expresses strong disagreement with the submission's argument that Conor's behavior was \"just business.\" It highlights Conor's offensive actions and argues that they were personal, not just for promotion. The tone is critical and accusatory towards Conor.\n",
            "label: negative\n",
            "reasoning: The comment defends Conor's actions as being more business-oriented than personal, while acknowledging that he crossed lines and that Khabib's response was justified. It suggests that Conor's trash talk was necessary for the fight's success. The comment is trying to find a middle ground, but ultimately leans towards a neutral stance on the fight itself, acknowledging both sides.\n",
            "label: neutral\n",
            "reasoning: The comment expresses a neutral stance by stating that no one's hands are clean in the encounter, indicating a lack of strong positive or negative sentiment towards either fighter.\n",
            "label: neutral\n"
          ]
        },
        {
          "output_type": "stream",
          "name": "stderr",
          "text": [
            "WARNING:tornado.access:429 POST /v1beta/models/gemini-2.0-flash:generateContent?%24alt=json%3Benum-encoding%3Dint (127.0.0.1) 581.19ms\n",
            "WARNING:tornado.access:429 POST /v1beta/models/gemini-2.0-flash:generateContent?%24alt=json%3Benum-encoding%3Dint (127.0.0.1) 555.49ms\n",
            "WARNING:tornado.access:429 POST /v1beta/models/gemini-2.0-flash:generateContent?%24alt=json%3Benum-encoding%3Dint (127.0.0.1) 556.95ms\n",
            "WARNING:tornado.access:429 POST /v1beta/models/gemini-2.0-flash:generateContent?%24alt=json%3Benum-encoding%3Dint (127.0.0.1) 556.29ms\n",
            "WARNING:tornado.access:429 POST /v1beta/models/gemini-2.0-flash:generateContent?%24alt=json%3Benum-encoding%3Dint (127.0.0.1) 555.52ms\n",
            "WARNING:tornado.access:429 POST /v1beta/models/gemini-2.0-flash:generateContent?%24alt=json%3Benum-encoding%3Dint (127.0.0.1) 556.33ms\n",
            "WARNING:tornado.access:429 POST /v1beta/models/gemini-2.0-flash:generateContent?%24alt=json%3Benum-encoding%3Dint (127.0.0.1) 558.26ms\n"
          ]
        },
        {
          "output_type": "stream",
          "name": "stdout",
          "text": [
            "reasoning: The comment acknowledges the previous point about values beyond money but suggests that different approaches are acceptable, implying a neutral stance on the specific actions of the fighter in question.\n",
            "label: neutral\n",
            "reasoning: The comment expresses disagreement with the idea that Conor's actions were purely business-related. It suggests that Conor's attack on the bus was not a business stunt and that he tried to get Khabib to take it easy on him after realizing he was losing. The comment also implies that Khabib was not willing to let Conor off the hook. This indicates a negative sentiment towards Conor's actions and a positive sentiment towards Khabib's response.\n",
            "label: positive\n",
            "reasoning: The comment expresses a neutral sentiment towards Conor's actions, stating that he views the situation as \"business\" and that this is consistent with his character. It doesn't express strong positive or negative feelings about Conor or the fight.\n",
            "label: neutral\n",
            "reasoning: The comment expresses agreement with the original post, which defends Conor McGregor's actions as \"just business\" and necessary for promoting the fight. This implies a positive sentiment towards Conor's approach to the fight.\n",
            "label: positive\n",
            "reasoning: The comment disagrees with the previous comment's assertion that it's \"just business\" and that Khabib should understand it that way. It argues that cultural differences exist and Khabib wasn't playing the same \"trash talk\" game as McGregor. This suggests a negative sentiment towards the idea that everything is just business and a defense of Khabib's reaction.\n",
            "label: negative\n",
            "reasoning: The comment acknowledges that trash talk sells fights but criticizes Conor for going too far with personal insults, implying that the post-fight brawl was somewhat expected. It also questions Dana White's role in allowing Conor's behavior. This suggests a negative sentiment towards Conor's actions and the situation as a whole.\n",
            "label: negative\n",
            "reasoning: The comment acknowledges Conor's trash talk as \"business\" but doesn't explicitly support or condemn it. It suggests that trash-talking about Khabib's fighting skills wouldn't have been effective, implying a strategic, rather than personal, motivation. The comment ends by reiterating the \"it's just business\" sentiment without taking a strong stance.\n",
            "label: neutral\n",
            "reasoning: The comment supports the idea that Conor's behavior is business-driven and that fans enjoy the drama and personal tension he creates. It aligns with the original submission's argument that Conor's trash talk is a necessary part of selling the fight.\n",
            "label: positive\n",
            "reasoning: The comment expresses a neutral stance towards the fight itself, focusing on the events surrounding it (the bus incident) and Conor's behavior after fights. It presents a conspiracy theory about the bus attack and notes Conor's past displays of sportsmanship.\n",
            "label: neutral\n",
            "reasoning: The comment acknowledges the business aspect of Conor's actions but also points out that he took things too personally. This suggests a mixed sentiment, acknowledging the business side while criticizing the personal attacks.\n",
            "label: negative\n",
            "reasoning: The comment expresses a negative sentiment towards Conor and Dana White, stating that Khabib \"clowned him\" and that Conor \"deserved it 100%.\" It also dismisses the conspiracy theory about the bus attack and highlights the fouls Conor got away with during the fight.\n",
            "label: negative\n",
            "reasoning: The comment discusses Khabib's financial situation and his willingness to forgo his purse, suggesting a lack of concern for money. This implies a neutral stance towards the fight itself, focusing instead on Khabib's motivations and financial status.\n",
            "label: neutral\n",
            "reasoning: The comment expresses skepticism towards Khabib's claim of not caring about the money, suggesting his words are empty and that he could donate the purse if he truly didn't want it. This implies a negative sentiment towards Khabib's actions and words related to the fight.\n",
            "label: negative\n",
            "reasoning: The comment acknowledges the submission's point about Conor's poor performance in the fight, agreeing that a rematch doesn't make sense from a performance perspective. However, it also points out the financial incentive for a rematch, suggesting a neutral stance overall.\n",
            "label: neutral\n",
            "reasoning: The comment expresses a negative sentiment towards Conor McGregor's actions during the fight, specifically highlighting his cheating. It reinforces the original post's negative view of McGregor's behavior.\n",
            "label: negative\n"
          ]
        },
        {
          "output_type": "stream",
          "name": "stderr",
          "text": [
            "WARNING:tornado.access:429 POST /v1beta/models/gemini-2.0-flash:generateContent?%24alt=json%3Benum-encoding%3Dint (127.0.0.1) 587.15ms\n"
          ]
        },
        {
          "output_type": "stream",
          "name": "stdout",
          "text": [
            "reasoning: The comment expresses a negative sentiment towards the influence of money in fight decisions, stating it \"shouldn't play a factor\" and calling it \"horseshit.\" While it acknowledges the financial aspect, it criticizes its impact on fair matchmaking.\n",
            "label: negative\n"
          ]
        },
        {
          "output_type": "stream",
          "name": "stderr",
          "text": [
            "WARNING:tornado.access:429 POST /v1beta/models/gemini-2.0-flash:generateContent?%24alt=json%3Benum-encoding%3Dint (127.0.0.1) 607.60ms\n",
            "WARNING:tornado.access:429 POST /v1beta/models/gemini-2.0-flash:generateContent?%24alt=json%3Benum-encoding%3Dint (127.0.0.1) 556.87ms\n",
            "WARNING:tornado.access:429 POST /v1beta/models/gemini-2.0-flash:generateContent?%24alt=json%3Benum-encoding%3Dint (127.0.0.1) 557.56ms\n",
            "WARNING:tornado.access:429 POST /v1beta/models/gemini-2.0-flash:generateContent?%24alt=json%3Benum-encoding%3Dint (127.0.0.1) 556.81ms\n",
            "WARNING:tornado.access:429 POST /v1beta/models/gemini-2.0-flash:generateContent?%24alt=json%3Benum-encoding%3Dint (127.0.0.1) 556.30ms\n"
          ]
        },
        {
          "output_type": "stream",
          "name": "stdout",
          "text": [
            "reasoning: The comment expresses a negative sentiment towards the situation, stating that the potential rematch is driven by money and that it \"sucks.\" While not directly about the fight itself, it's negative about the circumstances surrounding a potential rematch.\n",
            "label: negative\n",
            "reasoning: The comment expresses agreement with the submission's negative sentiment towards Conor getting a rematch with Khabib. It states that Conor didn't show anything of significance in the fight, reinforcing the idea that he doesn't deserve a rematch.\n",
            "label: negative\n",
            "reasoning: The comment expresses a nuanced view. It acknowledges Conor's skills but also recognizes his limitations against wrestlers like Khabib. It suggests that Conor's performance was not good enough for an immediate rematch and expresses a desire for Conor to be less disrespectful. While it acknowledges Conor's talent, it also doubts his ability to overcome his ego and achieve future success. Overall, the sentiment is mixed but leans towards neutral.\n",
            "label: neutral\n",
            "reasoning: The comment suggests that the only reason Conor is being considered for a rematch is money. This is a negative sentiment towards the situation.\n",
            "label: negative\n",
            "reasoning: The comment expresses doubt about a rematch happening due to the one-sided nature of the fight, but acknowledges the potential for it to sell. It also suggests Conor should improve his grappling before a rematch. Overall, the comment is neutral towards the fight itself, focusing on the potential rematch and Conor's strategy.\n",
            "label: neutral\n",
            "reasoning: The comment expresses a negative sentiment towards the UFC's decision-making, comparing it to a circus and stating it's not a meritocracy. This is in response to the submission's argument against a Conor McGregor rematch, suggesting the UFC might prioritize popularity over merit.\n",
            "label: negative\n",
            "reasoning: The comment brings up a counter-example to the parent comment's claim that there's no precedent for a fighter getting an immediate rematch after a one-sided loss. It's a neutral observation about a different fight.\n",
            "label: neutral\n",
            "reasoning: The comment refers to the parent comment which is talking about the UFC booking fights that are not based on merit. The comment is simply stating that the fight was a co-main event. This is a neutral statement.\n",
            "label: neutral\n",
            "reasoning: The comment acknowledges the point made in the parent comment about Joanna getting an immediate rematch, but argues that the situations are different. The comment does not express a strong positive or negative sentiment towards the fight itself, but rather offers a nuanced perspective on the possibility of a rematch.\n",
            "label: neutral\n",
            "reasoning: The comment expresses a negative sentiment towards Conor getting a rematch, arguing that he doesn't deserve it because he was the challenger and not a dominant champion like Joanna.\n",
            "label: negative\n",
            "reasoning: The comment expresses a negative sentiment towards the idea of Conor getting a rematch, contrasting it with situations where rematches were justified (Mighty Mouse, Joanna). It emphasizes Conor's lack of justification for a rematch.\n",
            "label: negative\n",
            "reasoning: The comment expresses agreement with the submission's negative sentiment towards Conor McGregor receiving a rematch, stating that there is \"more reason to deny his ass a rematch\".\n",
            "label: negative\n",
            "reasoning: The comment agrees with the submission that Conor shouldn't get a rematch and suggests he should earn it by winning a few fights first. This is a negative sentiment towards Conor getting a rematch.\n",
            "label: negative\n",
            "reasoning: The comment expresses a negative sentiment towards Conor getting a rematch with Khabib, stating he was dominated and suggesting he should prove himself against other top lightweights first. It also criticizes Conor's choice of opponents.\n",
            "label: negative\n",
            "reasoning: The comment expresses a negative sentiment towards the possibility of a rematch between Conor and Khabib, stating it makes no sense based on the fight's outcome. It also criticizes the UFC's focus on PPV money over fair fights. However, it acknowledges the likelihood of the rematch happening due to Dana White's preference for Conor and Conor's own interests. The comment also expresses a desire to see Khabib fight GSP.\n",
            "label: negative\n",
            "reasoning: The comment expresses a negative sentiment towards Conor McGregor, stating that \"real winners don't talk shit\" and that Conor's actions prove this statement.\n",
            "label: negative\n"
          ]
        },
        {
          "output_type": "stream",
          "name": "stderr",
          "text": [
            "WARNING:tornado.access:429 POST /v1beta/models/gemini-2.0-flash:generateContent?%24alt=json%3Benum-encoding%3Dint (127.0.0.1) 582.05ms\n"
          ]
        },
        {
          "output_type": "stream",
          "name": "stdout",
          "text": [
            "reasoning: The comment is a play on words from the parent comment, replacing \"sense\" with \"cents\" to emphasize the financial aspect of a potential rematch. It doesn't express a strong positive or negative sentiment towards the fight itself, but rather highlights the monetary incentive.\n",
            "label: neutral\n",
            "reasoning: The comment expresses a neutral sentiment towards the fight. It acknowledges Khabib's punch but downplays its significance, suggesting people are overhyping it. The comment doesn't express strong positive or negative feelings about either fighter or the fight's outcome.\n",
            "label: neutral\n"
          ]
        },
        {
          "output_type": "stream",
          "name": "stderr",
          "text": [
            "WARNING:tornado.access:429 POST /v1beta/models/gemini-2.0-flash:generateContent?%24alt=json%3Benum-encoding%3Dint (127.0.0.1) 606.75ms\n",
            "WARNING:tornado.access:429 POST /v1beta/models/gemini-2.0-flash:generateContent?%24alt=json%3Benum-encoding%3Dint (127.0.0.1) 555.79ms\n",
            "WARNING:tornado.access:429 POST /v1beta/models/gemini-2.0-flash:generateContent?%24alt=json%3Benum-encoding%3Dint (127.0.0.1) 581.58ms\n",
            "WARNING:tornado.access:429 POST /v1beta/models/gemini-2.0-flash:generateContent?%24alt=json%3Benum-encoding%3Dint (127.0.0.1) 551.77ms\n",
            "WARNING:tornado.access:429 POST /v1beta/models/gemini-2.0-flash:generateContent?%24alt=json%3Benum-encoding%3Dint (127.0.0.1) 556.81ms\n",
            "WARNING:tornado.access:429 POST /v1beta/models/gemini-2.0-flash:generateContent?%24alt=json%3Benum-encoding%3Dint (127.0.0.1) 556.52ms\n"
          ]
        },
        {
          "output_type": "stream",
          "name": "stdout",
          "text": [
            "reasoning: The comment expresses a negative sentiment towards Conor, implying he deserves more punishment.\n",
            "label: negative\n",
            "reasoning: The comment expresses a negative sentiment towards Conor McGregor and his performance in the fight, stating he \"shit his jocks\" and opposing a rematch.\n",
            "label: negative\n",
            "reasoning: The comment expresses a nuanced view. While acknowledging Khabib's dominance and Conor's loss, it also points out Conor's win in the 3rd round and the context of his absence. It suggests a possible rematch scenario and future fights for Conor, indicating a somewhat positive outlook on his future in the sport. The comment also expresses a preference for Tony to fight Khabib, but wouldn't complain about a rematch.\n",
            "label: neutral\n",
            "reasoning: The comment expresses a negative sentiment towards Conor, stating he will only take fights where he is the heavy favorite and is more concerned with his brand than being a deserving champion. It also suggests that a future fight with Khabib would be motivated by self-loathing and money.\n",
            "label: negative\n",
            "reasoning: The comment acknowledges Khabib's unexpected success in the stand-up aspect of the fight against Conor, which is a positive observation about Khabib's performance.\n",
            "label: positive\n",
            "reasoning: The comment expresses a neutral sentiment towards the fight itself, focusing more on the business and fan aspects surrounding Conor McGregor and Khabib Nurmagomedov. It acknowledges Conor's impact on viewership and suggests alternative matchups.\n",
            "label: neutral\n",
            "reasoning: The comment answers the question in the submission with \"money\", implying that the only reason Conor would be considered for a rematch is for financial gain. This suggests a negative sentiment towards the situation, as it implies that merit and fairness are being overlooked in favor of profit.\n",
            "label: negative\n",
            "reasoning: The comment discusses a hypothetical scenario where Conor fights his way back up to a rematch, but expresses doubt that he would actually do it. It also mentions Tony potentially beating Khabib, which would derail the hype for a rematch. The overall sentiment is neutral as it's discussing possibilities and potential outcomes without expressing strong positive or negative feelings towards the fight itself.\n",
            "label: neutral\n",
            "reasoning: The comment expresses agreement with the submission's sentiment that Conor doesn't deserve an immediate rematch. While the commenter identifies as a Conor fan, they acknowledge he should earn another title shot through the division, similar to other fighters. This aligns with the negative sentiment towards Conor getting a rematch without earning it.\n",
            "label: negative\n",
            "reasoning: The comment acknowledges Khabib's dominance but highlights Conor's unique achievement of winning a round against him, suggesting this justifies a rematch more than other potential opponents. This is a somewhat positive sentiment towards Conor getting a rematch.\n",
            "label: positive\n",
            "reasoning: The comment expresses a negative sentiment towards a potential rematch between Conor and Khabib, arguing it's too risky for Conor and the UFC. It suggests alternative fights for Conor and highlights the unfairness to Tony Ferguson.\n",
            "label: negative\n",
            "reasoning: The comment expresses a desire to see Conor get injured in a potential rematch, indicating a negative sentiment towards Conor and a positive sentiment towards Khabib.\n",
            "label: negative\n",
            "reasoning: The comment acknowledges the UFC's business-oriented nature and suggests that a rematch between Conor and Khabib would be financially beneficial, despite Conor's performance in the first fight. It doesn't express a positive or negative sentiment towards the fight itself, but rather comments on the business aspect of it.\n",
            "label: neutral\n",
            "reasoning: The comment acknowledges Conor's disadvantage after being taken down and gassed out, but also suggests that a fresh stand-up fight would favor Conor. It acknowledges Khabib's victory due to fighting his own fight. This is a neutral assessment of the fight.\n",
            "label: neutral\n",
            "reasoning: The comment is asking a question about the possibility of posting a video and its answer. It does not express any sentiment towards the fight itself.\n",
            "label: neutral\n",
            "reasoning: The comment expresses a preference for Conor to have another fight before a rematch with Khabib, suggesting a need for improvement and confidence-building. It also expresses a desire to see Tony fight Khabib first. This indicates a neutral sentiment towards the immediate prospect of a Conor-Khabib rematch.\n",
            "label: neutral\n"
          ]
        },
        {
          "output_type": "stream",
          "name": "stderr",
          "text": [
            "WARNING:tornado.access:429 POST /v1beta/models/gemini-2.0-flash:generateContent?%24alt=json%3Benum-encoding%3Dint (127.0.0.1) 580.63ms\n"
          ]
        },
        {
          "output_type": "stream",
          "name": "stdout",
          "text": [
            "reasoning: The comment expresses a negative sentiment towards Conor's performance in the fight, stating he was \"shit\" and attributing it to his time away from the octagon. It suggests he needs more fights to improve before a rematch with Khabib, implying his current level is not sufficient.\n",
            "label: negative\n",
            "reasoning: The comment brings up an incident where Tony (presumably Tony Ferguson) committed a foul during a fight, kicking Barboza while he was downed. This is presented as a negative action, potentially undermining the argument that Tony is a clean fighter deserving of a title shot.\n",
            "label: negative\n"
          ]
        },
        {
          "output_type": "stream",
          "name": "stderr",
          "text": [
            "WARNING:tornado.access:429 POST /v1beta/models/gemini-2.0-flash:generateContent?%24alt=json%3Benum-encoding%3Dint (127.0.0.1) 581.18ms\n",
            "WARNING:tornado.access:429 POST /v1beta/models/gemini-2.0-flash:generateContent?%24alt=json%3Benum-encoding%3Dint (127.0.0.1) 581.81ms\n",
            "WARNING:tornado.access:429 POST /v1beta/models/gemini-2.0-flash:generateContent?%24alt=json%3Benum-encoding%3Dint (127.0.0.1) 580.58ms\n",
            "WARNING:tornado.access:429 POST /v1beta/models/gemini-2.0-flash:generateContent?%24alt=json%3Benum-encoding%3Dint (127.0.0.1) 580.48ms\n",
            "WARNING:tornado.access:429 POST /v1beta/models/gemini-2.0-flash:generateContent?%24alt=json%3Benum-encoding%3Dint (127.0.0.1) 581.54ms\n",
            "WARNING:tornado.access:429 POST /v1beta/models/gemini-2.0-flash:generateContent?%24alt=json%3Benum-encoding%3Dint (127.0.0.1) 581.45ms\n"
          ]
        },
        {
          "output_type": "stream",
          "name": "stdout",
          "text": [
            "reasoning: The comment agrees with the parent comment, which discusses Khabib's unexpected success in striking against Conor. The comment clarifies that the attention is due to the surprise factor, not necessarily Khabib's boxing prowess. This aligns with a negative sentiment towards Conor and a neutral sentiment towards Khabib.\n",
            "label: neutral\n",
            "reasoning: The comment expresses a positive sentiment towards the event and the sport in general, even though it acknowledges Conor McGregor as the initial draw. The commenter is looking forward to future events, indicating a positive experience.\n",
            "label: positive\n",
            "reasoning: The comment expresses a positive sentiment (\"Good stuff, I'm glad to hear it\") in response to the parent comment about being drawn into watching full UFC cards due to Conor McGregor but staying for other fighters like Derrick Lewis.\n",
            "label: positive\n",
            "reasoning: The comment expresses disappointment that a more deserving fighter like Ferguson might not get a chance to fight due to Conor's popularity and money-making ability. It also criticizes the lack of competitiveness in Conor's fight and suggests that the rematch is likely to happen despite it.\n",
            "label: negative\n",
            "reasoning: The comment acknowledges the dominance of Khabib in the fight but suggests a rematch is inevitable due to the financial incentive. It also acknowledges Tony Ferguson's claim to a title shot. The comment does not express a positive or negative sentiment towards either fighter, but rather a neutral observation of the situation.\n",
            "label: neutral\n",
            "reasoning: The comment expresses a nuanced view on the fight, suggesting Conor wasn't necessarily dominated but had the wrong mindset. It also references Josh Thompson's take, implying there's more to the story than a simple domination. While not explicitly positive, it's not entirely negative either, leaning towards a more neutral perspective with a hint of defending Conor's performance.\n",
            "label: neutral\n",
            "reasoning: The comment agrees with the sentiment expressed in the submission, which is negative towards Conor getting a rematch. It suggests alternative fights for McGregor, indicating a belief that a rematch with Khabib is not the best option.\n",
            "label: negative\n",
            "reasoning: The comment \"this\" is an agreement with the parent comment, which states that Conor should work his way back up instead of getting an immediate rematch. The parent comment is negative towards Conor getting a rematch.\n",
            "label: negative\n",
            "reasoning: The comment expresses a negative sentiment towards Conor McGregor's performance in the fight against Khabib Nurmagomedov. It highlights McGregor's cheating, his domination in the fight, and compares his performance unfavorably to Al Iaquinta's. The comment suggests that McGregor doesn't stand a chance in a rematch.\n",
            "label: negative\n",
            "reasoning: The comment expresses concern for Conor's health and questions the logic of him fighting Diaz again, suggesting it's not worth the risk of brain damage. This indicates a negative sentiment towards the idea of Conor fighting Diaz.\n",
            "label: negative\n",
            "reasoning: The comment expresses a negative sentiment towards Conor McGregor's performance in the fight against Khabib Nurmagomedov. It highlights Conor's alleged cheating, his domination in the fight, and compares his performance unfavorably to Al Iaquinta's.\n",
            "label: negative\n",
            "reasoning: The comment discusses Conor's stand-up ability and how it's affected by fatigue, implying that a complete fighter needs to perform well even when not \"fresh.\" It acknowledges Khabib's successful strike, even if technically flawed, and suggests that effectiveness matters more than pure technique. The comment doesn't express strong positive or negative feelings towards either fighter, but rather offers a neutral analysis of their strengths and weaknesses.\n",
            "label: neutral\n",
            "reasoning: The comment expresses a negative sentiment towards Conor deserving a rematch, stating he should fight his way back up. It also criticizes his lack of ground game and acknowledges his cheating, although with a somewhat lenient view due to the referee's lax enforcement.\n",
            "label: negative\n",
            "reasoning: The comment expresses a negative opinion about Conor McGregor's fighting abilities, suggesting his success was due to luck and hype rather than skill. It also states that Khabib would easily win against Conor even at his best.\n",
            "label: negative\n",
            "reasoning: The comment acknowledges Conor's skill while also pointing out his shortcomings in the fight against Khabib. It suggests that the fight was not representative of Conor's true abilities and offers potential explanations for his poor performance. The overall sentiment is mixed, acknowledging both positive and negative aspects of Conor's performance and potential.\n",
            "label: neutral\n",
            "reasoning: The comment downplays Conor's cheating, stating \"everyone does that stuff\" and suggesting it's not enough to label him a cheater. This implies a neutral or slightly negative sentiment towards the original post's strong condemnation of Conor.\n",
            "label: neutral\n"
          ]
        },
        {
          "output_type": "stream",
          "name": "stderr",
          "text": [
            "WARNING:tornado.access:429 POST /v1beta/models/gemini-2.0-flash:generateContent?%24alt=json%3Benum-encoding%3Dint (127.0.0.1) 581.33ms\n",
            "WARNING:tornado.access:429 POST /v1beta/models/gemini-2.0-flash:generateContent?%24alt=json%3Benum-encoding%3Dint (127.0.0.1) 1061.48ms\n",
            "WARNING:tornado.access:429 POST /v1beta/models/gemini-2.0-flash:generateContent?%24alt=json%3Benum-encoding%3Dint (127.0.0.1) 582.00ms\n",
            "WARNING:tornado.access:429 POST /v1beta/models/gemini-2.0-flash:generateContent?%24alt=json%3Benum-encoding%3Dint (127.0.0.1) 581.88ms\n",
            "WARNING:tornado.access:429 POST /v1beta/models/gemini-2.0-flash:generateContent?%24alt=json%3Benum-encoding%3Dint (127.0.0.1) 581.13ms\n"
          ]
        },
        {
          "output_type": "stream",
          "name": "stdout",
          "text": [
            "reasoning: The comment expresses a mixed sentiment. It acknowledges Conor's loss and the impact of his time off, suggesting it was a bad move to fight Khabib. However, it also states that a \"fresh crisp Conor\" could have performed better and that Conor is still a great fighter and top five. It also acknowledges Khabib's dominance and the difficulty in beating him. Overall, the comment is more neutral than negative or positive.\n",
            "label: neutral\n"
          ]
        },
        {
          "output_type": "stream",
          "name": "stderr",
          "text": [
            "WARNING:tornado.access:429 POST /v1beta/models/gemini-2.0-flash:generateContent?%24alt=json%3Benum-encoding%3Dint (127.0.0.1) 606.45ms\n",
            "WARNING:tornado.access:429 POST /v1beta/models/gemini-2.0-flash:generateContent?%24alt=json%3Benum-encoding%3Dint (127.0.0.1) 570.03ms\n",
            "WARNING:tornado.access:429 POST /v1beta/models/gemini-2.0-flash:generateContent?%24alt=json%3Benum-encoding%3Dint (127.0.0.1) 581.16ms\n",
            "WARNING:tornado.access:429 POST /v1beta/models/gemini-2.0-flash:generateContent?%24alt=json%3Benum-encoding%3Dint (127.0.0.1) 582.88ms\n",
            "WARNING:tornado.access:429 POST /v1beta/models/gemini-2.0-flash:generateContent?%24alt=json%3Benum-encoding%3Dint (127.0.0.1) 556.28ms\n"
          ]
        },
        {
          "output_type": "stream",
          "name": "stdout",
          "text": [
            "reasoning: The comment \"You're such a weirdo dude lol\" is a negative statement directed at someone, likely the original poster or another commenter. It doesn't express a positive or neutral sentiment towards the fight itself.\n",
            "label: negative\n",
            "reasoning: The comment expresses a negative sentiment towards Conor McGregor's performance in the fight against Khabib Nurmagomedov. It highlights his illegal moves, inability to defend takedowns, and overall inferiority to Khabib. The comment also references Daniel Cormier's opinion that Conor will never beat Khabib.\n",
            "label: negative\n",
            "reasoning: The comment describes the fight as a brutal one, with both fighters taking a beating. This suggests a negative sentiment towards the fight itself, implying it was a damaging and potentially undesirable event.\n",
            "label: negative\n",
            "reasoning: The comment is critical of Conor's actions during the fight, highlighting his fouls and comparing him to another fighter labeled as dirty. It also questions what to call someone who consistently cheats.\n",
            "label: negative\n",
            "reasoning: The comment defends Conor's actions during the fight, stating they are \"veteran moves\" and common in MMA fights. It downplays the cheating accusations and suggests Conor was simply unable to escape Khabib's pressure. This indicates a more positive sentiment towards Conor and a less negative view of his actions in the fight.\n",
            "label: neutral\n",
            "reasoning: The comment \"Why do you say that?\" is a direct response to the statement \"You’re such a weirdo dude lol\". It is questioning the reasoning behind the insult and does not express any sentiment towards the fight itself.\n",
            "label: neutral\n",
            "reasoning: The comment expresses a neutral sentiment towards the fight and the fighters involved. It acknowledges Khabib's dominant victory and draws a parallel to other fighters who gained popularity after defeating well-known opponents. The comment does not express strong positive or negative feelings about either fighter or the prospect of a rematch.\n",
            "label: neutral\n",
            "reasoning: The comment expresses a negative sentiment towards Khabib by suggesting Kevin Lee should get the title shot and mentioning Lee's complaints about Khabib.\n",
            "label: negative\n",
            "reasoning: The comment is discussing Khabib's potential PPV buys, referencing a previous fight and his increased popularity. It's a neutral observation about the business side of fighting, not expressing a positive or negative sentiment towards the fight itself.\n",
            "label: neutral\n",
            "reasoning: The comment is providing information about the number of PPV buys for a previous event (UFC 223). This information is relevant to the discussion about Khabib's PPV numbers and popularity, but it doesn't express a positive, negative, or neutral sentiment towards the fight itself.\n",
            "label: neutral\n",
            "reasoning: The comment expresses a negative sentiment towards Conor getting a rematch, stating he doesn't deserve it and criticizing the UFC for potentially prioritizing money over deserving contenders. The comment also includes a vulgar suggestion, further indicating negativity.\n",
            "label: negative\n",
            "reasoning: The comment expresses a mixed sentiment. It acknowledges the possibility of a rematch but argues against it happening immediately, suggesting Conor needs to earn it first. It also points out the conclusive nature of the previous defeat and the potential for a repeat outcome. The comment also acknowledges the financial incentive for an immediate rematch.\n",
            "label: neutral\n",
            "reasoning: The comment expresses a negative sentiment towards Conor McGregor's performance in the fight, using phrases like \"desperate,\" \"tapped like chicken,\" and \"totally outclassed.\" It also suggests that McGregor's confidence was a mask and that he was overhyped.\n",
            "label: negative\n",
            "reasoning: The comment expresses frustration and disagreement with the previous comment, indicating a negative sentiment towards the direction of the conversation. It doesn't express any sentiment towards the fight itself.\n",
            "label: negative\n",
            "reasoning: The comment expresses a strong negative sentiment towards Conor, accusing him of being \"blatantly racist\" and associating him with negative elements.\n",
            "label: negative\n"
          ]
        },
        {
          "output_type": "stream",
          "name": "stderr",
          "text": [
            "WARNING:tornado.access:429 POST /v1beta/models/gemini-2.0-flash:generateContent?%24alt=json%3Benum-encoding%3Dint (127.0.0.1) 581.31ms\n",
            "WARNING:tornado.access:429 POST /v1beta/models/gemini-2.0-flash:generateContent?%24alt=json%3Benum-encoding%3Dint (127.0.0.1) 556.22ms\n"
          ]
        },
        {
          "output_type": "stream",
          "name": "stdout",
          "text": [
            "reasoning: The comment expresses the opinion that Conor was not racist, but rather disrespectful and chauvinistic. It also points out that Conor and Khabib are of the same race. This suggests a defense of Conor against accusations of racism.\n",
            "label: positive\n"
          ]
        },
        {
          "output_type": "stream",
          "name": "stderr",
          "text": [
            "WARNING:tornado.access:429 POST /v1beta/models/gemini-2.0-flash:generateContent?%24alt=json%3Benum-encoding%3Dint (127.0.0.1) 580.85ms\n"
          ]
        },
        {
          "output_type": "stream",
          "name": "stdout",
          "text": [
            "reasoning: The comment argues that Conor McGregor is not racist, citing his friendship with Artem Lobov (who is Russian) and his supposed friendship with people of all nations and cultures. It also summarizes the events leading up to and following the fight between Conor and Khabib, suggesting that the conflict was not rooted in racism.\n",
            "label: neutral\n"
          ]
        },
        {
          "output_type": "stream",
          "name": "stderr",
          "text": [
            "WARNING:tornado.access:429 POST /v1beta/models/gemini-2.0-flash:generateContent?%24alt=json%3Benum-encoding%3Dint (127.0.0.1) 585.56ms\n",
            "WARNING:tornado.access:429 POST /v1beta/models/gemini-2.0-flash:generateContent?%24alt=json%3Benum-encoding%3Dint (127.0.0.1) 732.20ms\n",
            "WARNING:tornado.access:429 POST /v1beta/models/gemini-2.0-flash:generateContent?%24alt=json%3Benum-encoding%3Dint (127.0.0.1) 582.81ms\n"
          ]
        },
        {
          "output_type": "stream",
          "name": "stdout",
          "text": [
            "reasoning: The comment \"End of.\" is a strong statement that concludes the previous comment's argument, which is highly critical and negative towards Conor McGregor. It reinforces the negative sentiment expressed in the parent comment.\n",
            "label: negative\n"
          ]
        },
        {
          "output_type": "stream",
          "name": "stderr",
          "text": [
            "WARNING:tornado.access:429 POST /v1beta/models/gemini-2.0-flash:generateContent?%24alt=json%3Benum-encoding%3Dint (127.0.0.1) 580.92ms\n",
            "WARNING:tornado.access:429 POST /v1beta/models/gemini-2.0-flash:generateContent?%24alt=json%3Benum-encoding%3Dint (127.0.0.1) 581.46ms\n",
            "WARNING:tornado.access:429 POST /v1beta/models/gemini-2.0-flash:generateContent?%24alt=json%3Benum-encoding%3Dint (127.0.0.1) 581.67ms\n",
            "WARNING:tornado.access:429 POST /v1beta/models/gemini-2.0-flash:generateContent?%24alt=json%3Benum-encoding%3Dint (127.0.0.1) 555.55ms\n",
            "WARNING:tornado.access:429 POST /v1beta/models/gemini-2.0-flash:generateContent?%24alt=json%3Benum-encoding%3Dint (127.0.0.1) 581.14ms\n",
            "WARNING:tornado.access:429 POST /v1beta/models/gemini-2.0-flash:generateContent?%24alt=json%3Benum-encoding%3Dint (127.0.0.1) 556.63ms\n",
            "WARNING:tornado.access:429 POST /v1beta/models/gemini-2.0-flash:generateContent?%24alt=json%3Benum-encoding%3Dint (127.0.0.1) 555.91ms\n"
          ]
        },
        {
          "output_type": "stream",
          "name": "stdout",
          "text": [
            "reasoning: The comment expresses a neutral stance, acknowledging that Conor may have come close to crossing the line with his comments but didn't explicitly make racist remarks. It also acknowledges that Conor mocked Khabib's religion, which could be offensive to Khabib.\n",
            "label: neutral\n",
            "reasoning: The comment expresses a negative sentiment towards Conor McGregor, stating that his behavior, while not explicitly racist, contributed to his defeat in the fight. The comment uses derogatory language (\"Mad backwards cunt\") and implies satisfaction with McGregor's loss (\"got him choked the fuck out lol\").\n",
            "label: negative\n",
            "reasoning: The comment is questioning a specific claim made about Conor McGregor's behavior during the fight, specifically whether he mocked Khabib's religion. The commenter states they don't recall this happening, indicating a neutral stance towards the fight itself and the accusations of racism.\n",
            "label: neutral\n",
            "reasoning: The comment expresses disagreement with the previous comment and accuses the commenter of being a \"hater.\" This indicates a negative sentiment towards the commenter, but not necessarily towards the fight itself.\n",
            "label: negative\n",
            "reasoning: The comment expresses a negative opinion about Conor McGregor's character, stating he is \"not a nice person\" and \"not very well thought of by decent Irish folk.\" This aligns with a negative sentiment towards him.\n",
            "label: negative\n",
            "reasoning: The comment discusses the interpretation of offering alcohol to a Muslim, relating it to the previous comment's mention of Conor mocking Khabib's religion. It presents a neutral perspective on cultural differences and interpretation, without expressing a strong positive or negative sentiment towards the fight or the individuals involved.\n",
            "label: neutral\n",
            "reasoning: The comment expresses frustration with the previous commenter for bringing up irrelevant information about Conor McGregor's reputation in Ireland, rather than addressing the original question about whether his pre-fight comments were racist. The commenter dismisses the previous commenter's claims and emphasizes the disconnect between the topic at hand and the information being presented.\n",
            "label: negative\n",
            "reasoning: The comment discusses Conor McGregor's use of religious phrases sarcastically, which the commenter considers disrespectful to Muslims. This indicates a negative sentiment towards McGregor's actions in the context of the fight and the associated controversy.\n",
            "label: negative\n",
            "reasoning: The comment clarifies the difference between \"racist\" and \"bigot,\" suggesting that Conor's actions might be better described as bigotry rather than racism. This aligns with the submission's questioning of whether Conor was truly racist and the parent comment's assertion that he was disrespectful but not racist. The comment does not express a strong positive or negative sentiment towards either fighter but rather focuses on clarifying terminology.\n",
            "label: neutral\n",
            "reasoning: The comment \"Thanks I really did miss that\" expresses gratitude for information provided in the parent comment. It indicates that the commenter now understands something they previously didn't, suggesting a positive shift in their understanding of the situation.\n",
            "label: positive\n",
            "reasoning: The comment \"Have a great weekend\" is a general well-wishing statement and does not express any sentiment towards the fight or the topic of Conor McGregor's alleged racism.\n",
            "label: neutral\n",
            "reasoning: The comment \"You too!\" is a polite response to the previous comment's well-wishing (\"Have a great weekend\"). It doesn't express any sentiment towards the fight or the topic of racism.\n",
            "label: neutral\n",
            "reasoning: The comment discusses whether Conor's actions were truly racist, arguing that intent matters and that his words might have been a tactic to anger Khabib for the fight. It acknowledges the shittiness of his behavior but refrains from definitively labeling him as racist, stating that we cannot know his true intentions. The comment is therefore neutral.\n",
            "label: neutral\n",
            "reasoning: The comment is asking for clarification on what specific statements made by Conor were perceived as racist. It doesn't express a positive or negative sentiment towards Conor or the accusations of racism, but rather seeks more information.\n",
            "label: neutral\n",
            "reasoning: The comment is dismissive and mocking of the idea that Conor's comments could be considered racist or offensive. It uses sarcastic language (\"Wahhhhh,\" \"she brigade,\" \"safe spaces\") to belittle those who might be offended.\n",
            "label: negative\n",
            "reasoning: The comment expresses uncertainty about whether Conor said anything racist and clarifies that the previous comment was meant to be conditional. It doesn't express a strong positive or negative sentiment towards the fight itself, but rather focuses on clarifying the author's stance on the racism accusation.\n",
            "label: neutral\n",
            "reasoning: The comment expresses a negative sentiment towards Conor's actions, stating that talking about religion is unacceptable and referencing the Charlie Hebdo incident. The sarcasm tag at the end does not negate the initial negative sentiment.\n",
            "label: negative\n",
            "reasoning: The comment argues that Conor was not racist but inflammatory, specifically mentioning the alcohol offering and Dillon Danis's comment. It suggests that these actions were intended to provoke Khabib and sell the fight, rather than being rooted in racism. The commenter expresses dislike for Conor but believes the \"racist\" accusation is an exaggeration.\n",
            "label: negative\n",
            "reasoning: The comment expresses a negative sentiment towards the statement \"calling someone a 'Muslim rat'\", labeling it as bigoted. While the parent comment argues that this statement isn't racist, this comment disagrees and views it negatively.\n",
            "label: negative\n",
            "reasoning: The comment argues that the terms \"bigot\" and \"racist\" are essentially the same, using a dictionary definition of \"bigot\" that includes hatred and intolerance towards racial or ethnic groups. This is a neutral statement about the definition of words, not expressing a positive or negative sentiment towards the fight or the fighters.\n",
            "label: neutral\n",
            "reasoning: The comment uses a laughing emoji, which in this context, likely expresses amusement or disbelief at the previous comment's over-the-top reaction to the mention of religion. This doesn't directly express a positive or negative sentiment towards the fight itself or the racism accusation.\n",
            "label: neutral\n",
            "reasoning: The comment argues that calling someone a \"Muslim rat\" is not necessarily racist because it doesn't generalize to all Muslims. It attempts to clarify the distinction between targeting an individual's actions and making broad generalizations about a group. The comment is trying to defend the statement.\n",
            "label: neutral\n",
            "reasoning: The comment \"why bring it up at all\" expresses a negative sentiment towards the discussion of whether Conor was racist. It suggests that the topic is unnecessary or unwelcome.\n",
            "label: negative\n"
          ]
        },
        {
          "output_type": "stream",
          "name": "stderr",
          "text": [
            "WARNING:tornado.access:429 POST /v1beta/models/gemini-2.0-flash:generateContent?%24alt=json%3Benum-encoding%3Dint (127.0.0.1) 584.74ms\n",
            "WARNING:tornado.access:429 POST /v1beta/models/gemini-2.0-flash:generateContent?%24alt=json%3Benum-encoding%3Dint (127.0.0.1) 564.29ms\n",
            "WARNING:tornado.access:429 POST /v1beta/models/gemini-2.0-flash:generateContent?%24alt=json%3Benum-encoding%3Dint (127.0.0.1) 556.57ms\n",
            "WARNING:tornado.access:429 POST /v1beta/models/gemini-2.0-flash:generateContent?%24alt=json%3Benum-encoding%3Dint (127.0.0.1) 607.49ms\n",
            "WARNING:tornado.access:429 POST /v1beta/models/gemini-2.0-flash:generateContent?%24alt=json%3Benum-encoding%3Dint (127.0.0.1) 557.22ms\n",
            "WARNING:tornado.access:429 POST /v1beta/models/gemini-2.0-flash:generateContent?%24alt=json%3Benum-encoding%3Dint (127.0.0.1) 556.07ms\n"
          ]
        },
        {
          "output_type": "stream",
          "name": "stdout",
          "text": [
            "reasoning: The comment expresses a negative sentiment towards Conor McGregor, accusing him of racism and Islamophobia based on his comments about Khabib Nurmagomedov's manager, Abdelaziz. The commenter believes McGregor's words implied a connection between being Muslim and being a terrorist, which they find offensive and indicative of racism.\n",
            "label: negative\n",
            "reasoning: The comment \"Psychological warfare\" refers to Conor's tactics during the fight promotion, which is a neutral observation about the events.\n",
            "label: neutral\n",
            "reasoning: The comment is sarcastic and dismissive of the idea that Conor is racist, using Khabib's skin tone as a counterargument. This implies a negative sentiment towards the accusation of racism against Conor.\n",
            "label: negative\n",
            "reasoning: The comment expresses a desire for the previous comment to be widely disseminated, indicating a positive sentiment towards its content and the fight in general.\n",
            "label: positive\n",
            "reasoning: The comment expresses a negative sentiment towards the use of religious or racial slurs, arguing that such language constitutes bigotry regardless of the intent. It directly addresses the discussion about whether calling someone a \"Muslim rat\" is racist or bigoted, asserting that it is indeed bigotry.\n",
            "label: negative\n",
            "reasoning: The comment expresses a negative sentiment towards Conor McGregor, asserting that he was \"blatantly racist\" during the press conference. The commenter uses strong language (\"fucking conference\") to emphasize their point and dismiss any doubt about McGregor's alleged racism.\n",
            "label: negative\n",
            "reasoning: The comment argues against the previous comment's assertion that \"racist\" and \"bigot\" are basically the same, stating that they have different meanings and that being against a religion is not racist. This is a neutral stance on the fight itself, but it is a negative stance on the previous comment.\n",
            "label: negative\n",
            "reasoning: The comment expresses disagreement with the previous comment's attempt to downplay the potential bigotry in calling someone a \"Muslim rat.\" It uses the phrase \"mental gymnastics\" to suggest that the previous comment is twisting logic to justify the statement. This indicates a negative sentiment towards the argument being made.\n",
            "label: negative\n",
            "reasoning: The comment uses sarcasm and a negative tone to criticize the idea that offering drinks to Muslims is inherently offensive, referencing the behavior of Saudis in Dubai and Bahrain. This suggests a negative sentiment towards the idea being discussed.\n",
            "label: negative\n",
            "reasoning: The comment is pointing out the difference between racism and religious intolerance, which is a neutral statement in the context of the fight and the accusations of racism.\n",
            "label: neutral\n",
            "reasoning: The comment expresses frustration and annoyance at being downvoted for expressing an opinion, even though the commenter wasn't defending Conor. This indicates a negative sentiment towards the situation and the reaction of others.\n",
            "label: negative\n",
            "reasoning: The comment expresses a negative sentiment towards the argument presented in the parent comments, dismissing it as \"dumb.\" It also implies that the distinction between \"racist\" and \"bigotry\" is not significant, which can be interpreted as a negative stance towards the discussion.\n",
            "label: negative\n",
            "reasoning: The comment argues that Conor's actions were bigoted but not racist, aligning with the sentiment that the accusations of racism are exaggerated. The commenter explicitly states they do not like Conor, but still defend him against the racism claims.\n",
            "label: neutral\n",
            "reasoning: The comment argues that Conor's emphasis on Khabib's religion while calling him a \"rat\" suggests a negative association between being Muslim and being a rat, thus implying bigotry. The comment uses an analogy to illustrate how adding race to an accusation can make it racist. The commenter clearly believes Conor was bigoted.\n",
            "label: negative\n",
            "reasoning: The comment argues against the idea that Conor is racist, stating that racism is about races, not religion. It questions the commenter's understanding of racism and suggests they get their information from unreliable sources.\n",
            "label: negative\n"
          ]
        },
        {
          "output_type": "stream",
          "name": "stderr",
          "text": [
            "WARNING:tornado.access:429 POST /v1beta/models/gemini-2.0-flash:generateContent?%24alt=json%3Benum-encoding%3Dint (127.0.0.1) 558.54ms\n"
          ]
        },
        {
          "output_type": "stream",
          "name": "stdout",
          "text": [
            "reasoning: The comment expresses a negative sentiment towards Conor, claiming he uses terms in a racist way and calling the reader ignorant for not knowing this.\n",
            "label: negative\n"
          ]
        },
        {
          "output_type": "stream",
          "name": "stderr",
          "text": [
            "WARNING:tornado.access:429 POST /v1beta/models/gemini-2.0-flash:generateContent?%24alt=json%3Benum-encoding%3Dint (127.0.0.1) 583.11ms\n",
            "WARNING:tornado.access:429 POST /v1beta/models/gemini-2.0-flash:generateContent?%24alt=json%3Benum-encoding%3Dint (127.0.0.1) 557.38ms\n",
            "WARNING:tornado.access:429 POST /v1beta/models/gemini-2.0-flash:generateContent?%24alt=json%3Benum-encoding%3Dint (127.0.0.1) 557.11ms\n",
            "WARNING:tornado.access:429 POST /v1beta/models/gemini-2.0-flash:generateContent?%24alt=json%3Benum-encoding%3Dint (127.0.0.1) 557.34ms\n",
            "WARNING:tornado.access:429 POST /v1beta/models/gemini-2.0-flash:generateContent?%24alt=json%3Benum-encoding%3Dint (127.0.0.1) 532.33ms\n",
            "WARNING:tornado.access:429 POST /v1beta/models/gemini-2.0-flash:generateContent?%24alt=json%3Benum-encoding%3Dint (127.0.0.1) 561.30ms\n"
          ]
        },
        {
          "output_type": "stream",
          "name": "stdout",
          "text": [
            "reasoning: The comment is dismissive and aggressive towards the previous commenter, calling them a \"weirdo\" and threatening to report them. It also questions their intelligence and education. This indicates a negative sentiment towards the previous commenter and their argument.\n",
            "label: negative\n",
            "reasoning: The comment argues that Conor's actions were not racist because religion is not a race, but could be considered bigotry. The comment expresses a clear stance on the issue of whether Conor's actions were racist, aligning with the sentiment that they were not.\n",
            "label: neutral\n",
            "reasoning: The comment expresses disagreement with the previous comment's assessment that Conor was simply \"selling the fight\" and suggests that calling someone a terrorist because they are Muslim goes beyond mere promotion. This implies a negative sentiment towards Conor's actions and a defense of the claim that he was racist.\n",
            "label: negative\n",
            "reasoning: The comment expresses a negative opinion about a previous comment, using the word \"moronic\" which is clearly derogatory.\n",
            "label: negative\n",
            "reasoning: The comment implies that Khabib has financiers with terrorist connections because he is Muslim. This is a negative sentiment towards Khabib and potentially Islam.\n",
            "label: negative\n",
            "reasoning: The comment argues that Conor's statements were not racist but could be considered bigoted. It clarifies that Islam is an idea, not a race, and that Conor's comments were about Khabib being \"backwards.\" This suggests a neutral stance on whether Conor was racist, but acknowledges the potential for offense.\n",
            "label: neutral\n",
            "reasoning: The comment \"Why? Because it's true?\" is in response to the comment \"What a moronic comment.\" It implies agreement with the statement that the previous comment was moronic, and thus expresses a negative sentiment towards the content of that comment.\n",
            "label: negative\n",
            "reasoning: The comment expresses frustration with racism in general, triggered by the discussion. It doesn't directly express a positive or negative sentiment towards the fight itself or the fighters, but rather a negative sentiment towards racism.\n",
            "label: neutral\n",
            "reasoning: The comment expresses a positive sentiment towards sharing wisdom and promoting positive values like truth, justice, honor, and good times. It also ends with a cheerful expression.\n",
            "label: positive\n",
            "reasoning: The comment discusses the common understanding of the terms \"racist\" and \"bigot\" in relation to physical features and beliefs, respectively. It acknowledges the similarity between the two concepts but does not express a strong positive or negative sentiment towards the fight or the individuals involved.\n",
            "label: neutral\n",
            "reasoning: The comment directly responds to the parent comment's assertion that Conor and Khabib are the same race, disagreeing with that statement. This disagreement doesn't express a positive or negative sentiment towards the fight itself, but rather offers an opinion on the racial identities of the fighters.\n",
            "label: neutral\n",
            "reasoning: The comment expresses an opinion about the perceived race of Conor and Khabib, which is relevant to the discussion of whether Conor was racist. It doesn't express a positive or negative sentiment towards the fight itself, but rather a neutral observation.\n",
            "label: neutral\n",
            "reasoning: The comment expresses strong disapproval of racism and recounts a personal experience where the commenter left a social gathering due to racist remarks. The commenter clearly states their hatred for racism and their unwillingness to tolerate it, indicating a negative sentiment towards racism. While the comment doesn't directly relate to the fight, it is related to the topic of racism brought up in the submission.\n",
            "label: negative\n",
            "reasoning: The comment provides an example of McGregor's past behavior, which is perceived as offensive and potentially racist, contributing to a negative sentiment towards McGregor.\n",
            "label: negative\n",
            "reasoning: The comment questions the possibility of racism between two white individuals, implying that Conor, who is white, could not be racist towards Khabib, who is not white. This suggests a negative sentiment towards the accusation of racism against Conor.\n",
            "label: negative\n",
            "reasoning: The comment \"THAT'S RACIST\" is a direct response to the preceding comment which discusses the race of Conor and Khabib. The comment is accusing the previous comment of being racist.\n",
            "label: negative\n"
          ]
        },
        {
          "output_type": "stream",
          "name": "stderr",
          "text": [
            "WARNING:tornado.access:429 POST /v1beta/models/gemini-2.0-flash:generateContent?%24alt=json%3Benum-encoding%3Dint (127.0.0.1) 557.22ms\n",
            "WARNING:tornado.access:429 POST /v1beta/models/gemini-2.0-flash:generateContent?%24alt=json%3Benum-encoding%3Dint (127.0.0.1) 557.32ms\n"
          ]
        },
        {
          "output_type": "stream",
          "name": "stdout",
          "text": [
            "reasoning: The comment is sarcastic and uses the term \"Caucasian\" to mock the idea that Khabib could be considered non-white, implying that Conor's comments were not racist.\n",
            "label: neutral\n"
          ]
        },
        {
          "output_type": "stream",
          "name": "stderr",
          "text": [
            "WARNING:tornado.access:429 POST /v1beta/models/gemini-2.0-flash:generateContent?%24alt=json%3Benum-encoding%3Dint (127.0.0.1) 609.07ms\n",
            "WARNING:tornado.access:429 POST /v1beta/models/gemini-2.0-flash:generateContent?%24alt=json%3Benum-encoding%3Dint (127.0.0.1) 583.27ms\n",
            "WARNING:tornado.access:429 POST /v1beta/models/gemini-2.0-flash:generateContent?%24alt=json%3Benum-encoding%3Dint (127.0.0.1) 582.92ms\n",
            "WARNING:tornado.access:429 POST /v1beta/models/gemini-2.0-flash:generateContent?%24alt=json%3Benum-encoding%3Dint (127.0.0.1) 582.27ms\n"
          ]
        },
        {
          "output_type": "stream",
          "name": "stdout",
          "text": [
            "reasoning: The comment \"Cry more\" is dismissive and mocking towards the original poster's concerns about the UFC's handling of the situation. It expresses a negative sentiment towards the original poster's opinion.\n",
            "label: negative\n",
            "reasoning: The comment expresses a negative opinion about Dana White and the UFC, stating that the game is rigged and Dana White is a terrible person. This indicates a negative sentiment towards the fight and the organization.\n",
            "label: negative\n",
            "reasoning: The comment is about Conor throwing the first punch, which is a negative sentiment towards Conor.\n",
            "label: negative\n",
            "reasoning: The comment is mocking Khabib fans, implying they are still complaining even after he won. This is a negative sentiment towards Khabib fans.\n",
            "label: negative\n",
            "reasoning: The comment defends Conor's actions and blames Khabib for the brawl, indicating a positive sentiment towards Conor and a negative sentiment towards Khabib.\n",
            "label: positive\n",
            "reasoning: The comment expresses a negative sentiment towards new Khabib fans, implying they are annoying or undesirable.\n",
            "label: negative\n",
            "reasoning: The comment provides a link to a tweet, presumably related to the topic of the submission, which is about Dana White and the UFC's handling of the Khabib-Conor situation. Without knowing the content of the tweet, it's impossible to determine if it's positive, negative, or neutral towards the fight or the issues raised in the submission. However, the comment itself doesn't express any sentiment.\n",
            "label: neutral\n",
            "reasoning: The comment defends Conor and the UFC's actions, arguing that Zubaira's punch was more dangerous and that there's no proof of anti-Muslim remarks. It also points out that the UFC doesn't control purse payouts and that Khabib is also favored due to his popularity. This stance is in opposition to the original post's criticism of the UFC.\n",
            "label: negative\n",
            "reasoning: The comment expresses agreement with the original post's points about double standards and hypocrisy within the UFC, particularly regarding Conor McGregor's actions and the UFC's response. It criticizes the UFC's handling of the situation and suggests that punishing Khabib would be hypocritical. The comment also accuses the person they are responding to of being a Conor fanboy and ignoring the valid points made. Overall, the sentiment is negative towards the UFC and supportive of the original post's argument.\n",
            "label: positive\n",
            "reasoning: The comment is simply correcting a statement made in the parent comment, without expressing any strong positive or negative sentiment towards the fight, fighters, or the UFC.\n",
            "label: neutral\n",
            "reasoning: The comment expresses agreement with a previous statement, indicating a neutral stance towards the overall conflict but a positive sentiment towards the specific point being discussed.\n",
            "label: neutral\n",
            "reasoning: The comment expresses strong support for Conor McGregor and predicts a victory in a rematch, indicating a positive sentiment towards McGregor and a negative sentiment towards his opponent. The mention of \"Proper 12\" suggests allegiance to McGregor's brand.\n",
            "label: positive\n",
            "reasoning: The comment expresses disagreement with the previous comment's points, arguing that Conor threw the first punch and made offensive remarks. This indicates a negative sentiment towards Conor and potentially supportive of Khabib, aligning with the original post's sentiment.\n",
            "label: negative\n",
            "reasoning: The comment criticizes the original post's argument as \"whataboutism,\" which is a negative assessment of the argument's validity. This implies a negative sentiment towards the original post's line of reasoning.\n",
            "label: negative\n",
            "reasoning: The comment expresses support for Conor but acknowledges that he shouldn't receive special treatment, aligning with the submission's criticism of UFC's double standards. It also points out that Khabib won, implying there's no reason to \"cry\" about the situation. This suggests a neutral stance towards the fight's outcome and a critical view of the UFC's handling of the situation.\n",
            "label: neutral\n"
          ]
        },
        {
          "output_type": "stream",
          "name": "stderr",
          "text": [
            "WARNING:tornado.access:429 POST /v1beta/models/gemini-2.0-flash:generateContent?%24alt=json%3Benum-encoding%3Dint (127.0.0.1) 609.22ms\n",
            "WARNING:tornado.access:429 POST /v1beta/models/gemini-2.0-flash:generateContent?%24alt=json%3Benum-encoding%3Dint (127.0.0.1) 582.54ms\n",
            "WARNING:tornado.access:429 POST /v1beta/models/gemini-2.0-flash:generateContent?%24alt=json%3Benum-encoding%3Dint (127.0.0.1) 607.79ms\n",
            "WARNING:tornado.access:429 POST /v1beta/models/gemini-2.0-flash:generateContent?%24alt=json%3Benum-encoding%3Dint (127.0.0.1) 583.02ms\n",
            "WARNING:tornado.access:429 POST /v1beta/models/gemini-2.0-flash:generateContent?%24alt=json%3Benum-encoding%3Dint (127.0.0.1) 582.46ms\n"
          ]
        },
        {
          "output_type": "stream",
          "name": "stdout",
          "text": [
            "reasoning: The comment agrees with the submission's point that Conor threw the first punch, which is a negative sentiment towards Conor.\n",
            "label: negative\n"
          ]
        },
        {
          "output_type": "stream",
          "name": "stderr",
          "text": [
            "WARNING:tornado.access:429 POST /v1beta/models/gemini-2.0-flash:generateContent?%24alt=json%3Benum-encoding%3Dint (127.0.0.1) 607.62ms\n",
            "WARNING:tornado.access:429 POST /v1beta/models/gemini-2.0-flash:generateContent?%24alt=json%3Benum-encoding%3Dint (127.0.0.1) 606.66ms\n"
          ]
        },
        {
          "output_type": "stream",
          "name": "stdout",
          "text": [
            "reasoning: The comment expresses disagreement with a point made in the parent comment regarding the first punch thrown in the brawl. It defends Conor's team mate's actions by arguing that the punch was thrown from behind and not in a one-on-one fight. It also mentions the manager's link to terrorist organizations. The comment expresses a negative sentiment towards Khabib's team mate's actions.\n",
            "label: negative\n"
          ]
        },
        {
          "output_type": "stream",
          "name": "stderr",
          "text": [
            "WARNING:tornado.access:429 POST /v1beta/models/gemini-2.0-flash:generateContent?%24alt=json%3Benum-encoding%3Dint (127.0.0.1) 606.66ms\n",
            "WARNING:tornado.access:429 POST /v1beta/models/gemini-2.0-flash:generateContent?%24alt=json%3Benum-encoding%3Dint (127.0.0.1) 581.52ms\n",
            "WARNING:tornado.access:429 POST /v1beta/models/gemini-2.0-flash:generateContent?%24alt=json%3Benum-encoding%3Dint (127.0.0.1) 581.46ms\n",
            "WARNING:tornado.access:429 POST /v1beta/models/gemini-2.0-flash:generateContent?%24alt=json%3Benum-encoding%3Dint (127.0.0.1) 582.54ms\n",
            "WARNING:tornado.access:429 POST /v1beta/models/gemini-2.0-flash:generateContent?%24alt=json%3Benum-encoding%3Dint (127.0.0.1) 582.05ms\n"
          ]
        },
        {
          "output_type": "stream",
          "name": "stdout",
          "text": [
            "reasoning: The comment is a response to a previous comment that accuses the commenter of being a Khabib fan. The commenter denies being a Khabib fan and claims to be stating the truth. This does not express a positive or negative sentiment towards the fight itself, but rather defends the commenter's position.\n",
            "label: neutral\n",
            "reasoning: The comment expresses doubt about something, likely referring to the previous comment's assertion that Conor will easily knock Khabib out. This indicates a disagreement and a belief that it won't be as simple as suggested.\n",
            "label: negative\n",
            "reasoning: The comment expresses a negative sentiment towards Conor McGregor's actions and words, suggesting he should have been more careful and provided proof for his claims. It also defends Khabib's manager by stating that allegations against him are unproven and that he has worked with law enforcement.\n",
            "label: negative\n",
            "reasoning: The comment is mocking the previous commenter for drinking \"Proper 12\" (Conor McGregor's whiskey brand) and for their pro-Conor stance. It implies that only someone not thinking clearly would support Conor's views. This is negative towards the commenter and, by extension, negative towards Conor.\n",
            "label: negative\n",
            "reasoning: The comment is extremely offensive and uses inflammatory language, making a personal attack with baseless accusations. This is clearly negative.\n",
            "label: negative\n",
            "reasoning: The comment is responding to an accusation of throwing around allegations, specifically about someone's manager being linked to terrorist organizations. The commenter defends their statement by claiming it wasn't just a baseless allegation. This implies a negative sentiment towards the person being discussed and a defensive stance regarding the initial claim.\n",
            "label: negative\n",
            "reasoning: The comment is responding to a previous comment that made an analogy about someone's mother being linked to terrorist organizations. The comment expresses a neutral stance towards the hypothetical insult, suggesting it wouldn't bother them. This doesn't express a positive or negative sentiment towards the fight itself, but rather a personal opinion on insults.\n",
            "label: neutral\n",
            "reasoning: The comment expresses disagreement with the original post's points, but acknowledges one point as valid. It's not overly negative or positive, but rather critical and analytical.\n",
            "label: neutral\n",
            "reasoning: The comment is largely negative towards Khabib and his teammates, defending Conor McGregor and Dana White's actions. It criticizes Khabib's behavior and justifies Conor's actions, expressing strong disapproval of Khabib's team's actions.\n",
            "label: negative\n",
            "reasoning: The comment is clarifying that the user is not directly addressing the original poster (OP) but rather making a general statement about points made by many commenters. This is a neutral statement as it doesn't express a positive or negative sentiment towards the fight, fighters, or the UFC.\n",
            "label: neutral\n",
            "reasoning: The comment expresses anger and frustration towards the perceived hypocrisy in the UFC's handling of the situation, particularly regarding the punishments given to Zubaira and Conor. The commenter uses strong language (\"fucking,\" \"astounding\") to emphasize their negative sentiment.\n",
            "label: negative\n",
            "reasoning: The comment is a direct response to the previous comment's assertion that the original poster's points are not the truth. It's a challenge to explain what the truth is, indicating disagreement and a desire for clarification. This doesn't express a positive or negative sentiment towards the fight itself, but rather a neutral stance in the discussion.\n",
            "label: neutral\n",
            "reasoning: The comment expresses a negative sentiment towards Conor and a supportive sentiment towards Khabib and Zubaira, arguing that their actions were less severe than Conor's and therefore deserve a lesser punishment. This aligns with the overall sentiment of the submission, which criticizes the UFC's handling of the situation and perceived favoritism towards Conor.\n",
            "label: positive\n",
            "reasoning: The comment expresses a critical view of Dana White's actions, suggesting he acted impulsively and should have prioritized safety. While not overtly negative, it implies disapproval of his handling of the situation.\n",
            "label: negative\n",
            "reasoning: The comment expresses frustration with the ongoing discussion about the fight and defends Conor McGregor's actions by arguing that Khabib Nurmagomedov initiated the brawl by jumping the fence. The commenter believes that Conor was where he was supposed to be and that his actions were self-defense. This stance is clearly in favor of Conor and against Khabib, indicating a negative sentiment towards Khabib and those who blame Conor.\n",
            "label: negative\n"
          ]
        },
        {
          "output_type": "stream",
          "name": "stderr",
          "text": [
            "WARNING:tornado.access:429 POST /v1beta/models/gemini-2.0-flash:generateContent?%24alt=json%3Benum-encoding%3Dint (127.0.0.1) 608.13ms\n",
            "WARNING:tornado.access:429 POST /v1beta/models/gemini-2.0-flash:generateContent?%24alt=json%3Benum-encoding%3Dint (127.0.0.1) 783.62ms\n",
            "WARNING:tornado.access:429 POST /v1beta/models/gemini-2.0-flash:generateContent?%24alt=json%3Benum-encoding%3Dint (127.0.0.1) 783.30ms\n",
            "WARNING:tornado.access:429 POST /v1beta/models/gemini-2.0-flash:generateContent?%24alt=json%3Benum-encoding%3Dint (127.0.0.1) 606.94ms\n",
            "WARNING:tornado.access:429 POST /v1beta/models/gemini-2.0-flash:generateContent?%24alt=json%3Benum-encoding%3Dint (127.0.0.1) 632.57ms\n",
            "WARNING:tornado.access:429 POST /v1beta/models/gemini-2.0-flash:generateContent?%24alt=json%3Benum-encoding%3Dint (127.0.0.1) 633.31ms\n"
          ]
        },
        {
          "output_type": "stream",
          "name": "stdout",
          "text": [
            "reasoning: The comment expresses a desire for a quick resolution to the situation, indicating a neutral stance towards the conflict itself. It acknowledges the discussion as a \"civil argument\" and expresses a common goal of wanting the issue resolved.\n",
            "label: neutral\n",
            "reasoning: The comment expresses disagreement with the original post's claim that Conor was going to join the brawl, suggesting he might have been trying to stop Khabib. It also states that if Conor hadn't thrown the punch and was still attacked, the blame would be on Khabib's side. The comment also calls Khabib a \"massive idiot\" and states that Conor wasn't innocent either. The comment also brings up the issue of steroid use in the UFC, implying hypocrisy. Overall, the comment is critical of both Khabib and Conor, and also the UFC.\n",
            "label: negative\n",
            "reasoning: The comment expresses agreement with the previous comment and criticizes Khabib's actions, suggesting a negative sentiment towards Khabib and a positive sentiment towards the points made in the parent comment.\n",
            "label: positive\n",
            "reasoning: The comment is a direct response to a previous comment that mentions allegations and insults, and it uses a derogatory and potentially offensive statement about the other person's mother and religion. This is a negative sentiment.\n",
            "label: negative\n",
            "reasoning: The comment expresses anger and tells someone to \"stfu\" and stop insulting others. This indicates a negative sentiment towards the preceding comment and the insults being made.\n",
            "label: negative\n",
            "reasoning: The comment is correcting a spelling error. It does not express a positive, negative, or neutral sentiment towards the fight, fighters, or the UFC. It is purely a correction.\n",
            "label: neutral\n",
            "reasoning: The comment is a helpful correction of a spelling error. It does not express any sentiment towards the fight or the fighters involved.\n",
            "label: neutral\n",
            "reasoning: The comment is directed at a bot and expresses frustration with its spelling suggestions, calling them \"shitty\" and \"useless.\" This is clearly negative sentiment.\n",
            "label: negative\n",
            "reasoning: The comment is a bot correcting a spelling error. It is not expressing any sentiment towards the fight or the fighters.\n",
            "label: neutral\n",
            "reasoning: The comment is directed at a bot and expresses negative sentiment towards its functionality, calling it \"useless\" and criticizing its spelling hints.\n",
            "label: negative\n",
            "reasoning: The comment expresses agreement with Khabib's sentiment that MMA has become more about drama than sport, and criticizes Conor for resorting to personal attacks instead of focusing on the fight itself. It questions the validity of the terrorist allegations and suggests Conor should provide proof. The overall tone is critical of Conor's behavior and supportive of Khabib's stance.\n",
            "label: positive\n",
            "reasoning: The comment acknowledges Conor's wrongdoing (\"Conor was a dick for throwing that punch\") and suggests that the situation escalated because of it. This indicates a negative sentiment towards Conor's actions and their impact on the fight's aftermath.\n",
            "label: negative\n",
            "reasoning: The comment expresses frustration and negativity towards someone who is perceived as being overly supportive of Conor McGregor. It suggests that the person is biased and unable to have a rational discussion.\n",
            "label: negative\n",
            "reasoning: The comment expresses disagreement with the idea of Conor being punished for his trash talk, suggesting a neutral stance towards the fight itself, but leaning slightly positive towards Conor by defending him against potential punishment.\n",
            "label: neutral\n",
            "reasoning: The comment expresses a negative sentiment towards the idea of Conor being suspended or kicked out, but acknowledges that a formal warning would be appropriate. It also criticizes Conor's behavior and Dana White's lack of action due to financial incentives.\n",
            "label: negative\n",
            "reasoning: The comment expresses agreement with the submission's sentiment about fairness and consistency in UFC's handling of fighters, criticizing both Zubaira and Conor for their actions, and Dana White for his inconsistent application of rules.\n",
            "label: positive\n",
            "reasoning: The comment expresses satisfaction that Conor got his \"ass beat\" and states that Conor has probably learned from the experience. This indicates a negative sentiment towards Conor and a positive sentiment towards the outcome of the fight.\n",
            "label: positive\n"
          ]
        },
        {
          "output_type": "stream",
          "name": "stderr",
          "text": [
            "WARNING:tornado.access:429 POST /v1beta/models/gemini-2.0-flash:generateContent?%24alt=json%3Benum-encoding%3Dint (127.0.0.1) 608.44ms\n",
            "WARNING:tornado.access:429 POST /v1beta/models/gemini-2.0-flash:generateContent?%24alt=json%3Benum-encoding%3Dint (127.0.0.1) 607.44ms\n",
            "WARNING:tornado.access:429 POST /v1beta/models/gemini-2.0-flash:generateContent?%24alt=json%3Benum-encoding%3Dint (127.0.0.1) 608.82ms\n",
            "WARNING:tornado.access:429 POST /v1beta/models/gemini-2.0-flash:generateContent?%24alt=json%3Benum-encoding%3Dint (127.0.0.1) 607.78ms\n",
            "WARNING:tornado.access:429 POST /v1beta/models/gemini-2.0-flash:generateContent?%24alt=json%3Benum-encoding%3Dint (127.0.0.1) 607.68ms\n",
            "WARNING:tornado.access:429 POST /v1beta/models/gemini-2.0-flash:generateContent?%24alt=json%3Benum-encoding%3Dint (127.0.0.1) 607.55ms\n",
            "WARNING:tornado.access:429 POST /v1beta/models/gemini-2.0-flash:generateContent?%24alt=json%3Benum-encoding%3Dint (127.0.0.1) 607.86ms\n"
          ]
        },
        {
          "output_type": "stream",
          "name": "stdout",
          "text": [
            "reasoning: The comment expresses agreement with the original post but also presents counterarguments and ultimately concludes that the situation is an \"overblown shit show.\" While acknowledging the points made in the original post, the commenter defends the UFC's actions to some extent and downplays the severity of the situation.\n",
            "label: neutral\n",
            "reasoning: The comment expresses indifference towards Khabib leaving the UFC, but emphasizes the importance of addressing issues. While it doesn't explicitly support or oppose either fighter, it aligns with the submission's sentiment of calling out perceived injustices.\n",
            "label: neutral\n",
            "reasoning: The comment points out the responsibility of security personnel in handling Zubaira's actions, implying a criticism of the situation and potentially the UFC's handling of it.\n",
            "label: negative\n",
            "reasoning: The comment expresses a strong belief that Conor McGregor will lose in a rematch against Khabib, using derogatory language (\"bum\") to describe McGregor. This indicates a negative sentiment towards McGregor and a positive sentiment towards Khabib.\n",
            "label: positive\n",
            "reasoning: The comment is a sarcastic remark directed at Dana White, implying he would never do an AMA (Ask Me Anything). It doesn't express a positive or negative sentiment towards the fight itself, but rather a dismissive attitude towards the UFC president.\n",
            "label: neutral\n",
            "reasoning: The comment expresses strong agreement with the submission's points about the UFC's hypocrisy and unfair treatment of Khabib, indicating a positive sentiment towards the arguments presented in the submission.\n",
            "label: positive\n",
            "reasoning: The comment expresses a negative sentiment towards Khabib's actions and accuses the previous commenter of bias against Conor. It suggests that Khabib's actions were wrong and that the commenter is overlooking this due to their bias.\n",
            "label: negative\n",
            "reasoning: The comment expresses frustration with the subreddit's perceived bias against Conor McGregor and suggests that the commenter is being downvoted for being unbiased. This indicates a negative sentiment towards the subreddit's handling of the situation and the perceived bias.\n",
            "label: negative\n",
            "reasoning: The comment states a fact about Khabib and Conor's selling power, which is relevant to the discussion about the UFC's treatment of them. It doesn't express a positive or negative sentiment towards either fighter or the UFC, but rather offers a possible explanation for the perceived favoritism.\n",
            "label: neutral\n",
            "reasoning: The comment expresses a negative sentiment towards Khabib and defends Conor, stating that the events wouldn't have occurred if Khabib hadn't jumped out of the octagon. It also questions why people are blaming Conor.\n",
            "label: negative\n",
            "reasoning: The comment expresses a negative sentiment towards Dana White, stating he is \"trash.\" This aligns with a negative sentiment regarding the fight and its management.\n",
            "label: negative\n",
            "reasoning: The comment disagrees with the parent comment's assertion that people are blaming Conor for Khabib jumping out of the octagon. It states that no one is blaming Conor for that, but it is generally accepted that Conor threw the first punch and should be punished first. This expresses a negative sentiment towards Conor and a positive sentiment towards the idea of him being punished.\n",
            "label: positive\n",
            "reasoning: The comment expresses mixed opinions. It disagrees with Khabib's actions and believes he should be disciplined, while also agreeing that Conor was wrong and should be disciplined as well. It criticizes the UFC's handling of the situation and the security team's performance. While it defends Conor's trash talk as business, it ultimately leans towards a neutral stance on the fight itself, focusing more on the aftermath and the UFC's response.\n",
            "label: neutral\n",
            "reasoning: The comment defends Conor and blames Khabib for starting the \"shit show\" by attacking Conor's team, suggesting Conor shouldn't be punished. This indicates a negative sentiment towards Khabib and a positive sentiment towards Conor.\n",
            "label: negative\n",
            "reasoning: The comment is pointing out another instance of Conor initiating conflict, similar to the submission's argument about Conor's actions being overlooked. This suggests a negative sentiment towards Conor and, by extension, a supportive stance towards the argument presented in the submission.\n",
            "label: positive\n",
            "reasoning: The comment is referencing Dana White's past behavior with Conor McGregor, drawing a parallel to the current situation with Khabib and his team. It mentions Dana's accusations and actions against Conor, suggesting a pattern of impulsive behavior in the heat of the moment. This implies a critical stance towards Dana White's handling of situations, but it doesn't express strong positive or negative sentiment towards the fight itself.\n",
            "label: neutral\n"
          ]
        },
        {
          "output_type": "stream",
          "name": "stderr",
          "text": [
            "WARNING:tornado.access:429 POST /v1beta/models/gemini-2.0-flash:generateContent?%24alt=json%3Benum-encoding%3Dint (127.0.0.1) 606.85ms\n",
            "WARNING:tornado.access:429 POST /v1beta/models/gemini-2.0-flash:generateContent?%24alt=json%3Benum-encoding%3Dint (127.0.0.1) 605.95ms\n"
          ]
        },
        {
          "output_type": "stream",
          "name": "stdout",
          "text": [
            "reasoning: The comment expresses a negative sentiment towards Khabib's actions, stating he shouldn't have jumped the cage and started the melee.\n",
            "label: negative\n"
          ]
        },
        {
          "output_type": "stream",
          "name": "stderr",
          "text": [
            "WARNING:tornado.access:429 POST /v1beta/models/gemini-2.0-flash:generateContent?%24alt=json%3Benum-encoding%3Dint (127.0.0.1) 633.34ms\n",
            "WARNING:tornado.access:429 POST /v1beta/models/gemini-2.0-flash:generateContent?%24alt=json%3Benum-encoding%3Dint (127.0.0.1) 632.49ms\n",
            "WARNING:tornado.access:429 POST /v1beta/models/gemini-2.0-flash:generateContent?%24alt=json%3Benum-encoding%3Dint (127.0.0.1) 632.40ms\n",
            "WARNING:tornado.access:429 POST /v1beta/models/gemini-2.0-flash:generateContent?%24alt=json%3Benum-encoding%3Dint (127.0.0.1) 631.48ms\n",
            "WARNING:tornado.access:429 POST /v1beta/models/gemini-2.0-flash:generateContent?%24alt=json%3Benum-encoding%3Dint (127.0.0.1) 659.03ms\n"
          ]
        },
        {
          "output_type": "stream",
          "name": "stdout",
          "text": [
            "reasoning: The comment expresses a viewpoint that aligns with the financial success of fights with intense trash talk and rivalries, suggesting that \"nothing is over the line\" in pre-fight promotion. This stance is not explicitly positive or negative towards either fighter but rather focuses on the business aspect of the sport.\n",
            "label: neutral\n",
            "reasoning: The comment compares Dana White to Don King, a boxing promoter known for his controversial and exploitative practices. This comparison implies a negative sentiment towards Dana White and his handling of the UFC.\n",
            "label: negative\n",
            "reasoning: The comment expresses strong disagreement with the previous comment and the perceived double standards applied to Conor McGregor and Khabib Nurmagomedov. It criticizes the UFC's handling of Conor's bus attack compared to the post-fight brawl involving Khabib and his team. The commenter believes Conor's actions set a dangerous precedent that was not adequately addressed, leading to unfair treatment of Khabib.\n",
            "label: negative\n",
            "reasoning: The comment expresses a neutral sentiment towards the fight and the surrounding controversy. It acknowledges the ongoing discussion but expresses a desire to wait and see what happens rather than engaging in further speculation or debate. The reference to Chael Sonnen is a tangential observation, not a judgment on the current situation.\n",
            "label: neutral\n",
            "reasoning: The comment criticizes the original commenter (OC) for focusing on Khabib's reaction while ignoring Conor's past actions, implying a bias or hypocrisy. This is a negative sentiment towards the OC's viewpoint.\n",
            "label: negative\n",
            "reasoning: The comment expresses agreement with the previous comment's point about trash talk selling fights. It then goes on to support this point by highlighting Conor McGregor's success in PPV buys and arguing that Khabib Nurmagomedov doesn't understand the business side of fighting. The overall tone is supportive of the idea that animosity and trash talk are good for business in the UFC.\n",
            "label: positive\n",
            "reasoning: The comment \"Let's not\" is incomplete and doesn't express a clear sentiment towards the fight or the issues raised in the submission. It's impossible to determine whether the commenter agrees, disagrees, or has a neutral stance without further context.\n",
            "label: neutral\n",
            "reasoning: The comment acknowledges the UFC's bias towards Conor McGregor due to his financial value to the company. This doesn't express a positive or negative sentiment towards the fight itself, but rather a neutral observation of the business aspect.\n",
            "label: neutral\n",
            "reasoning: The comment questions the justification of Conor hitting someone who had done nothing to him, implying a negative sentiment towards Conor's actions.\n",
            "label: negative\n",
            "reasoning: The comment expresses disagreement with the submission's claim that Conor is to blame for the in-cage brawl, suggesting the commenter believes the submission is biased against Conor. This indicates a negative sentiment towards the submission's argument.\n",
            "label: negative\n",
            "reasoning: The comment argues that Conor's bus attack was a criminal act dealt with by the state of New York, while Khabib's actions occurred during a sanctioned event under the UFC's watch, necessitating NSAC intervention. It criticizes the UFC's failure to punish Conor but emphasizes the need to protect fighters from cage invasions. The comment also suggests that Khabib reacted unprofessionally to Conor's mind games and that such incidents should not be repeated. Overall, the comment expresses a critical view of Khabib's actions and the UFC's handling of the situation, while acknowledging Conor's past transgressions.\n",
            "label: negative\n",
            "reasoning: The comment expresses strong disagreement with the submission's claim that McGregor almost killed someone. It uses aggressive language (\"fucking stupid,\" \"biased,\" \"pull your head out of your ass\") to attack the author's opinion, indicating a negative sentiment towards the submission's argument.\n",
            "label: negative\n",
            "reasoning: The comment expresses strong disagreement with the idea that Conor threw the first punch, arguing that Khabib initiated the brawl. It uses aggressive language and insults towards Khabib fans, indicating a negative sentiment towards Khabib and a defense of Conor's actions.\n",
            "label: negative\n",
            "reasoning: The comment expresses agreement with the submission and offers an upvote, indicating a positive sentiment towards the points made in the original post.\n",
            "label: positive\n",
            "reasoning: The comment is negative towards Zubaira, who punched McGregor. It suggests that Zubaira planned the punch before the fight, indicating a negative sentiment towards him.\n",
            "label: negative\n",
            "reasoning: The comment is defending the original post's claim that McGregor almost killed people by throwing the dolly. It provides further context and justification for the statement, indicating a negative sentiment towards McGregor and a supportive stance towards the original post's argument.\n",
            "label: positive\n"
          ]
        },
        {
          "output_type": "stream",
          "name": "stderr",
          "text": [
            "WARNING:tornado.access:429 POST /v1beta/models/gemini-2.0-flash:generateContent?%24alt=json%3Benum-encoding%3Dint (127.0.0.1) 606.72ms\n",
            "WARNING:tornado.access:429 POST /v1beta/models/gemini-2.0-flash:generateContent?%24alt=json%3Benum-encoding%3Dint (127.0.0.1) 606.25ms\n",
            "WARNING:tornado.access:429 POST /v1beta/models/gemini-2.0-flash:generateContent?%24alt=json%3Benum-encoding%3Dint (127.0.0.1) 631.76ms\n"
          ]
        },
        {
          "output_type": "stream",
          "name": "stdout",
          "text": [
            "reasoning: The comment focuses on Zubaira's past suspension for steroids, framing him as a liability to the company. This suggests a negative sentiment towards Zubaira and potentially a justification for the UFC's actions, which aligns with a negative sentiment towards Zubaira's involvement in the fight and its aftermath.\n",
            "label: negative\n"
          ]
        },
        {
          "output_type": "stream",
          "name": "stderr",
          "text": [
            "WARNING:tornado.access:429 POST /v1beta/models/gemini-2.0-flash:generateContent?%24alt=json%3Benum-encoding%3Dint (127.0.0.1) 656.96ms\n",
            "WARNING:tornado.access:429 POST /v1beta/models/gemini-2.0-flash:generateContent?%24alt=json%3Benum-encoding%3Dint (127.0.0.1) 631.71ms\n",
            "WARNING:tornado.access:429 POST /v1beta/models/gemini-2.0-flash:generateContent?%24alt=json%3Benum-encoding%3Dint (127.0.0.1) 709.95ms\n",
            "WARNING:tornado.access:429 POST /v1beta/models/gemini-2.0-flash:generateContent?%24alt=json%3Benum-encoding%3Dint (127.0.0.1) 658.11ms\n",
            "WARNING:tornado.access:429 POST /v1beta/models/gemini-2.0-flash:generateContent?%24alt=json%3Benum-encoding%3Dint (127.0.0.1) 656.27ms\n",
            "WARNING:tornado.access:429 POST /v1beta/models/gemini-2.0-flash:generateContent?%24alt=json%3Benum-encoding%3Dint (127.0.0.1) 632.48ms\n",
            "WARNING:tornado.access:429 POST /v1beta/models/gemini-2.0-flash:generateContent?%24alt=json%3Benum-encoding%3Dint (127.0.0.1) 658.74ms\n"
          ]
        },
        {
          "output_type": "stream",
          "name": "stdout",
          "text": [
            "reasoning: The comment is a response to a previous comment, clarifying the author's stance on the situation. The author emphasizes that both Conor and Khabib should be disciplined for their actions, and that the individuals who attacked Conor in the cage should be banned. The author expresses concern for the respect and legitimacy of MMA, and believes that the UFC needs to take a stand against such incidents. The comment is primarily focused on clarifying the author's position and expressing concern for the sport, rather than taking a strong positive or negative stance towards either fighter.\n",
            "label: neutral\n",
            "reasoning: The comment is comparing Dana White to Don King, who is known for being a terrible person and a murderer. The comment is elaborating on how Don King was worse, which implies a negative sentiment towards Dana White.\n",
            "label: negative\n",
            "reasoning: The comment expresses a negative sentiment towards Conor McGregor, stating that his time in the spotlight is over and it's time for new fighters to emerge. This implies a decline in McGregor's popularity and relevance.\n",
            "label: negative\n",
            "reasoning: The comment expresses disagreement with the original post's claim that Conor McGregor almost killed someone. It argues that Khabib could also be accused of potentially killing someone and criticizes the original post for stretching the narrative. The comment uses strong language (\"Feel stupid even typing that\") to dismiss the idea that McGregor almost killed someone, indicating a negative sentiment towards the original post's argument.\n",
            "label: negative\n",
            "reasoning: The comment expresses enjoyment of the video and finds humor in a specific line related to the fight, indicating a positive sentiment towards the content and a neutral stance on the fight itself.\n",
            "label: positive\n",
            "reasoning: The comment expresses strong disagreement with the idea that the subreddit is filled with Khabib fans and Conor haters. The author recounts personal experiences of being attacked for criticizing Conor McGregor and highlights the prevalence of Conor fans in the past. The comment also criticizes the lack of meaningful conversation and the prevalence of childish behavior on the subreddit. The overall sentiment is negative towards the subreddit's community and the way opinions are handled.\n",
            "label: negative\n",
            "reasoning: The comment expresses a negative sentiment towards Conor McGregor's actions, highlighting the difference between trash talk and physical assault. It argues that McGregor crossed the line by attempting murder and physically attacking Khabib in a \"gang-oriented manner.\" While acknowledging Chael Sonnen's misconduct, it emphasizes that Sonnen never physically assaulted Anderson Silva.\n",
            "label: negative\n",
            "reasoning: The comment is a question about the events following the fight, specifically regarding someone being on the fence next to Khabib. It doesn't express a positive or negative sentiment towards either fighter or the UFC's handling of the situation, but rather seeks clarification about a detail of the aftermath.\n",
            "label: neutral\n",
            "reasoning: The comment expresses frustration with the subreddit's behavior, stating that it's difficult to have a regular conversation without being downvoted or hated on for expressing an opinion. This indicates a negative sentiment towards the subreddit's community and interaction quality.\n",
            "label: negative\n",
            "reasoning: The comment questions Conor's presence, implying he might have had a similar purpose as the other guy, suggesting a negative sentiment towards Conor.\n",
            "label: negative\n",
            "reasoning: The comment expresses agreement with some points made in the parent comment, particularly regarding the UFC's handling of Conor McGregor and Dana White's actions. It also expresses disagreement with justifying the actions of Khabib's teammates who attacked Conor. Overall, the comment presents a balanced perspective, acknowledging flaws on both sides and expressing a clear opinion on the post-fight brawl.\n",
            "label: neutral\n",
            "reasoning: The comment expresses agreement with the parent comment's points about the individuals who attacked Conor being \"scumbags\" and the UFC's inaction being \"bullshit.\" It also acknowledges Khabib's actions were wrong but attempts to provide context for them, suggesting frustration with the UFC's double standards and cultural influences. The comment also acknowledges that calling the bus attack \"attempted murder\" is a stretch. Overall, the comment is nuanced, expressing agreement with some points, disagreement with others, and providing context for Khabib's actions.\n",
            "label: neutral\n",
            "reasoning: The comment directly answers the implied question of the submission, which is why the UFC is handling things the way they are. The comment states that the reason is money, which is a negative sentiment towards the UFC's practices.\n",
            "label: negative\n",
            "reasoning: The comment expresses a critical view of the situation, pointing out Artem's involvement and questioning the fairness of his suspension compared to others. This suggests a negative sentiment towards the handling of the situation.\n",
            "label: negative\n",
            "reasoning: The comment expresses a desire for Bellator's increased popularity, implying dissatisfaction with the UFC. This suggests a negative sentiment towards the UFC's current state or practices, aligning with the submission's criticism of Dana and the UFC.\n",
            "label: negative\n",
            "reasoning: The comment expresses mixed sentiments. It agrees that Conor should be reprimanded but also believes Zubaira should be fired. It criticizes the referee's decision and discusses Conor's punishment in the context of civil suits. It also defends Conor's religious remark, suggesting it was a fitting description. Overall, the comment presents a nuanced view with both positive and negative sentiments towards different aspects of the situation.\n",
            "label: mixed\n"
          ]
        },
        {
          "output_type": "stream",
          "name": "stderr",
          "text": [
            "WARNING:tornado.access:429 POST /v1beta/models/gemini-2.0-flash:generateContent?%24alt=json%3Benum-encoding%3Dint (127.0.0.1) 683.07ms\n",
            "WARNING:tornado.access:429 POST /v1beta/models/gemini-2.0-flash:generateContent?%24alt=json%3Benum-encoding%3Dint (127.0.0.1) 656.48ms\n",
            "WARNING:tornado.access:429 POST /v1beta/models/gemini-2.0-flash:generateContent?%24alt=json%3Benum-encoding%3Dint (127.0.0.1) 658.14ms\n"
          ]
        },
        {
          "output_type": "stream",
          "name": "stdout",
          "text": [
            "reasoning: The comment expresses agreement with the need for discipline for Khabib but also understanding of his potential motivations, particularly in light of Conor's lack of punishment for the bus incident. It also appreciates the civil discussion. This indicates a balanced and understanding perspective, leaning towards neutral.\n",
            "label: neutral\n"
          ]
        },
        {
          "output_type": "stream",
          "name": "stderr",
          "text": [
            "WARNING:tornado.access:429 POST /v1beta/models/gemini-2.0-flash:generateContent?%24alt=json%3Benum-encoding%3Dint (127.0.0.1) 658.21ms\n",
            "WARNING:tornado.access:429 POST /v1beta/models/gemini-2.0-flash:generateContent?%24alt=json%3Benum-encoding%3Dint (127.0.0.1) 631.94ms\n",
            "WARNING:tornado.access:429 POST /v1beta/models/gemini-2.0-flash:generateContent?%24alt=json%3Benum-encoding%3Dint (127.0.0.1) 631.97ms\n",
            "WARNING:tornado.access:429 POST /v1beta/models/gemini-2.0-flash:generateContent?%24alt=json%3Benum-encoding%3Dint (127.0.0.1) 657.35ms\n",
            "WARNING:tornado.access:429 POST /v1beta/models/gemini-2.0-flash:generateContent?%24alt=json%3Benum-encoding%3Dint (127.0.0.1) 631.62ms\n",
            "WARNING:tornado.access:429 POST /v1beta/models/gemini-2.0-flash:generateContent?%24alt=json%3Benum-encoding%3Dint (127.0.0.1) 658.01ms\n",
            "WARNING:tornado.access:429 POST /v1beta/models/gemini-2.0-flash:generateContent?%24alt=json%3Benum-encoding%3Dint (127.0.0.1) 632.44ms\n"
          ]
        },
        {
          "output_type": "stream",
          "name": "stdout",
          "text": [
            "reasoning: The comment expresses frustration with the subreddit's inability to foster meaningful discussions about MMA, labeling its users as \"delusional idiots\" who attack and then become defensive. It suggests seeking conversations on other MMA forums, indicating a negative sentiment towards the subreddit's community and the quality of discussions held there.\n",
            "label: negative\n",
            "reasoning: The comment expresses a neutral stance, suggesting patience and waiting for the investigation to conclude before criticizing Dana White, the UFC, or Conor. It acknowledges the difficulty of the situation and the inevitability of anger regardless of the decision made.\n",
            "label: neutral\n",
            "reasoning: The comment expresses agreement with the previous commenter and acknowledges the presence of aggressive and biased opinions on the platform. It promotes a more rational and fact-based discussion.\n",
            "label: neutral\n",
            "reasoning: The comment is a humorous take on the parent comment, which compares Dana White to Don King. It's not directly positive or negative towards the fight itself, but rather a playful jab at the UFC's management.\n",
            "label: neutral\n",
            "reasoning: The comment expresses criticism of Herb Dean's officiating and points out that the UFC hasn't punished either fighter directly. It also clarifies the reason for Zubaira's release and the UFC's role in holding the purse. The comment questions the claim of mistreatment, focusing on the officiating. The edit addresses the code of conduct, stating that it has been ignored for a long time. Overall, the comment is mostly neutral, with some negative sentiment towards Herb Dean's performance.\n",
            "label: neutral\n",
            "reasoning: The comment is arguing that Khabib is to blame for the brawl because he jumped the fence first, implying a negative sentiment towards Khabib's actions.\n",
            "label: negative\n",
            "reasoning: The comment expresses a mixed sentiment. It acknowledges Khabib's victory and skill but also criticizes his actions and position in making demands. It also points out the hypocrisy of Conor facing little penalty.\n",
            "label: neutral\n",
            "reasoning: The comment agrees with the parent comment that Khabib started the post-match fight but also points out that Conor threw the first punch in the octagon, which started the in-octagon fight. This suggests a neutral stance towards the overall situation, acknowledging both fighters' contributions to the brawl.\n",
            "label: neutral\n",
            "reasoning: The comment defends Conor's actions by stating that he was justified in punching one person because of the threat posed by others jumping in, and criticizes the multiple people attacking Conor after they had been separated. This suggests a positive sentiment towards Conor in the context of the fight.\n",
            "label: positive\n",
            "reasoning: The comment directly answers the question posed in the submission (\"Why is Dana blatantly ignoring the UFC code of conduct?\") with a simple, cynical explanation: \"Because, money.\" This implies a negative sentiment towards the UFC's motivations and actions.\n",
            "label: negative\n",
            "reasoning: The comment expresses agreement with the original post but questions the exaggeration of the dolly incident. While it doesn't explicitly support or condemn either fighter, it leans towards a neutral stance by questioning the severity of Conor's actions.\n",
            "label: neutral\n",
            "reasoning: The comment is disagreeing with the original post's fourth point, arguing that Conor did not violate the UFC code of conduct. The comment defends Conor's actions and argues that his trash talk was not based on Khabib's ethnicity or religion. This suggests a negative sentiment towards the original post's argument and a more neutral or even slightly positive sentiment towards Conor.\n",
            "label: negative\n",
            "reasoning: The comment expresses skepticism about the severity of the dolly incident and suggests that the UFC is rigged, comparing it to WWF (World Wrestling Federation), which is known for being scripted. This indicates a negative sentiment towards the UFC and its practices.\n",
            "label: negative\n",
            "reasoning: The comment expresses a negative sentiment towards Khabib and his fans, dismissing the argument that Conor threw the first punch as \"idiocy.\" It defends Conor's actions as self-defense and blames Khabib for starting the post-fight brawl.\n",
            "label: negative\n",
            "reasoning: The comment expresses a negative sentiment towards Conor, stating that he started the fight by punching the coach. It also suggests that people jumping in were trying to stop the fight, which implies a negative view of Conor's actions.\n",
            "label: negative\n",
            "reasoning: The comment is arguing that Conor was justified in punching the teammate because of the heated situation and the teammate's actions. It also questions the involvement of the other two attackers. This suggests a defense of Conor's actions and a negative sentiment towards Khabib's team.\n",
            "label: negative\n",
            "reasoning: The comment argues that slapping someone is not the same as throwing an iron object at someone, implying that Conor's actions were more dangerous and therefore more deserving of punishment. This suggests a negative sentiment towards Conor and a defense of Khabib's actions.\n",
            "label: negative\n",
            "reasoning: The comment expresses agreement with the original post, highlighting the obviousness of the double standards. This indicates a positive sentiment towards the points made in the submission.\n",
            "label: positive\n",
            "reasoning: The comment disputes the claims made in the parent comment, stating that Khabib didn't slap Danis and Conor didn't throw an iron object. It accuses the parent commenter of stretching the truth to fit their narrative and calls the argument insincere. This indicates a negative sentiment towards the parent comment's argument.\n",
            "label: negative\n",
            "reasoning: The comment expresses a negative sentiment towards Conor McGregor's actions and remarks, arguing that he was aware of the religious reasons behind Khabib's abstinence from alcohol and that his remarks about Khabib's political ties were inappropriate. It also implies a double standard by asking the reader to imagine if he were an Israeli fighter.\n",
            "label: negative\n",
            "reasoning: The comment is arguing that Conor threw the first punch and started the in-octagon fight, and that he had no right to punch the coach. This is a negative sentiment towards Conor.\n",
            "label: negative\n",
            "reasoning: The comment points out a detail about the brawl, stating that Khabib's teammate was already in the cage when Conor attacked him. This is a factual statement that supports the argument that Conor was also at fault for the brawl. The comment does not express a strong positive or negative sentiment towards either fighter, but rather provides a detail relevant to the discussion.\n",
            "label: neutral\n",
            "reasoning: The comment is critical of the UFC's handling of the situation, particularly regarding the enforcement of the Code of Conduct and fighter payments. It points out inconsistencies and suggests that the UFC only enforces the CoC after events, which allowed Conor to avoid punishment.\n",
            "label: negative\n",
            "reasoning: The comment is correcting a statement made in the parent comment about who is holding the purse. It is not expressing a positive or negative sentiment towards the fight itself, but rather providing factual information and correcting a misunderstanding.\n",
            "label: neutral\n",
            "reasoning: The comment is stating a fact about Khabib's employment status and its relation to NSAC. It doesn't express any positive or negative sentiment towards the fight, fighters, or the UFC's handling of the situation.\n",
            "label: neutral\n",
            "reasoning: The comment expresses an understanding of the situation involving NSAC and its role as an intermediary, suggesting a neutral perspective on the matter. It doesn't express strong positive or negative feelings towards either fighter or the UFC's actions.\n",
            "label: neutral\n",
            "reasoning: The comment defends Conor McGregor's actions and claims that he did not violate the UFC code of conduct. It suggests that Conor's remarks were not intended as an attack on a religion but rather a reaction to Khabib's refusal to drink his whiskey and issues with Khabib's team. This stance is supportive of Conor and dismissive of the accusations of religious or ethnic discrimination, thus leaning towards a positive sentiment towards Conor in the context of the fight and the surrounding controversy.\n",
            "label: positive\n",
            "reasoning: The comment expresses an opinion that defends Conor's actions by arguing that Khabib's team initiated the attack and that Conor had reason to believe anyone running towards the fight would join in. This suggests a negative sentiment towards Khabib and a more neutral or slightly positive sentiment towards Conor, implying a negative sentiment towards the fight's aftermath.\n",
            "label: negative\n",
            "reasoning: The comment acknowledges both Khabib's and Conor's roles in the post-fight brawl. It states that Khabib was wrong to jump out of the octagon, but also that Conor started the in-octagon fight. The comment does not express strong positive or negative sentiment towards either fighter, but rather attempts to provide a balanced perspective on the events.\n",
            "label: neutral\n",
            "reasoning: The comment expresses a negative sentiment towards Conor McGregor's actions, arguing that the dolly incident was an intentional act of harm. It also states that both fighters should be punished, indicating a neutral stance towards the overall conflict.\n",
            "label: negative\n"
          ]
        },
        {
          "output_type": "stream",
          "name": "stderr",
          "text": [
            "WARNING:tornado.access:429 POST /v1beta/models/gemini-2.0-flash:generateContent?%24alt=json%3Benum-encoding%3Dint (127.0.0.1) 657.08ms\n",
            "WARNING:tornado.access:429 POST /v1beta/models/gemini-2.0-flash:generateContent?%24alt=json%3Benum-encoding%3Dint (127.0.0.1) 656.44ms\n",
            "WARNING:tornado.access:429 POST /v1beta/models/gemini-2.0-flash:generateContent?%24alt=json%3Benum-encoding%3Dint (127.0.0.1) 631.46ms\n",
            "WARNING:tornado.access:429 POST /v1beta/models/gemini-2.0-flash:generateContent?%24alt=json%3Benum-encoding%3Dint (127.0.0.1) 633.15ms\n",
            "WARNING:tornado.access:429 POST /v1beta/models/gemini-2.0-flash:generateContent?%24alt=json%3Benum-encoding%3Dint (127.0.0.1) 630.99ms\n",
            "WARNING:tornado.access:429 POST /v1beta/models/gemini-2.0-flash:generateContent?%24alt=json%3Benum-encoding%3Dint (127.0.0.1) 631.96ms\n",
            "WARNING:tornado.access:429 POST /v1beta/models/gemini-2.0-flash:generateContent?%24alt=json%3Benum-encoding%3Dint (127.0.0.1) 632.20ms\n"
          ]
        },
        {
          "output_type": "stream",
          "name": "stdout",
          "text": [
            "reasoning: The comment defends Conor's actions by arguing that he was stopping a third person from joining the fight, implying self-defense. It contrasts this with Khabib's actions, suggesting a double standard. The tone is sarcastic and supportive of Conor.\n",
            "label: positive\n",
            "reasoning: The comment is providing evidence that Conor did throw an object, contradicting the previous comment. This is done in a sarcastic way, implying the previous comment is wrong.\n",
            "label: negative\n",
            "reasoning: The comment is responding to a previous comment about Conor throwing an object. The commenter is being sarcastic and calling the previous commenter an idiot. The commenter is also being dismissive of the previous commenter's point.\n",
            "label: negative\n",
            "reasoning: The comment expresses a negative sentiment towards Conor McGregor and his fans, accusing them of being biased and downplaying the severity of his actions. It also suggests a double standard in how McGregor and Khabib are perceived.\n",
            "label: negative\n",
            "reasoning: The comment is highly negative and uses derogatory language (\"fucking retard,\" \"loser,\" \"dirty Muslim\"). It expresses anger and insults towards the person being addressed. While it acknowledges Conor is an idiot, the overall tone and language are overwhelmingly negative.\n",
            "label: negative\n",
            "reasoning: The comment is arguing against the claim that Conor McGregor never tried to kill anyone, providing a source where McGregor stated he was going to. The comment is negative towards McGregor.\n",
            "label: negative\n",
            "reasoning: The comment is negative towards Conor McGregor and the person he is arguing with. It uses insults and expresses frustration.\n",
            "label: negative\n",
            "reasoning: The comment is attacking the original poster (OP) and their opinion, implying bias towards Khabib and dismissing their views as homework-related and lacking weight. This is a negative sentiment towards the OP and their argument.\n",
            "label: negative\n",
            "reasoning: The comment expresses a dismissive attitude towards Khabib leaving the UFC, suggesting a negative sentiment towards him and his potential departure.\n",
            "label: negative\n",
            "reasoning: The comment expresses a negative sentiment towards the situation, pointing out the hypocrisy of the UFC's actions and suggesting that Conor McGregor's fans are happy about it to avoid a rematch where McGregor might lose again.\n",
            "label: negative\n",
            "reasoning: The comment is critical of Daniel Cormier (DC) and suggests he is only interested in money and easy fights, implying he wouldn't risk his position to support Khabib. This is a negative sentiment towards DC's potential actions in the situation.\n",
            "label: negative\n",
            "reasoning: The comment expresses a dismissive and sarcastic tone towards Khabib, implying that his departure would be beneficial for the LW division and welcomed by his haters. This indicates a negative sentiment towards Khabib's potential actions.\n",
            "label: negative\n",
            "reasoning: The comment expresses a disagreement with the original post's assessment of Khabib's importance to the UFC, suggesting that his departure wouldn't be as detrimental as the original poster believes. This is a negative sentiment towards the original post's argument.\n",
            "label: negative\n",
            "reasoning: The comment expresses a belief that Daniel Cormier will not get involved in the situation, suggesting a neutral stance towards the fight itself.\n",
            "label: neutral\n",
            "reasoning: The comment expresses a strong belief that Khabib's departure would significantly harm the UFC due to his increased fanbase and the negative publicity surrounding the UFC's actions. It uses phrases like \"hurt them hard\" and \"corrupt bullshit\" to convey a negative sentiment towards the UFC and a positive sentiment towards Khabib's stance.\n",
            "label: positive\n",
            "reasoning: The comment expresses disagreement with the previous comment's assessment of Khabib's fanbase size. It highlights Putin's support as evidence of a large Russian fanbase, suggesting the UFC would be significantly impacted by Khabib's departure. This disagreement and support for Khabib's potential impact indicate a positive sentiment towards Khabib and a negative sentiment towards the UFC's potential actions.\n",
            "label: positive\n",
            "reasoning: The comment expresses a negative sentiment towards Khabib's fanbase, suggesting it's not genuine but rather manufactured by the Russian government. This implies a negative view of Khabib's support and, by extension, Khabib himself.\n",
            "label: negative\n"
          ]
        },
        {
          "output_type": "stream",
          "name": "stderr",
          "text": [
            "WARNING:tornado.access:429 POST /v1beta/models/gemini-2.0-flash:generateContent?%24alt=json%3Benum-encoding%3Dint (127.0.0.1) 606.25ms\n"
          ]
        },
        {
          "output_type": "stream",
          "name": "stdout",
          "text": [
            "reasoning: The comment is disagreeing with the previous comment's assessment of Khabib's fanbase in Russia. While acknowledging the corruption in Russia, it asserts that Khabib has a \"massive, legit following\" there. This suggests a positive sentiment towards Khabib's popularity and a defense against the idea that his support is solely due to external pressure.\n",
            "label: positive\n"
          ]
        },
        {
          "output_type": "stream",
          "name": "stderr",
          "text": [
            "WARNING:tornado.access:429 POST /v1beta/models/gemini-2.0-flash:generateContent?%24alt=json%3Benum-encoding%3Dint (127.0.0.1) 582.73ms\n",
            "WARNING:tornado.access:429 POST /v1beta/models/gemini-2.0-flash:generateContent?%24alt=json%3Benum-encoding%3Dint (127.0.0.1) 581.80ms\n",
            "WARNING:tornado.access:429 POST /v1beta/models/gemini-2.0-flash:generateContent?%24alt=json%3Benum-encoding%3Dint (127.0.0.1) 581.64ms\n",
            "WARNING:tornado.access:429 POST /v1beta/models/gemini-2.0-flash:generateContent?%24alt=json%3Benum-encoding%3Dint (127.0.0.1) 580.74ms\n"
          ]
        },
        {
          "output_type": "stream",
          "name": "stdout",
          "text": [
            "reasoning: The comment is discussing Russia's economic power in relation to Khabib's fanbase. It argues that Russia is not a big market, implying that Khabib's Russian fanbase might not be as valuable as some people think. This is a negative sentiment towards the idea of Khabib's fanbase being a significant loss for the UFC.\n",
            "label: negative\n",
            "reasoning: The comment is discussing the economic situation in Russia and its impact on UFC viewership, specifically mentioning the lack of disposable income and how it affects PPV purchases. This is a neutral observation about the market and does not express a positive or negative sentiment towards the fight or the fighters involved.\n",
            "label: neutral\n"
          ]
        },
        {
          "output_type": "stream",
          "name": "stderr",
          "text": [
            "WARNING:tornado.access:429 POST /v1beta/models/gemini-2.0-flash:generateContent?%24alt=json%3Benum-encoding%3Dint (127.0.0.1) 561.17ms\n"
          ]
        },
        {
          "output_type": "stream",
          "name": "stdout",
          "text": [
            "reasoning: The comment discusses the UFC's potential reaction to Khabib and Daniel Cormier's actions, suggesting they might be cut or put in limbo if they unionize or issue ultimatums. This implies a negative outcome for the fighters and a critical view of the UFC's power dynamics.\n",
            "label: negative\n",
            "reasoning: The comment acknowledges the previous point about Khabib's fanbase but also points out that Conor had more fans at the fight and press conference. This is a neutral observation about the fanbases of the two fighters.\n",
            "label: neutral\n",
            "reasoning: The comment discusses the financial limitations of Russian fans traveling to the US to support Khabib, while also highlighting the large viewership he commands in Russia. It doesn't express a positive or negative sentiment towards the fight itself, but rather provides context about Khabib's fanbase.\n",
            "label: neutral\n",
            "reasoning: The comment expresses a strong disagreement with the previous comment, arguing that Khabib leaving would be a significant loss for the UFC due to his popularity and potential revenue from a rematch with Conor McGregor. The tone is assertive and confident in its assessment.\n",
            "label: negative\n",
            "reasoning: The comment expresses a positive sentiment towards Khabib, highlighting the genuine support he receives from Russians and their leaders, including Putin. It emphasizes the financial backing and gifts Khabib receives, further reinforcing the positive view.\n",
            "label: positive\n",
            "reasoning: The comment is arguing against the previous comment's point about Khabib's Russian fanbase being larger than Conor's Irish fanbase. It points out the geographical distance and cost of travel as a factor influencing the number of fans present at the fight. This is a neutral observation about the logistics of fan attendance.\n",
            "label: neutral\n",
            "reasoning: The comment expresses doubt about DC taking a stand but acknowledges the impact it would have on the UFC, suggesting a negative sentiment towards the UFC's position.\n",
            "label: negative\n",
            "reasoning: The comment expresses support for Khabib's ultimatum, indicating a positive sentiment towards his actions and stance in the situation.\n",
            "label: positive\n",
            "reasoning: The comment \"lmao\" is a general expression of amusement and doesn't express a positive, negative, or neutral sentiment towards the fight or the situation described in the submission and parent comment.\n",
            "label: neutral\n",
            "reasoning: The comment refers to Putin and Kadyrov as corrupt individuals, which is a negative sentiment.\n",
            "label: negative\n",
            "reasoning: The comment supports the idea that it's difficult for Russians to travel to the US, which is relevant to the discussion about Khabib's fanbase and the potential impact of his departure on the UFC. It's a neutral observation about the logistical challenges faced by Russian fans.\n",
            "label: neutral\n",
            "reasoning: The comment discusses the potential consequences of DC joining Khabib's ultimatum, suggesting the UFC might fear coordinated efforts for better pay. This implies a negative sentiment towards the UFC's potential reaction and the overall situation.\n",
            "label: negative\n",
            "reasoning: The comment is sarcastic and negative towards Khabib, implying that his popularity is irrelevant because it doesn't translate into revenue for the UFC like Conor McGregor's fanbase does.\n",
            "label: negative\n",
            "reasoning: The comment is responding to the suggestion that Daniel Cormier taking a stand with Khabib would get the UFC \"by its balls.\" The comment questions whether DC would actually do that, citing his age and desire to retire soon. This implies a neutral stance towards the fight, as it neither supports nor opposes either side, but rather questions the feasibility of a proposed action.\n",
            "label: neutral\n"
          ]
        },
        {
          "output_type": "stream",
          "name": "stderr",
          "text": [
            "WARNING:tornado.access:429 POST /v1beta/models/gemini-2.0-flash:generateContent?%24alt=json%3Benum-encoding%3Dint (127.0.0.1) 590.32ms\n",
            "WARNING:tornado.access:429 POST /v1beta/models/gemini-2.0-flash:generateContent?%24alt=json%3Benum-encoding%3Dint (127.0.0.1) 586.66ms\n"
          ]
        },
        {
          "output_type": "stream",
          "name": "stdout",
          "text": [
            "reasoning: The comment \"that goes without saying lmao\" is a response to the statement \"Also 2 of the most corrupt individuals in the world\". It expresses agreement with the statement, but does not express any sentiment towards the fight itself.\n",
            "label: neutral\n"
          ]
        },
        {
          "output_type": "stream",
          "name": "stderr",
          "text": [
            "WARNING:tornado.access:429 POST /v1beta/models/gemini-2.0-flash:generateContent?%24alt=json%3Benum-encoding%3Dint (127.0.0.1) 618.50ms\n",
            "WARNING:tornado.access:429 POST /v1beta/models/gemini-2.0-flash:generateContent?%24alt=json%3Benum-encoding%3Dint (127.0.0.1) 559.78ms\n"
          ]
        },
        {
          "output_type": "stream",
          "name": "stdout",
          "text": [
            "reasoning: The comment expresses a negative sentiment towards Zubaira's actions and supports his removal from the UFC. It also expresses concern about Khabib leaving the UFC, acknowledging his value as a fighter.\n",
            "label: negative\n"
          ]
        },
        {
          "output_type": "stream",
          "name": "stderr",
          "text": [
            "WARNING:tornado.access:429 POST /v1beta/models/gemini-2.0-flash:generateContent?%24alt=json%3Benum-encoding%3Dint (127.0.0.1) 580.81ms\n",
            "WARNING:tornado.access:429 POST /v1beta/models/gemini-2.0-flash:generateContent?%24alt=json%3Benum-encoding%3Dint (127.0.0.1) 556.31ms\n",
            "WARNING:tornado.access:429 POST /v1beta/models/gemini-2.0-flash:generateContent?%24alt=json%3Benum-encoding%3Dint (127.0.0.1) 581.21ms\n",
            "WARNING:tornado.access:429 POST /v1beta/models/gemini-2.0-flash:generateContent?%24alt=json%3Benum-encoding%3Dint (127.0.0.1) 555.74ms\n",
            "WARNING:tornado.access:429 POST /v1beta/models/gemini-2.0-flash:generateContent?%24alt=json%3Benum-encoding%3Dint (127.0.0.1) 581.22ms\n",
            "WARNING:tornado.access:429 POST /v1beta/models/gemini-2.0-flash:generateContent?%24alt=json%3Benum-encoding%3Dint (127.0.0.1) 556.47ms\n"
          ]
        },
        {
          "output_type": "stream",
          "name": "stdout",
          "text": [
            "reasoning: The comment is arguing that Artem was involved in the incident, which is a negative sentiment towards Artem.\n",
            "label: negative\n",
            "reasoning: The comment provides factual information about the incident involving McGregor and his crew, specifically focusing on the role of TheMacLife reporters and the consequences they faced. It doesn't express a positive or negative sentiment towards the fight, Khabib, or the UFC's actions.\n",
            "label: neutral\n",
            "reasoning: The comment expresses a neutral sentiment towards Khabib leaving the UFC. It suggests that the UFC would continue without him and that people would eventually forget about it.\n",
            "label: neutral\n",
            "reasoning: The comment expresses skepticism about Khabib's drawing power and downplays the potential impact of his departure on the UFC. It also defends Conor McGregor by stating he didn't throw the first punch. This suggests a negative sentiment towards Khabib's threat and a more favorable view of Conor and the UFC's position.\n",
            "label: negative\n",
            "reasoning: The comment is a humorous remark about Daniel Cormier's love for Popeyes chicken, which is a running joke in the MMA community. It doesn't express a positive or negative sentiment towards the fight or the situation described in the submission.\n",
            "label: neutral\n",
            "reasoning: The comment is asking a question about Zubaira's involvement in the altercation, seeking clarification on whether he was the one Conor punched. This doesn't express a positive, negative, or neutral sentiment towards the fight itself, but rather seeks information about a specific detail.\n",
            "label: neutral\n",
            "reasoning: The comment is providing factual information about the identities of the fighters involved in the post-fight altercation. It clarifies who was punched by Conor and who hit McGregor from behind. This is a neutral statement of facts.\n",
            "label: neutral\n",
            "reasoning: The comment expresses a neutral stance on the fight, suggesting that everyone involved should be fined and the situation moved on from. It acknowledges the actions of both Zubaira and Conor, and highlights the potential consequences of the UFC's actions, particularly the risk of losing Khabib.\n",
            "label: neutral\n",
            "reasoning: The comment is sarcastic and humorous, suggesting that DC would only take a stand if the UFC threatened his access to cake and chicken. This implies a negative sentiment towards DC's potential involvement in the situation.\n",
            "label: negative\n",
            "reasoning: The comment is a sarcastic response to the statement that Russia is on the other side of the world, pointing out that Alaska is part of the US and geographically close to Russia. This doesn't express a positive, negative, or neutral sentiment towards the fight itself.\n",
            "label: neutral\n",
            "reasoning: The comment expresses a neutral stance towards Khabib's situation with the UFC. It analyzes Khabib's value to the UFC, his marketability, and his devotion to his religious beliefs, suggesting that he may not be the UFC's cash cow like Conor. It also mentions Cormier's relationship with Khabib and compares Khabib's situation to Woodley's. The comment doesn't express strong positive or negative feelings towards Khabib or the UFC.\n",
            "label: neutral\n",
            "reasoning: The comment is a friendly correction of a spelling error. It doesn't express any sentiment towards the fight, fighters, or the UFC.\n",
            "label: neutral\n",
            "reasoning: The comment is directed at a bot and expresses negative sentiment towards its spelling hints, calling them \"shitty\" and the bot \"useless.\"\n",
            "label: negative\n",
            "reasoning: The comment is referencing the beginning of the conflict, and is making a joke about Artem being the \"trueGOAT\" (Greatest Of All Time). This is a neutral statement as it doesn't express a positive or negative sentiment towards the fight itself, but rather makes a humorous observation.\n",
            "label: neutral\n",
            "reasoning: The comment expresses agreement with the parent comment but also argues that Khabib is valuable to the UFC due to his record, following, and the potential rematch with McGregor. It suggests that the UFC would suffer financially and in terms of viewership if Khabib were to leave. This indicates a positive sentiment towards Khabib's value and importance to the UFC.\n",
            "label: positive\n"
          ]
        },
        {
          "output_type": "stream",
          "name": "stderr",
          "text": [
            "WARNING:tornado.access:429 POST /v1beta/models/gemini-2.0-flash:generateContent?%24alt=json%3Benum-encoding%3Dint (127.0.0.1) 606.50ms\n",
            "WARNING:tornado.access:429 POST /v1beta/models/gemini-2.0-flash:generateContent?%24alt=json%3Benum-encoding%3Dint (127.0.0.1) 607.46ms\n",
            "WARNING:tornado.access:429 POST /v1beta/models/gemini-2.0-flash:generateContent?%24alt=json%3Benum-encoding%3Dint (127.0.0.1) 606.54ms\n"
          ]
        },
        {
          "output_type": "stream",
          "name": "stdout",
          "text": [
            "reasoning: The comment expresses a dismissive attitude towards the original post, suggesting it lacks substance (\"a whole lot of nothing\"). It then encourages the reader to take a side, implying that the author believes the original post was too neutral.\n",
            "label: negative\n"
          ]
        },
        {
          "output_type": "stream",
          "name": "stderr",
          "text": [
            "WARNING:tornado.access:429 POST /v1beta/models/gemini-2.0-flash:generateContent?%24alt=json%3Benum-encoding%3Dint (127.0.0.1) 631.79ms\n"
          ]
        },
        {
          "output_type": "stream",
          "name": "stdout",
          "text": [
            "reasoning: The comment expresses a belief that Conor would win in a rematch, indicating a positive sentiment towards Conor and a negative sentiment towards Khabib's chances.\n",
            "label: positive\n",
            "reasoning: The comment expresses disinterest in the topic of Khabib and McGregor, indicating a neutral sentiment towards the fight itself.\n",
            "label: neutral\n"
          ]
        },
        {
          "output_type": "stream",
          "name": "stderr",
          "text": [
            "WARNING:tornado.access:429 POST /v1beta/models/gemini-2.0-flash:generateContent?%24alt=json%3Benum-encoding%3Dint (127.0.0.1) 606.89ms\n",
            "WARNING:tornado.access:429 POST /v1beta/models/gemini-2.0-flash:generateContent?%24alt=json%3Benum-encoding%3Dint (127.0.0.1) 606.60ms\n",
            "WARNING:tornado.access:429 POST /v1beta/models/gemini-2.0-flash:generateContent?%24alt=json%3Benum-encoding%3Dint (127.0.0.1) 607.78ms\n",
            "WARNING:tornado.access:429 POST /v1beta/models/gemini-2.0-flash:generateContent?%24alt=json%3Benum-encoding%3Dint (127.0.0.1) 581.37ms\n",
            "WARNING:tornado.access:429 POST /v1beta/models/gemini-2.0-flash:generateContent?%24alt=json%3Benum-encoding%3Dint (127.0.0.1) 606.59ms\n"
          ]
        },
        {
          "output_type": "stream",
          "name": "stdout",
          "text": [
            "reasoning: The comment is a direct response to the parent comment, which criticized the original post as being \"a whole lot of nothing.\" The response is defensive and slightly sarcastic, but not overtly negative towards the fight or either fighter. It's more of a reaction to criticism of the original post.\n",
            "label: neutral\n",
            "reasoning: The comment expresses a neutral opinion about the submission. It acknowledges the writing quality but questions the purpose of the post.\n",
            "label: neutral\n",
            "reasoning: The comment simply mentions UFC 230, which is a neutral statement about an upcoming event. It doesn't express any positive or negative sentiment towards the fight or the fighters involved in UFC 229.\n",
            "label: neutral\n",
            "reasoning: The comment \"Ha! You said that the first time round.\" is dismissive and mocking of the previous comment's claim that Conor would win a rematch. It implies disbelief or disagreement with the statement.\n",
            "label: negative\n",
            "reasoning: The comment \"You're welcome\" is a polite response to the previous comment. It doesn't express any sentiment towards the fight itself, but rather acknowledges the other user's comment.\n",
            "label: neutral\n",
            "reasoning: The comment expresses a belief that \"he\" (presumably Conor McGregor) will win in a future fight. This indicates a positive sentiment towards McGregor's chances in a rematch.\n",
            "label: positive\n",
            "reasoning: The comment is asking a question about whether the fighters should have a rematch or fight someone else first. This does not express a positive or negative sentiment towards the fight itself, but rather a neutral inquiry about the future.\n",
            "label: neutral\n",
            "reasoning: The comment suggests that Conor should have a \"tune up\" fight, implying he needs to improve before a rematch. This suggests a negative sentiment towards his current fighting ability in relation to Khabib.\n",
            "label: negative\n",
            "reasoning: The comment expresses a negative sentiment towards Conor McGregor's actions, stating that he riled up religious fanatics and that it was incredibly stupid and borderline suicidal. The comment also suggests that many people took McGregor's actions the wrong way.\n",
            "label: negative\n",
            "reasoning: The comment expresses understanding for both fighters, acknowledging Conor's promotional tactics and Khabib's reaction to disrespect. It emphasizes the entertainment aspect of the fight and suggests that Conor's actions were primarily for promotion, not necessarily a genuine desire to provoke religious conflict. The commenter also states that they, as a Muslim, were not personally offended by Conor's remarks. Overall, the comment aims to provide a balanced perspective and downplay the severity of the situation, leaning towards a neutral stance on the conflict itself.\n",
            "label: neutral\n",
            "reasoning: The comment expresses disagreement with the previous comment's interpretation of Khabib and points out that the previous commenter does not represent all Muslims. It also expresses concern about \"lowest common denominators,\" implying a negative view of potential reactions.\n",
            "label: negative\n",
            "reasoning: The comment expresses a personal opinion and defends the Muslim community while acknowledging that not everyone will agree with the viewpoint. It also suggests that the majority opinion should prevail as long as it's not hate speech. The comment does not express any strong positive or negative sentiment towards the fight itself.\n",
            "label: neutral\n",
            "reasoning: The comment expresses negative sentiments towards both fighters, arguing that both should be penalized for their actions. It criticizes Conor for his past incidents and the UFC's alleged favoritism, and Khabib for his reaction to trash talk and subsequent brawl.\n",
            "label: negative\n",
            "reasoning: The comment expresses a negative sentiment towards a group of people, implying they are easily offended. This is a generalization and can be seen as disrespectful.\n",
            "label: negative\n",
            "reasoning: The comment expresses appreciation for the civil discussion, indicating a positive sentiment towards the conversation and the person being addressed.\n",
            "label: positive\n"
          ]
        },
        {
          "output_type": "stream",
          "name": "stderr",
          "text": [
            "WARNING:tornado.access:429 POST /v1beta/models/gemini-2.0-flash:generateContent?%24alt=json%3Benum-encoding%3Dint (127.0.0.1) 633.24ms\n",
            "WARNING:tornado.access:429 POST /v1beta/models/gemini-2.0-flash:generateContent?%24alt=json%3Benum-encoding%3Dint (127.0.0.1) 607.68ms\n",
            "WARNING:tornado.access:429 POST /v1beta/models/gemini-2.0-flash:generateContent?%24alt=json%3Benum-encoding%3Dint (127.0.0.1) 681.55ms\n",
            "WARNING:tornado.access:429 POST /v1beta/models/gemini-2.0-flash:generateContent?%24alt=json%3Benum-encoding%3Dint (127.0.0.1) 632.09ms\n",
            "WARNING:tornado.access:429 POST /v1beta/models/gemini-2.0-flash:generateContent?%24alt=json%3Benum-encoding%3Dint (127.0.0.1) 631.69ms\n"
          ]
        },
        {
          "output_type": "stream",
          "name": "stdout",
          "text": [
            "reasoning: The comment expresses agreement with the parent comment's sentiment that Khabib's actions after the fight were unjustified, regardless of the trash talk. It uses strong language (\"fuck Khabibs 'honour'\") to convey a negative sentiment towards Khabib's behavior.\n",
            "label: negative\n",
            "reasoning: The comment questions the author's claim of being Muslim due to their presence in a sports bar, where alcohol is typically served. This implies a contradiction between the author's religious identity and their behavior, expressing a negative sentiment towards the author's statement.\n",
            "label: negative\n",
            "reasoning: The comment is a direct response to a question about the author's presence in a sports bar, given their religious affiliation. The author clarifies that being in a sports bar doesn't necessitate drinking alcohol and then shifts the focus to a positive experience they had at the location (poutine). The comment doesn't express any sentiment towards the fight itself, but rather defends their personal choice and promotes a restaurant.\n",
            "label: neutral\n"
          ]
        },
        {
          "output_type": "stream",
          "name": "stderr",
          "text": [
            "WARNING:tornado.access:429 POST /v1beta/models/gemini-2.0-flash:generateContent?%24alt=json%3Benum-encoding%3Dint (127.0.0.1) 606.13ms\n",
            "WARNING:tornado.access:429 POST /v1beta/models/gemini-2.0-flash:generateContent?%24alt=json%3Benum-encoding%3Dint (127.0.0.1) 607.12ms\n",
            "WARNING:tornado.access:429 POST /v1beta/models/gemini-2.0-flash:generateContent?%24alt=json%3Benum-encoding%3Dint (127.0.0.1) 605.79ms\n",
            "WARNING:tornado.access:429 POST /v1beta/models/gemini-2.0-flash:generateContent?%24alt=json%3Benum-encoding%3Dint (127.0.0.1) 605.74ms\n",
            "WARNING:tornado.access:429 POST /v1beta/models/gemini-2.0-flash:generateContent?%24alt=json%3Benum-encoding%3Dint (127.0.0.1) 633.19ms\n",
            "WARNING:tornado.access:429 POST /v1beta/models/gemini-2.0-flash:generateContent?%24alt=json%3Benum-encoding%3Dint (127.0.0.1) 605.54ms\n"
          ]
        },
        {
          "output_type": "stream",
          "name": "stdout",
          "text": [
            "reasoning: The comment is correcting a statement made in the parent comment about Conor's visa being canceled. It is a factual correction and does not express a positive or negative sentiment towards either fighter or the fight itself.\n",
            "label: neutral\n",
            "reasoning: The comment is defending the author of the submission, who mentioned being Muslim and watching the fight at a sports bar. The comment points out the hypocrisy of expecting all religious people to strictly adhere to their religion's teachings, using Christians as a comparison. This is a neutral statement about religious adherence, not directly related to the fight itself.\n",
            "label: neutral\n",
            "reasoning: The comment simply expresses agreement with the submission's sentiment of putting the drama to rest and appreciating the fighters. It doesn't express any negativity or strong positive feelings towards either fighter or the fight itself.\n",
            "label: neutral\n",
            "reasoning: The comment expresses agreement with the submission's points, acknowledging wrongdoing on both sides. It criticizes Khabib's actions after the fight and suggests consequences for him, while also noting Conor's past mistakes and potential learning from them. The overall sentiment is balanced but leans slightly towards criticizing Khabib's post-fight behavior.\n",
            "label: neutral\n",
            "reasoning: The comment is providing a clarification on the types of Muslims and Christians the parent comment is referring to. It's an observation and explanation, not expressing a positive or negative sentiment towards the fight or fighters.\n",
            "label: neutral\n",
            "reasoning: The comment is a response to a previous comment about Muslims drinking alcohol and watching sports in bars. It argues that not all religious people follow all the rules of their religion 100% of the time. This is a neutral statement about religious practice in general, not specifically about the fight or the fighters.\n",
            "label: neutral\n",
            "reasoning: The comment is agreeing with the statement that religious people don't always adhere to 100% of the rules. This is a neutral statement about the fight or fighters.\n",
            "label: neutral\n",
            "reasoning: The comment expresses agreement with the submission's sentiment that the drama surrounding the fight should be put to rest. It states that both fighters seem to have moved on, suggesting a positive outlook on the situation.\n",
            "label: positive\n",
            "reasoning: The comment is a follow-up question to a previous comment about religious people not adhering to all the rules of their religion. It expresses curiosity about why someone would follow a religion only partially, without expressing any positive or negative sentiment towards the fight or the fighters.\n",
            "label: neutral\n",
            "reasoning: The comment discusses the nuances of religious practice and relates it to the context of UFC 229 by mentioning Conor's \"terrorist snitch\" comment. It doesn't express a strong positive or negative sentiment towards the fight itself, but rather uses it as a backdrop for a broader discussion.\n",
            "label: neutral\n",
            "reasoning: The comment is clarifying an autocorrect, and is not related to the fight itself.\n",
            "label: neutral\n",
            "reasoning: The comment is a general statement about religion and doesn't express any sentiment towards the fight or the fighters. It's a neutral observation about the diversity of religious practices and beliefs.\n",
            "label: neutral\n",
            "reasoning: This comment is a response to a question about religious practice and adherence to rules. It explains the commenter's personal approach to Islam, acknowledging imperfections and prioritizing core principles. The comment does not express any sentiment towards the fight itself, but rather focuses on personal religious beliefs and practices.\n",
            "label: neutral\n",
            "reasoning: The comment discusses religion and personal boundaries, relating to the previous comments about Muslims and alcohol. It doesn't express a strong positive or negative sentiment towards the fight itself, but rather provides a personal perspective on religious practice and tolerance.\n",
            "label: neutral\n",
            "reasoning: The comment is defending Khabib's reaction to Conor's trash talk by suggesting that if someone insulted their father in a similar way, they would also be angry. This implies a positive sentiment towards Khabib's actions.\n",
            "label: positive\n",
            "reasoning: The comment is a direct response to a question about why the author was watching the fight in a sports bar. The comment is neutral in tone and simply states the obvious reason why someone would go to a sports bar.\n",
            "label: neutral\n"
          ]
        },
        {
          "output_type": "stream",
          "name": "stderr",
          "text": [
            "WARNING:tornado.access:429 POST /v1beta/models/gemini-2.0-flash:generateContent?%24alt=json%3Benum-encoding%3Dint (127.0.0.1) 632.73ms\n",
            "WARNING:tornado.access:429 POST /v1beta/models/gemini-2.0-flash:generateContent?%24alt=json%3Benum-encoding%3Dint (127.0.0.1) 632.45ms\n",
            "WARNING:tornado.access:429 POST /v1beta/models/gemini-2.0-flash:generateContent?%24alt=json%3Benum-encoding%3Dint (127.0.0.1) 658.52ms\n",
            "WARNING:tornado.access:429 POST /v1beta/models/gemini-2.0-flash:generateContent?%24alt=json%3Benum-encoding%3Dint (127.0.0.1) 632.38ms\n",
            "WARNING:tornado.access:429 POST /v1beta/models/gemini-2.0-flash:generateContent?%24alt=json%3Benum-encoding%3Dint (127.0.0.1) 631.51ms\n",
            "WARNING:tornado.access:429 POST /v1beta/models/gemini-2.0-flash:generateContent?%24alt=json%3Benum-encoding%3Dint (127.0.0.1) 633.93ms\n",
            "WARNING:tornado.access:429 POST /v1beta/models/gemini-2.0-flash:generateContent?%24alt=json%3Benum-encoding%3Dint (127.0.0.1) 631.43ms\n"
          ]
        },
        {
          "output_type": "stream",
          "name": "stdout",
          "text": [
            "reasoning: The comment \"ALLAHU ACKBAR! ALLAHU ACKBAR! ALLAHU ACKBAR!!!!!!!!!!!!!!!!!!!!!!!\", while a religious phrase, is often associated with violence and extremism, especially in the context of a fight. Given the history between Khabib and McGregor, and the mention of Khabib's faith in the submission, this comment could be interpreted as a negative or inflammatory statement.\n",
            "label: negative\n",
            "reasoning: The comment expresses a critical view of the UFC, arguing that they benefit from controversy and incentivize bad behavior. It suggests that the UFC is partly to blame for the events following the fight due to their handling of similar incidents and the financial incentives they create. While not explicitly supporting either fighter, it leans towards understanding Khabib's actions in the context of the UFC's environment.\n",
            "label: negative\n",
            "reasoning: The comment is questioning the reason for being a \"dickhead,\" which implies disapproval of negative behavior or actions. This suggests a negative sentiment towards such behavior.\n",
            "label: negative\n",
            "reasoning: The comment provides additional information about sports bars and their availability for Muslims, without expressing any strong sentiment towards the fight or the fighters.\n",
            "label: neutral\n",
            "reasoning: The comment \"Ignorance is a virus\" is a general statement and does not express a positive, negative, or neutral sentiment towards the fight itself. It's a standalone statement that doesn't directly relate to the fighters or the event.\n",
            "label: neutral\n",
            "reasoning: The comment expresses a positive sentiment towards the respectful nature of the religious conversation within the MMA subreddit. It highlights the positive aspect of the discussion, indicating a favorable view.\n",
            "label: positive\n",
            "reasoning: The comment is asking a question about the limits of acceptable behavior in the context of the fight, specifically what Conor McGregor could say that would be considered too far. It doesn't express a positive or negative sentiment towards either fighter or the fight itself, but rather seeks to understand the author's perspective on the boundaries of acceptable trash talk.\n",
            "label: neutral\n",
            "reasoning: The comment discusses the UFC's code of conduct and whether it should be enforced or removed, given the profitability of controversial topics. It acknowledges Conor's role in creating drama and attracting audiences, while also suggesting he should have filtered himself more. The comment doesn't express strong positive or negative feelings towards the fight itself, but rather focuses on the UFC's handling of controversial topics.\n",
            "label: neutral\n",
            "reasoning: The comment suggests that the author's perspective might change if they traveled and made money, implying that the author's current perspective is limited or incorrect. This is a negative sentiment towards the author's views on the fight.\n",
            "label: negative\n",
            "reasoning: The comment is extremely negative and inflammatory, referencing a sensitive and controversial topic (murder) and associating it with a religious phrase (\"allahu ackbar\") in a derogatory manner. This clearly expresses a negative sentiment towards the subject of the discussion, likely Khabib and/or Muslims in general.\n",
            "label: negative\n",
            "reasoning: The comment is a response to a question about the commenter's choice to watch the fight in a sports bar despite being Muslim. The comment explains the commenter's reasoning for choosing a particular type of sports bar or watching at home, focusing on TV settings and crowd size. The comment does not express any sentiment towards the fight itself, but rather provides a neutral explanation for a personal choice.\n",
            "label: neutral\n",
            "reasoning: The comment discusses the UFC as an entertainment brand and suggests that some of the \"crazy stuff\" seen may be pre-planned, implying a level of artificiality or staging. This perspective doesn't express a strong positive or negative sentiment towards the fight itself or the fighters, but rather a neutral observation about the nature of the UFC as a spectacle.\n",
            "label: neutral\n",
            "reasoning: The comment is sexually suggestive and makes light of the situation, which is not positive or negative towards the fight itself.\n",
            "label: neutral\n",
            "reasoning: The comment expresses a strong opinion that people should be held accountable for their words with physical confrontation, which is a negative sentiment towards the idea of resolving conflicts peacefully.\n",
            "label: negative\n",
            "reasoning: The comment is responding to a previous comment that is critical of Khabib's actions after the fight, specifically his reaction to trash talk. The comment expresses a negative sentiment towards the idea that people should not face consequences for their words, implying support for physical confrontation in response to trash talk.\n",
            "label: negative\n",
            "reasoning: The comment expresses a positive sentiment towards the original post, agreeing with its points about the rivalry being overblown and the need for fans to calm down. It also acknowledges the faults of both fighters and expresses hope for a more peaceful resolution in the future.\n",
            "label: positive\n",
            "reasoning: The comment expresses agreement with the points made in the parent comment, indicating a positive sentiment towards the parent comment's perspective on the fight and its aftermath.\n",
            "label: positive\n",
            "reasoning: The comment expresses a cynical view of the fight, suggesting it's largely theatrics for financial gain. It highlights Conor's past sportsmanship and potential future plans, further emphasizing the business aspect. The comment also acknowledges the controversy surrounding the promotion but ultimately sees the fighters as valuable assets to their respective industries.\n",
            "label: neutral\n",
            "reasoning: The comment expresses surprise and appreciation for a calm and constructive conversation between people of different backgrounds. It highlights the importance of understanding cultural differences and criticizes trolling. The overall tone is positive and appreciative of the discussion.\n",
            "label: positive\n",
            "reasoning: The comment is mocking Khabib, implying he is ducking Conor. This is a negative sentiment towards Khabib's decision to fight Ferguson instead of Conor.\n",
            "label: negative\n",
            "reasoning: The comment expresses a negative sentiment towards Khabib's financial demands, suggesting he should prove his worth before asking for such a high payout. It criticizes his reliance on McGregor's popularity for PPV sales.\n",
            "label: negative\n",
            "reasoning: The comment expresses confusion and skepticism about Khabib's motivations, pointing out a contradiction between the claim of prioritizing legitimacy and the demand for a minimum of $5 million to fight. This suggests a neutral sentiment towards the fight itself, but a questioning attitude towards the fighter's stated reasons.\n",
            "label: neutral\n",
            "reasoning: The comment expresses support for Khabib's decision, viewing it as a stance against undeserved rematches and unfair treatment by the UFC. The commenter believes Khabib's demand for a minimum of $5 million is reasonable given his increased popularity.\n",
            "label: positive\n"
          ]
        },
        {
          "output_type": "stream",
          "name": "stderr",
          "text": [
            "WARNING:tornado.access:429 POST /v1beta/models/gemini-2.0-flash:generateContent?%24alt=json%3Benum-encoding%3Dint (127.0.0.1) 607.26ms\n",
            "WARNING:tornado.access:429 POST /v1beta/models/gemini-2.0-flash:generateContent?%24alt=json%3Benum-encoding%3Dint (127.0.0.1) 1641.32ms\n",
            "WARNING:tornado.access:429 POST /v1beta/models/gemini-2.0-flash:generateContent?%24alt=json%3Benum-encoding%3Dint (127.0.0.1) 557.21ms\n",
            "WARNING:tornado.access:429 POST /v1beta/models/gemini-2.0-flash:generateContent?%24alt=json%3Benum-encoding%3Dint (127.0.0.1) 582.08ms\n",
            "WARNING:tornado.access:429 POST /v1beta/models/gemini-2.0-flash:generateContent?%24alt=json%3Benum-encoding%3Dint (127.0.0.1) 556.51ms\n",
            "WARNING:tornado.access:429 POST /v1beta/models/gemini-2.0-flash:generateContent?%24alt=json%3Benum-encoding%3Dint (127.0.0.1) 556.49ms\n"
          ]
        },
        {
          "output_type": "stream",
          "name": "stdout",
          "text": [
            "reasoning: The comment expresses agreement with the idea that a rematch with Conor McGregor is undeserved. However, it questions Khabib's stance on money, pointing out the contradiction between rejecting $15 million for a rematch and demanding at least $5 million for a fight. The comment acknowledges Khabib's fighting prowess and right to earn money but suggests that he should drop the \"doesn't care about money\" persona if he's actively seeking a lucrative deal. Overall, the comment is mixed, acknowledging Khabib's skill while criticizing his perceived hypocrisy.\n",
            "label: neutral\n",
            "reasoning: The comment expresses a critical view of Khabib's financial demands, contrasting them with his stance against being exploited by the UFC. It questions the logic of demanding a record purse while also refusing to fight Conor, the biggest PPV draw. This suggests a negative sentiment towards Khabib's actions.\n",
            "label: negative\n",
            "reasoning: The comment expresses skepticism and disbelief towards the information provided by Khabib's uncle, implying that the uncle is making things up. This is a negative sentiment towards the information being shared about the fight.\n",
            "label: negative\n",
            "reasoning: The comment expresses a positive sentiment towards Khabib's actions, suggesting he is trying to take advantage of the UFC, which the commenter approves of.\n",
            "label: positive\n",
            "reasoning: The comment expresses a positive sentiment towards Khabib's decision, suggesting that while he may not be motivated solely by money, having financial security is still beneficial and allows him to help others.\n",
            "label: positive\n",
            "reasoning: The comment is discussing the financial aspects of fighting, comparing Conor's earnings to Khabib's demands. It doesn't express a strong positive or negative sentiment towards the fight itself, but rather makes a statement about the fighters' financial positions.\n",
            "label: neutral\n",
            "reasoning: The comment expresses a negative sentiment towards Dana White and a desire for Khabib to not disrupt the UFC too much, while also acknowledging enjoyment of the sport. This indicates a mixed but overall slightly negative sentiment.\n",
            "label: negative\n",
            "reasoning: The comment discusses the financial aspects of Khabib's fights and compares them to Conor's earnings, suggesting Khabib was being underpaid by Dana White (UFC president). This implies a negative sentiment towards the UFC's treatment of Khabib.\n",
            "label: negative\n",
            "reasoning: The comment is discussing the financial aspects of the fight and Khabib's demands, comparing them to Conor's earnings and previous purses. It presents a neutral analysis of the situation, focusing on the numbers and percentages.\n",
            "label: neutral\n",
            "reasoning: The comment is stating a fact about Khabib's compensation as the champion, which is relevant to the discussion about his earnings and the UFC's treatment of him. It doesn't express a positive or negative sentiment towards the fight itself, but rather provides additional information to the context.\n",
            "label: neutral\n",
            "reasoning: The comment supports Khabib's decision to prioritize legacy and honor over money, suggesting that he is not simply motivated by financial gain but by a desire to uphold his principles. This aligns with a positive sentiment towards Khabib's actions.\n",
            "label: positive\n",
            "reasoning: The comment expresses an understanding of Khabib's stance on money, suggesting he values principles over selling a fight but expects fair compensation for his work. This is a nuanced perspective that doesn't strongly favor or oppose Khabib's actions, but rather attempts to explain them.\n",
            "label: neutral\n",
            "reasoning: The comment discusses Conor's negotiation tactics and suggests Khabib is employing a similar strategy to increase his leverage in negotiations with the UFC. It doesn't express a strong positive or negative sentiment towards the fight itself, but rather analyzes the financial aspects and negotiation strategies involved.\n",
            "label: neutral\n",
            "reasoning: The comment expresses agreement with a previous interpretation but then expresses a negative sentiment towards the fighter demanding $5 million.\n",
            "label: negative\n",
            "reasoning: The comment expresses an opinion on how much Khabib should be paid for different fights. It suggests that Khabib should be happy with a certain amount of money for a fight with Tony and a lower amount for other opponents. This doesn't express a strong positive or negative sentiment towards the fight itself, but rather a neutral opinion on the financial aspect.\n",
            "label: neutral\n",
            "reasoning: The comment suggests that Khabib is intentionally messing with the UFC, which implies a somewhat positive sentiment towards Khabib's actions and a negative sentiment towards the UFC.\n",
            "label: positive\n"
          ]
        },
        {
          "output_type": "stream",
          "name": "stderr",
          "text": [
            "WARNING:tornado.access:429 POST /v1beta/models/gemini-2.0-flash:generateContent?%24alt=json%3Benum-encoding%3Dint (127.0.0.1) 607.13ms\n",
            "WARNING:tornado.access:429 POST /v1beta/models/gemini-2.0-flash:generateContent?%24alt=json%3Benum-encoding%3Dint (127.0.0.1) 631.78ms\n",
            "WARNING:tornado.access:429 POST /v1beta/models/gemini-2.0-flash:generateContent?%24alt=json%3Benum-encoding%3Dint (127.0.0.1) 606.56ms\n",
            "WARNING:tornado.access:429 POST /v1beta/models/gemini-2.0-flash:generateContent?%24alt=json%3Benum-encoding%3Dint (127.0.0.1) 631.82ms\n",
            "WARNING:tornado.access:429 POST /v1beta/models/gemini-2.0-flash:generateContent?%24alt=json%3Benum-encoding%3Dint (127.0.0.1) 581.54ms\n",
            "WARNING:tornado.access:429 POST /v1beta/models/gemini-2.0-flash:generateContent?%24alt=json%3Benum-encoding%3Dint (127.0.0.1) 581.19ms\n"
          ]
        },
        {
          "output_type": "stream",
          "name": "stdout",
          "text": [
            "reasoning: The comment is speculating about Khabib's negotiation tactics, suggesting he's asking for a high amount to eventually settle for a reasonable one. This doesn't express a strong positive or negative sentiment towards the fight itself, but rather a neutral observation about the financial aspect.\n",
            "label: neutral\n",
            "reasoning: The comment expresses skepticism about Khabib's ability to make independent decisions due to his contract with the UFC. It suggests that the UFC ultimately controls his career and that a rematch with Conor is more likely if the UFC desires it, regardless of merit. The comment also expresses disagreement with the UFC's practices. Overall, the sentiment is neutral towards the fight itself, but critical of the UFC's control over fighters.\n",
            "label: neutral\n",
            "reasoning: The comment is referencing the concept of \"fuck you money\" which is brought up in the parent comment. The comment is agreeing with the idea that Khabib wants to have enough money to be independent and not have to worry about financial constraints.\n",
            "label: neutral\n",
            "reasoning: The comment is asking about Khabib's earnings from the fight with McGregor and stating that the draw was both fighters, not just McGregor. This is a neutral statement about the fight and its financial aspects.\n",
            "label: neutral\n",
            "reasoning: The comment is neutral as it is just stating a possibility of Khabib leaving UFC.\n",
            "label: neutral\n",
            "reasoning: The comment expresses a negative sentiment towards Khabib's position and leverage against the UFC. It suggests the UFC wouldn't agree to a buyout and implies Khabib's value isn't irreplaceable.\n",
            "label: negative\n",
            "reasoning: The comment is questioning the possibility of a buyout clause in Khabib's contract with the UFC. It doesn't express a strong positive or negative sentiment towards the fight itself, but rather a neutral inquiry about the contractual details.\n",
            "label: neutral\n",
            "reasoning: The comment \"rmrmrmrmrm- mctapper\" doesn't express any clear sentiment towards the fight, Khabib, Conor, or the situation described in the article. It appears to be nonsensical or possibly a username.\n",
            "label: neutral\n",
            "reasoning: The comment is defending a previous comment that was being downvoted. It argues that Khabib should also prove he can sell PPVs like Conor before demanding a large sum of money to fight. This is a neutral stance towards the fight itself, but it does criticize Khabib's financial demands.\n",
            "label: neutral\n",
            "reasoning: The comment expresses concern about Conor's focus on promoting his product over dedicating himself fully to the fight. While the commenter identifies as a Conor fan, they acknowledge a potential negative impact on his performance. This suggests a negative sentiment towards the prospect of Conor fighting under these circumstances.\n",
            "label: negative\n",
            "reasoning: The comment analyzes the situation surrounding Khabib's potential fights, questioning his agency in choosing opponents given his contract with the UFC and the ongoing Nevada Athletic Commission's decision. It doesn't express a strong positive or negative sentiment towards the fight itself, but rather raises questions about the logistics and control the UFC has over fighter matchups.\n",
            "label: neutral\n",
            "reasoning: The comment expresses skepticism about Conor accepting a fight under specific conditions (getting $0 if he loses). This implies a negative sentiment towards Conor's willingness to take risks or prioritize the sport over financial gain.\n",
            "label: negative\n",
            "reasoning: The comment expresses doubt about the claim that Khabib was offered $15 million to fight, calling it \"nonsense.\" It then provides an alternative explanation for how fighters earn money, suggesting the $15 million figure is unrealistic. This indicates a negative sentiment towards the claim made in the submission.\n",
            "label: negative\n",
            "reasoning: The comment discusses fighters having a choice in who they fight, referencing the Diaz brothers as an example. This neither expresses a positive or negative sentiment towards the fight itself.\n",
            "label: neutral\n",
            "reasoning: The comment expresses disbelief and skepticism regarding the claim that Khabib would turn down $15 million due to personal dislike for Conor. It questions the likelihood of such a decision, suggesting it's implausible.\n",
            "label: negative\n",
            "reasoning: The comment is discussing the potential earnings from a rematch between Khabib and Conor, suggesting that the $15 million offer was likely a guaranteed minimum amount. It acknowledges the previous comment's point about PPV earnings potentially exceeding that amount. The comment is neutral in sentiment towards the fight itself, focusing on the financial aspects.\n",
            "label: neutral\n"
          ]
        },
        {
          "output_type": "stream",
          "name": "stderr",
          "text": [
            "WARNING:tornado.access:429 POST /v1beta/models/gemini-2.0-flash:generateContent?%24alt=json%3Benum-encoding%3Dint (127.0.0.1) 607.88ms\n",
            "WARNING:tornado.access:429 POST /v1beta/models/gemini-2.0-flash:generateContent?%24alt=json%3Benum-encoding%3Dint (127.0.0.1) 583.76ms\n",
            "WARNING:tornado.access:429 POST /v1beta/models/gemini-2.0-flash:generateContent?%24alt=json%3Benum-encoding%3Dint (127.0.0.1) 607.28ms\n",
            "WARNING:tornado.access:429 POST /v1beta/models/gemini-2.0-flash:generateContent?%24alt=json%3Benum-encoding%3Dint (127.0.0.1) 607.13ms\n",
            "WARNING:tornado.access:429 POST /v1beta/models/gemini-2.0-flash:generateContent?%24alt=json%3Benum-encoding%3Dint (127.0.0.1) 582.93ms\n",
            "WARNING:tornado.access:429 POST /v1beta/models/gemini-2.0-flash:generateContent?%24alt=json%3Benum-encoding%3Dint (127.0.0.1) 583.25ms\n"
          ]
        },
        {
          "output_type": "stream",
          "name": "stdout",
          "text": [
            "reasoning: The comment is providing information about fighter contracts and their flexibility in accepting replacement opponents. It doesn't express a positive or negative sentiment towards the fight itself, but rather clarifies the contractual obligations.\n",
            "label: neutral\n",
            "reasoning: The comment expresses a belief that Khabib can leave his UFC contract without significant repercussions due to Russian support, suggesting a positive outlook on Khabib's potential actions and a negative view of the UFC's power over him. This implies a positive sentiment towards Khabib's stance against Conor and the UFC's potential rematch plans.\n",
            "label: positive\n",
            "reasoning: The comment expresses distrust towards Dana White, implying that his statements are often unreliable. This sentiment is neither directly positive nor negative towards the fight itself, but rather a commentary on the information source.\n",
            "label: neutral\n",
            "reasoning: The comment questions the assumption that fighting Conor is the only way for Khabib to secure his family's financial future. It implies that Khabib has other options and that turning down the fight might not be as financially detrimental as the previous comment suggests. This is a neutral stance as it doesn't explicitly support or criticize Khabib's decision, but rather questions the reasoning behind the previous comment.\n",
            "label: neutral\n",
            "reasoning: The comment is a direct response to a previous comment about contract buyouts, indicating a disagreement or correction. It doesn't express a positive or negative sentiment towards the fight itself, but rather focuses on the contractual aspects.\n",
            "label: neutral\n",
            "reasoning: The comment expresses disagreement with the idea that Khabib would turn down $15 million, suggesting that anyone would take that offer. This implies a negative sentiment towards Khabib's decision and a more pragmatic view of fighting as a business.\n",
            "label: negative\n",
            "reasoning: The comment is discussing the logistics of Khabib leaving the UFC, specifically how a contract buyout would work. It doesn't express a strong positive or negative sentiment towards the fight itself, but rather focuses on the contractual aspects.\n",
            "label: neutral\n",
            "reasoning: The comment expresses strong admiration for Khabib's decision to prioritize fighting Tony Ferguson and his potential future plans. It uses phrases like \"respect someone anymore than I respect this man\" which clearly indicates a positive sentiment.\n",
            "label: positive\n",
            "reasoning: The comment \"Lmao more pushups...\" is a humorous reference to the previous comment about paying homeless people to do pushups. It doesn't express a strong positive or negative sentiment towards the fight itself, but rather adds a lighthearted reaction to the preceding discussion.\n",
            "label: neutral\n",
            "reasoning: The comment expresses a nuanced view, acknowledging Khabib's interest in money but emphasizing that it's not his primary motivator. It suggests he prioritizes fighting deserving opponents and preventing Conor from a big payday, indicating a positive sentiment towards Khabib's decision-making.\n",
            "label: positive\n",
            "reasoning: The comment is discussing the financial aspects of a potential fight for Khabib, specifically how the UFC could guarantee him a certain amount of money, including PPV buys. It doesn't express a positive or negative sentiment towards the fight itself, but rather provides information about the financial negotiations.\n",
            "label: neutral\n",
            "reasoning: The comment expresses a strong belief in Khabib's superiority over Conor, stating he would win almost every time. This is a positive sentiment towards Khabib and a negative sentiment towards Conor.\n",
            "label: positive\n",
            "reasoning: The comment uses a laughing emoji and recalls a negative event involving Conor, suggesting a negative sentiment towards Conor and potentially a positive sentiment towards Khabib's actions.\n",
            "label: positive\n",
            "reasoning: The comment is primarily focused on explaining how buyout clauses work in contracts, particularly in the context of Khabib's situation with the UFC. It corrects a previous misunderstanding about buyout clauses and discusses the UFC's control over its fighters' contracts. The comment does not express a strong positive or negative sentiment towards the fight itself, but rather provides a neutral analysis of the contractual aspects.\n",
            "label: neutral\n",
            "reasoning: The comment expresses strong negativity towards Khabib's decision, calling him a \"retard\" and \"dumbass\" for turning down the fight. It also suggests that Khabib is overestimating his own popularity and will fade into obscurity.\n",
            "label: negative\n",
            "reasoning: The comment is discussing the mechanics of contract buyouts in sports, comparing European football to North American sports. It doesn't express a positive, negative, or neutral sentiment towards the fight between Khabib and Ferguson.\n",
            "label: neutral\n"
          ]
        },
        {
          "output_type": "stream",
          "name": "stderr",
          "text": [
            "WARNING:tornado.access:429 POST /v1beta/models/gemini-2.0-flash:generateContent?%24alt=json%3Benum-encoding%3Dint (127.0.0.1) 609.49ms\n",
            "WARNING:tornado.access:429 POST /v1beta/models/gemini-2.0-flash:generateContent?%24alt=json%3Benum-encoding%3Dint (127.0.0.1) 582.57ms\n",
            "WARNING:tornado.access:429 POST /v1beta/models/gemini-2.0-flash:generateContent?%24alt=json%3Benum-encoding%3Dint (127.0.0.1) 557.31ms\n",
            "WARNING:tornado.access:429 POST /v1beta/models/gemini-2.0-flash:generateContent?%24alt=json%3Benum-encoding%3Dint (127.0.0.1) 582.03ms\n",
            "WARNING:tornado.access:429 POST /v1beta/models/gemini-2.0-flash:generateContent?%24alt=json%3Benum-encoding%3Dint (127.0.0.1) 556.89ms\n",
            "WARNING:tornado.access:429 POST /v1beta/models/gemini-2.0-flash:generateContent?%24alt=json%3Benum-encoding%3Dint (127.0.0.1) 582.71ms\n",
            "WARNING:tornado.access:429 POST /v1beta/models/gemini-2.0-flash:generateContent?%24alt=json%3Benum-encoding%3Dint (127.0.0.1) 581.43ms\n"
          ]
        },
        {
          "output_type": "stream",
          "name": "stdout",
          "text": [
            "reasoning: The comment \"No\" is in response to the question of whether Khabib will have a rematch with Conor. This is a negative sentiment towards the possibility of a rematch.\n",
            "label: negative\n",
            "reasoning: The comment is explaining how a buyout clause works, which is relevant to the discussion about Khabib's contract. It doesn't express a strong positive or negative sentiment towards the fight itself, but rather provides information about contract law.\n",
            "label: neutral\n",
            "reasoning: The comment expresses a negative opinion about Khabib, predicting his irrelevance and criticizing his fighting style and support base. It also contrasts him unfavorably with McGregor.\n",
            "label: negative\n",
            "reasoning: The comment explains the contractual obligations of fighters in the UFC, clarifying that while fighters are contracted for a certain number of fights, they have to agree to the specific matchups and payouts. This is a neutral explanation of the contract process.\n",
            "label: neutral\n",
            "reasoning: The comment is discussing the logistics of Khabib potentially leaving the UFC and joining another organization, focusing on contract buyouts. It expresses skepticism that Khabib's contract would have a buyout clause, comparing it to practices in other sports leagues. The sentiment is neutral as it doesn't express a positive or negative opinion towards Khabib, the fight, or the UFC's actions. It's more of a factual discussion about contract law.\n",
            "label: neutral\n",
            "reasoning: The comment \"lol\" is a general expression of amusement and doesn't express a clear positive, negative, or neutral sentiment towards the fight itself. It's a reaction to the situation described in the article.\n",
            "label: neutral\n",
            "reasoning: The comment expresses a belief that Khabib is not motivated by money anymore, suggesting a positive view of Khabib's values. It also implies a negative sentiment towards Americans. Overall, the sentiment towards Khabib's decision and character is positive.\n",
            "label: positive\n",
            "reasoning: The comment focuses on the financial aspects of the Khabib vs. Conor fight, specifically the PPV numbers and how much each fighter likely earned. It argues that Conor was the main draw and deserves the larger share of the revenue. While it doesn't express a strong positive or negative sentiment towards either fighter in terms of their fighting abilities or character, it does defend Conor's financial value. It is mostly factual and analytical.\n",
            "label: neutral\n",
            "reasoning: The comment expresses a negative sentiment towards Khabib, suggesting he is scared of Conor and will lose in a rematch.\n",
            "label: negative\n",
            "reasoning: The comment expresses satisfaction at being proven right about the \"Conor offered 15m\" story being false, as confirmed by Dana White. This implies a negative sentiment towards the initial story and potentially towards those who believed it.\n",
            "label: positive\n",
            "reasoning: The comment expresses agreement with the idea that Khabib might not be motivated solely by money, suggesting that most people would be satisfied with a few million and that Khabib has already accumulated wealth. It also implies that Khabib has other sources of income or support.\n",
            "label: positive\n",
            "reasoning: The comment is a recollection of a past event involving a fighter trying to get out of a contract. It doesn't express a positive or negative sentiment towards the fight between Khabib and Ferguson, or the situation described in the article. It's simply a related anecdote.\n",
            "label: neutral\n",
            "reasoning: The comment expresses disbelief in the information presented in the submission, suggesting skepticism about the claims made. This implies a neutral sentiment towards the fight itself, as the commenter is questioning the validity of the information surrounding it.\n",
            "label: neutral\n",
            "reasoning: The comment expresses agreement with the potential profitability of a rematch but also skepticism about the UFC's willingness to offer a large sum to Khabib, citing the UFC's history of underpaying fighters. It acknowledges Khabib's current leverage but remains uncertain about the situation. This suggests a neutral stance towards the fight itself, focusing more on the business aspects and the UFC's practices.\n",
            "label: neutral\n",
            "reasoning: The comment criticizes Khabib for \"talking trash\" despite supposedly disliking Conor's trash talk. This implies a negative sentiment towards Khabib's actions.\n",
            "label: negative\n",
            "reasoning: The comment discusses the financial aspects of a potential rematch between Khabib and Conor, suggesting that the UFC's pursuit of money might explain why fighters are not always paid fairly. It also argues that Khabib has significant leverage in negotiations due to the high demand for the rematch. The comment does not express a strong positive or negative sentiment towards the fight itself, but rather focuses on the business side of things.\n",
            "label: neutral\n",
            "reasoning: The comment is simply recalling something about the previous comment, which is about Randy Couture's contract. It does not express any sentiment towards the fight itself.\n",
            "label: neutral\n"
          ]
        },
        {
          "output_type": "stream",
          "name": "stderr",
          "text": [
            "WARNING:tornado.access:429 POST /v1beta/models/gemini-2.0-flash:generateContent?%24alt=json%3Benum-encoding%3Dint (127.0.0.1) 584.18ms\n",
            "WARNING:tornado.access:429 POST /v1beta/models/gemini-2.0-flash:generateContent?%24alt=json%3Benum-encoding%3Dint (127.0.0.1) 582.51ms\n",
            "WARNING:tornado.access:429 POST /v1beta/models/gemini-2.0-flash:generateContent?%24alt=json%3Benum-encoding%3Dint (127.0.0.1) 581.53ms\n",
            "WARNING:tornado.access:429 POST /v1beta/models/gemini-2.0-flash:generateContent?%24alt=json%3Benum-encoding%3Dint (127.0.0.1) 582.07ms\n"
          ]
        },
        {
          "output_type": "stream",
          "name": "stdout",
          "text": [
            "reasoning: The comment agrees with the previous comment about Khabib's stock rising, but then argues that Khabib is still bound by his contract and the UFC ultimately controls the opponent selection. The comment also includes a quote from Khabib himself dismissing the $15 million offer as \"bullshit news\". The comment is mostly neutral, discussing the business aspects of fighting and contracts.\n",
            "label: neutral\n",
            "reasoning: The comment is complaining about the upvotes and downvotes, which is not directly related to the fight itself or the fighters. It's a meta-comment about the voting system on the platform.\n",
            "label: neutral\n",
            "reasoning: The comment suggests that Conor would lose if he doesn't fully commit to the fight, regardless of the opponent. This implies a negative sentiment towards Conor's chances in a fight.\n",
            "label: negative\n",
            "reasoning: The comment expresses disbelief and accuses the previous commenter of being delusional for believing the claim that Khabib turned down $15 million to fight Conor. It also mentions Dana White debunking the claim, further reinforcing the negative sentiment towards the idea of Khabib turning down the money.\n",
            "label: negative\n",
            "reasoning: The comment expresses agreement with the sentiment that Khabib will fade away soon, which is a negative outlook on Khabib's future relevance.\n",
            "label: negative\n",
            "reasoning: The comment is stating a fact about fighters being able to refuse fights, which is relevant to the discussion about Khabib turning down a fight with Conor. It doesn't express a positive or negative sentiment towards the fight itself, but rather clarifies the agency of fighters in accepting or declining fights.\n",
            "label: neutral\n",
            "reasoning: The comment is asking for clarification on facts presented in a previous comment. It does not express a positive or negative sentiment towards the fight itself.\n",
            "label: neutral\n",
            "reasoning: The comment expresses a strong opinion that Conor was the main draw in the fight and that Khabib doesn't deserve equal earnings. This is a negative sentiment towards Khabib's earning potential and a positive sentiment towards Conor's drawing power.\n",
            "label: negative\n",
            "reasoning: The comment is a response to a previous comment, clarifying the user's original question about whether Khabib received any PPV earnings from the fight, regardless of who was the bigger draw. The user also states that they were interested in the fight because of the combination of both fighters. This does not express a positive or negative sentiment towards the fight itself.\n",
            "label: neutral\n",
            "reasoning: The comment expresses a strong belief that Nate Diaz would win against McGregor, using a derogatory term (\"juicehead\") to refer to McGregor. This indicates a negative sentiment towards McGregor and a positive sentiment towards Diaz in the context of a potential fight.\n",
            "label: positive\n",
            "reasoning: The comment expresses a negative sentiment towards Conor McGregor, stating that he is \"just running a circus.\" This implies a lack of seriousness or respect for his fighting career.\n",
            "label: negative\n",
            "reasoning: The comment expresses a balanced view on the potential fight, acknowledging Diaz's potential while also highlighting McGregor's past performance. It expresses hope for the fight to happen, indicating a positive sentiment towards the matchup itself.\n",
            "label: positive\n",
            "reasoning: The comment expresses a negative sentiment towards McGregor, stating that Nate slapped him around and made him run. This is a negative portrayal of McGregor's performance in their fights.\n",
            "label: negative\n",
            "reasoning: The comment expresses a positive sentiment towards McGregor's performance in the fights against Diaz, arguing that McGregor was winning in both fights until specific points. It also criticizes the idea that Diaz \"destroyed\" or \"dominated\" McGregor, indicating a disagreement with a negative view of McGregor's performance.\n",
            "label: positive\n",
            "reasoning: The comment is negative towards McGregor, stating he \"literally sprinted away from Nate in the 2nd fight.\" This implies cowardice or being overwhelmed, which is a negative sentiment in the context of a fight.\n",
            "label: negative\n",
            "reasoning: The comment defends McGregor's performance in the second fight against Diaz, arguing that McGregor was strategically making distance, not running out of fear. It also highlights Diaz's knockdowns and leg damage, suggesting McGregor was the superior fighter. The comment expresses disagreement with the previous comment's assessment of the fight.\n",
            "label: positive\n"
          ]
        },
        {
          "output_type": "stream",
          "name": "stderr",
          "text": [
            "WARNING:tornado.access:429 POST /v1beta/models/gemini-2.0-flash:generateContent?%24alt=json%3Benum-encoding%3Dint (127.0.0.1) 581.40ms\n",
            "WARNING:tornado.access:429 POST /v1beta/models/gemini-2.0-flash:generateContent?%24alt=json%3Benum-encoding%3Dint (127.0.0.1) 581.14ms\n",
            "WARNING:tornado.access:429 POST /v1beta/models/gemini-2.0-flash:generateContent?%24alt=json%3Benum-encoding%3Dint (127.0.0.1) 556.99ms\n",
            "WARNING:tornado.access:429 POST /v1beta/models/gemini-2.0-flash:generateContent?%24alt=json%3Benum-encoding%3Dint (127.0.0.1) 556.82ms\n",
            "WARNING:tornado.access:429 POST /v1beta/models/gemini-2.0-flash:generateContent?%24alt=json%3Benum-encoding%3Dint (127.0.0.1) 556.23ms\n"
          ]
        },
        {
          "output_type": "stream",
          "name": "stdout",
          "text": [
            "reasoning: The comment defends McGregor's actions in the fight, arguing that his movement was a smart tactic and not running away. It highlights McGregor's success in the fight, mentioning he dropped Nate multiple times. This suggests a positive sentiment towards McGregor's performance.\n",
            "label: positive\n"
          ]
        },
        {
          "output_type": "stream",
          "name": "stderr",
          "text": [
            "WARNING:tornado.access:429 POST /v1beta/models/gemini-2.0-flash:generateContent?%24alt=json%3Benum-encoding%3Dint (127.0.0.1) 582.96ms\n",
            "WARNING:tornado.access:429 POST /v1beta/models/gemini-2.0-flash:generateContent?%24alt=json%3Benum-encoding%3Dint (127.0.0.1) 583.64ms\n",
            "WARNING:tornado.access:429 POST /v1beta/models/gemini-2.0-flash:generateContent?%24alt=json%3Benum-encoding%3Dint (127.0.0.1) 557.05ms\n"
          ]
        },
        {
          "output_type": "stream",
          "name": "stdout",
          "text": [
            "reasoning: The comment expresses agreement with the preceding comment, which defends McGregor's performance in the second fight against Diaz and argues that Diaz didn't \"destroy\" or \"dominate\" McGregor. This implies a positive sentiment towards McGregor's chances in a potential third fight.\n",
            "label: positive\n"
          ]
        },
        {
          "output_type": "stream",
          "name": "stderr",
          "text": [
            "WARNING:tornado.access:429 POST /v1beta/models/gemini-2.0-flash:generateContent?%24alt=json%3Benum-encoding%3Dint (127.0.0.1) 581.73ms\n",
            "WARNING:tornado.access:429 POST /v1beta/models/gemini-2.0-flash:generateContent?%24alt=json%3Benum-encoding%3Dint (127.0.0.1) 581.70ms\n",
            "WARNING:tornado.access:429 POST /v1beta/models/gemini-2.0-flash:generateContent?%24alt=json%3Benum-encoding%3Dint (127.0.0.1) 582.87ms\n",
            "WARNING:tornado.access:429 POST /v1beta/models/gemini-2.0-flash:generateContent?%24alt=json%3Benum-encoding%3Dint (127.0.0.1) 583.30ms\n",
            "WARNING:tornado.access:429 POST /v1beta/models/gemini-2.0-flash:generateContent?%24alt=json%3Benum-encoding%3Dint (127.0.0.1) 583.25ms\n"
          ]
        },
        {
          "output_type": "stream",
          "name": "stdout",
          "text": [
            "reasoning: The comment expresses a strong opinion that Nate Diaz was unfairly treated (\"robbed\") and that he dominated Conor McGregor (\"smacked Conor up\"). It also provides a specific reason for why Diaz was dropped, suggesting a strategic choice rather than a sign of weakness. This indicates a negative sentiment towards the fight's outcome and a positive sentiment towards Diaz's performance.\n",
            "label: negative\n",
            "reasoning: The comment acknowledges the previous discussion about the fight and then states a fact about the fight. It doesn't express a strong positive or negative sentiment towards either fighter, but rather focuses on a specific event in the fight.\n",
            "label: neutral\n",
            "reasoning: The comment expresses a positive sentiment towards Nate Diaz's performance in the second fight, implying he was winning or doing well in that round.\n",
            "label: positive\n",
            "reasoning: The comment is arguing that McGregor was running away from Diaz out of fear, not strategy. This is a negative sentiment towards McGregor's performance in the fight.\n",
            "label: negative\n",
            "reasoning: The comment expresses a negative sentiment towards McGregor, suggesting he needs \"easy fights\" and questioning his claim of being the greatest fighter.\n",
            "label: negative\n",
            "reasoning: The comment is critical of McGregor's actions in the fight, specifically accusing him of running out of fear and lack of stamina. This is a negative sentiment towards McGregor's performance in the fight.\n",
            "label: negative\n",
            "reasoning: The comment is mocking the previous comment's argument that McGregor was \"creating distance\" rather than running away in fear. This implies a negative sentiment towards McGregor and a disagreement with the previous commenter's assessment of the fight.\n",
            "label: negative\n",
            "reasoning: The comment expresses a negative sentiment towards McGregor (\"McConor\") by stating that people always make excuses for him. This implies a critical view of McGregor and his fans.\n",
            "label: negative\n",
            "reasoning: The comment expresses confidence in Conor McGregor's victory in a potential fight against Nate Diaz at 155 pounds, suggesting that Diaz would not be able to withstand McGregor's attacks at that weight. This indicates a positive sentiment towards McGregor's chances in the fight.\n",
            "label: positive\n",
            "reasoning: The comment agrees with the parent comment that McGregor is not the greatest fighter, which is a negative sentiment towards McGregor. While it disagrees that Diaz is an easy fight, the overall sentiment leans negative towards McGregor's abilities.\n",
            "label: negative\n",
            "reasoning: The comment expresses a negative sentiment towards Conor McGregor's fighting ability, suggesting he needs easier fights because he can't handle tough opponents. This aligns with the negative sentiment expressed in the parent comment.\n",
            "label: negative\n",
            "reasoning: The comment defends McGregor's actions in the fight, arguing that his movement was strategic and not out of fear, ultimately contributing to his win. This leans towards a positive sentiment regarding McGregor's fighting ability and strategy.\n",
            "label: positive\n",
            "reasoning: The comment defends McGregor's ability to handle difficult fights, citing his victories against Aldo and Alvarez as evidence. It argues that McGregor has proven his mettle and is among the best fighters in the world, disagreeing with the previous comment's assertion that he can't handle hard fights. This indicates a positive sentiment towards McGregor's fighting abilities.\n",
            "label: positive\n",
            "reasoning: The comment expresses a negative sentiment towards McGregor's victory, suggesting it was not a legitimate win due to being \"saved by the bell.\" This implies a critical view of McGregor's performance in the fight.\n",
            "label: negative\n",
            "reasoning: The comment criticizes McGregor's current standing as a fighter, pointing out that his past achievements don't necessarily reflect his current abilities, especially considering his inactivity in UFC fights. This implies a negative sentiment towards McGregor's current fighting prowess.\n",
            "label: negative\n",
            "reasoning: The comment expresses a positive sentiment towards McGregor's performance in the fight, arguing that he was \"fucking Nate up for the rest of the fight\" and that creating distance was a strategic move, not out of fear.\n",
            "label: positive\n",
            "reasoning: The comment expresses a negative sentiment towards Conor McGregor's fighting style, accusing him of running away and being a coward. It also states that McGregor lost specific rounds, further reinforcing the negative view.\n",
            "label: negative\n",
            "reasoning: The comment discusses the weight class of the fighters and argues that the fights between McGregor and Diaz are at a natural weight for both of them. It expresses a belief about the fairness of the fights based on weight. The comment does not express a strong positive or negative sentiment towards the fight itself, but rather focuses on the context of the fighters' weights.\n",
            "label: neutral\n"
          ]
        },
        {
          "output_type": "stream",
          "name": "stderr",
          "text": [
            "WARNING:tornado.access:429 POST /v1beta/models/gemini-2.0-flash:generateContent?%24alt=json%3Benum-encoding%3Dint (127.0.0.1) 557.61ms\n",
            "WARNING:tornado.access:429 POST /v1beta/models/gemini-2.0-flash:generateContent?%24alt=json%3Benum-encoding%3Dint (127.0.0.1) 582.70ms\n",
            "WARNING:tornado.access:429 POST /v1beta/models/gemini-2.0-flash:generateContent?%24alt=json%3Benum-encoding%3Dint (127.0.0.1) 582.08ms\n",
            "WARNING:tornado.access:429 POST /v1beta/models/gemini-2.0-flash:generateContent?%24alt=json%3Benum-encoding%3Dint (127.0.0.1) 582.86ms\n",
            "WARNING:tornado.access:429 POST /v1beta/models/gemini-2.0-flash:generateContent?%24alt=json%3Benum-encoding%3Dint (127.0.0.1) 583.11ms\n",
            "WARNING:tornado.access:429 POST /v1beta/models/gemini-2.0-flash:generateContent?%24alt=json%3Benum-encoding%3Dint (127.0.0.1) 557.34ms\n",
            "WARNING:tornado.access:429 POST /v1beta/models/gemini-2.0-flash:generateContent?%24alt=json%3Benum-encoding%3Dint (127.0.0.1) 581.94ms\n"
          ]
        },
        {
          "output_type": "stream",
          "name": "stdout",
          "text": [
            "reasoning: The comment expresses a negative sentiment towards a potential fight between Silva and Conor, calling it a \"stupid matchup.\" It then suggests an alternative fight (Conor vs. Pettis) and a potential future fight (Conor vs. Tony) that it considers a \"true, great matchup.\" The comment is therefore negative towards the proposed fight in the submission.\n",
            "label: negative\n",
            "reasoning: The comment is discussing Nate Diaz's physique leading up to a fight, implying he might be in good shape for a potential McGregor fight. This suggests a positive outlook on Diaz's chances, and therefore, a more competitive and exciting fight.\n",
            "label: positive\n",
            "reasoning: The comment expresses concern about McGregor's future fights, particularly against Silva, and analyzes the potential Diaz fight. It acknowledges McGregor's past success but also points out his recent struggles and the fading of his \"mysticism.\" The overall sentiment is mixed, but leans towards a critical assessment of McGregor's current situation.\n",
            "label: neutral\n",
            "reasoning: The comment discusses the scoring of the McGregor vs. Diaz 2 fight, arguing that Nate Diaz clearly won rounds 3 and 5, and debatably won round 4. While acknowledging McGregor's dominance in the first two rounds, the commenter believes Diaz won the fight overall. The comment is critical of Conor fans' arguments and implies a disagreement with the official scoring.\n",
            "label: negative\n",
            "reasoning: The comment refers to a specific moment in the second fight between McGregor and Diaz, mentioning Goldberg's commentary. This suggests a neutral observation about the fight's progression.\n",
            "label: neutral\n",
            "reasoning: The comment discusses McGregor's strategy in the fight, comparing it to Gustaffson's strategy against Cormier. It argues that McGregor's actions were strategic rather than fear-driven, and that running to reset is different from running from the fight. The comment does not express a strong positive or negative sentiment towards either fighter, but rather analyzes the fight dynamics.\n",
            "label: neutral\n",
            "reasoning: The comment is sarcastic and critical of the previous comment's statement that Conor's win wasn't a victory. It implies that if someone wins, it is by definition a victory.\n",
            "label: negative\n",
            "reasoning: The comment discusses Nate's weight and potential fight plans, suggesting he might have been aiming for a 165lbs fight instead of 155lbs. This is a neutral observation about the fight dynamics and potential strategies.\n",
            "label: neutral\n",
            "reasoning: The comment expresses a positive sentiment towards Conor McGregor's performance in the fight, arguing that he clearly won the other three rounds and therefore achieved a victory according to judging criteria.\n",
            "label: positive\n",
            "reasoning: The comment suggests that while McGregor may have won the match, he lost the overall \"fight,\" implying a negative sentiment towards McGregor's performance or the circumstances of his victory.\n",
            "label: negative\n",
            "reasoning: The comment is strongly in favor of Conor McGregor and critical of Nate Diaz. It highlights McGregor's accomplishments after the Diaz fights and contrasts them with Diaz's inactivity and complaints. The comment concludes that McGregor won in every possible metric.\n",
            "label: positive\n",
            "reasoning: The comment expresses a negative sentiment towards Conor McGregor's performance against Nate Diaz, stating he \"lost so bad in every aspect.\" The attached image likely reinforces this negative view.\n",
            "label: negative\n",
            "reasoning: The comment expresses frustration and disagreement with the suggestion of Conor fighting Pettis. It questions Pettis's worthiness of the fight and highlights the unfair treatment of Tony Ferguson. The comment is negative towards the proposed matchup.\n",
            "label: negative\n",
            "reasoning: The comment analyzes the second fight between McGregor and Diaz, specifically round 2, arguing that McGregor won the round despite Nate's late surge. It criticizes using Goldberg's commentary as a valid argument and provides a detailed breakdown of the round's events, favoring McGregor's performance. The comment is focused on the fight and is arguing for McGregor's performance in the fight.\n",
            "label: positive\n",
            "reasoning: The comment asserts that Nate almost finished Conor at the end of round 2. This is a pro-Diaz statement, implying that Diaz was close to winning. Given the context of the discussion about the fight, this comment leans towards a positive sentiment for Diaz.\n",
            "label: positive\n",
            "reasoning: The comment is discussing the scoring of a round in the McGregor vs. Diaz fight, specifically arguing that Conor was winning due to knockdowns. The commenter is defending Conor's performance and the scoring of the fight, indicating a positive sentiment towards McGregor in that specific round.\n",
            "label: positive\n",
            "reasoning: The comment expresses a negative sentiment towards Conor McGregor and a positive sentiment towards Nate Diaz, arguing that Diaz was never close to being finished in their fights, while McGregor was. This is in the context of a discussion about a potential McGregor vs. Diaz 3 fight.\n",
            "label: negative\n",
            "reasoning: The comment is asking a question about a specific detail (IV hydrate ban) mentioned in the parent comment. It doesn't express any positive or negative sentiment towards the fight itself or the fighters involved.\n",
            "label: neutral\n",
            "reasoning: The comment acknowledges McGregor's influence on the sport and suggests embracing the situation, indicating a neutral stance towards the fight itself.\n",
            "label: neutral\n",
            "reasoning: The comment \"I do enjoy the circus\" is directly responding to the parent comment which states that Conor is \"just running a circus\". Therefore, the comment is positive towards the idea of Conor running a circus.\n",
            "label: positive\n",
            "reasoning: The comment expresses a positive sentiment towards McGregor's fighting abilities, stating he would \"smoke most of the lightweight division\" and \"destroy\" several specific fighters. While acknowledging Khabib and Tony as potential threats, the overall tone is supportive of McGregor's capabilities.\n",
            "label: positive\n",
            "reasoning: The comment expresses relief at not being alone in their opinion, which suggests agreement with the sentiment expressed in the parent comments. The parent comments express a negative sentiment towards McGregor's current situation. The comment also expresses frustration that Stipe didn't get a rematch, which is unrelated to the fight.\n",
            "label: negative\n"
          ]
        }
      ],
      "id": "juwd-TBsgyip"
    },
    {
      "cell_type": "code",
      "source": [
        "for id in sentiment_classified:\n",
        "  comments[\"llm_sentiment\"] = comments[\"id\"].map(sentiment_classified)"
      ],
      "metadata": {
        "id": "I_LvPG9UzOXX"
      },
      "id": "I_LvPG9UzOXX",
      "execution_count": 10,
      "outputs": []
    },
    {
      "cell_type": "code",
      "source": [
        "comments.to_json(\"comments_with_llm_sentiment.jsonl\", orient=\"records\", lines=True)"
      ],
      "metadata": {
        "id": "Q6k2lf7-BYZo"
      },
      "id": "Q6k2lf7-BYZo",
      "execution_count": 11,
      "outputs": []
    },
    {
      "cell_type": "code",
      "source": [
        "mixed = {id: sentiment for id, sentiment in sentiment_classified.items() if sentiment == \"mixed\"}"
      ],
      "metadata": {
        "id": "RLj7WqEjIj6l"
      },
      "id": "RLj7WqEjIj6l",
      "execution_count": 16,
      "outputs": []
    },
    {
      "cell_type": "code",
      "source": [
        "len(mixed)"
      ],
      "metadata": {
        "id": "O4P5biLGIsMe",
        "outputId": "f92f0ca3-5478-45f6-b101-b502771d8ce1",
        "colab": {
          "base_uri": "https://localhost:8080/"
        }
      },
      "id": "O4P5biLGIsMe",
      "execution_count": 17,
      "outputs": [
        {
          "output_type": "execute_result",
          "data": {
            "text/plain": [
              "3"
            ]
          },
          "metadata": {},
          "execution_count": 17
        }
      ]
    },
    {
      "cell_type": "code",
      "source": [
        "display(set(comments[\"llm_sentiment\"].tolist())) # somehow another sentiment was added"
      ],
      "metadata": {
        "id": "4Cl4W5lFIKLi",
        "outputId": "620608e4-3eb1-41a9-903a-8afb14e22ec7",
        "colab": {
          "base_uri": "https://localhost:8080/",
          "height": 34
        }
      },
      "id": "4Cl4W5lFIKLi",
      "execution_count": 15,
      "outputs": [
        {
          "output_type": "display_data",
          "data": {
            "text/plain": [
              "{'mixed', 'negative', 'neutral', 'positive'}"
            ]
          },
          "metadata": {}
        }
      ]
    }
  ],
  "metadata": {
    "kernelspec": {
      "display_name": "base",
      "language": "python",
      "name": "python3"
    },
    "language_info": {
      "codemirror_mode": {
        "name": "ipython",
        "version": 3
      },
      "file_extension": ".py",
      "mimetype": "text/x-python",
      "name": "python",
      "nbconvert_exporter": "python",
      "pygments_lexer": "ipython3",
      "version": "3.12.7"
    },
    "colab": {
      "provenance": [],
      "include_colab_link": true
    },
    "widgets": {
      "application/vnd.jupyter.widget-state+json": {
        "be8244cd8b7d4bd5b78cbad9f1121f44": {
          "model_module": "@jupyter-widgets/controls",
          "model_name": "HBoxModel",
          "model_module_version": "1.5.0",
          "state": {
            "_dom_classes": [],
            "_model_module": "@jupyter-widgets/controls",
            "_model_module_version": "1.5.0",
            "_model_name": "HBoxModel",
            "_view_count": null,
            "_view_module": "@jupyter-widgets/controls",
            "_view_module_version": "1.5.0",
            "_view_name": "HBoxView",
            "box_style": "",
            "children": [
              "IPY_MODEL_891bd551c1b74e759aaceea498a64174",
              "IPY_MODEL_a1c5d62ac1354870abfefdd9428850fe",
              "IPY_MODEL_e823bcc5ae3441249191467401de7ec5"
            ],
            "layout": "IPY_MODEL_3fc23cfc2b864426b3f63f19961aa615"
          }
        },
        "891bd551c1b74e759aaceea498a64174": {
          "model_module": "@jupyter-widgets/controls",
          "model_name": "HTMLModel",
          "model_module_version": "1.5.0",
          "state": {
            "_dom_classes": [],
            "_model_module": "@jupyter-widgets/controls",
            "_model_module_version": "1.5.0",
            "_model_name": "HTMLModel",
            "_view_count": null,
            "_view_module": "@jupyter-widgets/controls",
            "_view_module_version": "1.5.0",
            "_view_name": "HTMLView",
            "description": "",
            "description_tooltip": null,
            "layout": "IPY_MODEL_2bb84005ad7e4d09a30d7d72321493c1",
            "placeholder": "​",
            "style": "IPY_MODEL_64b499d2a1da404786e5af4947d1ccbb",
            "value": "Classifying comments: 100%"
          }
        },
        "a1c5d62ac1354870abfefdd9428850fe": {
          "model_module": "@jupyter-widgets/controls",
          "model_name": "FloatProgressModel",
          "model_module_version": "1.5.0",
          "state": {
            "_dom_classes": [],
            "_model_module": "@jupyter-widgets/controls",
            "_model_module_version": "1.5.0",
            "_model_name": "FloatProgressModel",
            "_view_count": null,
            "_view_module": "@jupyter-widgets/controls",
            "_view_module_version": "1.5.0",
            "_view_name": "ProgressView",
            "bar_style": "success",
            "description": "",
            "description_tooltip": null,
            "layout": "IPY_MODEL_6246a67903554f0baadf69e828d2991a",
            "max": 1431,
            "min": 0,
            "orientation": "horizontal",
            "style": "IPY_MODEL_61a5b958dcf64e90aa8389e3fcdfa9f3",
            "value": 1431
          }
        },
        "e823bcc5ae3441249191467401de7ec5": {
          "model_module": "@jupyter-widgets/controls",
          "model_name": "HTMLModel",
          "model_module_version": "1.5.0",
          "state": {
            "_dom_classes": [],
            "_model_module": "@jupyter-widgets/controls",
            "_model_module_version": "1.5.0",
            "_model_name": "HTMLModel",
            "_view_count": null,
            "_view_module": "@jupyter-widgets/controls",
            "_view_module_version": "1.5.0",
            "_view_name": "HTMLView",
            "description": "",
            "description_tooltip": null,
            "layout": "IPY_MODEL_83844cd2326f44a3bb1016fef37fe204",
            "placeholder": "​",
            "style": "IPY_MODEL_15eb692f6afe4fdb9d94a3d7992c1614",
            "value": " 1431/1431 [1:30:15&lt;00:00,  1.22s/it]"
          }
        },
        "3fc23cfc2b864426b3f63f19961aa615": {
          "model_module": "@jupyter-widgets/base",
          "model_name": "LayoutModel",
          "model_module_version": "1.2.0",
          "state": {
            "_model_module": "@jupyter-widgets/base",
            "_model_module_version": "1.2.0",
            "_model_name": "LayoutModel",
            "_view_count": null,
            "_view_module": "@jupyter-widgets/base",
            "_view_module_version": "1.2.0",
            "_view_name": "LayoutView",
            "align_content": null,
            "align_items": null,
            "align_self": null,
            "border": null,
            "bottom": null,
            "display": null,
            "flex": null,
            "flex_flow": null,
            "grid_area": null,
            "grid_auto_columns": null,
            "grid_auto_flow": null,
            "grid_auto_rows": null,
            "grid_column": null,
            "grid_gap": null,
            "grid_row": null,
            "grid_template_areas": null,
            "grid_template_columns": null,
            "grid_template_rows": null,
            "height": null,
            "justify_content": null,
            "justify_items": null,
            "left": null,
            "margin": null,
            "max_height": null,
            "max_width": null,
            "min_height": null,
            "min_width": null,
            "object_fit": null,
            "object_position": null,
            "order": null,
            "overflow": null,
            "overflow_x": null,
            "overflow_y": null,
            "padding": null,
            "right": null,
            "top": null,
            "visibility": null,
            "width": null
          }
        },
        "2bb84005ad7e4d09a30d7d72321493c1": {
          "model_module": "@jupyter-widgets/base",
          "model_name": "LayoutModel",
          "model_module_version": "1.2.0",
          "state": {
            "_model_module": "@jupyter-widgets/base",
            "_model_module_version": "1.2.0",
            "_model_name": "LayoutModel",
            "_view_count": null,
            "_view_module": "@jupyter-widgets/base",
            "_view_module_version": "1.2.0",
            "_view_name": "LayoutView",
            "align_content": null,
            "align_items": null,
            "align_self": null,
            "border": null,
            "bottom": null,
            "display": null,
            "flex": null,
            "flex_flow": null,
            "grid_area": null,
            "grid_auto_columns": null,
            "grid_auto_flow": null,
            "grid_auto_rows": null,
            "grid_column": null,
            "grid_gap": null,
            "grid_row": null,
            "grid_template_areas": null,
            "grid_template_columns": null,
            "grid_template_rows": null,
            "height": null,
            "justify_content": null,
            "justify_items": null,
            "left": null,
            "margin": null,
            "max_height": null,
            "max_width": null,
            "min_height": null,
            "min_width": null,
            "object_fit": null,
            "object_position": null,
            "order": null,
            "overflow": null,
            "overflow_x": null,
            "overflow_y": null,
            "padding": null,
            "right": null,
            "top": null,
            "visibility": null,
            "width": null
          }
        },
        "64b499d2a1da404786e5af4947d1ccbb": {
          "model_module": "@jupyter-widgets/controls",
          "model_name": "DescriptionStyleModel",
          "model_module_version": "1.5.0",
          "state": {
            "_model_module": "@jupyter-widgets/controls",
            "_model_module_version": "1.5.0",
            "_model_name": "DescriptionStyleModel",
            "_view_count": null,
            "_view_module": "@jupyter-widgets/base",
            "_view_module_version": "1.2.0",
            "_view_name": "StyleView",
            "description_width": ""
          }
        },
        "6246a67903554f0baadf69e828d2991a": {
          "model_module": "@jupyter-widgets/base",
          "model_name": "LayoutModel",
          "model_module_version": "1.2.0",
          "state": {
            "_model_module": "@jupyter-widgets/base",
            "_model_module_version": "1.2.0",
            "_model_name": "LayoutModel",
            "_view_count": null,
            "_view_module": "@jupyter-widgets/base",
            "_view_module_version": "1.2.0",
            "_view_name": "LayoutView",
            "align_content": null,
            "align_items": null,
            "align_self": null,
            "border": null,
            "bottom": null,
            "display": null,
            "flex": null,
            "flex_flow": null,
            "grid_area": null,
            "grid_auto_columns": null,
            "grid_auto_flow": null,
            "grid_auto_rows": null,
            "grid_column": null,
            "grid_gap": null,
            "grid_row": null,
            "grid_template_areas": null,
            "grid_template_columns": null,
            "grid_template_rows": null,
            "height": null,
            "justify_content": null,
            "justify_items": null,
            "left": null,
            "margin": null,
            "max_height": null,
            "max_width": null,
            "min_height": null,
            "min_width": null,
            "object_fit": null,
            "object_position": null,
            "order": null,
            "overflow": null,
            "overflow_x": null,
            "overflow_y": null,
            "padding": null,
            "right": null,
            "top": null,
            "visibility": null,
            "width": null
          }
        },
        "61a5b958dcf64e90aa8389e3fcdfa9f3": {
          "model_module": "@jupyter-widgets/controls",
          "model_name": "ProgressStyleModel",
          "model_module_version": "1.5.0",
          "state": {
            "_model_module": "@jupyter-widgets/controls",
            "_model_module_version": "1.5.0",
            "_model_name": "ProgressStyleModel",
            "_view_count": null,
            "_view_module": "@jupyter-widgets/base",
            "_view_module_version": "1.2.0",
            "_view_name": "StyleView",
            "bar_color": null,
            "description_width": ""
          }
        },
        "83844cd2326f44a3bb1016fef37fe204": {
          "model_module": "@jupyter-widgets/base",
          "model_name": "LayoutModel",
          "model_module_version": "1.2.0",
          "state": {
            "_model_module": "@jupyter-widgets/base",
            "_model_module_version": "1.2.0",
            "_model_name": "LayoutModel",
            "_view_count": null,
            "_view_module": "@jupyter-widgets/base",
            "_view_module_version": "1.2.0",
            "_view_name": "LayoutView",
            "align_content": null,
            "align_items": null,
            "align_self": null,
            "border": null,
            "bottom": null,
            "display": null,
            "flex": null,
            "flex_flow": null,
            "grid_area": null,
            "grid_auto_columns": null,
            "grid_auto_flow": null,
            "grid_auto_rows": null,
            "grid_column": null,
            "grid_gap": null,
            "grid_row": null,
            "grid_template_areas": null,
            "grid_template_columns": null,
            "grid_template_rows": null,
            "height": null,
            "justify_content": null,
            "justify_items": null,
            "left": null,
            "margin": null,
            "max_height": null,
            "max_width": null,
            "min_height": null,
            "min_width": null,
            "object_fit": null,
            "object_position": null,
            "order": null,
            "overflow": null,
            "overflow_x": null,
            "overflow_y": null,
            "padding": null,
            "right": null,
            "top": null,
            "visibility": null,
            "width": null
          }
        },
        "15eb692f6afe4fdb9d94a3d7992c1614": {
          "model_module": "@jupyter-widgets/controls",
          "model_name": "DescriptionStyleModel",
          "model_module_version": "1.5.0",
          "state": {
            "_model_module": "@jupyter-widgets/controls",
            "_model_module_version": "1.5.0",
            "_model_name": "DescriptionStyleModel",
            "_view_count": null,
            "_view_module": "@jupyter-widgets/base",
            "_view_module_version": "1.2.0",
            "_view_name": "StyleView",
            "description_width": ""
          }
        }
      }
    }
  },
  "nbformat": 4,
  "nbformat_minor": 5
}