{
  "cells": [
    {
      "cell_type": "markdown",
      "metadata": {
        "id": "view-in-github",
        "colab_type": "text"
      },
      "source": [
        "<a href=\"https://colab.research.google.com/github/barnabyashford/llm-powered-social-listener/blob/main/JSONLreader.ipynb\" target=\"_parent\"><img src=\"https://colab.research.google.com/assets/colab-badge.svg\" alt=\"Open In Colab\"/></a>"
      ]
    },
    {
      "cell_type": "markdown",
      "id": "8d326e70",
      "metadata": {
        "id": "8d326e70"
      },
      "source": [
        "# **LLM Project: Test data creation pipeline**"
      ]
    },
    {
      "cell_type": "code",
      "execution_count": 3,
      "id": "4dbb8363",
      "metadata": {
        "id": "4dbb8363",
        "outputId": "c8a243bd-d396-4cf7-e8f1-5d3d31a47dc0",
        "colab": {
          "base_uri": "https://localhost:8080/"
        }
      },
      "outputs": [
        {
          "output_type": "stream",
          "name": "stdout",
          "text": [
            "Requirement already satisfied: tqdm in /usr/local/lib/python3.11/dist-packages (4.67.1)\n",
            "Collecting gtts\n",
            "  Downloading gTTS-2.5.4-py3-none-any.whl.metadata (4.1 kB)\n",
            "Collecting playsound\n",
            "  Downloading playsound-1.3.0.tar.gz (7.7 kB)\n",
            "  Preparing metadata (setup.py) ... \u001b[?25l\u001b[?25hdone\n",
            "Requirement already satisfied: requests<3,>=2.27 in /usr/local/lib/python3.11/dist-packages (from gtts) (2.32.3)\n",
            "Requirement already satisfied: click<8.2,>=7.1 in /usr/local/lib/python3.11/dist-packages (from gtts) (8.1.8)\n",
            "Requirement already satisfied: charset-normalizer<4,>=2 in /usr/local/lib/python3.11/dist-packages (from requests<3,>=2.27->gtts) (3.4.1)\n",
            "Requirement already satisfied: idna<4,>=2.5 in /usr/local/lib/python3.11/dist-packages (from requests<3,>=2.27->gtts) (3.10)\n",
            "Requirement already satisfied: urllib3<3,>=1.21.1 in /usr/local/lib/python3.11/dist-packages (from requests<3,>=2.27->gtts) (2.3.0)\n",
            "Requirement already satisfied: certifi>=2017.4.17 in /usr/local/lib/python3.11/dist-packages (from requests<3,>=2.27->gtts) (2025.1.31)\n",
            "Downloading gTTS-2.5.4-py3-none-any.whl (29 kB)\n",
            "Building wheels for collected packages: playsound\n",
            "  Building wheel for playsound (setup.py) ... \u001b[?25l\u001b[?25hdone\n",
            "  Created wheel for playsound: filename=playsound-1.3.0-py3-none-any.whl size=7020 sha256=d80c9d1dfc4ccacc6b8f344032f8f8da044b7f6a4d08a97e7fe5b65d8e2436d2\n",
            "  Stored in directory: /root/.cache/pip/wheels/50/98/42/62753a9e1fb97579a0ce2f84f7db4c21c09d03bb2091e6cef4\n",
            "Successfully built playsound\n",
            "Installing collected packages: playsound, gtts\n",
            "Successfully installed gtts-2.5.4 playsound-1.3.0\n"
          ]
        }
      ],
      "source": [
        "%pip install tqdm gtts playsound"
      ]
    },
    {
      "cell_type": "code",
      "execution_count": 4,
      "id": "08102689",
      "metadata": {
        "id": "08102689",
        "outputId": "2e40690e-f127-4e9e-a722-61c3ae896a8f",
        "colab": {
          "base_uri": "https://localhost:8080/"
        }
      },
      "outputs": [
        {
          "output_type": "stream",
          "name": "stderr",
          "text": [
            "WARNING:playsound:playsound is relying on another python subprocess. Please use `pip install pygobject` if you want playsound to run more efficiently.\n"
          ]
        }
      ],
      "source": [
        "import json\n",
        "from gtts import gTTS\n",
        "from playsound import playsound\n",
        "from itertools import islice\n",
        "import os\n",
        "from datetime import datetime\n",
        "import pytz\n",
        "import pandas as pd\n",
        "import re\n",
        "from tqdm.notebook import tqdm\n",
        "import pprint"
      ]
    },
    {
      "cell_type": "code",
      "execution_count": null,
      "id": "c8201da8",
      "metadata": {
        "id": "c8201da8"
      },
      "outputs": [],
      "source": [
        "submission_path = r\"C:\\Users\\growt\\Downloads\\reddit\\submissions\\RS_2018-10\" # submissions\n",
        "comment_path = r\"C:\\Users\\growt\\Downloads\\reddit\\comments\\RC_2018-10\" # comments\n",
        "\n",
        "save_dir = r\"C:\\Users\\growt\\OneDrive\\เดสก์ท็อป\\UFCLESGOO\""
      ]
    },
    {
      "cell_type": "code",
      "execution_count": null,
      "id": "cf929644",
      "metadata": {
        "id": "cf929644"
      },
      "outputs": [],
      "source": [
        "def play_finish_sound():\n",
        "  finished = gTTS(text=\"kansei itashimashita\", lang=\"ja\", slow=False)\n",
        "  finished.save(\"finished.mp3\")\n",
        "  playsound(\"finished.mp3\")\n",
        "  os.remove(\"finished.mp3\")"
      ]
    },
    {
      "cell_type": "markdown",
      "id": "8c471889",
      "metadata": {
        "id": "8c471889"
      },
      "source": [
        "## **Submission filtering**\n",
        "\n",
        "Here we filter all submissions from `r/ufc` in the month of October 2018 for submissions mentioning Khabib and Conor McGregor using simple keyword search. As we need opinion of people ***after*** the match, we also need to filter, not only on submission text `selftext`, but also `created_utc` as well."
      ]
    },
    {
      "cell_type": "code",
      "execution_count": null,
      "id": "773cd6f1",
      "metadata": {
        "id": "773cd6f1",
        "outputId": "c9f544be-5c04-4030-8b0a-4f97709ba5d6"
      },
      "outputs": [
        {
          "name": "stdout",
          "output_type": "stream",
          "text": [
            "Target timestamp: 1538886600.0 : 2018-10-07 04:30:00+00:00\n"
          ]
        }
      ],
      "source": [
        "save_filename = \"ufc_submissions.jsonl\"\n",
        "\n",
        "target_datetime_utc = datetime(2018, 10, 7, 4, 30, 0, tzinfo=pytz.utc) # 2018-10-07 04:30:00 UTC, the end of the UFC 229 fight\n",
        "target_timestamp = target_datetime_utc.timestamp()\n",
        "\n",
        "print(f\"Target timestamp: {target_timestamp} : {target_datetime_utc}\")\n",
        "\n",
        "after_target_datetime_count = 0"
      ]
    },
    {
      "cell_type": "code",
      "execution_count": null,
      "id": "4cea5813",
      "metadata": {
        "id": "4cea5813",
        "outputId": "004ed592-9691-4ea5-dd34-828e3215bca4"
      },
      "outputs": [
        {
          "name": "stderr",
          "output_type": "stream",
          "text": [
            "Processing submissions: 2781129it [01:09, 38556.28it/s]"
          ]
        },
        {
          "name": "stdout",
          "output_type": "stream",
          "text": [
            "found ufc submission about khabib vs conor match\n",
            "found ufc submission about khabib vs conor match\n",
            "found ufc submission about khabib vs conor match\n",
            "found ufc submission about khabib vs conor match\n",
            "found ufc submission about khabib vs conor match\n",
            "found ufc submission about khabib vs conor match\n",
            "found ufc submission about khabib vs conor match\n",
            "found ufc submission about khabib vs conor match\n",
            "found ufc submission about khabib vs conor match\n",
            "found ufc submission about khabib vs conor match\n",
            "found ufc submission about khabib vs conor match\n",
            "found ufc submission about khabib vs conor match\n",
            "found ufc submission about khabib vs conor match\n",
            "found ufc submission about khabib vs conor match\n",
            "found ufc submission about khabib vs conor match\n",
            "found ufc submission about khabib vs conor match\n",
            "found ufc submission about khabib vs conor match\n",
            "found ufc submission about khabib vs conor match\n",
            "found ufc submission about khabib vs conor match\n",
            "found ufc submission about khabib vs conor match\n",
            "found ufc submission about khabib vs conor match\n",
            "found ufc submission about khabib vs conor match\n",
            "found ufc submission about khabib vs conor match\n",
            "found ufc submission about khabib vs conor match\n",
            "found ufc submission about khabib vs conor match\n",
            "found ufc submission about khabib vs conor match\n"
          ]
        },
        {
          "name": "stderr",
          "output_type": "stream",
          "text": [
            "Processing submissions: 2788914it [01:10, 38106.61it/s]"
          ]
        },
        {
          "name": "stdout",
          "output_type": "stream",
          "text": [
            "found ufc submission about khabib vs conor match\n",
            "found ufc submission about khabib vs conor match\n",
            "found ufc submission about khabib vs conor match\n",
            "found ufc submission about khabib vs conor match\n",
            "found ufc submission about khabib vs conor match\n",
            "found ufc submission about khabib vs conor match\n",
            "found ufc submission about khabib vs conor match\n",
            "found ufc submission about khabib vs conor match\n",
            "found ufc submission about khabib vs conor match\n",
            "found ufc submission about khabib vs conor match\n",
            "found ufc submission about khabib vs conor match\n",
            "found ufc submission about khabib vs conor match\n",
            "found ufc submission about khabib vs conor match\n",
            "found ufc submission about khabib vs conor match\n",
            "found ufc submission about khabib vs conor match\n",
            "found ufc submission about khabib vs conor match\n",
            "found ufc submission about khabib vs conor match\n",
            "found ufc submission about khabib vs conor match\n"
          ]
        },
        {
          "name": "stderr",
          "output_type": "stream",
          "text": [
            "Processing submissions: 2796715it [01:10, 38391.83it/s]"
          ]
        },
        {
          "name": "stdout",
          "output_type": "stream",
          "text": [
            "found ufc submission about khabib vs conor match\n",
            "found ufc submission about khabib vs conor match\n",
            "found ufc submission about khabib vs conor match\n"
          ]
        },
        {
          "name": "stderr",
          "output_type": "stream",
          "text": [
            "Processing submissions: 2808459it [01:10, 36928.62it/s]"
          ]
        },
        {
          "name": "stdout",
          "output_type": "stream",
          "text": [
            "found ufc submission about khabib vs conor match\n",
            "found ufc submission about khabib vs conor match\n",
            "found ufc submission about khabib vs conor match\n",
            "found ufc submission about khabib vs conor match\n"
          ]
        },
        {
          "name": "stderr",
          "output_type": "stream",
          "text": [
            "Processing submissions: 2820301it [01:10, 38399.15it/s]"
          ]
        },
        {
          "name": "stdout",
          "output_type": "stream",
          "text": [
            "found ufc submission about khabib vs conor match\n",
            "found ufc submission about khabib vs conor match\n",
            "found ufc submission about khabib vs conor match\n",
            "found ufc submission about khabib vs conor match\n",
            "found ufc submission about khabib vs conor match\n"
          ]
        },
        {
          "name": "stderr",
          "output_type": "stream",
          "text": [
            "Processing submissions: 2828192it [01:11, 38828.00it/s]"
          ]
        },
        {
          "name": "stdout",
          "output_type": "stream",
          "text": [
            "found ufc submission about khabib vs conor match\n",
            "found ufc submission about khabib vs conor match\n"
          ]
        },
        {
          "name": "stderr",
          "output_type": "stream",
          "text": [
            "Processing submissions: 2840052it [01:11, 39233.21it/s]"
          ]
        },
        {
          "name": "stdout",
          "output_type": "stream",
          "text": [
            "found ufc submission about khabib vs conor match\n",
            "found ufc submission about khabib vs conor match\n",
            "found ufc submission about khabib vs conor match\n",
            "found ufc submission about khabib vs conor match\n"
          ]
        },
        {
          "name": "stderr",
          "output_type": "stream",
          "text": [
            "Processing submissions: 2847874it [01:11, 38770.27it/s]"
          ]
        },
        {
          "name": "stdout",
          "output_type": "stream",
          "text": [
            "found ufc submission about khabib vs conor match\n",
            "found ufc submission about khabib vs conor match\n",
            "found ufc submission about khabib vs conor match\n"
          ]
        },
        {
          "name": "stderr",
          "output_type": "stream",
          "text": [
            "Processing submissions: 2859509it [01:11, 38429.75it/s]"
          ]
        },
        {
          "name": "stdout",
          "output_type": "stream",
          "text": [
            "found ufc submission about khabib vs conor match\n",
            "found ufc submission about khabib vs conor match\n",
            "found ufc submission about khabib vs conor match\n",
            "found ufc submission about khabib vs conor match\n"
          ]
        },
        {
          "name": "stderr",
          "output_type": "stream",
          "text": [
            "Processing submissions: 2870988it [01:12, 38017.79it/s]"
          ]
        },
        {
          "name": "stdout",
          "output_type": "stream",
          "text": [
            "found ufc submission about khabib vs conor match\n",
            "found ufc submission about khabib vs conor match\n"
          ]
        },
        {
          "name": "stderr",
          "output_type": "stream",
          "text": [
            "Processing submissions: 2886769it [01:12, 39107.32it/s]"
          ]
        },
        {
          "name": "stdout",
          "output_type": "stream",
          "text": [
            "found ufc submission about khabib vs conor match\n",
            "found ufc submission about khabib vs conor match\n"
          ]
        },
        {
          "name": "stderr",
          "output_type": "stream",
          "text": [
            "Processing submissions: 2894618it [01:12, 39112.97it/s]"
          ]
        },
        {
          "name": "stdout",
          "output_type": "stream",
          "text": [
            "found ufc submission about khabib vs conor match\n",
            "found ufc submission about khabib vs conor match\n"
          ]
        },
        {
          "name": "stderr",
          "output_type": "stream",
          "text": [
            "Processing submissions: 2914250it [01:13, 38488.53it/s]"
          ]
        },
        {
          "name": "stdout",
          "output_type": "stream",
          "text": [
            "found ufc submission about khabib vs conor match\n",
            "found ufc submission about khabib vs conor match\n"
          ]
        },
        {
          "name": "stderr",
          "output_type": "stream",
          "text": [
            "Processing submissions: 2926027it [01:13, 38476.94it/s]"
          ]
        },
        {
          "name": "stdout",
          "output_type": "stream",
          "text": [
            "found ufc submission about khabib vs conor match\n",
            "found ufc submission about khabib vs conor match\n",
            "found ufc submission about khabib vs conor match\n",
            "found ufc submission about khabib vs conor match\n"
          ]
        },
        {
          "name": "stderr",
          "output_type": "stream",
          "text": [
            "Processing submissions: 2945757it [01:14, 38740.55it/s]"
          ]
        },
        {
          "name": "stdout",
          "output_type": "stream",
          "text": [
            "found ufc submission about khabib vs conor match\n",
            "found ufc submission about khabib vs conor match\n",
            "found ufc submission about khabib vs conor match\n",
            "found ufc submission about khabib vs conor match\n",
            "found ufc submission about khabib vs conor match\n"
          ]
        },
        {
          "name": "stderr",
          "output_type": "stream",
          "text": [
            "Processing submissions: 2957287it [01:14, 38044.19it/s]"
          ]
        },
        {
          "name": "stdout",
          "output_type": "stream",
          "text": [
            "found ufc submission about khabib vs conor match\n",
            "found ufc submission about khabib vs conor match\n",
            "found ufc submission about khabib vs conor match\n"
          ]
        },
        {
          "name": "stderr",
          "output_type": "stream",
          "text": [
            "Processing submissions: 2968730it [01:14, 38017.89it/s]"
          ]
        },
        {
          "name": "stdout",
          "output_type": "stream",
          "text": [
            "found ufc submission about khabib vs conor match\n",
            "found ufc submission about khabib vs conor match\n"
          ]
        },
        {
          "name": "stderr",
          "output_type": "stream",
          "text": [
            "Processing submissions: 2980273it [01:15, 37952.77it/s]"
          ]
        },
        {
          "name": "stdout",
          "output_type": "stream",
          "text": [
            "found ufc submission about khabib vs conor match\n",
            "found ufc submission about khabib vs conor match\n"
          ]
        },
        {
          "name": "stderr",
          "output_type": "stream",
          "text": [
            "Processing submissions: 2987954it [01:15, 38038.06it/s]"
          ]
        },
        {
          "name": "stdout",
          "output_type": "stream",
          "text": [
            "found ufc submission about khabib vs conor match\n"
          ]
        },
        {
          "name": "stderr",
          "output_type": "stream",
          "text": [
            "Processing submissions: 2999580it [01:15, 38577.12it/s]"
          ]
        },
        {
          "name": "stdout",
          "output_type": "stream",
          "text": [
            "found ufc submission about khabib vs conor match\n",
            "found ufc submission about khabib vs conor match\n",
            "found ufc submission about khabib vs conor match\n"
          ]
        },
        {
          "name": "stderr",
          "output_type": "stream",
          "text": [
            "Processing submissions: 3018698it [01:16, 37216.27it/s]"
          ]
        },
        {
          "name": "stdout",
          "output_type": "stream",
          "text": [
            "found ufc submission about khabib vs conor match\n"
          ]
        },
        {
          "name": "stderr",
          "output_type": "stream",
          "text": [
            "Processing submissions: 3033737it [01:16, 37431.50it/s]"
          ]
        },
        {
          "name": "stdout",
          "output_type": "stream",
          "text": [
            "found ufc submission about khabib vs conor match\n",
            "found ufc submission about khabib vs conor match\n"
          ]
        },
        {
          "name": "stderr",
          "output_type": "stream",
          "text": [
            "Processing submissions: 3041384it [01:16, 37492.44it/s]"
          ]
        },
        {
          "name": "stdout",
          "output_type": "stream",
          "text": [
            "found ufc submission about khabib vs conor match\n",
            "found ufc submission about khabib vs conor match\n"
          ]
        },
        {
          "name": "stderr",
          "output_type": "stream",
          "text": [
            "Processing submissions: 3064413it [01:17, 38199.83it/s]"
          ]
        },
        {
          "name": "stdout",
          "output_type": "stream",
          "text": [
            "found ufc submission about khabib vs conor match\n"
          ]
        },
        {
          "name": "stderr",
          "output_type": "stream",
          "text": [
            "Processing submissions: 3083769it [01:17, 37258.22it/s]"
          ]
        },
        {
          "name": "stdout",
          "output_type": "stream",
          "text": [
            "found ufc submission about khabib vs conor match\n",
            "found ufc submission about khabib vs conor match\n",
            "found ufc submission about khabib vs conor match\n"
          ]
        },
        {
          "name": "stderr",
          "output_type": "stream",
          "text": [
            "Processing submissions: 3091700it [01:18, 38389.16it/s]"
          ]
        },
        {
          "name": "stdout",
          "output_type": "stream",
          "text": [
            "found ufc submission about khabib vs conor match\n",
            "found ufc submission about khabib vs conor match\n"
          ]
        },
        {
          "name": "stderr",
          "output_type": "stream",
          "text": [
            "Processing submissions: 3111587it [01:18, 39469.12it/s]"
          ]
        },
        {
          "name": "stdout",
          "output_type": "stream",
          "text": [
            "found ufc submission about khabib vs conor match\n",
            "found ufc submission about khabib vs conor match\n",
            "found ufc submission about khabib vs conor match\n"
          ]
        },
        {
          "name": "stderr",
          "output_type": "stream",
          "text": [
            "Processing submissions: 3135566it [01:19, 39949.27it/s]"
          ]
        },
        {
          "name": "stdout",
          "output_type": "stream",
          "text": [
            "found ufc submission about khabib vs conor match\n"
          ]
        },
        {
          "name": "stderr",
          "output_type": "stream",
          "text": [
            "Processing submissions: 3143653it [01:19, 40053.06it/s]"
          ]
        },
        {
          "name": "stdout",
          "output_type": "stream",
          "text": [
            "found ufc submission about khabib vs conor match\n"
          ]
        },
        {
          "name": "stderr",
          "output_type": "stream",
          "text": [
            "Processing submissions: 3163280it [01:19, 37679.43it/s]"
          ]
        },
        {
          "name": "stdout",
          "output_type": "stream",
          "text": [
            "found ufc submission about khabib vs conor match\n"
          ]
        },
        {
          "name": "stderr",
          "output_type": "stream",
          "text": [
            "Processing submissions: 3182727it [01:20, 38704.03it/s]"
          ]
        },
        {
          "name": "stdout",
          "output_type": "stream",
          "text": [
            "found ufc submission about khabib vs conor match\n",
            "found ufc submission about khabib vs conor match\n"
          ]
        },
        {
          "name": "stderr",
          "output_type": "stream",
          "text": [
            "Processing submissions: 3190523it [01:20, 37261.19it/s]"
          ]
        },
        {
          "name": "stdout",
          "output_type": "stream",
          "text": [
            "found ufc submission about khabib vs conor match\n"
          ]
        },
        {
          "name": "stderr",
          "output_type": "stream",
          "text": [
            "Processing submissions: 3198180it [01:20, 34461.55it/s]"
          ]
        },
        {
          "name": "stdout",
          "output_type": "stream",
          "text": [
            "found ufc submission about khabib vs conor match\n"
          ]
        },
        {
          "name": "stderr",
          "output_type": "stream",
          "text": [
            "Processing submissions: 3218250it [01:21, 39024.50it/s]"
          ]
        },
        {
          "name": "stdout",
          "output_type": "stream",
          "text": [
            "found ufc submission about khabib vs conor match\n"
          ]
        },
        {
          "name": "stderr",
          "output_type": "stream",
          "text": [
            "Processing submissions: 3230070it [01:21, 39001.69it/s]"
          ]
        },
        {
          "name": "stdout",
          "output_type": "stream",
          "text": [
            "found ufc submission about khabib vs conor match\n"
          ]
        },
        {
          "name": "stderr",
          "output_type": "stream",
          "text": [
            "Processing submissions: 3241754it [01:21, 38129.92it/s]"
          ]
        },
        {
          "name": "stdout",
          "output_type": "stream",
          "text": [
            "found ufc submission about khabib vs conor match\n",
            "found ufc submission about khabib vs conor match\n"
          ]
        },
        {
          "name": "stderr",
          "output_type": "stream",
          "text": [
            "Processing submissions: 3249406it [01:22, 35579.88it/s]"
          ]
        },
        {
          "name": "stdout",
          "output_type": "stream",
          "text": [
            "found ufc submission about khabib vs conor match\n"
          ]
        },
        {
          "name": "stderr",
          "output_type": "stream",
          "text": [
            "Processing submissions: 3264567it [01:22, 37456.90it/s]"
          ]
        },
        {
          "name": "stdout",
          "output_type": "stream",
          "text": [
            "found ufc submission about khabib vs conor match\n",
            "found ufc submission about khabib vs conor match\n"
          ]
        },
        {
          "name": "stderr",
          "output_type": "stream",
          "text": [
            "Processing submissions: 3295059it [01:23, 37548.08it/s]"
          ]
        },
        {
          "name": "stdout",
          "output_type": "stream",
          "text": [
            "found ufc submission about khabib vs conor match\n"
          ]
        },
        {
          "name": "stderr",
          "output_type": "stream",
          "text": [
            "Processing submissions: 3328615it [01:24, 36375.97it/s]"
          ]
        },
        {
          "name": "stdout",
          "output_type": "stream",
          "text": [
            "found ufc submission about khabib vs conor match\n",
            "found ufc submission about khabib vs conor match\n"
          ]
        },
        {
          "name": "stderr",
          "output_type": "stream",
          "text": [
            "Processing submissions: 3343460it [01:24, 36699.45it/s]"
          ]
        },
        {
          "name": "stdout",
          "output_type": "stream",
          "text": [
            "found ufc submission about khabib vs conor match\n"
          ]
        },
        {
          "name": "stderr",
          "output_type": "stream",
          "text": [
            "Processing submissions: 3350781it [01:24, 36380.50it/s]"
          ]
        },
        {
          "name": "stdout",
          "output_type": "stream",
          "text": [
            "found ufc submission about khabib vs conor match\n"
          ]
        },
        {
          "name": "stderr",
          "output_type": "stream",
          "text": [
            "Processing submissions: 3358070it [01:25, 36311.97it/s]"
          ]
        },
        {
          "name": "stdout",
          "output_type": "stream",
          "text": [
            "found ufc submission about khabib vs conor match\n"
          ]
        },
        {
          "name": "stderr",
          "output_type": "stream",
          "text": [
            "Processing submissions: 3369530it [01:25, 37458.50it/s]"
          ]
        },
        {
          "name": "stdout",
          "output_type": "stream",
          "text": [
            "found ufc submission about khabib vs conor match\n",
            "found ufc submission about khabib vs conor match\n"
          ]
        },
        {
          "name": "stderr",
          "output_type": "stream",
          "text": [
            "Processing submissions: 3419723it [01:26, 38104.65it/s]"
          ]
        },
        {
          "name": "stdout",
          "output_type": "stream",
          "text": [
            "found ufc submission about khabib vs conor match\n",
            "found ufc submission about khabib vs conor match\n",
            "found ufc submission about khabib vs conor match\n"
          ]
        },
        {
          "name": "stderr",
          "output_type": "stream",
          "text": [
            "Processing submissions: 3431311it [01:27, 38472.01it/s]"
          ]
        },
        {
          "name": "stdout",
          "output_type": "stream",
          "text": [
            "found ufc submission about khabib vs conor match\n"
          ]
        },
        {
          "name": "stderr",
          "output_type": "stream",
          "text": [
            "Processing submissions: 3446725it [01:27, 36561.21it/s]"
          ]
        },
        {
          "name": "stdout",
          "output_type": "stream",
          "text": [
            "found ufc submission about khabib vs conor match\n"
          ]
        },
        {
          "name": "stderr",
          "output_type": "stream",
          "text": [
            "Processing submissions: 3462167it [01:27, 37969.48it/s]"
          ]
        },
        {
          "name": "stdout",
          "output_type": "stream",
          "text": [
            "found ufc submission about khabib vs conor match\n"
          ]
        },
        {
          "name": "stderr",
          "output_type": "stream",
          "text": [
            "Processing submissions: 3485647it [01:28, 38821.96it/s]"
          ]
        },
        {
          "name": "stdout",
          "output_type": "stream",
          "text": [
            "found ufc submission about khabib vs conor match\n",
            "found ufc submission about khabib vs conor match\n"
          ]
        },
        {
          "name": "stderr",
          "output_type": "stream",
          "text": [
            "Processing submissions: 3501291it [01:28, 38819.79it/s]"
          ]
        },
        {
          "name": "stdout",
          "output_type": "stream",
          "text": [
            "found ufc submission about khabib vs conor match\n",
            "found ufc submission about khabib vs conor match\n"
          ]
        },
        {
          "name": "stderr",
          "output_type": "stream",
          "text": [
            "Processing submissions: 3509033it [01:29, 38116.90it/s]"
          ]
        },
        {
          "name": "stdout",
          "output_type": "stream",
          "text": [
            "found ufc submission about khabib vs conor match\n"
          ]
        },
        {
          "name": "stderr",
          "output_type": "stream",
          "text": [
            "Processing submissions: 3539741it [01:29, 38069.08it/s]"
          ]
        },
        {
          "name": "stdout",
          "output_type": "stream",
          "text": [
            "found ufc submission about khabib vs conor match\n",
            "found ufc submission about khabib vs conor match\n"
          ]
        },
        {
          "name": "stderr",
          "output_type": "stream",
          "text": [
            "Processing submissions: 3601839it [01:31, 38184.74it/s]"
          ]
        },
        {
          "name": "stdout",
          "output_type": "stream",
          "text": [
            "found ufc submission about khabib vs conor match\n"
          ]
        },
        {
          "name": "stderr",
          "output_type": "stream",
          "text": [
            "Processing submissions: 3621185it [01:32, 38399.84it/s]"
          ]
        },
        {
          "name": "stdout",
          "output_type": "stream",
          "text": [
            "found ufc submission about khabib vs conor match\n"
          ]
        },
        {
          "name": "stderr",
          "output_type": "stream",
          "text": [
            "Processing submissions: 3656656it [01:33, 39143.90it/s]"
          ]
        },
        {
          "name": "stdout",
          "output_type": "stream",
          "text": [
            "found ufc submission about khabib vs conor match\n"
          ]
        },
        {
          "name": "stderr",
          "output_type": "stream",
          "text": [
            "Processing submissions: 3724311it [01:34, 39145.61it/s]"
          ]
        },
        {
          "name": "stdout",
          "output_type": "stream",
          "text": [
            "found ufc submission about khabib vs conor match\n"
          ]
        },
        {
          "name": "stderr",
          "output_type": "stream",
          "text": [
            "Processing submissions: 3732158it [01:34, 39057.65it/s]"
          ]
        },
        {
          "name": "stdout",
          "output_type": "stream",
          "text": [
            "found ufc submission about khabib vs conor match\n"
          ]
        },
        {
          "name": "stderr",
          "output_type": "stream",
          "text": [
            "Processing submissions: 3744032it [01:35, 39343.18it/s]"
          ]
        },
        {
          "name": "stdout",
          "output_type": "stream",
          "text": [
            "found ufc submission about khabib vs conor match\n"
          ]
        },
        {
          "name": "stderr",
          "output_type": "stream",
          "text": [
            "Processing submissions: 3791589it [01:36, 39991.64it/s]"
          ]
        },
        {
          "name": "stdout",
          "output_type": "stream",
          "text": [
            "found ufc submission about khabib vs conor match\n"
          ]
        },
        {
          "name": "stderr",
          "output_type": "stream",
          "text": [
            "Processing submissions: 3807561it [01:36, 39701.78it/s]"
          ]
        },
        {
          "name": "stdout",
          "output_type": "stream",
          "text": [
            "found ufc submission about khabib vs conor match\n"
          ]
        },
        {
          "name": "stderr",
          "output_type": "stream",
          "text": [
            "Processing submissions: 3874646it [01:38, 38810.74it/s]"
          ]
        },
        {
          "name": "stdout",
          "output_type": "stream",
          "text": [
            "found ufc submission about khabib vs conor match\n"
          ]
        },
        {
          "name": "stderr",
          "output_type": "stream",
          "text": [
            "Processing submissions: 3917965it [01:39, 35901.22it/s]"
          ]
        },
        {
          "name": "stdout",
          "output_type": "stream",
          "text": [
            "found ufc submission about khabib vs conor match\n"
          ]
        },
        {
          "name": "stderr",
          "output_type": "stream",
          "text": [
            "Processing submissions: 3937561it [01:40, 38530.26it/s]"
          ]
        },
        {
          "name": "stdout",
          "output_type": "stream",
          "text": [
            "found ufc submission about khabib vs conor match\n",
            "found ufc submission about khabib vs conor match\n"
          ]
        },
        {
          "name": "stderr",
          "output_type": "stream",
          "text": [
            "Processing submissions: 3961444it [01:40, 38901.16it/s]"
          ]
        },
        {
          "name": "stdout",
          "output_type": "stream",
          "text": [
            "found ufc submission about khabib vs conor match\n"
          ]
        },
        {
          "name": "stderr",
          "output_type": "stream",
          "text": [
            "Processing submissions: 3989490it [01:41, 39752.81it/s]"
          ]
        },
        {
          "name": "stdout",
          "output_type": "stream",
          "text": [
            "found ufc submission about khabib vs conor match\n",
            "found ufc submission about khabib vs conor match\n",
            "found ufc submission about khabib vs conor match\n"
          ]
        },
        {
          "name": "stderr",
          "output_type": "stream",
          "text": [
            "Processing submissions: 4058581it [01:43, 40820.81it/s]"
          ]
        },
        {
          "name": "stdout",
          "output_type": "stream",
          "text": [
            "found ufc submission about khabib vs conor match\n",
            "found ufc submission about khabib vs conor match\n"
          ]
        },
        {
          "name": "stderr",
          "output_type": "stream",
          "text": [
            "Processing submissions: 4074835it [01:43, 40035.77it/s]"
          ]
        },
        {
          "name": "stdout",
          "output_type": "stream",
          "text": [
            "found ufc submission about khabib vs conor match\n",
            "found ufc submission about khabib vs conor match\n"
          ]
        },
        {
          "name": "stderr",
          "output_type": "stream",
          "text": [
            "Processing submissions: 4165244it [01:45, 40604.87it/s]"
          ]
        },
        {
          "name": "stdout",
          "output_type": "stream",
          "text": [
            "found ufc submission about khabib vs conor match\n"
          ]
        },
        {
          "name": "stderr",
          "output_type": "stream",
          "text": [
            "Processing submissions: 4173329it [01:46, 36608.48it/s]"
          ]
        },
        {
          "name": "stdout",
          "output_type": "stream",
          "text": [
            "found ufc submission about khabib vs conor match\n",
            "found ufc submission about khabib vs conor match\n"
          ]
        },
        {
          "name": "stderr",
          "output_type": "stream",
          "text": [
            "Processing submissions: 4209096it [01:47, 39371.04it/s]"
          ]
        },
        {
          "name": "stdout",
          "output_type": "stream",
          "text": [
            "found ufc submission about khabib vs conor match\n"
          ]
        },
        {
          "name": "stderr",
          "output_type": "stream",
          "text": [
            "Processing submissions: 4434289it [01:52, 40408.05it/s]"
          ]
        },
        {
          "name": "stdout",
          "output_type": "stream",
          "text": [
            "found ufc submission about khabib vs conor match\n"
          ]
        },
        {
          "name": "stderr",
          "output_type": "stream",
          "text": [
            "Processing submissions: 4489662it [01:54, 39789.39it/s]"
          ]
        },
        {
          "name": "stdout",
          "output_type": "stream",
          "text": [
            "found ufc submission about khabib vs conor match\n"
          ]
        },
        {
          "name": "stderr",
          "output_type": "stream",
          "text": [
            "Processing submissions: 4744414it [02:00, 39040.10it/s]"
          ]
        },
        {
          "name": "stdout",
          "output_type": "stream",
          "text": [
            "found ufc submission about khabib vs conor match\n"
          ]
        },
        {
          "name": "stderr",
          "output_type": "stream",
          "text": [
            "Processing submissions: 4752238it [02:00, 38586.71it/s]"
          ]
        },
        {
          "name": "stdout",
          "output_type": "stream",
          "text": [
            "found ufc submission about khabib vs conor match\n"
          ]
        },
        {
          "name": "stderr",
          "output_type": "stream",
          "text": [
            "Processing submissions: 4795054it [02:02, 38839.56it/s]"
          ]
        },
        {
          "name": "stdout",
          "output_type": "stream",
          "text": [
            "found ufc submission about khabib vs conor match\n"
          ]
        },
        {
          "name": "stderr",
          "output_type": "stream",
          "text": [
            "Processing submissions: 4822557it [02:02, 38974.51it/s]"
          ]
        },
        {
          "name": "stdout",
          "output_type": "stream",
          "text": [
            "found ufc submission about khabib vs conor match\n"
          ]
        },
        {
          "name": "stderr",
          "output_type": "stream",
          "text": [
            "Processing submissions: 4942513it [02:05, 39790.02it/s]"
          ]
        },
        {
          "name": "stdout",
          "output_type": "stream",
          "text": [
            "found ufc submission about khabib vs conor match\n"
          ]
        },
        {
          "name": "stderr",
          "output_type": "stream",
          "text": [
            "Processing submissions: 5030475it [02:08, 38346.83it/s]"
          ]
        },
        {
          "name": "stdout",
          "output_type": "stream",
          "text": [
            "found ufc submission about khabib vs conor match\n"
          ]
        },
        {
          "name": "stderr",
          "output_type": "stream",
          "text": [
            "Processing submissions: 5295932it [02:14, 38992.46it/s]"
          ]
        },
        {
          "name": "stdout",
          "output_type": "stream",
          "text": [
            "found ufc submission about khabib vs conor match\n"
          ]
        },
        {
          "name": "stderr",
          "output_type": "stream",
          "text": [
            "Processing submissions: 5342945it [02:16, 38554.78it/s]"
          ]
        },
        {
          "name": "stdout",
          "output_type": "stream",
          "text": [
            "found ufc submission about khabib vs conor match\n"
          ]
        },
        {
          "name": "stderr",
          "output_type": "stream",
          "text": [
            "Processing submissions: 5492150it [02:20, 39431.84it/s]"
          ]
        },
        {
          "name": "stdout",
          "output_type": "stream",
          "text": [
            "found ufc submission about khabib vs conor match\n",
            "found ufc submission about khabib vs conor match\n"
          ]
        },
        {
          "name": "stderr",
          "output_type": "stream",
          "text": [
            "Processing submissions: 5732194it [02:26, 38662.13it/s]"
          ]
        },
        {
          "name": "stdout",
          "output_type": "stream",
          "text": [
            "found ufc submission about khabib vs conor match\n"
          ]
        },
        {
          "name": "stderr",
          "output_type": "stream",
          "text": [
            "Processing submissions: 5740012it [02:26, 38726.97it/s]"
          ]
        },
        {
          "name": "stdout",
          "output_type": "stream",
          "text": [
            "found ufc submission about khabib vs conor match\n"
          ]
        },
        {
          "name": "stderr",
          "output_type": "stream",
          "text": [
            "Processing submissions: 5897175it [02:30, 38315.06it/s]"
          ]
        },
        {
          "name": "stdout",
          "output_type": "stream",
          "text": [
            "found ufc submission about khabib vs conor match\n"
          ]
        },
        {
          "name": "stderr",
          "output_type": "stream",
          "text": [
            "Processing submissions: 6127082it [02:36, 37242.42it/s]"
          ]
        },
        {
          "name": "stdout",
          "output_type": "stream",
          "text": [
            "found ufc submission about khabib vs conor match\n"
          ]
        },
        {
          "name": "stderr",
          "output_type": "stream",
          "text": [
            "Processing submissions: 6348278it [02:42, 37817.80it/s]"
          ]
        },
        {
          "name": "stdout",
          "output_type": "stream",
          "text": [
            "found ufc submission about khabib vs conor match\n"
          ]
        },
        {
          "name": "stderr",
          "output_type": "stream",
          "text": [
            "Processing submissions: 6363373it [02:42, 35938.80it/s]"
          ]
        },
        {
          "name": "stdout",
          "output_type": "stream",
          "text": [
            "found ufc submission about khabib vs conor match\n"
          ]
        },
        {
          "name": "stderr",
          "output_type": "stream",
          "text": [
            "Processing submissions: 6819491it [02:54, 39226.79it/s]"
          ]
        },
        {
          "name": "stdout",
          "output_type": "stream",
          "text": [
            "found ufc submission about khabib vs conor match\n"
          ]
        },
        {
          "name": "stderr",
          "output_type": "stream",
          "text": [
            "Processing submissions: 6876827it [02:56, 38098.39it/s]"
          ]
        },
        {
          "name": "stdout",
          "output_type": "stream",
          "text": [
            "found ufc submission about khabib vs conor match\n"
          ]
        },
        {
          "name": "stderr",
          "output_type": "stream",
          "text": [
            "Processing submissions: 6919392it [02:57, 38747.01it/s]"
          ]
        },
        {
          "name": "stdout",
          "output_type": "stream",
          "text": [
            "found ufc submission about khabib vs conor match\n"
          ]
        },
        {
          "name": "stderr",
          "output_type": "stream",
          "text": [
            "Processing submissions: 6967352it [02:58, 39722.14it/s]"
          ]
        },
        {
          "name": "stdout",
          "output_type": "stream",
          "text": [
            "found ufc submission about khabib vs conor match\n"
          ]
        },
        {
          "name": "stderr",
          "output_type": "stream",
          "text": [
            "Processing submissions: 7368142it [03:08, 37694.23it/s]"
          ]
        },
        {
          "name": "stdout",
          "output_type": "stream",
          "text": [
            "found ufc submission about khabib vs conor match\n"
          ]
        },
        {
          "name": "stderr",
          "output_type": "stream",
          "text": [
            "Processing submissions: 8287473it [03:32, 37818.34it/s]"
          ]
        },
        {
          "name": "stdout",
          "output_type": "stream",
          "text": [
            "found ufc submission about khabib vs conor match\n"
          ]
        },
        {
          "name": "stderr",
          "output_type": "stream",
          "text": [
            "Processing submissions: 8774205it [03:45, 38572.58it/s]"
          ]
        },
        {
          "name": "stdout",
          "output_type": "stream",
          "text": [
            "found ufc submission about khabib vs conor match\n"
          ]
        },
        {
          "name": "stderr",
          "output_type": "stream",
          "text": [
            "Processing submissions: 11717887it [05:00, 39645.42it/s]"
          ]
        },
        {
          "name": "stdout",
          "output_type": "stream",
          "text": [
            "found ufc submission about khabib vs conor match\n"
          ]
        },
        {
          "name": "stderr",
          "output_type": "stream",
          "text": [
            "Processing submissions: 11896525it [05:04, 38684.18it/s]"
          ]
        },
        {
          "name": "stdout",
          "output_type": "stream",
          "text": [
            "found ufc submission about khabib vs conor match\n"
          ]
        },
        {
          "name": "stderr",
          "output_type": "stream",
          "text": [
            "Processing submissions: 12575349it [05:22, 40353.70it/s]"
          ]
        },
        {
          "name": "stdout",
          "output_type": "stream",
          "text": [
            "found ufc submission about khabib vs conor match\n"
          ]
        },
        {
          "name": "stderr",
          "output_type": "stream",
          "text": [
            "Processing submissions: 12831881it [05:28, 39341.09it/s]"
          ]
        },
        {
          "name": "stdout",
          "output_type": "stream",
          "text": [
            "found ufc submission about khabib vs conor match\n"
          ]
        },
        {
          "name": "stderr",
          "output_type": "stream",
          "text": [
            "Processing submissions: 13433866it [05:43, 39982.03it/s]"
          ]
        },
        {
          "name": "stdout",
          "output_type": "stream",
          "text": [
            "found ufc submission about khabib vs conor match\n"
          ]
        },
        {
          "name": "stderr",
          "output_type": "stream",
          "text": [
            "Processing submissions: 13975028it [05:57, 39120.79it/s]\n"
          ]
        },
        {
          "name": "stdout",
          "output_type": "stream",
          "text": [
            "Total relevant submissions found: 200\n"
          ]
        }
      ],
      "source": [
        "save_file = open(os.path.join(save_dir, save_filename), mode=\"w\", encoding=\"utf-8\")\n",
        "ufc_sub_count = 0\n",
        "\n",
        "with open(submission_path, mode=\"r\", encoding=\"utf-8\") as data:\n",
        "    for line in tqdm(data, desc=\"Processing submissions\"): # used tqdm.tqdm, hence no progress bar\n",
        "        try:\n",
        "            line = json.loads(line)\n",
        "            if line[\"subreddit\"] == \"ufc\" and \"khabib\" in line[\"selftext\"].lower() and (\"conor\" in line[\"selftext\"].lower() or \"mcgregor\" in line[\"selftext\"].lower()) and line[\"created_utc\"] > target_timestamp:\n",
        "                print(\"found ufc submission about khabib vs conor match\")\n",
        "                ufc_sub_count += 1\n",
        "                json.dump(line, save_file)\n",
        "                save_file.write(\"\\n\") # for convenience, the last `\\n` will be removed later.\n",
        "                save_file.flush()\n",
        "        except json.JSONDecodeError as e:\n",
        "            print(f\"Error decoding JSON: {e}\")\n",
        "            continue\n",
        "\n",
        "print(f\"Total relevant submissions found: {ufc_sub_count}\")\n",
        "save_file.close()\n",
        "play_finish_sound() # play the sound when finished"
      ]
    },
    {
      "cell_type": "code",
      "execution_count": null,
      "id": "936773ff",
      "metadata": {
        "id": "936773ff",
        "outputId": "c5099863-facc-4566-c812-2108a3049608"
      },
      "outputs": [
        {
          "name": "stdout",
          "output_type": "stream",
          "text": [
            "<class 'pandas.core.frame.DataFrame'>\n",
            "RangeIndex: 200 entries, 0 to 199\n",
            "Data columns (total 77 columns):\n",
            " #   Column                         Non-Null Count  Dtype  \n",
            "---  ------                         --------------  -----  \n",
            " 0   archived                       200 non-null    bool   \n",
            " 1   author                         200 non-null    object \n",
            " 2   author_created_utc             197 non-null    float64\n",
            " 3   author_flair_background_color  3 non-null      object \n",
            " 4   author_flair_css_class         0 non-null      float64\n",
            " 5   author_flair_richtext          197 non-null    object \n",
            " 6   author_flair_template_id       0 non-null      float64\n",
            " 7   author_flair_text              0 non-null      float64\n",
            " 8   author_flair_text_color        3 non-null      object \n",
            " 9   author_flair_type              197 non-null    object \n",
            " 10  author_fullname                197 non-null    object \n",
            " 11  author_patreon_flair           197 non-null    float64\n",
            " 12  can_gild                       200 non-null    bool   \n",
            " 13  can_mod_post                   200 non-null    bool   \n",
            " 14  category                       0 non-null      float64\n",
            " 15  content_categories             0 non-null      float64\n",
            " 16  contest_mode                   200 non-null    bool   \n",
            " 17  created_utc                    200 non-null    int64  \n",
            " 18  distinguished                  0 non-null      float64\n",
            " 19  domain                         200 non-null    object \n",
            " 20  edited                         200 non-null    int64  \n",
            " 21  gilded                         200 non-null    int64  \n",
            " 22  gildings                       200 non-null    object \n",
            " 23  hidden                         200 non-null    bool   \n",
            " 24  id                             200 non-null    object \n",
            " 25  is_crosspostable               200 non-null    bool   \n",
            " 26  is_meta                        200 non-null    bool   \n",
            " 27  is_original_content            200 non-null    bool   \n",
            " 28  is_reddit_media_domain         200 non-null    bool   \n",
            " 29  is_robot_indexable             200 non-null    bool   \n",
            " 30  is_self                        200 non-null    bool   \n",
            " 31  is_video                       200 non-null    bool   \n",
            " 32  link_flair_background_color    200 non-null    object \n",
            " 33  link_flair_css_class           0 non-null      float64\n",
            " 34  link_flair_richtext            200 non-null    object \n",
            " 35  link_flair_template_id         0 non-null      float64\n",
            " 36  link_flair_text                0 non-null      float64\n",
            " 37  link_flair_text_color          200 non-null    object \n",
            " 38  link_flair_type                200 non-null    object \n",
            " 39  locked                         200 non-null    bool   \n",
            " 40  media                          0 non-null      float64\n",
            " 41  media_embed                    200 non-null    object \n",
            " 42  media_only                     200 non-null    bool   \n",
            " 43  no_follow                      200 non-null    bool   \n",
            " 44  num_comments                   200 non-null    int64  \n",
            " 45  num_crossposts                 200 non-null    int64  \n",
            " 46  over_18                        200 non-null    bool   \n",
            " 47  parent_whitelist_status        200 non-null    object \n",
            " 48  permalink                      200 non-null    object \n",
            " 49  pinned                         200 non-null    bool   \n",
            " 50  pwls                           200 non-null    int64  \n",
            " 51  quarantine                     200 non-null    bool   \n",
            " 52  removal_reason                 0 non-null      float64\n",
            " 53  retrieved_on                   200 non-null    int64  \n",
            " 54  score                          200 non-null    int64  \n",
            " 55  secure_media                   0 non-null      float64\n",
            " 56  secure_media_embed             200 non-null    object \n",
            " 57  selftext                       200 non-null    object \n",
            " 58  send_replies                   200 non-null    bool   \n",
            " 59  spoiler                        200 non-null    bool   \n",
            " 60  stickied                       200 non-null    bool   \n",
            " 61  subreddit                      200 non-null    object \n",
            " 62  subreddit_id                   200 non-null    object \n",
            " 63  subreddit_name_prefixed        200 non-null    object \n",
            " 64  subreddit_subscribers          200 non-null    int64  \n",
            " 65  subreddit_type                 200 non-null    object \n",
            " 66  suggested_sort                 0 non-null      float64\n",
            " 67  thumbnail                      200 non-null    object \n",
            " 68  thumbnail_height               3 non-null      float64\n",
            " 69  thumbnail_width                3 non-null      float64\n",
            " 70  title                          200 non-null    object \n",
            " 71  url                            200 non-null    object \n",
            " 72  whitelist_status               200 non-null    object \n",
            " 73  wls                            200 non-null    int64  \n",
            " 74  post_hint                      16 non-null     object \n",
            " 75  preview                        16 non-null     object \n",
            " 76  media_metadata                 0 non-null      float64\n",
            "dtypes: bool(21), float64(18), int64(10), object(28)\n",
            "memory usage: 91.7+ KB\n"
          ]
        },
        {
          "data": {
            "text/plain": [
              "None"
            ]
          },
          "metadata": {},
          "output_type": "display_data"
        },
        {
          "name": "stdout",
          "output_type": "stream",
          "text": [
            "['9m2q9s', '9m2qxc', '9m2r8s', '9m2rct', '9m2rnc', '9m2rtu', '9m2rz9', '9m2s1c', '9m2s5c', '9m2shf', '9m2sqn', '9m2ssy', '9m2svh', '9m2sz2', '9m2taz', '9m2twr', '9m2tx9', '9m2u49', '9m2ufd', '9m2vk3', '9m2vl2', '9m2vp2', '9m2vyp', '9m2vza', '9m2w9e', '9m2wkt', '9m2x17', '9m2xnh', '9m2xr6', '9m2xra', '9m2xte', '9m2xu4', '9m2ycy', '9m2z5y', '9m2zgw', '9m2zzd', '9m30ho', '9m319p', '9m31q5', '9m321n', '9m322j', '9m32bg', '9m3312', '9m33db', '9m34ar', '9m34rz', '9m3am4', '9m3d35', '9m3evd', '9m3ftz', '9m3i5a', '9m3kr9', '9m3mha', '9m3o91', '9m3p6c', '9m3qny', '9m3sm4', '9m3wt5', '9m41iy', '9m41nv', '9m44y2', '9m47cq', '9m49gt', '9m4ab6', '9m4d4a', '9m4hj2', '9m4hqz', '9m4kcq', '9m4luj', '9m4ra1', '9m4uc5', '9m52tu', '9m57nt', '9m59mg', '9m5fgg', '9m5r66', '9m5um9', '9m5yyj', '9m60zi', '9m63b0', '9m63i5', '9m6ej6', '9m6fbp', '9m6fmq', '9m6gf7', '9m6hpn', '9m6rm8', '9m6sfl', '9m6vmw', '9m70vw', '9m7315', '9m7975', '9m7dty', '9m7hwz', '9m7rvo', '9m7v3b', '9m7wxz', '9m8786', '9m8ina', '9m8mij', '9m8q6t', '9m8t76', '9m99cg', '9m9non', '9m9ryq', '9m9sqw', '9m9t8b', '9m9yni', '9ma9zb', '9mabx4', '9maftf', '9maslg', '9mb09g', '9mbg43', '9mbu5m', '9mbxvc', '9mc427', '9mc9p0', '9mcn9p', '9mczi3', '9md7v6', '9md7yc', '9mdf4o', '9mdpjp', '9mdst2', '9mef58', '9mf6s7', '9mf84f', '9mfjom', '9mfq38', '9mfx65', '9mg4rz', '9mg742', '9mhax1', '9mhbjh', '9mhc01', '9mhk4s', '9mhu5i', '9mi7eg', '9mirpp', '9misdu', '9mj4la', '9mj7fj', '9mjbxl', '9mjx26', '9mk1bs', '9mlbhg', '9mltrr', '9mml9p', '9mo26f', '9mo912', '9mol6q', '9mpl3m', '9mpzu5', '9mrgxp', '9msgpy', '9mswme', '9mt375', '9mtghv', '9mu22z', '9mu3ty', '9mu44w', '9mvlmx', '9mvran', '9mvysg', '9mw3u5', '9my0yu', '9my8pp', '9mye20', '9mz0rs', '9n40rd', '9n5boz', '9nb2f2', '9nb9e3', '9nc5yy', '9ncr9h', '9nfhed', '9nhk0r', '9nnjsj', '9non6n', '9ns1ho', '9ns7o6', '9nxi12', '9nxovn', '9o17ld', '9o6iim', '9obise', '9obu5r', '9omfiw', '9ontej', '9oouiy', '9opyeu', '9ozb4g', '9pkbkb', '9pvgnh', '9rpekv', '9rtfwc', '9s8od9', '9sehju', '9ss7u4']\n",
            "Total submissions: 200\n"
          ]
        }
      ],
      "source": [
        "ufc_229_submissions = pd.read_json(os.path.join(save_dir, save_filename), lines=True)\n",
        "display(ufc_229_submissions.info())\n",
        "\n",
        "ids = ufc_229_submissions[\"id\"].tolist()\n",
        "print(ids)\n",
        "print(f\"Total submissions: {len(ids)}\")"
      ]
    },
    {
      "cell_type": "markdown",
      "id": "fdc905f3",
      "metadata": {
        "id": "fdc905f3"
      },
      "source": [
        "## **Comment filtering**\n",
        "\n",
        "Using `id` attribute in submission files, we can filter each comment by matching their `link_id` (be sure to remove `t3_` prefix first) with target submission `id`."
      ]
    },
    {
      "cell_type": "code",
      "execution_count": null,
      "id": "ced0b503",
      "metadata": {
        "id": "ced0b503"
      },
      "outputs": [],
      "source": [
        "save_filename = \"ufc_comments.jsonl\"\n",
        "\n",
        "comment_count_by_sub_id = {id: 0 for id in ids}"
      ]
    },
    {
      "cell_type": "code",
      "execution_count": null,
      "id": "14e173c2",
      "metadata": {
        "id": "14e173c2",
        "outputId": "31fb72ab-89b4-4102-b87a-8dc441b2460a",
        "colab": {
          "referenced_widgets": [
            "6e4cd65ac1104cbc9dbe9764b4c30f20"
          ]
        }
      },
      "outputs": [
        {
          "data": {
            "application/vnd.jupyter.widget-view+json": {
              "model_id": "6e4cd65ac1104cbc9dbe9764b4c30f20",
              "version_major": 2,
              "version_minor": 0
            },
            "text/plain": [
              "Processing comments: 0it [00:00, ?it/s]"
            ]
          },
          "metadata": {},
          "output_type": "display_data"
        },
        {
          "name": "stdout",
          "output_type": "stream",
          "text": [
            "Total relevant comments found: 5327\n"
          ]
        }
      ],
      "source": [
        "with open(comment_path, mode=\"r\", encoding=\"utf-8\") as data:\n",
        "\n",
        "  save_file = open(os.path.join(save_dir, save_filename), mode=\"w\", encoding=\"utf-8\")\n",
        "\n",
        "  for line in tqdm(data, desc=\"Processing comments\"):\n",
        "    try:\n",
        "      line = json.loads(line)\n",
        "      if line[\"link_id\"][3:] in comment_count_by_sub_id.keys():\n",
        "        comment_count_by_sub_id[line[\"link_id\"][3:]] += 1\n",
        "        json.dump(line, save_file)\n",
        "        save_file.write(\"\\n\") # for convenience, the last `\\n` will be removed later.\n",
        "        save_file.flush()\n",
        "    except json.JSONDecodeError as e:\n",
        "        print(f\"Error decoding JSON: {e}\")\n",
        "        continue\n",
        "\n",
        "  save_file.close()\n",
        "\n",
        "print(f\"Total relevant comments found: {sum(comment_count_by_sub_id.values())}\")\n",
        "play_finish_sound() # play the sound when finished"
      ]
    },
    {
      "cell_type": "markdown",
      "id": "47bdbe1c",
      "metadata": {
        "id": "47bdbe1c"
      },
      "source": [
        "Here we filter to only comments that are not deleted nor removed."
      ]
    },
    {
      "cell_type": "code",
      "execution_count": null,
      "id": "8d11b303",
      "metadata": {
        "id": "8d11b303"
      },
      "outputs": [],
      "source": [
        "new_save_filename = \"ufc_filtered_comments.jsonl\"\n",
        "\n",
        "comments_with_body_count = 0\n",
        "\n",
        "comment_count_by_sub_id = {id: 0 for id in ids}"
      ]
    },
    {
      "cell_type": "code",
      "execution_count": null,
      "id": "30e1508e",
      "metadata": {
        "id": "30e1508e",
        "outputId": "f0330aad-5984-489a-c7a9-283b75189511",
        "colab": {
          "referenced_widgets": [
            "3ca527c9aac540e292893145dbd6a192"
          ]
        }
      },
      "outputs": [
        {
          "data": {
            "application/vnd.jupyter.widget-view+json": {
              "model_id": "3ca527c9aac540e292893145dbd6a192",
              "version_major": 2,
              "version_minor": 0
            },
            "text/plain": [
              "Filtering comments: 0it [00:00, ?it/s]"
            ]
          },
          "metadata": {},
          "output_type": "display_data"
        },
        {
          "name": "stdout",
          "output_type": "stream",
          "text": [
            "Total relevant comments with body found: 5023\n"
          ]
        }
      ],
      "source": [
        "filtered_comments = open(os.path.join(save_dir, new_save_filename), mode=\"w\", encoding=\"utf-8\")\n",
        "\n",
        "with open(os.path.join(save_dir, save_filename), mode=\"r\", encoding=\"utf-8\") as data:\n",
        "    for line in tqdm(data, desc=\"Filtering comments\"):\n",
        "        try:\n",
        "            line = json.loads(line)\n",
        "            if line[\"body\"].lower() != \"[deleted]\" and line[\"body\"].lower() != \"[removed]\":\n",
        "                comment_count_by_sub_id[line[\"link_id\"][3:]] += 1\n",
        "                json.dump(line, filtered_comments)\n",
        "                filtered_comments.write(\"\\n\") # for convenience, the last `\\n` will be removed later.\n",
        "                filtered_comments.flush()\n",
        "        except json.JSONDecodeError as e:\n",
        "            print(f\"Error decoding JSON: {e}\")\n",
        "            continue\n",
        "\n",
        "print(f\"Total relevant comments with body found: {sum(comment_count_by_sub_id.values())}\")\n",
        "filtered_comments.close()"
      ]
    },
    {
      "cell_type": "code",
      "execution_count": null,
      "id": "bb1fb748",
      "metadata": {
        "id": "bb1fb748",
        "outputId": "2db5d846-9ba0-4675-8c75-dea5b44ebb97"
      },
      "outputs": [
        {
          "name": "stdout",
          "output_type": "stream",
          "text": [
            "Total submissions with more than 40 comments: 23\n",
            "Total comments from filtered submissions: 2668\n"
          ]
        }
      ],
      "source": [
        "k = 40\n",
        "\n",
        "submissions_with_more_than_k_comments = {id: count for id, count in comment_count_by_sub_id.items() if count > k}\n",
        "print(f\"Total submissions with more than {k} comments: {len(submissions_with_more_than_k_comments)}\")\n",
        "\n",
        "print(f\"Total comments from filtered submissions: {sum(submissions_with_more_than_k_comments.values())}\")"
      ]
    },
    {
      "cell_type": "code",
      "execution_count": null,
      "id": "0099bf1f",
      "metadata": {
        "id": "0099bf1f",
        "outputId": "09d65ee3-2e54-4986-aeb2-5d54d1234328"
      },
      "outputs": [
        {
          "name": "stdout",
          "output_type": "stream",
          "text": [
            "Submission ID: 9m2rtu\n",
            "Comment count: 788\n",
            "Submission ID: 9m2taz\n",
            "Comment count: 88\n",
            "Submission ID: 9m2vp2\n",
            "Comment count: 43\n",
            "Submission ID: 9m2xra\n",
            "Comment count: 57\n",
            "Submission ID: 9m3312\n",
            "Comment count: 71\n",
            "Submission ID: 9m3sm4\n",
            "Comment count: 47\n",
            "Submission ID: 9m4hj2\n",
            "Comment count: 112\n",
            "Submission ID: 9m9yni\n",
            "Comment count: 69\n",
            "Submission ID: 9mbxvc\n",
            "Comment count: 58\n",
            "Submission ID: 9mfjom\n",
            "Comment count: 222\n",
            "Submission ID: 9mol6q\n",
            "Comment count: 50\n",
            "Submission ID: 9mpl3m\n",
            "Comment count: 46\n",
            "Submission ID: 9mpzu5\n",
            "Comment count: 55\n",
            "Submission ID: 9msgpy\n",
            "Comment count: 227\n",
            "Submission ID: 9mu3ty\n",
            "Comment count: 199\n",
            "Submission ID: 9mvlmx\n",
            "Comment count: 42\n",
            "Submission ID: 9mvysg\n",
            "Comment count: 68\n",
            "Submission ID: 9nnjsj\n",
            "Comment count: 62\n",
            "Submission ID: 9ns1ho\n",
            "Comment count: 138\n",
            "Submission ID: 9ns7o6\n",
            "Comment count: 43\n",
            "Submission ID: 9obu5r\n",
            "Comment count: 56\n",
            "Submission ID: 9omfiw\n",
            "Comment count: 78\n",
            "Submission ID: 9s8od9\n",
            "Comment count: 49\n"
          ]
        }
      ],
      "source": [
        "for id in submissions_with_more_than_k_comments.keys():\n",
        "    print(f\"Submission ID: {id}\")\n",
        "    print(f\"Comment count: {submissions_with_more_than_k_comments[id]}\")"
      ]
    },
    {
      "cell_type": "markdown",
      "id": "6a8e5d45",
      "metadata": {
        "id": "6a8e5d45"
      },
      "source": [
        "## **Finalise data to use**"
      ]
    },
    {
      "cell_type": "code",
      "execution_count": null,
      "id": "08f6a806",
      "metadata": {
        "id": "08f6a806",
        "outputId": "df93e0a3-b90c-4bfd-f629-7dcc9fa14fe8",
        "colab": {
          "referenced_widgets": [
            "0cf3ada0b1f7415ab7fb7085ba060817",
            "4fd6d2ee224c4e828b240a055a8f53b4",
            "ded69600294e45dbb642658f5a2d898b",
            "b7a0bc9ae1b1413da515f219c51ef913",
            "0311dfc73b284bcd97f094f60b56424e",
            "d4affcacd1ce4e679a6dff1313d0951c",
            "44c9e56aa7614b2a993fbdf63c72f917",
            "cc4812a82b854ec7975c1662029a5ffb",
            "3f0beb3c77cb4852855607fefab93427",
            "3ee6d1e20ffd4083b9c2b92918057f3d",
            "2a8ecaa4d175437d819858406c77edff",
            "0d15b385dc4a4aca9c5fc8254311024b",
            "e5489847d7234dc895e6418b225f2342",
            "d68fcb1d644d4dcba3e928c6a7140b0a",
            "2ae9508f95b248f7881c912d1c555170",
            "8fb07fee1c4f4e76915934a34a2b57ff",
            "ba7260f36b264e8e987aabb4701fdbe9",
            "358d243bfc674b0984721f09113f2735",
            "357be5a1b5e9410396d8cc03152bc989",
            "7693c15941c54933b1f6d3852b1c98f9",
            "c0fc85d555904520a558211aa9c76a70",
            "054625248df34a9282c28a06cd39ed90",
            "ade7c49832394773993ed2a6fe3fccf2",
            "8e7e4c7096e744f481c1e11ac8b650d9"
          ]
        }
      },
      "outputs": [
        {
          "data": {
            "application/vnd.jupyter.widget-view+json": {
              "model_id": "0cf3ada0b1f7415ab7fb7085ba060817",
              "version_major": 2,
              "version_minor": 0
            },
            "text/plain": [
              "Processing final submissions:   0%|          | 0/23 [00:00<?, ?it/s]"
            ]
          },
          "metadata": {},
          "output_type": "display_data"
        },
        {
          "data": {
            "application/vnd.jupyter.widget-view+json": {
              "model_id": "4fd6d2ee224c4e828b240a055a8f53b4",
              "version_major": 2,
              "version_minor": 0
            },
            "text/plain": [
              "Processing comments for submission: 9m2rtu: 0it [00:00, ?it/s]"
            ]
          },
          "metadata": {},
          "output_type": "display_data"
        },
        {
          "data": {
            "application/vnd.jupyter.widget-view+json": {
              "model_id": "ded69600294e45dbb642658f5a2d898b",
              "version_major": 2,
              "version_minor": 0
            },
            "text/plain": [
              "Processing comments for submission: 9m2taz: 0it [00:00, ?it/s]"
            ]
          },
          "metadata": {},
          "output_type": "display_data"
        },
        {
          "data": {
            "application/vnd.jupyter.widget-view+json": {
              "model_id": "b7a0bc9ae1b1413da515f219c51ef913",
              "version_major": 2,
              "version_minor": 0
            },
            "text/plain": [
              "Processing comments for submission: 9m2vp2: 0it [00:00, ?it/s]"
            ]
          },
          "metadata": {},
          "output_type": "display_data"
        },
        {
          "data": {
            "application/vnd.jupyter.widget-view+json": {
              "model_id": "0311dfc73b284bcd97f094f60b56424e",
              "version_major": 2,
              "version_minor": 0
            },
            "text/plain": [
              "Processing comments for submission: 9m2xra: 0it [00:00, ?it/s]"
            ]
          },
          "metadata": {},
          "output_type": "display_data"
        },
        {
          "data": {
            "application/vnd.jupyter.widget-view+json": {
              "model_id": "d4affcacd1ce4e679a6dff1313d0951c",
              "version_major": 2,
              "version_minor": 0
            },
            "text/plain": [
              "Processing comments for submission: 9m3312: 0it [00:00, ?it/s]"
            ]
          },
          "metadata": {},
          "output_type": "display_data"
        },
        {
          "data": {
            "application/vnd.jupyter.widget-view+json": {
              "model_id": "44c9e56aa7614b2a993fbdf63c72f917",
              "version_major": 2,
              "version_minor": 0
            },
            "text/plain": [
              "Processing comments for submission: 9m3sm4: 0it [00:00, ?it/s]"
            ]
          },
          "metadata": {},
          "output_type": "display_data"
        },
        {
          "data": {
            "application/vnd.jupyter.widget-view+json": {
              "model_id": "cc4812a82b854ec7975c1662029a5ffb",
              "version_major": 2,
              "version_minor": 0
            },
            "text/plain": [
              "Processing comments for submission: 9m4hj2: 0it [00:00, ?it/s]"
            ]
          },
          "metadata": {},
          "output_type": "display_data"
        },
        {
          "data": {
            "application/vnd.jupyter.widget-view+json": {
              "model_id": "3f0beb3c77cb4852855607fefab93427",
              "version_major": 2,
              "version_minor": 0
            },
            "text/plain": [
              "Processing comments for submission: 9m9yni: 0it [00:00, ?it/s]"
            ]
          },
          "metadata": {},
          "output_type": "display_data"
        },
        {
          "data": {
            "application/vnd.jupyter.widget-view+json": {
              "model_id": "3ee6d1e20ffd4083b9c2b92918057f3d",
              "version_major": 2,
              "version_minor": 0
            },
            "text/plain": [
              "Processing comments for submission: 9mbxvc: 0it [00:00, ?it/s]"
            ]
          },
          "metadata": {},
          "output_type": "display_data"
        },
        {
          "data": {
            "application/vnd.jupyter.widget-view+json": {
              "model_id": "2a8ecaa4d175437d819858406c77edff",
              "version_major": 2,
              "version_minor": 0
            },
            "text/plain": [
              "Processing comments for submission: 9mfjom: 0it [00:00, ?it/s]"
            ]
          },
          "metadata": {},
          "output_type": "display_data"
        },
        {
          "data": {
            "application/vnd.jupyter.widget-view+json": {
              "model_id": "0d15b385dc4a4aca9c5fc8254311024b",
              "version_major": 2,
              "version_minor": 0
            },
            "text/plain": [
              "Processing comments for submission: 9mol6q: 0it [00:00, ?it/s]"
            ]
          },
          "metadata": {},
          "output_type": "display_data"
        },
        {
          "data": {
            "application/vnd.jupyter.widget-view+json": {
              "model_id": "e5489847d7234dc895e6418b225f2342",
              "version_major": 2,
              "version_minor": 0
            },
            "text/plain": [
              "Processing comments for submission: 9mpl3m: 0it [00:00, ?it/s]"
            ]
          },
          "metadata": {},
          "output_type": "display_data"
        },
        {
          "data": {
            "application/vnd.jupyter.widget-view+json": {
              "model_id": "d68fcb1d644d4dcba3e928c6a7140b0a",
              "version_major": 2,
              "version_minor": 0
            },
            "text/plain": [
              "Processing comments for submission: 9mpzu5: 0it [00:00, ?it/s]"
            ]
          },
          "metadata": {},
          "output_type": "display_data"
        },
        {
          "data": {
            "application/vnd.jupyter.widget-view+json": {
              "model_id": "2ae9508f95b248f7881c912d1c555170",
              "version_major": 2,
              "version_minor": 0
            },
            "text/plain": [
              "Processing comments for submission: 9msgpy: 0it [00:00, ?it/s]"
            ]
          },
          "metadata": {},
          "output_type": "display_data"
        },
        {
          "data": {
            "application/vnd.jupyter.widget-view+json": {
              "model_id": "8fb07fee1c4f4e76915934a34a2b57ff",
              "version_major": 2,
              "version_minor": 0
            },
            "text/plain": [
              "Processing comments for submission: 9mu3ty: 0it [00:00, ?it/s]"
            ]
          },
          "metadata": {},
          "output_type": "display_data"
        },
        {
          "data": {
            "application/vnd.jupyter.widget-view+json": {
              "model_id": "ba7260f36b264e8e987aabb4701fdbe9",
              "version_major": 2,
              "version_minor": 0
            },
            "text/plain": [
              "Processing comments for submission: 9mvlmx: 0it [00:00, ?it/s]"
            ]
          },
          "metadata": {},
          "output_type": "display_data"
        },
        {
          "data": {
            "application/vnd.jupyter.widget-view+json": {
              "model_id": "358d243bfc674b0984721f09113f2735",
              "version_major": 2,
              "version_minor": 0
            },
            "text/plain": [
              "Processing comments for submission: 9mvysg: 0it [00:00, ?it/s]"
            ]
          },
          "metadata": {},
          "output_type": "display_data"
        },
        {
          "data": {
            "application/vnd.jupyter.widget-view+json": {
              "model_id": "357be5a1b5e9410396d8cc03152bc989",
              "version_major": 2,
              "version_minor": 0
            },
            "text/plain": [
              "Processing comments for submission: 9nnjsj: 0it [00:00, ?it/s]"
            ]
          },
          "metadata": {},
          "output_type": "display_data"
        },
        {
          "data": {
            "application/vnd.jupyter.widget-view+json": {
              "model_id": "7693c15941c54933b1f6d3852b1c98f9",
              "version_major": 2,
              "version_minor": 0
            },
            "text/plain": [
              "Processing comments for submission: 9ns1ho: 0it [00:00, ?it/s]"
            ]
          },
          "metadata": {},
          "output_type": "display_data"
        },
        {
          "data": {
            "application/vnd.jupyter.widget-view+json": {
              "model_id": "c0fc85d555904520a558211aa9c76a70",
              "version_major": 2,
              "version_minor": 0
            },
            "text/plain": [
              "Processing comments for submission: 9ns7o6: 0it [00:00, ?it/s]"
            ]
          },
          "metadata": {},
          "output_type": "display_data"
        },
        {
          "data": {
            "application/vnd.jupyter.widget-view+json": {
              "model_id": "054625248df34a9282c28a06cd39ed90",
              "version_major": 2,
              "version_minor": 0
            },
            "text/plain": [
              "Processing comments for submission: 9obu5r: 0it [00:00, ?it/s]"
            ]
          },
          "metadata": {},
          "output_type": "display_data"
        },
        {
          "data": {
            "application/vnd.jupyter.widget-view+json": {
              "model_id": "ade7c49832394773993ed2a6fe3fccf2",
              "version_major": 2,
              "version_minor": 0
            },
            "text/plain": [
              "Processing comments for submission: 9omfiw: 0it [00:00, ?it/s]"
            ]
          },
          "metadata": {},
          "output_type": "display_data"
        },
        {
          "data": {
            "application/vnd.jupyter.widget-view+json": {
              "model_id": "8e7e4c7096e744f481c1e11ac8b650d9",
              "version_major": 2,
              "version_minor": 0
            },
            "text/plain": [
              "Processing comments for submission: 9s8od9: 0it [00:00, ?it/s]"
            ]
          },
          "metadata": {},
          "output_type": "display_data"
        }
      ],
      "source": [
        "final_submission_file = open(os.path.join(save_dir, \"ufc_final_submissions.jsonl\"), mode=\"w\", encoding=\"utf-8\")\n",
        "final_comment_file = open(os.path.join(save_dir, \"ufc_final_comments.jsonl\"), mode=\"w\", encoding=\"utf-8\")\n",
        "\n",
        "comments = pd.read_json(os.path.join(save_dir, new_save_filename), lines=True)\n",
        "\n",
        "for id in tqdm(submissions_with_more_than_k_comments.keys(), desc=\"Processing final submissions\"):\n",
        "    submission = ufc_229_submissions[ufc_229_submissions[\"id\"] == id].to_dict(orient=\"records\")[0]\n",
        "    json.dump(submission, final_submission_file)\n",
        "    final_submission_file.write(\"\\n\")\n",
        "    final_submission_file.flush()\n",
        "\n",
        "    submission_comments = comments[comments[\"link_id\"] == f\"t3_{id}\"]\n",
        "    for _, comment in tqdm(submission_comments.iterrows(), desc=f\"Processing comments for submission: {id}\"):\n",
        "        comment = comment.to_dict()\n",
        "        json.dump(comment, final_comment_file)\n",
        "        final_comment_file.write(\"\\n\")\n",
        "        final_comment_file.flush()"
      ]
    },
    {
      "cell_type": "markdown",
      "id": "4a3d5d9e",
      "metadata": {
        "id": "4a3d5d9e"
      },
      "source": [
        "## **Summary Generation**"
      ]
    },
    {
      "cell_type": "code",
      "source": [
        "!wget https://raw.githubusercontent.com/barnabyashford/llm-powered-social-listener/refs/heads/main/ufc_final_submissions.jsonl -O submissions.jsonl\n",
        "!wget https://raw.githubusercontent.com/barnabyashford/llm-powered-social-listener/refs/heads/main/ufc_final_comments.jsonl -O comments.jsonl"
      ],
      "metadata": {
        "id": "bX1B97N_maDD",
        "outputId": "6603093b-cb47-4b56-bb5b-63b9e0835fdb",
        "colab": {
          "base_uri": "https://localhost:8080/"
        }
      },
      "id": "bX1B97N_maDD",
      "execution_count": 5,
      "outputs": [
        {
          "output_type": "stream",
          "name": "stdout",
          "text": [
            "--2025-04-20 09:53:19--  https://raw.githubusercontent.com/barnabyashford/llm-powered-social-listener/refs/heads/main/ufc_final_submissions.jsonl\n",
            "Resolving raw.githubusercontent.com (raw.githubusercontent.com)... 185.199.108.133, 185.199.109.133, 185.199.110.133, ...\n",
            "Connecting to raw.githubusercontent.com (raw.githubusercontent.com)|185.199.108.133|:443... connected.\n",
            "HTTP request sent, awaiting response... 200 OK\n",
            "Length: 70759 (69K) [text/plain]\n",
            "Saving to: ‘submissions.jsonl’\n",
            "\n",
            "submissions.jsonl   100%[===================>]  69.10K  --.-KB/s    in 0.02s   \n",
            "\n",
            "2025-04-20 09:53:19 (3.00 MB/s) - ‘submissions.jsonl’ saved [70759/70759]\n",
            "\n",
            "--2025-04-20 09:53:19--  https://raw.githubusercontent.com/barnabyashford/llm-powered-social-listener/refs/heads/main/ufc_final_comments.jsonl\n",
            "Resolving raw.githubusercontent.com (raw.githubusercontent.com)... 185.199.108.133, 185.199.109.133, 185.199.110.133, ...\n",
            "Connecting to raw.githubusercontent.com (raw.githubusercontent.com)|185.199.108.133|:443... connected.\n",
            "HTTP request sent, awaiting response... 200 OK\n",
            "Length: 3337022 (3.2M) [text/plain]\n",
            "Saving to: ‘comments.jsonl’\n",
            "\n",
            "comments.jsonl      100%[===================>]   3.18M  --.-KB/s    in 0.08s   \n",
            "\n",
            "2025-04-20 09:53:19 (40.9 MB/s) - ‘comments.jsonl’ saved [3337022/3337022]\n",
            "\n"
          ]
        }
      ]
    },
    {
      "cell_type": "code",
      "source": [
        "cwd = os.getcwd()\n",
        "submission_filepath = os.path.join(cwd, \"submissions.jsonl\")\n",
        "comment_filepath = os.path.join(cwd, \"comments.jsonl\")"
      ],
      "metadata": {
        "id": "-bQhBa5Bnltm"
      },
      "id": "-bQhBa5Bnltm",
      "execution_count": 8,
      "outputs": []
    },
    {
      "cell_type": "code",
      "source": [
        "submissions = pd.read_json(submission_filepath, lines=True)\n",
        "comments = pd.read_json(comment_filepath, lines=True)"
      ],
      "metadata": {
        "id": "CBE8y1C6oY1Y"
      },
      "id": "CBE8y1C6oY1Y",
      "execution_count": 9,
      "outputs": []
    },
    {
      "cell_type": "code",
      "source": [
        "submission_ids = submissions[\"id\"].tolist()\n",
        "sub_to_thread = {id: {} for id in submission_ids}"
      ],
      "metadata": {
        "id": "3i0DuQfVr6yf"
      },
      "id": "3i0DuQfVr6yf",
      "execution_count": 55,
      "outputs": []
    },
    {
      "cell_type": "code",
      "source": [
        "sub_id = submission_ids[0]\n",
        "for _, comment in comments[comments[\"link_id\"] == f\"t3_{sub_id}\"].iterrows():\n",
        "    sub_to_thread[sub_id][comment[\"id\"]] ="
      ],
      "metadata": {
        "id": "jiWo5H8uFM87"
      },
      "id": "jiWo5H8uFM87",
      "execution_count": null,
      "outputs": []
    }
  ],
  "metadata": {
    "kernelspec": {
      "display_name": "base",
      "language": "python",
      "name": "python3"
    },
    "language_info": {
      "codemirror_mode": {
        "name": "ipython",
        "version": 3
      },
      "file_extension": ".py",
      "mimetype": "text/x-python",
      "name": "python",
      "nbconvert_exporter": "python",
      "pygments_lexer": "ipython3",
      "version": "3.12.7"
    },
    "colab": {
      "provenance": [],
      "include_colab_link": true
    },
    "widgets": {
      "application/vnd.jupyter.widget-state+json": {}
    }
  },
  "nbformat": 4,
  "nbformat_minor": 5
}