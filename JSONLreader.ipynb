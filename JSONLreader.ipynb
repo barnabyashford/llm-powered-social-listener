{
  "cells": [
    {
      "cell_type": "markdown",
      "metadata": {
        "id": "view-in-github",
        "colab_type": "text"
      },
      "source": [
        "<a href=\"https://colab.research.google.com/github/barnabyashford/llm-powered-social-listener/blob/main/JSONLreader.ipynb\" target=\"_parent\"><img src=\"https://colab.research.google.com/assets/colab-badge.svg\" alt=\"Open In Colab\"/></a>"
      ]
    },
    {
      "cell_type": "markdown",
      "id": "8d326e70",
      "metadata": {
        "id": "8d326e70"
      },
      "source": [
        "# **LLM Project: Test data creation pipeline**"
      ]
    },
    {
      "cell_type": "code",
      "execution_count": 1,
      "id": "4dbb8363",
      "metadata": {
        "colab": {
          "base_uri": "https://localhost:8080/"
        },
        "id": "4dbb8363",
        "outputId": "3efbef2a-05fa-4727-d7df-7e4f520d3171"
      },
      "outputs": [
        {
          "output_type": "stream",
          "name": "stdout",
          "text": [
            "Requirement already satisfied: tqdm in /usr/local/lib/python3.11/dist-packages (4.67.1)\n",
            "Collecting gtts\n",
            "  Downloading gTTS-2.5.4-py3-none-any.whl.metadata (4.1 kB)\n",
            "Collecting playsound\n",
            "  Downloading playsound-1.3.0.tar.gz (7.7 kB)\n",
            "  Preparing metadata (setup.py) ... \u001b[?25l\u001b[?25hdone\n",
            "Requirement already satisfied: requests<3,>=2.27 in /usr/local/lib/python3.11/dist-packages (from gtts) (2.32.3)\n",
            "Requirement already satisfied: click<8.2,>=7.1 in /usr/local/lib/python3.11/dist-packages (from gtts) (8.1.8)\n",
            "Requirement already satisfied: charset-normalizer<4,>=2 in /usr/local/lib/python3.11/dist-packages (from requests<3,>=2.27->gtts) (3.4.1)\n",
            "Requirement already satisfied: idna<4,>=2.5 in /usr/local/lib/python3.11/dist-packages (from requests<3,>=2.27->gtts) (3.10)\n",
            "Requirement already satisfied: urllib3<3,>=1.21.1 in /usr/local/lib/python3.11/dist-packages (from requests<3,>=2.27->gtts) (2.3.0)\n",
            "Requirement already satisfied: certifi>=2017.4.17 in /usr/local/lib/python3.11/dist-packages (from requests<3,>=2.27->gtts) (2025.1.31)\n",
            "Downloading gTTS-2.5.4-py3-none-any.whl (29 kB)\n",
            "Building wheels for collected packages: playsound\n",
            "  Building wheel for playsound (setup.py) ... \u001b[?25l\u001b[?25hdone\n",
            "  Created wheel for playsound: filename=playsound-1.3.0-py3-none-any.whl size=7020 sha256=088bc8fee6df921031d60ec6bb6ac80498b7ec2f695c0d58414f7e2e172e3b8a\n",
            "  Stored in directory: /root/.cache/pip/wheels/50/98/42/62753a9e1fb97579a0ce2f84f7db4c21c09d03bb2091e6cef4\n",
            "Successfully built playsound\n",
            "Installing collected packages: playsound, gtts\n",
            "Successfully installed gtts-2.5.4 playsound-1.3.0\n"
          ]
        }
      ],
      "source": [
        "%pip install tqdm gtts playsound"
      ]
    },
    {
      "cell_type": "code",
      "execution_count": 2,
      "id": "08102689",
      "metadata": {
        "colab": {
          "base_uri": "https://localhost:8080/"
        },
        "id": "08102689",
        "outputId": "f99e556d-b531-4f6f-c2a5-f5af3cd95efd"
      },
      "outputs": [
        {
          "output_type": "stream",
          "name": "stderr",
          "text": [
            "WARNING:playsound:playsound is relying on another python subprocess. Please use `pip install pygobject` if you want playsound to run more efficiently.\n"
          ]
        }
      ],
      "source": [
        "import json\n",
        "from gtts import gTTS\n",
        "from playsound import playsound\n",
        "from itertools import islice\n",
        "import os\n",
        "from datetime import datetime\n",
        "import pytz\n",
        "import pandas as pd\n",
        "import re\n",
        "from tqdm.notebook import tqdm\n",
        "import pprint"
      ]
    },
    {
      "cell_type": "code",
      "execution_count": null,
      "id": "c8201da8",
      "metadata": {
        "id": "c8201da8"
      },
      "outputs": [],
      "source": [
        "submission_path = r\"C:\\Users\\growt\\Downloads\\reddit\\submissions\\RS_2018-10\" # submissions\n",
        "comment_path = r\"C:\\Users\\growt\\Downloads\\reddit\\comments\\RC_2018-10\" # comments\n",
        "\n",
        "save_dir = r\"C:\\Users\\growt\\OneDrive\\เดสก์ท็อป\\UFCLESGOO\""
      ]
    },
    {
      "cell_type": "code",
      "execution_count": null,
      "id": "cf929644",
      "metadata": {
        "id": "cf929644"
      },
      "outputs": [],
      "source": [
        "def play_finish_sound():\n",
        "  finished = gTTS(text=\"kansei itashimashita\", lang=\"ja\", slow=False)\n",
        "  finished.save(\"finished.mp3\")\n",
        "  playsound(\"finished.mp3\")\n",
        "  os.remove(\"finished.mp3\")"
      ]
    },
    {
      "cell_type": "markdown",
      "id": "8c471889",
      "metadata": {
        "id": "8c471889"
      },
      "source": [
        "## **Submission filtering**\n",
        "\n",
        "Here we filter all submissions from `r/ufc` in the month of October 2018 for submissions mentioning Khabib and Conor McGregor using simple keyword search. As we need opinion of people ***after*** the match, we also need to filter, not only on submission text `selftext`, but also `created_utc` as well."
      ]
    },
    {
      "cell_type": "code",
      "execution_count": null,
      "id": "773cd6f1",
      "metadata": {
        "id": "773cd6f1",
        "outputId": "c9f544be-5c04-4030-8b0a-4f97709ba5d6"
      },
      "outputs": [
        {
          "name": "stdout",
          "output_type": "stream",
          "text": [
            "Target timestamp: 1538886600.0 : 2018-10-07 04:30:00+00:00\n"
          ]
        }
      ],
      "source": [
        "save_filename = \"ufc_submissions.jsonl\"\n",
        "\n",
        "target_datetime_utc = datetime(2018, 10, 7, 4, 30, 0, tzinfo=pytz.utc) # 2018-10-07 04:30:00 UTC, the end of the UFC 229 fight\n",
        "target_timestamp = target_datetime_utc.timestamp()\n",
        "\n",
        "print(f\"Target timestamp: {target_timestamp} : {target_datetime_utc}\")\n",
        "\n",
        "after_target_datetime_count = 0"
      ]
    },
    {
      "cell_type": "code",
      "execution_count": null,
      "id": "4cea5813",
      "metadata": {
        "id": "4cea5813",
        "outputId": "004ed592-9691-4ea5-dd34-828e3215bca4"
      },
      "outputs": [
        {
          "name": "stderr",
          "output_type": "stream",
          "text": [
            "Processing submissions: 2781129it [01:09, 38556.28it/s]"
          ]
        },
        {
          "name": "stdout",
          "output_type": "stream",
          "text": [
            "found ufc submission about khabib vs conor match\n",
            "found ufc submission about khabib vs conor match\n",
            "found ufc submission about khabib vs conor match\n",
            "found ufc submission about khabib vs conor match\n",
            "found ufc submission about khabib vs conor match\n",
            "found ufc submission about khabib vs conor match\n",
            "found ufc submission about khabib vs conor match\n",
            "found ufc submission about khabib vs conor match\n",
            "found ufc submission about khabib vs conor match\n",
            "found ufc submission about khabib vs conor match\n",
            "found ufc submission about khabib vs conor match\n",
            "found ufc submission about khabib vs conor match\n",
            "found ufc submission about khabib vs conor match\n",
            "found ufc submission about khabib vs conor match\n",
            "found ufc submission about khabib vs conor match\n",
            "found ufc submission about khabib vs conor match\n",
            "found ufc submission about khabib vs conor match\n",
            "found ufc submission about khabib vs conor match\n",
            "found ufc submission about khabib vs conor match\n",
            "found ufc submission about khabib vs conor match\n",
            "found ufc submission about khabib vs conor match\n",
            "found ufc submission about khabib vs conor match\n",
            "found ufc submission about khabib vs conor match\n",
            "found ufc submission about khabib vs conor match\n",
            "found ufc submission about khabib vs conor match\n",
            "found ufc submission about khabib vs conor match\n"
          ]
        },
        {
          "name": "stderr",
          "output_type": "stream",
          "text": [
            "Processing submissions: 2788914it [01:10, 38106.61it/s]"
          ]
        },
        {
          "name": "stdout",
          "output_type": "stream",
          "text": [
            "found ufc submission about khabib vs conor match\n",
            "found ufc submission about khabib vs conor match\n",
            "found ufc submission about khabib vs conor match\n",
            "found ufc submission about khabib vs conor match\n",
            "found ufc submission about khabib vs conor match\n",
            "found ufc submission about khabib vs conor match\n",
            "found ufc submission about khabib vs conor match\n",
            "found ufc submission about khabib vs conor match\n",
            "found ufc submission about khabib vs conor match\n",
            "found ufc submission about khabib vs conor match\n",
            "found ufc submission about khabib vs conor match\n",
            "found ufc submission about khabib vs conor match\n",
            "found ufc submission about khabib vs conor match\n",
            "found ufc submission about khabib vs conor match\n",
            "found ufc submission about khabib vs conor match\n",
            "found ufc submission about khabib vs conor match\n",
            "found ufc submission about khabib vs conor match\n",
            "found ufc submission about khabib vs conor match\n"
          ]
        },
        {
          "name": "stderr",
          "output_type": "stream",
          "text": [
            "Processing submissions: 2796715it [01:10, 38391.83it/s]"
          ]
        },
        {
          "name": "stdout",
          "output_type": "stream",
          "text": [
            "found ufc submission about khabib vs conor match\n",
            "found ufc submission about khabib vs conor match\n",
            "found ufc submission about khabib vs conor match\n"
          ]
        },
        {
          "name": "stderr",
          "output_type": "stream",
          "text": [
            "Processing submissions: 2808459it [01:10, 36928.62it/s]"
          ]
        },
        {
          "name": "stdout",
          "output_type": "stream",
          "text": [
            "found ufc submission about khabib vs conor match\n",
            "found ufc submission about khabib vs conor match\n",
            "found ufc submission about khabib vs conor match\n",
            "found ufc submission about khabib vs conor match\n"
          ]
        },
        {
          "name": "stderr",
          "output_type": "stream",
          "text": [
            "Processing submissions: 2820301it [01:10, 38399.15it/s]"
          ]
        },
        {
          "name": "stdout",
          "output_type": "stream",
          "text": [
            "found ufc submission about khabib vs conor match\n",
            "found ufc submission about khabib vs conor match\n",
            "found ufc submission about khabib vs conor match\n",
            "found ufc submission about khabib vs conor match\n",
            "found ufc submission about khabib vs conor match\n"
          ]
        },
        {
          "name": "stderr",
          "output_type": "stream",
          "text": [
            "Processing submissions: 2828192it [01:11, 38828.00it/s]"
          ]
        },
        {
          "name": "stdout",
          "output_type": "stream",
          "text": [
            "found ufc submission about khabib vs conor match\n",
            "found ufc submission about khabib vs conor match\n"
          ]
        },
        {
          "name": "stderr",
          "output_type": "stream",
          "text": [
            "Processing submissions: 2840052it [01:11, 39233.21it/s]"
          ]
        },
        {
          "name": "stdout",
          "output_type": "stream",
          "text": [
            "found ufc submission about khabib vs conor match\n",
            "found ufc submission about khabib vs conor match\n",
            "found ufc submission about khabib vs conor match\n",
            "found ufc submission about khabib vs conor match\n"
          ]
        },
        {
          "name": "stderr",
          "output_type": "stream",
          "text": [
            "Processing submissions: 2847874it [01:11, 38770.27it/s]"
          ]
        },
        {
          "name": "stdout",
          "output_type": "stream",
          "text": [
            "found ufc submission about khabib vs conor match\n",
            "found ufc submission about khabib vs conor match\n",
            "found ufc submission about khabib vs conor match\n"
          ]
        },
        {
          "name": "stderr",
          "output_type": "stream",
          "text": [
            "Processing submissions: 2859509it [01:11, 38429.75it/s]"
          ]
        },
        {
          "name": "stdout",
          "output_type": "stream",
          "text": [
            "found ufc submission about khabib vs conor match\n",
            "found ufc submission about khabib vs conor match\n",
            "found ufc submission about khabib vs conor match\n",
            "found ufc submission about khabib vs conor match\n"
          ]
        },
        {
          "name": "stderr",
          "output_type": "stream",
          "text": [
            "Processing submissions: 2870988it [01:12, 38017.79it/s]"
          ]
        },
        {
          "name": "stdout",
          "output_type": "stream",
          "text": [
            "found ufc submission about khabib vs conor match\n",
            "found ufc submission about khabib vs conor match\n"
          ]
        },
        {
          "name": "stderr",
          "output_type": "stream",
          "text": [
            "Processing submissions: 2886769it [01:12, 39107.32it/s]"
          ]
        },
        {
          "name": "stdout",
          "output_type": "stream",
          "text": [
            "found ufc submission about khabib vs conor match\n",
            "found ufc submission about khabib vs conor match\n"
          ]
        },
        {
          "name": "stderr",
          "output_type": "stream",
          "text": [
            "Processing submissions: 2894618it [01:12, 39112.97it/s]"
          ]
        },
        {
          "name": "stdout",
          "output_type": "stream",
          "text": [
            "found ufc submission about khabib vs conor match\n",
            "found ufc submission about khabib vs conor match\n"
          ]
        },
        {
          "name": "stderr",
          "output_type": "stream",
          "text": [
            "Processing submissions: 2914250it [01:13, 38488.53it/s]"
          ]
        },
        {
          "name": "stdout",
          "output_type": "stream",
          "text": [
            "found ufc submission about khabib vs conor match\n",
            "found ufc submission about khabib vs conor match\n"
          ]
        },
        {
          "name": "stderr",
          "output_type": "stream",
          "text": [
            "Processing submissions: 2926027it [01:13, 38476.94it/s]"
          ]
        },
        {
          "name": "stdout",
          "output_type": "stream",
          "text": [
            "found ufc submission about khabib vs conor match\n",
            "found ufc submission about khabib vs conor match\n",
            "found ufc submission about khabib vs conor match\n",
            "found ufc submission about khabib vs conor match\n"
          ]
        },
        {
          "name": "stderr",
          "output_type": "stream",
          "text": [
            "Processing submissions: 2945757it [01:14, 38740.55it/s]"
          ]
        },
        {
          "name": "stdout",
          "output_type": "stream",
          "text": [
            "found ufc submission about khabib vs conor match\n",
            "found ufc submission about khabib vs conor match\n",
            "found ufc submission about khabib vs conor match\n",
            "found ufc submission about khabib vs conor match\n",
            "found ufc submission about khabib vs conor match\n"
          ]
        },
        {
          "name": "stderr",
          "output_type": "stream",
          "text": [
            "Processing submissions: 2957287it [01:14, 38044.19it/s]"
          ]
        },
        {
          "name": "stdout",
          "output_type": "stream",
          "text": [
            "found ufc submission about khabib vs conor match\n",
            "found ufc submission about khabib vs conor match\n",
            "found ufc submission about khabib vs conor match\n"
          ]
        },
        {
          "name": "stderr",
          "output_type": "stream",
          "text": [
            "Processing submissions: 2968730it [01:14, 38017.89it/s]"
          ]
        },
        {
          "name": "stdout",
          "output_type": "stream",
          "text": [
            "found ufc submission about khabib vs conor match\n",
            "found ufc submission about khabib vs conor match\n"
          ]
        },
        {
          "name": "stderr",
          "output_type": "stream",
          "text": [
            "Processing submissions: 2980273it [01:15, 37952.77it/s]"
          ]
        },
        {
          "name": "stdout",
          "output_type": "stream",
          "text": [
            "found ufc submission about khabib vs conor match\n",
            "found ufc submission about khabib vs conor match\n"
          ]
        },
        {
          "name": "stderr",
          "output_type": "stream",
          "text": [
            "Processing submissions: 2987954it [01:15, 38038.06it/s]"
          ]
        },
        {
          "name": "stdout",
          "output_type": "stream",
          "text": [
            "found ufc submission about khabib vs conor match\n"
          ]
        },
        {
          "name": "stderr",
          "output_type": "stream",
          "text": [
            "Processing submissions: 2999580it [01:15, 38577.12it/s]"
          ]
        },
        {
          "name": "stdout",
          "output_type": "stream",
          "text": [
            "found ufc submission about khabib vs conor match\n",
            "found ufc submission about khabib vs conor match\n",
            "found ufc submission about khabib vs conor match\n"
          ]
        },
        {
          "name": "stderr",
          "output_type": "stream",
          "text": [
            "Processing submissions: 3018698it [01:16, 37216.27it/s]"
          ]
        },
        {
          "name": "stdout",
          "output_type": "stream",
          "text": [
            "found ufc submission about khabib vs conor match\n"
          ]
        },
        {
          "name": "stderr",
          "output_type": "stream",
          "text": [
            "Processing submissions: 3033737it [01:16, 37431.50it/s]"
          ]
        },
        {
          "name": "stdout",
          "output_type": "stream",
          "text": [
            "found ufc submission about khabib vs conor match\n",
            "found ufc submission about khabib vs conor match\n"
          ]
        },
        {
          "name": "stderr",
          "output_type": "stream",
          "text": [
            "Processing submissions: 3041384it [01:16, 37492.44it/s]"
          ]
        },
        {
          "name": "stdout",
          "output_type": "stream",
          "text": [
            "found ufc submission about khabib vs conor match\n",
            "found ufc submission about khabib vs conor match\n"
          ]
        },
        {
          "name": "stderr",
          "output_type": "stream",
          "text": [
            "Processing submissions: 3064413it [01:17, 38199.83it/s]"
          ]
        },
        {
          "name": "stdout",
          "output_type": "stream",
          "text": [
            "found ufc submission about khabib vs conor match\n"
          ]
        },
        {
          "name": "stderr",
          "output_type": "stream",
          "text": [
            "Processing submissions: 3083769it [01:17, 37258.22it/s]"
          ]
        },
        {
          "name": "stdout",
          "output_type": "stream",
          "text": [
            "found ufc submission about khabib vs conor match\n",
            "found ufc submission about khabib vs conor match\n",
            "found ufc submission about khabib vs conor match\n"
          ]
        },
        {
          "name": "stderr",
          "output_type": "stream",
          "text": [
            "Processing submissions: 3091700it [01:18, 38389.16it/s]"
          ]
        },
        {
          "name": "stdout",
          "output_type": "stream",
          "text": [
            "found ufc submission about khabib vs conor match\n",
            "found ufc submission about khabib vs conor match\n"
          ]
        },
        {
          "name": "stderr",
          "output_type": "stream",
          "text": [
            "Processing submissions: 3111587it [01:18, 39469.12it/s]"
          ]
        },
        {
          "name": "stdout",
          "output_type": "stream",
          "text": [
            "found ufc submission about khabib vs conor match\n",
            "found ufc submission about khabib vs conor match\n",
            "found ufc submission about khabib vs conor match\n"
          ]
        },
        {
          "name": "stderr",
          "output_type": "stream",
          "text": [
            "Processing submissions: 3135566it [01:19, 39949.27it/s]"
          ]
        },
        {
          "name": "stdout",
          "output_type": "stream",
          "text": [
            "found ufc submission about khabib vs conor match\n"
          ]
        },
        {
          "name": "stderr",
          "output_type": "stream",
          "text": [
            "Processing submissions: 3143653it [01:19, 40053.06it/s]"
          ]
        },
        {
          "name": "stdout",
          "output_type": "stream",
          "text": [
            "found ufc submission about khabib vs conor match\n"
          ]
        },
        {
          "name": "stderr",
          "output_type": "stream",
          "text": [
            "Processing submissions: 3163280it [01:19, 37679.43it/s]"
          ]
        },
        {
          "name": "stdout",
          "output_type": "stream",
          "text": [
            "found ufc submission about khabib vs conor match\n"
          ]
        },
        {
          "name": "stderr",
          "output_type": "stream",
          "text": [
            "Processing submissions: 3182727it [01:20, 38704.03it/s]"
          ]
        },
        {
          "name": "stdout",
          "output_type": "stream",
          "text": [
            "found ufc submission about khabib vs conor match\n",
            "found ufc submission about khabib vs conor match\n"
          ]
        },
        {
          "name": "stderr",
          "output_type": "stream",
          "text": [
            "Processing submissions: 3190523it [01:20, 37261.19it/s]"
          ]
        },
        {
          "name": "stdout",
          "output_type": "stream",
          "text": [
            "found ufc submission about khabib vs conor match\n"
          ]
        },
        {
          "name": "stderr",
          "output_type": "stream",
          "text": [
            "Processing submissions: 3198180it [01:20, 34461.55it/s]"
          ]
        },
        {
          "name": "stdout",
          "output_type": "stream",
          "text": [
            "found ufc submission about khabib vs conor match\n"
          ]
        },
        {
          "name": "stderr",
          "output_type": "stream",
          "text": [
            "Processing submissions: 3218250it [01:21, 39024.50it/s]"
          ]
        },
        {
          "name": "stdout",
          "output_type": "stream",
          "text": [
            "found ufc submission about khabib vs conor match\n"
          ]
        },
        {
          "name": "stderr",
          "output_type": "stream",
          "text": [
            "Processing submissions: 3230070it [01:21, 39001.69it/s]"
          ]
        },
        {
          "name": "stdout",
          "output_type": "stream",
          "text": [
            "found ufc submission about khabib vs conor match\n"
          ]
        },
        {
          "name": "stderr",
          "output_type": "stream",
          "text": [
            "Processing submissions: 3241754it [01:21, 38129.92it/s]"
          ]
        },
        {
          "name": "stdout",
          "output_type": "stream",
          "text": [
            "found ufc submission about khabib vs conor match\n",
            "found ufc submission about khabib vs conor match\n"
          ]
        },
        {
          "name": "stderr",
          "output_type": "stream",
          "text": [
            "Processing submissions: 3249406it [01:22, 35579.88it/s]"
          ]
        },
        {
          "name": "stdout",
          "output_type": "stream",
          "text": [
            "found ufc submission about khabib vs conor match\n"
          ]
        },
        {
          "name": "stderr",
          "output_type": "stream",
          "text": [
            "Processing submissions: 3264567it [01:22, 37456.90it/s]"
          ]
        },
        {
          "name": "stdout",
          "output_type": "stream",
          "text": [
            "found ufc submission about khabib vs conor match\n",
            "found ufc submission about khabib vs conor match\n"
          ]
        },
        {
          "name": "stderr",
          "output_type": "stream",
          "text": [
            "Processing submissions: 3295059it [01:23, 37548.08it/s]"
          ]
        },
        {
          "name": "stdout",
          "output_type": "stream",
          "text": [
            "found ufc submission about khabib vs conor match\n"
          ]
        },
        {
          "name": "stderr",
          "output_type": "stream",
          "text": [
            "Processing submissions: 3328615it [01:24, 36375.97it/s]"
          ]
        },
        {
          "name": "stdout",
          "output_type": "stream",
          "text": [
            "found ufc submission about khabib vs conor match\n",
            "found ufc submission about khabib vs conor match\n"
          ]
        },
        {
          "name": "stderr",
          "output_type": "stream",
          "text": [
            "Processing submissions: 3343460it [01:24, 36699.45it/s]"
          ]
        },
        {
          "name": "stdout",
          "output_type": "stream",
          "text": [
            "found ufc submission about khabib vs conor match\n"
          ]
        },
        {
          "name": "stderr",
          "output_type": "stream",
          "text": [
            "Processing submissions: 3350781it [01:24, 36380.50it/s]"
          ]
        },
        {
          "name": "stdout",
          "output_type": "stream",
          "text": [
            "found ufc submission about khabib vs conor match\n"
          ]
        },
        {
          "name": "stderr",
          "output_type": "stream",
          "text": [
            "Processing submissions: 3358070it [01:25, 36311.97it/s]"
          ]
        },
        {
          "name": "stdout",
          "output_type": "stream",
          "text": [
            "found ufc submission about khabib vs conor match\n"
          ]
        },
        {
          "name": "stderr",
          "output_type": "stream",
          "text": [
            "Processing submissions: 3369530it [01:25, 37458.50it/s]"
          ]
        },
        {
          "name": "stdout",
          "output_type": "stream",
          "text": [
            "found ufc submission about khabib vs conor match\n",
            "found ufc submission about khabib vs conor match\n"
          ]
        },
        {
          "name": "stderr",
          "output_type": "stream",
          "text": [
            "Processing submissions: 3419723it [01:26, 38104.65it/s]"
          ]
        },
        {
          "name": "stdout",
          "output_type": "stream",
          "text": [
            "found ufc submission about khabib vs conor match\n",
            "found ufc submission about khabib vs conor match\n",
            "found ufc submission about khabib vs conor match\n"
          ]
        },
        {
          "name": "stderr",
          "output_type": "stream",
          "text": [
            "Processing submissions: 3431311it [01:27, 38472.01it/s]"
          ]
        },
        {
          "name": "stdout",
          "output_type": "stream",
          "text": [
            "found ufc submission about khabib vs conor match\n"
          ]
        },
        {
          "name": "stderr",
          "output_type": "stream",
          "text": [
            "Processing submissions: 3446725it [01:27, 36561.21it/s]"
          ]
        },
        {
          "name": "stdout",
          "output_type": "stream",
          "text": [
            "found ufc submission about khabib vs conor match\n"
          ]
        },
        {
          "name": "stderr",
          "output_type": "stream",
          "text": [
            "Processing submissions: 3462167it [01:27, 37969.48it/s]"
          ]
        },
        {
          "name": "stdout",
          "output_type": "stream",
          "text": [
            "found ufc submission about khabib vs conor match\n"
          ]
        },
        {
          "name": "stderr",
          "output_type": "stream",
          "text": [
            "Processing submissions: 3485647it [01:28, 38821.96it/s]"
          ]
        },
        {
          "name": "stdout",
          "output_type": "stream",
          "text": [
            "found ufc submission about khabib vs conor match\n",
            "found ufc submission about khabib vs conor match\n"
          ]
        },
        {
          "name": "stderr",
          "output_type": "stream",
          "text": [
            "Processing submissions: 3501291it [01:28, 38819.79it/s]"
          ]
        },
        {
          "name": "stdout",
          "output_type": "stream",
          "text": [
            "found ufc submission about khabib vs conor match\n",
            "found ufc submission about khabib vs conor match\n"
          ]
        },
        {
          "name": "stderr",
          "output_type": "stream",
          "text": [
            "Processing submissions: 3509033it [01:29, 38116.90it/s]"
          ]
        },
        {
          "name": "stdout",
          "output_type": "stream",
          "text": [
            "found ufc submission about khabib vs conor match\n"
          ]
        },
        {
          "name": "stderr",
          "output_type": "stream",
          "text": [
            "Processing submissions: 3539741it [01:29, 38069.08it/s]"
          ]
        },
        {
          "name": "stdout",
          "output_type": "stream",
          "text": [
            "found ufc submission about khabib vs conor match\n",
            "found ufc submission about khabib vs conor match\n"
          ]
        },
        {
          "name": "stderr",
          "output_type": "stream",
          "text": [
            "Processing submissions: 3601839it [01:31, 38184.74it/s]"
          ]
        },
        {
          "name": "stdout",
          "output_type": "stream",
          "text": [
            "found ufc submission about khabib vs conor match\n"
          ]
        },
        {
          "name": "stderr",
          "output_type": "stream",
          "text": [
            "Processing submissions: 3621185it [01:32, 38399.84it/s]"
          ]
        },
        {
          "name": "stdout",
          "output_type": "stream",
          "text": [
            "found ufc submission about khabib vs conor match\n"
          ]
        },
        {
          "name": "stderr",
          "output_type": "stream",
          "text": [
            "Processing submissions: 3656656it [01:33, 39143.90it/s]"
          ]
        },
        {
          "name": "stdout",
          "output_type": "stream",
          "text": [
            "found ufc submission about khabib vs conor match\n"
          ]
        },
        {
          "name": "stderr",
          "output_type": "stream",
          "text": [
            "Processing submissions: 3724311it [01:34, 39145.61it/s]"
          ]
        },
        {
          "name": "stdout",
          "output_type": "stream",
          "text": [
            "found ufc submission about khabib vs conor match\n"
          ]
        },
        {
          "name": "stderr",
          "output_type": "stream",
          "text": [
            "Processing submissions: 3732158it [01:34, 39057.65it/s]"
          ]
        },
        {
          "name": "stdout",
          "output_type": "stream",
          "text": [
            "found ufc submission about khabib vs conor match\n"
          ]
        },
        {
          "name": "stderr",
          "output_type": "stream",
          "text": [
            "Processing submissions: 3744032it [01:35, 39343.18it/s]"
          ]
        },
        {
          "name": "stdout",
          "output_type": "stream",
          "text": [
            "found ufc submission about khabib vs conor match\n"
          ]
        },
        {
          "name": "stderr",
          "output_type": "stream",
          "text": [
            "Processing submissions: 3791589it [01:36, 39991.64it/s]"
          ]
        },
        {
          "name": "stdout",
          "output_type": "stream",
          "text": [
            "found ufc submission about khabib vs conor match\n"
          ]
        },
        {
          "name": "stderr",
          "output_type": "stream",
          "text": [
            "Processing submissions: 3807561it [01:36, 39701.78it/s]"
          ]
        },
        {
          "name": "stdout",
          "output_type": "stream",
          "text": [
            "found ufc submission about khabib vs conor match\n"
          ]
        },
        {
          "name": "stderr",
          "output_type": "stream",
          "text": [
            "Processing submissions: 3874646it [01:38, 38810.74it/s]"
          ]
        },
        {
          "name": "stdout",
          "output_type": "stream",
          "text": [
            "found ufc submission about khabib vs conor match\n"
          ]
        },
        {
          "name": "stderr",
          "output_type": "stream",
          "text": [
            "Processing submissions: 3917965it [01:39, 35901.22it/s]"
          ]
        },
        {
          "name": "stdout",
          "output_type": "stream",
          "text": [
            "found ufc submission about khabib vs conor match\n"
          ]
        },
        {
          "name": "stderr",
          "output_type": "stream",
          "text": [
            "Processing submissions: 3937561it [01:40, 38530.26it/s]"
          ]
        },
        {
          "name": "stdout",
          "output_type": "stream",
          "text": [
            "found ufc submission about khabib vs conor match\n",
            "found ufc submission about khabib vs conor match\n"
          ]
        },
        {
          "name": "stderr",
          "output_type": "stream",
          "text": [
            "Processing submissions: 3961444it [01:40, 38901.16it/s]"
          ]
        },
        {
          "name": "stdout",
          "output_type": "stream",
          "text": [
            "found ufc submission about khabib vs conor match\n"
          ]
        },
        {
          "name": "stderr",
          "output_type": "stream",
          "text": [
            "Processing submissions: 3989490it [01:41, 39752.81it/s]"
          ]
        },
        {
          "name": "stdout",
          "output_type": "stream",
          "text": [
            "found ufc submission about khabib vs conor match\n",
            "found ufc submission about khabib vs conor match\n",
            "found ufc submission about khabib vs conor match\n"
          ]
        },
        {
          "name": "stderr",
          "output_type": "stream",
          "text": [
            "Processing submissions: 4058581it [01:43, 40820.81it/s]"
          ]
        },
        {
          "name": "stdout",
          "output_type": "stream",
          "text": [
            "found ufc submission about khabib vs conor match\n",
            "found ufc submission about khabib vs conor match\n"
          ]
        },
        {
          "name": "stderr",
          "output_type": "stream",
          "text": [
            "Processing submissions: 4074835it [01:43, 40035.77it/s]"
          ]
        },
        {
          "name": "stdout",
          "output_type": "stream",
          "text": [
            "found ufc submission about khabib vs conor match\n",
            "found ufc submission about khabib vs conor match\n"
          ]
        },
        {
          "name": "stderr",
          "output_type": "stream",
          "text": [
            "Processing submissions: 4165244it [01:45, 40604.87it/s]"
          ]
        },
        {
          "name": "stdout",
          "output_type": "stream",
          "text": [
            "found ufc submission about khabib vs conor match\n"
          ]
        },
        {
          "name": "stderr",
          "output_type": "stream",
          "text": [
            "Processing submissions: 4173329it [01:46, 36608.48it/s]"
          ]
        },
        {
          "name": "stdout",
          "output_type": "stream",
          "text": [
            "found ufc submission about khabib vs conor match\n",
            "found ufc submission about khabib vs conor match\n"
          ]
        },
        {
          "name": "stderr",
          "output_type": "stream",
          "text": [
            "Processing submissions: 4209096it [01:47, 39371.04it/s]"
          ]
        },
        {
          "name": "stdout",
          "output_type": "stream",
          "text": [
            "found ufc submission about khabib vs conor match\n"
          ]
        },
        {
          "name": "stderr",
          "output_type": "stream",
          "text": [
            "Processing submissions: 4434289it [01:52, 40408.05it/s]"
          ]
        },
        {
          "name": "stdout",
          "output_type": "stream",
          "text": [
            "found ufc submission about khabib vs conor match\n"
          ]
        },
        {
          "name": "stderr",
          "output_type": "stream",
          "text": [
            "Processing submissions: 4489662it [01:54, 39789.39it/s]"
          ]
        },
        {
          "name": "stdout",
          "output_type": "stream",
          "text": [
            "found ufc submission about khabib vs conor match\n"
          ]
        },
        {
          "name": "stderr",
          "output_type": "stream",
          "text": [
            "Processing submissions: 4744414it [02:00, 39040.10it/s]"
          ]
        },
        {
          "name": "stdout",
          "output_type": "stream",
          "text": [
            "found ufc submission about khabib vs conor match\n"
          ]
        },
        {
          "name": "stderr",
          "output_type": "stream",
          "text": [
            "Processing submissions: 4752238it [02:00, 38586.71it/s]"
          ]
        },
        {
          "name": "stdout",
          "output_type": "stream",
          "text": [
            "found ufc submission about khabib vs conor match\n"
          ]
        },
        {
          "name": "stderr",
          "output_type": "stream",
          "text": [
            "Processing submissions: 4795054it [02:02, 38839.56it/s]"
          ]
        },
        {
          "name": "stdout",
          "output_type": "stream",
          "text": [
            "found ufc submission about khabib vs conor match\n"
          ]
        },
        {
          "name": "stderr",
          "output_type": "stream",
          "text": [
            "Processing submissions: 4822557it [02:02, 38974.51it/s]"
          ]
        },
        {
          "name": "stdout",
          "output_type": "stream",
          "text": [
            "found ufc submission about khabib vs conor match\n"
          ]
        },
        {
          "name": "stderr",
          "output_type": "stream",
          "text": [
            "Processing submissions: 4942513it [02:05, 39790.02it/s]"
          ]
        },
        {
          "name": "stdout",
          "output_type": "stream",
          "text": [
            "found ufc submission about khabib vs conor match\n"
          ]
        },
        {
          "name": "stderr",
          "output_type": "stream",
          "text": [
            "Processing submissions: 5030475it [02:08, 38346.83it/s]"
          ]
        },
        {
          "name": "stdout",
          "output_type": "stream",
          "text": [
            "found ufc submission about khabib vs conor match\n"
          ]
        },
        {
          "name": "stderr",
          "output_type": "stream",
          "text": [
            "Processing submissions: 5295932it [02:14, 38992.46it/s]"
          ]
        },
        {
          "name": "stdout",
          "output_type": "stream",
          "text": [
            "found ufc submission about khabib vs conor match\n"
          ]
        },
        {
          "name": "stderr",
          "output_type": "stream",
          "text": [
            "Processing submissions: 5342945it [02:16, 38554.78it/s]"
          ]
        },
        {
          "name": "stdout",
          "output_type": "stream",
          "text": [
            "found ufc submission about khabib vs conor match\n"
          ]
        },
        {
          "name": "stderr",
          "output_type": "stream",
          "text": [
            "Processing submissions: 5492150it [02:20, 39431.84it/s]"
          ]
        },
        {
          "name": "stdout",
          "output_type": "stream",
          "text": [
            "found ufc submission about khabib vs conor match\n",
            "found ufc submission about khabib vs conor match\n"
          ]
        },
        {
          "name": "stderr",
          "output_type": "stream",
          "text": [
            "Processing submissions: 5732194it [02:26, 38662.13it/s]"
          ]
        },
        {
          "name": "stdout",
          "output_type": "stream",
          "text": [
            "found ufc submission about khabib vs conor match\n"
          ]
        },
        {
          "name": "stderr",
          "output_type": "stream",
          "text": [
            "Processing submissions: 5740012it [02:26, 38726.97it/s]"
          ]
        },
        {
          "name": "stdout",
          "output_type": "stream",
          "text": [
            "found ufc submission about khabib vs conor match\n"
          ]
        },
        {
          "name": "stderr",
          "output_type": "stream",
          "text": [
            "Processing submissions: 5897175it [02:30, 38315.06it/s]"
          ]
        },
        {
          "name": "stdout",
          "output_type": "stream",
          "text": [
            "found ufc submission about khabib vs conor match\n"
          ]
        },
        {
          "name": "stderr",
          "output_type": "stream",
          "text": [
            "Processing submissions: 6127082it [02:36, 37242.42it/s]"
          ]
        },
        {
          "name": "stdout",
          "output_type": "stream",
          "text": [
            "found ufc submission about khabib vs conor match\n"
          ]
        },
        {
          "name": "stderr",
          "output_type": "stream",
          "text": [
            "Processing submissions: 6348278it [02:42, 37817.80it/s]"
          ]
        },
        {
          "name": "stdout",
          "output_type": "stream",
          "text": [
            "found ufc submission about khabib vs conor match\n"
          ]
        },
        {
          "name": "stderr",
          "output_type": "stream",
          "text": [
            "Processing submissions: 6363373it [02:42, 35938.80it/s]"
          ]
        },
        {
          "name": "stdout",
          "output_type": "stream",
          "text": [
            "found ufc submission about khabib vs conor match\n"
          ]
        },
        {
          "name": "stderr",
          "output_type": "stream",
          "text": [
            "Processing submissions: 6819491it [02:54, 39226.79it/s]"
          ]
        },
        {
          "name": "stdout",
          "output_type": "stream",
          "text": [
            "found ufc submission about khabib vs conor match\n"
          ]
        },
        {
          "name": "stderr",
          "output_type": "stream",
          "text": [
            "Processing submissions: 6876827it [02:56, 38098.39it/s]"
          ]
        },
        {
          "name": "stdout",
          "output_type": "stream",
          "text": [
            "found ufc submission about khabib vs conor match\n"
          ]
        },
        {
          "name": "stderr",
          "output_type": "stream",
          "text": [
            "Processing submissions: 6919392it [02:57, 38747.01it/s]"
          ]
        },
        {
          "name": "stdout",
          "output_type": "stream",
          "text": [
            "found ufc submission about khabib vs conor match\n"
          ]
        },
        {
          "name": "stderr",
          "output_type": "stream",
          "text": [
            "Processing submissions: 6967352it [02:58, 39722.14it/s]"
          ]
        },
        {
          "name": "stdout",
          "output_type": "stream",
          "text": [
            "found ufc submission about khabib vs conor match\n"
          ]
        },
        {
          "name": "stderr",
          "output_type": "stream",
          "text": [
            "Processing submissions: 7368142it [03:08, 37694.23it/s]"
          ]
        },
        {
          "name": "stdout",
          "output_type": "stream",
          "text": [
            "found ufc submission about khabib vs conor match\n"
          ]
        },
        {
          "name": "stderr",
          "output_type": "stream",
          "text": [
            "Processing submissions: 8287473it [03:32, 37818.34it/s]"
          ]
        },
        {
          "name": "stdout",
          "output_type": "stream",
          "text": [
            "found ufc submission about khabib vs conor match\n"
          ]
        },
        {
          "name": "stderr",
          "output_type": "stream",
          "text": [
            "Processing submissions: 8774205it [03:45, 38572.58it/s]"
          ]
        },
        {
          "name": "stdout",
          "output_type": "stream",
          "text": [
            "found ufc submission about khabib vs conor match\n"
          ]
        },
        {
          "name": "stderr",
          "output_type": "stream",
          "text": [
            "Processing submissions: 11717887it [05:00, 39645.42it/s]"
          ]
        },
        {
          "name": "stdout",
          "output_type": "stream",
          "text": [
            "found ufc submission about khabib vs conor match\n"
          ]
        },
        {
          "name": "stderr",
          "output_type": "stream",
          "text": [
            "Processing submissions: 11896525it [05:04, 38684.18it/s]"
          ]
        },
        {
          "name": "stdout",
          "output_type": "stream",
          "text": [
            "found ufc submission about khabib vs conor match\n"
          ]
        },
        {
          "name": "stderr",
          "output_type": "stream",
          "text": [
            "Processing submissions: 12575349it [05:22, 40353.70it/s]"
          ]
        },
        {
          "name": "stdout",
          "output_type": "stream",
          "text": [
            "found ufc submission about khabib vs conor match\n"
          ]
        },
        {
          "name": "stderr",
          "output_type": "stream",
          "text": [
            "Processing submissions: 12831881it [05:28, 39341.09it/s]"
          ]
        },
        {
          "name": "stdout",
          "output_type": "stream",
          "text": [
            "found ufc submission about khabib vs conor match\n"
          ]
        },
        {
          "name": "stderr",
          "output_type": "stream",
          "text": [
            "Processing submissions: 13433866it [05:43, 39982.03it/s]"
          ]
        },
        {
          "name": "stdout",
          "output_type": "stream",
          "text": [
            "found ufc submission about khabib vs conor match\n"
          ]
        },
        {
          "name": "stderr",
          "output_type": "stream",
          "text": [
            "Processing submissions: 13975028it [05:57, 39120.79it/s]\n"
          ]
        },
        {
          "name": "stdout",
          "output_type": "stream",
          "text": [
            "Total relevant submissions found: 200\n"
          ]
        }
      ],
      "source": [
        "save_file = open(os.path.join(save_dir, save_filename), mode=\"w\", encoding=\"utf-8\")\n",
        "ufc_sub_count = 0\n",
        "\n",
        "with open(submission_path, mode=\"r\", encoding=\"utf-8\") as data:\n",
        "    for line in tqdm(data, desc=\"Processing submissions\"): # used tqdm.tqdm, hence no progress bar\n",
        "        try:\n",
        "            line = json.loads(line)\n",
        "            if line[\"subreddit\"] == \"ufc\" and \"khabib\" in line[\"selftext\"].lower() and (\"conor\" in line[\"selftext\"].lower() or \"mcgregor\" in line[\"selftext\"].lower()) and line[\"created_utc\"] > target_timestamp:\n",
        "                print(\"found ufc submission about khabib vs conor match\")\n",
        "                ufc_sub_count += 1\n",
        "                json.dump(line, save_file)\n",
        "                save_file.write(\"\\n\") # for convenience, the last `\\n` will be removed later.\n",
        "                save_file.flush()\n",
        "        except json.JSONDecodeError as e:\n",
        "            print(f\"Error decoding JSON: {e}\")\n",
        "            continue\n",
        "\n",
        "print(f\"Total relevant submissions found: {ufc_sub_count}\")\n",
        "save_file.close()\n",
        "play_finish_sound() # play the sound when finished"
      ]
    },
    {
      "cell_type": "code",
      "execution_count": null,
      "id": "936773ff",
      "metadata": {
        "id": "936773ff",
        "outputId": "c5099863-facc-4566-c812-2108a3049608"
      },
      "outputs": [
        {
          "name": "stdout",
          "output_type": "stream",
          "text": [
            "<class 'pandas.core.frame.DataFrame'>\n",
            "RangeIndex: 200 entries, 0 to 199\n",
            "Data columns (total 77 columns):\n",
            " #   Column                         Non-Null Count  Dtype  \n",
            "---  ------                         --------------  -----  \n",
            " 0   archived                       200 non-null    bool   \n",
            " 1   author                         200 non-null    object \n",
            " 2   author_created_utc             197 non-null    float64\n",
            " 3   author_flair_background_color  3 non-null      object \n",
            " 4   author_flair_css_class         0 non-null      float64\n",
            " 5   author_flair_richtext          197 non-null    object \n",
            " 6   author_flair_template_id       0 non-null      float64\n",
            " 7   author_flair_text              0 non-null      float64\n",
            " 8   author_flair_text_color        3 non-null      object \n",
            " 9   author_flair_type              197 non-null    object \n",
            " 10  author_fullname                197 non-null    object \n",
            " 11  author_patreon_flair           197 non-null    float64\n",
            " 12  can_gild                       200 non-null    bool   \n",
            " 13  can_mod_post                   200 non-null    bool   \n",
            " 14  category                       0 non-null      float64\n",
            " 15  content_categories             0 non-null      float64\n",
            " 16  contest_mode                   200 non-null    bool   \n",
            " 17  created_utc                    200 non-null    int64  \n",
            " 18  distinguished                  0 non-null      float64\n",
            " 19  domain                         200 non-null    object \n",
            " 20  edited                         200 non-null    int64  \n",
            " 21  gilded                         200 non-null    int64  \n",
            " 22  gildings                       200 non-null    object \n",
            " 23  hidden                         200 non-null    bool   \n",
            " 24  id                             200 non-null    object \n",
            " 25  is_crosspostable               200 non-null    bool   \n",
            " 26  is_meta                        200 non-null    bool   \n",
            " 27  is_original_content            200 non-null    bool   \n",
            " 28  is_reddit_media_domain         200 non-null    bool   \n",
            " 29  is_robot_indexable             200 non-null    bool   \n",
            " 30  is_self                        200 non-null    bool   \n",
            " 31  is_video                       200 non-null    bool   \n",
            " 32  link_flair_background_color    200 non-null    object \n",
            " 33  link_flair_css_class           0 non-null      float64\n",
            " 34  link_flair_richtext            200 non-null    object \n",
            " 35  link_flair_template_id         0 non-null      float64\n",
            " 36  link_flair_text                0 non-null      float64\n",
            " 37  link_flair_text_color          200 non-null    object \n",
            " 38  link_flair_type                200 non-null    object \n",
            " 39  locked                         200 non-null    bool   \n",
            " 40  media                          0 non-null      float64\n",
            " 41  media_embed                    200 non-null    object \n",
            " 42  media_only                     200 non-null    bool   \n",
            " 43  no_follow                      200 non-null    bool   \n",
            " 44  num_comments                   200 non-null    int64  \n",
            " 45  num_crossposts                 200 non-null    int64  \n",
            " 46  over_18                        200 non-null    bool   \n",
            " 47  parent_whitelist_status        200 non-null    object \n",
            " 48  permalink                      200 non-null    object \n",
            " 49  pinned                         200 non-null    bool   \n",
            " 50  pwls                           200 non-null    int64  \n",
            " 51  quarantine                     200 non-null    bool   \n",
            " 52  removal_reason                 0 non-null      float64\n",
            " 53  retrieved_on                   200 non-null    int64  \n",
            " 54  score                          200 non-null    int64  \n",
            " 55  secure_media                   0 non-null      float64\n",
            " 56  secure_media_embed             200 non-null    object \n",
            " 57  selftext                       200 non-null    object \n",
            " 58  send_replies                   200 non-null    bool   \n",
            " 59  spoiler                        200 non-null    bool   \n",
            " 60  stickied                       200 non-null    bool   \n",
            " 61  subreddit                      200 non-null    object \n",
            " 62  subreddit_id                   200 non-null    object \n",
            " 63  subreddit_name_prefixed        200 non-null    object \n",
            " 64  subreddit_subscribers          200 non-null    int64  \n",
            " 65  subreddit_type                 200 non-null    object \n",
            " 66  suggested_sort                 0 non-null      float64\n",
            " 67  thumbnail                      200 non-null    object \n",
            " 68  thumbnail_height               3 non-null      float64\n",
            " 69  thumbnail_width                3 non-null      float64\n",
            " 70  title                          200 non-null    object \n",
            " 71  url                            200 non-null    object \n",
            " 72  whitelist_status               200 non-null    object \n",
            " 73  wls                            200 non-null    int64  \n",
            " 74  post_hint                      16 non-null     object \n",
            " 75  preview                        16 non-null     object \n",
            " 76  media_metadata                 0 non-null      float64\n",
            "dtypes: bool(21), float64(18), int64(10), object(28)\n",
            "memory usage: 91.7+ KB\n"
          ]
        },
        {
          "data": {
            "text/plain": [
              "None"
            ]
          },
          "metadata": {},
          "output_type": "display_data"
        },
        {
          "name": "stdout",
          "output_type": "stream",
          "text": [
            "['9m2q9s', '9m2qxc', '9m2r8s', '9m2rct', '9m2rnc', '9m2rtu', '9m2rz9', '9m2s1c', '9m2s5c', '9m2shf', '9m2sqn', '9m2ssy', '9m2svh', '9m2sz2', '9m2taz', '9m2twr', '9m2tx9', '9m2u49', '9m2ufd', '9m2vk3', '9m2vl2', '9m2vp2', '9m2vyp', '9m2vza', '9m2w9e', '9m2wkt', '9m2x17', '9m2xnh', '9m2xr6', '9m2xra', '9m2xte', '9m2xu4', '9m2ycy', '9m2z5y', '9m2zgw', '9m2zzd', '9m30ho', '9m319p', '9m31q5', '9m321n', '9m322j', '9m32bg', '9m3312', '9m33db', '9m34ar', '9m34rz', '9m3am4', '9m3d35', '9m3evd', '9m3ftz', '9m3i5a', '9m3kr9', '9m3mha', '9m3o91', '9m3p6c', '9m3qny', '9m3sm4', '9m3wt5', '9m41iy', '9m41nv', '9m44y2', '9m47cq', '9m49gt', '9m4ab6', '9m4d4a', '9m4hj2', '9m4hqz', '9m4kcq', '9m4luj', '9m4ra1', '9m4uc5', '9m52tu', '9m57nt', '9m59mg', '9m5fgg', '9m5r66', '9m5um9', '9m5yyj', '9m60zi', '9m63b0', '9m63i5', '9m6ej6', '9m6fbp', '9m6fmq', '9m6gf7', '9m6hpn', '9m6rm8', '9m6sfl', '9m6vmw', '9m70vw', '9m7315', '9m7975', '9m7dty', '9m7hwz', '9m7rvo', '9m7v3b', '9m7wxz', '9m8786', '9m8ina', '9m8mij', '9m8q6t', '9m8t76', '9m99cg', '9m9non', '9m9ryq', '9m9sqw', '9m9t8b', '9m9yni', '9ma9zb', '9mabx4', '9maftf', '9maslg', '9mb09g', '9mbg43', '9mbu5m', '9mbxvc', '9mc427', '9mc9p0', '9mcn9p', '9mczi3', '9md7v6', '9md7yc', '9mdf4o', '9mdpjp', '9mdst2', '9mef58', '9mf6s7', '9mf84f', '9mfjom', '9mfq38', '9mfx65', '9mg4rz', '9mg742', '9mhax1', '9mhbjh', '9mhc01', '9mhk4s', '9mhu5i', '9mi7eg', '9mirpp', '9misdu', '9mj4la', '9mj7fj', '9mjbxl', '9mjx26', '9mk1bs', '9mlbhg', '9mltrr', '9mml9p', '9mo26f', '9mo912', '9mol6q', '9mpl3m', '9mpzu5', '9mrgxp', '9msgpy', '9mswme', '9mt375', '9mtghv', '9mu22z', '9mu3ty', '9mu44w', '9mvlmx', '9mvran', '9mvysg', '9mw3u5', '9my0yu', '9my8pp', '9mye20', '9mz0rs', '9n40rd', '9n5boz', '9nb2f2', '9nb9e3', '9nc5yy', '9ncr9h', '9nfhed', '9nhk0r', '9nnjsj', '9non6n', '9ns1ho', '9ns7o6', '9nxi12', '9nxovn', '9o17ld', '9o6iim', '9obise', '9obu5r', '9omfiw', '9ontej', '9oouiy', '9opyeu', '9ozb4g', '9pkbkb', '9pvgnh', '9rpekv', '9rtfwc', '9s8od9', '9sehju', '9ss7u4']\n",
            "Total submissions: 200\n"
          ]
        }
      ],
      "source": [
        "ufc_229_submissions = pd.read_json(os.path.join(save_dir, save_filename), lines=True)\n",
        "display(ufc_229_submissions.info())\n",
        "\n",
        "ids = ufc_229_submissions[\"id\"].tolist()\n",
        "print(ids)\n",
        "print(f\"Total submissions: {len(ids)}\")"
      ]
    },
    {
      "cell_type": "markdown",
      "id": "fdc905f3",
      "metadata": {
        "id": "fdc905f3"
      },
      "source": [
        "## **Comment filtering**\n",
        "\n",
        "Using `id` attribute in submission files, we can filter each comment by matching their `link_id` (be sure to remove `t3_` prefix first) with target submission `id`."
      ]
    },
    {
      "cell_type": "code",
      "execution_count": null,
      "id": "ced0b503",
      "metadata": {
        "id": "ced0b503"
      },
      "outputs": [],
      "source": [
        "save_filename = \"ufc_comments.jsonl\"\n",
        "\n",
        "comment_count_by_sub_id = {id: 0 for id in ids}"
      ]
    },
    {
      "cell_type": "code",
      "execution_count": null,
      "id": "14e173c2",
      "metadata": {
        "colab": {
          "referenced_widgets": [
            "6e4cd65ac1104cbc9dbe9764b4c30f20"
          ]
        },
        "id": "14e173c2",
        "outputId": "31fb72ab-89b4-4102-b87a-8dc441b2460a"
      },
      "outputs": [
        {
          "data": {
            "application/vnd.jupyter.widget-view+json": {
              "model_id": "6e4cd65ac1104cbc9dbe9764b4c30f20",
              "version_major": 2,
              "version_minor": 0
            },
            "text/plain": [
              "Processing comments: 0it [00:00, ?it/s]"
            ]
          },
          "metadata": {},
          "output_type": "display_data"
        },
        {
          "name": "stdout",
          "output_type": "stream",
          "text": [
            "Total relevant comments found: 5327\n"
          ]
        }
      ],
      "source": [
        "with open(comment_path, mode=\"r\", encoding=\"utf-8\") as data:\n",
        "\n",
        "  save_file = open(os.path.join(save_dir, save_filename), mode=\"w\", encoding=\"utf-8\")\n",
        "\n",
        "  for line in tqdm(data, desc=\"Processing comments\"):\n",
        "    try:\n",
        "      line = json.loads(line)\n",
        "      if line[\"link_id\"][3:] in comment_count_by_sub_id.keys():\n",
        "        comment_count_by_sub_id[line[\"link_id\"][3:]] += 1\n",
        "        json.dump(line, save_file)\n",
        "        save_file.write(\"\\n\") # for convenience, the last `\\n` will be removed later.\n",
        "        save_file.flush()\n",
        "    except json.JSONDecodeError as e:\n",
        "        print(f\"Error decoding JSON: {e}\")\n",
        "        continue\n",
        "\n",
        "  save_file.close()\n",
        "\n",
        "print(f\"Total relevant comments found: {sum(comment_count_by_sub_id.values())}\")\n",
        "play_finish_sound() # play the sound when finished"
      ]
    },
    {
      "cell_type": "markdown",
      "id": "47bdbe1c",
      "metadata": {
        "id": "47bdbe1c"
      },
      "source": [
        "Here we filter to only comments that are not deleted nor removed."
      ]
    },
    {
      "cell_type": "code",
      "execution_count": null,
      "id": "8d11b303",
      "metadata": {
        "id": "8d11b303"
      },
      "outputs": [],
      "source": [
        "new_save_filename = \"ufc_filtered_comments.jsonl\"\n",
        "\n",
        "comments_with_body_count = 0\n",
        "\n",
        "comment_count_by_sub_id = {id: 0 for id in ids}"
      ]
    },
    {
      "cell_type": "code",
      "execution_count": null,
      "id": "30e1508e",
      "metadata": {
        "colab": {
          "referenced_widgets": [
            "3ca527c9aac540e292893145dbd6a192"
          ]
        },
        "id": "30e1508e",
        "outputId": "f0330aad-5984-489a-c7a9-283b75189511"
      },
      "outputs": [
        {
          "data": {
            "application/vnd.jupyter.widget-view+json": {
              "model_id": "3ca527c9aac540e292893145dbd6a192",
              "version_major": 2,
              "version_minor": 0
            },
            "text/plain": [
              "Filtering comments: 0it [00:00, ?it/s]"
            ]
          },
          "metadata": {},
          "output_type": "display_data"
        },
        {
          "name": "stdout",
          "output_type": "stream",
          "text": [
            "Total relevant comments with body found: 5023\n"
          ]
        }
      ],
      "source": [
        "filtered_comments = open(os.path.join(save_dir, new_save_filename), mode=\"w\", encoding=\"utf-8\")\n",
        "\n",
        "with open(os.path.join(save_dir, save_filename), mode=\"r\", encoding=\"utf-8\") as data:\n",
        "    for line in tqdm(data, desc=\"Filtering comments\"):\n",
        "        try:\n",
        "            line = json.loads(line)\n",
        "            if line[\"body\"].lower() != \"[deleted]\" and line[\"body\"].lower() != \"[removed]\":\n",
        "                comment_count_by_sub_id[line[\"link_id\"][3:]] += 1\n",
        "                json.dump(line, filtered_comments)\n",
        "                filtered_comments.write(\"\\n\") # for convenience, the last `\\n` will be removed later.\n",
        "                filtered_comments.flush()\n",
        "        except json.JSONDecodeError as e:\n",
        "            print(f\"Error decoding JSON: {e}\")\n",
        "            continue\n",
        "\n",
        "print(f\"Total relevant comments with body found: {sum(comment_count_by_sub_id.values())}\")\n",
        "filtered_comments.close()"
      ]
    },
    {
      "cell_type": "code",
      "execution_count": null,
      "id": "bb1fb748",
      "metadata": {
        "id": "bb1fb748",
        "outputId": "2db5d846-9ba0-4675-8c75-dea5b44ebb97"
      },
      "outputs": [
        {
          "name": "stdout",
          "output_type": "stream",
          "text": [
            "Total submissions with more than 40 comments: 23\n",
            "Total comments from filtered submissions: 2668\n"
          ]
        }
      ],
      "source": [
        "k = 40\n",
        "\n",
        "submissions_with_more_than_k_comments = {id: count for id, count in comment_count_by_sub_id.items() if count > k}\n",
        "print(f\"Total submissions with more than {k} comments: {len(submissions_with_more_than_k_comments)}\")\n",
        "\n",
        "print(f\"Total comments from filtered submissions: {sum(submissions_with_more_than_k_comments.values())}\")"
      ]
    },
    {
      "cell_type": "code",
      "execution_count": null,
      "id": "0099bf1f",
      "metadata": {
        "id": "0099bf1f",
        "outputId": "09d65ee3-2e54-4986-aeb2-5d54d1234328"
      },
      "outputs": [
        {
          "name": "stdout",
          "output_type": "stream",
          "text": [
            "Submission ID: 9m2rtu\n",
            "Comment count: 788\n",
            "Submission ID: 9m2taz\n",
            "Comment count: 88\n",
            "Submission ID: 9m2vp2\n",
            "Comment count: 43\n",
            "Submission ID: 9m2xra\n",
            "Comment count: 57\n",
            "Submission ID: 9m3312\n",
            "Comment count: 71\n",
            "Submission ID: 9m3sm4\n",
            "Comment count: 47\n",
            "Submission ID: 9m4hj2\n",
            "Comment count: 112\n",
            "Submission ID: 9m9yni\n",
            "Comment count: 69\n",
            "Submission ID: 9mbxvc\n",
            "Comment count: 58\n",
            "Submission ID: 9mfjom\n",
            "Comment count: 222\n",
            "Submission ID: 9mol6q\n",
            "Comment count: 50\n",
            "Submission ID: 9mpl3m\n",
            "Comment count: 46\n",
            "Submission ID: 9mpzu5\n",
            "Comment count: 55\n",
            "Submission ID: 9msgpy\n",
            "Comment count: 227\n",
            "Submission ID: 9mu3ty\n",
            "Comment count: 199\n",
            "Submission ID: 9mvlmx\n",
            "Comment count: 42\n",
            "Submission ID: 9mvysg\n",
            "Comment count: 68\n",
            "Submission ID: 9nnjsj\n",
            "Comment count: 62\n",
            "Submission ID: 9ns1ho\n",
            "Comment count: 138\n",
            "Submission ID: 9ns7o6\n",
            "Comment count: 43\n",
            "Submission ID: 9obu5r\n",
            "Comment count: 56\n",
            "Submission ID: 9omfiw\n",
            "Comment count: 78\n",
            "Submission ID: 9s8od9\n",
            "Comment count: 49\n"
          ]
        }
      ],
      "source": [
        "for id in submissions_with_more_than_k_comments.keys():\n",
        "    print(f\"Submission ID: {id}\")\n",
        "    print(f\"Comment count: {submissions_with_more_than_k_comments[id]}\")"
      ]
    },
    {
      "cell_type": "markdown",
      "id": "6a8e5d45",
      "metadata": {
        "id": "6a8e5d45"
      },
      "source": [
        "## **Finalise data to use**"
      ]
    },
    {
      "cell_type": "code",
      "execution_count": null,
      "id": "08f6a806",
      "metadata": {
        "colab": {
          "referenced_widgets": [
            "0cf3ada0b1f7415ab7fb7085ba060817",
            "4fd6d2ee224c4e828b240a055a8f53b4",
            "ded69600294e45dbb642658f5a2d898b",
            "b7a0bc9ae1b1413da515f219c51ef913",
            "0311dfc73b284bcd97f094f60b56424e",
            "d4affcacd1ce4e679a6dff1313d0951c",
            "44c9e56aa7614b2a993fbdf63c72f917",
            "cc4812a82b854ec7975c1662029a5ffb",
            "3f0beb3c77cb4852855607fefab93427",
            "3ee6d1e20ffd4083b9c2b92918057f3d",
            "2a8ecaa4d175437d819858406c77edff",
            "0d15b385dc4a4aca9c5fc8254311024b",
            "e5489847d7234dc895e6418b225f2342",
            "d68fcb1d644d4dcba3e928c6a7140b0a",
            "2ae9508f95b248f7881c912d1c555170",
            "8fb07fee1c4f4e76915934a34a2b57ff",
            "ba7260f36b264e8e987aabb4701fdbe9",
            "358d243bfc674b0984721f09113f2735",
            "357be5a1b5e9410396d8cc03152bc989",
            "7693c15941c54933b1f6d3852b1c98f9",
            "c0fc85d555904520a558211aa9c76a70",
            "054625248df34a9282c28a06cd39ed90",
            "ade7c49832394773993ed2a6fe3fccf2",
            "8e7e4c7096e744f481c1e11ac8b650d9"
          ]
        },
        "id": "08f6a806",
        "outputId": "df93e0a3-b90c-4bfd-f629-7dcc9fa14fe8"
      },
      "outputs": [
        {
          "data": {
            "application/vnd.jupyter.widget-view+json": {
              "model_id": "0cf3ada0b1f7415ab7fb7085ba060817",
              "version_major": 2,
              "version_minor": 0
            },
            "text/plain": [
              "Processing final submissions:   0%|          | 0/23 [00:00<?, ?it/s]"
            ]
          },
          "metadata": {},
          "output_type": "display_data"
        },
        {
          "data": {
            "application/vnd.jupyter.widget-view+json": {
              "model_id": "4fd6d2ee224c4e828b240a055a8f53b4",
              "version_major": 2,
              "version_minor": 0
            },
            "text/plain": [
              "Processing comments for submission: 9m2rtu: 0it [00:00, ?it/s]"
            ]
          },
          "metadata": {},
          "output_type": "display_data"
        },
        {
          "data": {
            "application/vnd.jupyter.widget-view+json": {
              "model_id": "ded69600294e45dbb642658f5a2d898b",
              "version_major": 2,
              "version_minor": 0
            },
            "text/plain": [
              "Processing comments for submission: 9m2taz: 0it [00:00, ?it/s]"
            ]
          },
          "metadata": {},
          "output_type": "display_data"
        },
        {
          "data": {
            "application/vnd.jupyter.widget-view+json": {
              "model_id": "b7a0bc9ae1b1413da515f219c51ef913",
              "version_major": 2,
              "version_minor": 0
            },
            "text/plain": [
              "Processing comments for submission: 9m2vp2: 0it [00:00, ?it/s]"
            ]
          },
          "metadata": {},
          "output_type": "display_data"
        },
        {
          "data": {
            "application/vnd.jupyter.widget-view+json": {
              "model_id": "0311dfc73b284bcd97f094f60b56424e",
              "version_major": 2,
              "version_minor": 0
            },
            "text/plain": [
              "Processing comments for submission: 9m2xra: 0it [00:00, ?it/s]"
            ]
          },
          "metadata": {},
          "output_type": "display_data"
        },
        {
          "data": {
            "application/vnd.jupyter.widget-view+json": {
              "model_id": "d4affcacd1ce4e679a6dff1313d0951c",
              "version_major": 2,
              "version_minor": 0
            },
            "text/plain": [
              "Processing comments for submission: 9m3312: 0it [00:00, ?it/s]"
            ]
          },
          "metadata": {},
          "output_type": "display_data"
        },
        {
          "data": {
            "application/vnd.jupyter.widget-view+json": {
              "model_id": "44c9e56aa7614b2a993fbdf63c72f917",
              "version_major": 2,
              "version_minor": 0
            },
            "text/plain": [
              "Processing comments for submission: 9m3sm4: 0it [00:00, ?it/s]"
            ]
          },
          "metadata": {},
          "output_type": "display_data"
        },
        {
          "data": {
            "application/vnd.jupyter.widget-view+json": {
              "model_id": "cc4812a82b854ec7975c1662029a5ffb",
              "version_major": 2,
              "version_minor": 0
            },
            "text/plain": [
              "Processing comments for submission: 9m4hj2: 0it [00:00, ?it/s]"
            ]
          },
          "metadata": {},
          "output_type": "display_data"
        },
        {
          "data": {
            "application/vnd.jupyter.widget-view+json": {
              "model_id": "3f0beb3c77cb4852855607fefab93427",
              "version_major": 2,
              "version_minor": 0
            },
            "text/plain": [
              "Processing comments for submission: 9m9yni: 0it [00:00, ?it/s]"
            ]
          },
          "metadata": {},
          "output_type": "display_data"
        },
        {
          "data": {
            "application/vnd.jupyter.widget-view+json": {
              "model_id": "3ee6d1e20ffd4083b9c2b92918057f3d",
              "version_major": 2,
              "version_minor": 0
            },
            "text/plain": [
              "Processing comments for submission: 9mbxvc: 0it [00:00, ?it/s]"
            ]
          },
          "metadata": {},
          "output_type": "display_data"
        },
        {
          "data": {
            "application/vnd.jupyter.widget-view+json": {
              "model_id": "2a8ecaa4d175437d819858406c77edff",
              "version_major": 2,
              "version_minor": 0
            },
            "text/plain": [
              "Processing comments for submission: 9mfjom: 0it [00:00, ?it/s]"
            ]
          },
          "metadata": {},
          "output_type": "display_data"
        },
        {
          "data": {
            "application/vnd.jupyter.widget-view+json": {
              "model_id": "0d15b385dc4a4aca9c5fc8254311024b",
              "version_major": 2,
              "version_minor": 0
            },
            "text/plain": [
              "Processing comments for submission: 9mol6q: 0it [00:00, ?it/s]"
            ]
          },
          "metadata": {},
          "output_type": "display_data"
        },
        {
          "data": {
            "application/vnd.jupyter.widget-view+json": {
              "model_id": "e5489847d7234dc895e6418b225f2342",
              "version_major": 2,
              "version_minor": 0
            },
            "text/plain": [
              "Processing comments for submission: 9mpl3m: 0it [00:00, ?it/s]"
            ]
          },
          "metadata": {},
          "output_type": "display_data"
        },
        {
          "data": {
            "application/vnd.jupyter.widget-view+json": {
              "model_id": "d68fcb1d644d4dcba3e928c6a7140b0a",
              "version_major": 2,
              "version_minor": 0
            },
            "text/plain": [
              "Processing comments for submission: 9mpzu5: 0it [00:00, ?it/s]"
            ]
          },
          "metadata": {},
          "output_type": "display_data"
        },
        {
          "data": {
            "application/vnd.jupyter.widget-view+json": {
              "model_id": "2ae9508f95b248f7881c912d1c555170",
              "version_major": 2,
              "version_minor": 0
            },
            "text/plain": [
              "Processing comments for submission: 9msgpy: 0it [00:00, ?it/s]"
            ]
          },
          "metadata": {},
          "output_type": "display_data"
        },
        {
          "data": {
            "application/vnd.jupyter.widget-view+json": {
              "model_id": "8fb07fee1c4f4e76915934a34a2b57ff",
              "version_major": 2,
              "version_minor": 0
            },
            "text/plain": [
              "Processing comments for submission: 9mu3ty: 0it [00:00, ?it/s]"
            ]
          },
          "metadata": {},
          "output_type": "display_data"
        },
        {
          "data": {
            "application/vnd.jupyter.widget-view+json": {
              "model_id": "ba7260f36b264e8e987aabb4701fdbe9",
              "version_major": 2,
              "version_minor": 0
            },
            "text/plain": [
              "Processing comments for submission: 9mvlmx: 0it [00:00, ?it/s]"
            ]
          },
          "metadata": {},
          "output_type": "display_data"
        },
        {
          "data": {
            "application/vnd.jupyter.widget-view+json": {
              "model_id": "358d243bfc674b0984721f09113f2735",
              "version_major": 2,
              "version_minor": 0
            },
            "text/plain": [
              "Processing comments for submission: 9mvysg: 0it [00:00, ?it/s]"
            ]
          },
          "metadata": {},
          "output_type": "display_data"
        },
        {
          "data": {
            "application/vnd.jupyter.widget-view+json": {
              "model_id": "357be5a1b5e9410396d8cc03152bc989",
              "version_major": 2,
              "version_minor": 0
            },
            "text/plain": [
              "Processing comments for submission: 9nnjsj: 0it [00:00, ?it/s]"
            ]
          },
          "metadata": {},
          "output_type": "display_data"
        },
        {
          "data": {
            "application/vnd.jupyter.widget-view+json": {
              "model_id": "7693c15941c54933b1f6d3852b1c98f9",
              "version_major": 2,
              "version_minor": 0
            },
            "text/plain": [
              "Processing comments for submission: 9ns1ho: 0it [00:00, ?it/s]"
            ]
          },
          "metadata": {},
          "output_type": "display_data"
        },
        {
          "data": {
            "application/vnd.jupyter.widget-view+json": {
              "model_id": "c0fc85d555904520a558211aa9c76a70",
              "version_major": 2,
              "version_minor": 0
            },
            "text/plain": [
              "Processing comments for submission: 9ns7o6: 0it [00:00, ?it/s]"
            ]
          },
          "metadata": {},
          "output_type": "display_data"
        },
        {
          "data": {
            "application/vnd.jupyter.widget-view+json": {
              "model_id": "054625248df34a9282c28a06cd39ed90",
              "version_major": 2,
              "version_minor": 0
            },
            "text/plain": [
              "Processing comments for submission: 9obu5r: 0it [00:00, ?it/s]"
            ]
          },
          "metadata": {},
          "output_type": "display_data"
        },
        {
          "data": {
            "application/vnd.jupyter.widget-view+json": {
              "model_id": "ade7c49832394773993ed2a6fe3fccf2",
              "version_major": 2,
              "version_minor": 0
            },
            "text/plain": [
              "Processing comments for submission: 9omfiw: 0it [00:00, ?it/s]"
            ]
          },
          "metadata": {},
          "output_type": "display_data"
        },
        {
          "data": {
            "application/vnd.jupyter.widget-view+json": {
              "model_id": "8e7e4c7096e744f481c1e11ac8b650d9",
              "version_major": 2,
              "version_minor": 0
            },
            "text/plain": [
              "Processing comments for submission: 9s8od9: 0it [00:00, ?it/s]"
            ]
          },
          "metadata": {},
          "output_type": "display_data"
        }
      ],
      "source": [
        "final_submission_file = open(os.path.join(save_dir, \"ufc_final_submissions.jsonl\"), mode=\"w\", encoding=\"utf-8\")\n",
        "final_comment_file = open(os.path.join(save_dir, \"ufc_final_comments.jsonl\"), mode=\"w\", encoding=\"utf-8\")\n",
        "\n",
        "comments = pd.read_json(os.path.join(save_dir, new_save_filename), lines=True)\n",
        "\n",
        "for id in tqdm(submissions_with_more_than_k_comments.keys(), desc=\"Processing final submissions\"):\n",
        "    submission = ufc_229_submissions[ufc_229_submissions[\"id\"] == id].to_dict(orient=\"records\")[0]\n",
        "    json.dump(submission, final_submission_file)\n",
        "    final_submission_file.write(\"\\n\")\n",
        "    final_submission_file.flush()\n",
        "\n",
        "    submission_comments = comments[comments[\"link_id\"] == f\"t3_{id}\"]\n",
        "    for _, comment in tqdm(submission_comments.iterrows(), desc=f\"Processing comments for submission: {id}\"):\n",
        "        comment = comment.to_dict()\n",
        "        json.dump(comment, final_comment_file)\n",
        "        final_comment_file.write(\"\\n\")\n",
        "        final_comment_file.flush()"
      ]
    },
    {
      "cell_type": "markdown",
      "id": "4a3d5d9e",
      "metadata": {
        "id": "4a3d5d9e"
      },
      "source": [
        "## **Summary Generation**"
      ]
    },
    {
      "cell_type": "code",
      "source": [
        "!wget https://raw.githubusercontent.com/barnabyashford/llm-powered-social-listener/refs/heads/main/ufc_final_submissions.jsonl -O submissions.jsonl\n",
        "!wget https://raw.githubusercontent.com/barnabyashford/llm-powered-social-listener/refs/heads/main/ufc_final_comments.jsonl -O comments.jsonl"
      ],
      "metadata": {
        "colab": {
          "base_uri": "https://localhost:8080/"
        },
        "id": "bX1B97N_maDD",
        "outputId": "85e841be-7a59-4bbd-b407-8c1330e6d639"
      },
      "id": "bX1B97N_maDD",
      "execution_count": 3,
      "outputs": [
        {
          "output_type": "stream",
          "name": "stdout",
          "text": [
            "--2025-04-20 19:46:20--  https://raw.githubusercontent.com/barnabyashford/llm-powered-social-listener/refs/heads/main/ufc_final_submissions.jsonl\n",
            "Resolving raw.githubusercontent.com (raw.githubusercontent.com)... 185.199.108.133, 185.199.109.133, 185.199.110.133, ...\n",
            "Connecting to raw.githubusercontent.com (raw.githubusercontent.com)|185.199.108.133|:443... connected.\n",
            "HTTP request sent, awaiting response... 200 OK\n",
            "Length: 70759 (69K) [text/plain]\n",
            "Saving to: ‘submissions.jsonl’\n",
            "\n",
            "submissions.jsonl   100%[===================>]  69.10K  --.-KB/s    in 0.01s   \n",
            "\n",
            "2025-04-20 19:46:20 (4.76 MB/s) - ‘submissions.jsonl’ saved [70759/70759]\n",
            "\n",
            "--2025-04-20 19:46:21--  https://raw.githubusercontent.com/barnabyashford/llm-powered-social-listener/refs/heads/main/ufc_final_comments.jsonl\n",
            "Resolving raw.githubusercontent.com (raw.githubusercontent.com)... 185.199.108.133, 185.199.110.133, 185.199.111.133, ...\n",
            "Connecting to raw.githubusercontent.com (raw.githubusercontent.com)|185.199.108.133|:443... connected.\n",
            "HTTP request sent, awaiting response... 200 OK\n",
            "Length: 3337022 (3.2M) [text/plain]\n",
            "Saving to: ‘comments.jsonl’\n",
            "\n",
            "comments.jsonl      100%[===================>]   3.18M  --.-KB/s    in 0.05s   \n",
            "\n",
            "2025-04-20 19:46:21 (58.3 MB/s) - ‘comments.jsonl’ saved [3337022/3337022]\n",
            "\n"
          ]
        }
      ]
    },
    {
      "cell_type": "code",
      "source": [
        "cwd = os.getcwd()\n",
        "submission_filepath = os.path.join(cwd, \"submissions.jsonl\")\n",
        "comment_filepath = os.path.join(cwd, \"comments.jsonl\")"
      ],
      "metadata": {
        "id": "-bQhBa5Bnltm"
      },
      "id": "-bQhBa5Bnltm",
      "execution_count": 4,
      "outputs": []
    },
    {
      "cell_type": "code",
      "source": [
        "submissions = pd.read_json(submission_filepath, lines=True)\n",
        "comments = pd.read_json(comment_filepath, lines=True)"
      ],
      "metadata": {
        "id": "CBE8y1C6oY1Y"
      },
      "id": "CBE8y1C6oY1Y",
      "execution_count": 5,
      "outputs": []
    },
    {
      "cell_type": "code",
      "source": [
        "def form_reddit_threads(submission, comments_df):\n",
        "    \"\"\"\n",
        "    Print Reddit submissions and their comments in a thread-like structure\n",
        "    using the parent_id attribute to connect comments to their parents.\n",
        "    \"\"\"\n",
        "    # Process each submission\n",
        "    # Print the submission like a Reddit post\n",
        "    submission_text = f\"SUBMISSION: {submission['title']}\\n\\n{submission['selftext']}\\n\\nCOMMENTS:\\n\\n\"\n",
        "    # + '-'*80 + \"\\n\" \\\n",
        "    # + submission['selftext'] + \"\\n\" \\\n",
        "    # + '-'*80 + \"\\n\" \\\n",
        "\n",
        "    # Get all comments for this submission\n",
        "    submission_id = f\"t3_{submission['id']}\"  # Reddit prefixes submission IDs with t3_\n",
        "    submission_comments = comments_df[comments_df['link_id'] == submission_id].copy()\n",
        "\n",
        "    if len(submission_comments) == 0:\n",
        "      return submission_text\n",
        "\n",
        "    # Create a map for faster lookups\n",
        "    comment_map = {f\"t1_{comment['id']}\": comment for _, comment in submission_comments.iterrows()}\n",
        "\n",
        "    # Keep track of processed comments to avoid duplicates\n",
        "    processed_comments = set()\n",
        "\n",
        "    # Add a depth attribute to each comment\n",
        "    submission_comments['depth'] = 0\n",
        "\n",
        "    # Find top-level comments (those whose parent_id matches the submission_id)\n",
        "    top_level_comments = submission_comments[submission_comments['parent_id'] == submission_id]\n",
        "\n",
        "    # For each top-level comment, print it and its replies recursively\n",
        "    for _, comment in top_level_comments.iterrows():\n",
        "        submission_text = add_comment_thread(submission_text, comment, comment_map, processed_comments, depth=0)\n",
        "\n",
        "    return submission_text\n",
        "\n",
        "def add_comment_thread(text, comment, comment_map, processed_comments, depth=0):\n",
        "    \"\"\"Recursively print a comment and its replies with proper indentation\"\"\"\n",
        "    comment_id = f\"t1_{comment['id']}\"\n",
        "\n",
        "    # Skip if already processed to avoid duplication\n",
        "    if comment_id in processed_comments:\n",
        "        return text\n",
        "\n",
        "    processed_comments.add(comment_id)\n",
        "\n",
        "    # Print the comment with appropriate indentation\n",
        "    indent = \"    \" * depth\n",
        "    text += f\"{indent}> {comment['body']}\\n\"\n",
        "\n",
        "    # Find and print all child comments\n",
        "    for potential_child_id, potential_child in comment_map.items():\n",
        "        if potential_child['parent_id'] == comment_id:\n",
        "            text = add_comment_thread(text, potential_child, comment_map, processed_comments, depth + 1)\n",
        "\n",
        "    return text\n",
        "\n",
        "# Example usage:\n",
        "submission_index = 0\n",
        "submission = submissions.iloc[submission_index]\n",
        "print(form_reddit_threads(submission, comments))"
      ],
      "metadata": {
        "colab": {
          "base_uri": "https://localhost:8080/"
        },
        "id": "jiWo5H8uFM87",
        "outputId": "e526960e-e80a-462b-8302-47193229dd55"
      },
      "id": "jiWo5H8uFM87",
      "execution_count": 52,
      "outputs": [
        {
          "output_type": "stream",
          "name": "stdout",
          "text": [
            "SUBMISSION: Gotta realize this was real beef.\n",
            "\n",
            "Conor’s side said so much disrespectful shit Conor stated if khabib had gotten off the bus he would be a dead man and Conor in jail. Conor also stated he would go after khabib in the world if they would not face in the octagon . Everyone saying khabib is disgusting do you not realize the bus incident fixed or not is on the same level as this . You threaten a mans personal life , disrespect his family and parents . Don’t be surprised he and his countrymen threw some punches after the fight. Unprofessional ?sure . Surprising ? Nope. \n",
            "\n",
            "COMMENTS:\n",
            "\n",
            "> Exactly this.\n",
            "> Dawg you cant argue with these folk dawg but it is true \n",
            "    > Dawg\n",
            "        > Dawg?\n",
            "> Agteed\n",
            "> Talk shit get hit\n",
            "    > If you claim to be a gangster, talking gangster shit, you better act like a gangster and back it up.\n",
            "        > I mean McGregor CAN back it up though. No matter what there is always a person (or ppl) that can take you down.\n",
            "> That’s what the fight was for fuck face. Not post-fight redemption like an idiot. \n",
            "    > No the fight was for the sport. The shit after it was for the beef.\n",
            "        > Correct.\n",
            "        > The beef only happened because of the shit talking that a fight brings. These men had no quarrels before this whole thing.\n",
            "> 2 wrongs doesn't make a right. Khabib as much shit he went through, isn't going to do him any favors.\n",
            "\n",
            "Now we wait what they will do to him now. I guess Tony Ferguson going to be fighting whoever Diaz vs Poirer for the championship IMO.\n",
            "    > True, but 1 wrong incites another\n",
            "\n",
            "&amp;#x200B;\n",
            "> I'm not surprised motherfuckers.\n",
            "> Real shit \n",
            "> Conor had it coming honestly \n",
            "    > Conor will have the last laugh though when Khabib is stripped of his title, banned from the UFC, and kicked out of the US. \n",
            "        > Still got his ass whipped tho\n",
            "            > True. Hope it was worth it for him though because he's got some pretty big consequences about to rain down on him. \n",
            "                > Even if that happens... he'll probably be able to console himself with his millions of dollars and status as a national hero.  \n",
            "                    > Does anyone know what people in Russia are saying about this?\n",
            "                        > Even split. Slavic Russians are generally racist pieces of shit so they’re using this as an opportunity to shit on the Caucuses. \n",
            "                    > &gt; millions of dollars\n",
            "\n",
            "Didn't they withhold his prize cheque?\n",
            "        > McGregor tried to attack aldo\n",
            "\n",
            "McGregor attacked Diaz with a\n",
            "Bottle\n",
            "\n",
            "McGregor attacked a bus with a weapon and injured two fighters, one in the eye one in the face.   He pleaded\n",
            "Guilty in court to this.  \n",
            "\n",
            "McGregor is a repeated criminal, and allowed to fight for titles and in the US.\n",
            "\n",
            "Nothing major will happen to Khabib.  \n",
            "He will get a fine.  Maybe a suspension.  And they will fight again. \n",
            "            > And he will win, again. \n",
            "                > No.  He won’t.\n",
            "                    > Uh did you see the same fight as us? Conor got owned hard\n",
            "                        > Oh.  I was saying Conor won’t win.  We agree lol\n",
            "                            > Ah your reply was a bit confusing. \n",
            "                        > 6 months he can be ready. \n",
            "            > He also swung on (kicked at) Khabib at the weigh in.\n",
            "            > None of that took place during an international, hugely participated in pay to view event. Dana was furious, UFC will save face. \n",
            "\n",
            "Khabib is fucked, he was by far the better fighter but threw it all away.\n",
            "                > Dana is not truly furious. Dana has  a greed boner poking through his shorts. He knows exactly what to do next. He’s a fucking promoter after all. \n",
            "        > Did that happen for Conor after the bus incident or when he jumped the ring at the bellator fight? Fuck outta here with this shit.\n",
            "> Exactly, Conor has been stirring up the shit pot for too long.\n",
            "> What Khabib did was unprofessional but no one can deny that he absolutely schooled Conor in the ring\n",
            "    > I wouldn't say schooled him. He definitely beat him, but McGregor, for someone who supposedly can't wrestle, gave a good account of himself. \n",
            "\n",
            "It wasn't the Barboza-esque one sided wrestle fuck that most people predicted.\n",
            "        > he won 3/4 rounds, made him tap, while McGregor was talking mad trash the whole time even during the fight. You can't give a good account and tap when u say that much shit and not be considered schooled.\n",
            "            > idk, I thought it looked a fairly competitive fight, although Khabib was definitely winning. It wasn't what I'd consider being *schooled*.\n",
            "                > Dude, in what way was this fight competitive? Conor was on his ass with Khabib on top going hard for 3/4 rounds, and Khabib even landed by far the most solid punches the standup for the entire fight.\n",
            "\n",
            "Conor got a few jabs in, I guess?\n",
            "                    > And they all looked pretty weak\n",
            "                > dude did you even watch the same fight as us?\n",
            "                    > Look guys, I'm very tired atm, it's 7 am for me and I haven't slept at all. I'll re-watch the fight and get back to ye later. \n",
            "\n",
            "That's just what I took from it.\n",
            "                        > Dude Khabib knocked down Conor with a lightning hook. Was surprising as fuck.\n",
            "                    > u/LiquidBurnss I re-watched the fight after getting a nights sleep, and yeah I agree my previous comments were stupid. It was definitely more one sided than I remembered\n",
            "                        > ok dude glad you rewatched it \n",
            "                > &gt; idk, I thought it looked a fairly competitive fight\n",
            "\n",
            "Are you sure you were watching the right fight?\n",
            "                    > Same people that were saying it was a competitive fight vs Maywhether. Only reason McGregor even did good in the first three rounds vs him was because of all those illegal hits on top of his head..\n",
            "                        > u/Fat314 u/NihiloZero Hey lads, I just re-watched the fight, this time while not sleep deprived, and yeah it was a lot more one sided than I remembered. \n",
            "                            > It can sometimes be difficult assessing a fight in real time because the viewer might also be amped up and optimistic and whatnot.  \n",
            "        > Conner was dominated on the ground. There’s no way around that. He had 1-2 slips to half guard and defended a few takedowns. The fact is besides the 3rd round (which wasn’t even that good for Conner) he spent most of the fight on his back. When he wasn’t on his back he got choked out. \n",
            "            > I agree that Khabib was on top of him for the majority of the fight, but Khabib didn't get off as much offence, compared to what we're used to seeing imo. He wasn't raining down punches and elbows like he did vs Barboza. He was tying up Khabibs hands well and wasn't allowing him to smesh.\n",
            "\n",
            "I'll definitely have to watch it again, I'm haven't slept and it's 7:00 am here, so might not be fully remembering all that happened, but did feel McGregor survived Khabib's wrestling a lot better than most other people.\n",
            "                > Did you notice Connor holding Khabib’s pants and gloves though? As well as holding the cage with his toes? \n",
            "            > Neck crank* he didn’t get choked out\n",
            "                > Well, your not wrong. \n",
            "        > It was significantly one sided \n",
            "    > Still hasnt lost a round.\n",
            "        > He lost round 3\n",
            "            > Agreed, Conor took round 3. Almost looked like a comeback there. But Khabib undeniably smashed him.\n",
            "            > No doubt that he lost round three, but he dominated all others. \n",
            "            > On the back of a lot of cheating by Connor tbh, it's a loss with an asterisk imo\n",
            "                > My respect for Herb is gone after that late stoppage AND this so close together. Khabib kept looking at him and telling him hes glove holding, shorts grabbing and fence-holding, not to mention the illegal knee and Herb didnt say shit about any of it. Really disappointed with shit the ufcs pulling lately.\n",
            "                    > Herb low key bet money on conor and was hoping he would get up haha. But seriously, if I can see the illegal knees, glove grabbing and toes in fence on my screen than he should definitely be able to see it being right up next to them and Khabib was even telling him.  \n",
            "                        > Ah by late stoppage I didnt mean this fight (connor was blocking an okayish amount so I can see it not being stopped), I meant the fight pretty recently where Herb let CB dolloway take a beating so extensively he had the commentators screaming at him to stop the fight. But yea man its a shame Khabib couldnt keep his calm and bring that shit up about the blatant no-calls. He couldve just said fuck you to mcgregor, called Dana out for using horrible behavior to promote the fight and noted the favoritism refereeing by Herb and wouldve had people very happy with him. \n",
            "                            > Yeah, unfortunate that he let his emotions get the better of him. I think Conor was defending okay so not an issue there and theres a lot on the line. Just all the other little things. \n",
            "                            > Did Herb ever give an explination about the CB Fight?\n",
            "                        > I think the UFC has taken a pretty clear stance that McGregor IS bigger than UFC and he will be given special treatment. It’s probly 100% financial reasons too\n",
            "                    > And if the ref doesn't call it, the judges allegedly can't deduct points either but it's entirely possible Dean had a hand on his shoulder to give some leeway even if it wasn't pointed at a result.\n",
            "                    > Herb should have stood them up a couple times when Khabib wasn't doing anything for 30 seconds at a time early in the fight. I've seen him do it probably 20 times to other fighters. You got to be fair overall sometimes.\n",
            "                > What cheating?\n",
            "                    > Grabbing the shorts, illegal knee and grabbing the fence with his feet twice in a row (he got called on it, then a second later did it again). That is all I saw but I am not an expert. However even these little things are enough to change the outcome of a round, i.e. grabbing shorts seems fairly harmless, but if by doing so he stops a takedown and if that takedown is the difference between an even round and being ground and pounded, it's easy to see how that can effect the outcome of a round.\n",
            "                        > Fair enough\n",
            "            > Yup. Won the fight though.\n",
            "            > You're overvaluing a small advantage in strikes that meant nothing over controlling most of the round\n",
            "                > The judges literally gave Conor round 3 lol look it up. \n",
            "                    > Judges don't always get it right, either. , I'd need to watch it again but I still feel Kahbib had the edge in round 3 but conor got his ass kicked slightly less which may have made him look better. \n",
            "                        > I think McGregor won the round because he had 2 takedown defenses vs giving up 1 takedown. However, it was still a really impressive round by Khabib standing up with connor and fighting the fight connor wanted\n",
            "            > Let’s assume he lost round 3, that’s 1 round lost in 27 fights... Amazing. \n",
            "                > the only round he's ever dropped was to Conor McGregor, and he was in control the whole time. He's in a league of his own\n",
            "                    > Hard to say that you lost a round to a cheat.\n",
            "\n",
            "Was hoping for more from Connor though.\n",
            "                        > that makes it even more impressive for khabib\n",
            "            > Conor did not take round 3. Your heart just wants to believe it. The takedown alone scored the round for Khabib.\n",
            "                > I believe so too, but the official scorecard leaked and all three judges gave the third round to Conor. \n",
            "                > Khabib did very little damage in the third. The takedowns were mostly stopped and khabib didnt manage to do much with conor pushed against the fence. Partly to do with the glove holding but not entirely.\n",
            "The striking I'd say favoured Conor in the third round too. I thought conor took it (it was confirmed by the judges thinking the same) and thought Conor looked okay in the fourth until the final takedown that ended the fight. The straight kicks to the body in the third and fourth rounds seemed to be working for Conor but his luck ran out in the end.\n",
            "\n",
            "\n",
            "Edit: for the record tho I think both guys were a bit tired from the second round lol. Khabib absolutely went to town hammering Conor. Its probably why the takedowns were stuffed a bit easier in the third.\n",
            "                    > Rewatch round 3 without sound and crowd cheering at anything Conor throws (land or miss). Khabib won that round even without the take down. Conor just seemed active in the beginning so the crowd got excited. He got defeated in that round, by round 4 Conor didn’t want anymore and gave his back to khabib like he did to Diaz for the choke. \n",
            "            > By design. He wanted Conor to use up the last of his juice and then get mauled in the 4th and 5th. Worked like a charm.\n",
            "            > Add up all the points reduction Conor should’ve had and it’s definitely khabibs round too \n",
            "            > lol round 3? what do you mean he lost that  round HAHAHAHAH. conor couldnt even stand  straight anymore. \n",
            "        > except he did lose a round\n",
            "    > &gt; no one can deny that he absolutely schooled Conor in the ring\n",
            "\n",
            "That's true, but... ***HIS CHIN IS STILL UNTESTED!***\n",
            "    > For real. Made Conor look like a bitch\n",
            "        > Would hardly say he made him look like a bitch. He was in control, yes but it wasn't easy.,\n",
            "            > When you look at how much shit Conor was saying and how he thought he was untouchable, yeah he made him look like a bitch\n",
            "                > Conor always hypes himself up and talks shit despite not being the favourite \n",
            "                    > and then he was made to look like a bitch. Don’t talk the talk if you can’t walk the walk amirite\n",
            "                        > Well Mcgregor is an entertainer not a fighter anymore\n",
            "            > Conor did absolutely nothing. He was in so far over his head it was obvious.\n",
            "                > He landed some strikes I wouldn't call that nothing. He held him off for four rounds. \n",
            "\n",
            "Taken out in the first couple of rounds I would agree but he still held his own for a while against arguably the best MMA fighter atm \n",
            "                    > Typical. Conor fan arguing that barely surviving is acceptable for a two class champ.\n",
            "\n",
            "He got smeshed. Schooled.\n",
            "\n",
            "\n",
            "                        > Yeah he did get schooled. But he didn't look like a bitch. Do you know what being a bitch is? \n",
            "\n",
            "Have you ever even been in a real fight lol \n",
            "                        > Yeah he did get schooled. But he didn't look like a bitch. Do you know what being a bitch is? \n",
            "\n",
            "Have you ever even been in a real fight lol \n",
            "                            > Sure did look like a bitch.\n",
            "\n",
            "You want to fight?\n",
            "                                > Haha ok mucka \n",
            "                                    > Yes or No?\n",
            "                                        > Fuck off ya autistic cunt! \n",
            "                                            > That’s what I thought. \n",
            "                                                > Schooled.\n",
            "        > He makes everyone look like a bitch \n",
            "            > I for one, am bitch\n",
            "                > Are you a Silly Bitch?\n",
            "        > He slapped him. That's the most disrespectful thing I can imagine. Your getting you hand to his face, instead of punching, you choose to humiliate rather then cause damage. \n",
            "            > Khabibi slapped him and then showed conor his open palm. “Why you eat slep??”\n",
            "    > I knew Khabib had a good Ground &amp; Pound game but *damn* he served him.\n",
            "        > That second round right hook.. holy crap. The king is dead.\n",
            "            > That look on Conor's face after the tap out said it all.\n",
            "                > Wat da fook anlm I doin\n",
            "                > Dude just sat there defeated. Reminded me of Chael in his second fight against Silva after throwing the spinning back fist. Lol. \n",
            "            > *Where's your crown King Nothing?*\n",
            "    > It is a shame that Khabib stooped to Connors level. \n",
            "    > What exactly did Conor say?? I’ve been trying to find it\n",
            "    > Not schooled more like destroyed conor. Not on the same level.\n",
            "    > Then hopped out and schooled his crew lmao \n",
            "    > Khabib is undoubtedly a top 2 pound for pound fighter in the UFC now (he's number 1 if you want to exclude jon jones) but it sucks that he just threw his career away like this. Honestly I expect the state commission to fine him a lot and suspend him for a while. We're talking about a commission that wanted to suspend Nick Diaz for 10 years for smoking weed. He's not going to get star treatment like conor did with the bottle incident. I don't know how likely it is, but this could be Khabibs last fight in the UFC. \n",
            "> 100% agree.\n",
            "\n",
            "I said it once already, but Dana better open his eyes and see that fueling this fire was not worth the PPV money. This hate is real, runs deep, and isn’t going anywhere.\n",
            "\n",
            "Neither man’s actions were appropriate (Conor with the bus and Kabib with this) but unfortunately Kabib comes off looking slimy because he attacked on a live PPV with millions watching. A bit different than the barrier incident in terms of sets of eyes. \n",
            "    > Dude a REMATCH is worth at least 3 million buys, fuck yes it is. This is gonna be streamed on every single news site for days and months and talked about for ages.\n",
            "\n",
            "Give Conor another fat check but obviously he lost so Khabib too... but yeah, the money is so worth it. \n",
            "        > What rematch, Conor is a sellout. Too much time doing cocaine and hookers next to his kid. Khabib rocked him in every way. He's not 2/10ths of khabib inside the octagon. lose lose lose\n",
            "            > You gotta milk him for every dime he's worth\n",
            "            > Doesn't matter, this is $$$$$.\n",
            "            > DUDE IT'S MONEY man.... money money money, it's all about that money \n",
            "            > Hookers and cocaine next to his kids? Where do you guys get this shit from? \n",
            "                > In a shocking turn of events, Indigo71 is one of Connor's kids.\n",
            "                    > Aye ded, is that yeh?\n",
            "                > Imagine all the idiots who actually upvoted that. Bad enough to have that opinion, even worse for  a group of people to agree with it blindly.\n",
            "            > But you gotta milk him before people not into MMA realize Connor is  done.\n",
            "            > Don't exaggerate. He's not 1/5th the fighter Khabib is. \n",
            "            > Ha Ha! Next to his kid. Your tripping 😬\n",
            "        > I agree that a rematch would be huge. The problem I see is what kind of rematch is it? If Khabib gets to keep the belt and defend it what message does that send about what he did after the fight? Up until he jumped at the trainer he was the undisputed champion and the darling of the UFC. I dont have a dog in this fight but I cant see a way he gets to keep the title. Him going after a trainer, and members of his team (which I guess means just training partners he takes to the fight) entering the ring to attack Conor cant happen from a security standpoint. All someone needed was a key or any sharp object and this a very different story tonight. So long story short, I believe the UFC HAS to send a strong message that this is not wanted or condoned. \n",
            "            > Look money.... that's the only truth in this world. \n",
            "Jokes aside... \n",
            "That being said, UFC shouldn't strip Khabib.... come on bruh, he worked hard for that.\n",
            "Suspend the dude for 6 months, schedule a rematch and ban his teammates , I agree with that, those team mates should be banned from UFC, one hundred percent. \n",
            "                > I dont think he should be stripped either, but the NSGC will be the one to steer this ship.\n",
            "                    > Oh..... FUCCCKKKKKKKK.... NSGC are gonna fuck him up \n",
            "                > If you suspend him and his first match is title defense - was he even suspended in any meaningful way?\n",
            "                    > No, but that's the whole point, they \"suspended\" Conor after the Bellator event, do the same here. \n",
            "\n",
            "Let Khabib take out his anger and frustration on some bears, some trees in the mountains, let him do whatever he does in his free time, running with Russian tigers or some shit, send a big contract for UFC 2?? in 6-8 months against Conor, with this time better pay like Diaz asked for, then fight blah blah blah, and whatever happens after that happens. \n",
            "                        > But connor was not a champion then iirc? If you suspend someone who is not champion it makes sense as they risk not being eligible for pissible title fight as those fights do not happen on weekly basis. Suspending a champion without taking his title makes no sense as title fight cant happen without him. You are giving him vacation, not suspension.\n",
            "                            > You say po-tay-toe, I saw po-tat-toe, it really doesn't matter.\n",
            "\n",
            "Khabib goes through the courts system, he should be fine overall, his team mates get banned from the UFC, they get their licences revoked, Khabib gets \"suspended\" and let him work off his anger, then wait 6 months and let him come back.\n",
            "\n",
            "I really couldn't care less what Khabib did, if Conor can get away with community service and some payouts, so can Khabib. \n",
            "                                > Connor did lose his titles on that UFC ppv, granted that was decided before dolly thingy. \n",
            "\n",
            "Khabib likely wouldnt fight for next 6 months anyway. My point is not that it is fair punishment or not, idk the full story - just that you cant suspend champion without taking his titles.\n",
            "                                    > Well fuck it, Dana can make up the rules anyway, wait 4-5 months for litigation and hearings etc and then start promoting Conor Khabib 2, if Dana wants to squeeze every single dollar from this, he needs to milk Conor for another Khabib fight plus a Nate fight and who knows maybe he will win the 2nd Khabib fight, and it becomes a trilogy. Now the UFC have 2 trilogies that they can milk the living shit out of, not to mention GSP, Brock, Jones will probably fight soon, we have Colby triggering every living being on the planet, the UFC needs to start cashing in \n",
            "                                        > What's the point of a rematch?  Khabib stomped Conor, someone losing that bad doesn't deserve a rematch.\n",
            "                                            > You missed my entire point completely. \n",
            "                                > What? NO. How dare you say, Po-Tat-Toe? That makes no sense!\n",
            "\n",
            "I don't even care about the rest of this. This is intolerable!\n",
            "            > &gt; All someone needed was a key or any sharp object and this a very different story tonight.\n",
            "\n",
            "But no one had a key or sharp object and it wasn't a different story.  \n",
            "                > I think the point is as a business you have to be process oriented not results oriented. How many after-fight brawls before someone comes prepared? In many ways the UFC’s response will be not just responding to what happened tonight but safeguarding against possible future actions.\n",
            "                > And it was probably 1/2 staged\n",
            "                > In this context, this is a fucking stupid, worthless comment.\n",
            "            > the same message sent when connor still got to fight after the bus incident\n",
            "        > Honestly? The only reason I'd want to see a rematch is to watch Conor get his ass beat even worse for instigating this shit so much. He got FUCKING DESTROYED and has no business anywhere near a rematch. He needs to sit the fuck down, realize he fucked up and fucked with the wrong people, then just disappear.\n",
            "            > You are over exaggerating the destroyed bit.\n",
            "\n",
            "First round... nothing much happen, a couple of punches but mostly just Khabib and Conor fighting for position. With Khabib on top \n",
            "\n",
            "Second Round.... 10-8 clearly, knockdown plus ground and pound\n",
            "\n",
            "Third and 4th Round.... again nothing much from the point of a view of a beatdown , it was them fighting for position, couple of trading shots on the feet and Conor getting tired then giving up in the 4th.\n",
            "\n",
            "It wasn't an ASS beating like Barboza's beating, it was more like Khabib wore Conor out and then finished him. Barboza's beating was an arse beating and a half, Conor's was more like getting smacked then getting submitted.\n",
            "                > Conor was getting so outclassed that he had to cheat the entire time to try to even be in the game. He got fucking destroyed and was broken.\n",
            "                    > Outclassed? Yes\n",
            "\n",
            "Cheating? Yes\n",
            "\n",
            "Destroyed? Meh- I disagree with you on that one\n",
            "\n",
            "Broken? I guess so- he tapped so it's a form of being broken \n",
            "                        > Watch the fight again. Watch him when he is trying to strike, outside of the push kicks. He was so scared of getting taken down again that he had nothing on those strikes. He was broken after round 1. The fight wasn't competitive at all, so he got destroyed. That's just facts.\n",
            "                            > I watched it again. \n",
            "\n",
            "I think our definitions of destroyed is different- subjectively. \n",
            "        > He better work on his ground game, he was 100% out classed. \n",
            "\n",
            "And he should keep an eye out for those haymakers!!!\n",
            "            > You can’t really see the overhand right when it snaps out of a feinted takedown\n",
            "\n",
            "Just comes with the territory of trying to stand up against a good wrestler lol\n",
            "        > When Brock lost to frank mir they had a rematch after 1 year and that whole year mir was talking shit about Brock but then later Brock killed him in the next PPV I hope they get a rematch for this too but controlling everything \n",
            "            > Both had fights in between that. Brock had 2. We've seen a lot of immediate rematches, but rarely when its so dominant. I wouldn't be surprised, but I'd be very upset. Khabib should fight Tony/Poirier/GSP next. Any of those would be a great match up.\n",
            "        > To bad Kabob is retiring. I wouldn't even want to see a rematch. Kabob dominated most of the match.\n",
            "        > I think at this moment UFC lost some reputation.\n",
            "\n",
            "Because both Khabib &amp; Conor fucked up.\n",
            "\n",
            "Conor hit the black shirt guy first and Khabib tried to attack someone else.\n",
            "\n",
            "Best fighters of Lightweight screwed up same time.\n",
            "\n",
            "&amp;#x200B;\n",
            "            > I guess... but 1.4 million tweets roughly 7 hours after the fight with Khabib trending and Conor also trending ain't bad either \n",
            "\n",
            "Khabib messed up by going full gorilla mode.\n",
            "\n",
            "From what I saw from different angles, Conor clambered up the cage to help his team mate but then another dude from Khabib's team tried to jump up and involve himself, Conor swung at him but I think he missed. That dude actually tried to beat him with Khabib's afro hat which was funny.\n",
            "\n",
            "Then Conor was sectioned off, then that FW that Khabib is with came into the cage, both him and Conor exchanged heated words , I believe they both swung punches but Conor landed first. Watch the video slowly at that point, the black shirted guy tried to run past the official and swung a right hand but Conor smacked him with a left hand\n",
            "\n",
            "Islam mach, the LW came up from behind Conor and landed a clean shot to his jaw and a couple more shots which Conor took but then the guy that came off suspension for PED use? I think, came from nowhere and lit up Conor's body with a number of punches. \n",
            "\n",
            "[https://www.youtube.com/watch?v=urUCxxLO15w](https://www.youtube.com/watch?v=urUCxxLO15w) , here is the video, slow it down. \n",
            "\n",
            "Conor basically got attacked 4 times, once by Khabib (fight), then by a FW, then by the LW then by the cheater. \n",
            "                > #### [McGregor vs Khabib / Post Fight After UFC 229](https://www.youtube.com/watch?v=urUCxxLO15w](https://www.youtube.com/watch?v=urUCxxLO15w)\n",
            "##### 218,031 views &amp;nbsp;👍1,485 👎107\n",
            "***\n",
            "Description: McGregor vs KhabibMcGregor vs KhabibMcGregor vs Khabib➽SUBSCREVE O CANAL ★ HIPHOPTUGA/LISBOA2222 ★https://www.youtube.com/user/lisboa22...➽ATENÇÃO: CA...\n",
            "\n",
            "*★ HIPHOPTUGA/LISBOA2222 ★, Published on Oct 7, 2018*\n",
            "***\n",
            "^(Beep Boop. I'm a bot! This content was auto-generated to provide Youtube details. Respond 'delete' to delete this.) ^(|) [^(Opt Out)](http://np.reddit.com/r/YTubeInfoBot/wiki/index) ^(|) [^(More Info)](http://np.reddit.com/r/YTubeInfoBot/)\n",
            "        > Rematch? Khabib fucking ragdolled Conor for 4 rounds then neck cranked him like a bitch. Iaquinta deserves a rematch before Conor.\n",
            "            > Here's a piece of information: Diaz Conor 1 1.3 million\n",
            "\n",
            "Diaz Conor 2 1.65 million\n",
            "\n",
            "Khabib Conor 1 probably near 2 million\n",
            "\n",
            "Khabib Conor 2 probably 3 million\n",
            "\n",
            "Money talks. \n",
            "                > Yup I agree 100%. This is why Dana won’t release Khabib. Not until he can pad his wallet from this situation somehow. \n",
            "                    > Tbh I don't even think Dana is in it for the money, he made 360 million, however- the UFC owners need to pay back 4 billion and Dana has to keep running the money machine and squeezing money from everywhere until they pay off their loans.\n",
            "                        > I'm new to the scene, what this about 4 billion ? \n",
            "                            > The Fertittas and Dana White used to own the UFC, they bought it for I believe one million.\n",
            "\n",
            "They sold it before UFC 202 in 2016 for 4.2 billion to WME IMG group which took out massive loans etc in order to fund it, a lot of investors etc. \n",
            "\n",
            "Dana White sold his piece for 360 million and the Fertittas got the rest, Dana renegotiated with the new owner Ari for a bigger piece or something, there are bunch of celebrity minority owners \n",
            "                                > not 100% on your numbers but the basic point behind it is 100% correct.\n",
            "                                    > Yeah the numbers are from memory, but in they are in those ranges. \n",
            "                                        > Yes they are. \n",
            "                > As stupid as this incident is, it'll bring Dana alot of money. People love this shit. Especially once this down. Think of all the promos to cut and all the fan fare... Fans LOVED this live. Bars were having the time of their lives.\n",
            "\n",
            "Professionally this wasn't good. For the sport, it was. \n",
            "                    > Hey, FHRITP69er, just a quick heads-up:  \n",
            "**alot** is actually spelled **a lot**. You can remember it by **it is one lot, 'a lot'**.  \n",
            "Have a nice day!\n",
            "\n",
            "^^^^The ^^^^parent ^^^^commenter ^^^^can ^^^^reply ^^^^with ^^^^'delete' ^^^^to ^^^^delete ^^^^this ^^^^comment.\n",
            "                        > You're a dick autocorrect. I've spelled it this way my whole life :(\n",
            "                    > http://i.imgur.com/nh4q0Sg.jpg\n",
            "            > Yeah, but who else can Khabib fight after this? GSP, Tony maybe and Conor are the only ones that make sense, especially cause Khabib wants to defend the title and not keep bouncing around divisions.\n",
            "                > I'm curious on why its \"Tony maybe\"\n",
            "\n",
            "                    > Seriously.  Tony is on a 11 fight win streak.  He deserves the shot no question.\n",
            "                    > Because everyone involved (except Tony) is hesitant on booking this match again.\n",
            "                > Kevin Lee is another (minor) possibility\n",
            "\n",
            "Khabib’s already likely to retire soon, anyway; he doesn’t have much left to prove\n",
            "                    > Haven't heard anything about a potential Khabib vs Lee match. Tony and McGregor are top of the pile and GSP is probably the guy that Khabib wants to face the most.\n",
            "                        > How is McGregor on top of the pile after getting outpunched by the “wrestler”?\n",
            "\n",
            "He definitely takes second seat to Tony at this point, even if we consider his record alone\n",
            "                            > Yeah, Tony and McGregor are top of the pile. Tony because he's the second best Lightweight and Conor because he's the biggest star.\n",
            "        > What rematch? Someone is going to prison over this and the ufc is going to get their ass sued into obscurity. \n",
            "            > Nobody is going to prison lol Conor didnt press charges and everyone was already released from jail\n",
            "        > I believe theres 0% chance of a rematch, Khabib destroyed Connor and from what some people say he will most likely retire undefeated\n",
            "            > Well money will always beat opinions, I guarantee they will have a fight setup between them, Conor isn't the type of guy to take a loss and not ask for a rematch. They will start recycling this footage, bus attack, cage attack, Danis attack etc on loop 24/7 on every newstation trust me. \n",
            "    > Khabib will be released from UFC next week. \n",
            "        > Source?  \n",
            "He will bring the £$¥ wherever he goes though...\n",
            "        > Nah. Not before Dana can weasel some cash outta this first.\n",
            "    > It's not like millions of people saw what conor did with this bus incident on instagram\n",
            "    > Oh give over, this is going to be a huge win for the UFC. Thousands of people are going to be seeing that on social media over the next week or two, people will be talking about it everywhere, and it's not gonna lose the UFC any fans. Ugly? Sure. But by allowing the rivalry to grow Dana just pulled a win for the UFC\n",
            "    > Overall, this is GREAT for mma in the long run.\n",
            "Any publicity is still publicity.\n",
            "And people eat this shit up. \n",
            "    > I think shit-talk is fine except when ethnic tensions are involved. Really does bring the worst out in everyone when you go that route\n",
            "    > i dont understand how the fight can still take place if one of the fighters is actually believing the opponents 'showmanship'.\n",
            "\n",
            "If i say im going to murder a person in the ring tomorrow, and i talk shit about their family, friends, religion, everything i can think of... doesn't the UFC legally, behind the scenes, need to make 100% certain that both fighters and their respective camps understand its just 'showmanship'?\n",
            "\n",
            "Just considering the nature of everything in this type of sport... if one of the fucking fighters is believing the hype and drivel, well, what if they take up a fucking knife with them?\n",
            "\n",
            "This all reminds me of prank videos on youtube. If i go up to a dude and say im going to kill him then punch him, but yell its just a prank after they have stabbed me with a knife.\n",
            "    > However, Khabib acted in the moment of rage and Adrenalin rush, but conor had a lot of time to think about what he was about to do.\n",
            "    > I agree with you, tonight’s incident could’ve ended really badly. People like Khabib and McGregor can kill a normal person with a single punch in a bad spot. If Dana doesn’t reign this shit in someone’s going to end up dead \n",
            "    > Dana in reality would of been cumming in his pants watching it kick off after the fight \n",
            "> How the fuck is this not higher up?\n",
            "    > That's what she said\n",
            "    > Mcgregor fan boys \n",
            "    > Conor nuthuggers be Downvotin’, matey\n",
            "> you can't threaten people from a war torn country and not expect them to retaliate.  they don't take that shit as a joke. \n",
            "    > Thankfully America is ruled by law. Hopefully Khabib is processed and charged. The same way Conor was. Unfortunately they both have money and celebrity status so these things seem to be blown by for both. It’s a shame to see these things happen, but it should be put to bed by the UFC. There is a way to have drama in a sport without crossing legal lines, Muhammad Ali showed how a champion could be mouthy without crossing these lines \n",
            "        > I don’t know if Khalib actually assaulted anyone he jumped the cage but I think it was broken up before shots landed \n",
            "            > There is some footage down lower taken from the crowd behind the incident. It looks like khabib jumps off the riser with a kick. It's hard to tell in the cell phone footage. \n",
            "\n",
            "I was really pumped by his win, but the after effects were way out of line. Such a shame since his sanctioned performance was amazing, but now this will be what gets remembered about 229, and Derrick Lewis's epic post fight interview. \n",
            "\n",
            "edited for autocorrect. \n",
            "                > I saw it it looks like a kick and a hammer punch but didn’t connect.  I know I’ll remember it as mcgregor getting his heel ass beat. I was so glad to see khabib dominate. \n",
            "            > Attempted assault is still a crime. \n",
            "                > Yeah it’s a slippery slope.. mccgregor tried to start something at weigh ins too \n",
            "                    > Very slippery slope is right. I think it has to be weighed properly versus legality and entertainment. It is extremely hard not to take significant biases against certain actions. I am guilty of it myself. I personally would like to see a more sporting environment enforced (Conor taking more significant punishment for the dolly inicident and Khabib being duly processed for tonight) but I know there is less money in that. It is unfortunate to see but it is clear that a sporting trend is clearly diminishing. \n",
            "        > Maybe he didn't cross legal lines like Conor and the bus or Khabib and tonight but look into the things he said about Joe Frazier. He was downright nasty and despicable, even more so when you take into context what Frazier had done for Ali.\n",
            "            > Again, people seem to be missing my point. I mean it more in the sense that he didn’t break any laws. It’s not pretty what he said, but it’s prizefighting and the drama was kept to words outside of the ring.\n",
            "                > Maybe it was limited to words in the prefight buildup but don't forget or discount the bus incident and the trash talk from Conor regarding it saying he'd have killed Khabib. As I said, maybe he didn't cross any legal lines there but he got way too personal when he went after everyone and everything around Khabib. Nobody, including Conor or the UFC, understood the seriousness of Khabib when he said he wanted to destroy Conor and smash his face. For him, it wasn't fight promo, it was real life. Doesn't excuse the actions after the fight but it just shows how nobody understood Khabib.\n",
            "                    > You’re right, and he absolutely dominated. It’s just a shame he was not able to control his temper and stained his victory \n",
            "        > &gt; Thankfully America is ruled by law\n",
            "\n",
            "Law that allows personal insults on religion, country and family? Fuck that law.\n",
            "            > &gt;Law that allows personal insults on religion, country and family? Fuck that law.\n",
            "\n",
            "You're absolutely 100% in the wrong on this. It's called freedom of speech and it's the reason there isn't some officially sanctioned gang or secret police that can arbitrarily grab people in the middle of the night in the USA. \n",
            "\n",
            "&amp;#x200B;\n",
            "\n",
            "To hell with any law that says insulting someone's religion, country, or family is illegal, you're destroying your own culture if you support it.\n",
            "\n",
            "&amp;#x200B;\n",
            "                > Freedom of speech should be when you can objectively criticize any country, religion, race, politics or opinion. You can use argumentation and facts to show why something is \"right\" or \"wrong\" in your opinion. You express opinions that are true and supported by facts and proper arguments, if your opinion is false you accept you are in the wrong and move on. \n",
            "\n",
            "But I will never support freedom of speech which includes personal insults, attacks based purely on hate and to elicit a reaction. Conor's team called Khabib a terrorist. I am no supporter of Islam or any religion, in fact I personally oppose religion. But throwing pure insults at a person who is from a war torn country and lived life in hard conditions is not freedom of speech my friend. It is disgusting, lowlife behavior and I could not be more happy for Khabib's victory no matter his citizenship or religion, since he was in the right. \n",
            "                    > ‘You can’t hurt someone’s feelings’\n",
            "                        > You definitely can't to an extent.  There's a reason fighting words exist because at some point you aren't covered by freedom of speech\n",
            "\n",
            "https://en.wikipedia.org/wiki/Fighting_words\n",
            "                            > **Fighting words**\n",
            "\n",
            "Fighting words are written or spoken words intended to incite hatred or violence from their target. Specific definitions, freedoms, and limitations of fighting words vary by jurisdiction. It is also used in a general sense of words that when uttered tend to create (deliberately or not) a verbal or physical confrontation by their mere usage.\n",
            "\n",
            "***\n",
            "\n",
            "^[ [^PM](https://www.reddit.com/message/compose?to=kittens_from_space) ^| [^Exclude ^me](https://reddit.com/message/compose?to=WikiTextBot&amp;message=Excludeme&amp;subject=Excludeme) ^| [^Exclude ^from ^subreddit](https://np.reddit.com/r/ufc/about/banned) ^| [^FAQ ^/ ^Information](https://np.reddit.com/r/WikiTextBot/wiki/index) ^| [^Source](https://github.com/kittenswolf/WikiTextBot)   ^]\n",
            "^Downvote ^to ^remove ^| ^v0.28\n",
            "                    > Disgusting low life behavior can also be free speech. The reason free speech works is because anyone can use it. If you said terrible people can't speak freely you've taken their rights away. All you have to do is define arbitrary rules however you want. Whoever gets to define behavior can silence any opposition. \n",
            "\n",
            "The only way to ensure freedom is to give it to everyone, even low lifes. Of course excluding the freedom to infringe on other people's freedom, ie violence. \n",
            "                    > \"But throwing pure insults at a person who is from a war torn country and lived life in hard conditions is not freedom of speech my friend.\"\n",
            "\n",
            "Uh......yea it is. What part of freedom of speech is not clear to you?\n",
            "                        > I think it's the freedom part he doesn't understand.\n",
            "            > Haha look at this fool\n",
            "            > Did you just say fuck freedom of speech? Hahahaha \n",
            "                > Read my reply below and don't make assumptions. Freedom of speech is great thing when you factually and rationally express opinions about any topic including sex, religion, race, politics etc. and I fully support that. What I don't support is when you insult someone personally with hate being the basis for your insults and then call it freedom of speech. \n",
            "\n",
            "I don't about you but there are certain regions in the world that have other values than money. Khabib values family, integrity and respect above money. So insulting his family or his country for personal hate reasons and attacks is not a freedom of speech. If freedom of speech means anyone gets to say whatever they wan't based on nothing and face no consequences then I can not support that. \n",
            "                    > Insulting his family or country or whatever is freedom of speech. You're free to say whatever you want, whether it's correct or not is unimportant. What the fuck happened to sticks and stones may break my bones but words will never hurt me? This is a grown man who beats the shit out of people for a living and he can't take an insult? Pussy.\n",
            "                        > I guess you will not understand the concept of pride, honor etc. etc. its all good man you have your opinion I have mine and reddit comment section is not the place to discuss it. \n",
            "                            > It's exactly the place to discuss it lol. I fully understand trying to preserve your sense of honour and being prideful. What I'm not so sure about is whether jumping into the crowd to go smack some poor sod after winning your fight convincingly because someone said mean things about you is the best way to go about preserving your honour or not. :)\n",
            "                                > You don't know what he said and neither do I. But lets say hypothetically if he said something about Khabib's mother then it makes perfect sense to me why Khabib jumped over the fence. It is the matter of honor. This is not the place to discuss because each of us will carry on in life with our own opinions so good luck man. \n",
            "                                    > Lol, it's still fucking retarded regardless of what was said. A forum is exactly the place to discuss, neither of us are insulting the other even if we won't change eachothers minds\n",
            "                    > I didn’t make any assumptions? You said “fuck the law that allows personal insults on religion, country, and family”. That’s our first amendment baby. You absolutely *did* say fuck freedom of speech. \n",
            "\n",
            "&gt;\tFreedom of speech is great thing when you factually and rationally express opinions about any topic including sex, religion, race, politics etc.\n",
            "\n",
            "Who gets to decide what is “factionally and rationally”? The government? Yeah no thanks. \n",
            "\n",
            "&gt;\tWhat I don't support is when you insult someone personally with hate being the basis for your insults\n",
            "\n",
            "Yeah I don’t support that action either. But I support your right to do it. \n",
            "\n",
            "&gt;\tSo insulting his family or his country for personal hate reasons and attacks is not a freedom of speech\n",
            "\n",
            "Khabib may not like it or agree with it but that’s not how it works in America. You don’t get to attack people because you don’t like what they’re saying (more often than not). \n",
            "\n",
            "&gt;\tIf freedom of speech means anyone gets to say whatever they wan't based on nothing and face no consequences then I can not support that.\n",
            "\n",
            "I mean there are some first amendment/free speech limitations. Saying mean things to people just usually isn’t one of them. And you’re free to hold and share that opinion and I’m free to share that I think it’s a dumb ass opinion. \n",
            "                        > So what If I stand on the street and just tell random strangers to go fuck their sister? Or ask for their mother's number because I want to have my way with her tonight? Is that freedom of speech? What If I tell a black guy that he should go back to plantation and pick cotton because that is where he belongs? Is that freedom of speech? What if I tell disabled person that they should kill themselves because that will clean the human gene pool? Is that freedom of speech? \n",
            "\n",
            "One's freedom ends where other's begins. \n",
            "                            > &gt;\tSo what If I stand on the street and just tell random strangers to go fuck their sister? Or ask for their mother's number because I want to have my way with her tonight?\n",
            "\n",
            "Yes. You *might* catch a harassment charge but cops would probably come tell you to fuck off and that’d be that. \n",
            "\n",
            "&gt;\tWhat If I tell a black guy that he should go back to plantation and pick cotton because that is where he belongs? Is that freedom of speech? \n",
            "\n",
            "Yeah. Again you’ll probably get the cops called on you and they’ll try to keep the peace but it’s within American rights generally\n",
            "\n",
            "&gt;\tWhat if I tell disabled person that they should kill themselves because that will clean the human gene pool? Is that freedom of speech?\n",
            "\n",
            "IANAL but that might be considered a threat. But otherwise it’s probably protected speech. \n",
            "\n",
            "&gt;\tOne's freedom ends where other's begins.\n",
            "\n",
            "This is so dumb. Nobody’s freedom is ending because someone yells mean things at you... \n",
            "                                > We have cultural differences and differences of opinions that go beyond comment discussion on reddit. I do not live in USA and do not support same values as you do. I support freedom of thought and one's right to express opinions and ideas that have actual value and merit. But if total and complete freedom of speech means supporting one's right to yell racial, religious and personal insults then I can not support that and I am glad I do not live in such country.\n",
            "\n",
            "Lets leave it at that, best of luck to you.\n",
            "\n",
            "                                    > I mean I’m not discussing values I’m discussing American law. \n",
            "\n",
            "&gt;\tsupport freedom of thought and one's right to express opinions and ideas **that have actual value and merit**\n",
            "\n",
            "The part I bolded is the issue imo. Who is to say what opinions and ideas have merit? I’m sure the guys saying it think they have merit. Whether you agree or not shouldn’t affect people’s right to say it. \n",
            "                > He's saying there are and should be limits on freedom of speech dude. It varies by culture where the line is drawn. Stop being so dense.\n",
            "\n",
            "\n",
            "\n",
            "You can't scream fuck Allah in Saudi-Arabia. \n",
            "\n",
            "\n",
            "You can't walk around Nazi saluting while screaming 'Heil Hitler and gass all the Jews' in Germany.\n",
            "\n",
            "\n",
            "You can't walk in Chicago yelling 'fuck niggers' in a KKK costume. You can't make a joke about a bomb in a USA airport. You can't tell a secret service officer you think le Donald might choke on the next cheerio he'll eat, hell Snowden couldn't event tell USA citizens of the disgusting things the NSA does to them without having to live in exile in Russia. \n",
            "\n",
            "\n",
            "\n",
            "Free speech is not 'free' in the literal meaning of the word. Where Khabib is from a reasonable payoff to Mcgregor's insults was him receiving some extra love-taps post game. Big fucking deal. \n",
            "                    > &gt;\tYou can't walk in Chicago yelling 'fuck niggers' in a KKK costume\n",
            "\n",
            "Yes you can. \n",
            "\n",
            "&gt;\tYou can't tell a secret service officer you think le Donald might choke on the next cheerio he'll eat\n",
            "\n",
            "Yes you can. \n",
            "\n",
            "&gt;\thell Snowden couldn't event tell USA citizens of the disgusting things the NSA does to them without having to live in exile in Russia.\n",
            "\n",
            "Snowden committed crimes about distributing classified info. This isnt really a limitation on free speech. Also some say he should be protected by federal whistleblowing laws but thats a whole other conversation    \n",
            "\n",
            "&gt;\tWhere Khabib is from a reasonable payoff to Mcgregor's insults was him receiving some extra love-taps post game. Big fucking deal.\n",
            "\n",
            "Lol that’s fine and all but it’s gonna be illegal and you’re gonna have to face the consequences. In America you don’t get to attack people because they said bad things about your religion, ethnicity, family etc. There are limitations to free speech but that isn’t one of them. \n",
            "        > &gt;the same way Conor was\n",
            "\n",
            "Fucking lol\n",
            "        > I can't believe you're getting downvoted for sticking up for assault laws.\n",
            "            > It might be his absolutely ludicrous take on Ali \"not crossing lines\". Which is beyond fucking stupid.\n",
            "\n",
            "Even the rest of the post isn't great, starting with America is ruled by law and then immediately admitting that if you're rich and or famous, there's every chance that the laws won't apply the same to you as they would someone in a different ethnic group or economic situation. \n",
            "                > Why is Ali not crossing lines stupid? As far as I know he didn’t assault anyone or throw Shit through windows? Genuinely curious.\n",
            "\n",
            "Also the second part is more an observation. It seems like the rich and famous tend to get more of a slap on the wrist. Not condoning it or even thinking it’s remotely fair, but it is true. Although as far as I know Conor was processed and fined like any other person. I imagine he’s rich enough for those fees not to have been too problematic \n",
            "                    > Go read up on Ali. He completely crossed the line a ton of times. The stuff with frazier was particularly poor. \n",
            "                        > Can I just get an example? I haven’t heard of doing anything illegal except maybe draft dodging. Pretty sure Joe Frazier fired a gun loaded with blanks at him too \n",
            "    > Conor should be thankful that he didn't talk shit about Khabib's mom.  They would have had to take him out of the octagon on a stretcher.  \n",
            "        > We wouldnt have gotten to the fight. Khabib and his guys kept quiet the whole time cause they did not want the fight to be cancelled in any way. But some things are just too much.\n",
            "            > Yeah, this really sheds a different light on all the pre-fight stuff.\n",
            "\n",
            "A lot of people thought it was stoicism or fear in khabib's camp. Nope. He was just bottling it up like a goddamn psycho. Connor made a big mistake. \n",
            "                > You could tell from his last press conference before the fight that he was pissed. Dude was over it. He was ready for war\n",
            "        > Wouldn’t have made it to the fight. If Conor had the balls to do that shit in Russia, Connor would have “fallen” on a bunch of hammers and landed on a metal pipe teeth first. And the Russian police would be like “What u want us to do mr white?  Arrest the hammer?  Next time Connor should watch where he walks”. \n",
            "            > I read that in a Russian accent\n",
            "                > I read that in a Russian accent \n",
            "        > Whem is the last time they had a stretcher?\n",
            "    > Yeah often times family is all you have.\n",
            "    > Lol\n",
            "    > Ireland was a \"war torn country\" and were the \"terrorists\" 30 years ago.\n",
            "\n",
            "\n",
            "        > It wasnt. Thats the North of Ireland. \n",
            "        > Agreed - coming from a ‘war torn country’ is no reason for anything.  \n",
            "    > Someone said that for Conor this is all showmanship. That he is hyping up the fights and creating buzz for himself. \n",
            "\n",
            "For Khabib,  this is life. He doesn't see the buzz and hype,  and every attack from Conor is on a personal level. \n",
            "\n",
            "\n",
            "        > Conor might think he's just creating hype. But I can't imagine what moron won't take the things Conor said personal. \n",
            "            > Well, especially when you call out khabibs team and say they're terrorists on live tv... I mean imagine all of his teammates behind the scenes now they have to get attacked on social media and being accused of terrorism.\n",
            "\n",
            "Conor knew exactly what he was doing. This was beyond shit talk. We've seen it all for shit talk, but this was deep and everyone knows it. Conor and gang attacked khabib physically and verbally whenever he could. All because of Artem?????! Come on... \n",
            "                > read into Khabib's manager, Ali Abdelaziz. he's a very shady character with a long background of sketchy stuff \n",
            "                    > Definitely. But, what business is it of ours? Im here to watch a sport. Way worse people to worry about. But i get your point.\n",
            "\n",
            "I just hate the idea of Conor mixing that shit with this sport. What does he expect by saying that shit? That Ali is now going to be investigated by FBI and gets thrown in jail? \n",
            "                        > The fight itself was sick, Khabib is too good on the ground. \n",
            "\n",
            "But I think Conor wanted to let more people know just how sketchy Ali is. Ties with terrorist groups, loads of charges against him, unsuccessfully deported by the NYPD, connected with a failed bomb attack in Toronto 1991; the list goes on and on.\n",
            "\n",
            "Idk what the FBI would even do nowadays since the guy worked for them as an informant until he was suspected of lying to them and ended up failing a polygraph test. May have been working as a double agent.\n",
            "\n",
            "I'm just here to watch the fights too, but the amount of stuff on this guy is flabbergasting. So I can see where McGregor is coming from to say what he did. There are definitely worse people out there, but I'm surprised this guy is even on the streets still.\n",
            "                            > Well he's also managing a large plethora of fighters as well. That affects business for him. Just weird why it's any of Conors business and he couldn't keep it to between himself and khabib. Like normal hype. Conor got so fucking butthurt from Artem, and that's why all this happened. \n",
            "                                > I just hope everyone he works with knows about the guy's past. I would never want to work with him myself. But as long as they're cool with it I guess.\n",
            "\n",
            "But yea you know Conor, he's gonna talk about as much as he can. I do wonder what exactly went down with Artem though.\n",
            "                                    > Whatever went down with Artem was not deserving of this outcome.\n",
            "\n",
            "I think Conor realized during that moment in the fight when he said \"it's just business\" that he was VERY AWARE that he crossed lines that he shouldn't have. \n",
            "                    > His dad is not. His brothers and his cousins aren't. But Conor said they were.\n",
            "                        > Both Khabib and his father have close relations to the Chechen dictator Kadyrov. That is what Conor was referring to when calling his father a coward. Kadyrov is a scary man.\n",
            "\n",
            "I don't remember Conor saying anything about Khabib's brother or cousins, so idk about that.\n",
            "\n",
            "But Khabib has talked about his \"big brother\" before. Ziyavudin Magomedov who got arrested and charged with embezzling $35+ million, fraud, and \"organization of a criminal community\". And this guy has financially supported Khabib for a lot.\n",
            "\n",
            "Khabib is close with some shady characters. I love him as a fighter but damn. And I never even knew most of this before today when I decided to do some investigating of my own.\n",
            "                            > I know all that. But his father also opened up a school to keep kids out of becoming conscripted child soldiers and basically anybody who lives there and has any amount of clemency is going to be on the radar or have ties to shady people.\n",
            "\n",
            "\n",
            "I mean fuck, my family has ties to people who committed terrorist acts against Vietnam, laos and Thailand but that doesn't mean I am a terrorist nor is my dad. You can be simultaneously related to people who do bad things and not be a person who does bad things. Khabib and his family are Muslim and have ties to bad people but were able to get a visa into the USA under the Trump administration. Think about how difficult that would be. And this is BEFORE khabib got famous. He may have ties but that don't mean he is a terrorist. Being accused of shit when you're on a visa work stay on America is actually really bad for you and could potentially get your Visa revoked. I'd be fucking pissed if that happened.\n",
            "                > Especially if they're trying to get visas into the country while an incredibly anti-muslim administration is in place and every fucking person is afraid of terrstz.\n",
            "        > It's a cultural thing in especially Muslim countries. Violence is pretty much always a no go in the West, but in for example Dagestan some insults might be considered worse than a punch in the face and thus a punch is as deserving. Backwards in my opinion, but it is the way it is. \n",
            "            > Yeah, well words mean something in those areas. They mean nothing here.\n",
            "        > He said mean words so I’m gonna assault his corner! God you people are fucking insane with these mental fucking gymnastics. If Conor won and did this y’all would be losing your fucking minds and saying he should be stripped and never fight again. Fucking hypocrite faggots. \n",
            "            > He insinuated called them terrorists and insulted thier way of life.  Conor has done this and more.  He assaulted a ref after a bellator fight,  put chiesa in a hospital with glass in his I and is being sued. Khabib SHOULD be stripped and suspended,  but I think Conor and his team started a war he wasn't ready to fight on this one. \n",
            "\n",
            "Quit being his cock jockey. \n",
            "                > So what? Saying words does not condone assault. That’s why they were having a sanctioned fight settle it in the cage. All he needed to was act like a champion instead he acted like a retarded thug. Chesia had the minor injuries. Dude milked the shit out of that. Made more money being a bitch than he would’ve made fighting. \n",
            "\n",
            "Quit being a terrorist sympathizer. \n",
            "                    > I would say Conor throwing a dolly into a bus full of innocent people constitutes terrorism more so than anything Khabib has did. And Chiesa had glass shards in his eyeball... Rose said she is still traumatized from being subjected to the experience. \n",
            "\n",
            "I think you lack the depth to understand the severity of Conor's accusations against Khabib when it comes to his religion and political views. Life in war torn countries doesn't compare to the posh life we know here in the US. \n",
            "\n",
            "No sympathy at all.  He should be stripped and suspended for atleast a year.  Fighters have to show greater restraint than that.  But if you think Conor is any better,  he's shown no more restraint than Khabib throughout his career. I just think it's funny that Conor and his crew bit off more than they could handle,  both in the ring and out. \n",
            "\n",
            "You should watch this documentary to better understand how serious Conor's accusations really were: https://youtu.be/gzhJ9PdY77c\n",
            "                        > I guess you don’t know the definition of terrorism. I don’t care what Conor said about his fucked religion and shit hole 3rd world country. Just words. \n",
            "    > Russia is war torn?\n",
            "        > You should probably learn the actual history of the Caucuses and Dagestan, I can’t tell if you’re trolling or not. \n",
            "        > he's from Dagestan- a \"subject of russian rule\". the school his father started and where he trained is LITERALLY a military school. \"Dagestan has been a scene of Islamic insurgency, occasional outbreaks of separatism, and ethnic tension since the 1990s\". taken from the first paragraph from the wiki on Dagestan.\n",
            "    > Well actually you should expect them to. If you are in a different place you have to follow the laws and customs. I wouldn't go to Afghanistan and start demanding bacon butties for breakfast. It isn't appropriate. Don't defend someone acting like a stupid child.\n",
            "    > i dont understand how this fight can be allowed to happen if there is a chance one of the fighters actually believed the shit talk.\n",
            "\n",
            "Like it blows my mind, how is there not professional discourse behind the scenes between conor/khabib/the ufc and both fighters support groups, just to make sure both parties understand its a professional fight with a professional beginning, fight and ending.\n",
            "        > I guess when Connor McGregor threw a hammer at Khabib's bus and injured one of the fighter's then Khabib began to believe in the trash tall.  Maybe? \n",
            "            > A hammer?\n",
            "                > Yep\n",
            "                    > Not a hammer, it was a metal moving dolly..a hand truck. They're a little bigger than a hammer. \n",
            "        > You said it yourself, it's a professional fight with a professional beginning, fight and ENDING.  \n",
            "The fight went well until it was over...\n",
            "            > surely the end occurs when they have well and truly exited the building and are off the UFC clock.\n",
            "        > Because UFC isn’t a professional organization at all\n",
            "        > It's not believing the shit talk. It's that Conor flew across the planet to come to take shots at khabib and threw something that could kill someone aiming for him. He made it known to Khabib that he was going for his life. That shit don't play when you're from a country where your life is threatened every day. Conor is a fucking moron and he got what he asked for. Like danis.\n",
            "    > Ridiculous excuse. Because you come from a war torn country - you are held to lower standards and clearly can’t control yourself...according to you.  \n",
            "        > Khabib did control himself. He remained silent in the face of Mcnugget's shit talk up until the fight, after which he whooped his ass. \n",
            "Khabib didn't lose control, It was all calculated. \n",
            "            > The fight - sure. Absolutely. And then after?  Inexcusable. You’re an adult being paid to fight and hype your fight prior. Don’t act as if Connor actually attacked your home or family. \n",
            "                > But he did attack his home and family. \n",
            "        > i excuse no one.\n",
            "    > Did this fight take place in a war torn country?\n",
            "    > Also he's an extremely religious Muslim. What more do you expect?\n",
            "    > Homie said he wanted a blood feud then everyone is surprised when he went for blood \n",
            "> Sticks and stones bro.  At the end of the day you gotta be professional.  I've rooted for Khabib for a long time.  Probably still will, he's human.  But, this shit?  I won't be mad if they ban him for life.  Because that's what they should have done with Conor.  They gotta set the precedent that this is unacceptable.  At the very least huge fine and 1yr suspension stripped of belt. \n",
            "    > Steel dolly through glass window is not professional. Conor started it.\n",
            "        > That's why I said Conor should have been banned.  But they didn't.  Well see what they do here.  It really depends on what Khabib did after he jumped down.  If he jumped off then immediately got rushed and thrown at... We didn't see that angle. \n",
            "            > https://www.reddit.com/r/ufc/comments/9m2xje/after_fight_assault/?utm_source=reddit-android\n",
            "> You cant expect a bunch of internet people to know about real beef.  They probably never seen or been around it before. \n",
            "    > Yeah\n",
            "    > Well, I'm starting my first beef with you right now for claiming internet people like myself don't know about real beef. \n",
            "    > Can confirm, am white, live in nice neighborhood with white color job.\n",
            "\n",
            "Go ahead and keep that shit where you live.\n",
            "    > Look at this Fortnite gangster over here\n",
            "> Conor should’ve never thrown shit at the bus and Khabib shouldn’t have jumped out of the octagon like that, but the fucking shit that irks me the most are those two or three dudes jumping Conor in the ring, and if it was Khabib getting jumped I’d say the same thing , FUCK THOSE DUDES \n",
            "\n",
            ": And I just read those three dudes have been arrested GOOD  \n",
            "\n",
            "Another edit \n",
            ": I know they’ve been released watched the conference Conor didn’t press charges \n",
            "    > Conor’s been attacking khabib’s team as well. Implying they’re traitors to their country , terrorist , implying they are all chicken shit . One of the ones that punched Conor said in a interview few days ago he would do this . Another said Conor should apologize for the things he’s saying and there will be consequences . Conor put himself in this position . Like it or not .  \n",
            "        > Khabib's manager was part of a terrorist cell i think. Then he informed on them\n",
            "            > Yes\n",
            "            > Fucking right on, thats mental. Good for him for getting out of that situation.\n",
            "            > No, Connor McGregor said he was. It was bullshit. \n",
            "\n",
            "The FBI recruited Abdelaziz to inform on a group called Muslims of America, a group so insignificant they don't even show up on the front page of a Google search. They then cut him loose, without charges, investigations, or follow up. \n",
            "\n",
            "Connor McGregor is a bigoted piece of trash, willing to invoke Islamophobia to try get in another fighters head. He's an asshole. \n",
            "                > he was a part of the group before being recruited\n",
            "                    > Yeah, totally true. As far as I can tell, they aren't a terrorist group, they haven't done anything of note, and they haven't commited any crimes more serious than facing Mecca while they pray. That doesn't make him a terrorist. McGregor is relying on people's inherent bigotry. \n",
            "\n",
            "EDIT to add: found an old CBN News article which suggests maybe they have some ties to a group that's maybe done some stuff in maybe Pakistan. So, fair shake, the FBIs suspicion was probably fair. Again, Abdelaziz wasn't arrested, wasn't suspected of aiding the group, no one else was arrested, etc etc etc. Connors got a worse police record than this guy. \n",
            "                        > I'd look into the incident again.  They're likely terrorists\n",
            "                        > Knowing the FBI, the likely got him through entrapment.\n",
            "                            > Meh, who knows, and I'm not totally willing to write the whole thing off as a misunderstanding. Read a convincing explanation that he had some form of immunity based on silence, hence why he hasn't commented on anything. Just some guy bullshitting on the internet, but hey, so am I, so what do I know?\n",
            "\n",
            "Either way, that 9/11 stuff was bullshit. \n",
            "        > Stop putting spaces before your punctuation. This isn't Dagestan.\n",
            "            > It's the internet fuckface, this is international\n",
            "                > Don't make us invade your internet for that precious virtual oil!\n",
            "            > Where is it...?\n",
            "        > Absolutely , Conor talked all the shit in the world and made it so personal he deserved to be humbled and beaten, but those dudes hitting Mcgregor like that after the fight just fucking pisses me off , anyways the other fights were fucking incredible Tony Ferguson can whoop both Khabib and Conor imo\n",
            "            > While I agree with you they shouldn't have done it. I think everyone knew it was just a matter of time before someone sucker punched mcgregor.\n",
            "                > He really plays up that cocky Irish stereotype to the point of comedy with that fucking walk he does\n",
            "        > Khabibs team was categorically wrong here man. Doesn’t matter what Conner has said, he got his punishment fair and square the rest was unnecessary.\n",
            "            > Oh yeah a fine and community service for a damn felony is so fair.   \n",
            "  \n",
            "Khabib's actions were completely wrong but come on\n",
            "                > Lol I’m not talking about Conner man. I see how you could interpret it that way but I’m saying Khabib punished Conner fair and square and the post fight was just unnecessary.\n",
            "                    > I agree with that.\n",
            "            > Wrong. Connor threw the first punch, evidently. There goes your self-righteous argument.\n",
            "            > Wait.. So most pro Conor ppl on here say \"well Conor was right for hitting first because some random guy ran at him so I'd react the same way.\" then others say \"red shirt guy sucker punched him.. Thats totally wrong\" I'm seeing a pattern  Here..... \"bus and dolly = ok.... Punching first at someone coming at you =ok, jumping fence and hitting someone that disrespected your family country and religion = ban him forever and strip him of title\"..... Am I going crazy? \n",
            "            > How long is a man supposed to let someone disparage them without recourse?  Everyone acts like they would let someone else get on national TV and radio and shit all over them and their family.  Dana White is the one to blame imo.  He let this go too far.  That stupid smile he had after the fight shows how garbage he is.\n",
            "            > they both in the wrong\n",
            "        > Yea he talked shit!!! Tons of fighters over the years talk shit it’s part of the f’n game!!! But be professional..ESPECIALLY AFTER U JUST WON!!blindsided is the weak way out\n",
            "            > I'm not a UFC fan but from what I saw that Khabib guy won, threw a mini tantrum, attacked someone and then got back in the ring and whined like a child for his belt. To be fair I didn't know about all the trash talking Conor did but I think it's a sign of low intelligence to attack someone over words, and I also think Conor was in the wrong for the bus thing but I don't know the story behind that.\n",
            "        > Is everyone forgetting Conor attacked the bus because khabib got a gang to attack his friend backstage? It was clear from the get go that khabib was a thug.\n",
            "            > If Conor saw them on the street he’d be killed. No ref to stop the choke.\n",
            "\n",
            "Conor hides behind his Daddy, Dana, and the UFC.\n",
            "\n",
            "UFC can’t save him from Russia and guys who don’t give a flying shit about Nevada Athletic Commission. \n",
            "            > sure seems like it. everyone is jumping right to the bus incident with very few references to the hotel jumping on connor’s training partner\n",
            "\n",
            "must be that ‘selective memory’ 🤷🏼‍♂️ \n",
            "            > \"attack?\" How many stiches did his friend have to get after that? That same person talked a lot of shit about Khabib prior to that hence why Khabib approached him. It seems like Conor's people talk a lot of shit and then shit themselves when someone calls them out for it. \n",
            "            > Oh, so you McNuthuggers think the correct response to Artem getting slapped for calling Khabib a “pussy” on camera is to throw a dolly at a bus window, bleeding a bunch of innocent fighters and giving Rose Namajunas PTSD in the process?\n",
            "\n",
            "Gooot it 👌🏼👍🏻\n",
            "        > It's very much known khabib is linked to terrorists\n",
            "    > look at the replay..\n",
            "\n",
            "[https://www.youtube.com/watch?v=PYZx7A-NpcM](https://www.youtube.com/watch?v=PYZx7A-NpcM)\n",
            "\n",
            "&amp;#x200B;\n",
            "\n",
            "mcgregor punches his teammates first.. \n",
            "        > If someone ran at me I'd try to hit them first too\n",
            "            > Did you even watch that clip? Khabibs teammate was sitting on top of the fence (looked like he was gonna go over to get our help Khabib) when Conor sucker punched him. Conor seems to have provoked the chaos inside the cage with that punch.\n",
            "                > ~~Oh fuck off why was he on top of the fence? Right, he and his teammates were climbing over and participating in this nonsense. I rooted for khabib this whole fight and I'm disgusted with what happened. Don't pretend Connor deserved getting mobbed by anyone nonetheless his opponent's people.~~   \n",
            "  \n",
            "I'm a jerk ignore me thanks\n",
            "                    > Dude was jumping OUT of the ring to join khabib. Not threatening Connor. Connor throws the first punch. \n",
            "                        > To join Khabib out of the ring to beat the shit out of Connors buddy, of course Connor will have a reaction like that. What was he gonna do, let another guy pile on his coach? Maybe I'm wrong but this is how I read that video. \n",
            "                    > Where did I say Conor deserved getting mobbed? All I said was he provoked it by throwing the 1st punch. I was totally on Conor's side as far as his actions after the fight until I watched that clip and saw him throw that 1st sucker punch.\n",
            "                        > Yeah I came at you hard in that comment and it was undeserved. I still maintain that he was swinging to defend himself regardless of whether he technically threw the first punch or not. Joining khabib was a bad decision by his camp but it's hard to say what the RIGHT decision was... He should not have put his camp in that position. Messed up all around.\n",
            "                            > I agree with everything you said there except that Conor was swinging to defend himself. After he came back down off the cage, sure. But he threw that 1st punch at the guy on the cage unprovoked when the guy doesn't even appear to have been looking at Conor. None of that justifies what follows but I maintain that Conor provoked the chaos inside the octagon by throwing the first punch. The black shirt dude was trying to get out of the octagon to help Khabib in the crowd. He was not a threat to Conor in that moment, there was no reason for Conor to have punched him.\n",
            "                    > You have bad judgment \n",
            "                > Conor definitely threw the first punch. Khabibs brother wasn't even looking at him! Wow this clip made me rethink everything. Conor should be arrested too if this guy was.\n",
            "                    > He threw the first punch because the guy he punched was about to help khabib rush Connors team. \n",
            "                        > Are you telepathic or a fortune teller? Maybe he was going to restrain khabib? That shit was pandemonium. No one knows what anyone was going to do. The video shows what people did do.\n",
            "                            > Ok, you're right, I don't know the guys intentions in that moment, but Connor clearly read his intentions as going to help khabib in a violent way. I don't think blaming him for the brawl inside the arena is fair, or rather, I do, but that punch didn't cause that, Connor caused it weeks ago, it seems.\n",
            "                                > The entire situation was scary. I don't blame any of those guys for any of it. I blame Dana White and the UFC for promoting it how they did. A muslim from the mountains in Dagestan and you let Conor bad mouth his family, religion, and country? I'm shocked this is all that happened.\n",
            "                                    > Yeah. You're even more right. Of course, I'm a casual fan so I have literally 0 insight beyond the obvious, but it seems like Connor was mismanaged to say the least. \n",
            "                                        > This is what Conner does and it finally blew up in his face. For years now Conner finds that line that most fighters stick to in the promotional trash talk then takes 3 running jumps past it, going a little further with each fight. \n",
            "\n",
            "It should have been reigned in years ago, but Dana White pushes it instead because money. I'm not condoning Khabib's actions at all. I was rooting for him and his actions put a stain on a great performance, but someone was going to snap eventually. He's always talking incredible shit to trained fighters, a group of people not generally known for critical thinking or pacifism, and now acting like it's a surprise this happened.\n",
            "                                            > Especially when you consider who Khabib is, he isn't going to let that kind of action just go. Taking it out in the ring might work for some fighters that Connor treaded a bit lighter around, but thinking this one fight would magically stop any further beef between the two seems shortsighted, in hindsight of course.\n",
            "                                                > It was even more than that I think. Khabib was provoked by Dillon Danis after the fight because Dillon kept talking shit after Conor tapped. He should have shut his mouth and not said anything there. After all, Khabib just dominated his guy in that fight so he really had nothing. That doesn't excuse Khabib but at that point, Khabib was pretty much don't with Conor.\n",
            "                                                    > Yeah totally. I wonder what specifically Dillon said because it's not like Khabib would lose it over something simple like \"rubbish, you suck, I already want a rematch.\" I wonder if Dillon also crossed a line with what he said\n",
            "                                                        > I wouldn't be surprised if he did say some really terrible stuff but I don't know if it would have even taken much to provoke Khabib at that point. He seemed, to me at least, to be really fired up coming into the 4th round and I thought he was really gonna try to push it. With that, his adrenaline pumping hard still, the emotion of the moment what happened didn't much surprise me. I said this somewhere before but I partly blame the UFC for not foreseeing this happening and doing more to prevent it but ultimately, it is Khabib that's responsible for his actions.\n",
            "                    > Conor declined to press charges against any of these guys and I think this might be why. Or, it could just be he's that kind of guy too, doesn't want to involve police. Either way, I think it was a good move on his part as he definitely incited the scrum inside the cage after the fight. Doesn't justify anyone's actions though. All of them were out of line imo, especially those that threw sucker punches.\n",
            "                > Red shirt was fully in the ring when the punch got thrown. He didn't stop or slow down on his way in. That doesn't mean he was on his way to punch McGreggor but it doesn't show he wasn't doing that either\n",
            "                    > Watch again and look closely at ~21 seconds when Conor gets up on the cage 1st. Shortly after he throws a sucker punch at a guy from Khabibs camp who came from inside the octagon and looks like he's is trying to go to Khabib. That doesn't justify the shit that followed but when you lay blame for who started things inside the octagon, Conor was a major contributor. Red shirt dude was about last man into the fray too. He clearly sucker punched Conor.\n",
            "\n",
            "From what I'd seen initially, I thought Conor was blindsided and mobbed by Khabibs camp. Then I saw this angle and it turns out Conor started it, inside the octagon at least.\n",
            "                        > I'm not blaiming any one person. I think they all acted like children. I'm just saying it looks like red shirt comes in while nothing is happening then immediately sucker punches someone when it kicks off again\n",
            "                > The fuck are you watching? He’s almost in Conor’s face... he’s going knowhere near Khabib. He throws a punch as Conor throws a punch, you can’t be that blind. \n",
            "                    > Nah mate - YOU can’t be that blind, he wasn’t even looking at Conor when mcgregor punched him. I can slow it down as a gif if you want?\n",
            "                        > Yea if you wouldn’t mind \n",
            "                        > Ahh shit sorry I thought you were talking about when they were back in the ring after. Yea he definitely throws the first punch.\n",
            "                    > At ~21 seconds you see Conor jump on top of the cage but then just kind of stop. At ~23 seconds you see a guy in a black shirt from Khabibs camp jump up there too and you can see he is clearly looking in the direction of Khabib and what seems to be an actual intent to go to Khabib, unlike Conor, when Conor throws a punch. Outside the scrum Khabib is in, that is the 1st punch thrown and that was what started the chaos inside the octagon. It doesn't excuse anything that follows but you can't say Conor had no responsibility for what happened in there.\n",
            "                        > Ahh shit sorry I thought you were talking about when they were back in the ring after. Yea he definitely throws the first punch.\n",
            "                            > Oh yeah, once Conor got back in there he was getting mobbed but there's no denying it was provoked by Conor's sucker punch of the guy on Khabibs tream. There was no fighting (after the fight of course, lol) inside the octagon until Conor threw a punch.\n",
            "                                > Yea very true, I missed that I don’t know how lol.\n",
            "        > You're right.\n",
            "\n",
            "One of the Russian guys climbs into the octagon, attempts to hop the fence back out to get into the outer brawl, and as he's doing so gets punched by McGregor.\n",
            "\n",
            "*After* that point is when the red shirt guy hopped the fence and sucker-punched McGregor.\n",
            "            > But why wouldn't McGregor punch that guy right there? The guy he punched was rushing to aid the guy who just punched Connors coach up, no? \n",
            "                > That guy he punched? It's Khabib's brother, who is a big respectful pacifist and was likely going to help restrain Khabib and end things. Notice how all he does is slap Conor with a big fluffy hat after he gets hit with a hook? That's not the guy you want to take a swing at if you don't want repercussions.\n",
            "                    > As another commenter pointed out to me, it's hard to read their intentions in the video, let alone reading them in real time. Connor obviously read this guy as coming to help khabib in a violent way. Not saying he didn't cause the brawl, but rather that I feel Connor was justified in throwing that punch. \n",
            "                        > Let's put it this way. In the lead up, Conor made it clear he did as much research on Khabib's family as he could. He said things that should not have been said, and things he shouldn't have known. If he did that research, he would have known that Khabib's brother wouldn't be going out to instigate and would be trying to keep his brother out of trouble. He knew what he was doing.\n",
            "                            > That's a level of critical thinking I don't think someone does after getting pummeled, and then watching the guy who pummeled you leap at your buddies.\n",
            "                                > It’s a level of critical thinking  that a professional life long fighter WOULD be capable of though\n",
            "                > You don't know that for sure. The guy could've rushing to keep Khabib back. Either way Conor punched/attempted to punch FIRST.\n",
            "                    > Yeah, I don't know that that was the man's intentions, but it's pretty clear that's how Connor read it.\n",
            "                > you're literally asking \"why not just punch a guy\" as if that's a sane question\n",
            "                    > Absolutely not. If you want to remove ALL context from this, we can start asking why his brother was even there, because apparently the events outside the ring could never affect these people's judgement.\n",
            "                        > His brother is his coach/corner guy, he was in the ring AFTER the fight to celebrate the victory as it usually is done every fight.\n",
            "                            > That would be keeping the context. I understand why his brother was there in reality, but to boil my original comment down to \"why doesn't McGregor just punch a guy\" removes the context of who the guy is, what he was doing, what Connor would perceive as happening right there and then. If I was in McGregors position I would probably punch that guy too, assuming he was about to go help khabib in the outer brawl. Of course, outside of the situation, the rational thing to do is wait for security to deal with everything and not throw a single punch.\n",
            "            > Red shirt guy was in the ring before McGreggor threw the punch\n",
            "                > This is incorrect. Look at the replay again. McGregor is in the process of climbing out. A Russian does the same next to him. He punches the Russian.\n",
            "                    > I have literally no idea what you're on about. You are talking about the bit from about 35 seconds onwards right? \n",
            "\n",
            "First black shirt jumps in and goes to the other side of the crowd to McGreggor, then red shirt starts climbing in. At the same time black shirt comes round towards McGreggor, at almost the exact moment red shirt's feet hit the ground, McGreggor punches black shirt then red shirt sucker punches McGreggor. What part of that can you not see? \n",
            "\n",
            "Edit: nothing is happening in the ring until black shirt runs towards McGreggor and gets punched at which point red is already in\n",
            "                        > You are correct about that part but you missed where it started - can't blame you, it's very confusing to follow. What went on inside the ring starts well before the 35 second mark and it all happens very quickly.\n",
            "\n",
            "At 0:15, a Russian wearing Khabib's papakha jumps into the octagon from the left side of the frame. Other commenters say this is Khabib's brother, but I'm not certain about that. He's very hard to follow as the camera pans away from him but this is the man you want to be watching.\n",
            "\n",
            "At 0:20, shirtless McGregor mounts the cage and fails to climb over. He seems to be attempting to get involved in the fight Khabib initiated outside the ring.\n",
            "\n",
            "At about 0:23, the Russian man jumps the fence directly next to Conor (from our point of view, just to the right of Conor).\n",
            "\n",
            "This all happens very quickly, but in this moment Conor takes a swing at the Russian. On this inspection of the footage and thanks to other commenters here, it does look like the Russian man hits Conor's leg on the way up (it looks like an accident) and Conor, in the heat of the moment, perceives this as an attack and lashes back.\n",
            "\n",
            "The Russian man then slaps back at Conor, holding the papakha.\n",
            "\n",
            "From that point onwards, events are as you told them.\n",
            "                            > Fair. That's a really good analysis. I'm still of the view that red shirt is a massive twat though (although that doesn't preclude almost everyone else there also being twats) because he comes into the ring at a moment where it's relatively calm then sucker punches someone. It looks to me like he was coming in with that intention. Obviously I can't be sure though\n",
            "                            > &gt; At about 0:23, the Russian man jumps the fence directly next to Conor (from our point of view, just to the right of Conor).\n",
            "&gt; \n",
            "&gt; \n",
            "&gt; \n",
            "&gt; This all happens very quickly, but in this moment Conor takes a swing at the Russian. \n",
            "\n",
            "You're missing a crucial thing that happened here that might have triggered the punch. McGregor is resting his weight on his right hand. A guy outside the octagon runs past McGregor and knocks his hand over which causes McGregor to completely lose his \"footing\". \n",
            "\n",
            "You *could* argue he wouldn't have defensively punched Khabib's teammate away in that situation if he hadn't also just lost complete control by being \"tripped\" (whether that was an accident or not). But you'd be an idiot to invest into arguing either way as if it's sure. \n",
            "            > The Russian guy looks like he either hits or pushes McGregor's leg as he jumps up onto the octagon. McGregor is responding to that by the looks. Not saying that justifies it it in any way, but it might explain why it came out of nowhere. \n",
            "                > You're right! I hadn't noticed. It does look like he accidentally makes contact and McGregor perceives it as an attack.\n",
            "                    > There's another vid from a different angle where you can see him basically jump on McGregor's leg and then push it out of the way. \n",
            "\n",
            "Pretty sure he only did it as a means of climbing over quicker, but you push the leg of a guy as worked up as McGregor and he's just going to react on adrenaline. \n",
            "\n",
            "\n",
            "        > The guy came right at him though, just a random dude who had no business being in there as far as Conor was concerned, so he was absolutely right to punch him first, that was self defence and common sense. \n",
            "\n",
            "And he didn't even know it yet of course, but he also had a guy at his back that was just about to attack him.\n",
            "            > No, the guy attempted to climb the fence prior to going at McGregor. There were plenty of people in the ring at that point, no reason for aggression. McGregor was attempting to climb the cage to get out of the octagon and to Khabib. While he was doing such Khabib’s teammate was next to him doing the same thing. McGregor throws a punch that seems to miss, Khabib’s teammate retaliates, then McGregor lands a blow on him. Khabib’s other teammates (the one in the red shirt specifically) attack was however unjustified and he deserves punishment.\n",
            "\n",
            "Edit: Spelling\n",
            "                > They guy was trying to help Khabib to punch more guys in audience. \n",
            "                    > (Psychic)\n",
            "                    > Oh yeah? He wasn’t trying to stop him? I guess you can read people’s minds eh?\n",
            "                        > And now take Conor side here. You saw that dude jumped on your crew to punch them, and then you saw another his dude go there too. \n",
            "\n",
            "And when i thought about it. You guys just don't know those Chechens/Dagestan people :)\n",
            "                            > There’s nothing to think about, the actions they each took had consequences. I’m simply stating, Connor was in the wrong to assault that dude first. It doesn’t matter what he was trying to “protect” assault is assault. I’m not picking any side, I’m simply pointing out how it played out. \n",
            "        > This is great video, thanks for posting, completely changes things\n",
            "            > No it doesn’t. \n",
            "                > Yes it does\n",
            "                    > Nope\n",
            "        > At :24-:26 seconds Conor hits khabibs teamate first on the ring. \n",
            "            > Because that guy is about to go beat the shit out of Connors coach with khabib right? Of course Connor punched the guy.\n",
            "                > The amount of khabib fan boys down voting are hilarious \n",
            "        > 💯 \n",
            "        > Well.. in all fairness someone pulled Connor back into the ring. He turns around and sees that white fuzzy hat, shits already crazy, I woulda swung too. \n",
            "\n",
            "Either way. 3 guys sucker punching him isn't cool. I don't care who the fighter is. Getting sucker punched isn't cool\n",
            "        > Woah... So Khabib’s boys were just acting out in “self-defence” then. I really hope Dana sees this, as he said that if any of those guys have contract with the UFC that they won’t be allowed to fight. \n",
            "            > Yeah fuck those guys. I would just sit on that contract and not let them fight anyone or get out of their contract\n",
            "                > Na, i would discipline conor for starting a second brawl \n",
            "            > Hence the fact Conor didn't press charges. He was guilty. \n",
            "                > Exactly what I thought. If he would’ve pressed charges, they would’ve reviewed the footage as evidence and Conor would’ve got fucked. \n",
            "        > This needs its own post/thread\n",
            "\n",
            "        > I'm glad people are putting these together.  I'd eventually like to see a slow motion second by second identification of who is hitting who.\n",
            "    > Yeah I loved the whole thing but that dude sucker punching Conor pissed me off, I wish they had just let Conor have two seconds with the dude as repayment before they broke it up.\n",
            "        > Buuuut Conor sucker punched a guy 2 seconds before that..... How is that ok? \n",
            "            > Do you know what a sucker punch is?\n",
            "                > Yes like when you're trying to hop a cage to stop a fight and Conor McGregor punches you when you're not looking... Thats a sucker punch. \n",
            "    > Do people not remember McGregor's teammate being cornered by Khabib's team which led to the bus incident? Not that Conor was in the right there, far from it, but he didn't just go crazy and attack a bus. \n",
            "    > I just heard Dana saying that they were released because Conor doesn't want to press charges\n",
            "    > they were released because conor didnt want to press charges.\n",
            "    > The first one looked like he was going over the cage to get khabib. Then conor punched him first, and he punched back. \n",
            "\n",
            "Maybe different angles than I've seen would show something different.\n",
            "\n",
            "    > conor talked some epic shit, if conor just assumes his opponent isn't taking it seriously, imo, what does conor expect if his opponent and that team want to fuck him up?\n",
            "> Very uncharacteristic of Khabib though. Don't think anyone would have predicted he would explode like that after the fight was over.\n",
            "    > I know I for one will never think of him as humble ever again.\n",
            "        > Defending one's honor doesn't necessarily have much to do with whether or not someone is a generally humble person.  You can be humble as fuck but if someone talks mad shit about your parents, your country, and your friends... you can also aggressively defend their honor.  Those things are not mutually exclusive.  \n",
            "            > It doesn't justify violence though. This is stuff we learn in primary school. Most of us don't even get to face off with our aggressors in the ring, but that wasn't enough for Khabib apparently.\n",
            "                > There is a legal justification for when words justify a violent response.  In law, those would technically be called \"fighting words\" and I daresay that the standard will be different for different people in different time and different place.  If you're saying shit that could reasonable cause violent repercussions in someone's actual life (like questioning someone's patriotism and religion from a war-torn country)... again, that person may not be as tolerant about shit talk as someone who is safe a comfortable in the suburbs of America.  \n",
            "                    > Fighting words are an offense in themselves, not by definition a legal justification for other offences. But I think real threats of violence can count as assault, allowing self-defence in those cases (in Aus as far as I know, but I'm not planning to test my knowledge!). Even granting that, Khabib already fought and beat the guy who said all those things. Thinking about his situation though, I can see that maybe getting himself into trouble here might save him greater trouble RE questions over loyalty to his country etc. I know very little about that situation though. Outside of that, it seems like Khabib let McGregor's words ruin his victory.\n",
            "                        > &gt; Fighting words are an offense in themselves, not by definition a legal justification for other offences.\n",
            "\n",
            "This is incorrect.  \"Fighting words\" do serve as a legal defense and justification for physically attacking someone.  If, for example, I come up to you in a bar and start saying things like \"I'm gonna kick your ass and kick your girlfriends ass (and so on)\" that would, generally speaking, be an effective defense if you consequently swung on me and if my statements were heard by others or recorded.    \n",
            "\n",
            "&gt; Thinking about his situation though, I can see that maybe getting himself into trouble here might save him greater trouble RE questions over loyalty to his country etc.\n",
            "\n",
            "Yes, exactly.  \n",
            "\n",
            "&gt; Outside of that, it seems like Khabib let McGregor's words ruin his victory.\n",
            "\n",
            "It didn't ruin the victory for me.  Tempers were running hot and adrenaline was flowing.  He was just showing that he wasn't gonna take any shit.  And it really wasn't much of an attack outside the ring.  As for what happened in the ring... Conor swung on that guy first and then the other guy came to his defense.  I don't hold that against Khabib or, really, even his crew.  \n",
            "                            > I can't find anything online to support this idea of fighting words. 'Fighting words' as far as I can see, is just an exception to free speech. The most famous case is [this one](https://en.wikipedia.org/wiki/Chaplinsky_v._New_Hampshire), a case where one man called another a 'racketeer' and a 'fascist'. There was no actual fight, but he was arrested for saying these things. In his appeal the first man (Chaplinsky) cited his constitutional right to free speech, but the court ruled that his 'fighting words' made his arrest legal.\n",
            "\n",
            "The 'fighting words' you suggested would be threats anyway, which I talked about in the comment before. As for ruining his victory, I fear it may be actually ruined (i.e., officially)\n",
            "                                > **Chaplinsky v. New Hampshire**\n",
            "\n",
            "Chaplinsky v. New Hampshire, 315 U.S. 568 (1942), is a United States Supreme Court case in which the Court articulated the fighting words doctrine, a limitation of the First Amendment's guarantee of freedom of speech.\n",
            "\n",
            "***\n",
            "\n",
            "^[ [^PM](https://www.reddit.com/message/compose?to=kittens_from_space) ^| [^Exclude ^me](https://reddit.com/message/compose?to=WikiTextBot&amp;message=Excludeme&amp;subject=Excludeme) ^| [^Exclude ^from ^subreddit](https://np.reddit.com/r/ufc/about/banned) ^| [^FAQ ^/ ^Information](https://np.reddit.com/r/WikiTextBot/wiki/index) ^| [^Source](https://github.com/kittenswolf/WikiTextBot)   ^]\n",
            "^Downvote ^to ^remove ^| ^v0.28\n",
            "                                > * https://en.wikipedia.org/wiki/Provocation_(legal)\n",
            "        > Hypocrite.\n",
            "    > I did. Because every human has a limit. Disgusting vetbal abuse and an actual physical attack and yes, the best of us will start wishing death upon you.\n",
            "\n",
            "Theres a reason that america has such a high amount of school shootings because verbal abuse and fake showmanship is admired and ignored and if the victim fights back hes the one arrested. So these people develop mental illness and eventually resort.to killing.ppl.\n",
            "\n",
            "If you teach ppl to be respectful and punish abusers and look down on them then it gets stomped out real quick. Some loud mouthed douche getting punched in the face a few times is not going to hurt anything except the bullies' ego \n",
            "> &gt;Unprofessional ?sure . Surprising ? Nope. \n",
            "\n",
            "wat\n",
            "> Khabib shouldn't have been a little bitch and surrounded Artom.  Learn to be tough on your own instead of in a group\n",
            "    > &gt;Learn to be tough on your own instead of in a group\n",
            "\n",
            "Kind of hard to say the guy that just beat McGregor isn't already tough.\n",
            "        > Not tough enough to walk up to the GOAT on his own and slap him.  Had to have his crew there so he'd feel nice and secure\n",
            "            > Would love to know your definition of \"not tough enough\" considering he jumped right into Conor's group alone immediately after a grueling 4 round fight.\n",
            "        > But it's like I keep saying... ***KHABIB'S CHIN STILL HASN'T BEEN TESTED!***\n",
            "    > He literally destroyed him on his own, you retard. Conor had a chance to kill him like he claimed he would but instead he got embarrassed, yet again. \n",
            "        > Then why was he so afraid to confront Artom on his own?\n",
            "> Conor stirs up so much crap, bound to happen. \n",
            "> What exactly did Conor say in the build up that wound him up so much? Hearing stuff about Khabibs Dad / religion etc\n",
            "    > At one point he said his dad is a traitor, that Dagestanis have glass jaws, his dad was a pussy, a terrorist, he'd kill him, if he got out of the van, he'd have murdered him, I remember he mocked his religion by drinking and making a show of it and using fake Arabic and shit\n",
            "        > Khabib's dad posted a picture with Ramzan Kadyrov, the current Chechen leader and war criminal who's in the process of imprisoning and killing members of the LGBT community in Russia, with the caption \"Stronger together\" or some shit like that. McGregor called his dad a coward for that which honestly is very mild compared to what he deserves for willingly associating himself with such a vile human being like Kadyrov. \n",
            "\n",
            "Although the rest of the stuff was definitely taking it too far, specially about threatening Khabib's life and mocking his religion.  \n",
            "            > \"willingly\"\n",
            "> Not to mention his team calling Khabib a terrorist and making jokes at his religion. \n",
            "    > It doesn’t matter , words are words . If you can’t take it you shouldn’t be in ufc.\n",
            "        > Talk shit domt cry if you get hit\n",
            "    > What Khabib did was so hypocritical in respect to his religion. \n",
            "        > Yes it was but hes also a human. What do u expect him to do? Hes also from a different culture where respect is expected and whoever disrespects first is going to be destroyed because that is how you teach an ill mannered ape. \n",
            "\n",
            "If he's religious it doesnt mean he needs to be perfect and held accountable for every minor mistake while some dude who is clearly sleazy and mannerless is forgiven for everything. \n",
            "\n",
            "If you think youd do any different aftet some.guy is giving you death threats, attavked you on a team bus, constantly attavks your religion, culture and family then either you are a liar or you will soon be needing pills for depression. \n",
            "\n",
            "We make such a big deal about suicidal people and cyber bullying and what not when it happens to an american, but nobody is willing to call out the cultural problems that fuel all these issues.\n",
            "            > &gt;If he's religious it doesnt mean he needs to be perfect and held accountable for every minor mistake while some dude who is clearly sleazy and mannerless is forgiven for everything. \n",
            "&gt;\n",
            "\n",
            "If Islam is real,  yes he does.  It's s religion of works,  not belief.  Don't confuse it with cafeteria Christianity. \n",
            "\n",
            "\n",
            "            > it's part of the show. if you can't handle that you have zero business in the sport. you might be able to physically win or even kill the guy, but you do not deserve to have a career.\n",
            "            > &gt;What do u expect him to do?\n",
            "\n",
            "I expected him to be chill like he's been in the whole lead-up to the fight. Instead he showed he's more like McGregor than he'd like to believe\n",
            "                > Really? Youre equating a man that silently took it for so long then finally cracked vs. A guy that just spews vitriol and trash for money, unprovoked. Every man worth his salt is not going to take that many insults and even a physical attack lightly. \n",
            "\n",
            "If anyone ever talks mad shit and tries to make you feel worthless and then u beat him in a fight, you can bet youll want to kick his face in while hes lying down just so he knows his place.\n",
            "                    > I'm sure I would want to, but I hope that I wouldn't, just because I don't think it's an honourable thing to do. I hope I'd want more to be the better man. In my mind that's the real victory.\n",
            "\n",
            "If I were fighting McGregor I'd know to expect this treatment from him. It's part of his game and it's part of the business too. See him vs Mayweather despite them being obvious mates. But the physical attack is another matter, that is true. That should have been dealt with better at the time.\n",
            "                        > If my friend starts roasting me, i know its friendly banter. If some random guy i barely know starts going apeshit my reaction would be much different. \n",
            "\n",
            "You can hope you wouldnt but most people in the same position would, the only thing stopping them is not honor but fear of repercussions. \n",
            "\n",
            "In the heat of the moment peoolr do many thijgd they dont expect \n",
            "                            > You're right in all those things. The way I see it is that all of this verbal abuse is what people expect from McGregor (I mean, not some random) and the sport itself. I wouldn't be surprised if they were slinging insults back in the days of the gladiators. McGregor doesn't actually hate most of his opponents and I'm fairly sure he didn't really hate Khabib, even though he tried to push every button he could. But Khabib let it get him. It looked like it was washing off him like water off a duck's back, and I was impressed. But actually he was bottling it up. The way he broke was very human, by which I mean 'understandable' but also 'flawed'.\n",
            "                                > Thing is ignoring auch antics is not possible. If he was just talking trash, then sure maybe. But when he threw a dolly into the damn bus idk that probably took it to a point where khabib just had enough. \n",
            "\n",
            "People.might give.props to.mcgregor for this but tbh its very easy to push someone to the point of hating you if you know there are no repercussions. \n",
            "\n",
            "If I theow a molotov cocktail into your yard after insulting you and your family, you report.it and i get a slap.on the wrist and no real penalties, you are left with no.options. \n",
            "\n",
            "When people tell others to \"just ignore\" bullies and they go away, that is the worst advice ever, they just escalate until you do.smth and will then cry foul when they get beat. Or cause you to back yourself into a wall and.live in constant fear. \n",
            "\n",
            "The only way to stop them is to make.sure they feel threatened if they mess with you. Either legally or physically. Legally, nobody was helping khabib, everyone was egging on conor and applauding him for his criminal act. That only leaves one option. \n",
            "\n",
            "Furthermore, i think the hypocrisy shown where.people were.constantly talkimg about khabib as.a criminal, deported, visas etc. Yet when conor committed basically the same exact crime in legal terms, nobody was even talking about.it. you can see how that looks like just too.much bias and hypocrisy to any outsider. \n",
            "\n",
            "I dont even know why a sport that wants to be taken seriously allows swearing and childish insults in the press conference. If the guy wants to swear let him use his twitter.or.smth, the official sporting events should carry some semblance of.professionalism.\n",
            "                                    > I'm not on Conor's side here. It's pretty clear that he prefers the money and the fighting and is happy to ruin relationships for the sake of that. The bus attack was over the line and should have been dealt with better. That was in April though, so Khabib's action is not exactly self-defence.\n",
            "\n",
            "In the pressers he looked very civilised next to McGregor who was going on like a barbarian. Then he beat McGregor thoroughly. If he'd left it there we'd be going on right now about what a class act Khabib is and how McGregor was all bark. There probably wouldn't be calls for a rematch. People would just say McGregor is done. Instead we've got more of this beef - think about this - more of this childish to-and-fro. All of this idiocy that Khabib hates so much, he made it *worse*. And McGregor is very happy about it, I'm sure. So I don't agree that jumping out of the ring to fight the audience was Khabib's only option. In fact it was a pretty bad option, if he'd had enough of McGregor.\n",
            "                                        > Obviously, it was a very dumb move by khabib, but from his position it felt like the best option. Couple that with the fact that in eastern culture, honor is a huge thing, more than money and life. If someone insults another they most.likely will end up in a fight and there will be no consequences unless the defender has more people on his side. And EVEN THEN there are kids I've seen with very rich and powerful fathers that get beat up for being jerks and when all is explained their dads will beat their son even more for being a dick rather than help their son out unless he was beaten to death or.smth. \n",
            "\n",
            "One guy was once bothering me while i was shopping and he started pushing me so i just smacked the hell out of him. My dad was told that i was swearing at the kid and i ended up getting beat until i finally managed.to xonvince him I did no such thing. \n",
            "\n",
            "If you keep that in mind, then you realize that if what connor did seems overboard to a western person, it is 10x more.to a person from an eastern region. \n",
            "\n",
            "Im not saying it was the right thing to do, it was incredibly stupid, but calling khabib a cunt for doing that is wrong, an idiot sure, but not some crimimal, villain who is barbaric that is just unfair and hypocritical.\n",
            "        > no, it's exactly in line with his religion.  \n",
            "            > Agreed, but they will deny deny deny.  \n",
            "        > Christ, I’m so tired of this “We skinheads will behave however we want, while all *you* minorities have to sit in the corner like good little boys” bullshit\n",
            "\n",
            "*Fuck* all that: talk shit, get hit. Even an orange beard can’t save any leprechauns from a fucking Cain Velasquez-approved overhand right\n",
            "            > Khabib is a white Muslim.  Lol\n",
            "    > There was a Khabib team member who was literally part of a terrorist cell.\n",
            "        > OMG, you have the information the government would love to have!!!11! Idiot.\n",
            "            > Dude you're an idiot. Google shit for yourself and you can see all the stuff about khabib's manager, Ali Abdelaziz. There is so much shady stuff you will find out\n",
            "    > Dude, does no one actually realise Ali Abdelaziz was part of a terrorist group? He's trash.\n",
            "        > That just isn’t true at all. Like 0 percent true. \n",
            "    > so what? fuck everyone's religion. nothing is off limits. it's showmanship. i can see if people were like \"after the bus attack this is what you get\", but saying oh you can't insult xyz. yes you can and if someone retaliates outside of the fight that is called a *crime*\n",
            "> Lets not forget the reason McGregor threw the dolly was because Khabib assaulted one of his team mates. (Something like that at least). I'm not saying what McGregor did was right either but still.\n",
            "\n",
            "And you've literally not even mentioned that and just focus on words. Trash talk is vicious in combat sports but it's all just talk.\n",
            "    > Thank ufc for building up this “Bad Blood” and Dana for allowing Conor to verbally take it to very personal level and smile about it . \n",
            "    > Khabib didn't do shit to Armin or whatever the fuck that no name fighter was. He basically told Armin to fuck off and Connor got butthurt.\n",
            "        > Artem, but you're right.   \n",
            "Artem went on livestream (in russian) saying Khabib is a pussy &amp; overrated. Khabib confronts Artem who shits his pants saying he didn't say anything. Khabib bitch slaps Artem tell him to stop running his mouth.   \n",
            "\n",
            "\n",
            "Conor throws a fucking dolly at a bus... \n",
            "            > Wow lol. Never knew this whole story\n",
            "    > Let's not forget something you can't even really remember!\n",
            "> Well the buss incident cost Mcgregor lots of $.\n",
            "\n",
            "Gonna be same for khabib here no one cares if beef is real or not.\n",
            "\n",
            "Hell be fined sued and whatever banned from ufc for a while.\n",
            "\n",
            "And since he Dosnt bring in Mcgregor numbers, Dana won't give a fuck about bringing him back \n",
            "    > He will now. 100 percent new heel\n",
            "        > Yeah, that stunt after the fight made Khabib a lot more money than if they'd just shook hands, thanked God, and talked about potential challengers in the future.  This level of drama is what will draw in more interest.  \n",
            "\n",
            "Also... we don't really get to see much of Khabib's \"vicious attack\" outside the ring.  When you're dealing with millions and millions of dollars at play, sometimes it can be advantageous to put on a show and do something naughty that will get you more attention.  He'll probably be fined, but they'll definitely want him to fight again and if he's somehow banned from fighting in the USA (which I doubt would be permanent [if it happens at all]) then he'll defend the title in Russia... and make a fuckton of money in the process.      \n",
            "            > A reporter just said that UFC 229, Khabib, and Conor are the top subjects on Twitter.\n",
            "            > I also think it's genuine rage and not a stunt. I don't think either fighter goes in thinking what they will do after the fight, let alone a brawl like this. Their focus is 110% on the fight\n",
            "            > He wouldn't be banned from fighting in the US -- Nevada maybe.\n",
            "\n",
            "Now, if there are legal issues he could have his visa revoked and not be able to travel to the US, but that seems unlikely to me at this point.\n",
            "> The thing is that this would've had way worse repercussions. He could have started a riot and he practically started a mob fight. Shit's going crazy in vegas right now cuz of him. \n",
            "\n",
            "The bus shit was stupid, but at the end of the day in my eyes, this is worse because of what it could haev incited\n",
            "    > Not “could have” incited. “Has” incited. \n",
            "    > In fairness, it's near-certain there would have been riots in Vegas regardless. If Khabib had stayed in the ring, taken the belt, shouted \"Fuck you, McNuggets!\" into Joe Rogan's microphone, and then gone back to his hotel room and gone to sleep peacefully, nothing would have changed for the enormous crowd of very angry, very drunk, psyched up fans.\n",
            "        > Well that's just speculation. I'm not saying this wouldn't have happened, but I can speculate that Khabib doing that caused fans to be way more aggresive towards eachother. I guarentee you what happened outside in the concourse wouldn't have been as serious if he didn't do that.\n",
            "        > &gt; it's near-certain there would have been riots in Vegas regardless\n",
            "\n",
            "bullshit\n",
            "    > At least recognize both fighters are responsible for what’s happening post fight. \n",
            "Everyone is not this stupidly jacked up if Mac doesn’t start this drama weeks ago. Not saying it’s his fault, but he’s just as much responsible for the shitstorm.\n",
            "        > Words get said in fights and you have to be able to handle that shit. I'm not saying Conor doesn't have a hand in this, but if we go down that route then Khabib shouldn't have cornered Artem. It's all semantics, but at the end of the day Khabib is an adult and a professional. He should know better. \n",
            "            > Agreed. As should have Conner w the bus incident.\n",
            "\n",
            "                > Yeah, I dont disagree\n",
            "    > Yes, injuring a bunch of fighters w/ PPV fights is no big deal. Hypocrite. \n",
            "        > &gt;injuring a bunch\n",
            "\n",
            "more like 2 \n",
            "\n",
            "Starting a riot that could injure dozens of spectators if not more. We can already see it right now but all the shit being uploaded. \n",
            "\n",
            "It's orders of magnitude \n",
            "            > Calm your tits. No riots have been reported and it's almost 1AM. \n",
            "                > Lmao well certainly fights have broken out and I bet more than 2 people have been more seriously injured and more damage has been done than the bus incident. There's a difference between insulting 1 person and insulting 100...\n",
            "                    > So a usual Saturday night in Vegas? Color me surprised. You guys are a bunch of self-righteous hypocrites. XD\n",
            "                        > And you can't understand the scale of the actions. How many people got into fights as a direct result of those actions? By that idiotic logic, how many people get injured on buses in New York per day\n",
            "                            > Happens after every fight. This must be the first fight you're following, LOL. \n",
            "                                > Lol, hmmm khabib jumping into the crowd and starting a fight. Pretty sure that injured more then two people. What do I know, I only use logic\n",
            "                            > Oh btw, you're a hypocrite. If i didn't mention that yet. Cheers!\n",
            "                                > oh btw, did I ever say Conor didn't do anything wrong? Do you even know waht hypocrite means? LOL\n",
            "> At least a bomb didn't go off.\n",
            "> Conor hyped up the fight and did his job . All beef should’ve ended in that octagon. What Khabib did was unprofessional and disgraceful. He should be banned.\n",
            "    > Conor = Throws a hammer and injures two random fighters, disrespects family and religion\n",
            "\n",
            "Khabib = Fights a trainer and crew attacks McGregor\n",
            "\n",
            "And you have the audacity to say  McGregor didn’t do anything but Khabib is unprofessional?\n",
            "    > That has to be the dumbest shit I've read about this lmaoo\n",
            "    > You are delusional. Sure you may not care that Connor ruined 2 cards by throwing a dolly through a bus window or slapped a ref or told Khabib that he would actually try to kill him if he stepped off that bus or constantly talked shit about his family and religion but anyone worth their salt would be livid.\n",
            "        > Here’s the difference. Conor’s fan base is much larger than khabibs. Conor will always be making more money than khabib. The fact that he had his little outburst after the fight just ruined any chance for him to advance in UFC. So I’m the end it doesn’t matter .\n",
            "    > The ability to speak does not make you intelligent. Now get outta here\n",
            "        > I mean , we all evolved from primates . So the fact that any human being can speak is pretty damn impressive. Now, you and I may disagree but saying I’m not intelligent is kinda weird especially with a name like EpikHigh420..... but I’m not gonna judge . \n",
            "    > Hyping the fight by insulting his culture, heritage, family, AND Religion?? RIGHHHHHHHHTTT. \n",
            "        > This is Conor . He insults every aspect of the person he’s fighting . This isn’t new , you’re acting like trash talking doesn’t exist. Get real.\n",
            "        > I reckon aye LOL this idiots lost the plot. You can hype a game without doing this. \n",
            "Go suck on McGregor's nuts if u think Khabib needs to be banned. I mean you're probably already sucking on his dick but stilk\n",
            "> Im just glad there was no handshake afterward. I hate when fighters pretend there's a real beef and then are buddy buddy after the fight is over.\n",
            "    > You just have to realize most of it is fake ass shit anyway. This was a real fucking beef.\n",
            "        > Amd thats what I, for lack of a better term, admire about this particular situation. I hate it when the fight is pumped up as a grudge match where the fighters have such disdain for each other, then after the fight is over, it's like they were always friends. \n",
            "\n",
            "It all comes down to the way the fight is promoted in my mind I guess.\n",
            "    > that buddy buddy is sportsmanship lol\n",
            "    > On the flipside, kicking each other’s ass often grows newfound respect in people\n",
            "> Amen.  Connor is a joke now\n",
            "    > You might even say that he's a punchline.  \n",
            "        > Christ almighty, that overhand right.\n",
            "\n",
            "Conor spoke Arabic for a second there\n",
            "    > Yeah the first double champion in UFC history is a joke.\n",
            "        > A real champ defends his belts. \n",
            "            > Yeah I hear you, this fight should have happened 2 years ago. However, he was still a double champion at one point.\n",
            "                > He never defended any of the 4 pro titles he's held.\n",
            "                    > Ok... how are you not getting what I am saying. He should have defended it when he had it. But the fact still holds. Conor Mcgregor was the first double champion in UFC history...\n",
            "                        > A champion defends his titles, he won 2 belts and never defended them. He was the first person to win 2 belts consecutively, call him a former champion if you want to but I don't believe that is an accurate adjective for conor McGregor.\n",
            "\n",
            "Let's not even talk about the sheer disrespect to khabib by Dana for letting him prance around with those paper belts at the pressers...\n",
            "                            > Listen I am a fan of Conors. But this fight and everything as far back as barclays has been an absolute disgrace. He brought much needed money and views to the ufc with his brand of shit talking. But There is shit talking and then there are personal attacks. Conor went too far this time and Dana and the ufc are partly to blame. Khabib was an absolute professional through it all until the end there and i cant blame him for what he did, but he did it. I hope they don't go too hard on Khabib. I believe Conor and White need to go home and meditate on what they want for the future of their names and their brands. I hope that this event will be looked back on as a turning point in the ufc.\n",
            "                            > He should have defended his titles or atleast one of them. Im hoping he takes this fight as a lesson and realizes he needs to focus on this and not bs ventures like the mayweather fight. Money is great but his legacy is not solidified yet. He doesnt deserve a rematch. He should be made work for it again.\n",
            "                                > I agree he needs to put that work in, the UFC fed him Alvarez who was already a good fight for conor on paper. He needs to get in with the killers at 55 if he wants to be in goat contention. As it stands I'd say khabib is #2 or #3 p4p right now and could be in the goat conversation with a win over ferg plus one more named fight (Diaz? Or am I crazy)\n",
            "                                    > I think diaz v. Khabib would be one for the ages.\n",
            "> Conner thought this was Drake vs Pusha T when it was really Tupac vs Biggie\n",
            "> English speaking boys dont realize rest of the world does not joke about fucking your mom and sister .\n",
            "\n",
            "Words are not just words .\n",
            "\n",
            "It will come back at you either today or tomorrow.\n",
            "\n",
            " \n",
            "\n",
            "    > English speaking people also don’t keep them in ninja outfits and beat them for trying to read or *go to school*\n",
            "\n",
            "You can fuck right off.\n",
            "        > Lol such an ignorant and wrong view. Theres so many women in school in muslim countries but people highlight what happens in villages or war torn areas. Its like generalizimg that all americans are school shooters or child molesters. Its fucking stupid and generates hate when nobody has actually wronged you \n",
            "            > \"so many\"\n",
            "not good enough. all of ours do.\n",
            "                > lmao what about your president groping children? You’re not in any moral high ground lol\n",
            "                    > the islamic prophet was a paedophile.\n",
            "                    > our president is a piece of shit and does a lot of shitty things but i do not believe groping children is one of them lol \n",
            "                        > Then I suggest you look into the children beauty pageants your president hosted where he would walk into their changing rooms.\n",
            "        > You’re reading what you wanted this guy to say, not what he actually said. Calm down and stop looking so hard for reasons to be hateful. \n",
            "    > Seems like the non English speaking boy doesn’t understand there’s laws and order in 1st world country \n",
            "        > In your first world country there is laws and orders for some people and not for other .\n",
            "Some get away some dont .\n",
            "Your president rapes women\n",
            "Along with supreme court.\n",
            "Lol LAWS AND ORDERS MOTHERFUCKER\n",
            "            > Rekt\n",
            "            > our president is a shitbag. doesn't mean that someone else being a shitbag is ok in the context of a sport. you want to be a criminal? you can, but you shouldn't keep your freedom or get to have a career as a professional athlete.\n",
            "                > What about conor and his thugs attacking a bus full of fighters? Get off conors nutsack.\n",
            "                    > off his nutsack? i hate him and loved watching his bitch ass get tapped. doesn't mean what khabib did wasn't wrong and doesn't mean mcgregor shouldn't have gotten more punishment.\n",
            "            > Good thing we need evidence. Bye kabob go back to your war torn country. \n",
            "                > Hahahahha\n",
            "Go play lol keyboard boy\n",
            "                    > Facts. O’Connor got more money, gained more fans and sympathy. Kabob won the fight but lose the battle. No self control probably loss kabob his future in the UFC. Kabob should know this isn’t some war torn country that he can just attack people without consequences \n",
            "                        > Bro you are so full of anger lolol.\n",
            "Idk what u mean war torn country but u need to chill. \n",
            "                            > Lol I’m not kabob. No anger here. Just stating the obvious. Hope UFC ban kabob for life \n",
            "                                > May i ask what are you ? Where u from ? \n",
            "                                    > Earth\n",
            "                                > You're so mad.\n",
            "                        > How's it feel to that the guy whose dick you're sucking got his shit rekt all four rounds by a \"foreign\" beast?\n",
            "                            > I don’t care tbh. But kabob need to be banned from ufc. \n",
            "            > /murderedbywords\n",
            "        > Tells the guy who doesn't know shit about provoked attack law.\n",
            "            > I googled and now i know.\n",
            "Does not make difference for me tho.\n",
            "There are things more important than the law.\n",
            "Maybe not for you but clearly for some other people.\n",
            "Everyone obeys the law until they reach some point .\n",
            "Nobody wants to break the law but sometimes it happens for some reasons.\n",
            "If you have not reached that point yet dont talk shit. Because things that are important for me are not important for you.\n",
            "Therefore you dont know where are my boundaries.\n",
            "And in this case Conor crossed all the boundaries and get fucked and he would never be able to do what Khabib did . \n",
            "What Khabib talked after the fight is fucking truth.\n",
            "UFC made this shit political and not just fight .\n",
            "You dont get to insult everyone, some people dont want to suck Conors dick .\n",
            "Take it \n",
            "        > Speaking of English, why do the Irish people not use their native tongue, again? 🤔\n",
            "    > What did conor say about mother/sister? \n",
            "        > I mean family\n",
            "    > too bad this is a sport with rules and not a street fight. if words cause you to go criminal, you do not deserve to be in the sport. you might be able to take someone out in the street but you should not have a career if you are willing to become a criminal because someone said words you don't like.\n",
            "        > Really? So you forgot about the bus orrrrr...\n",
            "            > nope, he should have gotten in more trouble for that too\n",
            "    > &gt;the rest of the world \n",
            "\n",
            "I’m fairly certain all of Europe is cool with words being words. I think you mean “the rest of the non-white world”\n",
            "        > Go in easter europe and use words as just words and see what happens\n",
            "            > I know a load of Eastern European lads, mainly poles and Romanians  and they’re fine with brutal trash talk. \n",
            "                > Good for them.\n",
            "Maybe young generation.\n",
            "This is such an absurd lol\n",
            "But alright \n",
            "        > What do you think Eastern Europeans are and what skin color Khabib has you dumb motherfucker.\n",
            "            > Eastern Europeans are sound lads. Stop trying to make them sound so petty and emotionally weak \n",
            "> connor was asking for it anyway so it is expected all hell will break loose\n",
            "> Both of them did unprofessionnal things. Both of them will get schooled by the Nevada whatever commission and in court.\n",
            "\n",
            "But at the end of the day, only one got schooled on the octagon. \n",
            "    > And King Dana gets his shekels.\n",
            "        > Sultan White\n",
            "    > Brilliantly said. This pretty much sums up the shit show we experienced in one sentence.\n",
            "    > No they won't. Conor got paid. Nothing happens to him. Nothing better fucking happen to Khabib.\n",
            "> Damn right I do. :D\n",
            "> Bet everyone forgot when Conor did something similar...\n",
            "\n",
            "https://m.youtube.com/watch?v=MXx8WQPjYpo\n",
            "    > woah, i totally missed this. Put things into perspective, it's all apart of the plan. \n",
            "    > Ofc they did. He's white\n",
            "        > Is Khabib not white...?\n",
            "    > UFC is fucking crazy man.\n",
            "        > That was Conor storming Bellator\n",
            "    > That's show how karma works, honestly. Everything is perfect, Conor pay for what he did, going back, reflect, quit drinking, coke and Dillon Danis, and get back like the one who was before, that everyone love it.\n",
            "\n",
            "Khabib get suspended for a period, going back and reflect as well. Become aware that a true champion act like one, and don't spit and disrespect he's opponents regardless of what are they saying. \n",
            "\n",
            "If he didn't had to pay somehow for this, he's ego would have built much more, and maybe continued to do this and becoming more arrogant.\n",
            "\n",
            "The Univers is never wrong.\n",
            "    > Not comparable\n",
            "> I'd be just as mad after seeing all those fouls by Connor not being called. Lot of emotions. The whole crowd  and ref were against him. I guess for once, Khabib lost his cool.\n",
            "He would've owned them a lot harder if he hadn't started that stupid brawl though.\n",
            "    > exactly, he tarninshed absolutely destroying him. that was the best revenge. this is like if someone showed up to fight tyson in his prime but instead just shot him in the ring. ok, you may have \"won\" but not in a way that accomplishes anything.\n",
            "        > Such a stupid analogy.\n",
            "\n",
            "More like - ‘he destroyed Tyson’\n",
            "\n",
            "Period. \n",
            "\n",
            "    > Watching how the ref ignored Conor grabbing the fence 4+ times and grabbing Khabib's gloves, I can totally understand that he would be frustrated as hell. If action is taken against Khabib, there should also be action taken against Conor for not only his illegal actions, but punching Khabib's brother without provocation. That's the only way it would be fair. \n",
            "> I like Conor because he’s a great entertainer. But damn was it satisfying seeing him eat his words in that cage. He got absolutely mauled, just like the grizzlies Khabib used to spar with. \n",
            "    > i \"hate\" him but i realize he is an actor. that said he went way too far with the bus thing. still doesn't make what khabib did ok. i can see how it happened, but it still isn't justified.\n",
            "> They are even now\n",
            "> Conor also brough the UFC to another level you dumb cunt.  \n",
            "> Conor definitely won at the mental game. He just lost badly in the fight game. I would think that making Conor of all people tap and getting your wrist held up, that belt, and that big fat payday would be enough. That being said, these guys trade fists for a payday. Doesn't attract the most charismatic of people.\n",
            "    > Nope. He lost both actually.\n",
            "> i can't understand what you're trying to say\n",
            "    > Maybe try a little harder? \n",
            "> Dude those Russians take that shit seriously. Whether Conor was being a showman or not, don't insult Russians. They take that personally.\n",
            "    > Because they're vyrodok\n",
            "    > Yeah and they are actual tough sons of bitches. Not just acts\n",
            "        > Tell that to the dude that got knocked out by Derrick Lewis\n",
            "            > What that guy is not tough? Stepping in the cage with someone like Derrick Lewis is not tough?\n",
            "    > yeah that's true and all but he shouldn't have a career after that\n",
            "    > no, Russians like Volkov have discipline and understand rule of law and decent behaviour.  Kebab is just an animal.  islam did this, don't blame russia\n",
            "        > Welp, you sound ignorant as fuck.\n",
            "> Two wrongs don't make a right....We said Conor was wrong for doing the bus shtick - he was in court and faced penalties. And today, \n",
            "Khabib is clearly in the wrong.\n",
            "    > Yeah but nobody is talking about visas and taking away titles when it comes to connor \n",
            "        > Exactly.\n",
            "> Conor got destroyed!!! Just like all of his other opponents. I’m obviously a huge Khabib fan, but it still hurt to see him jump out of that cage and go after Dillon like that. He deserves the win on his record, but he should definitely be fined and suspended for some time for this. And for his teammates who assaulted Conor, they deserve to be in jail. That was way too far\n",
            "> just proves that the insults to khabib and his family and his people are just correct, uncivlised people\n",
            "\n",
            "&amp;#x200B;\n",
            "\n",
            "Edit:  \n",
            "\n",
            "&amp;#x200B;\n",
            "\n",
            "[https://www.fuqrafiles.com/knowledgebase/nypd-informant-ali-abdel-aziz/](https://www.fuqrafiles.com/knowledgebase/nypd-informant-ali-abdel-aziz/)\n",
            "\n",
            "&amp;#x200B;\n",
            "\n",
            "\" Ali Abdelaziz (alternatively spelled as “Abdel-Aziz” or “Abdel Aziz”), whose real name is Alaa’eldin (pronounced as “Aladdin”) Ragb Fekry Abdel-Aziz, is an Egyptian-born former member of the Muslims of the Americas (MOA) jihadist cult group. MOA is an alternative name for the Jamaat ul-Fuqra terrorist group led by a radical cleric named Sheikh Mubarak Ali Gilani in Pakistan. \"\n",
            "\n",
            "&amp;#x200B;\n",
            "\n",
            "To call khadid manager a terrorist rat ist not even an insult, ist just a true thing to say if the reality offends you, somethings wrong with you\n",
            "    > I think you might just be a dumb person.\n",
            "        > Nice ad hominem, come back with an argument next time, calling people dumb doesn't make their statement untrue\n",
            "            > Because you are not worth people’s time. Nothing will change your fuckstick views. So why should I or anyone else waste our time and energy conversing with you? \n",
            "                > That's quite an untrue assumption, you don't know me at all, nor do you know my \"fuckstick\" views. I don't even take a side in this whole beef thing. I haven't made up my mind about it completely. And I'm not saying people \"should\" spend their time talking to me. You can if you want. It's just annoying seeing people make valid arguments only for people to upvote some empty logical fallacy that doesn't make any sense at all.\n",
            "                    > &gt; It's just annoying seeing people make valid arguments only for people to upvote some empty logical fallacy that doesn't make any sense at all.\n",
            "\n",
            "Welcome to reddit\n",
            "    > Ali, an egyptian isn't a member of his family you idiot\n",
            "    > Holy fuck how long have you been going down the dipshit rabbit hole?\n",
            "> Right, nothing to do with Khabib slapping Lobov around in that hotel, threatening those around him, beating up his crew in Russian clubs. Khabib is the victim in all this. Both Conor and Khabib have been disrespectful to the UFC for a while now, from the attacks in Russia, to Conor attacking Khabibs bus to tonight. \n",
            "    > &gt;  Both Conor and Khabib have been disrespectful to the UFC for a while now\n",
            "\n",
            "Both Conor and Khabib have made the UFC a fuckton of money.  \n",
            "        > Which is why I believe Dana puts up with their Circus. \n",
            "            > You're right. And fuck Dana. It's so obvious when hes sad over his cash cows losing :'( and it's disgusting how unfair and unequal the treatment is for his obvious favorites versus everyone else.\n",
            "                > Conor got away with so much cheating last night, gripping the fence with his toes for minutes at a time, holding Khabib's glove, a couple punches to the back of his head. Maybe now Conor has damaged his brand enough to put a damper on these shit shows and Dana can act like a leader again.\n",
            "        > And they will in the inevitable rematch, too. When all the shit cools down, I don't doubt for a second there gonna miss the opportunity to milk more money out of this. Fight 2 is gonna be even bigger.\n",
            "> I agree with this. The corner jumping in was too far though. Conor got completely wrecked in there.\n",
            "> Coke fueled rage during the bus incident and liquid courage during the presser.\n",
            "> God Bless You OP.\n",
            " \n",
            "\n",
            "And FOOOOOOOOK CONNOR!\n",
            "> A thug mentality, and whataboutism don't justify what Khabib did.\n",
            "> I understand Khabib has beef with Conor but that doesn’t justify him disrespecting the UFC and Dana White like that. \n",
            "\n",
            "Imagine if Conor got seriously hurt from that sucker punch? Dudes already completely out of it. Those are your boys you are the ringleader you brought them there you’re responsible for their actions in full or at least in part. \n",
            "\n",
            "Take the belt and talk shit on the mic like every other fighter with beef post victory.\n",
            "    > My guess is Khabib doesn’t give a fuck.  He is going home to retire and basically gave the UFC, America and it’s fans a big fuck you.\n",
            "        > I’m sure he gives a fuck that the Nevada Athletic Commission is holding on to his fight check at the moment. \n",
            "> Beef is when your moms ain't safe up in the streets\n",
            "    > beef is when i see you, guaranteed to be in ICU...\n",
            "> Joe Rogan was being dramatic as fuck....\n",
            "> How can you say all the shit Conor said about religion, family, country and personal attacks and just sweep it under the rug of \"Promotion\", Khabib was professional until the very end, he handled every conference in a calm collected manner. Conor was big on personal insults and shit talk...How can you insult a mans father? If Conor lived in Dagestan he would be licking Kadirov's balls 24/7. Conor went above and beyond mentioning shit like Chechna etc. He fully deserves what he got, even the punches from Khabib's teammates were fully deserved. \n",
            "\n",
            "\n",
            "\n",
            "I am very happy that Khabib won, and hopefully this will teach lesson to future shit talkers never to take it that far and keep it strictly in sports.  \n",
            "    > Every fucking person I know is ripping Khabib and treating Conor like a hero even though he's done much worse. It's hypocrisy. Don't come at a man like Khabib with that act and that bullshit and be shocked when Conor is on a receiving end.\n",
            "    > because this is a job. words don't mean a fucking thing. if connor said he couldn't wait to bang khabib's daughter when she turns legal while feeding her bacon it doesn't matter. if you can't handle the trash talking without becoming a criminal you don't belong in the sport.\n",
            "        > &gt;  if connor said he couldn't wait to bang khabib's daughter when she turns legal while feeding her bacon it doesn't matter\n",
            "\n",
            "Job's description is to go out on Octagon and fight. It might not matter to you because of the value system where you were brought up. To you guys it is all just show and you would allow your daughter and religion be insulted for money that you will get after. To other people it is not. Watch what Khabib said post fight. Media fuels the drama to gather larger crowds for fights, only way to make people interested is to make it personal, it is very clever marketing scheme. \n",
            "\n",
            "Not all regions value money above all else. Why is so hard for you to understand?\n",
            "\n",
            "Not everybody is willing to accept personal insults for money and THAT SHOULD NOT BE PART OF THE JOB! You go out on octagon, you fight, you let the best man win, shake hands and go home. Don't use bus attack, personal insults to steer drama for no good reason. Money is not the most valuable thing in the world. How do you not get this? \n",
            "\n",
            "&gt; if you can't handle the trash talking without becoming a criminal you don't belong in the sport.\n",
            "\n",
            "This literally means if you can't be a valueless piece of shit who is willing to sacrifice his honor and integrity for cash you should not participate in the sport.\n",
            "\n",
            "\n",
            "What is the sport changes attitude? What if you do not use hatred to get people engaged into fight? Oh wait then you make less money...\n",
            "\n",
            "\n",
            "\n",
            "            > it's part of the sport whether it should be or not. it's the same deal with wrestling. people want the entertainment side. if he wanted to be a part of the league that is part of it. or he can opt out of it and see if his fighting alone is enough. either way once you cross the line and go to getting physical outside of the ring you aren't worthy of being there. plenty of other people wish they had the opportunity he had.\n",
            "\n",
            "&gt;This literally means if you can't be a valueless piece of shit who is willing to sacrifice his honor and integrity for cash you should not participate in the sport.\n",
            "\n",
            "no it doesn't at all. he can simply ignore it if he wants. he had zero self control, it was pathetic. if words hurt you you're honestly a joke.\n",
            "                > &gt; either way once you cross the line and go to getting physical outside of the ring you aren't worthy of being there\n",
            "\n",
            "What the fuck was McTapMachine doing there after throwing a fucking chair at the bus and injuring people? Or Attacking a referee? \n",
            "                    > oh i agree he was totally out of line and slapped on the wrist there as well\n",
            "        > \"Without becoming a criminal\" oh you must be referring to conor and his irish thugs that attacked a busload of fighters right? And then got off with a slap on the wrist\n",
            "            > im referring to both actually\n",
            "> Best thing about this is it feels authentic. Not some stupid mayweather type fake beef promotion, then lovey dovey shit after the fight. \n",
            "> Even if Khabib is released he’ll still be undefeated so wherever he goes he’ll be making money \n",
            "> Good to know the UFC is becoming less and less professional each event it holds. I don't like unprofessional fighters I like watching people who are dead serious, respectful and good at what they do. Not a bunch of clowns who can't move past their little high school level beefs. Hell honestly neither of them are even top level martial artists just a bunch of UFC fighters making a clown of combat sports. Also to the OP the ufc has got you by the balls your so fucking into this bullshit and to them all they see is $$$.\n",
            "> Khabib basically got revenge on Conor, Conor deserved it and was made to look a bitch. Doesn't make it any less scummy. Both teams are cunts as well so being a neutral it was great entertainment.\n",
            "> well said.\n",
            "> Here's everything Conor was allowed to say about Khabib's Muslim manager who wasnt even a fighter, its absolutely disgusting...\n",
            "\n",
            "Nurmagomedov’s manager, Ali Abdelaziz, is a “\\[expletive\\] snitch terrorist rat,” said McGregor. The Irishman went on to claim that Abdelaziz had been “pulled off a flight” from Cairo to New York on Sept. 11, 2001, and was “caught with five passports in his possession.” Abdelaziz “turned informant and turned on the people he was working with,” McGregor said. “I don’t even know why that man is in this \\[expletive\\] country.” McGregor had previously targeted Abdelaziz during a UFC 229 promotional event last month in New York, [yelling](https://twitter.com/danawhite/status/1042938536096399365), “You terrorist snitch!” at the Egypt native. McGregor added at the time, “I know a lot about you as well, you mad rat. McGregor was referring, at least in part, to reports that Abdelaziz worked several years ago as a government counterterrorism informant. “Don’t ever take information from an informant, but that’s what that man is doing,” McGregor told the assembled crowd of journalists and fans at the Park Theater in Las Vegas. “He’s a rat bastard, and I’m going to get him on Saturday night.”\n",
            "    > I highly recommend everyone to look into Ali Abdelaziz for yourselves. You can find a lot about the guy online, his past is full of very shady stuff.\n",
            "> Ok, I think to me the worst thing Conor did was talk about Putin, and him not being loyal to his president. While I know Conor was just talking smack trying to rile him up, the main issue is that you don't say something like that. Forget religion, forget politics, forget disrespecting his father. What Conor doesn't realize is that Putin is a dictator. He can order to kill anyone he wants; Conor causing this tension between someone like that and Khabib/his family can get them all brutally murdered.\n",
            "\n",
            "&amp;#x200B;\n",
            "\n",
            "If you notice in the post match interview, he specifically mentioned talking to Putin, and that he said he was proud of him, and they're good. This was clearly a point he wanted to stress, meaning it was a critical thing that was brought up in the press conference.\n",
            "    > lol Putin is going to put a hit out on Khabib's family because of something Conor said?? Has everyone in this sub been hit in the head a million times? Jesus\n",
            "        > I’m not telepathic but I’m gonna go ahead on a limb and say you grew up in a western country.\n",
            "            > I wouldn't say I \"grew up\"\n",
            "> Talk shit, get hit.\n",
            "    > Unless you're Mayweather. Talk shit, make millions\n",
            "> Retards like OP seem to forget everyone shit on McGregor for the bus thing.\n",
            "    > Not nearly enough. And now people are trying to act like khabib jumping the fence is so much worse. Give me a fuckin break.\n",
            "> I don’t mind Khabib jumping the ring to start a fight with a guy who’s fresh but the three guys jumping Connor are fucking dogs. \n",
            "    > Only the red shirt guy is an asshole in this situation for sucker punching McGregor from behind. He's the only one who really should get the lifetime ban imo.\n",
            "\n",
            "The first guy, Khabib's brother, was trying to jump the fence to get to Khabib when McGregor threw a punch at him. So he fought back and was quickly apprehended by security. The 2nd black shirt guy squared up face to face with Conor and both of them threw punches at each other simultaneously.\n",
            "\n",
            "It's only the red shirt guy that's the biggest douchebag from all the angles I've seen. \n",
            "        > Conor swung first.\n",
            "    > Conor swung first. Watch more video.\n",
            "> How's Khabib's glass jaw now Connor? \n",
            "> Just as unsurprising as the suspension that's coming his way\n",
            "> Connor fucked with a real life absolute savage, with real down to ride goons. Say all you want about how it's not the right thing to do, but it was 100% gangster, and 100% khabib and team being real motherfuckers. \n",
            "\n",
            "Ya can't just say whatever you want and skate retaliation forever.\n",
            "\n",
            "Beat the pulp out of him in the ring, and punked him out of it. A+ night for khabib\n",
            "    > 100% real? Like that's something to be admored? To be a mindless animal, boy that really look good for your sport, country, religion. Guess you're right though, khabib and his friends are 100% a real ones. Mindless animals\n",
            "        > khabib could have walked in with a weapon and killed mcgregor in the ring. doesn't make him a \"winner\" or do much for his future prospects. it was so stupid. you already humiliated and outclassed the guy entirely. could have kept talking shit after, called him a bitch and made a mockery of him. he played himself when he had it all locked up.\n",
            "            > Even calling him a bitch and mocking him wouldn't have been a good look. He would've looked better if he simply walked away and ignored him or even gave him a nod to say \"good fight\" (unlikely though cuz their beef was too much.)\n",
            "                > yeah, but it would have been much better than the route he went\n",
            "                    > True. It's just so ugly all around. I hope this all gets sorted out soon.\n",
            "> Everyone remember Zidane? \n",
            "> No, gotta realise the beef is supposed to be fake! Fighters say whatever they need to say to sell the fight, once it's over and everybody gets paid you cut the bullshit. Even if there is real beef, they are still professionals and need to act accordingly. It's all part of the show.  \n",
            "\n",
            "This was amateur hour to be honest.\n",
            "> Hope you get the help you need. Stay blessed.\n",
            "> Khabib still a bitch though. I hope he loses his mma license and visa to enter the country. He made me embarrassed to say i enjoy the sport of mma after his actions post fight. Khabib and his team showed no professionalism. Strip Khabib and hold his purse. Fuck Khabib and fuck his sorry ass feelings. \n",
            "    > But you werent embarrassed by the bus incident? That was 1000 times worse than this.\n",
            "> Well said brother , people are such hypocrites when it comes to there fav players, if they do bad they try to push it under the carpet but when bad happened to there fav player they get so uptight \n",
            "> Russia is a SHITHOLE that is in desperate need of a NUKING asap dear lord let god emperor TRUMP sent forth his MIRV warheads!\n",
            "> As unprofessional and batshit crazy this was, you are talking about a man going out of his own way at any possible moment to belittle and antoganize someone else's entire being as \"justification\" of some base ignorance. This Is America. \n",
            "    > In this case, this is Ireland?\n",
            "        > Yeah. Unfortunately, this is my go to phrase to describe blatant discrimination. \n",
            "> Unprofessional, yes. Did I see it coming? Not necessarily in that context but I knew retaliation for the bus incident had to have been coming, especially after McGregors constant trash talk. It won't be a big deal. Khabib will get a fine, some other discipline will come down for sure, but the publicity it generated will probably lead to a rematch, which means more money for everyone involved, so all sides technically win I guess?\n",
            "> Khabib can no longer take the high ground on morals. He fucked up his reputation \n",
            "> real beef? gtfoh. the situation is a pair of pussys couldn't control their temper tantrums and absolutely wreaked the sport. goodbye to ever having a ufc fight in Vegas again \n",
            "> Well, i honestly think that he should be banned and stripped of his title. Do i expect this to happen no? why? Well cause if they actually thought straight in the ufc they would never had let Connor back into the organisation either after his attack. \n",
            "\n",
            "Khabib fought an awesome match, great plan and executed it lovely. Only round that wasnt his until the win was nr3. I know UFC is well established, but they are a joke of an organization when it comes to making adult decisions regarding suspension and misbehavior only caring about the payout rather then the legitimacy of the sport. \n",
            "\n",
            "&amp;#x200B;\n",
            "\n",
            "Belt should be stripped no questions asked, should not be banned since they didn't really ban Connor. But force him to work to get back his belt.  Unless they do that its a joke.\n",
            "> So what did Connor actually say? \n",
            "    > Look into it\n",
            "        > I'm trying to? That's... why i asked... \n",
            "> I'm not religious, but I am into philosophy/spiritual stuff.  I can see how attacking someone's religion and family can really push someone over the top.\n",
            "\n",
            "Thing is I know connor is a good guy deep inside, I honestly believe he doesn't believe most things he says, but he was really doing it for the show and he went way too far.\n",
            "\n",
            "It's like when people talk over the internet, and take things the wrong way because you are missing so much context. The same thing happened between connor and khabib. Connor said shit which he doesn't believe is serious, and Khabib, english isn't even his first language, took it as a sincere personal attack into his life.\n",
            "> And the ufc even used the bus incident and beef between them to promote the fight! Everyone was talking about how conor had better watch out cos he was upsetting the wrong people. No shit. Kahbib is the wrong person to upset! So are his team. It's no joke they don't take any shit but yet this smack talking escalated and everyone was loving it.\n",
            "\n",
            "Except team Kahbib.\n",
            "\n",
            "This was almost inevitable. I'd have preferred Kahbib to just snap his arm in a kimura but I'm not actually that surprised at what went down and nor will I be surprised if this is not the end of it either. McGregor has talked shit too much and people play it down as \"marketing\" for the fight. Well there are consequences for being a cunt. Insulting someone's livelihood, religion and family is asking for trouble and he got it.\n",
            "\n",
            "I wish Kahbib had not jumped out of the cage. It has tarnished what was a dominant win. Hopefully everything just calms down and they can both get on with their lives. \n",
            "    > It didn’t tarnish the win at all mate, that shit is still pristine\n",
            "\n",
            "It just tarnishes whatever his public-facing UFC persona is supposed to be\n",
            "        > Well, it's a matter of opinion of course and for me, the win would have been sweeter of the mele did not occur. \n",
            "            > Fair enough\n",
            "> The bus incident was way worse than this. So what, the man jumped the cage and Conor got slapped from behind.\n",
            "\n",
            "Conor almost destroyed that UFC event with that incident. Busting up several fighters that had nothing to do with the drama, traumatizing thug Rose, doing real damage to these fighters.\n",
            "\n",
            "It's really crazy to me how different people get treated. Yeah it wouldn't of looked good if Conor jumped the cage but I'm sure he would of mainly gotten praise for it afterwards.\n",
            "\n",
            "Insane.\n",
            "    > Connor being a psycho a few months ago doesn't excuse khabib being a fucking psycho on pay per view. \n",
            "        > Losing your cool and making a split moment's decision directed towards the one person you're mad at is very different from making the conscious decision to gather up 40 people, travel a long ass way and attacking a bus full of innocent people. Now I never called anyone psycho but if you want to do that then pick one because they were not the same thing. \n",
            "    > Thank you. It's sad to see that you're getting downvoted for this too. Too many people are up conors ass, including that bum fuck uncle dana. Everybody acts like him jumping the cage is soooOOoOO crazy and disgusting but conor has done basically the same thing in the past and everyone loved it. Khabib didnt roll on a bus full of fighters with an entire gang of people.\n",
            "\n",
            "I'm so sick of Dana's fake disgust. Only reason he was upset last night was because his cash cow got manhandled.\n",
            "> Khabib should've held the crank after the tap, snapped the scrawny Irish weasels glass jaw and left him limp in the cage. Fuck those fake Mcgregors and let them die like their original cowardly clan. \n",
            "> Who let the Russian in?\n",
            "> How come no one is talking about how the Russians tampered with our elections, Khabib!?\n",
            "> I disagree that Conor was \"asking for it\"... Conor is a master level troll - psychological games are part of elite sports. Khabib was able to handle himself in a ring (almost a surprise considering a lot of his pre-match behaviour was atypical for him) but Conor still got under his skin enough that he's now risked his belt and career. I'd call this match a draw to be honest - it's set up for a massive rematch now. Conor will probably say he planned this all along.\n",
            "> So what? Justifying this more just makes Khabib more of an animal. Connor doing what he did was a piece of shit move but don't act like Khabibs hand was forced or he had no choice. He made his and left an indelible mark on his name. HE fucked up. Anyone preaching otherwise is a troll or a similar meathead animal who probably shouldn't own a firearm or hold power over another individual\n",
            "> in the context of just raw emotion connor *caused* it, but in the context of this being a sport and khabib having a career it just has zero justification.\n",
            "\n",
            "i don't care if khabib had a newborn daughter and connor said he was counting the days until she was legal so he can fuck her on pornhub. it still doesn't make it ok to assault someone outside the context of the sanctioned fight.\n",
            "\n",
            "if he was retiring anyway, i guess it makes sense. but if he wanted any kind of career it's just retarded.\n",
            "    > So you feel more strongly about khabib jumping out of the cage and going after someone, something conor and other fighters have also done in the past, than conor and his stupid posse swarming a bus full of fighters in a parking garage and attacking it like fucking apes?\n",
            "        > &gt;So you feel more strongly about khabib jumping out of the cage and going after someone\n",
            "\n",
            "no, you just made that part up. connor should have received more punishment for that also. they are both fucking douches\n",
            "> To all the pussies saying Khabib is wrong, why don't you go to Ireland and talk trash about their people, their religion and their fathers.  See what happens.\n",
            "\n",
            "The thing is, in every single race IN THE HISTORY OF MANKIND, you insult their country, their religion and their fathers, you get smashed.\n",
            "\n",
            "p.s. If you post a disagreement, please include your race and why they would act differently.  I'll wait.\n",
            "> It's prize fighting. You can say whatever the hell you want leading up to the fight. What you can't do his fight cage side in front of make a wish kids. Khabib should be thankful for the pay per view money Conor gets him because lord knows khabib can't sell a fight on his own. Oh wait, he doesn't get his purse anyways. This didn't take place in a shitty town in dagestan. \n",
            "> Baby Connor was a snack for the Russian Bear\n",
            "    > That overhand right made me smile\n",
            "> Well. Is this supposed to be an actual sport? Or just a bunch of degenerates thinking they are athletes. \n",
            "> Can’t agree more. \n",
            "\n",
            "To be honest I think more punishment should have been provided. \n",
            ">  This is old news, time for Khabib vs Ferg. \n",
            "    > That fight is cursed! *Cursed*, I tell ye!\n",
            "> I realize Khabib tried constantly to come off as the bigger man, humble person who doesn't do stuff exactly as he did last night. He revealed he's absolutely no different and it's all a front. The dickriding retards on both sides need to fuck off\n",
            "    > Nooope, his overall public behavior *far* outshines Conor’s on the humility/civility fronts, as literal years of recorded evidence can attest\n",
            "\n",
            "Nice try, though 👍🏻\n",
            "        > I see you’re a rider\n",
            "> As a Russian, the sad part about this is for you Westerns it's all  show but for us the Kebabs antics are simply what we have to put up with wherever there's Dagis. Many great people from Caucasus but such behavior hits too close home.\n",
            "> It was entirely different. \n",
            "\n",
            "One was in a garage, yes with an audience but eh.... All security and fucking fighters. \n",
            "The other event was actually at a fucking record selling event, inside the fucking crowd, and it was all civilians.\n",
            "\n",
            "I hope that backwards cunt accidently smeshed some random Joe in the face though. Would probably break the average guy's face... But think if the sweet lawsuit. \n",
            "\n",
            "Rip visa.\n",
            "> Conor was every bit promotion. Khabib clearly took the comments at face value.  Cultural thing, and completely out of line by Khabib. He’s lived in the US for over 7 years, assimilate to the culture.\n",
            "> Did anyone catch that conor actually hit the team khabib member first on the fence? Team khabib wasn't even going for conor until he cheap shotted the guy trying to go over the fence. Then he got cheap shotted back and some.\n",
            "    > This fact is regularly ignored by the McNuthuggers, unfortunately\n",
            "> As a fan of neither, real beef doesn't condone being unprofessional. If someone trashed my family, yeah, I'd want to rip the dudes head off and everyone involved in it but you have to look at the consequences to follow. The Nevada Athletic Commission isn't going to look at it as \"oh well, he was just giving Conor what he had coming to him.\" The fact that the Governor of Vegas was there and ran he ran out of the building afterwards is a terrible sign. No doubt about it, Khabib SMASHED him but afterwards was not good. \n",
            "> As a fan of neither, real beef doesn't condone being unprofessional. If someone trashed my family, yeah, I'd want to destroy the dude and everyone involved in it but you have to look at the consequences to follow. The Nevada Athletic Commission isn't going to look at it as \"oh well, he was just giving Conor what he had coming to him.\" The fact that the Governor of Vegas was there and ran he ran out of the building afterwards is a terrible sign. No doubt about it, Khabib SMASHED him but afterwards was not good. \n",
            "> Words are words. It’s another thing to physically attack people. \n",
            "\n",
            "If khabib was as humble as he says he is he would have turned the other cheek. Instead he lashed out like a stupid child. He sunk to McGregors level doing that shit. \n",
            "\n",
            "Fuck both of them. Give Tony the belt.\n",
            "> Beef is when your mom ain’t safe out in the street.\n",
            "\n",
            "Beef is when I see you, guaranteed to be ICU\n",
            "> Conor got off lightly. That's why I'm mad. If I was part of Khabibs team I would've headbutted that asshole\n",
            "> I was team Conor going into this and still am very much team Conor, but the dudes saying Khabib needs to be banned for life are getting a little carried away here. Strip and/or suspend? More than reasonable. But banning the man would be excessive. He's human, he did something extremely stupid but that doesn't have to be the end.\n",
            "\n",
            "Let this all cool down, and they'll fight again when the time is right.\n",
            "> An ass whooping doesnt just appear outta nowhere - Bill Burr.\n",
            "> Conor's lucky he didn't get disappeared.\n",
            "\n"
          ]
        }
      ]
    },
    {
      "cell_type": "code",
      "source": [],
      "metadata": {
        "id": "qTZ3Q2k1x0WX"
      },
      "id": "qTZ3Q2k1x0WX",
      "execution_count": null,
      "outputs": []
    }
  ],
  "metadata": {
    "kernelspec": {
      "display_name": "base",
      "language": "python",
      "name": "python3"
    },
    "language_info": {
      "codemirror_mode": {
        "name": "ipython",
        "version": 3
      },
      "file_extension": ".py",
      "mimetype": "text/x-python",
      "name": "python",
      "nbconvert_exporter": "python",
      "pygments_lexer": "ipython3",
      "version": "3.12.7"
    },
    "colab": {
      "provenance": [],
      "include_colab_link": true
    },
    "widgets": {
      "application/vnd.jupyter.widget-state+json": {}
    }
  },
  "nbformat": 4,
  "nbformat_minor": 5
}